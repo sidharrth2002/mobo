{
 "cells": [
  {
   "cell_type": "code",
   "execution_count": 2,
   "metadata": {},
   "outputs": [],
   "source": [
    "import pandas as pd\n",
    "import os\n",
    "import json"
   ]
  },
  {
   "cell_type": "code",
   "execution_count": 5,
   "metadata": {},
   "outputs": [],
   "source": [
    "results_path = \"/home/sn666/large-scale-data-processing/miniproject/results\"\n",
    "\n",
    "remarks_i_want = [\"maxaccminparam\", \"micaccminloss\", \"minlossminparam\", \"maxaccminlossminparam\"]\n",
    "relevant_experiments = {}\n",
    "\n",
    "for result in os.listdir(results_path):\n",
    "    if os.path.isdir(os.path.join(results_path, result)) == False:\n",
    "        continue\n",
    "    # open the args.json file\n",
    "    with open(os.path.join(results_path, result, \"args.json\"), \"r\") as f:\n",
    "        args = json.load(f)\n",
    "    \n",
    "    if \"remark\" in args and args[\"remark\"] in remarks_i_want:\n",
    "        relevant_experiments[args[\"remark\"]] = result"
   ]
  },
  {
   "cell_type": "code",
   "execution_count": 15,
   "metadata": {},
   "outputs": [
    {
     "name": "stdout",
     "output_type": "stream",
     "text": [
      "Experiment: maxaccminlossminparam, Total time: 16.19195589621862\n",
      "Experiment: maxaccminlossminparam, Best accuracy: 0.9605655670166016\n",
      "Experiment: maxaccminparam, Total time: 25.42074958086014\n",
      "Experiment: maxaccminparam, Best accuracy: 0.9546131491661072\n",
      "Experiment: micaccminloss, Total time: 24.750147140026094\n",
      "Experiment: micaccminloss, Best accuracy: 0.9569830298423768\n",
      "Experiment: minlossminparam, Total time: 30.636387499173484\n",
      "Experiment: minlossminparam, Best accuracy: 0.960069477558136\n"
     ]
    }
   ],
   "source": [
    "for experiment in relevant_experiments:\n",
    "    results_df = pd.read_csv(os.path.join(results_path, relevant_experiments[experiment], \"tuning_results_df.csv\"))\n",
    "    total_time = results_df['time_total_s'].sum()\n",
    "    print(f\"Experiment: {experiment}, Total time: {total_time / 60}\")\n",
    "    print(f\"Experiment: {experiment}, Best accuracy: {results_df['ptl/val_accuracy'].max()}\")"
   ]
  },
  {
   "cell_type": "code",
   "execution_count": 6,
   "metadata": {},
   "outputs": [
    {
     "data": {
      "text/plain": [
       "{'maxaccminlossminparam': '7e8b8fd6db924b6d96d2dbd49ac66243',\n",
       " 'maxaccminparam': '948b5cdabbef4306b36134190bb536e2',\n",
       " 'micaccminloss': '7d7908df79254cbc8f2f2d857e48e102',\n",
       " 'minlossminparam': 'bc6ae72975ca43fab99bf51223d47746'}"
      ]
     },
     "execution_count": 6,
     "metadata": {},
     "output_type": "execute_result"
    }
   ],
   "source": [
    "relevant_experiments"
   ]
  },
  {
   "cell_type": "code",
   "execution_count": 12,
   "metadata": {},
   "outputs": [],
   "source": [
    "exp_path = \"/home/sn666/large-scale-data-processing/miniproject/results/fa0fc67004954505a672abce243651f5/tuning_results_df.csv\"\n",
    "\n",
    "df = pd.read_csv(exp_path)"
   ]
  },
  {
   "cell_type": "code",
   "execution_count": 13,
   "metadata": {},
   "outputs": [
    {
     "data": {
      "text/plain": [
       "Index(['Unnamed: 0', 'ptl/train_loss', 'ptl/train_accuracy', 'ptl/val_loss',\n",
       "       'ptl/val_accuracy', 'ptl/model_params', 'epoch', 'step', 'timestamp',\n",
       "       'checkpoint_dir_name', 'should_checkpoint', 'done',\n",
       "       'training_iteration', 'trial_id', 'date', 'time_this_iter_s',\n",
       "       'time_total_s', 'pid', 'hostname', 'node_ip', 'time_since_restore',\n",
       "       'iterations_since_restore', 'config/layer_1_size',\n",
       "       'config/layer_2_size', 'config/layer_3_size', 'config/dropout',\n",
       "       'config/batch_size', 'config/learning_rate', 'logdir'],\n",
       "      dtype='object')"
      ]
     },
     "execution_count": 13,
     "metadata": {},
     "output_type": "execute_result"
    }
   ],
   "source": [
    "df.columns"
   ]
  },
  {
   "cell_type": "code",
   "execution_count": 14,
   "metadata": {},
   "outputs": [
    {
     "data": {
      "text/plain": [
       "0       1.612234\n",
       "1       2.416968\n",
       "2       2.567759\n",
       "3       1.692087\n",
       "4       2.044811\n",
       "5      12.477144\n",
       "6       2.981579\n",
       "7      12.379710\n",
       "8      13.863917\n",
       "9      12.286338\n",
       "10     12.264361\n",
       "11    108.054820\n",
       "12      1.463883\n",
       "13      1.454283\n",
       "14     76.343006\n",
       "15     81.416552\n",
       "16    103.267424\n",
       "17     95.734978\n",
       "18    108.520681\n",
       "19      2.095678\n",
       "20    112.857211\n",
       "21      1.496494\n",
       "22     98.935167\n",
       "23     80.788909\n",
       "24      2.159046\n",
       "Name: time_this_iter_s, dtype: float64"
      ]
     },
     "execution_count": 14,
     "metadata": {},
     "output_type": "execute_result"
    }
   ],
   "source": [
    "df['time_this_iter_s']"
   ]
  },
  {
   "cell_type": "code",
   "execution_count": 15,
   "metadata": {},
   "outputs": [
    {
     "data": {
      "text/plain": [
       "np.float64(24.657567210992177)"
      ]
     },
     "execution_count": 15,
     "metadata": {},
     "output_type": "execute_result"
    }
   ],
   "source": [
    "df['time_total_s'].sum() / 60"
   ]
  },
  {
   "cell_type": "code",
   "execution_count": 9,
   "metadata": {},
   "outputs": [
    {
     "data": {
      "text/plain": [
       "np.float64(948.2891850471497)"
      ]
     },
     "execution_count": 9,
     "metadata": {},
     "output_type": "execute_result"
    }
   ],
   "source": [
    "df = pd.read_csv(\"/home/sn666/large-scale-data-processing/miniproject/results/fc3d8e4087824bcf971373218e293bed/tuning_results_df.csv\")\n",
    "df[\"time_this_iter_s\"].sum()"
   ]
  },
  {
   "cell_type": "code",
   "execution_count": 10,
   "metadata": {},
   "outputs": [
    {
     "data": {
      "text/plain": [
       "np.float64(1371.190170764923)"
      ]
     },
     "execution_count": 10,
     "metadata": {},
     "output_type": "execute_result"
    }
   ],
   "source": [
    "df[\"time_total_s\"].sum()"
   ]
  },
  {
   "cell_type": "code",
   "execution_count": 17,
   "metadata": {},
   "outputs": [
    {
     "data": {
      "text/plain": [
       "np.float64(30.636387499173484)"
      ]
     },
     "execution_count": 17,
     "metadata": {},
     "output_type": "execute_result"
    }
   ],
   "source": [
    "df2 = pd.read_csv(\"/home/sn666/large-scale-data-processing/miniproject/results/bc6ae72975ca43fab99bf51223d47746/tuning_results_df.csv\")\n",
    "\n",
    "df2[\"time_total_s\"].sum() / 60"
   ]
  },
  {
   "cell_type": "code",
   "execution_count": null,
   "metadata": {},
   "outputs": [],
   "source": []
  }
 ],
 "metadata": {
  "kernelspec": {
   "display_name": "lsdp",
   "language": "python",
   "name": "python3"
  },
  "language_info": {
   "codemirror_mode": {
    "name": "ipython",
    "version": 3
   },
   "file_extension": ".py",
   "mimetype": "text/x-python",
   "name": "python",
   "nbconvert_exporter": "python",
   "pygments_lexer": "ipython3",
   "version": "3.11.11"
  }
 },
 "nbformat": 4,
 "nbformat_minor": 2
}
