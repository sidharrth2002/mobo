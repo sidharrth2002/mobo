{
 "cells": [
  {
   "cell_type": "markdown",
   "metadata": {},
   "source": [
    "# Scaling Multi-Objective Bayesian Optimisation using RayTune\n",
    "\n",
    "This notebook will explore various Multi-Objective Bayesian Optimisation algorithms and evaluate their distributed schedulers for fast, efficient scaling. The task at hand is Neural Architecture Search (NAS), and the following auxiliary frameworks will be used:\n",
    "\n",
    "1. **Ax**: Abstraction on top of the popular BoTorch library\n",
    "2. **Optuna**: Uses tree-structured Parzen Estimator (TPE) for Bayesian optimisation\n",
    "\n",
    "**RayTune** is the scalable optimisation framework that acts as a distributed backbone for these auxiliary algorithms, and helps scale them in distributed environments. The notebook compares their performance on NAS tasks of varying performances, and in particular, probes their scheduling algorithms that control execution and search speed."
   ]
  },
  {
   "cell_type": "code",
   "execution_count": 1,
   "metadata": {},
   "outputs": [],
   "source": [
    "import time\n",
    "import ray\n",
    "from ray import train, tune\n",
    "from ray.tune.schedulers import AsyncHyperBandScheduler\n",
    "from ray.tune.search.optuna import OptunaSearch"
   ]
  },
  {
   "cell_type": "markdown",
   "metadata": {},
   "source": [
    "## Neural Architecture Search (NAS)\n",
    "\n",
    "NAS is a high-level optimisation problem that aims to find the most optimal neural network architecture for specific tasks. Naturally, there are several considerations when designing a neural network, such as the tradeoff between model size and performance and the computational complexity of layers. A large search space requires *multi-objective* optimisation, with Bayesian methods being particularly useful because it is infeasible to train and evaluate every possible architecture. "
   ]
  },
  {
   "cell_type": "markdown",
   "metadata": {},
   "source": [
    "### With Ax"
   ]
  },
  {
   "cell_type": "code",
   "execution_count": 2,
   "metadata": {},
   "outputs": [],
   "source": [
    "from dataclasses import dataclass\n",
    "import tempfile\n",
    "from filelock import FileLock\n",
    "import pytorch_lightning as pl\n",
    "import torch\n",
    "import torch.nn as nn\n",
    "import torch.nn.functional as F\n",
    "from torchvision import transforms\n",
    "from torchvision.datasets import MNIST\n",
    "from torch.utils.data import DataLoader, random_split\n",
    "from ray.train.lightning import (\n",
    "    RayDDPStrategy,\n",
    "    RayLightningEnvironment,\n",
    "    RayTrainReportCallback,\n",
    "    prepare_trainer,\n",
    ")\n",
    "from torchmetrics import Accuracy\n",
    "\n",
    "\n",
    "@dataclass\n",
    "class ModelConfig:\n",
    "    learning_rate: float\n",
    "    batch_size: int\n",
    "    layer_1_size: int\n",
    "    layer_2_size: int\n",
    "    layer_3_size: int\n",
    "    dropout: float\n",
    "\n",
    "\n",
    "class MNISTClassifier(pl.LightningModule):\n",
    "    def __init__(self, config):\n",
    "        super().__init__()\n",
    "        self.config = config\n",
    "\n",
    "        self.accuracy = Accuracy(task=\"multiclass\", num_classes=10, top_k=1)\n",
    "\n",
    "        # model parameters\n",
    "        self.layer1 = nn.Linear(28 * 28, config.layer_1_size)\n",
    "        self.layer2 = nn.Linear(config.layer_1_size, config.layer_2_size)\n",
    "        self.layer3 = nn.Linear(config.layer_2_size, config.layer_3_size)\n",
    "        self.layer4 = nn.Linear(config.layer_3_size, 10)\n",
    "        self.dropout = nn.Dropout(config.dropout)\n",
    "\n",
    "        # training parameters\n",
    "        self.learning_rate = config.learning_rate\n",
    "\n",
    "        self.eval_loss = []\n",
    "        self.eval_accuracy = []\n",
    "\n",
    "    def forward(self, x):\n",
    "        batch_size, channels, width, height = x.size()\n",
    "\n",
    "        x = x.view(batch_size, -1)\n",
    "\n",
    "        x = F.relu(self.layer1(x))\n",
    "        x = self.dropout(x)\n",
    "\n",
    "        x = F.relu(self.layer2(x))\n",
    "        x = self.dropout(x)\n",
    "\n",
    "        x = F.relu(self.layer3(x))\n",
    "        x = self.dropout(x)\n",
    "\n",
    "        x = self.layer4(x)\n",
    "        x = torch.log_softmax(x, dim=1)\n",
    "        return x\n",
    "\n",
    "    def cross_entropy_loss(self, logits, labels):\n",
    "        \"\"\"\n",
    "        Apply NLL loss because softmax is applied in the forward function\n",
    "        \"\"\"\n",
    "        return F.nll_loss(logits, labels)\n",
    "\n",
    "    def training_step(self, train_batch, batch_idx):\n",
    "        x, y = train_batch\n",
    "        logits = self.forward(x)\n",
    "        loss = self.cross_entropy_loss(logits, y)\n",
    "        accuracy = self.accuracy(logits, y)\n",
    "\n",
    "        self.log(\"ptl/train_loss\", loss)\n",
    "        self.log(\"ptl/train_accuracy\", accuracy)\n",
    "\n",
    "        return loss\n",
    "\n",
    "    def validation_step(self, val_batch, batch_idx):\n",
    "        x, y = val_batch\n",
    "        logits = self.forward(x)\n",
    "        loss = self.cross_entropy_loss(logits, y)\n",
    "        accuracy = self.accuracy(logits, y)\n",
    "\n",
    "        self.eval_loss.append(loss)\n",
    "        self.eval_accuracy.append(accuracy)\n",
    "\n",
    "        return {\"val_loss\": loss, \"val_accuracy\": accuracy}\n",
    "\n",
    "    def on_validation_epoch_end(self):\n",
    "        avg_loss = torch.stack(self.eval_loss).mean()\n",
    "        avg_acc = torch.stack(self.eval_accuracy).mean()\n",
    "        self.log(\"ptl/val_loss\", avg_loss, sync_dist=True)\n",
    "        self.log(\"ptl/val_accuracy\", avg_acc, sync_dist=True)\n",
    "        self.eval_loss.clear()\n",
    "        self.eval_accuracy.clear()\n",
    "\n",
    "    def configure_optimizers(self):\n",
    "        optimizer = torch.optim.Adam(self.parameters(), lr=self.learning_rate)\n",
    "        return optimizer\n",
    "\n",
    "\n",
    "class MNISTDataModule(pl.LightningDataModule):\n",
    "    def __init__(self, batch_size=128):\n",
    "        super().__init__()\n",
    "        self.data_dir = tempfile.mkdtemp()\n",
    "        self.batch_size = batch_size\n",
    "        self.transform = transforms.Compose(\n",
    "            [transforms.ToTensor(), transforms.Normalize((0.1307,), (0.3081,))]\n",
    "        )\n",
    "\n",
    "    def setup(self, stage=None):\n",
    "        with FileLock(f\"{self.data_dir}.lock\"):\n",
    "            mnist = MNIST(\n",
    "                self.data_dir, train=True, download=True, transform=self.transform\n",
    "            )\n",
    "            self.mnist_train, self.mnist_val = random_split(mnist, [55000, 5000])\n",
    "            self.mnist_test = MNIST(\n",
    "                self.data_dir, train=False, download=True, transform=self.transform\n",
    "            )\n",
    "\n",
    "    def train_dataloader(self):\n",
    "        return DataLoader(self.mnist_train, \n",
    "                          self.batch_size, num_workers=4)\n",
    "\n",
    "    def val_dataloader(self):\n",
    "        return DataLoader(self.mnist_val, batch_size=self.batch_size, num_workers=4)\n",
    "\n",
    "    def test_dataloader(self):\n",
    "        return DataLoader(self.mnist_test, batch_size=self.batch_size, num_workers=4)\n",
    "\n",
    "\n",
    "def train_func(config):\n",
    "    print(\"printing config\", config)\n",
    "    with open(\"config.txt\", \"w\") as f:\n",
    "        f.write(str(config))\n",
    "    data_module = MNISTDataModule(batch_size=config[\"batch_size\"])\n",
    "\n",
    "    # instantiate config object\n",
    "    config = ModelConfig(\n",
    "        learning_rate=config[\"learning_rate\"],\n",
    "        batch_size=config[\"batch_size\"],\n",
    "        layer_1_size=config[\"layer_1_size\"],\n",
    "        layer_2_size=config[\"layer_2_size\"],\n",
    "        layer_3_size=config[\"layer_3_size\"],\n",
    "        dropout=config[\"dropout\"],\n",
    "    )\n",
    "\n",
    "    model = MNISTClassifier(config=config)\n",
    "\n",
    "    trainer = pl.Trainer(\n",
    "        devices=1,\n",
    "        accelerator=\"cpu\",\n",
    "        strategy=RayDDPStrategy(),\n",
    "        callbacks=[RayTrainReportCallback()],\n",
    "        plugins=[RayLightningEnvironment()],\n",
    "        enable_progress_bar=False,\n",
    "    )\n",
    "\n",
    "    trainer = prepare_trainer(trainer)\n",
    "    trainer.fit(model, datamodule=data_module)"
   ]
  },
  {
   "cell_type": "code",
   "execution_count": 3,
   "metadata": {},
   "outputs": [],
   "source": [
    "search_space = {\n",
    "    \"layer_1_size\": tune.choice([32, 64, 128]),\n",
    "    \"layer_2_size\": tune.choice([64, 128, 256]),\n",
    "    \"layer_3_size\": tune.choice([128, 256, 512]),\n",
    "    \"dropout\": tune.uniform(0.1, 0.3),\n",
    "    \"batch_size\": tune.choice([32, 64, 128]),\n",
    "    \"learning_rate\": tune.loguniform(1e-4, 1e-1),\n",
    "}"
   ]
  },
  {
   "cell_type": "code",
   "execution_count": 4,
   "metadata": {},
   "outputs": [],
   "source": [
    "from ray.train import RunConfig, ScalingConfig, CheckpointConfig\n",
    "\n",
    "# scaling_config = ScalingConfig(\n",
    "#     num_workers=3,\n",
    "#     use_gpu=True,\n",
    "#     resources_per_worker={\"CPU\": 1, \"GPU\": 1}\n",
    "# )\n",
    "\n",
    "run_config = RunConfig(\n",
    "    checkpoint_config=CheckpointConfig(\n",
    "        num_to_keep=2,\n",
    "        checkpoint_score_attribute=\"ptl/val_accuracy\",\n",
    "        checkpoint_score_order=\"max\"\n",
    "    )\n",
    ")"
   ]
  },
  {
   "cell_type": "code",
   "execution_count": 5,
   "metadata": {},
   "outputs": [],
   "source": [
    "from ray.train.torch import TorchTrainer\n",
    "\n",
    "ray_trainer = TorchTrainer(\n",
    "    train_func,\n",
    "    # scaling_config=scaling_config,\n",
    "    run_config=run_config,\n",
    ")"
   ]
  },
  {
   "cell_type": "code",
   "execution_count": 6,
   "metadata": {},
   "outputs": [],
   "source": [
    "from ray.tune.schedulers import ASHAScheduler\n",
    "\n",
    "num_epochs = 5\n",
    "num_samples = 100\n",
    "\n",
    "scheduler = ASHAScheduler(\n",
    "    max_t=num_epochs,\n",
    "    grace_period=1,\n",
    "    reduction_factor=2\n",
    ")"
   ]
  },
  {
   "cell_type": "code",
   "execution_count": 7,
   "metadata": {},
   "outputs": [
    {
     "name": "stderr",
     "output_type": "stream",
     "text": [
      "[WARNING 12-24 17:34:19] ax.service.utils.with_db_settings_base: Ax currently requires a sqlalchemy version below 2.0. This will be addressed in a future release. Disabling SQL storage in Ax for now, if you would like to use SQL storage please install Ax with mysql extras via `pip install ax-platform[mysql]`.\n"
     ]
    }
   ],
   "source": [
    "from ray.tune.search.ax import AxSearch\n",
    "\n",
    "algorithm = AxSearch()\n",
    "\n",
    "# restrict to 4 concurrent trials\n",
    "algorithm = tune.search.ConcurrencyLimiter(algorithm, max_concurrent=4)"
   ]
  },
  {
   "cell_type": "code",
   "execution_count": 8,
   "metadata": {},
   "outputs": [
    {
     "data": {
      "text/html": [
       "<div class=\"tuneStatus\">\n",
       "  <div style=\"display: flex;flex-direction: row\">\n",
       "    <div style=\"display: flex;flex-direction: column;\">\n",
       "      <h3>Tune Status</h3>\n",
       "      <table>\n",
       "<tbody>\n",
       "<tr><td>Current time:</td><td>2024-12-24 17:40:21</td></tr>\n",
       "<tr><td>Running for: </td><td>00:06:00.62        </td></tr>\n",
       "<tr><td>Memory:      </td><td>25.4/32.0 GiB      </td></tr>\n",
       "</tbody>\n",
       "</table>\n",
       "    </div>\n",
       "    <div class=\"vDivider\"></div>\n",
       "    <div class=\"systemInfo\">\n",
       "      <h3>System Info</h3>\n",
       "      Using AsyncHyperBand: num_stopped=35<br>Bracket: Iter 4.000: 0.9701172113418579 | Iter 2.000: 0.9574218988418579 | Iter 1.000: 0.9241639971733093<br>Logical resource usage: 10.0/10 CPUs, 0/0 GPUs\n",
       "    </div>\n",
       "    \n",
       "  </div>\n",
       "  <div class=\"hDivider\"></div>\n",
       "  <div class=\"trialStatus\">\n",
       "    <h3>Trial Status</h3>\n",
       "    <table>\n",
       "<thead>\n",
       "<tr><th>Trial name              </th><th>status    </th><th>loc            </th><th style=\"text-align: right;\">    train_loop_config/ba\n",
       "tch_size</th><th style=\"text-align: right;\">         train_loop_config/dr\n",
       "opout</th><th style=\"text-align: right;\">    train_loop_config/la\n",
       "yer_1_size</th><th style=\"text-align: right;\">    train_loop_config/la\n",
       "yer_2_size</th><th style=\"text-align: right;\">    train_loop_config/la\n",
       "yer_3_size</th><th style=\"text-align: right;\">            train_loop_config/le\n",
       "arning_rate</th><th style=\"text-align: right;\">  iter</th><th style=\"text-align: right;\">  total time (s)</th><th style=\"text-align: right;\">  ptl/train_loss</th><th style=\"text-align: right;\">  ptl/train_accuracy</th><th style=\"text-align: right;\">  ptl/val_loss</th></tr>\n",
       "</thead>\n",
       "<tbody>\n",
       "<tr><td>TorchTrainer_4f4b8_00034</td><td>RUNNING   </td><td>127.0.0.1:56482</td><td style=\"text-align: right;\">128</td><td style=\"text-align: right;\">0.23891 </td><td style=\"text-align: right;\">128</td><td style=\"text-align: right;\"> 64</td><td style=\"text-align: right;\">128</td><td style=\"text-align: right;\">0.00245667 </td><td style=\"text-align: right;\">     3</td><td style=\"text-align: right;\">         46.6424</td><td style=\"text-align: right;\">      0.154768  </td><td style=\"text-align: right;\">           0.965909 </td><td style=\"text-align: right;\">     0.103128 </td></tr>\n",
       "<tr><td>TorchTrainer_4f4b8_00035</td><td>RUNNING   </td><td>127.0.0.1:56577</td><td style=\"text-align: right;\"> 64</td><td style=\"text-align: right;\">0.151442</td><td style=\"text-align: right;\"> 64</td><td style=\"text-align: right;\"> 64</td><td style=\"text-align: right;\">256</td><td style=\"text-align: right;\">0.00297387 </td><td style=\"text-align: right;\">     1</td><td style=\"text-align: right;\">         31.2849</td><td style=\"text-align: right;\">      0.300558  </td><td style=\"text-align: right;\">           0.875    </td><td style=\"text-align: right;\">     0.213082 </td></tr>\n",
       "<tr><td>TorchTrainer_4f4b8_00037</td><td>RUNNING   </td><td>127.0.0.1:56933</td><td style=\"text-align: right;\"> 64</td><td style=\"text-align: right;\">0.238714</td><td style=\"text-align: right;\">128</td><td style=\"text-align: right;\">256</td><td style=\"text-align: right;\">256</td><td style=\"text-align: right;\">0.000252594</td><td style=\"text-align: right;\">      </td><td style=\"text-align: right;\">                </td><td style=\"text-align: right;\">                </td><td style=\"text-align: right;\">                    </td><td style=\"text-align: right;\">              </td></tr>\n",
       "<tr><td>TorchTrainer_4f4b8_00038</td><td>RUNNING   </td><td>127.0.0.1:57080</td><td style=\"text-align: right;\"> 64</td><td style=\"text-align: right;\">0.213271</td><td style=\"text-align: right;\"> 64</td><td style=\"text-align: right;\">128</td><td style=\"text-align: right;\">512</td><td style=\"text-align: right;\">0.00654806 </td><td style=\"text-align: right;\">      </td><td style=\"text-align: right;\">                </td><td style=\"text-align: right;\">                </td><td style=\"text-align: right;\">                    </td><td style=\"text-align: right;\">              </td></tr>\n",
       "<tr><td>TorchTrainer_4f4b8_00039</td><td>PENDING   </td><td>               </td><td style=\"text-align: right;\"> 32</td><td style=\"text-align: right;\">0.100271</td><td style=\"text-align: right;\"> 64</td><td style=\"text-align: right;\">128</td><td style=\"text-align: right;\">128</td><td style=\"text-align: right;\">0.000578316</td><td style=\"text-align: right;\">      </td><td style=\"text-align: right;\">                </td><td style=\"text-align: right;\">                </td><td style=\"text-align: right;\">                    </td><td style=\"text-align: right;\">              </td></tr>\n",
       "<tr><td>TorchTrainer_4f4b8_00040</td><td>PENDING   </td><td>               </td><td style=\"text-align: right;\">128</td><td style=\"text-align: right;\">0.208088</td><td style=\"text-align: right;\"> 32</td><td style=\"text-align: right;\"> 64</td><td style=\"text-align: right;\">128</td><td style=\"text-align: right;\">0.00178802 </td><td style=\"text-align: right;\">      </td><td style=\"text-align: right;\">                </td><td style=\"text-align: right;\">                </td><td style=\"text-align: right;\">                    </td><td style=\"text-align: right;\">              </td></tr>\n",
       "<tr><td>TorchTrainer_4f4b8_00041</td><td>PENDING   </td><td>               </td><td style=\"text-align: right;\"> 32</td><td style=\"text-align: right;\">0.174195</td><td style=\"text-align: right;\"> 32</td><td style=\"text-align: right;\">128</td><td style=\"text-align: right;\">128</td><td style=\"text-align: right;\">0.000138052</td><td style=\"text-align: right;\">      </td><td style=\"text-align: right;\">                </td><td style=\"text-align: right;\">                </td><td style=\"text-align: right;\">                    </td><td style=\"text-align: right;\">              </td></tr>\n",
       "<tr><td>TorchTrainer_4f4b8_00042</td><td>PENDING   </td><td>               </td><td style=\"text-align: right;\"> 32</td><td style=\"text-align: right;\">0.210235</td><td style=\"text-align: right;\">128</td><td style=\"text-align: right;\">128</td><td style=\"text-align: right;\">512</td><td style=\"text-align: right;\">0.00460865 </td><td style=\"text-align: right;\">      </td><td style=\"text-align: right;\">                </td><td style=\"text-align: right;\">                </td><td style=\"text-align: right;\">                    </td><td style=\"text-align: right;\">              </td></tr>\n",
       "<tr><td>TorchTrainer_4f4b8_00043</td><td>PENDING   </td><td>               </td><td style=\"text-align: right;\">128</td><td style=\"text-align: right;\">0.177099</td><td style=\"text-align: right;\"> 32</td><td style=\"text-align: right;\">256</td><td style=\"text-align: right;\">512</td><td style=\"text-align: right;\">0.000119454</td><td style=\"text-align: right;\">      </td><td style=\"text-align: right;\">                </td><td style=\"text-align: right;\">                </td><td style=\"text-align: right;\">                    </td><td style=\"text-align: right;\">              </td></tr>\n",
       "<tr><td>TorchTrainer_4f4b8_00044</td><td>PENDING   </td><td>               </td><td style=\"text-align: right;\">128</td><td style=\"text-align: right;\">0.152518</td><td style=\"text-align: right;\"> 64</td><td style=\"text-align: right;\"> 64</td><td style=\"text-align: right;\">512</td><td style=\"text-align: right;\">0.082316   </td><td style=\"text-align: right;\">      </td><td style=\"text-align: right;\">                </td><td style=\"text-align: right;\">                </td><td style=\"text-align: right;\">                    </td><td style=\"text-align: right;\">              </td></tr>\n",
       "<tr><td>TorchTrainer_4f4b8_00045</td><td>PENDING   </td><td>               </td><td style=\"text-align: right;\"> 32</td><td style=\"text-align: right;\">0.258823</td><td style=\"text-align: right;\">128</td><td style=\"text-align: right;\">128</td><td style=\"text-align: right;\">512</td><td style=\"text-align: right;\">0.00322518 </td><td style=\"text-align: right;\">      </td><td style=\"text-align: right;\">                </td><td style=\"text-align: right;\">                </td><td style=\"text-align: right;\">                    </td><td style=\"text-align: right;\">              </td></tr>\n",
       "<tr><td>TorchTrainer_4f4b8_00046</td><td>PENDING   </td><td>               </td><td style=\"text-align: right;\"> 64</td><td style=\"text-align: right;\">0.173678</td><td style=\"text-align: right;\">128</td><td style=\"text-align: right;\"> 64</td><td style=\"text-align: right;\">256</td><td style=\"text-align: right;\">0.0311549  </td><td style=\"text-align: right;\">      </td><td style=\"text-align: right;\">                </td><td style=\"text-align: right;\">                </td><td style=\"text-align: right;\">                    </td><td style=\"text-align: right;\">              </td></tr>\n",
       "<tr><td>TorchTrainer_4f4b8_00047</td><td>PENDING   </td><td>               </td><td style=\"text-align: right;\">128</td><td style=\"text-align: right;\">0.29352 </td><td style=\"text-align: right;\"> 32</td><td style=\"text-align: right;\"> 64</td><td style=\"text-align: right;\">512</td><td style=\"text-align: right;\">0.000225766</td><td style=\"text-align: right;\">      </td><td style=\"text-align: right;\">                </td><td style=\"text-align: right;\">                </td><td style=\"text-align: right;\">                    </td><td style=\"text-align: right;\">              </td></tr>\n",
       "<tr><td>TorchTrainer_4f4b8_00048</td><td>PENDING   </td><td>               </td><td style=\"text-align: right;\">128</td><td style=\"text-align: right;\">0.275573</td><td style=\"text-align: right;\"> 64</td><td style=\"text-align: right;\">256</td><td style=\"text-align: right;\">256</td><td style=\"text-align: right;\">0.00392818 </td><td style=\"text-align: right;\">      </td><td style=\"text-align: right;\">                </td><td style=\"text-align: right;\">                </td><td style=\"text-align: right;\">                    </td><td style=\"text-align: right;\">              </td></tr>\n",
       "<tr><td>TorchTrainer_4f4b8_00049</td><td>PENDING   </td><td>               </td><td style=\"text-align: right;\"> 64</td><td style=\"text-align: right;\">0.101985</td><td style=\"text-align: right;\">128</td><td style=\"text-align: right;\">128</td><td style=\"text-align: right;\">128</td><td style=\"text-align: right;\">0.012241   </td><td style=\"text-align: right;\">      </td><td style=\"text-align: right;\">                </td><td style=\"text-align: right;\">                </td><td style=\"text-align: right;\">                    </td><td style=\"text-align: right;\">              </td></tr>\n",
       "<tr><td>TorchTrainer_4f4b8_00050</td><td>PENDING   </td><td>               </td><td style=\"text-align: right;\"> 32</td><td style=\"text-align: right;\">0.297389</td><td style=\"text-align: right;\"> 64</td><td style=\"text-align: right;\">256</td><td style=\"text-align: right;\">256</td><td style=\"text-align: right;\">0.000753754</td><td style=\"text-align: right;\">      </td><td style=\"text-align: right;\">                </td><td style=\"text-align: right;\">                </td><td style=\"text-align: right;\">                    </td><td style=\"text-align: right;\">              </td></tr>\n",
       "<tr><td>TorchTrainer_4f4b8_00051</td><td>PENDING   </td><td>               </td><td style=\"text-align: right;\">128</td><td style=\"text-align: right;\">0.225212</td><td style=\"text-align: right;\">128</td><td style=\"text-align: right;\">128</td><td style=\"text-align: right;\">128</td><td style=\"text-align: right;\">0.000943867</td><td style=\"text-align: right;\">      </td><td style=\"text-align: right;\">                </td><td style=\"text-align: right;\">                </td><td style=\"text-align: right;\">                    </td><td style=\"text-align: right;\">              </td></tr>\n",
       "<tr><td>TorchTrainer_4f4b8_00052</td><td>PENDING   </td><td>               </td><td style=\"text-align: right;\"> 32</td><td style=\"text-align: right;\">0.24529 </td><td style=\"text-align: right;\"> 32</td><td style=\"text-align: right;\">256</td><td style=\"text-align: right;\">256</td><td style=\"text-align: right;\">0.00479404 </td><td style=\"text-align: right;\">      </td><td style=\"text-align: right;\">                </td><td style=\"text-align: right;\">                </td><td style=\"text-align: right;\">                    </td><td style=\"text-align: right;\">              </td></tr>\n",
       "<tr><td>TorchTrainer_4f4b8_00053</td><td>PENDING   </td><td>               </td><td style=\"text-align: right;\">128</td><td style=\"text-align: right;\">0.107235</td><td style=\"text-align: right;\">128</td><td style=\"text-align: right;\">256</td><td style=\"text-align: right;\">512</td><td style=\"text-align: right;\">0.00600878 </td><td style=\"text-align: right;\">      </td><td style=\"text-align: right;\">                </td><td style=\"text-align: right;\">                </td><td style=\"text-align: right;\">                    </td><td style=\"text-align: right;\">              </td></tr>\n",
       "<tr><td>TorchTrainer_4f4b8_00054</td><td>PENDING   </td><td>               </td><td style=\"text-align: right;\"> 32</td><td style=\"text-align: right;\">0.155341</td><td style=\"text-align: right;\"> 64</td><td style=\"text-align: right;\">128</td><td style=\"text-align: right;\">256</td><td style=\"text-align: right;\">0.000266645</td><td style=\"text-align: right;\">      </td><td style=\"text-align: right;\">                </td><td style=\"text-align: right;\">                </td><td style=\"text-align: right;\">                    </td><td style=\"text-align: right;\">              </td></tr>\n",
       "<tr><td>TorchTrainer_4f4b8_00055</td><td>PENDING   </td><td>               </td><td style=\"text-align: right;\">128</td><td style=\"text-align: right;\">0.20463 </td><td style=\"text-align: right;\">128</td><td style=\"text-align: right;\">128</td><td style=\"text-align: right;\">512</td><td style=\"text-align: right;\">0.0675592  </td><td style=\"text-align: right;\">      </td><td style=\"text-align: right;\">                </td><td style=\"text-align: right;\">                </td><td style=\"text-align: right;\">                    </td><td style=\"text-align: right;\">              </td></tr>\n",
       "<tr><td>TorchTrainer_4f4b8_00056</td><td>PENDING   </td><td>               </td><td style=\"text-align: right;\"> 64</td><td style=\"text-align: right;\">0.13117 </td><td style=\"text-align: right;\">128</td><td style=\"text-align: right;\">256</td><td style=\"text-align: right;\">128</td><td style=\"text-align: right;\">0.000508737</td><td style=\"text-align: right;\">      </td><td style=\"text-align: right;\">                </td><td style=\"text-align: right;\">                </td><td style=\"text-align: right;\">                    </td><td style=\"text-align: right;\">              </td></tr>\n",
       "<tr><td>TorchTrainer_4f4b8_00057</td><td>PENDING   </td><td>               </td><td style=\"text-align: right;\">128</td><td style=\"text-align: right;\">0.164732</td><td style=\"text-align: right;\"> 32</td><td style=\"text-align: right;\"> 64</td><td style=\"text-align: right;\">128</td><td style=\"text-align: right;\">0.000126773</td><td style=\"text-align: right;\">      </td><td style=\"text-align: right;\">                </td><td style=\"text-align: right;\">                </td><td style=\"text-align: right;\">                    </td><td style=\"text-align: right;\">              </td></tr>\n",
       "<tr><td>TorchTrainer_4f4b8_00058</td><td>PENDING   </td><td>               </td><td style=\"text-align: right;\"> 64</td><td style=\"text-align: right;\">0.269022</td><td style=\"text-align: right;\">128</td><td style=\"text-align: right;\">128</td><td style=\"text-align: right;\">512</td><td style=\"text-align: right;\">0.00200027 </td><td style=\"text-align: right;\">      </td><td style=\"text-align: right;\">                </td><td style=\"text-align: right;\">                </td><td style=\"text-align: right;\">                    </td><td style=\"text-align: right;\">              </td></tr>\n",
       "<tr><td>TorchTrainer_4f4b8_00059</td><td>PENDING   </td><td>               </td><td style=\"text-align: right;\"> 64</td><td style=\"text-align: right;\">0.205838</td><td style=\"text-align: right;\">128</td><td style=\"text-align: right;\"> 64</td><td style=\"text-align: right;\">256</td><td style=\"text-align: right;\">0.000164112</td><td style=\"text-align: right;\">      </td><td style=\"text-align: right;\">                </td><td style=\"text-align: right;\">                </td><td style=\"text-align: right;\">                    </td><td style=\"text-align: right;\">              </td></tr>\n",
       "<tr><td>TorchTrainer_4f4b8_00060</td><td>PENDING   </td><td>               </td><td style=\"text-align: right;\"> 32</td><td style=\"text-align: right;\">0.105673</td><td style=\"text-align: right;\"> 32</td><td style=\"text-align: right;\">256</td><td style=\"text-align: right;\">128</td><td style=\"text-align: right;\">0.0183453  </td><td style=\"text-align: right;\">      </td><td style=\"text-align: right;\">                </td><td style=\"text-align: right;\">                </td><td style=\"text-align: right;\">                    </td><td style=\"text-align: right;\">              </td></tr>\n",
       "<tr><td>TorchTrainer_4f4b8_00061</td><td>PENDING   </td><td>               </td><td style=\"text-align: right;\"> 64</td><td style=\"text-align: right;\">0.117802</td><td style=\"text-align: right;\"> 64</td><td style=\"text-align: right;\">256</td><td style=\"text-align: right;\">256</td><td style=\"text-align: right;\">0.0552051  </td><td style=\"text-align: right;\">      </td><td style=\"text-align: right;\">                </td><td style=\"text-align: right;\">                </td><td style=\"text-align: right;\">                    </td><td style=\"text-align: right;\">              </td></tr>\n",
       "<tr><td>TorchTrainer_4f4b8_00062</td><td>PENDING   </td><td>               </td><td style=\"text-align: right;\"> 64</td><td style=\"text-align: right;\">0.135195</td><td style=\"text-align: right;\"> 32</td><td style=\"text-align: right;\">128</td><td style=\"text-align: right;\">128</td><td style=\"text-align: right;\">0.000221051</td><td style=\"text-align: right;\">      </td><td style=\"text-align: right;\">                </td><td style=\"text-align: right;\">                </td><td style=\"text-align: right;\">                    </td><td style=\"text-align: right;\">              </td></tr>\n",
       "<tr><td>TorchTrainer_4f4b8_00063</td><td>PENDING   </td><td>               </td><td style=\"text-align: right;\"> 32</td><td style=\"text-align: right;\">0.109554</td><td style=\"text-align: right;\"> 32</td><td style=\"text-align: right;\">256</td><td style=\"text-align: right;\">128</td><td style=\"text-align: right;\">0.000717994</td><td style=\"text-align: right;\">      </td><td style=\"text-align: right;\">                </td><td style=\"text-align: right;\">                </td><td style=\"text-align: right;\">                    </td><td style=\"text-align: right;\">              </td></tr>\n",
       "<tr><td>TorchTrainer_4f4b8_00064</td><td>PENDING   </td><td>               </td><td style=\"text-align: right;\"> 64</td><td style=\"text-align: right;\">0.247536</td><td style=\"text-align: right;\"> 32</td><td style=\"text-align: right;\"> 64</td><td style=\"text-align: right;\">128</td><td style=\"text-align: right;\">0.00134698 </td><td style=\"text-align: right;\">      </td><td style=\"text-align: right;\">                </td><td style=\"text-align: right;\">                </td><td style=\"text-align: right;\">                    </td><td style=\"text-align: right;\">              </td></tr>\n",
       "<tr><td>TorchTrainer_4f4b8_00065</td><td>PENDING   </td><td>               </td><td style=\"text-align: right;\">128</td><td style=\"text-align: right;\">0.156031</td><td style=\"text-align: right;\">128</td><td style=\"text-align: right;\">256</td><td style=\"text-align: right;\">512</td><td style=\"text-align: right;\">0.00180472 </td><td style=\"text-align: right;\">      </td><td style=\"text-align: right;\">                </td><td style=\"text-align: right;\">                </td><td style=\"text-align: right;\">                    </td><td style=\"text-align: right;\">              </td></tr>\n",
       "<tr><td>TorchTrainer_4f4b8_00066</td><td>PENDING   </td><td>               </td><td style=\"text-align: right;\"> 64</td><td style=\"text-align: right;\">0.159463</td><td style=\"text-align: right;\"> 64</td><td style=\"text-align: right;\">256</td><td style=\"text-align: right;\">256</td><td style=\"text-align: right;\">0.0306659  </td><td style=\"text-align: right;\">      </td><td style=\"text-align: right;\">                </td><td style=\"text-align: right;\">                </td><td style=\"text-align: right;\">                    </td><td style=\"text-align: right;\">              </td></tr>\n",
       "<tr><td>TorchTrainer_4f4b8_00067</td><td>PENDING   </td><td>               </td><td style=\"text-align: right;\"> 32</td><td style=\"text-align: right;\">0.140634</td><td style=\"text-align: right;\">128</td><td style=\"text-align: right;\">256</td><td style=\"text-align: right;\">256</td><td style=\"text-align: right;\">0.000167654</td><td style=\"text-align: right;\">      </td><td style=\"text-align: right;\">                </td><td style=\"text-align: right;\">                </td><td style=\"text-align: right;\">                    </td><td style=\"text-align: right;\">              </td></tr>\n",
       "<tr><td>TorchTrainer_4f4b8_00068</td><td>PENDING   </td><td>               </td><td style=\"text-align: right;\"> 32</td><td style=\"text-align: right;\">0.245702</td><td style=\"text-align: right;\">128</td><td style=\"text-align: right;\"> 64</td><td style=\"text-align: right;\">512</td><td style=\"text-align: right;\">0.00776809 </td><td style=\"text-align: right;\">      </td><td style=\"text-align: right;\">                </td><td style=\"text-align: right;\">                </td><td style=\"text-align: right;\">                    </td><td style=\"text-align: right;\">              </td></tr>\n",
       "<tr><td>TorchTrainer_4f4b8_00069</td><td>PENDING   </td><td>               </td><td style=\"text-align: right;\">128</td><td style=\"text-align: right;\">0.238233</td><td style=\"text-align: right;\"> 64</td><td style=\"text-align: right;\">128</td><td style=\"text-align: right;\">128</td><td style=\"text-align: right;\">0.00396127 </td><td style=\"text-align: right;\">      </td><td style=\"text-align: right;\">                </td><td style=\"text-align: right;\">                </td><td style=\"text-align: right;\">                    </td><td style=\"text-align: right;\">              </td></tr>\n",
       "<tr><td>TorchTrainer_4f4b8_00070</td><td>PENDING   </td><td>               </td><td style=\"text-align: right;\">128</td><td style=\"text-align: right;\">0.219936</td><td style=\"text-align: right;\"> 32</td><td style=\"text-align: right;\">256</td><td style=\"text-align: right;\">512</td><td style=\"text-align: right;\">0.0577234  </td><td style=\"text-align: right;\">      </td><td style=\"text-align: right;\">                </td><td style=\"text-align: right;\">                </td><td style=\"text-align: right;\">                    </td><td style=\"text-align: right;\">              </td></tr>\n",
       "<tr><td>TorchTrainer_4f4b8_00071</td><td>PENDING   </td><td>               </td><td style=\"text-align: right;\">128</td><td style=\"text-align: right;\">0.18707 </td><td style=\"text-align: right;\"> 64</td><td style=\"text-align: right;\">256</td><td style=\"text-align: right;\">128</td><td style=\"text-align: right;\">0.0011113  </td><td style=\"text-align: right;\">      </td><td style=\"text-align: right;\">                </td><td style=\"text-align: right;\">                </td><td style=\"text-align: right;\">                    </td><td style=\"text-align: right;\">              </td></tr>\n",
       "<tr><td>TorchTrainer_4f4b8_00072</td><td>PENDING   </td><td>               </td><td style=\"text-align: right;\"> 64</td><td style=\"text-align: right;\">0.167185</td><td style=\"text-align: right;\"> 32</td><td style=\"text-align: right;\">256</td><td style=\"text-align: right;\">128</td><td style=\"text-align: right;\">0.00409242 </td><td style=\"text-align: right;\">      </td><td style=\"text-align: right;\">                </td><td style=\"text-align: right;\">                </td><td style=\"text-align: right;\">                    </td><td style=\"text-align: right;\">              </td></tr>\n",
       "<tr><td>TorchTrainer_4f4b8_00073</td><td>PENDING   </td><td>               </td><td style=\"text-align: right;\"> 64</td><td style=\"text-align: right;\">0.251945</td><td style=\"text-align: right;\"> 64</td><td style=\"text-align: right;\">128</td><td style=\"text-align: right;\">128</td><td style=\"text-align: right;\">0.000265171</td><td style=\"text-align: right;\">      </td><td style=\"text-align: right;\">                </td><td style=\"text-align: right;\">                </td><td style=\"text-align: right;\">                    </td><td style=\"text-align: right;\">              </td></tr>\n",
       "<tr><td>TorchTrainer_4f4b8_00074</td><td>PENDING   </td><td>               </td><td style=\"text-align: right;\"> 64</td><td style=\"text-align: right;\">0.145801</td><td style=\"text-align: right;\"> 64</td><td style=\"text-align: right;\">256</td><td style=\"text-align: right;\">512</td><td style=\"text-align: right;\">0.000151449</td><td style=\"text-align: right;\">      </td><td style=\"text-align: right;\">                </td><td style=\"text-align: right;\">                </td><td style=\"text-align: right;\">                    </td><td style=\"text-align: right;\">              </td></tr>\n",
       "<tr><td>TorchTrainer_4f4b8_00075</td><td>PENDING   </td><td>               </td><td style=\"text-align: right;\"> 64</td><td style=\"text-align: right;\">0.119829</td><td style=\"text-align: right;\"> 32</td><td style=\"text-align: right;\"> 64</td><td style=\"text-align: right;\">256</td><td style=\"text-align: right;\">0.00692368 </td><td style=\"text-align: right;\">      </td><td style=\"text-align: right;\">                </td><td style=\"text-align: right;\">                </td><td style=\"text-align: right;\">                    </td><td style=\"text-align: right;\">              </td></tr>\n",
       "<tr><td>TorchTrainer_4f4b8_00076</td><td>PENDING   </td><td>               </td><td style=\"text-align: right;\"> 32</td><td style=\"text-align: right;\">0.142738</td><td style=\"text-align: right;\"> 64</td><td style=\"text-align: right;\">256</td><td style=\"text-align: right;\">128</td><td style=\"text-align: right;\">0.00105995 </td><td style=\"text-align: right;\">      </td><td style=\"text-align: right;\">                </td><td style=\"text-align: right;\">                </td><td style=\"text-align: right;\">                    </td><td style=\"text-align: right;\">              </td></tr>\n",
       "<tr><td>TorchTrainer_4f4b8_00077</td><td>PENDING   </td><td>               </td><td style=\"text-align: right;\"> 64</td><td style=\"text-align: right;\">0.168214</td><td style=\"text-align: right;\">128</td><td style=\"text-align: right;\">256</td><td style=\"text-align: right;\">512</td><td style=\"text-align: right;\">0.0656088  </td><td style=\"text-align: right;\">      </td><td style=\"text-align: right;\">                </td><td style=\"text-align: right;\">                </td><td style=\"text-align: right;\">                    </td><td style=\"text-align: right;\">              </td></tr>\n",
       "<tr><td>TorchTrainer_4f4b8_00078</td><td>PENDING   </td><td>               </td><td style=\"text-align: right;\">128</td><td style=\"text-align: right;\">0.10289 </td><td style=\"text-align: right;\">128</td><td style=\"text-align: right;\">256</td><td style=\"text-align: right;\">128</td><td style=\"text-align: right;\">0.00327605 </td><td style=\"text-align: right;\">      </td><td style=\"text-align: right;\">                </td><td style=\"text-align: right;\">                </td><td style=\"text-align: right;\">                    </td><td style=\"text-align: right;\">              </td></tr>\n",
       "<tr><td>TorchTrainer_4f4b8_00079</td><td>PENDING   </td><td>               </td><td style=\"text-align: right;\">128</td><td style=\"text-align: right;\">0.259216</td><td style=\"text-align: right;\"> 32</td><td style=\"text-align: right;\"> 64</td><td style=\"text-align: right;\">512</td><td style=\"text-align: right;\">0.0386478  </td><td style=\"text-align: right;\">      </td><td style=\"text-align: right;\">                </td><td style=\"text-align: right;\">                </td><td style=\"text-align: right;\">                    </td><td style=\"text-align: right;\">              </td></tr>\n",
       "<tr><td>TorchTrainer_4f4b8_00080</td><td>PENDING   </td><td>               </td><td style=\"text-align: right;\"> 64</td><td style=\"text-align: right;\">0.227558</td><td style=\"text-align: right;\"> 64</td><td style=\"text-align: right;\">256</td><td style=\"text-align: right;\">256</td><td style=\"text-align: right;\">0.000203625</td><td style=\"text-align: right;\">      </td><td style=\"text-align: right;\">                </td><td style=\"text-align: right;\">                </td><td style=\"text-align: right;\">                    </td><td style=\"text-align: right;\">              </td></tr>\n",
       "<tr><td>TorchTrainer_4f4b8_00081</td><td>PENDING   </td><td>               </td><td style=\"text-align: right;\"> 32</td><td style=\"text-align: right;\">0.282809</td><td style=\"text-align: right;\"> 32</td><td style=\"text-align: right;\"> 64</td><td style=\"text-align: right;\">256</td><td style=\"text-align: right;\">0.0157952  </td><td style=\"text-align: right;\">      </td><td style=\"text-align: right;\">                </td><td style=\"text-align: right;\">                </td><td style=\"text-align: right;\">                    </td><td style=\"text-align: right;\">              </td></tr>\n",
       "<tr><td>TorchTrainer_4f4b8_00082</td><td>PENDING   </td><td>               </td><td style=\"text-align: right;\"> 64</td><td style=\"text-align: right;\">0.201982</td><td style=\"text-align: right;\"> 64</td><td style=\"text-align: right;\">256</td><td style=\"text-align: right;\">128</td><td style=\"text-align: right;\">0.000152135</td><td style=\"text-align: right;\">      </td><td style=\"text-align: right;\">                </td><td style=\"text-align: right;\">                </td><td style=\"text-align: right;\">                    </td><td style=\"text-align: right;\">              </td></tr>\n",
       "<tr><td>TorchTrainer_4f4b8_00083</td><td>PENDING   </td><td>               </td><td style=\"text-align: right;\"> 32</td><td style=\"text-align: right;\">0.219832</td><td style=\"text-align: right;\"> 32</td><td style=\"text-align: right;\">128</td><td style=\"text-align: right;\">512</td><td style=\"text-align: right;\">0.00115572 </td><td style=\"text-align: right;\">      </td><td style=\"text-align: right;\">                </td><td style=\"text-align: right;\">                </td><td style=\"text-align: right;\">                    </td><td style=\"text-align: right;\">              </td></tr>\n",
       "<tr><td>TorchTrainer_4f4b8_00084</td><td>PENDING   </td><td>               </td><td style=\"text-align: right;\"> 64</td><td style=\"text-align: right;\">0.164969</td><td style=\"text-align: right;\">128</td><td style=\"text-align: right;\">256</td><td style=\"text-align: right;\">512</td><td style=\"text-align: right;\">0.0467602  </td><td style=\"text-align: right;\">      </td><td style=\"text-align: right;\">                </td><td style=\"text-align: right;\">                </td><td style=\"text-align: right;\">                    </td><td style=\"text-align: right;\">              </td></tr>\n",
       "<tr><td>TorchTrainer_4f4b8_00085</td><td>PENDING   </td><td>               </td><td style=\"text-align: right;\"> 64</td><td style=\"text-align: right;\">0.14549 </td><td style=\"text-align: right;\">128</td><td style=\"text-align: right;\">256</td><td style=\"text-align: right;\">512</td><td style=\"text-align: right;\">0.0604034  </td><td style=\"text-align: right;\">      </td><td style=\"text-align: right;\">                </td><td style=\"text-align: right;\">                </td><td style=\"text-align: right;\">                    </td><td style=\"text-align: right;\">              </td></tr>\n",
       "<tr><td>TorchTrainer_4f4b8_00086</td><td>PENDING   </td><td>               </td><td style=\"text-align: right;\"> 32</td><td style=\"text-align: right;\">0.164726</td><td style=\"text-align: right;\"> 32</td><td style=\"text-align: right;\"> 64</td><td style=\"text-align: right;\">256</td><td style=\"text-align: right;\">0.0202368  </td><td style=\"text-align: right;\">      </td><td style=\"text-align: right;\">                </td><td style=\"text-align: right;\">                </td><td style=\"text-align: right;\">                    </td><td style=\"text-align: right;\">              </td></tr>\n",
       "<tr><td>TorchTrainer_4f4b8_00087</td><td>PENDING   </td><td>               </td><td style=\"text-align: right;\">128</td><td style=\"text-align: right;\">0.214977</td><td style=\"text-align: right;\"> 32</td><td style=\"text-align: right;\">128</td><td style=\"text-align: right;\">512</td><td style=\"text-align: right;\">0.00127363 </td><td style=\"text-align: right;\">      </td><td style=\"text-align: right;\">                </td><td style=\"text-align: right;\">                </td><td style=\"text-align: right;\">                    </td><td style=\"text-align: right;\">              </td></tr>\n",
       "<tr><td>TorchTrainer_4f4b8_00088</td><td>PENDING   </td><td>               </td><td style=\"text-align: right;\"> 64</td><td style=\"text-align: right;\">0.105257</td><td style=\"text-align: right;\"> 32</td><td style=\"text-align: right;\">256</td><td style=\"text-align: right;\">256</td><td style=\"text-align: right;\">0.0135723  </td><td style=\"text-align: right;\">      </td><td style=\"text-align: right;\">                </td><td style=\"text-align: right;\">                </td><td style=\"text-align: right;\">                    </td><td style=\"text-align: right;\">              </td></tr>\n",
       "<tr><td>TorchTrainer_4f4b8_00089</td><td>PENDING   </td><td>               </td><td style=\"text-align: right;\"> 32</td><td style=\"text-align: right;\">0.247115</td><td style=\"text-align: right;\">128</td><td style=\"text-align: right;\">256</td><td style=\"text-align: right;\">256</td><td style=\"text-align: right;\">0.000409228</td><td style=\"text-align: right;\">      </td><td style=\"text-align: right;\">                </td><td style=\"text-align: right;\">                </td><td style=\"text-align: right;\">                    </td><td style=\"text-align: right;\">              </td></tr>\n",
       "<tr><td>TorchTrainer_4f4b8_00090</td><td>PENDING   </td><td>               </td><td style=\"text-align: right;\">128</td><td style=\"text-align: right;\">0.181597</td><td style=\"text-align: right;\">128</td><td style=\"text-align: right;\">256</td><td style=\"text-align: right;\">128</td><td style=\"text-align: right;\">0.00313481 </td><td style=\"text-align: right;\">      </td><td style=\"text-align: right;\">                </td><td style=\"text-align: right;\">                </td><td style=\"text-align: right;\">                    </td><td style=\"text-align: right;\">              </td></tr>\n",
       "<tr><td>TorchTrainer_4f4b8_00091</td><td>PENDING   </td><td>               </td><td style=\"text-align: right;\"> 32</td><td style=\"text-align: right;\">0.120487</td><td style=\"text-align: right;\"> 32</td><td style=\"text-align: right;\"> 64</td><td style=\"text-align: right;\">512</td><td style=\"text-align: right;\">0.00106723 </td><td style=\"text-align: right;\">      </td><td style=\"text-align: right;\">                </td><td style=\"text-align: right;\">                </td><td style=\"text-align: right;\">                    </td><td style=\"text-align: right;\">              </td></tr>\n",
       "<tr><td>TorchTrainer_4f4b8_00092</td><td>PENDING   </td><td>               </td><td style=\"text-align: right;\"> 64</td><td style=\"text-align: right;\">0.163011</td><td style=\"text-align: right;\">128</td><td style=\"text-align: right;\"> 64</td><td style=\"text-align: right;\">128</td><td style=\"text-align: right;\">0.0876104  </td><td style=\"text-align: right;\">      </td><td style=\"text-align: right;\">                </td><td style=\"text-align: right;\">                </td><td style=\"text-align: right;\">                    </td><td style=\"text-align: right;\">              </td></tr>\n",
       "<tr><td>TorchTrainer_4f4b8_00093</td><td>PENDING   </td><td>               </td><td style=\"text-align: right;\"> 64</td><td style=\"text-align: right;\">0.133491</td><td style=\"text-align: right;\"> 64</td><td style=\"text-align: right;\"> 64</td><td style=\"text-align: right;\">512</td><td style=\"text-align: right;\">0.002236   </td><td style=\"text-align: right;\">      </td><td style=\"text-align: right;\">                </td><td style=\"text-align: right;\">                </td><td style=\"text-align: right;\">                    </td><td style=\"text-align: right;\">              </td></tr>\n",
       "<tr><td>TorchTrainer_4f4b8_00094</td><td>PENDING   </td><td>               </td><td style=\"text-align: right;\">128</td><td style=\"text-align: right;\">0.106757</td><td style=\"text-align: right;\">128</td><td style=\"text-align: right;\">256</td><td style=\"text-align: right;\">256</td><td style=\"text-align: right;\">0.0239505  </td><td style=\"text-align: right;\">      </td><td style=\"text-align: right;\">                </td><td style=\"text-align: right;\">                </td><td style=\"text-align: right;\">                    </td><td style=\"text-align: right;\">              </td></tr>\n",
       "<tr><td>TorchTrainer_4f4b8_00095</td><td>PENDING   </td><td>               </td><td style=\"text-align: right;\">128</td><td style=\"text-align: right;\">0.261378</td><td style=\"text-align: right;\"> 32</td><td style=\"text-align: right;\">256</td><td style=\"text-align: right;\">128</td><td style=\"text-align: right;\">0.00557293 </td><td style=\"text-align: right;\">      </td><td style=\"text-align: right;\">                </td><td style=\"text-align: right;\">                </td><td style=\"text-align: right;\">                    </td><td style=\"text-align: right;\">              </td></tr>\n",
       "<tr><td>TorchTrainer_4f4b8_00096</td><td>PENDING   </td><td>               </td><td style=\"text-align: right;\"> 32</td><td style=\"text-align: right;\">0.266163</td><td style=\"text-align: right;\">128</td><td style=\"text-align: right;\">128</td><td style=\"text-align: right;\">512</td><td style=\"text-align: right;\">0.00624495 </td><td style=\"text-align: right;\">      </td><td style=\"text-align: right;\">                </td><td style=\"text-align: right;\">                </td><td style=\"text-align: right;\">                    </td><td style=\"text-align: right;\">              </td></tr>\n",
       "<tr><td>TorchTrainer_4f4b8_00097</td><td>PENDING   </td><td>               </td><td style=\"text-align: right;\"> 32</td><td style=\"text-align: right;\">0.176952</td><td style=\"text-align: right;\"> 32</td><td style=\"text-align: right;\">256</td><td style=\"text-align: right;\">512</td><td style=\"text-align: right;\">0.000196139</td><td style=\"text-align: right;\">      </td><td style=\"text-align: right;\">                </td><td style=\"text-align: right;\">                </td><td style=\"text-align: right;\">                    </td><td style=\"text-align: right;\">              </td></tr>\n",
       "<tr><td>TorchTrainer_4f4b8_00098</td><td>PENDING   </td><td>               </td><td style=\"text-align: right;\"> 32</td><td style=\"text-align: right;\">0.139198</td><td style=\"text-align: right;\">128</td><td style=\"text-align: right;\">256</td><td style=\"text-align: right;\">512</td><td style=\"text-align: right;\">0.00252399 </td><td style=\"text-align: right;\">      </td><td style=\"text-align: right;\">                </td><td style=\"text-align: right;\">                </td><td style=\"text-align: right;\">                    </td><td style=\"text-align: right;\">              </td></tr>\n",
       "<tr><td>TorchTrainer_4f4b8_00099</td><td>PENDING   </td><td>               </td><td style=\"text-align: right;\">128</td><td style=\"text-align: right;\">0.280907</td><td style=\"text-align: right;\"> 64</td><td style=\"text-align: right;\">128</td><td style=\"text-align: right;\">128</td><td style=\"text-align: right;\">0.0113136  </td><td style=\"text-align: right;\">      </td><td style=\"text-align: right;\">                </td><td style=\"text-align: right;\">                </td><td style=\"text-align: right;\">                    </td><td style=\"text-align: right;\">              </td></tr>\n",
       "<tr><td>TorchTrainer_4f4b8_00000</td><td>TERMINATED</td><td>127.0.0.1:51186</td><td style=\"text-align: right;\">128</td><td style=\"text-align: right;\">0.164657</td><td style=\"text-align: right;\"> 64</td><td style=\"text-align: right;\">256</td><td style=\"text-align: right;\">256</td><td style=\"text-align: right;\">0.001265   </td><td style=\"text-align: right;\">     5</td><td style=\"text-align: right;\">         81.1402</td><td style=\"text-align: right;\">      0.141445  </td><td style=\"text-align: right;\">           0.965909 </td><td style=\"text-align: right;\">     0.0928037</td></tr>\n",
       "<tr><td>TorchTrainer_4f4b8_00001</td><td>TERMINATED</td><td>127.0.0.1:51185</td><td style=\"text-align: right;\"> 64</td><td style=\"text-align: right;\">0.16302 </td><td style=\"text-align: right;\">128</td><td style=\"text-align: right;\">256</td><td style=\"text-align: right;\">128</td><td style=\"text-align: right;\">0.00334581 </td><td style=\"text-align: right;\">     1</td><td style=\"text-align: right;\">         31.4398</td><td style=\"text-align: right;\">      0.244823  </td><td style=\"text-align: right;\">           0.958333 </td><td style=\"text-align: right;\">     0.193076 </td></tr>\n",
       "<tr><td>TorchTrainer_4f4b8_00002</td><td>TERMINATED</td><td>127.0.0.1:51189</td><td style=\"text-align: right;\"> 64</td><td style=\"text-align: right;\">0.139522</td><td style=\"text-align: right;\"> 64</td><td style=\"text-align: right;\"> 64</td><td style=\"text-align: right;\">256</td><td style=\"text-align: right;\">0.00167269 </td><td style=\"text-align: right;\">     5</td><td style=\"text-align: right;\">         90.3363</td><td style=\"text-align: right;\">      0.00688993</td><td style=\"text-align: right;\">           1        </td><td style=\"text-align: right;\">     0.115875 </td></tr>\n",
       "<tr><td>TorchTrainer_4f4b8_00003</td><td>TERMINATED</td><td>127.0.0.1:51187</td><td style=\"text-align: right;\">128</td><td style=\"text-align: right;\">0.210625</td><td style=\"text-align: right;\">128</td><td style=\"text-align: right;\"> 64</td><td style=\"text-align: right;\">128</td><td style=\"text-align: right;\">0.0230337  </td><td style=\"text-align: right;\">     5</td><td style=\"text-align: right;\">         80.3655</td><td style=\"text-align: right;\">      0.61947   </td><td style=\"text-align: right;\">           0.818182 </td><td style=\"text-align: right;\">     0.489115 </td></tr>\n",
       "<tr><td>TorchTrainer_4f4b8_00004</td><td>TERMINATED</td><td>127.0.0.1:51188</td><td style=\"text-align: right;\"> 32</td><td style=\"text-align: right;\">0.244177</td><td style=\"text-align: right;\"> 64</td><td style=\"text-align: right;\"> 64</td><td style=\"text-align: right;\">512</td><td style=\"text-align: right;\">0.00128504 </td><td style=\"text-align: right;\">     1</td><td style=\"text-align: right;\">         39.1144</td><td style=\"text-align: right;\">      0.184503  </td><td style=\"text-align: right;\">           0.958333 </td><td style=\"text-align: right;\">     0.21916  </td></tr>\n",
       "<tr><td>TorchTrainer_4f4b8_00005</td><td>TERMINATED</td><td>127.0.0.1:51786</td><td style=\"text-align: right;\"> 64</td><td style=\"text-align: right;\">0.218733</td><td style=\"text-align: right;\"> 32</td><td style=\"text-align: right;\">128</td><td style=\"text-align: right;\">256</td><td style=\"text-align: right;\">0.00175923 </td><td style=\"text-align: right;\">     1</td><td style=\"text-align: right;\">         33.9229</td><td style=\"text-align: right;\">      0.106557  </td><td style=\"text-align: right;\">           1        </td><td style=\"text-align: right;\">     0.215902 </td></tr>\n",
       "<tr><td>TorchTrainer_4f4b8_00006</td><td>TERMINATED</td><td>127.0.0.1:51894</td><td style=\"text-align: right;\"> 64</td><td style=\"text-align: right;\">0.217352</td><td style=\"text-align: right;\"> 64</td><td style=\"text-align: right;\">256</td><td style=\"text-align: right;\">128</td><td style=\"text-align: right;\">0.00884095 </td><td style=\"text-align: right;\">     1</td><td style=\"text-align: right;\">         35.8752</td><td style=\"text-align: right;\">      0.48807   </td><td style=\"text-align: right;\">           0.875    </td><td style=\"text-align: right;\">     0.366347 </td></tr>\n",
       "<tr><td>TorchTrainer_4f4b8_00007</td><td>TERMINATED</td><td>127.0.0.1:52523</td><td style=\"text-align: right;\"> 64</td><td style=\"text-align: right;\">0.190693</td><td style=\"text-align: right;\">128</td><td style=\"text-align: right;\">256</td><td style=\"text-align: right;\">512</td><td style=\"text-align: right;\">0.0118871  </td><td style=\"text-align: right;\">     1</td><td style=\"text-align: right;\">         28.779 </td><td style=\"text-align: right;\">      0.448084  </td><td style=\"text-align: right;\">           0.916667 </td><td style=\"text-align: right;\">     0.509069 </td></tr>\n",
       "<tr><td>TorchTrainer_4f4b8_00008</td><td>TERMINATED</td><td>127.0.0.1:52624</td><td style=\"text-align: right;\">128</td><td style=\"text-align: right;\">0.146467</td><td style=\"text-align: right;\"> 32</td><td style=\"text-align: right;\">128</td><td style=\"text-align: right;\">256</td><td style=\"text-align: right;\">0.000107427</td><td style=\"text-align: right;\">     1</td><td style=\"text-align: right;\">         23.7482</td><td style=\"text-align: right;\">      0.551904  </td><td style=\"text-align: right;\">           0.840909 </td><td style=\"text-align: right;\">     0.428367 </td></tr>\n",
       "<tr><td>TorchTrainer_4f4b8_00009</td><td>TERMINATED</td><td>127.0.0.1:52623</td><td style=\"text-align: right;\">128</td><td style=\"text-align: right;\">0.298544</td><td style=\"text-align: right;\">128</td><td style=\"text-align: right;\">128</td><td style=\"text-align: right;\">256</td><td style=\"text-align: right;\">0.000864114</td><td style=\"text-align: right;\">     5</td><td style=\"text-align: right;\">         70.1756</td><td style=\"text-align: right;\">      0.227673  </td><td style=\"text-align: right;\">           0.943182 </td><td style=\"text-align: right;\">     0.0866623</td></tr>\n",
       "<tr><td>TorchTrainer_4f4b8_00010</td><td>TERMINATED</td><td>127.0.0.1:52656</td><td style=\"text-align: right;\"> 64</td><td style=\"text-align: right;\">0.248861</td><td style=\"text-align: right;\">128</td><td style=\"text-align: right;\">128</td><td style=\"text-align: right;\">256</td><td style=\"text-align: right;\">0.000807476</td><td style=\"text-align: right;\">     5</td><td style=\"text-align: right;\">         80.3913</td><td style=\"text-align: right;\">      0.00812138</td><td style=\"text-align: right;\">           1        </td><td style=\"text-align: right;\">     0.0927941</td></tr>\n",
       "<tr><td>TorchTrainer_4f4b8_00011</td><td>TERMINATED</td><td>127.0.0.1:52788</td><td style=\"text-align: right;\"> 32</td><td style=\"text-align: right;\">0.183565</td><td style=\"text-align: right;\">128</td><td style=\"text-align: right;\"> 64</td><td style=\"text-align: right;\">128</td><td style=\"text-align: right;\">0.00461072 </td><td style=\"text-align: right;\">     2</td><td style=\"text-align: right;\">         58.4068</td><td style=\"text-align: right;\">      0.88388   </td><td style=\"text-align: right;\">           0.833333 </td><td style=\"text-align: right;\">     0.196405 </td></tr>\n",
       "<tr><td>TorchTrainer_4f4b8_00012</td><td>TERMINATED</td><td>127.0.0.1:53111</td><td style=\"text-align: right;\"> 64</td><td style=\"text-align: right;\">0.145136</td><td style=\"text-align: right;\">128</td><td style=\"text-align: right;\">128</td><td style=\"text-align: right;\">512</td><td style=\"text-align: right;\">0.0837702  </td><td style=\"text-align: right;\">     1</td><td style=\"text-align: right;\">         33.1682</td><td style=\"text-align: right;\">      2.26398   </td><td style=\"text-align: right;\">           0.125    </td><td style=\"text-align: right;\">     2.30117  </td></tr>\n",
       "<tr><td>TorchTrainer_4f4b8_00013</td><td>TERMINATED</td><td>127.0.0.1:53139</td><td style=\"text-align: right;\"> 64</td><td style=\"text-align: right;\">0.197683</td><td style=\"text-align: right;\">128</td><td style=\"text-align: right;\">128</td><td style=\"text-align: right;\">256</td><td style=\"text-align: right;\">0.0279854  </td><td style=\"text-align: right;\">     1</td><td style=\"text-align: right;\">         33.3414</td><td style=\"text-align: right;\">      1.93014   </td><td style=\"text-align: right;\">           0.208333 </td><td style=\"text-align: right;\">     1.89863  </td></tr>\n",
       "<tr><td>TorchTrainer_4f4b8_00014</td><td>TERMINATED</td><td>127.0.0.1:53845</td><td style=\"text-align: right;\"> 64</td><td style=\"text-align: right;\">0.159492</td><td style=\"text-align: right;\">128</td><td style=\"text-align: right;\">128</td><td style=\"text-align: right;\">256</td><td style=\"text-align: right;\">0.0690631  </td><td style=\"text-align: right;\">     1</td><td style=\"text-align: right;\">         27.1349</td><td style=\"text-align: right;\">      1.98222   </td><td style=\"text-align: right;\">           0.208333 </td><td style=\"text-align: right;\">     2.05941  </td></tr>\n",
       "<tr><td>TorchTrainer_4f4b8_00015</td><td>TERMINATED</td><td>127.0.0.1:53880</td><td style=\"text-align: right;\">128</td><td style=\"text-align: right;\">0.103077</td><td style=\"text-align: right;\"> 64</td><td style=\"text-align: right;\">128</td><td style=\"text-align: right;\">128</td><td style=\"text-align: right;\">0.00363458 </td><td style=\"text-align: right;\">     2</td><td style=\"text-align: right;\">         36.5277</td><td style=\"text-align: right;\">      0.154357  </td><td style=\"text-align: right;\">           0.954545 </td><td style=\"text-align: right;\">     0.137578 </td></tr>\n",
       "<tr><td>TorchTrainer_4f4b8_00016</td><td>TERMINATED</td><td>127.0.0.1:53881</td><td style=\"text-align: right;\"> 64</td><td style=\"text-align: right;\">0.185217</td><td style=\"text-align: right;\"> 32</td><td style=\"text-align: right;\"> 64</td><td style=\"text-align: right;\">256</td><td style=\"text-align: right;\">0.000474152</td><td style=\"text-align: right;\">     1</td><td style=\"text-align: right;\">         29.9938</td><td style=\"text-align: right;\">      0.326948  </td><td style=\"text-align: right;\">           0.875    </td><td style=\"text-align: right;\">     0.260434 </td></tr>\n",
       "<tr><td>TorchTrainer_4f4b8_00017</td><td>TERMINATED</td><td>127.0.0.1:53946</td><td style=\"text-align: right;\">128</td><td style=\"text-align: right;\">0.200813</td><td style=\"text-align: right;\">128</td><td style=\"text-align: right;\">128</td><td style=\"text-align: right;\">128</td><td style=\"text-align: right;\">0.000217754</td><td style=\"text-align: right;\">     1</td><td style=\"text-align: right;\">         24.8601</td><td style=\"text-align: right;\">      0.283675  </td><td style=\"text-align: right;\">           0.897727 </td><td style=\"text-align: right;\">     0.297953 </td></tr>\n",
       "<tr><td>TorchTrainer_4f4b8_00018</td><td>TERMINATED</td><td>127.0.0.1:54116</td><td style=\"text-align: right;\">128</td><td style=\"text-align: right;\">0.164316</td><td style=\"text-align: right;\"> 32</td><td style=\"text-align: right;\"> 64</td><td style=\"text-align: right;\">256</td><td style=\"text-align: right;\">0.0029891  </td><td style=\"text-align: right;\">     2</td><td style=\"text-align: right;\">         33.2077</td><td style=\"text-align: right;\">      0.261539  </td><td style=\"text-align: right;\">           0.920455 </td><td style=\"text-align: right;\">     0.173926 </td></tr>\n",
       "<tr><td>TorchTrainer_4f4b8_00019</td><td>TERMINATED</td><td>127.0.0.1:54458</td><td style=\"text-align: right;\"> 32</td><td style=\"text-align: right;\">0.142379</td><td style=\"text-align: right;\"> 32</td><td style=\"text-align: right;\">256</td><td style=\"text-align: right;\">256</td><td style=\"text-align: right;\">0.0565747  </td><td style=\"text-align: right;\">     1</td><td style=\"text-align: right;\">         29.9217</td><td style=\"text-align: right;\">      2.32129   </td><td style=\"text-align: right;\">           0.0416667</td><td style=\"text-align: right;\">     2.30773  </td></tr>\n",
       "<tr><td>TorchTrainer_4f4b8_00020</td><td>TERMINATED</td><td>127.0.0.1:54459</td><td style=\"text-align: right;\"> 64</td><td style=\"text-align: right;\">0.197145</td><td style=\"text-align: right;\">128</td><td style=\"text-align: right;\"> 64</td><td style=\"text-align: right;\">512</td><td style=\"text-align: right;\">0.000313708</td><td style=\"text-align: right;\">     4</td><td style=\"text-align: right;\">         57.7019</td><td style=\"text-align: right;\">      0.0232291 </td><td style=\"text-align: right;\">           1        </td><td style=\"text-align: right;\">     0.0892004</td></tr>\n",
       "<tr><td>TorchTrainer_4f4b8_00021</td><td>TERMINATED</td><td>127.0.0.1:54525</td><td style=\"text-align: right;\"> 32</td><td style=\"text-align: right;\">0.201236</td><td style=\"text-align: right;\"> 32</td><td style=\"text-align: right;\"> 64</td><td style=\"text-align: right;\">256</td><td style=\"text-align: right;\">0.000370283</td><td style=\"text-align: right;\">     1</td><td style=\"text-align: right;\">         28.8112</td><td style=\"text-align: right;\">      0.373311  </td><td style=\"text-align: right;\">           0.916667 </td><td style=\"text-align: right;\">     0.24819  </td></tr>\n",
       "<tr><td>TorchTrainer_4f4b8_00022</td><td>TERMINATED</td><td>127.0.0.1:54647</td><td style=\"text-align: right;\"> 32</td><td style=\"text-align: right;\">0.104949</td><td style=\"text-align: right;\"> 32</td><td style=\"text-align: right;\"> 64</td><td style=\"text-align: right;\">256</td><td style=\"text-align: right;\">0.0170612  </td><td style=\"text-align: right;\">     1</td><td style=\"text-align: right;\">         28.5419</td><td style=\"text-align: right;\">      1.45069   </td><td style=\"text-align: right;\">           0.5      </td><td style=\"text-align: right;\">     0.958675 </td></tr>\n",
       "<tr><td>TorchTrainer_4f4b8_00023</td><td>TERMINATED</td><td>127.0.0.1:54781</td><td style=\"text-align: right;\">128</td><td style=\"text-align: right;\">0.232611</td><td style=\"text-align: right;\"> 32</td><td style=\"text-align: right;\">128</td><td style=\"text-align: right;\">512</td><td style=\"text-align: right;\">0.0112942  </td><td style=\"text-align: right;\">     1</td><td style=\"text-align: right;\">         25.6129</td><td style=\"text-align: right;\">      0.590797  </td><td style=\"text-align: right;\">           0.829545 </td><td style=\"text-align: right;\">     0.455846 </td></tr>\n",
       "<tr><td>TorchTrainer_4f4b8_00024</td><td>TERMINATED</td><td>127.0.0.1:55095</td><td style=\"text-align: right;\"> 64</td><td style=\"text-align: right;\">0.1795  </td><td style=\"text-align: right;\">128</td><td style=\"text-align: right;\">256</td><td style=\"text-align: right;\">512</td><td style=\"text-align: right;\">0.0387874  </td><td style=\"text-align: right;\">     1</td><td style=\"text-align: right;\">         28.3506</td><td style=\"text-align: right;\">      2.30244   </td><td style=\"text-align: right;\">           0.208333 </td><td style=\"text-align: right;\">     2.30743  </td></tr>\n",
       "<tr><td>TorchTrainer_4f4b8_00025</td><td>TERMINATED</td><td>127.0.0.1:55129</td><td style=\"text-align: right;\">128</td><td style=\"text-align: right;\">0.142859</td><td style=\"text-align: right;\"> 32</td><td style=\"text-align: right;\">128</td><td style=\"text-align: right;\">128</td><td style=\"text-align: right;\">0.0151604  </td><td style=\"text-align: right;\">     1</td><td style=\"text-align: right;\">         21.8742</td><td style=\"text-align: right;\">      0.604782  </td><td style=\"text-align: right;\">           0.852273 </td><td style=\"text-align: right;\">     0.392538 </td></tr>\n",
       "<tr><td>TorchTrainer_4f4b8_00026</td><td>TERMINATED</td><td>127.0.0.1:55205</td><td style=\"text-align: right;\"> 32</td><td style=\"text-align: right;\">0.257252</td><td style=\"text-align: right;\">128</td><td style=\"text-align: right;\">128</td><td style=\"text-align: right;\">128</td><td style=\"text-align: right;\">0.000990378</td><td style=\"text-align: right;\">     4</td><td style=\"text-align: right;\">         79.6752</td><td style=\"text-align: right;\">      0.2415    </td><td style=\"text-align: right;\">           0.958333 </td><td style=\"text-align: right;\">     0.100818 </td></tr>\n",
       "<tr><td>TorchTrainer_4f4b8_00027</td><td>TERMINATED</td><td>127.0.0.1:55341</td><td style=\"text-align: right;\"> 32</td><td style=\"text-align: right;\">0.287141</td><td style=\"text-align: right;\"> 32</td><td style=\"text-align: right;\"> 64</td><td style=\"text-align: right;\">512</td><td style=\"text-align: right;\">0.0383546  </td><td style=\"text-align: right;\">     1</td><td style=\"text-align: right;\">         26.0037</td><td style=\"text-align: right;\">      2.32541   </td><td style=\"text-align: right;\">           0.0833333</td><td style=\"text-align: right;\">     2.30572  </td></tr>\n",
       "<tr><td>TorchTrainer_4f4b8_00028</td><td>TERMINATED</td><td>127.0.0.1:55634</td><td style=\"text-align: right;\"> 32</td><td style=\"text-align: right;\">0.111862</td><td style=\"text-align: right;\"> 64</td><td style=\"text-align: right;\">256</td><td style=\"text-align: right;\">512</td><td style=\"text-align: right;\">0.0139594  </td><td style=\"text-align: right;\">     1</td><td style=\"text-align: right;\">         32.2694</td><td style=\"text-align: right;\">      0.913142  </td><td style=\"text-align: right;\">           0.791667 </td><td style=\"text-align: right;\">     0.989577 </td></tr>\n",
       "<tr><td>TorchTrainer_4f4b8_00029</td><td>TERMINATED</td><td>127.0.0.1:55652</td><td style=\"text-align: right;\"> 32</td><td style=\"text-align: right;\">0.216988</td><td style=\"text-align: right;\"> 64</td><td style=\"text-align: right;\"> 64</td><td style=\"text-align: right;\">256</td><td style=\"text-align: right;\">0.000263022</td><td style=\"text-align: right;\">     2</td><td style=\"text-align: right;\">         48.7119</td><td style=\"text-align: right;\">      0.0878393 </td><td style=\"text-align: right;\">           1        </td><td style=\"text-align: right;\">     0.162212 </td></tr>\n",
       "<tr><td>TorchTrainer_4f4b8_00030</td><td>TERMINATED</td><td>127.0.0.1:55740</td><td style=\"text-align: right;\">128</td><td style=\"text-align: right;\">0.126684</td><td style=\"text-align: right;\"> 64</td><td style=\"text-align: right;\">256</td><td style=\"text-align: right;\">128</td><td style=\"text-align: right;\">0.00723271 </td><td style=\"text-align: right;\">     2</td><td style=\"text-align: right;\">         34.1183</td><td style=\"text-align: right;\">      0.188038  </td><td style=\"text-align: right;\">           0.954545 </td><td style=\"text-align: right;\">     0.222781 </td></tr>\n",
       "<tr><td>TorchTrainer_4f4b8_00031</td><td>TERMINATED</td><td>127.0.0.1:55850</td><td style=\"text-align: right;\"> 64</td><td style=\"text-align: right;\">0.119933</td><td style=\"text-align: right;\"> 32</td><td style=\"text-align: right;\">256</td><td style=\"text-align: right;\">512</td><td style=\"text-align: right;\">0.0423337  </td><td style=\"text-align: right;\">     1</td><td style=\"text-align: right;\">         31.3688</td><td style=\"text-align: right;\">      2.29628   </td><td style=\"text-align: right;\">           0.125    </td><td style=\"text-align: right;\">     2.30542  </td></tr>\n",
       "<tr><td>TorchTrainer_4f4b8_00032</td><td>TERMINATED</td><td>127.0.0.1:56302</td><td style=\"text-align: right;\"> 64</td><td style=\"text-align: right;\">0.113682</td><td style=\"text-align: right;\">128</td><td style=\"text-align: right;\"> 64</td><td style=\"text-align: right;\">512</td><td style=\"text-align: right;\">0.0290654  </td><td style=\"text-align: right;\">     1</td><td style=\"text-align: right;\">         28.4496</td><td style=\"text-align: right;\">      2.3016    </td><td style=\"text-align: right;\">           0.166667 </td><td style=\"text-align: right;\">     2.30385  </td></tr>\n",
       "<tr><td>TorchTrainer_4f4b8_00033</td><td>TERMINATED</td><td>127.0.0.1:56369</td><td style=\"text-align: right;\">128</td><td style=\"text-align: right;\">0.216356</td><td style=\"text-align: right;\"> 32</td><td style=\"text-align: right;\"> 64</td><td style=\"text-align: right;\">512</td><td style=\"text-align: right;\">0.000934676</td><td style=\"text-align: right;\">     2</td><td style=\"text-align: right;\">         35.4182</td><td style=\"text-align: right;\">      0.388581  </td><td style=\"text-align: right;\">           0.920455 </td><td style=\"text-align: right;\">     0.177926 </td></tr>\n",
       "<tr><td>TorchTrainer_4f4b8_00036</td><td>TERMINATED</td><td>127.0.0.1:56678</td><td style=\"text-align: right;\"> 64</td><td style=\"text-align: right;\">0.140295</td><td style=\"text-align: right;\"> 32</td><td style=\"text-align: right;\">128</td><td style=\"text-align: right;\">512</td><td style=\"text-align: right;\">0.0394433  </td><td style=\"text-align: right;\">     1</td><td style=\"text-align: right;\">         30.5143</td><td style=\"text-align: right;\">      2.31231   </td><td style=\"text-align: right;\">           0.0416667</td><td style=\"text-align: right;\">     2.30816  </td></tr>\n",
       "</tbody>\n",
       "</table>\n",
       "  </div>\n",
       "</div>\n",
       "<style>\n",
       ".tuneStatus {\n",
       "  color: var(--jp-ui-font-color1);\n",
       "}\n",
       ".tuneStatus .systemInfo {\n",
       "  display: flex;\n",
       "  flex-direction: column;\n",
       "}\n",
       ".tuneStatus td {\n",
       "  white-space: nowrap;\n",
       "}\n",
       ".tuneStatus .trialStatus {\n",
       "  display: flex;\n",
       "  flex-direction: column;\n",
       "}\n",
       ".tuneStatus h3 {\n",
       "  font-weight: bold;\n",
       "}\n",
       ".tuneStatus .hDivider {\n",
       "  border-bottom-width: var(--jp-border-width);\n",
       "  border-bottom-color: var(--jp-border-color0);\n",
       "  border-bottom-style: solid;\n",
       "}\n",
       ".tuneStatus .vDivider {\n",
       "  border-left-width: var(--jp-border-width);\n",
       "  border-left-color: var(--jp-border-color0);\n",
       "  border-left-style: solid;\n",
       "  margin: 0.5em 1em 0.5em 1em;\n",
       "}\n",
       "</style>\n"
      ],
      "text/plain": [
       "<IPython.core.display.HTML object>"
      ]
     },
     "metadata": {},
     "output_type": "display_data"
    },
    {
     "name": "stderr",
     "output_type": "stream",
     "text": [
      "\u001b[36m(TorchTrainer pid=51189)\u001b[0m Started distributed worker processes: \n",
      "\u001b[36m(TorchTrainer pid=51189)\u001b[0m - (node_id=7cc2334a334327f410131b140fb9ad2ae54820f537299598f92261b4, ip=127.0.0.1, pid=51246) world_rank=0, local_rank=0, node_rank=0\n",
      "\u001b[36m(RayTrainWorker pid=51248)\u001b[0m Setting up process group for: env:// [rank=0, world_size=1]\n"
     ]
    },
    {
     "name": "stdout",
     "output_type": "stream",
     "text": [
      "\u001b[36m(RayTrainWorker pid=51247)\u001b[0m printing config {'layer_1_size': 64, 'layer_2_size': 256, 'layer_3_size': 256, 'dropout': 0.16465667111048166, 'batch_size': 128, 'learning_rate': 0.0012649991136170205}\n",
      "\u001b[36m(RayTrainWorker pid=51247)\u001b[0m Downloading http://yann.lecun.com/exdb/mnist/train-images-idx3-ubyte.gz\n"
     ]
    },
    {
     "name": "stderr",
     "output_type": "stream",
     "text": [
      "\u001b[36m(RayTrainWorker pid=51248)\u001b[0m GPU available: True (mps), used: False\n",
      "\u001b[36m(RayTrainWorker pid=51248)\u001b[0m TPU available: False, using: 0 TPU cores\n",
      "\u001b[36m(RayTrainWorker pid=51248)\u001b[0m HPU available: False, using: 0 HPUs\n",
      "\u001b[36m(RayTrainWorker pid=51248)\u001b[0m /Users/sidharrthnagappan/.virtualenvs/lsdp_miniproject/lib/python3.11/site-packages/pytorch_lightning/trainer/setup.py:177: GPU available but not used. You can set it by doing `Trainer(accelerator='gpu')`.\n",
      "\u001b[36m(RayTrainWorker pid=51248)\u001b[0m /Users/sidharrthnagappan/.virtualenvs/lsdp_miniproject/lib/python3.11/site-packages/pytorch_lightning/loops/utilities.py:73: `max_epochs` was not set. Setting it to 1000 epochs. To train without an epoch limit, set `max_epochs=-1`.\n"
     ]
    },
    {
     "name": "stdout",
     "output_type": "stream",
     "text": [
      "\u001b[36m(RayTrainWorker pid=51247)\u001b[0m Failed to download (trying next):\n",
      "\u001b[36m(RayTrainWorker pid=51247)\u001b[0m HTTP Error 403: Forbidden\n",
      "\u001b[36m(RayTrainWorker pid=51247)\u001b[0m \n",
      "\u001b[36m(RayTrainWorker pid=51248)\u001b[0m \n",
      "\u001b[36m(RayTrainWorker pid=51246)\u001b[0m \n",
      "\u001b[36m(RayTrainWorker pid=51249)\u001b[0m \n",
      "\u001b[36m(RayTrainWorker pid=51245)\u001b[0m \n",
      "\u001b[36m(RayTrainWorker pid=51247)\u001b[0m Downloading https://ossci-datasets.s3.amazonaws.com/mnist/train-images-idx3-ubyte.gz to /var/folders/mf/cfzv46p15017stkscsq9jw9h0000gn/T/tmpoka2j6og/MNIST/raw/train-images-idx3-ubyte.gz\n"
     ]
    },
    {
     "name": "stderr",
     "output_type": "stream",
     "text": [
      "  0%|          | 0.00/9.91M [00:00<?, ?B/s]\n",
      "  1%|          | 98.3k/9.91M [00:00<00:16, 599kB/s]\n",
      " 27%|██▋       | 2.72M/9.91M [00:00<00:01, 5.91MB/s]\n",
      " 97%|█████████▋| 9.60M/9.91M [00:01<00:00, 10.5MB/s]\n",
      "100%|██████████| 9.91M/9.91M [00:01<00:00, 8.45MB/s]\n",
      " 92%|█████████▏| 9.14M/9.91M [00:01<00:00, 10.8MB/s]\n"
     ]
    },
    {
     "name": "stdout",
     "output_type": "stream",
     "text": [
      "\u001b[36m(RayTrainWorker pid=51247)\u001b[0m Extracting /var/folders/mf/cfzv46p15017stkscsq9jw9h0000gn/T/tmpoka2j6og/MNIST/raw/train-images-idx3-ubyte.gz to /var/folders/mf/cfzv46p15017stkscsq9jw9h0000gn/T/tmpoka2j6og/MNIST/raw\n",
      "\u001b[36m(RayTrainWorker pid=51247)\u001b[0m \n"
     ]
    },
    {
     "name": "stderr",
     "output_type": "stream",
     "text": [
      " 93%|█████████▎| 9.21M/9.91M [00:01<00:00, 8.75MB/s]\n",
      "100%|██████████| 9.91M/9.91M [00:01<00:00, 7.76MB/s]\n",
      "100%|██████████| 9.91M/9.91M [00:01<00:00, 7.15MB/s]\n",
      "100%|██████████| 9.91M/9.91M [00:01<00:00, 6.96MB/s]\n"
     ]
    },
    {
     "name": "stdout",
     "output_type": "stream",
     "text": [
      "\u001b[36m(RayTrainWorker pid=51245)\u001b[0m \n",
      "\u001b[36m(RayTrainWorker pid=51248)\u001b[0m \n",
      "\u001b[36m(RayTrainWorker pid=51246)\u001b[0m \n"
     ]
    },
    {
     "name": "stderr",
     "output_type": "stream",
     "text": [
      "100%|██████████| 9.91M/9.91M [00:01<00:00, 6.80MB/s]\n"
     ]
    },
    {
     "name": "stdout",
     "output_type": "stream",
     "text": [
      "\u001b[36m(RayTrainWorker pid=51249)\u001b[0m \n",
      "\u001b[36m(RayTrainWorker pid=51247)\u001b[0m \n",
      "\u001b[36m(RayTrainWorker pid=51245)\u001b[0m \n",
      "\u001b[36m(RayTrainWorker pid=51248)\u001b[0m \n",
      "\u001b[36m(RayTrainWorker pid=51246)\u001b[0m \n",
      "\u001b[36m(RayTrainWorker pid=51249)\u001b[0m \n",
      "\u001b[36m(RayTrainWorker pid=51247)\u001b[0m \n",
      "\u001b[36m(RayTrainWorker pid=51245)\u001b[0m \n"
     ]
    },
    {
     "name": "stderr",
     "output_type": "stream",
     "text": [
      "100%|██████████| 28.9k/28.9k [00:00<00:00, 346kB/s]\n",
      "100%|██████████| 28.9k/28.9k [00:00<00:00, 334kB/s]\n"
     ]
    },
    {
     "name": "stdout",
     "output_type": "stream",
     "text": [
      "\u001b[36m(RayTrainWorker pid=51248)\u001b[0m \n",
      "\u001b[36m(RayTrainWorker pid=51246)\u001b[0m \n",
      "\u001b[36m(RayTrainWorker pid=51249)\u001b[0m \n"
     ]
    },
    {
     "name": "stderr",
     "output_type": "stream",
     "text": [
      "100%|██████████| 28.9k/28.9k [00:00<00:00, 343kB/s]\n",
      "100%|██████████| 28.9k/28.9k [00:00<00:00, 341kB/s]\n",
      "100%|██████████| 28.9k/28.9k [00:00<00:00, 346kB/s]\n"
     ]
    },
    {
     "name": "stdout",
     "output_type": "stream",
     "text": [
      "\u001b[36m(RayTrainWorker pid=51247)\u001b[0m \n",
      "\u001b[36m(RayTrainWorker pid=51245)\u001b[0m \n",
      "\u001b[36m(RayTrainWorker pid=51248)\u001b[0m \n",
      "\u001b[36m(RayTrainWorker pid=51246)\u001b[0m \n",
      "\u001b[36m(RayTrainWorker pid=51249)\u001b[0m \n"
     ]
    },
    {
     "name": "stderr",
     "output_type": "stream",
     "text": [
      "\u001b[36m(TorchTrainer pid=51188)\u001b[0m Started distributed worker processes: \u001b[32m [repeated 4x across cluster] (Ray deduplicates logs by default. Set RAY_DEDUP_LOGS=0 to disable log deduplication, or see https://docs.ray.io/en/master/ray-observability/user-guides/configure-logging.html#log-deduplication for more options.)\u001b[0m\n",
      "\u001b[36m(TorchTrainer pid=51188)\u001b[0m - (node_id=7cc2334a334327f410131b140fb9ad2ae54820f537299598f92261b4, ip=127.0.0.1, pid=51245) world_rank=0, local_rank=0, node_rank=0\u001b[32m [repeated 4x across cluster]\u001b[0m\n",
      "\u001b[36m(RayTrainWorker pid=51245)\u001b[0m Setting up process group for: env:// [rank=0, world_size=1]\u001b[32m [repeated 4x across cluster]\u001b[0m\n",
      "\u001b[36m(RayTrainWorker pid=51245)\u001b[0m GPU available: True (mps), used: False\u001b[32m [repeated 4x across cluster]\u001b[0m\n",
      "\u001b[36m(RayTrainWorker pid=51245)\u001b[0m TPU available: False, using: 0 TPU cores\u001b[32m [repeated 4x across cluster]\u001b[0m\n",
      "\u001b[36m(RayTrainWorker pid=51245)\u001b[0m HPU available: False, using: 0 HPUs\u001b[32m [repeated 4x across cluster]\u001b[0m\n",
      "\u001b[36m(RayTrainWorker pid=51245)\u001b[0m /Users/sidharrthnagappan/.virtualenvs/lsdp_miniproject/lib/python3.11/site-packages/pytorch_lightning/trainer/setup.py:177: GPU available but not used. You can set it by doing `Trainer(accelerator='gpu')`.\u001b[32m [repeated 4x across cluster]\u001b[0m\n",
      "\u001b[36m(RayTrainWorker pid=51245)\u001b[0m /Users/sidharrthnagappan/.virtualenvs/lsdp_miniproject/lib/python3.11/site-packages/pytorch_lightning/loops/utilities.py:73: `max_epochs` was not set. Setting it to 1000 epochs. To train without an epoch limit, set `max_epochs=-1`.\u001b[32m [repeated 4x across cluster]\u001b[0m\n",
      "100%|██████████| 1.65M/1.65M [00:00<00:00, 3.30MB/s]\n"
     ]
    },
    {
     "name": "stdout",
     "output_type": "stream",
     "text": [
      "\u001b[36m(RayTrainWorker pid=51247)\u001b[0m \n",
      "\u001b[36m(RayTrainWorker pid=51245)\u001b[0m printing config {'layer_1_size': 64, 'layer_2_size': 64, 'layer_3_size': 512, 'dropout': 0.24417686558658022, 'batch_size': 32, 'learning_rate': 0.0012850365068080222}\u001b[32m [repeated 4x across cluster]\u001b[0m\n",
      "\u001b[36m(RayTrainWorker pid=51247)\u001b[0m Downloading http://yann.lecun.com/exdb/mnist/t10k-labels-idx1-ubyte.gz\u001b[32m [repeated 30x across cluster]\u001b[0m\n",
      "\u001b[36m(RayTrainWorker pid=51245)\u001b[0m \n",
      "\u001b[36m(RayTrainWorker pid=51248)\u001b[0m \n",
      "\u001b[36m(RayTrainWorker pid=51246)\u001b[0m \n",
      "\u001b[36m(RayTrainWorker pid=51249)\u001b[0m Failed to download (trying next):\u001b[32m [repeated 14x across cluster]\u001b[0m\n",
      "\u001b[36m(RayTrainWorker pid=51249)\u001b[0m HTTP Error 403: Forbidden\u001b[32m [repeated 14x across cluster]\u001b[0m\n",
      "\u001b[36m(RayTrainWorker pid=51249)\u001b[0m \n"
     ]
    },
    {
     "name": "stderr",
     "output_type": "stream",
     "text": [
      "100%|██████████| 1.65M/1.65M [00:00<00:00, 3.28MB/s]\n"
     ]
    },
    {
     "name": "stdout",
     "output_type": "stream",
     "text": [
      "\u001b[36m(RayTrainWorker pid=51247)\u001b[0m \n",
      "\u001b[36m(RayTrainWorker pid=51249)\u001b[0m Downloading https://ossci-datasets.s3.amazonaws.com/mnist/t10k-images-idx3-ubyte.gz to /var/folders/mf/cfzv46p15017stkscsq9jw9h0000gn/T/tmpccl95zix/MNIST/raw/t10k-images-idx3-ubyte.gz\u001b[32m [repeated 14x across cluster]\u001b[0m\n",
      "\u001b[36m(RayTrainWorker pid=51245)\u001b[0m \n",
      "\u001b[36m(RayTrainWorker pid=51248)\u001b[0m \n",
      "\u001b[36m(RayTrainWorker pid=51246)\u001b[0m \n",
      "\u001b[36m(RayTrainWorker pid=51249)\u001b[0m \n",
      "\u001b[36m(RayTrainWorker pid=51247)\u001b[0m \n"
     ]
    },
    {
     "name": "stderr",
     "output_type": "stream",
     "text": [
      "100%|██████████| 4.54k/4.54k [00:00<00:00, 3.33MB/s]\u001b[32m [repeated 15x across cluster]\u001b[0m\n",
      "100%|██████████| 1.65M/1.65M [00:00<00:00, 3.25MB/s]\u001b[32m [repeated 55x across cluster]\u001b[0m\n",
      "\u001b[36m(RayTrainWorker pid=51247)\u001b[0m \n",
      "\u001b[36m(RayTrainWorker pid=51247)\u001b[0m   | Name     | Type               | Params | Mode \n",
      "\u001b[36m(RayTrainWorker pid=51247)\u001b[0m --------------------------------------------------------\n",
      "\u001b[36m(RayTrainWorker pid=51247)\u001b[0m 0 | accuracy | MulticlassAccuracy | 0      | train\n",
      "\u001b[36m(RayTrainWorker pid=51247)\u001b[0m 1 | layer1   | Linear             | 50.2 K | train\n",
      "\u001b[36m(RayTrainWorker pid=51247)\u001b[0m 2 | layer2   | Linear             | 16.6 K | train\n",
      "\u001b[36m(RayTrainWorker pid=51247)\u001b[0m 3 | layer3   | Linear             | 65.8 K | train\n",
      "\u001b[36m(RayTrainWorker pid=51247)\u001b[0m 4 | layer4   | Linear             | 2.6 K  | train\n",
      "\u001b[36m(RayTrainWorker pid=51247)\u001b[0m 5 | dropout  | Dropout            | 0      | train\n",
      "\u001b[36m(RayTrainWorker pid=51247)\u001b[0m --------------------------------------------------------\n",
      "\u001b[36m(RayTrainWorker pid=51247)\u001b[0m 135 K     Trainable params\n",
      "\u001b[36m(RayTrainWorker pid=51247)\u001b[0m 0         Non-trainable params\n",
      "\u001b[36m(RayTrainWorker pid=51247)\u001b[0m 135 K     Total params\n",
      "\u001b[36m(RayTrainWorker pid=51247)\u001b[0m 0.541     Total estimated model params size (MB)\n",
      "\u001b[36m(RayTrainWorker pid=51247)\u001b[0m 6         Modules in train mode\n",
      "\u001b[36m(RayTrainWorker pid=51247)\u001b[0m 0         Modules in eval mode\n",
      "\u001b[36m(RayTrainWorker pid=51247)\u001b[0m /Users/sidharrthnagappan/.virtualenvs/lsdp_miniproject/lib/python3.11/site-packages/pytorch_lightning/trainer/connectors/data_connector.py:420: Consider setting `persistent_workers=True` in 'val_dataloader' to speed up the dataloader worker initialization.\n"
     ]
    },
    {
     "name": "stdout",
     "output_type": "stream",
     "text": [
      "\u001b[36m(RayTrainWorker pid=51248)\u001b[0m \n",
      "\u001b[36m(RayTrainWorker pid=51245)\u001b[0m \n",
      "\u001b[36m(RayTrainWorker pid=51246)\u001b[0m \n",
      "\u001b[36m(RayTrainWorker pid=51249)\u001b[0m \n"
     ]
    },
    {
     "name": "stderr",
     "output_type": "stream",
     "text": [
      "\u001b[36m(RayTrainWorker pid=51245)\u001b[0m \n",
      "\u001b[36m(RayTrainWorker pid=51248)\u001b[0m \n",
      "\u001b[36m(RayTrainWorker pid=51246)\u001b[0m \n",
      "\u001b[36m(RayTrainWorker pid=51249)\u001b[0m \n",
      "\u001b[36m(RayTrainWorker pid=51247)\u001b[0m /Users/sidharrthnagappan/.virtualenvs/lsdp_miniproject/lib/python3.11/site-packages/pytorch_lightning/trainer/connectors/data_connector.py:420: Consider setting `persistent_workers=True` in 'train_dataloader' to speed up the dataloader worker initialization.\n",
      " 63%|██████▎   | 6.26M/9.91M [00:01<00:00, 8.76MB/s]\n",
      "100%|██████████| 4.54k/4.54k [00:00<00:00, 4.35MB/s]\u001b[32m [repeated 4x across cluster]\u001b[0m\n",
      "\u001b[36m(RayTrainWorker pid=51249)\u001b[0m   | Name     | Type               | Params | Mode \u001b[32m [repeated 4x across cluster]\u001b[0m\n",
      "\u001b[36m(RayTrainWorker pid=51249)\u001b[0m --------------------------------------------------------\u001b[32m [repeated 8x across cluster]\u001b[0m\n",
      "\u001b[36m(RayTrainWorker pid=51249)\u001b[0m 0 | accuracy | MulticlassAccuracy | 0      | train\u001b[32m [repeated 4x across cluster]\u001b[0m\n",
      "\u001b[36m(RayTrainWorker pid=51249)\u001b[0m 4 | layer4   | Linear             | 1.3 K  | train\u001b[32m [repeated 16x across cluster]\u001b[0m\n",
      "\u001b[36m(RayTrainWorker pid=51249)\u001b[0m 5 | dropout  | Dropout            | 0      | train\u001b[32m [repeated 4x across cluster]\u001b[0m\n",
      "\u001b[36m(RayTrainWorker pid=51249)\u001b[0m 167 K     Trainable params\u001b[32m [repeated 4x across cluster]\u001b[0m\n",
      "\u001b[36m(RayTrainWorker pid=51249)\u001b[0m 0         Non-trainable params\u001b[32m [repeated 4x across cluster]\u001b[0m\n",
      "\u001b[36m(RayTrainWorker pid=51249)\u001b[0m 167 K     Total params\u001b[32m [repeated 4x across cluster]\u001b[0m\n",
      "\u001b[36m(RayTrainWorker pid=51249)\u001b[0m 0.671     Total estimated model params size (MB)\u001b[32m [repeated 4x across cluster]\u001b[0m\n",
      "\u001b[36m(RayTrainWorker pid=51249)\u001b[0m 6         Modules in train mode\u001b[32m [repeated 4x across cluster]\u001b[0m\n",
      "\u001b[36m(RayTrainWorker pid=51249)\u001b[0m 0         Modules in eval mode\u001b[32m [repeated 4x across cluster]\u001b[0m\n",
      "\u001b[36m(RayTrainWorker pid=51249)\u001b[0m /Users/sidharrthnagappan/.virtualenvs/lsdp_miniproject/lib/python3.11/site-packages/pytorch_lightning/trainer/connectors/data_connector.py:420: Consider setting `persistent_workers=True` in 'val_dataloader' to speed up the dataloader worker initialization.\u001b[32m [repeated 4x across cluster]\u001b[0m\n",
      "\u001b[36m(RayTrainWorker pid=51248)\u001b[0m Checkpoint successfully created at: Checkpoint(filesystem=local, path=/Users/sidharrthnagappan/ray_results/TorchTrainer_2024-12-24_17-34-19/TorchTrainer_4f4b8_00003_3_batch_size=128,dropout=0.2106,layer_1_size=128,layer_2_size=64,layer_3_size=128,learning_rate=0.0230_2024-12-24_17-34-21/checkpoint_000000)\n",
      "\u001b[36m(RayTrainWorker pid=51249)\u001b[0m /Users/sidharrthnagappan/.virtualenvs/lsdp_miniproject/lib/python3.11/site-packages/pytorch_lightning/trainer/connectors/data_connector.py:420: Consider setting `persistent_workers=True` in 'train_dataloader' to speed up the dataloader worker initialization.\u001b[32m [repeated 4x across cluster]\u001b[0m\n",
      "\u001b[36m(RayTrainWorker pid=51249)\u001b[0m Checkpoint successfully created at: Checkpoint(filesystem=local, path=/Users/sidharrthnagappan/ray_results/TorchTrainer_2024-12-24_17-34-19/TorchTrainer_4f4b8_00001_1_batch_size=64,dropout=0.1630,layer_1_size=128,layer_2_size=256,layer_3_size=128,learning_rate=0.0033_2024-12-24_17-34-21/checkpoint_000000)\u001b[32m [repeated 3x across cluster]\u001b[0m\n",
      "\u001b[36m(RayTrainWorker pid=51249)\u001b[0m Traceback (most recent call last):\n",
      "\u001b[36m(RayTrainWorker pid=51249)\u001b[0m   File \"<string>\", line 1, in <module>\n",
      "\u001b[36m(RayTrainWorker pid=51249)\u001b[0m   File \"/Users/sidharrthnagappan/.pyenv/versions/3.11.0/lib/python3.11/multiprocessing/spawn.py\", line 120, in spawn_main\n",
      "\u001b[36m(RayTrainWorker pid=51249)\u001b[0m     exitcode = _main(fd, parent_sentinel)\n",
      "\u001b[36m(RayTrainWorker pid=51249)\u001b[0m                ^^^^^^^^^^^^^^^^^^^^^^^^^^\n",
      "\u001b[36m(RayTrainWorker pid=51249)\u001b[0m   File \"/Users/sidharrthnagappan/.pyenv/versions/3.11.0/lib/python3.11/multiprocessing/spawn.py\", line 130, in _main\n",
      "\u001b[36m(RayTrainWorker pid=51249)\u001b[0m     self = reduction.pickle.load(from_parent)\n",
      "\u001b[36m(RayTrainWorker pid=51249)\u001b[0m            ^^^^^^^^^^^^^^^^^^^^^^^^^^^^^^^^^^\n",
      "\u001b[36m(RayTrainWorker pid=51249)\u001b[0m _pickle.UnpicklingError: pickle data was truncated\n",
      "\u001b[36m(RayTrainWorker pid=51249)\u001b[0m /Users/sidharrthnagappan/.pyenv/versions/3.11.0/lib/python3.11/multiprocessing/resource_tracker.py:224: UserWarning: resource_tracker: There appear to be 55 leaked semaphore objects to clean up at shutdown\n",
      "\u001b[36m(RayTrainWorker pid=51249)\u001b[0m   warnings.warn('resource_tracker: There appear to be %d '\n",
      "\u001b[36m(RayTrainWorker pid=51245)\u001b[0m Checkpoint successfully created at: Checkpoint(filesystem=local, path=/Users/sidharrthnagappan/ray_results/TorchTrainer_2024-12-24_17-34-19/TorchTrainer_4f4b8_00004_4_batch_size=32,dropout=0.2442,layer_1_size=64,layer_2_size=64,layer_3_size=512,learning_rate=0.0013_2024-12-24_17-34-21/checkpoint_000000)\n",
      "\u001b[36m(RayTrainWorker pid=51245)\u001b[0m Traceback (most recent call last):\n",
      "\u001b[36m(RayTrainWorker pid=51245)\u001b[0m   File \"<string>\", line 1, in <module>\n",
      "\u001b[36m(RayTrainWorker pid=51245)\u001b[0m   File \"/Users/sidharrthnagappan/.pyenv/versions/3.11.0/lib/python3.11/multiprocessing/spawn.py\", line 120, in spawn_main\n",
      "\u001b[36m(RayTrainWorker pid=51245)\u001b[0m     exitcode = _main(fd, parent_sentinel)\n",
      "\u001b[36m(RayTrainWorker pid=51245)\u001b[0m                ^^^^^^^^^^^^^^^^^^^^^^^^^^\n",
      "\u001b[36m(RayTrainWorker pid=51245)\u001b[0m   File \"/Users/sidharrthnagappan/.pyenv/versions/3.11.0/lib/python3.11/multiprocessing/spawn.py\", line 130, in _main\n",
      "\u001b[36m(RayTrainWorker pid=51245)\u001b[0m     self = reduction.pickle.load(from_parent)\n",
      "\u001b[36m(RayTrainWorker pid=51245)\u001b[0m            ^^^^^^^^^^^^^^^^^^^^^^^^^^^^^^^^^^\n",
      "\u001b[36m(RayTrainWorker pid=51245)\u001b[0m _pickle.UnpicklingError: pickle data was truncated\n",
      "\u001b[36m(RayTrainWorker pid=51245)\u001b[0m /Users/sidharrthnagappan/.pyenv/versions/3.11.0/lib/python3.11/multiprocessing/resource_tracker.py:224: UserWarning: resource_tracker: There appear to be 55 leaked semaphore objects to clean up at shutdown\n",
      "\u001b[36m(RayTrainWorker pid=51245)\u001b[0m   warnings.warn('resource_tracker: There appear to be %d '\n",
      "\u001b[36m(RayTrainWorker pid=51247)\u001b[0m Checkpoint successfully created at: Checkpoint(filesystem=local, path=/Users/sidharrthnagappan/ray_results/TorchTrainer_2024-12-24_17-34-19/TorchTrainer_4f4b8_00000_0_batch_size=128,dropout=0.1647,layer_1_size=64,layer_2_size=256,layer_3_size=256,learning_rate=0.0013_2024-12-24_17-34-21/checkpoint_000001)\u001b[32m [repeated 2x across cluster]\u001b[0m\n",
      "\u001b[36m(RayTrainWorker pid=51907)\u001b[0m Setting up process group for: env:// [rank=0, world_size=1]\n",
      "\u001b[36m(TorchTrainer pid=51786)\u001b[0m Started distributed worker processes: \n",
      "\u001b[36m(TorchTrainer pid=51786)\u001b[0m - (node_id=7cc2334a334327f410131b140fb9ad2ae54820f537299598f92261b4, ip=127.0.0.1, pid=51907) world_rank=0, local_rank=0, node_rank=0\n"
     ]
    },
    {
     "name": "stdout",
     "output_type": "stream",
     "text": [
      "\u001b[36m(RayTrainWorker pid=51249)\u001b[0m Extracting /var/folders/mf/cfzv46p15017stkscsq9jw9h0000gn/T/tmpccl95zix/MNIST/raw/t10k-labels-idx1-ubyte.gz to /var/folders/mf/cfzv46p15017stkscsq9jw9h0000gn/T/tmpccl95zix/MNIST/raw\u001b[32m [repeated 19x across cluster]\u001b[0m\n",
      "\u001b[36m(RayTrainWorker pid=51907)\u001b[0m printing config {'layer_1_size': 32, 'layer_2_size': 128, 'layer_3_size': 256, 'dropout': 0.21873339805254258, 'batch_size': 64, 'learning_rate': 0.0017592276854866433}\n",
      "\u001b[36m(RayTrainWorker pid=51249)\u001b[0m Downloading https://ossci-datasets.s3.amazonaws.com/mnist/t10k-labels-idx1-ubyte.gz\u001b[32m [repeated 9x across cluster]\u001b[0m\n",
      "\u001b[36m(RayTrainWorker pid=51249)\u001b[0m Failed to download (trying next):\u001b[32m [repeated 5x across cluster]\u001b[0m\n",
      "\u001b[36m(RayTrainWorker pid=51249)\u001b[0m HTTP Error 403: Forbidden\u001b[32m [repeated 5x across cluster]\u001b[0m\n",
      "\u001b[36m(RayTrainWorker pid=51249)\u001b[0m Downloading https://ossci-datasets.s3.amazonaws.com/mnist/t10k-labels-idx1-ubyte.gz to /var/folders/mf/cfzv46p15017stkscsq9jw9h0000gn/T/tmpccl95zix/MNIST/raw/t10k-labels-idx1-ubyte.gz\u001b[32m [repeated 5x across cluster]\u001b[0m\n"
     ]
    },
    {
     "name": "stderr",
     "output_type": "stream",
     "text": [
      "\u001b[36m(RayTrainWorker pid=51907)\u001b[0m GPU available: True (mps), used: False\n",
      "\u001b[36m(RayTrainWorker pid=51907)\u001b[0m TPU available: False, using: 0 TPU cores\n",
      "\u001b[36m(RayTrainWorker pid=51907)\u001b[0m HPU available: False, using: 0 HPUs\n",
      "\u001b[36m(RayTrainWorker pid=51907)\u001b[0m /Users/sidharrthnagappan/.virtualenvs/lsdp_miniproject/lib/python3.11/site-packages/pytorch_lightning/trainer/setup.py:177: GPU available but not used. You can set it by doing `Trainer(accelerator='gpu')`.\n",
      "\u001b[36m(RayTrainWorker pid=51907)\u001b[0m /Users/sidharrthnagappan/.virtualenvs/lsdp_miniproject/lib/python3.11/site-packages/pytorch_lightning/loops/utilities.py:73: `max_epochs` was not set. Setting it to 1000 epochs. To train without an epoch limit, set `max_epochs=-1`.\n"
     ]
    },
    {
     "name": "stdout",
     "output_type": "stream",
     "text": [
      "\u001b[36m(RayTrainWorker pid=51907)\u001b[0m \n"
     ]
    },
    {
     "name": "stderr",
     "output_type": "stream",
     "text": [
      "  0%|          | 0.00/9.91M [00:00<?, ?B/s]\n",
      "  1%|          | 98.3k/9.91M [00:00<00:16, 592kB/s]\n",
      "  4%|▍         | 426k/9.91M [00:00<00:06, 1.39MB/s]\n",
      " 15%|█▍        | 1.47M/9.91M [00:00<00:01, 4.42MB/s]\n",
      " 23%|██▎       | 2.29M/9.91M [00:00<00:01, 4.42MB/s]\n",
      " 68%|██████▊   | 6.72M/9.91M [00:00<00:00, 15.0MB/s]\n",
      " 87%|████████▋ | 8.65M/9.91M [00:00<00:00, 13.9MB/s]\n",
      "100%|██████████| 9.91M/9.91M [00:00<00:00, 10.2MB/s]\n"
     ]
    },
    {
     "name": "stdout",
     "output_type": "stream",
     "text": [
      "\u001b[36m(RayTrainWorker pid=51907)\u001b[0m \n",
      "\u001b[36m(RayTrainWorker pid=51907)\u001b[0m \n"
     ]
    },
    {
     "name": "stderr",
     "output_type": "stream",
     "text": [
      "  0%|          | 0.00/28.9k [00:00<?, ?B/s]\n",
      "100%|██████████| 28.9k/28.9k [00:00<00:00, 334kB/s]\n"
     ]
    },
    {
     "name": "stdout",
     "output_type": "stream",
     "text": [
      "\u001b[36m(RayTrainWorker pid=51907)\u001b[0m \n",
      "\u001b[36m(RayTrainWorker pid=51907)\u001b[0m \n"
     ]
    },
    {
     "name": "stderr",
     "output_type": "stream",
     "text": [
      "  0%|          | 0.00/1.65M [00:00<?, ?B/s]\n",
      "\u001b[36m(RayTrainWorker pid=51246)\u001b[0m Checkpoint successfully created at: Checkpoint(filesystem=local, path=/Users/sidharrthnagappan/ray_results/TorchTrainer_2024-12-24_17-34-19/TorchTrainer_4f4b8_00002_2_batch_size=64,dropout=0.1395,layer_1_size=64,layer_2_size=64,layer_3_size=256,learning_rate=0.0017_2024-12-24_17-34-21/checkpoint_000001)\n",
      "\u001b[36m(RayTrainWorker pid=52006)\u001b[0m Setting up process group for: env:// [rank=0, world_size=1]\n",
      "\u001b[36m(TorchTrainer pid=51894)\u001b[0m Started distributed worker processes: \n",
      "\u001b[36m(TorchTrainer pid=51894)\u001b[0m - (node_id=7cc2334a334327f410131b140fb9ad2ae54820f537299598f92261b4, ip=127.0.0.1, pid=52006) world_rank=0, local_rank=0, node_rank=0\n"
     ]
    },
    {
     "name": "stdout",
     "output_type": "stream",
     "text": [
      "\u001b[36m(RayTrainWorker pid=52006)\u001b[0m printing config {'layer_1_size': 64, 'layer_2_size': 256, 'layer_3_size': 128, 'dropout': 0.21735158263460483, 'batch_size': 64, 'learning_rate': 0.008840953012473073}\n"
     ]
    },
    {
     "name": "stderr",
     "output_type": "stream",
     "text": [
      "  6%|▌         | 98.3k/1.65M [00:00<00:02, 587kB/s]\n",
      " 24%|██▍       | 393k/1.65M [00:00<00:00, 1.58MB/s]\n",
      "\u001b[36m(RayTrainWorker pid=51248)\u001b[0m Checkpoint successfully created at: Checkpoint(filesystem=local, path=/Users/sidharrthnagappan/ray_results/TorchTrainer_2024-12-24_17-34-19/TorchTrainer_4f4b8_00003_3_batch_size=128,dropout=0.2106,layer_1_size=128,layer_2_size=64,layer_3_size=128,learning_rate=0.0230_2024-12-24_17-34-21/checkpoint_000002)\n",
      " 50%|████▉     | 819k/1.65M [00:00<00:00, 2.25MB/s]\n",
      "100%|██████████| 1.65M/1.65M [00:00<00:00, 3.60MB/s]\n",
      "\u001b[36m(RayTrainWorker pid=52006)\u001b[0m GPU available: True (mps), used: False\n",
      "\u001b[36m(RayTrainWorker pid=52006)\u001b[0m TPU available: False, using: 0 TPU cores\n",
      "\u001b[36m(RayTrainWorker pid=52006)\u001b[0m HPU available: False, using: 0 HPUs\n",
      "\u001b[36m(RayTrainWorker pid=52006)\u001b[0m /Users/sidharrthnagappan/.virtualenvs/lsdp_miniproject/lib/python3.11/site-packages/pytorch_lightning/trainer/setup.py:177: GPU available but not used. You can set it by doing `Trainer(accelerator='gpu')`.\n",
      "\u001b[36m(RayTrainWorker pid=52006)\u001b[0m /Users/sidharrthnagappan/.virtualenvs/lsdp_miniproject/lib/python3.11/site-packages/pytorch_lightning/loops/utilities.py:73: `max_epochs` was not set. Setting it to 1000 epochs. To train without an epoch limit, set `max_epochs=-1`.\n"
     ]
    },
    {
     "name": "stdout",
     "output_type": "stream",
     "text": [
      "\u001b[36m(RayTrainWorker pid=51907)\u001b[0m \n",
      "\u001b[36m(RayTrainWorker pid=51907)\u001b[0m Extracting /var/folders/mf/cfzv46p15017stkscsq9jw9h0000gn/T/tmp0c_zbc36/MNIST/raw/t10k-images-idx3-ubyte.gz to /var/folders/mf/cfzv46p15017stkscsq9jw9h0000gn/T/tmp0c_zbc36/MNIST/raw\u001b[32m [repeated 3x across cluster]\u001b[0m\n",
      "\u001b[36m(RayTrainWorker pid=51907)\u001b[0m Downloading http://yann.lecun.com/exdb/mnist/t10k-labels-idx1-ubyte.gz\u001b[32m [repeated 8x across cluster]\u001b[0m\n",
      "\u001b[36m(RayTrainWorker pid=51907)\u001b[0m Failed to download (trying next):\u001b[32m [repeated 3x across cluster]\u001b[0m\n",
      "\u001b[36m(RayTrainWorker pid=51907)\u001b[0m HTTP Error 403: Forbidden\u001b[32m [repeated 3x across cluster]\u001b[0m\n",
      "\u001b[36m(RayTrainWorker pid=51907)\u001b[0m Downloading https://ossci-datasets.s3.amazonaws.com/mnist/t10k-images-idx3-ubyte.gz to /var/folders/mf/cfzv46p15017stkscsq9jw9h0000gn/T/tmp0c_zbc36/MNIST/raw/t10k-images-idx3-ubyte.gz\u001b[32m [repeated 3x across cluster]\u001b[0m\n",
      "\u001b[36m(RayTrainWorker pid=52006)\u001b[0m \n",
      "\u001b[36m(RayTrainWorker pid=51907)\u001b[0m \n",
      "\u001b[36m(RayTrainWorker pid=51907)\u001b[0m \n"
     ]
    },
    {
     "name": "stderr",
     "output_type": "stream",
     "text": [
      "\u001b[36m(RayTrainWorker pid=51907)\u001b[0m \n",
      "\u001b[36m(RayTrainWorker pid=51907)\u001b[0m   | Name     | Type               | Params | Mode \n",
      "\u001b[36m(RayTrainWorker pid=51907)\u001b[0m --------------------------------------------------------\n",
      "\u001b[36m(RayTrainWorker pid=51907)\u001b[0m 0 | accuracy | MulticlassAccuracy | 0      | train\n",
      "\u001b[36m(RayTrainWorker pid=51907)\u001b[0m 1 | layer1   | Linear             | 25.1 K | train\n",
      "\u001b[36m(RayTrainWorker pid=51907)\u001b[0m 2 | layer2   | Linear             | 4.2 K  | train\n",
      "\u001b[36m(RayTrainWorker pid=51907)\u001b[0m 3 | layer3   | Linear             | 33.0 K | train\n",
      "\u001b[36m(RayTrainWorker pid=51907)\u001b[0m 4 | layer4   | Linear             | 2.6 K  | train\n",
      "\u001b[36m(RayTrainWorker pid=51907)\u001b[0m 5 | dropout  | Dropout            | 0      | train\n",
      "\u001b[36m(RayTrainWorker pid=51907)\u001b[0m --------------------------------------------------------\n",
      "\u001b[36m(RayTrainWorker pid=51907)\u001b[0m 64.9 K    Trainable params\n",
      "\u001b[36m(RayTrainWorker pid=51907)\u001b[0m 0         Non-trainable params\n",
      "\u001b[36m(RayTrainWorker pid=51907)\u001b[0m 64.9 K    Total params\n",
      "\u001b[36m(RayTrainWorker pid=51907)\u001b[0m 0.260     Total estimated model params size (MB)\n",
      "\u001b[36m(RayTrainWorker pid=51907)\u001b[0m 6         Modules in train mode\n",
      "\u001b[36m(RayTrainWorker pid=51907)\u001b[0m 0         Modules in eval mode\n",
      "\u001b[36m(RayTrainWorker pid=51907)\u001b[0m /Users/sidharrthnagappan/.virtualenvs/lsdp_miniproject/lib/python3.11/site-packages/pytorch_lightning/trainer/connectors/data_connector.py:420: Consider setting `persistent_workers=True` in 'val_dataloader' to speed up the dataloader worker initialization.\n",
      "100%|██████████| 4.54k/4.54k [00:00<00:00, 1.18MB/s]\u001b[32m [repeated 2x across cluster]\u001b[0m\n",
      " 29%|██▉       | 2.85M/9.91M [00:00<00:01, 5.68MB/s]\u001b[32m [repeated 4x across cluster]\u001b[0m\n",
      "100%|██████████| 9.91M/9.91M [00:00<00:00, 10.4MB/s]\n"
     ]
    },
    {
     "name": "stdout",
     "output_type": "stream",
     "text": [
      "\u001b[36m(RayTrainWorker pid=52006)\u001b[0m \n",
      "\u001b[36m(RayTrainWorker pid=52006)\u001b[0m \n"
     ]
    },
    {
     "name": "stderr",
     "output_type": "stream",
     "text": [
      "100%|██████████| 28.9k/28.9k [00:00<00:00, 344kB/s]\n"
     ]
    },
    {
     "name": "stdout",
     "output_type": "stream",
     "text": [
      "\u001b[36m(RayTrainWorker pid=52006)\u001b[0m \n",
      "\u001b[36m(RayTrainWorker pid=52006)\u001b[0m \n"
     ]
    },
    {
     "name": "stderr",
     "output_type": "stream",
     "text": [
      "\u001b[36m(RayTrainWorker pid=51907)\u001b[0m /Users/sidharrthnagappan/.virtualenvs/lsdp_miniproject/lib/python3.11/site-packages/pytorch_lightning/trainer/connectors/data_connector.py:420: Consider setting `persistent_workers=True` in 'train_dataloader' to speed up the dataloader worker initialization.\n",
      "100%|██████████| 1.65M/1.65M [00:00<00:00, 3.13MB/s]\n"
     ]
    },
    {
     "name": "stdout",
     "output_type": "stream",
     "text": [
      "\u001b[36m(RayTrainWorker pid=52006)\u001b[0m \n",
      "\u001b[36m(RayTrainWorker pid=52006)\u001b[0m \n",
      "\u001b[36m(RayTrainWorker pid=52006)\u001b[0m Extracting /var/folders/mf/cfzv46p15017stkscsq9jw9h0000gn/T/tmplt8lwpzy/MNIST/raw/t10k-images-idx3-ubyte.gz to /var/folders/mf/cfzv46p15017stkscsq9jw9h0000gn/T/tmplt8lwpzy/MNIST/raw\u001b[32m [repeated 4x across cluster]\u001b[0m\n",
      "\u001b[36m(RayTrainWorker pid=52006)\u001b[0m Downloading https://ossci-datasets.s3.amazonaws.com/mnist/t10k-labels-idx1-ubyte.gz\u001b[32m [repeated 8x across cluster]\u001b[0m\n",
      "\u001b[36m(RayTrainWorker pid=52006)\u001b[0m Failed to download (trying next):\u001b[32m [repeated 5x across cluster]\u001b[0m\n",
      "\u001b[36m(RayTrainWorker pid=52006)\u001b[0m HTTP Error 403: Forbidden\u001b[32m [repeated 5x across cluster]\u001b[0m\n",
      "\u001b[36m(RayTrainWorker pid=52006)\u001b[0m Downloading https://ossci-datasets.s3.amazonaws.com/mnist/t10k-images-idx3-ubyte.gz to /var/folders/mf/cfzv46p15017stkscsq9jw9h0000gn/T/tmplt8lwpzy/MNIST/raw/t10k-images-idx3-ubyte.gz\u001b[32m [repeated 4x across cluster]\u001b[0m\n"
     ]
    },
    {
     "name": "stderr",
     "output_type": "stream",
     "text": [
      "\u001b[36m(RayTrainWorker pid=52006)\u001b[0m \n",
      "\u001b[36m(RayTrainWorker pid=51247)\u001b[0m Checkpoint successfully created at: Checkpoint(filesystem=local, path=/Users/sidharrthnagappan/ray_results/TorchTrainer_2024-12-24_17-34-19/TorchTrainer_4f4b8_00000_0_batch_size=128,dropout=0.1647,layer_1_size=64,layer_2_size=256,layer_3_size=256,learning_rate=0.0013_2024-12-24_17-34-21/checkpoint_000002)\n"
     ]
    },
    {
     "name": "stdout",
     "output_type": "stream",
     "text": [
      "\u001b[36m(RayTrainWorker pid=52006)\u001b[0m \n"
     ]
    },
    {
     "name": "stderr",
     "output_type": "stream",
     "text": [
      "\u001b[36m(RayTrainWorker pid=51246)\u001b[0m Checkpoint successfully created at: Checkpoint(filesystem=local, path=/Users/sidharrthnagappan/ray_results/TorchTrainer_2024-12-24_17-34-19/TorchTrainer_4f4b8_00002_2_batch_size=64,dropout=0.1395,layer_1_size=64,layer_2_size=64,layer_3_size=256,learning_rate=0.0017_2024-12-24_17-34-21/checkpoint_000002)\n",
      "\u001b[36m(RayTrainWorker pid=52006)\u001b[0m   | Name     | Type               | Params | Mode \n",
      "\u001b[36m(RayTrainWorker pid=52006)\u001b[0m --------------------------------------------------------\u001b[32m [repeated 2x across cluster]\u001b[0m\n",
      "\u001b[36m(RayTrainWorker pid=52006)\u001b[0m 0 | accuracy | MulticlassAccuracy | 0      | train\n",
      "\u001b[36m(RayTrainWorker pid=52006)\u001b[0m 4 | layer4   | Linear             | 1.3 K  | train\u001b[32m [repeated 4x across cluster]\u001b[0m\n",
      "\u001b[36m(RayTrainWorker pid=52006)\u001b[0m 5 | dropout  | Dropout            | 0      | train\n",
      "\u001b[36m(RayTrainWorker pid=52006)\u001b[0m 101 K     Trainable params\n",
      "\u001b[36m(RayTrainWorker pid=52006)\u001b[0m 0         Non-trainable params\n",
      "\u001b[36m(RayTrainWorker pid=52006)\u001b[0m 101 K     Total params\n",
      "\u001b[36m(RayTrainWorker pid=52006)\u001b[0m 0.404     Total estimated model params size (MB)\n",
      "\u001b[36m(RayTrainWorker pid=52006)\u001b[0m 6         Modules in train mode\n",
      "\u001b[36m(RayTrainWorker pid=52006)\u001b[0m 0         Modules in eval mode\n",
      "\u001b[36m(RayTrainWorker pid=52006)\u001b[0m /Users/sidharrthnagappan/.virtualenvs/lsdp_miniproject/lib/python3.11/site-packages/pytorch_lightning/trainer/connectors/data_connector.py:420: Consider setting `persistent_workers=True` in 'val_dataloader' to speed up the dataloader worker initialization.\n",
      "100%|██████████| 4.54k/4.54k [00:00<00:00, 4.33MB/s]\u001b[32m [repeated 3x across cluster]\u001b[0m\n",
      " 81%|████████▏ | 1.34M/1.65M [00:00<00:00, 4.02MB/s]\u001b[32m [repeated 5x across cluster]\u001b[0m\n",
      "\u001b[36m(RayTrainWorker pid=52006)\u001b[0m /Users/sidharrthnagappan/.virtualenvs/lsdp_miniproject/lib/python3.11/site-packages/pytorch_lightning/trainer/connectors/data_connector.py:420: Consider setting `persistent_workers=True` in 'train_dataloader' to speed up the dataloader worker initialization.\n",
      "\u001b[36m(RayTrainWorker pid=51247)\u001b[0m Checkpoint successfully created at: Checkpoint(filesystem=local, path=/Users/sidharrthnagappan/ray_results/TorchTrainer_2024-12-24_17-34-19/TorchTrainer_4f4b8_00000_0_batch_size=128,dropout=0.1647,layer_1_size=64,layer_2_size=256,layer_3_size=256,learning_rate=0.0013_2024-12-24_17-34-21/checkpoint_000003)\u001b[32m [repeated 2x across cluster]\u001b[0m\n",
      "\u001b[36m(RayTrainWorker pid=51907)\u001b[0m Checkpoint successfully created at: Checkpoint(filesystem=local, path=/Users/sidharrthnagappan/ray_results/TorchTrainer_2024-12-24_17-34-19/TorchTrainer_4f4b8_00005_5_batch_size=64,dropout=0.2187,layer_1_size=32,layer_2_size=128,layer_3_size=256,learning_rate=0.0018_2024-12-24_17-34-21/checkpoint_000000)\n",
      "\u001b[36m(RayTrainWorker pid=51246)\u001b[0m Checkpoint successfully created at: Checkpoint(filesystem=local, path=/Users/sidharrthnagappan/ray_results/TorchTrainer_2024-12-24_17-34-19/TorchTrainer_4f4b8_00002_2_batch_size=64,dropout=0.1395,layer_1_size=64,layer_2_size=64,layer_3_size=256,learning_rate=0.0017_2024-12-24_17-34-21/checkpoint_000003)\n",
      "\u001b[36m(RayTrainWorker pid=51907)\u001b[0m /Users/sidharrthnagappan/.pyenv/versions/3.11.0/lib/python3.11/multiprocessing/resource_tracker.py:224: UserWarning: resource_tracker: There appear to be 55 leaked semaphore objects to clean up at shutdown\n",
      "\u001b[36m(RayTrainWorker pid=51907)\u001b[0m   warnings.warn('resource_tracker: There appear to be %d '\n",
      "\u001b[36m(RayTrainWorker pid=51248)\u001b[0m Traceback (most recent call last):\n",
      "\u001b[36m(RayTrainWorker pid=51248)\u001b[0m   File \"<string>\", line 1, in <module>\n",
      "\u001b[36m(RayTrainWorker pid=51248)\u001b[0m   File \"/Users/sidharrthnagappan/.pyenv/versions/3.11.0/lib/python3.11/multiprocessing/spawn.py\", line 120, in spawn_main\n",
      "\u001b[36m(RayTrainWorker pid=51248)\u001b[0m     exitcode = _main(fd, parent_sentinel)\n",
      "\u001b[36m(RayTrainWorker pid=51248)\u001b[0m                ^^^^^^^^^^^^^^^^^^^^^^^^^^\n",
      "\u001b[36m(RayTrainWorker pid=51248)\u001b[0m   File \"/Users/sidharrthnagappan/.pyenv/versions/3.11.0/lib/python3.11/multiprocessing/spawn.py\", line 130, in _main\n",
      "\u001b[36m(RayTrainWorker pid=51248)\u001b[0m     self = reduction.pickle.load(from_parent)\n",
      "\u001b[36m(RayTrainWorker pid=51248)\u001b[0m            ^^^^^^^^^^^^^^^^^^^^^^^^^^^^^^^^^^\n",
      "\u001b[36m(RayTrainWorker pid=51248)\u001b[0m _pickle.UnpicklingError: pickle data was truncated\n",
      "\u001b[36m(RayTrainWorker pid=52006)\u001b[0m Checkpoint successfully created at: Checkpoint(filesystem=local, path=/Users/sidharrthnagappan/ray_results/TorchTrainer_2024-12-24_17-34-19/TorchTrainer_4f4b8_00006_6_batch_size=64,dropout=0.2174,layer_1_size=64,layer_2_size=256,layer_3_size=128,learning_rate=0.0088_2024-12-24_17-34-21/checkpoint_000000)\u001b[32m [repeated 3x across cluster]\u001b[0m\n",
      "\u001b[36m(RayTrainWorker pid=51248)\u001b[0m /Users/sidharrthnagappan/.pyenv/versions/3.11.0/lib/python3.11/multiprocessing/resource_tracker.py:224: UserWarning: resource_tracker: There appear to be 55 leaked semaphore objects to clean up at shutdown\n",
      "\u001b[36m(RayTrainWorker pid=51248)\u001b[0m   warnings.warn('resource_tracker: There appear to be %d '\n",
      "\u001b[36m(RayTrainWorker pid=52006)\u001b[0m Traceback (most recent call last):\u001b[32m [repeated 2x across cluster]\u001b[0m\n",
      "\u001b[36m(RayTrainWorker pid=52006)\u001b[0m   File \"<string>\", line 1, in <module>\u001b[32m [repeated 2x across cluster]\u001b[0m\n",
      "\u001b[36m(RayTrainWorker pid=52006)\u001b[0m   File \"/Users/sidharrthnagappan/.pyenv/versions/3.11.0/lib/python3.11/multiprocessing/spawn.py\", line 120, in spawn_main\u001b[32m [repeated 2x across cluster]\u001b[0m\n",
      "\u001b[36m(RayTrainWorker pid=52006)\u001b[0m     exitcode = _main(fd, parent_sentinel)\u001b[32m [repeated 2x across cluster]\u001b[0m\n",
      "\u001b[36m(RayTrainWorker pid=52006)\u001b[0m                ^^^^^^^^^^^^^^^^^^^^^^^^^^\u001b[32m [repeated 2x across cluster]\u001b[0m\n",
      "\u001b[36m(RayTrainWorker pid=52006)\u001b[0m   File \"/Users/sidharrthnagappan/.pyenv/versions/3.11.0/lib/python3.11/multiprocessing/spawn.py\", line 130, in _main\u001b[32m [repeated 2x across cluster]\u001b[0m\n",
      "\u001b[36m(RayTrainWorker pid=52006)\u001b[0m     self = reduction.pickle.load(from_parent)\u001b[32m [repeated 2x across cluster]\u001b[0m\n",
      "\u001b[36m(RayTrainWorker pid=52006)\u001b[0m            ^^^^^^^^^^^^^^^^^^^^^^^^^^^^^^^^^^\u001b[32m [repeated 2x across cluster]\u001b[0m\n",
      "\u001b[36m(RayTrainWorker pid=52006)\u001b[0m _pickle.UnpicklingError: pickle data was truncated\u001b[32m [repeated 2x across cluster]\u001b[0m\n",
      "\u001b[36m(RayTrainWorker pid=51247)\u001b[0m /Users/sidharrthnagappan/.pyenv/versions/3.11.0/lib/python3.11/multiprocessing/resource_tracker.py:224: UserWarning: resource_tracker: There appear to be 55 leaked semaphore objects to clean up at shutdown\n",
      "\u001b[36m(RayTrainWorker pid=51247)\u001b[0m   warnings.warn('resource_tracker: There appear to be %d '\n",
      "\u001b[36m(TorchTrainer pid=52523)\u001b[0m Started distributed worker processes: \n",
      "\u001b[36m(TorchTrainer pid=52523)\u001b[0m - (node_id=7cc2334a334327f410131b140fb9ad2ae54820f537299598f92261b4, ip=127.0.0.1, pid=52659) world_rank=0, local_rank=0, node_rank=0\n",
      "\u001b[36m(RayTrainWorker pid=52659)\u001b[0m Setting up process group for: env:// [rank=0, world_size=1]\n"
     ]
    },
    {
     "name": "stdout",
     "output_type": "stream",
     "text": [
      "\u001b[36m(RayTrainWorker pid=52659)\u001b[0m printing config {'layer_1_size': 128, 'layer_2_size': 256, 'layer_3_size': 512, 'dropout': 0.19069275345499645, 'batch_size': 64, 'learning_rate': 0.011887118405969704}\n",
      "\u001b[36m(RayTrainWorker pid=52006)\u001b[0m Extracting /var/folders/mf/cfzv46p15017stkscsq9jw9h0000gn/T/tmplt8lwpzy/MNIST/raw/t10k-labels-idx1-ubyte.gz to /var/folders/mf/cfzv46p15017stkscsq9jw9h0000gn/T/tmplt8lwpzy/MNIST/raw\n",
      "\u001b[36m(RayTrainWorker pid=52006)\u001b[0m Downloading https://ossci-datasets.s3.amazonaws.com/mnist/t10k-labels-idx1-ubyte.gz to /var/folders/mf/cfzv46p15017stkscsq9jw9h0000gn/T/tmplt8lwpzy/MNIST/raw/t10k-labels-idx1-ubyte.gz\n",
      "\u001b[36m(RayTrainWorker pid=52659)\u001b[0m Downloading http://yann.lecun.com/exdb/mnist/train-images-idx3-ubyte.gz\n"
     ]
    },
    {
     "name": "stderr",
     "output_type": "stream",
     "text": [
      "\u001b[36m(RayTrainWorker pid=52659)\u001b[0m GPU available: True (mps), used: False\n",
      "\u001b[36m(RayTrainWorker pid=52659)\u001b[0m TPU available: False, using: 0 TPU cores\n",
      "\u001b[36m(RayTrainWorker pid=52659)\u001b[0m HPU available: False, using: 0 HPUs\n",
      "\u001b[36m(RayTrainWorker pid=52659)\u001b[0m /Users/sidharrthnagappan/.virtualenvs/lsdp_miniproject/lib/python3.11/site-packages/pytorch_lightning/trainer/setup.py:177: GPU available but not used. You can set it by doing `Trainer(accelerator='gpu')`.\n",
      "\u001b[36m(RayTrainWorker pid=52659)\u001b[0m /Users/sidharrthnagappan/.virtualenvs/lsdp_miniproject/lib/python3.11/site-packages/pytorch_lightning/loops/utilities.py:73: `max_epochs` was not set. Setting it to 1000 epochs. To train without an epoch limit, set `max_epochs=-1`.\n"
     ]
    },
    {
     "name": "stdout",
     "output_type": "stream",
     "text": [
      "\u001b[36m(RayTrainWorker pid=52659)\u001b[0m Failed to download (trying next):\n",
      "\u001b[36m(RayTrainWorker pid=52659)\u001b[0m HTTP Error 403: Forbidden\n",
      "\u001b[36m(RayTrainWorker pid=52659)\u001b[0m \n",
      "\u001b[36m(RayTrainWorker pid=52659)\u001b[0m Downloading https://ossci-datasets.s3.amazonaws.com/mnist/train-images-idx3-ubyte.gz\n",
      "\u001b[36m(RayTrainWorker pid=52659)\u001b[0m Downloading https://ossci-datasets.s3.amazonaws.com/mnist/train-images-idx3-ubyte.gz to /var/folders/mf/cfzv46p15017stkscsq9jw9h0000gn/T/tmpsdtbszzl/MNIST/raw/train-images-idx3-ubyte.gz\n"
     ]
    },
    {
     "name": "stderr",
     "output_type": "stream",
     "text": [
      "  0%|          | 0.00/9.91M [00:00<?, ?B/s]\n",
      "  1%|          | 98.3k/9.91M [00:00<00:16, 602kB/s]\n",
      "  4%|▍         | 426k/9.91M [00:00<00:06, 1.40MB/s]\n",
      " 17%|█▋        | 1.67M/9.91M [00:00<00:01, 5.09MB/s]\n",
      " 30%|███       | 3.01M/9.91M [00:00<00:00, 7.75MB/s]\n",
      " 57%|█████▋    | 5.64M/9.91M [00:00<00:00, 13.5MB/s]\n",
      "100%|██████████| 9.91M/9.91M [00:00<00:00, 12.1MB/s]\n"
     ]
    },
    {
     "name": "stdout",
     "output_type": "stream",
     "text": [
      "\u001b[36m(RayTrainWorker pid=52659)\u001b[0m Extracting /var/folders/mf/cfzv46p15017stkscsq9jw9h0000gn/T/tmpsdtbszzl/MNIST/raw/train-images-idx3-ubyte.gz to /var/folders/mf/cfzv46p15017stkscsq9jw9h0000gn/T/tmpsdtbszzl/MNIST/raw\n",
      "\u001b[36m(RayTrainWorker pid=52659)\u001b[0m \n",
      "\u001b[36m(RayTrainWorker pid=52659)\u001b[0m Downloading http://yann.lecun.com/exdb/mnist/train-labels-idx1-ubyte.gz\n",
      "\u001b[36m(RayTrainWorker pid=52659)\u001b[0m Failed to download (trying next):\n",
      "\u001b[36m(RayTrainWorker pid=52659)\u001b[0m HTTP Error 403: Forbidden\n",
      "\u001b[36m(RayTrainWorker pid=52659)\u001b[0m \n",
      "\u001b[36m(RayTrainWorker pid=52659)\u001b[0m Downloading https://ossci-datasets.s3.amazonaws.com/mnist/train-labels-idx1-ubyte.gz to /var/folders/mf/cfzv46p15017stkscsq9jw9h0000gn/T/tmpsdtbszzl/MNIST/raw/train-labels-idx1-ubyte.gz\n",
      "\u001b[36m(RayTrainWorker pid=52695)\u001b[0m \n",
      "\u001b[36m(RayTrainWorker pid=52694)\u001b[0m \n",
      "\u001b[36m(RayTrainWorker pid=52659)\u001b[0m Extracting /var/folders/mf/cfzv46p15017stkscsq9jw9h0000gn/T/tmpsdtbszzl/MNIST/raw/train-labels-idx1-ubyte.gz to /var/folders/mf/cfzv46p15017stkscsq9jw9h0000gn/T/tmpsdtbszzl/MNIST/raw\n",
      "\u001b[36m(RayTrainWorker pid=52659)\u001b[0m \n"
     ]
    },
    {
     "name": "stderr",
     "output_type": "stream",
     "text": [
      "100%|██████████| 28.9k/28.9k [00:00<00:00, 348kB/s]\n",
      "\u001b[36m(RayTrainWorker pid=51246)\u001b[0m Checkpoint successfully created at: Checkpoint(filesystem=local, path=/Users/sidharrthnagappan/ray_results/TorchTrainer_2024-12-24_17-34-19/TorchTrainer_4f4b8_00002_2_batch_size=64,dropout=0.1395,layer_1_size=64,layer_2_size=64,layer_3_size=256,learning_rate=0.0017_2024-12-24_17-34-21/checkpoint_000004)\n",
      "\u001b[36m(RayTrainWorker pid=51246)\u001b[0m Traceback (most recent call last):\n",
      "\u001b[36m(RayTrainWorker pid=51246)\u001b[0m   File \"<string>\", line 1, in <module>\n",
      "\u001b[36m(RayTrainWorker pid=51246)\u001b[0m   File \"/Users/sidharrthnagappan/.pyenv/versions/3.11.0/lib/python3.11/multiprocessing/spawn.py\", line 120, in spawn_main\n",
      "\u001b[36m(RayTrainWorker pid=51246)\u001b[0m     exitcode = _main(fd, parent_sentinel)\n",
      "\u001b[36m(RayTrainWorker pid=51246)\u001b[0m                ^^^^^^^^^^^^^^^^^^^^^^^^^^\n",
      "\u001b[36m(RayTrainWorker pid=51246)\u001b[0m   File \"/Users/sidharrthnagappan/.pyenv/versions/3.11.0/lib/python3.11/multiprocessing/spawn.py\", line 130, in _main\n",
      "\u001b[36m(RayTrainWorker pid=51246)\u001b[0m     self = reduction.pickle.load(from_parent)\n",
      "\u001b[36m(RayTrainWorker pid=51246)\u001b[0m            ^^^^^^^^^^^^^^^^^^^^^^^^^^^^^^^^^^\n",
      "\u001b[36m(RayTrainWorker pid=51246)\u001b[0m _pickle.UnpicklingError: pickle data was truncated\n"
     ]
    },
    {
     "name": "stdout",
     "output_type": "stream",
     "text": [
      "\u001b[36m(RayTrainWorker pid=52720)\u001b[0m \n",
      "\u001b[36m(RayTrainWorker pid=52659)\u001b[0m \n"
     ]
    },
    {
     "name": "stderr",
     "output_type": "stream",
     "text": [
      "\u001b[36m(RayTrainWorker pid=52006)\u001b[0m /Users/sidharrthnagappan/.pyenv/versions/3.11.0/lib/python3.11/multiprocessing/resource_tracker.py:224: UserWarning: resource_tracker: There appear to be 55 leaked semaphore objects to clean up at shutdown\n",
      "\u001b[36m(RayTrainWorker pid=52006)\u001b[0m   warnings.warn('resource_tracker: There appear to be %d '\n",
      "\u001b[36m(TorchTrainer pid=52656)\u001b[0m Started distributed worker processes: \u001b[32m [repeated 3x across cluster]\u001b[0m\n",
      "\u001b[36m(TorchTrainer pid=52656)\u001b[0m - (node_id=7cc2334a334327f410131b140fb9ad2ae54820f537299598f92261b4, ip=127.0.0.1, pid=52720) world_rank=0, local_rank=0, node_rank=0\u001b[32m [repeated 3x across cluster]\u001b[0m\n",
      "\u001b[36m(RayTrainWorker pid=52720)\u001b[0m Setting up process group for: env:// [rank=0, world_size=1]\u001b[32m [repeated 3x across cluster]\u001b[0m\n",
      "100%|██████████| 9.91M/9.91M [00:00<00:00, 11.1MB/s]\n",
      "100%|██████████| 9.91M/9.91M [00:00<00:00, 10.6MB/s]\n"
     ]
    },
    {
     "name": "stdout",
     "output_type": "stream",
     "text": [
      "\u001b[36m(RayTrainWorker pid=52694)\u001b[0m \n",
      "\u001b[36m(RayTrainWorker pid=52695)\u001b[0m \n",
      "\u001b[36m(RayTrainWorker pid=52659)\u001b[0m \n",
      "\u001b[36m(RayTrainWorker pid=52694)\u001b[0m \n",
      "\u001b[36m(RayTrainWorker pid=52720)\u001b[0m printing config {'layer_1_size': 128, 'layer_2_size': 128, 'layer_3_size': 256, 'dropout': 0.24886063751267073, 'batch_size': 64, 'learning_rate': 0.0008074760893481581}\u001b[32m [repeated 3x across cluster]\u001b[0m\n",
      "\u001b[36m(RayTrainWorker pid=52694)\u001b[0m Downloading https://ossci-datasets.s3.amazonaws.com/mnist/train-labels-idx1-ubyte.gz\u001b[32m [repeated 13x across cluster]\u001b[0m\n"
     ]
    },
    {
     "name": "stderr",
     "output_type": "stream",
     "text": [
      "100%|██████████| 1.65M/1.65M [00:00<00:00, 3.19MB/s]\n"
     ]
    },
    {
     "name": "stdout",
     "output_type": "stream",
     "text": [
      "\u001b[36m(RayTrainWorker pid=52695)\u001b[0m \n"
     ]
    },
    {
     "name": "stderr",
     "output_type": "stream",
     "text": [
      "\u001b[36m(RayTrainWorker pid=52720)\u001b[0m GPU available: True (mps), used: False\u001b[32m [repeated 3x across cluster]\u001b[0m\n",
      "\u001b[36m(RayTrainWorker pid=52720)\u001b[0m TPU available: False, using: 0 TPU cores\u001b[32m [repeated 3x across cluster]\u001b[0m\n",
      "\u001b[36m(RayTrainWorker pid=52720)\u001b[0m HPU available: False, using: 0 HPUs\u001b[32m [repeated 3x across cluster]\u001b[0m\n",
      "\u001b[36m(RayTrainWorker pid=52720)\u001b[0m /Users/sidharrthnagappan/.virtualenvs/lsdp_miniproject/lib/python3.11/site-packages/pytorch_lightning/trainer/setup.py:177: GPU available but not used. You can set it by doing `Trainer(accelerator='gpu')`.\u001b[32m [repeated 3x across cluster]\u001b[0m\n",
      "\u001b[36m(RayTrainWorker pid=52720)\u001b[0m /Users/sidharrthnagappan/.virtualenvs/lsdp_miniproject/lib/python3.11/site-packages/pytorch_lightning/loops/utilities.py:73: `max_epochs` was not set. Setting it to 1000 epochs. To train without an epoch limit, set `max_epochs=-1`.\u001b[32m [repeated 3x across cluster]\u001b[0m\n",
      " 96%|█████████▌| 9.50M/9.91M [00:00<00:00, 16.3MB/s]\n",
      "100%|██████████| 9.91M/9.91M [00:01<00:00, 9.84MB/s]\n"
     ]
    },
    {
     "name": "stdout",
     "output_type": "stream",
     "text": [
      "\u001b[36m(RayTrainWorker pid=52659)\u001b[0m \n",
      "\u001b[36m(RayTrainWorker pid=52720)\u001b[0m \n",
      "\u001b[36m(RayTrainWorker pid=52659)\u001b[0m Failed to download (trying next):\u001b[32m [repeated 7x across cluster]\u001b[0m\n",
      "\u001b[36m(RayTrainWorker pid=52659)\u001b[0m HTTP Error 403: Forbidden\u001b[32m [repeated 7x across cluster]\u001b[0m\n",
      "\u001b[36m(RayTrainWorker pid=52695)\u001b[0m \n",
      "\u001b[36m(RayTrainWorker pid=52694)\u001b[0m \n"
     ]
    },
    {
     "name": "stderr",
     "output_type": "stream",
     "text": [
      "100%|██████████| 28.9k/28.9k [00:00<00:00, 340kB/s]\n",
      "100%|██████████| 28.9k/28.9k [00:00<00:00, 342kB/s]\n"
     ]
    },
    {
     "name": "stdout",
     "output_type": "stream",
     "text": [
      "\u001b[36m(RayTrainWorker pid=52720)\u001b[0m \n",
      "\u001b[36m(RayTrainWorker pid=52659)\u001b[0m Downloading https://ossci-datasets.s3.amazonaws.com/mnist/t10k-labels-idx1-ubyte.gz to /var/folders/mf/cfzv46p15017stkscsq9jw9h0000gn/T/tmpsdtbszzl/MNIST/raw/t10k-labels-idx1-ubyte.gz\u001b[32m [repeated 7x across cluster]\u001b[0m\n",
      "\u001b[36m(RayTrainWorker pid=52659)\u001b[0m \n"
     ]
    },
    {
     "name": "stderr",
     "output_type": "stream",
     "text": [
      "100%|██████████| 4.54k/4.54k [00:00<00:00, 3.72MB/s]\n",
      "\u001b[36m(RayTrainWorker pid=52659)\u001b[0m \n",
      "\u001b[36m(RayTrainWorker pid=52659)\u001b[0m   | Name     | Type               | Params | Mode \n",
      "\u001b[36m(RayTrainWorker pid=52659)\u001b[0m --------------------------------------------------------\n",
      "\u001b[36m(RayTrainWorker pid=52659)\u001b[0m 0 | accuracy | MulticlassAccuracy | 0      | train\n",
      "\u001b[36m(RayTrainWorker pid=52659)\u001b[0m 1 | layer1   | Linear             | 100 K  | train\n",
      "\u001b[36m(RayTrainWorker pid=52659)\u001b[0m 2 | layer2   | Linear             | 33.0 K | train\n",
      "\u001b[36m(RayTrainWorker pid=52659)\u001b[0m 3 | layer3   | Linear             | 131 K  | train\n",
      "\u001b[36m(RayTrainWorker pid=52659)\u001b[0m 4 | layer4   | Linear             | 5.1 K  | train\n",
      "\u001b[36m(RayTrainWorker pid=52659)\u001b[0m 5 | dropout  | Dropout            | 0      | train\n",
      "\u001b[36m(RayTrainWorker pid=52659)\u001b[0m --------------------------------------------------------\n",
      "\u001b[36m(RayTrainWorker pid=52659)\u001b[0m 270 K     Trainable params\n",
      "\u001b[36m(RayTrainWorker pid=52659)\u001b[0m 0         Non-trainable params\n",
      "\u001b[36m(RayTrainWorker pid=52659)\u001b[0m 270 K     Total params\n",
      "\u001b[36m(RayTrainWorker pid=52659)\u001b[0m 1.081     Total estimated model params size (MB)\n",
      "\u001b[36m(RayTrainWorker pid=52659)\u001b[0m 6         Modules in train mode\n",
      "\u001b[36m(RayTrainWorker pid=52659)\u001b[0m 0         Modules in eval mode\n",
      "\u001b[36m(RayTrainWorker pid=52659)\u001b[0m /Users/sidharrthnagappan/.virtualenvs/lsdp_miniproject/lib/python3.11/site-packages/pytorch_lightning/trainer/connectors/data_connector.py:420: Consider setting `persistent_workers=True` in 'val_dataloader' to speed up the dataloader worker initialization.\n"
     ]
    },
    {
     "name": "stdout",
     "output_type": "stream",
     "text": [
      "\u001b[36m(RayTrainWorker pid=52694)\u001b[0m \n",
      "\u001b[36m(RayTrainWorker pid=52695)\u001b[0m \n"
     ]
    },
    {
     "name": "stderr",
     "output_type": "stream",
     "text": [
      "  0%|          | 0.00/28.9k [00:00<?, ?B/s]\u001b[32m [repeated 8x across cluster]\u001b[0m\n",
      " 52%|█████▏    | 5.14M/9.91M [00:00<00:00, 8.05MB/s]\u001b[32m [repeated 20x across cluster]\u001b[0m\n",
      "100%|██████████| 28.9k/28.9k [00:00<00:00, 344kB/s]\n"
     ]
    },
    {
     "name": "stdout",
     "output_type": "stream",
     "text": [
      "\u001b[36m(RayTrainWorker pid=52720)\u001b[0m \n",
      "\u001b[36m(RayTrainWorker pid=52720)\u001b[0m \n",
      "\u001b[36m(RayTrainWorker pid=52720)\u001b[0m Extracting /var/folders/mf/cfzv46p15017stkscsq9jw9h0000gn/T/tmpmu6vn7s8/MNIST/raw/train-labels-idx1-ubyte.gz to /var/folders/mf/cfzv46p15017stkscsq9jw9h0000gn/T/tmpmu6vn7s8/MNIST/raw\u001b[32m [repeated 8x across cluster]\u001b[0m\n",
      "\u001b[36m(RayTrainWorker pid=52694)\u001b[0m \n"
     ]
    },
    {
     "name": "stderr",
     "output_type": "stream",
     "text": [
      "100%|██████████| 1.65M/1.65M [00:00<00:00, 3.39MB/s]\n",
      "100%|██████████| 1.65M/1.65M [00:00<00:00, 3.26MB/s]\n"
     ]
    },
    {
     "name": "stdout",
     "output_type": "stream",
     "text": [
      "\u001b[36m(RayTrainWorker pid=52695)\u001b[0m \n",
      "\u001b[36m(RayTrainWorker pid=52694)\u001b[0m \n",
      "\u001b[36m(RayTrainWorker pid=52695)\u001b[0m \n"
     ]
    },
    {
     "name": "stderr",
     "output_type": "stream",
     "text": [
      "\u001b[36m(RayTrainWorker pid=51246)\u001b[0m /Users/sidharrthnagappan/.pyenv/versions/3.11.0/lib/python3.11/multiprocessing/resource_tracker.py:224: UserWarning: resource_tracker: There appear to be 55 leaked semaphore objects to clean up at shutdown\n",
      "\u001b[36m(RayTrainWorker pid=51246)\u001b[0m   warnings.warn('resource_tracker: There appear to be %d '\n",
      "\u001b[36m(RayTrainWorker pid=52659)\u001b[0m /Users/sidharrthnagappan/.virtualenvs/lsdp_miniproject/lib/python3.11/site-packages/pytorch_lightning/trainer/connectors/data_connector.py:420: Consider setting `persistent_workers=True` in 'train_dataloader' to speed up the dataloader worker initialization.\n"
     ]
    },
    {
     "name": "stdout",
     "output_type": "stream",
     "text": [
      "\u001b[36m(RayTrainWorker pid=52720)\u001b[0m \n"
     ]
    },
    {
     "name": "stderr",
     "output_type": "stream",
     "text": [
      "\u001b[36m(RayTrainWorker pid=52694)\u001b[0m \n",
      "\u001b[36m(RayTrainWorker pid=52695)\u001b[0m \n"
     ]
    },
    {
     "name": "stdout",
     "output_type": "stream",
     "text": [
      "\u001b[36m(RayTrainWorker pid=52694)\u001b[0m \n",
      "\u001b[36m(RayTrainWorker pid=52695)\u001b[0m \n",
      "\u001b[36m(RayTrainWorker pid=52720)\u001b[0m \n",
      "\u001b[36m(RayTrainWorker pid=52720)\u001b[0m \n"
     ]
    },
    {
     "name": "stderr",
     "output_type": "stream",
     "text": [
      "\u001b[36m(RayTrainWorker pid=52720)\u001b[0m \n",
      "\u001b[36m(TorchTrainer pid=52788)\u001b[0m Started distributed worker processes: \n",
      "\u001b[36m(TorchTrainer pid=52788)\u001b[0m - (node_id=7cc2334a334327f410131b140fb9ad2ae54820f537299598f92261b4, ip=127.0.0.1, pid=52814) world_rank=0, local_rank=0, node_rank=0\n",
      "\u001b[36m(RayTrainWorker pid=52814)\u001b[0m Setting up process group for: env:// [rank=0, world_size=1]\n"
     ]
    },
    {
     "name": "stdout",
     "output_type": "stream",
     "text": [
      "\u001b[36m(RayTrainWorker pid=52814)\u001b[0m printing config {'layer_1_size': 128, 'layer_2_size': 64, 'layer_3_size': 128, 'dropout': 0.1835654440926341, 'batch_size': 32, 'learning_rate': 0.004610715013900017}\n",
      "\u001b[36m(RayTrainWorker pid=52814)\u001b[0m Downloading http://yann.lecun.com/exdb/mnist/train-images-idx3-ubyte.gz\u001b[32m [repeated 17x across cluster]\u001b[0m\n",
      "\u001b[36m(RayTrainWorker pid=52814)\u001b[0m \n",
      "\u001b[36m(RayTrainWorker pid=52814)\u001b[0m Failed to download (trying next):\u001b[32m [repeated 8x across cluster]\u001b[0m\n",
      "\u001b[36m(RayTrainWorker pid=52814)\u001b[0m HTTP Error 403: Forbidden\u001b[32m [repeated 8x across cluster]\u001b[0m\n"
     ]
    },
    {
     "name": "stderr",
     "output_type": "stream",
     "text": [
      "\u001b[36m(RayTrainWorker pid=52814)\u001b[0m GPU available: True (mps), used: False\n",
      "\u001b[36m(RayTrainWorker pid=52814)\u001b[0m TPU available: False, using: 0 TPU cores\n",
      "\u001b[36m(RayTrainWorker pid=52814)\u001b[0m HPU available: False, using: 0 HPUs\n",
      "\u001b[36m(RayTrainWorker pid=52814)\u001b[0m /Users/sidharrthnagappan/.virtualenvs/lsdp_miniproject/lib/python3.11/site-packages/pytorch_lightning/trainer/setup.py:177: GPU available but not used. You can set it by doing `Trainer(accelerator='gpu')`.\n",
      "\u001b[36m(RayTrainWorker pid=52814)\u001b[0m /Users/sidharrthnagappan/.virtualenvs/lsdp_miniproject/lib/python3.11/site-packages/pytorch_lightning/loops/utilities.py:73: `max_epochs` was not set. Setting it to 1000 epochs. To train without an epoch limit, set `max_epochs=-1`.\n",
      "\u001b[36m(RayTrainWorker pid=52720)\u001b[0m   | Name     | Type               | Params | Mode \u001b[32m [repeated 3x across cluster]\u001b[0m\n",
      "\u001b[36m(RayTrainWorker pid=52720)\u001b[0m --------------------------------------------------------\u001b[32m [repeated 6x across cluster]\u001b[0m\n",
      "\u001b[36m(RayTrainWorker pid=52720)\u001b[0m 0 | accuracy | MulticlassAccuracy | 0      | train\u001b[32m [repeated 3x across cluster]\u001b[0m\n",
      "\u001b[36m(RayTrainWorker pid=52720)\u001b[0m 4 | layer4   | Linear             | 2.6 K  | train\u001b[32m [repeated 12x across cluster]\u001b[0m\n",
      "\u001b[36m(RayTrainWorker pid=52720)\u001b[0m 5 | dropout  | Dropout            | 0      | train\u001b[32m [repeated 3x across cluster]\u001b[0m\n",
      "\u001b[36m(RayTrainWorker pid=52720)\u001b[0m 152 K     Trainable params\u001b[32m [repeated 3x across cluster]\u001b[0m\n",
      "\u001b[36m(RayTrainWorker pid=52720)\u001b[0m 0         Non-trainable params\u001b[32m [repeated 3x across cluster]\u001b[0m\n",
      "\u001b[36m(RayTrainWorker pid=52720)\u001b[0m 152 K     Total params\u001b[32m [repeated 3x across cluster]\u001b[0m\n",
      "\u001b[36m(RayTrainWorker pid=52720)\u001b[0m 0.610     Total estimated model params size (MB)\u001b[32m [repeated 3x across cluster]\u001b[0m\n",
      "\u001b[36m(RayTrainWorker pid=52720)\u001b[0m 6         Modules in train mode\u001b[32m [repeated 3x across cluster]\u001b[0m\n",
      "\u001b[36m(RayTrainWorker pid=52720)\u001b[0m 0         Modules in eval mode\u001b[32m [repeated 3x across cluster]\u001b[0m\n",
      "\u001b[36m(RayTrainWorker pid=52720)\u001b[0m /Users/sidharrthnagappan/.virtualenvs/lsdp_miniproject/lib/python3.11/site-packages/pytorch_lightning/trainer/connectors/data_connector.py:420: Consider setting `persistent_workers=True` in 'val_dataloader' to speed up the dataloader worker initialization.\u001b[32m [repeated 3x across cluster]\u001b[0m\n",
      "  0%|          | 0.00/9.91M [00:00<?, ?B/s]\u001b[32m [repeated 7x across cluster]\u001b[0m\n",
      "  4%|▍         | 426k/9.91M [00:00<00:06, 1.40MB/s]\u001b[32m [repeated 10x across cluster]\u001b[0m\n",
      " 99%|█████████▉| 9.80M/9.91M [00:01<00:00, 11.4MB/s]\n",
      "100%|██████████| 9.91M/9.91M [00:01<00:00, 8.42MB/s]\n"
     ]
    },
    {
     "name": "stdout",
     "output_type": "stream",
     "text": [
      "\u001b[36m(RayTrainWorker pid=52814)\u001b[0m Downloading https://ossci-datasets.s3.amazonaws.com/mnist/train-images-idx3-ubyte.gz to /var/folders/mf/cfzv46p15017stkscsq9jw9h0000gn/T/tmp_9qus576/MNIST/raw/train-images-idx3-ubyte.gz\u001b[32m [repeated 8x across cluster]\u001b[0m\n",
      "\u001b[36m(RayTrainWorker pid=52814)\u001b[0m Extracting /var/folders/mf/cfzv46p15017stkscsq9jw9h0000gn/T/tmp_9qus576/MNIST/raw/train-images-idx3-ubyte.gz to /var/folders/mf/cfzv46p15017stkscsq9jw9h0000gn/T/tmp_9qus576/MNIST/raw\u001b[32m [repeated 7x across cluster]\u001b[0m\n",
      "\u001b[36m(RayTrainWorker pid=52814)\u001b[0m \n",
      "\u001b[36m(RayTrainWorker pid=52814)\u001b[0m \n"
     ]
    },
    {
     "name": "stderr",
     "output_type": "stream",
     "text": [
      "\u001b[36m(RayTrainWorker pid=52720)\u001b[0m /Users/sidharrthnagappan/.virtualenvs/lsdp_miniproject/lib/python3.11/site-packages/pytorch_lightning/trainer/connectors/data_connector.py:420: Consider setting `persistent_workers=True` in 'train_dataloader' to speed up the dataloader worker initialization.\u001b[32m [repeated 3x across cluster]\u001b[0m\n",
      "100%|██████████| 28.9k/28.9k [00:00<00:00, 348kB/s]\n"
     ]
    },
    {
     "name": "stdout",
     "output_type": "stream",
     "text": [
      "\u001b[36m(RayTrainWorker pid=52814)\u001b[0m \n",
      "\u001b[36m(RayTrainWorker pid=52814)\u001b[0m \n",
      "\u001b[36m(RayTrainWorker pid=52814)\u001b[0m Downloading https://ossci-datasets.s3.amazonaws.com/mnist/t10k-images-idx3-ubyte.gz\u001b[32m [repeated 5x across cluster]\u001b[0m\n",
      "\u001b[36m(RayTrainWorker pid=52814)\u001b[0m \n"
     ]
    },
    {
     "name": "stderr",
     "output_type": "stream",
     "text": [
      "100%|██████████| 1.65M/1.65M [00:00<00:00, 3.74MB/s]\n"
     ]
    },
    {
     "name": "stdout",
     "output_type": "stream",
     "text": [
      "\u001b[36m(RayTrainWorker pid=52814)\u001b[0m \n",
      "\u001b[36m(RayTrainWorker pid=52814)\u001b[0m Failed to download (trying next):\u001b[32m [repeated 3x across cluster]\u001b[0m\n",
      "\u001b[36m(RayTrainWorker pid=52814)\u001b[0m HTTP Error 403: Forbidden\u001b[32m [repeated 3x across cluster]\u001b[0m\n",
      "\u001b[36m(RayTrainWorker pid=52814)\u001b[0m \n"
     ]
    },
    {
     "name": "stderr",
     "output_type": "stream",
     "text": [
      "\u001b[36m(RayTrainWorker pid=52814)\u001b[0m \n",
      "\u001b[36m(RayTrainWorker pid=52814)\u001b[0m   | Name     | Type               | Params | Mode \n",
      "\u001b[36m(RayTrainWorker pid=52814)\u001b[0m --------------------------------------------------------\n",
      "\u001b[36m(RayTrainWorker pid=52814)\u001b[0m 0 | accuracy | MulticlassAccuracy | 0      | train\n",
      "\u001b[36m(RayTrainWorker pid=52814)\u001b[0m 1 | layer1   | Linear             | 100 K  | train\n",
      "\u001b[36m(RayTrainWorker pid=52814)\u001b[0m 2 | layer2   | Linear             | 8.3 K  | train\n",
      "\u001b[36m(RayTrainWorker pid=52814)\u001b[0m 3 | layer3   | Linear             | 8.3 K  | train\n",
      "\u001b[36m(RayTrainWorker pid=52814)\u001b[0m 4 | layer4   | Linear             | 1.3 K  | train\n",
      "\u001b[36m(RayTrainWorker pid=52814)\u001b[0m 5 | dropout  | Dropout            | 0      | train\n",
      "\u001b[36m(RayTrainWorker pid=52814)\u001b[0m --------------------------------------------------------\n",
      "\u001b[36m(RayTrainWorker pid=52814)\u001b[0m 118 K     Trainable params\n",
      "\u001b[36m(RayTrainWorker pid=52814)\u001b[0m 0         Non-trainable params\n",
      "\u001b[36m(RayTrainWorker pid=52814)\u001b[0m 118 K     Total params\n",
      "\u001b[36m(RayTrainWorker pid=52814)\u001b[0m 0.473     Total estimated model params size (MB)\n",
      "\u001b[36m(RayTrainWorker pid=52814)\u001b[0m 6         Modules in train mode\n",
      "\u001b[36m(RayTrainWorker pid=52814)\u001b[0m 0         Modules in eval mode\n",
      "\u001b[36m(RayTrainWorker pid=52814)\u001b[0m /Users/sidharrthnagappan/.virtualenvs/lsdp_miniproject/lib/python3.11/site-packages/pytorch_lightning/trainer/connectors/data_connector.py:420: Consider setting `persistent_workers=True` in 'val_dataloader' to speed up the dataloader worker initialization.\n",
      "100%|██████████| 4.54k/4.54k [00:00<00:00, 3.73MB/s]\u001b[32m [repeated 3x across cluster]\u001b[0m\n",
      " 26%|██▌       | 426k/1.65M [00:00<00:00, 1.38MB/s]\u001b[32m [repeated 6x across cluster]\u001b[0m\n",
      "\u001b[36m(RayTrainWorker pid=52814)\u001b[0m /Users/sidharrthnagappan/.virtualenvs/lsdp_miniproject/lib/python3.11/site-packages/pytorch_lightning/trainer/connectors/data_connector.py:420: Consider setting `persistent_workers=True` in 'train_dataloader' to speed up the dataloader worker initialization.\n",
      "\u001b[36m(RayTrainWorker pid=52694)\u001b[0m Checkpoint successfully created at: Checkpoint(filesystem=local, path=/Users/sidharrthnagappan/ray_results/TorchTrainer_2024-12-24_17-34-19/TorchTrainer_4f4b8_00008_8_batch_size=128,dropout=0.1465,layer_1_size=32,layer_2_size=128,layer_3_size=256,learning_rate=0.0001_2024-12-24_17-34-21/checkpoint_000000)\n",
      "\u001b[36m(RayTrainWorker pid=52694)\u001b[0m Traceback (most recent call last):\n",
      "\u001b[36m(RayTrainWorker pid=52694)\u001b[0m   File \"<string>\", line 1, in <module>\n",
      "\u001b[36m(RayTrainWorker pid=52694)\u001b[0m   File \"/Users/sidharrthnagappan/.pyenv/versions/3.11.0/lib/python3.11/multiprocessing/spawn.py\", line 120, in spawn_main\n",
      "\u001b[36m(RayTrainWorker pid=52694)\u001b[0m     exitcode = _main(fd, parent_sentinel)\n",
      "\u001b[36m(RayTrainWorker pid=52694)\u001b[0m                ^^^^^^^^^^^^^^^^^^^^^^^^^^\n",
      "\u001b[36m(RayTrainWorker pid=52694)\u001b[0m   File \"/Users/sidharrthnagappan/.pyenv/versions/3.11.0/lib/python3.11/multiprocessing/spawn.py\", line 130, in _main\n",
      "\u001b[36m(RayTrainWorker pid=52694)\u001b[0m     self = reduction.pickle.load(from_parent)\n",
      "\u001b[36m(RayTrainWorker pid=52694)\u001b[0m            ^^^^^^^^^^^^^^^^^^^^^^^^^^^^^^^^^^\n",
      "\u001b[36m(RayTrainWorker pid=52694)\u001b[0m _pickle.UnpicklingError: pickle data was truncated\n",
      "\u001b[36m(RayTrainWorker pid=52720)\u001b[0m Checkpoint successfully created at: Checkpoint(filesystem=local, path=/Users/sidharrthnagappan/ray_results/TorchTrainer_2024-12-24_17-34-19/TorchTrainer_4f4b8_00010_10_batch_size=64,dropout=0.2489,layer_1_size=128,layer_2_size=128,layer_3_size=256,learning_rate=0.0008_2024-12-24_17-34-21/checkpoint_000000)\u001b[32m [repeated 3x across cluster]\u001b[0m\n",
      "\u001b[36m(RayTrainWorker pid=52694)\u001b[0m /Users/sidharrthnagappan/.pyenv/versions/3.11.0/lib/python3.11/multiprocessing/resource_tracker.py:224: UserWarning: resource_tracker: There appear to be 55 leaked semaphore objects to clean up at shutdown\n",
      "\u001b[36m(RayTrainWorker pid=52694)\u001b[0m   warnings.warn('resource_tracker: There appear to be %d '\n",
      "\u001b[36m(TorchTrainer pid=53111)\u001b[0m Started distributed worker processes: \n",
      "\u001b[36m(TorchTrainer pid=53111)\u001b[0m - (node_id=7cc2334a334327f410131b140fb9ad2ae54820f537299598f92261b4, ip=127.0.0.1, pid=53239) world_rank=0, local_rank=0, node_rank=0\n",
      "\u001b[36m(RayTrainWorker pid=52659)\u001b[0m /Users/sidharrthnagappan/.pyenv/versions/3.11.0/lib/python3.11/multiprocessing/resource_tracker.py:224: UserWarning: resource_tracker: There appear to be 44 leaked semaphore objects to clean up at shutdown\n",
      "\u001b[36m(RayTrainWorker pid=52659)\u001b[0m   warnings.warn('resource_tracker: There appear to be %d '\n",
      "\u001b[36m(RayTrainWorker pid=53239)\u001b[0m Setting up process group for: env:// [rank=0, world_size=1]\n",
      "\u001b[36m(RayTrainWorker pid=52695)\u001b[0m Checkpoint successfully created at: Checkpoint(filesystem=local, path=/Users/sidharrthnagappan/ray_results/TorchTrainer_2024-12-24_17-34-19/TorchTrainer_4f4b8_00009_9_batch_size=128,dropout=0.2985,layer_1_size=128,layer_2_size=128,layer_3_size=256,learning_rate=0.0009_2024-12-24_17-34-21/checkpoint_000001)\n"
     ]
    },
    {
     "name": "stdout",
     "output_type": "stream",
     "text": [
      "\u001b[36m(RayTrainWorker pid=53239)\u001b[0m printing config {'layer_1_size': 128, 'layer_2_size': 128, 'layer_3_size': 512, 'dropout': 0.14513634236469966, 'batch_size': 64, 'learning_rate': 0.08377024358898488}\n",
      "\u001b[36m(RayTrainWorker pid=52814)\u001b[0m Downloading https://ossci-datasets.s3.amazonaws.com/mnist/t10k-labels-idx1-ubyte.gz to /var/folders/mf/cfzv46p15017stkscsq9jw9h0000gn/T/tmp_9qus576/MNIST/raw/t10k-labels-idx1-ubyte.gz\u001b[32m [repeated 3x across cluster]\u001b[0m\n",
      "\u001b[36m(RayTrainWorker pid=52814)\u001b[0m Extracting /var/folders/mf/cfzv46p15017stkscsq9jw9h0000gn/T/tmp_9qus576/MNIST/raw/t10k-labels-idx1-ubyte.gz to /var/folders/mf/cfzv46p15017stkscsq9jw9h0000gn/T/tmp_9qus576/MNIST/raw\u001b[32m [repeated 3x across cluster]\u001b[0m\n",
      "\u001b[36m(RayTrainWorker pid=53239)\u001b[0m Downloading http://yann.lecun.com/exdb/mnist/train-images-idx3-ubyte.gz\u001b[32m [repeated 3x across cluster]\u001b[0m\n"
     ]
    },
    {
     "name": "stderr",
     "output_type": "stream",
     "text": [
      "\u001b[36m(RayTrainWorker pid=53239)\u001b[0m GPU available: True (mps), used: False\n",
      "\u001b[36m(RayTrainWorker pid=53239)\u001b[0m TPU available: False, using: 0 TPU cores\n",
      "\u001b[36m(RayTrainWorker pid=53239)\u001b[0m HPU available: False, using: 0 HPUs\n",
      "\u001b[36m(RayTrainWorker pid=53239)\u001b[0m /Users/sidharrthnagappan/.virtualenvs/lsdp_miniproject/lib/python3.11/site-packages/pytorch_lightning/trainer/setup.py:177: GPU available but not used. You can set it by doing `Trainer(accelerator='gpu')`.\n",
      "\u001b[36m(RayTrainWorker pid=53239)\u001b[0m /Users/sidharrthnagappan/.virtualenvs/lsdp_miniproject/lib/python3.11/site-packages/pytorch_lightning/loops/utilities.py:73: `max_epochs` was not set. Setting it to 1000 epochs. To train without an epoch limit, set `max_epochs=-1`.\n"
     ]
    },
    {
     "name": "stdout",
     "output_type": "stream",
     "text": [
      "\u001b[36m(RayTrainWorker pid=53239)\u001b[0m Failed to download (trying next):\n",
      "\u001b[36m(RayTrainWorker pid=53239)\u001b[0m HTTP Error 403: Forbidden\n",
      "\u001b[36m(RayTrainWorker pid=53239)\u001b[0m \n",
      "\u001b[36m(RayTrainWorker pid=53244)\u001b[0m \n"
     ]
    },
    {
     "name": "stderr",
     "output_type": "stream",
     "text": [
      "  0%|          | 0.00/9.91M [00:00<?, ?B/s]\n",
      "  1%|          | 98.3k/9.91M [00:00<00:16, 597kB/s]\n",
      "  4%|▍         | 426k/9.91M [00:00<00:06, 1.39MB/s]\n",
      " 17%|█▋        | 1.64M/9.91M [00:00<00:01, 4.98MB/s]\n",
      "100%|██████████| 9.91M/9.91M [00:00<00:00, 11.9MB/s]\n"
     ]
    },
    {
     "name": "stdout",
     "output_type": "stream",
     "text": [
      "\u001b[36m(RayTrainWorker pid=53239)\u001b[0m \n",
      "\u001b[36m(RayTrainWorker pid=53239)\u001b[0m \n",
      "\u001b[36m(RayTrainWorker pid=53239)\u001b[0m \n",
      "\u001b[36m(RayTrainWorker pid=53239)\u001b[0m \n"
     ]
    },
    {
     "name": "stderr",
     "output_type": "stream",
     "text": [
      "100%|██████████| 9.91M/9.91M [00:02<00:00, 3.50MB/s]\n",
      "\u001b[36m(TorchTrainer pid=53139)\u001b[0m Started distributed worker processes: \n",
      "\u001b[36m(TorchTrainer pid=53139)\u001b[0m - (node_id=7cc2334a334327f410131b140fb9ad2ae54820f537299598f92261b4, ip=127.0.0.1, pid=53244) world_rank=0, local_rank=0, node_rank=0\n",
      "\u001b[36m(RayTrainWorker pid=53244)\u001b[0m Setting up process group for: env:// [rank=0, world_size=1]\n"
     ]
    },
    {
     "name": "stdout",
     "output_type": "stream",
     "text": [
      "\u001b[36m(RayTrainWorker pid=53244)\u001b[0m \n"
     ]
    },
    {
     "name": "stderr",
     "output_type": "stream",
     "text": [
      "\u001b[36m(RayTrainWorker pid=52720)\u001b[0m Checkpoint successfully created at: Checkpoint(filesystem=local, path=/Users/sidharrthnagappan/ray_results/TorchTrainer_2024-12-24_17-34-19/TorchTrainer_4f4b8_00010_10_batch_size=64,dropout=0.2489,layer_1_size=128,layer_2_size=128,layer_3_size=256,learning_rate=0.0008_2024-12-24_17-34-21/checkpoint_000001)\n"
     ]
    },
    {
     "name": "stdout",
     "output_type": "stream",
     "text": [
      "\u001b[36m(RayTrainWorker pid=53244)\u001b[0m \n",
      "\u001b[36m(RayTrainWorker pid=53244)\u001b[0m printing config {'layer_1_size': 128, 'layer_2_size': 128, 'layer_3_size': 256, 'dropout': 0.19768331624522156, 'batch_size': 64, 'learning_rate': 0.027985409353988275}\n",
      "\u001b[36m(RayTrainWorker pid=53239)\u001b[0m Downloading https://ossci-datasets.s3.amazonaws.com/mnist/t10k-images-idx3-ubyte.gz to /var/folders/mf/cfzv46p15017stkscsq9jw9h0000gn/T/tmp_5bdtq8h/MNIST/raw/t10k-images-idx3-ubyte.gz\u001b[32m [repeated 4x across cluster]\u001b[0m\n",
      "\u001b[36m(RayTrainWorker pid=53239)\u001b[0m Extracting /var/folders/mf/cfzv46p15017stkscsq9jw9h0000gn/T/tmp_5bdtq8h/MNIST/raw/t10k-images-idx3-ubyte.gz to /var/folders/mf/cfzv46p15017stkscsq9jw9h0000gn/T/tmp_5bdtq8h/MNIST/raw\u001b[32m [repeated 4x across cluster]\u001b[0m\n",
      "\u001b[36m(RayTrainWorker pid=53244)\u001b[0m Downloading https://ossci-datasets.s3.amazonaws.com/mnist/train-labels-idx1-ubyte.gz\u001b[32m [repeated 9x across cluster]\u001b[0m\n",
      "\u001b[36m(RayTrainWorker pid=53239)\u001b[0m \n"
     ]
    },
    {
     "name": "stderr",
     "output_type": "stream",
     "text": [
      "\u001b[36m(RayTrainWorker pid=53244)\u001b[0m GPU available: True (mps), used: False\n",
      "\u001b[36m(RayTrainWorker pid=53244)\u001b[0m TPU available: False, using: 0 TPU cores\n",
      "\u001b[36m(RayTrainWorker pid=53244)\u001b[0m HPU available: False, using: 0 HPUs\n",
      "\u001b[36m(RayTrainWorker pid=53244)\u001b[0m /Users/sidharrthnagappan/.virtualenvs/lsdp_miniproject/lib/python3.11/site-packages/pytorch_lightning/trainer/setup.py:177: GPU available but not used. You can set it by doing `Trainer(accelerator='gpu')`.\n",
      "\u001b[36m(RayTrainWorker pid=53244)\u001b[0m /Users/sidharrthnagappan/.virtualenvs/lsdp_miniproject/lib/python3.11/site-packages/pytorch_lightning/loops/utilities.py:73: `max_epochs` was not set. Setting it to 1000 epochs. To train without an epoch limit, set `max_epochs=-1`.\n",
      "100%|██████████| 28.9k/28.9k [00:00<00:00, 337kB/s]\n"
     ]
    },
    {
     "name": "stdout",
     "output_type": "stream",
     "text": [
      "\u001b[36m(RayTrainWorker pid=53244)\u001b[0m \n",
      "\u001b[36m(RayTrainWorker pid=53239)\u001b[0m \n",
      "\u001b[36m(RayTrainWorker pid=53239)\u001b[0m Failed to download (trying next):\u001b[32m [repeated 5x across cluster]\u001b[0m\n",
      "\u001b[36m(RayTrainWorker pid=53239)\u001b[0m HTTP Error 403: Forbidden\u001b[32m [repeated 5x across cluster]\u001b[0m\n",
      "\u001b[36m(RayTrainWorker pid=53244)\u001b[0m \n",
      "\u001b[36m(RayTrainWorker pid=53239)\u001b[0m \n"
     ]
    },
    {
     "name": "stderr",
     "output_type": "stream",
     "text": [
      "100%|██████████| 4.54k/4.54k [00:00<00:00, 2.07MB/s]\u001b[32m [repeated 5x across cluster]\u001b[0m\n",
      "\u001b[36m(RayTrainWorker pid=53239)\u001b[0m \n",
      "\u001b[36m(RayTrainWorker pid=53239)\u001b[0m   | Name     | Type               | Params | Mode \n",
      "\u001b[36m(RayTrainWorker pid=53239)\u001b[0m --------------------------------------------------------\n",
      "\u001b[36m(RayTrainWorker pid=53239)\u001b[0m 0 | accuracy | MulticlassAccuracy | 0      | train\n",
      "\u001b[36m(RayTrainWorker pid=53239)\u001b[0m 1 | layer1   | Linear             | 100 K  | train\n",
      "\u001b[36m(RayTrainWorker pid=53239)\u001b[0m 2 | layer2   | Linear             | 16.5 K | train\n",
      "\u001b[36m(RayTrainWorker pid=53239)\u001b[0m 3 | layer3   | Linear             | 66.0 K | train\n",
      "\u001b[36m(RayTrainWorker pid=53239)\u001b[0m 4 | layer4   | Linear             | 5.1 K  | train\n",
      "\u001b[36m(RayTrainWorker pid=53239)\u001b[0m 5 | dropout  | Dropout            | 0      | train\n",
      "\u001b[36m(RayTrainWorker pid=53239)\u001b[0m --------------------------------------------------------\n",
      "\u001b[36m(RayTrainWorker pid=53239)\u001b[0m 188 K     Trainable params\n",
      "\u001b[36m(RayTrainWorker pid=53239)\u001b[0m 0         Non-trainable params\n",
      "\u001b[36m(RayTrainWorker pid=53239)\u001b[0m 188 K     Total params\n",
      "\u001b[36m(RayTrainWorker pid=53239)\u001b[0m 0.753     Total estimated model params size (MB)\n",
      "\u001b[36m(RayTrainWorker pid=53239)\u001b[0m 6         Modules in train mode\n",
      "\u001b[36m(RayTrainWorker pid=53239)\u001b[0m 0         Modules in eval mode\n",
      "\u001b[36m(RayTrainWorker pid=53239)\u001b[0m /Users/sidharrthnagappan/.virtualenvs/lsdp_miniproject/lib/python3.11/site-packages/pytorch_lightning/trainer/connectors/data_connector.py:420: Consider setting `persistent_workers=True` in 'val_dataloader' to speed up the dataloader worker initialization.\n",
      "100%|██████████| 1.65M/1.65M [00:00<00:00, 3.31MB/s]\u001b[32m [repeated 26x across cluster]\u001b[0m\n"
     ]
    },
    {
     "name": "stdout",
     "output_type": "stream",
     "text": [
      "\u001b[36m(RayTrainWorker pid=53244)\u001b[0m \n",
      "\u001b[36m(RayTrainWorker pid=53244)\u001b[0m \n"
     ]
    },
    {
     "name": "stderr",
     "output_type": "stream",
     "text": [
      "\u001b[36m(RayTrainWorker pid=53244)\u001b[0m \n"
     ]
    },
    {
     "name": "stdout",
     "output_type": "stream",
     "text": [
      "\u001b[36m(RayTrainWorker pid=53244)\u001b[0m \n"
     ]
    },
    {
     "name": "stderr",
     "output_type": "stream",
     "text": [
      "\u001b[36m(RayTrainWorker pid=52695)\u001b[0m Checkpoint successfully created at: Checkpoint(filesystem=local, path=/Users/sidharrthnagappan/ray_results/TorchTrainer_2024-12-24_17-34-19/TorchTrainer_4f4b8_00009_9_batch_size=128,dropout=0.2985,layer_1_size=128,layer_2_size=128,layer_3_size=256,learning_rate=0.0009_2024-12-24_17-34-21/checkpoint_000002)\u001b[32m [repeated 2x across cluster]\u001b[0m\n",
      "\u001b[36m(RayTrainWorker pid=53239)\u001b[0m /Users/sidharrthnagappan/.virtualenvs/lsdp_miniproject/lib/python3.11/site-packages/pytorch_lightning/trainer/connectors/data_connector.py:420: Consider setting `persistent_workers=True` in 'train_dataloader' to speed up the dataloader worker initialization.\n",
      "100%|██████████| 4.54k/4.54k [00:00<00:00, 3.76MB/s]\u001b[32m [repeated 2x across cluster]\u001b[0m\n",
      "\u001b[36m(RayTrainWorker pid=53244)\u001b[0m   | Name     | Type               | Params | Mode \n",
      "\u001b[36m(RayTrainWorker pid=53244)\u001b[0m --------------------------------------------------------\u001b[32m [repeated 2x across cluster]\u001b[0m\n",
      "\u001b[36m(RayTrainWorker pid=53244)\u001b[0m 0 | accuracy | MulticlassAccuracy | 0      | train\n",
      "\u001b[36m(RayTrainWorker pid=53244)\u001b[0m 4 | layer4   | Linear             | 2.6 K  | train\u001b[32m [repeated 4x across cluster]\u001b[0m\n",
      "\u001b[36m(RayTrainWorker pid=53244)\u001b[0m 5 | dropout  | Dropout            | 0      | train\n",
      "\u001b[36m(RayTrainWorker pid=53244)\u001b[0m 152 K     Trainable params\n",
      "\u001b[36m(RayTrainWorker pid=53244)\u001b[0m 0         Non-trainable params\n",
      "\u001b[36m(RayTrainWorker pid=53244)\u001b[0m 152 K     Total params\n",
      "\u001b[36m(RayTrainWorker pid=53244)\u001b[0m 0.610     Total estimated model params size (MB)\n",
      "\u001b[36m(RayTrainWorker pid=53244)\u001b[0m 6         Modules in train mode\n",
      "\u001b[36m(RayTrainWorker pid=53244)\u001b[0m 0         Modules in eval mode\n",
      "\u001b[36m(RayTrainWorker pid=53244)\u001b[0m /Users/sidharrthnagappan/.virtualenvs/lsdp_miniproject/lib/python3.11/site-packages/pytorch_lightning/trainer/connectors/data_connector.py:420: Consider setting `persistent_workers=True` in 'val_dataloader' to speed up the dataloader worker initialization.\n",
      "100%|██████████| 1.65M/1.65M [00:00<00:00, 3.65MB/s]\u001b[32m [repeated 3x across cluster]\u001b[0m\n",
      "\u001b[36m(RayTrainWorker pid=52720)\u001b[0m Checkpoint successfully created at: Checkpoint(filesystem=local, path=/Users/sidharrthnagappan/ray_results/TorchTrainer_2024-12-24_17-34-19/TorchTrainer_4f4b8_00010_10_batch_size=64,dropout=0.2489,layer_1_size=128,layer_2_size=128,layer_3_size=256,learning_rate=0.0008_2024-12-24_17-34-21/checkpoint_000002)\n",
      "\u001b[36m(RayTrainWorker pid=53244)\u001b[0m /Users/sidharrthnagappan/.virtualenvs/lsdp_miniproject/lib/python3.11/site-packages/pytorch_lightning/trainer/connectors/data_connector.py:420: Consider setting `persistent_workers=True` in 'train_dataloader' to speed up the dataloader worker initialization.\n",
      "\u001b[36m(RayTrainWorker pid=52695)\u001b[0m Checkpoint successfully created at: Checkpoint(filesystem=local, path=/Users/sidharrthnagappan/ray_results/TorchTrainer_2024-12-24_17-34-19/TorchTrainer_4f4b8_00009_9_batch_size=128,dropout=0.2985,layer_1_size=128,layer_2_size=128,layer_3_size=256,learning_rate=0.0009_2024-12-24_17-34-21/checkpoint_000003)\n",
      "\u001b[36m(RayTrainWorker pid=53239)\u001b[0m Checkpoint successfully created at: Checkpoint(filesystem=local, path=/Users/sidharrthnagappan/ray_results/TorchTrainer_2024-12-24_17-34-19/TorchTrainer_4f4b8_00012_12_batch_size=64,dropout=0.1451,layer_1_size=128,layer_2_size=128,layer_3_size=512,learning_rate=0.0838_2024-12-24_17-34-21/checkpoint_000000)\n",
      "\u001b[36m(RayTrainWorker pid=52814)\u001b[0m Checkpoint successfully created at: Checkpoint(filesystem=local, path=/Users/sidharrthnagappan/ray_results/TorchTrainer_2024-12-24_17-34-19/TorchTrainer_4f4b8_00011_11_batch_size=32,dropout=0.1836,layer_1_size=128,layer_2_size=64,layer_3_size=128,learning_rate=0.0046_2024-12-24_17-34-21/checkpoint_000001)\n",
      "\u001b[36m(RayTrainWorker pid=53239)\u001b[0m Traceback (most recent call last):\n",
      "\u001b[36m(RayTrainWorker pid=53239)\u001b[0m   File \"<string>\", line 1, in <module>\n",
      "\u001b[36m(RayTrainWorker pid=53239)\u001b[0m   File \"/Users/sidharrthnagappan/.pyenv/versions/3.11.0/lib/python3.11/multiprocessing/spawn.py\", line 120, in spawn_main\n",
      "\u001b[36m(RayTrainWorker pid=53239)\u001b[0m     exitcode = _main(fd, parent_sentinel)\n",
      "\u001b[36m(RayTrainWorker pid=53239)\u001b[0m                ^^^^^^^^^^^^^^^^^^^^^^^^^^\n",
      "\u001b[36m(RayTrainWorker pid=53239)\u001b[0m   File \"/Users/sidharrthnagappan/.pyenv/versions/3.11.0/lib/python3.11/multiprocessing/spawn.py\", line 130, in _main\n",
      "\u001b[36m(RayTrainWorker pid=53239)\u001b[0m     self = reduction.pickle.load(from_parent)\n",
      "\u001b[36m(RayTrainWorker pid=53239)\u001b[0m            ^^^^^^^^^^^^^^^^^^^^^^^^^^^^^^^^^^\n",
      "\u001b[36m(RayTrainWorker pid=53239)\u001b[0m _pickle.UnpicklingError: pickle data was truncated\n",
      "\u001b[36m(RayTrainWorker pid=52695)\u001b[0m Checkpoint successfully created at: Checkpoint(filesystem=local, path=/Users/sidharrthnagappan/ray_results/TorchTrainer_2024-12-24_17-34-19/TorchTrainer_4f4b8_00009_9_batch_size=128,dropout=0.2985,layer_1_size=128,layer_2_size=128,layer_3_size=256,learning_rate=0.0009_2024-12-24_17-34-21/checkpoint_000004)\u001b[32m [repeated 2x across cluster]\u001b[0m\n",
      "\u001b[36m(RayTrainWorker pid=52695)\u001b[0m Traceback (most recent call last):\u001b[32m [repeated 3x across cluster]\u001b[0m\n",
      "\u001b[36m(RayTrainWorker pid=52695)\u001b[0m   File \"<string>\", line 1, in <module>\u001b[32m [repeated 3x across cluster]\u001b[0m\n",
      "\u001b[36m(RayTrainWorker pid=52695)\u001b[0m   File \"/Users/sidharrthnagappan/.pyenv/versions/3.11.0/lib/python3.11/multiprocessing/spawn.py\", line 120, in spawn_main\u001b[32m [repeated 3x across cluster]\u001b[0m\n",
      "\u001b[36m(RayTrainWorker pid=52695)\u001b[0m     exitcode = _main(fd, parent_sentinel)\u001b[32m [repeated 3x across cluster]\u001b[0m\n",
      "\u001b[36m(RayTrainWorker pid=52695)\u001b[0m                ^^^^^^^^^^^^^^^^^^^^^^^^^^\u001b[32m [repeated 3x across cluster]\u001b[0m\n",
      "\u001b[36m(RayTrainWorker pid=52695)\u001b[0m   File \"/Users/sidharrthnagappan/.pyenv/versions/3.11.0/lib/python3.11/multiprocessing/spawn.py\", line 130, in _main\u001b[32m [repeated 3x across cluster]\u001b[0m\n",
      "\u001b[36m(RayTrainWorker pid=52695)\u001b[0m     self = reduction.pickle.load(from_parent)\u001b[32m [repeated 3x across cluster]\u001b[0m\n",
      "\u001b[36m(RayTrainWorker pid=52695)\u001b[0m            ^^^^^^^^^^^^^^^^^^^^^^^^^^^^^^^^^^\u001b[32m [repeated 3x across cluster]\u001b[0m\n",
      "\u001b[36m(RayTrainWorker pid=52695)\u001b[0m _pickle.UnpicklingError: pickle data was truncated\u001b[32m [repeated 3x across cluster]\u001b[0m\n",
      "\u001b[36m(RayTrainWorker pid=53239)\u001b[0m /Users/sidharrthnagappan/.pyenv/versions/3.11.0/lib/python3.11/multiprocessing/resource_tracker.py:224: UserWarning: resource_tracker: There appear to be 55 leaked semaphore objects to clean up at shutdown\n",
      "\u001b[36m(RayTrainWorker pid=53239)\u001b[0m   warnings.warn('resource_tracker: There appear to be %d '\n",
      "\u001b[36m(TorchTrainer pid=53845)\u001b[0m Started distributed worker processes: \n",
      "\u001b[36m(TorchTrainer pid=53845)\u001b[0m - (node_id=7cc2334a334327f410131b140fb9ad2ae54820f537299598f92261b4, ip=127.0.0.1, pid=53951) world_rank=0, local_rank=0, node_rank=0\n",
      "\u001b[36m(RayTrainWorker pid=53951)\u001b[0m Setting up process group for: env:// [rank=0, world_size=1]\n"
     ]
    },
    {
     "name": "stdout",
     "output_type": "stream",
     "text": [
      "\u001b[36m(RayTrainWorker pid=53951)\u001b[0m printing config {'layer_1_size': 128, 'layer_2_size': 128, 'layer_3_size': 256, 'dropout': 0.15949214766748768, 'batch_size': 64, 'learning_rate': 0.06906314226038607}\n",
      "\u001b[36m(RayTrainWorker pid=53244)\u001b[0m Downloading https://ossci-datasets.s3.amazonaws.com/mnist/t10k-labels-idx1-ubyte.gz to /var/folders/mf/cfzv46p15017stkscsq9jw9h0000gn/T/tmps9k_n8cb/MNIST/raw/t10k-labels-idx1-ubyte.gz\u001b[32m [repeated 4x across cluster]\u001b[0m\n",
      "\u001b[36m(RayTrainWorker pid=53244)\u001b[0m Extracting /var/folders/mf/cfzv46p15017stkscsq9jw9h0000gn/T/tmps9k_n8cb/MNIST/raw/t10k-labels-idx1-ubyte.gz to /var/folders/mf/cfzv46p15017stkscsq9jw9h0000gn/T/tmps9k_n8cb/MNIST/raw\u001b[32m [repeated 4x across cluster]\u001b[0m\n",
      "\u001b[36m(RayTrainWorker pid=53244)\u001b[0m Downloading https://ossci-datasets.s3.amazonaws.com/mnist/t10k-labels-idx1-ubyte.gz\u001b[32m [repeated 6x across cluster]\u001b[0m\n",
      "\u001b[36m(RayTrainWorker pid=53244)\u001b[0m Failed to download (trying next):\u001b[32m [repeated 2x across cluster]\u001b[0m\n",
      "\u001b[36m(RayTrainWorker pid=53244)\u001b[0m HTTP Error 403: Forbidden\u001b[32m [repeated 2x across cluster]\u001b[0m\n"
     ]
    },
    {
     "name": "stderr",
     "output_type": "stream",
     "text": [
      "\u001b[36m(RayTrainWorker pid=53951)\u001b[0m GPU available: True (mps), used: False\n",
      "\u001b[36m(RayTrainWorker pid=53951)\u001b[0m TPU available: False, using: 0 TPU cores\n",
      "\u001b[36m(RayTrainWorker pid=53951)\u001b[0m HPU available: False, using: 0 HPUs\n",
      "\u001b[36m(RayTrainWorker pid=53951)\u001b[0m /Users/sidharrthnagappan/.virtualenvs/lsdp_miniproject/lib/python3.11/site-packages/pytorch_lightning/trainer/setup.py:177: GPU available but not used. You can set it by doing `Trainer(accelerator='gpu')`.\n",
      "\u001b[36m(RayTrainWorker pid=53951)\u001b[0m /Users/sidharrthnagappan/.virtualenvs/lsdp_miniproject/lib/python3.11/site-packages/pytorch_lightning/loops/utilities.py:73: `max_epochs` was not set. Setting it to 1000 epochs. To train without an epoch limit, set `max_epochs=-1`.\n",
      "\u001b[36m(RayTrainWorker pid=52720)\u001b[0m Checkpoint successfully created at: Checkpoint(filesystem=local, path=/Users/sidharrthnagappan/ray_results/TorchTrainer_2024-12-24_17-34-19/TorchTrainer_4f4b8_00010_10_batch_size=64,dropout=0.2489,layer_1_size=128,layer_2_size=128,layer_3_size=256,learning_rate=0.0008_2024-12-24_17-34-21/checkpoint_000003)\n"
     ]
    },
    {
     "name": "stdout",
     "output_type": "stream",
     "text": [
      "\u001b[36m(RayTrainWorker pid=53951)\u001b[0m \n"
     ]
    },
    {
     "name": "stderr",
     "output_type": "stream",
     "text": [
      "  0%|          | 0.00/9.91M [00:00<?, ?B/s]\n",
      "\u001b[36m(RayTrainWorker pid=52695)\u001b[0m /Users/sidharrthnagappan/.pyenv/versions/3.11.0/lib/python3.11/multiprocessing/resource_tracker.py:224: UserWarning: resource_tracker: There appear to be 55 leaked semaphore objects to clean up at shutdown\u001b[32m [repeated 3x across cluster]\u001b[0m\n",
      "\u001b[36m(RayTrainWorker pid=52695)\u001b[0m   warnings.warn('resource_tracker: There appear to be %d '\u001b[32m [repeated 3x across cluster]\u001b[0m\n",
      "  1%|          | 98.3k/9.91M [00:00<00:16, 588kB/s]\n",
      "  4%|▍         | 426k/9.91M [00:00<00:06, 1.39MB/s]\n",
      " 13%|█▎        | 1.28M/9.91M [00:00<00:02, 3.13MB/s]\n",
      " 35%|███▍      | 3.44M/9.91M [00:00<00:00, 8.37MB/s]\n"
     ]
    },
    {
     "name": "stdout",
     "output_type": "stream",
     "text": [
      "\u001b[36m(RayTrainWorker pid=53988)\u001b[0m \n",
      "\u001b[36m(RayTrainWorker pid=53989)\u001b[0m \n"
     ]
    },
    {
     "name": "stderr",
     "output_type": "stream",
     "text": [
      " 66%|██████▌   | 6.55M/9.91M [00:00<00:00, 14.9MB/s]\n",
      "100%|██████████| 9.91M/9.91M [00:00<00:00, 11.3MB/s]\n"
     ]
    },
    {
     "name": "stdout",
     "output_type": "stream",
     "text": [
      "\u001b[36m(RayTrainWorker pid=53951)\u001b[0m \n",
      "\u001b[36m(RayTrainWorker pid=53951)\u001b[0m \n"
     ]
    },
    {
     "name": "stderr",
     "output_type": "stream",
     "text": [
      "100%|██████████| 28.9k/28.9k [00:00<00:00, 237kB/s]\n"
     ]
    },
    {
     "name": "stdout",
     "output_type": "stream",
     "text": [
      "\u001b[36m(RayTrainWorker pid=53951)\u001b[0m \n"
     ]
    },
    {
     "name": "stderr",
     "output_type": "stream",
     "text": [
      "100%|██████████| 9.91M/9.91M [00:01<00:00, 8.56MB/s]\n",
      "\u001b[36m(TorchTrainer pid=53946)\u001b[0m Started distributed worker processes: \u001b[32m [repeated 3x across cluster]\u001b[0m\n",
      "\u001b[36m(TorchTrainer pid=53946)\u001b[0m - (node_id=7cc2334a334327f410131b140fb9ad2ae54820f537299598f92261b4, ip=127.0.0.1, pid=54019) world_rank=0, local_rank=0, node_rank=0\u001b[32m [repeated 3x across cluster]\u001b[0m\n",
      "\u001b[36m(RayTrainWorker pid=54019)\u001b[0m Setting up process group for: env:// [rank=0, world_size=1]\u001b[32m [repeated 3x across cluster]\u001b[0m\n"
     ]
    },
    {
     "name": "stdout",
     "output_type": "stream",
     "text": [
      "\u001b[36m(RayTrainWorker pid=53988)\u001b[0m \n",
      "\u001b[36m(RayTrainWorker pid=54019)\u001b[0m \n",
      "\u001b[36m(RayTrainWorker pid=53951)\u001b[0m \n",
      "\u001b[36m(RayTrainWorker pid=53988)\u001b[0m \n"
     ]
    },
    {
     "name": "stderr",
     "output_type": "stream",
     "text": [
      "\u001b[36m(RayTrainWorker pid=52720)\u001b[0m Checkpoint successfully created at: Checkpoint(filesystem=local, path=/Users/sidharrthnagappan/ray_results/TorchTrainer_2024-12-24_17-34-19/TorchTrainer_4f4b8_00010_10_batch_size=64,dropout=0.2489,layer_1_size=128,layer_2_size=128,layer_3_size=256,learning_rate=0.0008_2024-12-24_17-34-21/checkpoint_000004)\n"
     ]
    },
    {
     "name": "stdout",
     "output_type": "stream",
     "text": [
      "\u001b[36m(RayTrainWorker pid=53988)\u001b[0m \n"
     ]
    },
    {
     "name": "stderr",
     "output_type": "stream",
     "text": [
      "100%|██████████| 28.9k/28.9k [00:00<00:00, 331kB/s]\n",
      " 94%|█████████▍| 9.34M/9.91M [00:02<00:00, 4.68MB/s]\n"
     ]
    },
    {
     "name": "stdout",
     "output_type": "stream",
     "text": [
      "\u001b[36m(RayTrainWorker pid=53951)\u001b[0m \n",
      "\u001b[36m(RayTrainWorker pid=54019)\u001b[0m printing config {'layer_1_size': 128, 'layer_2_size': 128, 'layer_3_size': 128, 'dropout': 0.20081277124647182, 'batch_size': 128, 'learning_rate': 0.0002177538522592566}\u001b[32m [repeated 3x across cluster]\u001b[0m\n",
      "\u001b[36m(RayTrainWorker pid=53988)\u001b[0m Downloading https://ossci-datasets.s3.amazonaws.com/mnist/train-labels-idx1-ubyte.gz to /var/folders/mf/cfzv46p15017stkscsq9jw9h0000gn/T/tmp7z21mrqp/MNIST/raw/train-labels-idx1-ubyte.gz\u001b[32m [repeated 7x across cluster]\u001b[0m\n",
      "\u001b[36m(RayTrainWorker pid=53951)\u001b[0m Extracting /var/folders/mf/cfzv46p15017stkscsq9jw9h0000gn/T/tmp71w5gs3r/MNIST/raw/t10k-images-idx3-ubyte.gz to /var/folders/mf/cfzv46p15017stkscsq9jw9h0000gn/T/tmp71w5gs3r/MNIST/raw\u001b[32m [repeated 5x across cluster]\u001b[0m\n",
      "\u001b[36m(RayTrainWorker pid=53951)\u001b[0m Downloading http://yann.lecun.com/exdb/mnist/t10k-labels-idx1-ubyte.gz\u001b[32m [repeated 16x across cluster]\u001b[0m\n",
      "\u001b[36m(RayTrainWorker pid=53988)\u001b[0m Failed to download (trying next):\u001b[32m [repeated 7x across cluster]\u001b[0m\n",
      "\u001b[36m(RayTrainWorker pid=53988)\u001b[0m HTTP Error 403: Forbidden\u001b[32m [repeated 7x across cluster]\u001b[0m\n"
     ]
    },
    {
     "name": "stderr",
     "output_type": "stream",
     "text": [
      "\u001b[36m(RayTrainWorker pid=52720)\u001b[0m Traceback (most recent call last):\n",
      "\u001b[36m(RayTrainWorker pid=52720)\u001b[0m   File \"<string>\", line 1, in <module>\n",
      "\u001b[36m(RayTrainWorker pid=52720)\u001b[0m   File \"/Users/sidharrthnagappan/.pyenv/versions/3.11.0/lib/python3.11/multiprocessing/spawn.py\", line 120, in spawn_main\n",
      "\u001b[36m(RayTrainWorker pid=52720)\u001b[0m     exitcode = _main(fd, parent_sentinel)\n",
      "\u001b[36m(RayTrainWorker pid=52720)\u001b[0m                ^^^^^^^^^^^^^^^^^^^^^^^^^^\n",
      "\u001b[36m(RayTrainWorker pid=52720)\u001b[0m   File \"/Users/sidharrthnagappan/.pyenv/versions/3.11.0/lib/python3.11/multiprocessing/spawn.py\", line 130, in _main\n",
      "\u001b[36m(RayTrainWorker pid=52720)\u001b[0m     self = reduction.pickle.load(from_parent)\n",
      "\u001b[36m(RayTrainWorker pid=52720)\u001b[0m            ^^^^^^^^^^^^^^^^^^^^^^^^^^^^^^^^^^\n",
      "\u001b[36m(RayTrainWorker pid=52720)\u001b[0m _pickle.UnpicklingError: pickle data was truncated\n",
      "\u001b[36m(RayTrainWorker pid=54019)\u001b[0m GPU available: True (mps), used: False\u001b[32m [repeated 3x across cluster]\u001b[0m\n",
      "\u001b[36m(RayTrainWorker pid=54019)\u001b[0m TPU available: False, using: 0 TPU cores\u001b[32m [repeated 3x across cluster]\u001b[0m\n",
      "\u001b[36m(RayTrainWorker pid=54019)\u001b[0m HPU available: False, using: 0 HPUs\u001b[32m [repeated 3x across cluster]\u001b[0m\n",
      "\u001b[36m(RayTrainWorker pid=54019)\u001b[0m /Users/sidharrthnagappan/.virtualenvs/lsdp_miniproject/lib/python3.11/site-packages/pytorch_lightning/trainer/setup.py:177: GPU available but not used. You can set it by doing `Trainer(accelerator='gpu')`.\u001b[32m [repeated 3x across cluster]\u001b[0m\n",
      "\u001b[36m(RayTrainWorker pid=54019)\u001b[0m /Users/sidharrthnagappan/.virtualenvs/lsdp_miniproject/lib/python3.11/site-packages/pytorch_lightning/loops/utilities.py:73: `max_epochs` was not set. Setting it to 1000 epochs. To train without an epoch limit, set `max_epochs=-1`.\u001b[32m [repeated 3x across cluster]\u001b[0m\n",
      "100%|██████████| 1.65M/1.65M [00:00<00:00, 3.27MB/s]\n",
      "100%|██████████| 9.91M/9.91M [00:02<00:00, 3.79MB/s]\n"
     ]
    },
    {
     "name": "stdout",
     "output_type": "stream",
     "text": [
      "\u001b[36m(RayTrainWorker pid=53989)\u001b[0m \n"
     ]
    },
    {
     "name": "stderr",
     "output_type": "stream",
     "text": [
      "100%|██████████| 9.91M/9.91M [00:00<00:00, 10.2MB/s]\n"
     ]
    },
    {
     "name": "stdout",
     "output_type": "stream",
     "text": [
      "\u001b[36m(RayTrainWorker pid=53988)\u001b[0m \n",
      "\u001b[36m(RayTrainWorker pid=54019)\u001b[0m \n",
      "\u001b[36m(RayTrainWorker pid=53951)\u001b[0m \n",
      "\u001b[36m(RayTrainWorker pid=53989)\u001b[0m \n",
      "\u001b[36m(RayTrainWorker pid=54019)\u001b[0m \n",
      "\u001b[36m(RayTrainWorker pid=53951)\u001b[0m \n"
     ]
    },
    {
     "name": "stderr",
     "output_type": "stream",
     "text": [
      "\u001b[36m(RayTrainWorker pid=53951)\u001b[0m \n",
      "\u001b[36m(RayTrainWorker pid=53951)\u001b[0m   | Name     | Type               | Params | Mode \n",
      "\u001b[36m(RayTrainWorker pid=53951)\u001b[0m --------------------------------------------------------\n",
      "\u001b[36m(RayTrainWorker pid=53951)\u001b[0m 0 | accuracy | MulticlassAccuracy | 0      | train\n",
      "\u001b[36m(RayTrainWorker pid=53951)\u001b[0m 1 | layer1   | Linear             | 100 K  | train\n",
      "\u001b[36m(RayTrainWorker pid=53951)\u001b[0m 2 | layer2   | Linear             | 16.5 K | train\n",
      "\u001b[36m(RayTrainWorker pid=53951)\u001b[0m 3 | layer3   | Linear             | 33.0 K | train\n",
      "\u001b[36m(RayTrainWorker pid=53951)\u001b[0m 4 | layer4   | Linear             | 2.6 K  | train\n",
      "\u001b[36m(RayTrainWorker pid=53951)\u001b[0m 5 | dropout  | Dropout            | 0      | train\n",
      "\u001b[36m(RayTrainWorker pid=53951)\u001b[0m --------------------------------------------------------\n",
      "\u001b[36m(RayTrainWorker pid=53951)\u001b[0m 152 K     Trainable params\n",
      "\u001b[36m(RayTrainWorker pid=53951)\u001b[0m 0         Non-trainable params\n",
      "\u001b[36m(RayTrainWorker pid=53951)\u001b[0m 152 K     Total params\n",
      "\u001b[36m(RayTrainWorker pid=53951)\u001b[0m 0.610     Total estimated model params size (MB)\n",
      "\u001b[36m(RayTrainWorker pid=53951)\u001b[0m 6         Modules in train mode\n",
      "\u001b[36m(RayTrainWorker pid=53951)\u001b[0m 0         Modules in eval mode\n",
      "\u001b[36m(RayTrainWorker pid=53951)\u001b[0m /Users/sidharrthnagappan/.virtualenvs/lsdp_miniproject/lib/python3.11/site-packages/pytorch_lightning/trainer/connectors/data_connector.py:420: Consider setting `persistent_workers=True` in 'val_dataloader' to speed up the dataloader worker initialization.\n",
      "100%|██████████| 4.54k/4.54k [00:00<00:00, 5.06MB/s]\u001b[32m [repeated 8x across cluster]\u001b[0m\n",
      "100%|██████████| 28.9k/28.9k [00:00<00:00, 310kB/s]\n"
     ]
    },
    {
     "name": "stdout",
     "output_type": "stream",
     "text": [
      "\u001b[36m(RayTrainWorker pid=53989)\u001b[0m \n",
      "\u001b[36m(RayTrainWorker pid=53988)\u001b[0m \n"
     ]
    },
    {
     "name": "stderr",
     "output_type": "stream",
     "text": [
      "100%|██████████| 1.65M/1.65M [00:00<00:00, 3.72MB/s]\u001b[32m [repeated 37x across cluster]\u001b[0m\n"
     ]
    },
    {
     "name": "stdout",
     "output_type": "stream",
     "text": [
      "\u001b[36m(RayTrainWorker pid=54019)\u001b[0m \n"
     ]
    },
    {
     "name": "stderr",
     "output_type": "stream",
     "text": [
      "100%|██████████| 28.9k/28.9k [00:00<00:00, 348kB/s]\n"
     ]
    },
    {
     "name": "stdout",
     "output_type": "stream",
     "text": [
      "\u001b[36m(RayTrainWorker pid=53989)\u001b[0m \n",
      "\u001b[36m(RayTrainWorker pid=53988)\u001b[0m \n",
      "\u001b[36m(RayTrainWorker pid=54019)\u001b[0m \n",
      "\u001b[36m(RayTrainWorker pid=53988)\u001b[0m \n"
     ]
    },
    {
     "name": "stderr",
     "output_type": "stream",
     "text": [
      "\u001b[36m(RayTrainWorker pid=53988)\u001b[0m \n"
     ]
    },
    {
     "name": "stdout",
     "output_type": "stream",
     "text": [
      "\u001b[36m(RayTrainWorker pid=53989)\u001b[0m \n"
     ]
    },
    {
     "name": "stderr",
     "output_type": "stream",
     "text": [
      "\u001b[36m(RayTrainWorker pid=53951)\u001b[0m /Users/sidharrthnagappan/.virtualenvs/lsdp_miniproject/lib/python3.11/site-packages/pytorch_lightning/trainer/connectors/data_connector.py:420: Consider setting `persistent_workers=True` in 'train_dataloader' to speed up the dataloader worker initialization.\n"
     ]
    },
    {
     "name": "stdout",
     "output_type": "stream",
     "text": [
      "\u001b[36m(RayTrainWorker pid=54019)\u001b[0m \n"
     ]
    },
    {
     "name": "stderr",
     "output_type": "stream",
     "text": [
      "100%|██████████| 1.65M/1.65M [00:00<00:00, 3.63MB/s]\n"
     ]
    },
    {
     "name": "stdout",
     "output_type": "stream",
     "text": [
      "\u001b[36m(RayTrainWorker pid=53989)\u001b[0m \n",
      "\u001b[36m(RayTrainWorker pid=54019)\u001b[0m \n",
      "\u001b[36m(RayTrainWorker pid=53989)\u001b[0m \n"
     ]
    },
    {
     "name": "stderr",
     "output_type": "stream",
     "text": [
      "\u001b[36m(RayTrainWorker pid=53989)\u001b[0m \n"
     ]
    },
    {
     "name": "stdout",
     "output_type": "stream",
     "text": [
      "\u001b[36m(RayTrainWorker pid=54019)\u001b[0m \n"
     ]
    },
    {
     "name": "stderr",
     "output_type": "stream",
     "text": [
      "\u001b[36m(RayTrainWorker pid=54019)\u001b[0m \n",
      "\u001b[36m(RayTrainWorker pid=52720)\u001b[0m /Users/sidharrthnagappan/.pyenv/versions/3.11.0/lib/python3.11/multiprocessing/resource_tracker.py:224: UserWarning: resource_tracker: There appear to be 55 leaked semaphore objects to clean up at shutdown\n",
      "\u001b[36m(RayTrainWorker pid=52720)\u001b[0m   warnings.warn('resource_tracker: There appear to be %d '\n",
      "\u001b[36m(RayTrainWorker pid=54019)\u001b[0m   | Name     | Type               | Params | Mode \u001b[32m [repeated 3x across cluster]\u001b[0m\n",
      "\u001b[36m(RayTrainWorker pid=54019)\u001b[0m --------------------------------------------------------\u001b[32m [repeated 6x across cluster]\u001b[0m\n",
      "\u001b[36m(RayTrainWorker pid=54019)\u001b[0m 0 | accuracy | MulticlassAccuracy | 0      | train\u001b[32m [repeated 3x across cluster]\u001b[0m\n",
      "\u001b[36m(RayTrainWorker pid=54019)\u001b[0m 4 | layer4   | Linear             | 1.3 K  | train\u001b[32m [repeated 12x across cluster]\u001b[0m\n",
      "\u001b[36m(RayTrainWorker pid=54019)\u001b[0m 5 | dropout  | Dropout            | 0      | train\u001b[32m [repeated 3x across cluster]\u001b[0m\n",
      "\u001b[36m(RayTrainWorker pid=54019)\u001b[0m 134 K     Trainable params\u001b[32m [repeated 3x across cluster]\u001b[0m\n",
      "\u001b[36m(RayTrainWorker pid=54019)\u001b[0m 0         Non-trainable params\u001b[32m [repeated 3x across cluster]\u001b[0m\n",
      "\u001b[36m(RayTrainWorker pid=54019)\u001b[0m 134 K     Total params\u001b[32m [repeated 3x across cluster]\u001b[0m\n",
      "\u001b[36m(RayTrainWorker pid=54019)\u001b[0m 0.539     Total estimated model params size (MB)\u001b[32m [repeated 3x across cluster]\u001b[0m\n",
      "\u001b[36m(RayTrainWorker pid=54019)\u001b[0m 6         Modules in train mode\u001b[32m [repeated 3x across cluster]\u001b[0m\n",
      "\u001b[36m(RayTrainWorker pid=54019)\u001b[0m 0         Modules in eval mode\u001b[32m [repeated 3x across cluster]\u001b[0m\n",
      "\u001b[36m(RayTrainWorker pid=54019)\u001b[0m /Users/sidharrthnagappan/.virtualenvs/lsdp_miniproject/lib/python3.11/site-packages/pytorch_lightning/trainer/connectors/data_connector.py:420: Consider setting `persistent_workers=True` in 'val_dataloader' to speed up the dataloader worker initialization.\u001b[32m [repeated 3x across cluster]\u001b[0m\n",
      "100%|██████████| 4.54k/4.54k [00:00<00:00, 3.86MB/s]\u001b[32m [repeated 7x across cluster]\u001b[0m\n",
      " 24%|██▍       | 393k/1.65M [00:00<00:00, 1.28MB/s]\u001b[32m [repeated 5x across cluster]\u001b[0m\n",
      "\u001b[36m(RayTrainWorker pid=54019)\u001b[0m /Users/sidharrthnagappan/.virtualenvs/lsdp_miniproject/lib/python3.11/site-packages/pytorch_lightning/trainer/connectors/data_connector.py:420: Consider setting `persistent_workers=True` in 'train_dataloader' to speed up the dataloader worker initialization.\u001b[32m [repeated 3x across cluster]\u001b[0m\n",
      "\u001b[36m(TorchTrainer pid=54116)\u001b[0m Started distributed worker processes: \n",
      "\u001b[36m(TorchTrainer pid=54116)\u001b[0m - (node_id=7cc2334a334327f410131b140fb9ad2ae54820f537299598f92261b4, ip=127.0.0.1, pid=54161) world_rank=0, local_rank=0, node_rank=0\n",
      "\u001b[36m(RayTrainWorker pid=54161)\u001b[0m Setting up process group for: env:// [rank=0, world_size=1]\n",
      "\u001b[36m(RayTrainWorker pid=54161)\u001b[0m GPU available: True (mps), used: False\n",
      "\u001b[36m(RayTrainWorker pid=54161)\u001b[0m TPU available: False, using: 0 TPU cores\n",
      "\u001b[36m(RayTrainWorker pid=54161)\u001b[0m HPU available: False, using: 0 HPUs\n",
      "\u001b[36m(RayTrainWorker pid=54161)\u001b[0m /Users/sidharrthnagappan/.virtualenvs/lsdp_miniproject/lib/python3.11/site-packages/pytorch_lightning/trainer/setup.py:177: GPU available but not used. You can set it by doing `Trainer(accelerator='gpu')`.\n",
      "\u001b[36m(RayTrainWorker pid=54161)\u001b[0m /Users/sidharrthnagappan/.virtualenvs/lsdp_miniproject/lib/python3.11/site-packages/pytorch_lightning/loops/utilities.py:73: `max_epochs` was not set. Setting it to 1000 epochs. To train without an epoch limit, set `max_epochs=-1`.\n"
     ]
    },
    {
     "name": "stdout",
     "output_type": "stream",
     "text": [
      "\u001b[36m(RayTrainWorker pid=54161)\u001b[0m printing config {'layer_1_size': 32, 'layer_2_size': 64, 'layer_3_size': 256, 'dropout': 0.16431648687476777, 'batch_size': 128, 'learning_rate': 0.0029890994732554837}\n",
      "\u001b[36m(RayTrainWorker pid=54019)\u001b[0m Downloading https://ossci-datasets.s3.amazonaws.com/mnist/t10k-labels-idx1-ubyte.gz to /var/folders/mf/cfzv46p15017stkscsq9jw9h0000gn/T/tmpxbfgduw4/MNIST/raw/t10k-labels-idx1-ubyte.gz\u001b[32m [repeated 9x across cluster]\u001b[0m\n",
      "\u001b[36m(RayTrainWorker pid=54019)\u001b[0m Extracting /var/folders/mf/cfzv46p15017stkscsq9jw9h0000gn/T/tmpxbfgduw4/MNIST/raw/t10k-labels-idx1-ubyte.gz to /var/folders/mf/cfzv46p15017stkscsq9jw9h0000gn/T/tmpxbfgduw4/MNIST/raw\u001b[32m [repeated 11x across cluster]\u001b[0m\n",
      "\u001b[36m(RayTrainWorker pid=54019)\u001b[0m Downloading https://ossci-datasets.s3.amazonaws.com/mnist/t10k-labels-idx1-ubyte.gz\u001b[32m [repeated 16x across cluster]\u001b[0m\n",
      "\u001b[36m(RayTrainWorker pid=54019)\u001b[0m Failed to download (trying next):\u001b[32m [repeated 9x across cluster]\u001b[0m\n",
      "\u001b[36m(RayTrainWorker pid=54019)\u001b[0m HTTP Error 403: Forbidden\u001b[32m [repeated 9x across cluster]\u001b[0m\n",
      "\u001b[36m(RayTrainWorker pid=54161)\u001b[0m \n"
     ]
    },
    {
     "name": "stderr",
     "output_type": "stream",
     "text": [
      " 95%|█████████▍| 9.40M/9.91M [00:00<00:00, 15.1MB/s]\n",
      "100%|██████████| 9.91M/9.91M [00:00<00:00, 10.2MB/s]\n"
     ]
    },
    {
     "name": "stdout",
     "output_type": "stream",
     "text": [
      "\u001b[36m(RayTrainWorker pid=54161)\u001b[0m \n",
      "\u001b[36m(RayTrainWorker pid=54161)\u001b[0m \n"
     ]
    },
    {
     "name": "stderr",
     "output_type": "stream",
     "text": [
      "100%|██████████| 28.9k/28.9k [00:00<00:00, 336kB/s]\u001b[32m [repeated 2x across cluster]\u001b[0m\n",
      " 77%|███████▋  | 7.67M/9.91M [00:00<00:00, 15.0MB/s]\u001b[32m [repeated 6x across cluster]\u001b[0m\n"
     ]
    },
    {
     "name": "stdout",
     "output_type": "stream",
     "text": [
      "\u001b[36m(RayTrainWorker pid=54161)\u001b[0m \n",
      "\u001b[36m(RayTrainWorker pid=54161)\u001b[0m \n",
      "\u001b[36m(RayTrainWorker pid=54161)\u001b[0m Downloading https://ossci-datasets.s3.amazonaws.com/mnist/t10k-images-idx3-ubyte.gz to /var/folders/mf/cfzv46p15017stkscsq9jw9h0000gn/T/tmpxmbqtipr/MNIST/raw/t10k-images-idx3-ubyte.gz\u001b[32m [repeated 3x across cluster]\u001b[0m\n",
      "\u001b[36m(RayTrainWorker pid=54161)\u001b[0m Extracting /var/folders/mf/cfzv46p15017stkscsq9jw9h0000gn/T/tmpxmbqtipr/MNIST/raw/t10k-images-idx3-ubyte.gz to /var/folders/mf/cfzv46p15017stkscsq9jw9h0000gn/T/tmpxmbqtipr/MNIST/raw\u001b[32m [repeated 3x across cluster]\u001b[0m\n",
      "\u001b[36m(RayTrainWorker pid=54161)\u001b[0m Downloading https://ossci-datasets.s3.amazonaws.com/mnist/t10k-images-idx3-ubyte.gz\u001b[32m [repeated 6x across cluster]\u001b[0m\n",
      "\u001b[36m(RayTrainWorker pid=54161)\u001b[0m Failed to download (trying next):\u001b[32m [repeated 3x across cluster]\u001b[0m\n",
      "\u001b[36m(RayTrainWorker pid=54161)\u001b[0m HTTP Error 403: Forbidden\u001b[32m [repeated 3x across cluster]\u001b[0m\n",
      "\u001b[36m(RayTrainWorker pid=54161)\u001b[0m \n",
      "\u001b[36m(RayTrainWorker pid=54161)\u001b[0m \n"
     ]
    },
    {
     "name": "stderr",
     "output_type": "stream",
     "text": [
      "\u001b[36m(RayTrainWorker pid=53988)\u001b[0m Checkpoint successfully created at: Checkpoint(filesystem=local, path=/Users/sidharrthnagappan/ray_results/TorchTrainer_2024-12-24_17-34-19/TorchTrainer_4f4b8_00015_15_batch_size=128,dropout=0.1031,layer_1_size=64,layer_2_size=128,layer_3_size=128,learning_rate=0.0036_2024-12-24_17-34-21/checkpoint_000000)\n",
      "\u001b[36m(RayTrainWorker pid=54161)\u001b[0m \n",
      "\u001b[36m(RayTrainWorker pid=54161)\u001b[0m   | Name     | Type               | Params | Mode \n",
      "\u001b[36m(RayTrainWorker pid=54161)\u001b[0m --------------------------------------------------------\n",
      "\u001b[36m(RayTrainWorker pid=54161)\u001b[0m 0 | accuracy | MulticlassAccuracy | 0      | train\n",
      "\u001b[36m(RayTrainWorker pid=54161)\u001b[0m 1 | layer1   | Linear             | 25.1 K | train\n",
      "\u001b[36m(RayTrainWorker pid=54161)\u001b[0m 2 | layer2   | Linear             | 2.1 K  | train\n",
      "\u001b[36m(RayTrainWorker pid=54161)\u001b[0m 3 | layer3   | Linear             | 16.6 K | train\n",
      "\u001b[36m(RayTrainWorker pid=54161)\u001b[0m 4 | layer4   | Linear             | 2.6 K  | train\n",
      "\u001b[36m(RayTrainWorker pid=54161)\u001b[0m 5 | dropout  | Dropout            | 0      | train\n",
      "\u001b[36m(RayTrainWorker pid=54161)\u001b[0m --------------------------------------------------------\n",
      "\u001b[36m(RayTrainWorker pid=54161)\u001b[0m 46.4 K    Trainable params\n",
      "\u001b[36m(RayTrainWorker pid=54161)\u001b[0m 0         Non-trainable params\n",
      "\u001b[36m(RayTrainWorker pid=54161)\u001b[0m 46.4 K    Total params\n",
      "\u001b[36m(RayTrainWorker pid=54161)\u001b[0m 0.186     Total estimated model params size (MB)\n",
      "\u001b[36m(RayTrainWorker pid=54161)\u001b[0m 6         Modules in train mode\n",
      "\u001b[36m(RayTrainWorker pid=54161)\u001b[0m 0         Modules in eval mode\n",
      "\u001b[36m(RayTrainWorker pid=54161)\u001b[0m /Users/sidharrthnagappan/.virtualenvs/lsdp_miniproject/lib/python3.11/site-packages/pytorch_lightning/trainer/connectors/data_connector.py:420: Consider setting `persistent_workers=True` in 'val_dataloader' to speed up the dataloader worker initialization.\n"
     ]
    },
    {
     "name": "stdout",
     "output_type": "stream",
     "text": [
      "\u001b[36m(RayTrainWorker pid=54161)\u001b[0m \n"
     ]
    },
    {
     "name": "stderr",
     "output_type": "stream",
     "text": [
      "\u001b[36m(RayTrainWorker pid=53951)\u001b[0m Traceback (most recent call last):\n",
      "\u001b[36m(RayTrainWorker pid=53951)\u001b[0m   File \"<string>\", line 1, in <module>\n",
      "\u001b[36m(RayTrainWorker pid=53951)\u001b[0m   File \"/Users/sidharrthnagappan/.pyenv/versions/3.11.0/lib/python3.11/multiprocessing/spawn.py\", line 120, in spawn_main\n",
      "\u001b[36m(RayTrainWorker pid=53951)\u001b[0m     exitcode = _main(fd, parent_sentinel)\n",
      "\u001b[36m(RayTrainWorker pid=53951)\u001b[0m                ^^^^^^^^^^^^^^^^^^^^^^^^^^\n",
      "\u001b[36m(RayTrainWorker pid=53951)\u001b[0m   File \"/Users/sidharrthnagappan/.pyenv/versions/3.11.0/lib/python3.11/multiprocessing/spawn.py\", line 130, in _main\n",
      "\u001b[36m(RayTrainWorker pid=53951)\u001b[0m     self = reduction.pickle.load(from_parent)\n",
      "\u001b[36m(RayTrainWorker pid=53951)\u001b[0m            ^^^^^^^^^^^^^^^^^^^^^^^^^^^^^^^^^^\n",
      "\u001b[36m(RayTrainWorker pid=53951)\u001b[0m _pickle.UnpicklingError: pickle data was truncated\n",
      "100%|██████████| 4.54k/4.54k [00:00<00:00, 2.83MB/s]\u001b[32m [repeated 2x across cluster]\u001b[0m\n",
      "100%|██████████| 1.65M/1.65M [00:00<00:00, 3.19MB/s]\u001b[32m [repeated 3x across cluster]\u001b[0m\n",
      "\u001b[36m(RayTrainWorker pid=54161)\u001b[0m /Users/sidharrthnagappan/.virtualenvs/lsdp_miniproject/lib/python3.11/site-packages/pytorch_lightning/trainer/connectors/data_connector.py:420: Consider setting `persistent_workers=True` in 'train_dataloader' to speed up the dataloader worker initialization.\n",
      "\u001b[36m(RayTrainWorker pid=54019)\u001b[0m Checkpoint successfully created at: Checkpoint(filesystem=local, path=/Users/sidharrthnagappan/ray_results/TorchTrainer_2024-12-24_17-34-19/TorchTrainer_4f4b8_00017_17_batch_size=128,dropout=0.2008,layer_1_size=128,layer_2_size=128,layer_3_size=128,learning_rate=0.0002_2024-12-24_17-34-21/checkpoint_000000)\u001b[32m [repeated 2x across cluster]\u001b[0m\n",
      "\u001b[36m(RayTrainWorker pid=53951)\u001b[0m /Users/sidharrthnagappan/.pyenv/versions/3.11.0/lib/python3.11/multiprocessing/resource_tracker.py:224: UserWarning: resource_tracker: There appear to be 55 leaked semaphore objects to clean up at shutdown\n",
      "\u001b[36m(RayTrainWorker pid=53951)\u001b[0m   warnings.warn('resource_tracker: There appear to be %d '\n",
      "\u001b[36m(RayTrainWorker pid=53989)\u001b[0m Traceback (most recent call last):\u001b[32m [repeated 2x across cluster]\u001b[0m\n",
      "\u001b[36m(RayTrainWorker pid=53989)\u001b[0m   File \"<string>\", line 1, in <module>\u001b[32m [repeated 2x across cluster]\u001b[0m\n",
      "\u001b[36m(RayTrainWorker pid=53989)\u001b[0m   File \"/Users/sidharrthnagappan/.pyenv/versions/3.11.0/lib/python3.11/multiprocessing/spawn.py\", line 120, in spawn_main\u001b[32m [repeated 2x across cluster]\u001b[0m\n",
      "\u001b[36m(RayTrainWorker pid=53989)\u001b[0m     exitcode = _main(fd, parent_sentinel)\u001b[32m [repeated 2x across cluster]\u001b[0m\n",
      "\u001b[36m(RayTrainWorker pid=53989)\u001b[0m                ^^^^^^^^^^^^^^^^^^^^^^^^^^\u001b[32m [repeated 2x across cluster]\u001b[0m\n",
      "\u001b[36m(RayTrainWorker pid=53989)\u001b[0m   File \"/Users/sidharrthnagappan/.pyenv/versions/3.11.0/lib/python3.11/multiprocessing/spawn.py\", line 130, in _main\u001b[32m [repeated 2x across cluster]\u001b[0m\n",
      "\u001b[36m(RayTrainWorker pid=53989)\u001b[0m     self = reduction.pickle.load(from_parent)\u001b[32m [repeated 2x across cluster]\u001b[0m\n",
      "\u001b[36m(RayTrainWorker pid=53989)\u001b[0m            ^^^^^^^^^^^^^^^^^^^^^^^^^^^^^^^^^^\u001b[32m [repeated 2x across cluster]\u001b[0m\n",
      "\u001b[36m(RayTrainWorker pid=53989)\u001b[0m _pickle.UnpicklingError: pickle data was truncated\u001b[32m [repeated 2x across cluster]\u001b[0m\n",
      "\u001b[36m(RayTrainWorker pid=53989)\u001b[0m Checkpoint successfully created at: Checkpoint(filesystem=local, path=/Users/sidharrthnagappan/ray_results/TorchTrainer_2024-12-24_17-34-19/TorchTrainer_4f4b8_00016_16_batch_size=64,dropout=0.1852,layer_1_size=32,layer_2_size=64,layer_3_size=256,learning_rate=0.0005_2024-12-24_17-34-21/checkpoint_000000)\n",
      "\u001b[36m(RayTrainWorker pid=53988)\u001b[0m Checkpoint successfully created at: Checkpoint(filesystem=local, path=/Users/sidharrthnagappan/ray_results/TorchTrainer_2024-12-24_17-34-19/TorchTrainer_4f4b8_00015_15_batch_size=128,dropout=0.1031,layer_1_size=64,layer_2_size=128,layer_3_size=128,learning_rate=0.0036_2024-12-24_17-34-21/checkpoint_000001)\n",
      "\u001b[36m(RayTrainWorker pid=53989)\u001b[0m /Users/sidharrthnagappan/.pyenv/versions/3.11.0/lib/python3.11/multiprocessing/resource_tracker.py:224: UserWarning: resource_tracker: There appear to be 55 leaked semaphore objects to clean up at shutdown\u001b[32m [repeated 2x across cluster]\u001b[0m\n",
      "\u001b[36m(RayTrainWorker pid=53989)\u001b[0m   warnings.warn('resource_tracker: There appear to be %d '\u001b[32m [repeated 2x across cluster]\u001b[0m\n",
      "\u001b[36m(RayTrainWorker pid=53988)\u001b[0m Traceback (most recent call last):\n",
      "\u001b[36m(RayTrainWorker pid=53988)\u001b[0m   File \"<string>\", line 1, in <module>\n",
      "\u001b[36m(RayTrainWorker pid=53988)\u001b[0m   File \"/Users/sidharrthnagappan/.pyenv/versions/3.11.0/lib/python3.11/multiprocessing/spawn.py\", line 120, in spawn_main\n",
      "\u001b[36m(RayTrainWorker pid=53988)\u001b[0m     exitcode = _main(fd, parent_sentinel)\n",
      "\u001b[36m(RayTrainWorker pid=53988)\u001b[0m                ^^^^^^^^^^^^^^^^^^^^^^^^^^\n",
      "\u001b[36m(RayTrainWorker pid=53988)\u001b[0m   File \"/Users/sidharrthnagappan/.pyenv/versions/3.11.0/lib/python3.11/multiprocessing/spawn.py\", line 130, in _main\n",
      "\u001b[36m(RayTrainWorker pid=53988)\u001b[0m     self = reduction.pickle.load(from_parent)\n",
      "\u001b[36m(RayTrainWorker pid=53988)\u001b[0m            ^^^^^^^^^^^^^^^^^^^^^^^^^^^^^^^^^^\n",
      "\u001b[36m(RayTrainWorker pid=53988)\u001b[0m _pickle.UnpicklingError: pickle data was truncated\n",
      "\u001b[36m(TorchTrainer pid=54458)\u001b[0m Started distributed worker processes: \n",
      "\u001b[36m(TorchTrainer pid=54458)\u001b[0m - (node_id=7cc2334a334327f410131b140fb9ad2ae54820f537299598f92261b4, ip=127.0.0.1, pid=54566) world_rank=0, local_rank=0, node_rank=0\n",
      "\u001b[36m(RayTrainWorker pid=54566)\u001b[0m Setting up process group for: env:// [rank=0, world_size=1]\n"
     ]
    },
    {
     "name": "stdout",
     "output_type": "stream",
     "text": [
      "\u001b[36m(RayTrainWorker pid=54566)\u001b[0m printing config {'layer_1_size': 32, 'layer_2_size': 256, 'layer_3_size': 256, 'dropout': 0.1423789011822376, 'batch_size': 32, 'learning_rate': 0.05657467324573046}\n",
      "\u001b[36m(RayTrainWorker pid=54161)\u001b[0m Downloading https://ossci-datasets.s3.amazonaws.com/mnist/t10k-labels-idx1-ubyte.gz to /var/folders/mf/cfzv46p15017stkscsq9jw9h0000gn/T/tmpxmbqtipr/MNIST/raw/t10k-labels-idx1-ubyte.gz\n",
      "\u001b[36m(RayTrainWorker pid=54161)\u001b[0m Extracting /var/folders/mf/cfzv46p15017stkscsq9jw9h0000gn/T/tmpxmbqtipr/MNIST/raw/t10k-labels-idx1-ubyte.gz to /var/folders/mf/cfzv46p15017stkscsq9jw9h0000gn/T/tmpxmbqtipr/MNIST/raw\n",
      "\u001b[36m(RayTrainWorker pid=54566)\u001b[0m Downloading http://yann.lecun.com/exdb/mnist/train-images-idx3-ubyte.gz\u001b[32m [repeated 3x across cluster]\u001b[0m\n",
      "\u001b[36m(RayTrainWorker pid=54161)\u001b[0m Failed to download (trying next):\n",
      "\u001b[36m(RayTrainWorker pid=54161)\u001b[0m HTTP Error 403: Forbidden\n"
     ]
    },
    {
     "name": "stderr",
     "output_type": "stream",
     "text": [
      "\u001b[36m(RayTrainWorker pid=54566)\u001b[0m GPU available: True (mps), used: False\n",
      "\u001b[36m(RayTrainWorker pid=54566)\u001b[0m TPU available: False, using: 0 TPU cores\n",
      "\u001b[36m(RayTrainWorker pid=54566)\u001b[0m HPU available: False, using: 0 HPUs\n",
      "\u001b[36m(RayTrainWorker pid=54566)\u001b[0m /Users/sidharrthnagappan/.virtualenvs/lsdp_miniproject/lib/python3.11/site-packages/pytorch_lightning/trainer/setup.py:177: GPU available but not used. You can set it by doing `Trainer(accelerator='gpu')`.\n",
      "\u001b[36m(RayTrainWorker pid=54566)\u001b[0m /Users/sidharrthnagappan/.virtualenvs/lsdp_miniproject/lib/python3.11/site-packages/pytorch_lightning/loops/utilities.py:73: `max_epochs` was not set. Setting it to 1000 epochs. To train without an epoch limit, set `max_epochs=-1`.\n"
     ]
    },
    {
     "name": "stdout",
     "output_type": "stream",
     "text": [
      "\u001b[36m(RayTrainWorker pid=54566)\u001b[0m Failed to download (trying next):\n",
      "\u001b[36m(RayTrainWorker pid=54566)\u001b[0m HTTP Error 403: Forbidden\n",
      "\u001b[36m(RayTrainWorker pid=54566)\u001b[0m \n",
      "\u001b[36m(RayTrainWorker pid=54571)\u001b[0m \n",
      "\u001b[36m(RayTrainWorker pid=54566)\u001b[0m Downloading https://ossci-datasets.s3.amazonaws.com/mnist/train-images-idx3-ubyte.gz to /var/folders/mf/cfzv46p15017stkscsq9jw9h0000gn/T/tmpf8716_rj/MNIST/raw/train-images-idx3-ubyte.gz\n"
     ]
    },
    {
     "name": "stderr",
     "output_type": "stream",
     "text": [
      "  0%|          | 0.00/9.91M [00:00<?, ?B/s]\n",
      "  1%|          | 98.3k/9.91M [00:00<00:16, 589kB/s]\n",
      "  4%|▍         | 426k/9.91M [00:00<00:06, 1.39MB/s]\n",
      " 18%|█▊        | 1.80M/9.91M [00:00<00:01, 4.51MB/s]\n",
      "100%|██████████| 9.91M/9.91M [00:00<00:00, 11.3MB/s]\n"
     ]
    },
    {
     "name": "stdout",
     "output_type": "stream",
     "text": [
      "\u001b[36m(RayTrainWorker pid=54566)\u001b[0m Extracting /var/folders/mf/cfzv46p15017stkscsq9jw9h0000gn/T/tmpf8716_rj/MNIST/raw/train-images-idx3-ubyte.gz to /var/folders/mf/cfzv46p15017stkscsq9jw9h0000gn/T/tmpf8716_rj/MNIST/raw\n",
      "\u001b[36m(RayTrainWorker pid=54566)\u001b[0m \n",
      "\u001b[36m(RayTrainWorker pid=54617)\u001b[0m \n",
      "\u001b[36m(RayTrainWorker pid=54566)\u001b[0m \n"
     ]
    },
    {
     "name": "stderr",
     "output_type": "stream",
     "text": [
      " 92%|█████████▏| 9.14M/9.91M [00:01<00:00, 9.38MB/s]\n",
      "100%|██████████| 9.91M/9.91M [00:01<00:00, 6.95MB/s]\n"
     ]
    },
    {
     "name": "stdout",
     "output_type": "stream",
     "text": [
      "\u001b[36m(RayTrainWorker pid=54571)\u001b[0m \n"
     ]
    },
    {
     "name": "stderr",
     "output_type": "stream",
     "text": [
      "\u001b[36m(RayTrainWorker pid=54161)\u001b[0m Checkpoint successfully created at: Checkpoint(filesystem=local, path=/Users/sidharrthnagappan/ray_results/TorchTrainer_2024-12-24_17-34-19/TorchTrainer_4f4b8_00018_18_batch_size=128,dropout=0.1643,layer_1_size=32,layer_2_size=64,layer_3_size=256,learning_rate=0.0030_2024-12-24_17-34-21/checkpoint_000000)\n",
      "100%|██████████| 28.9k/28.9k [00:00<00:00, 345kB/s]\n"
     ]
    },
    {
     "name": "stdout",
     "output_type": "stream",
     "text": [
      "\u001b[36m(RayTrainWorker pid=54566)\u001b[0m \n",
      "\u001b[36m(RayTrainWorker pid=54571)\u001b[0m \n"
     ]
    },
    {
     "name": "stderr",
     "output_type": "stream",
     "text": [
      "\u001b[36m(RayTrainWorker pid=53988)\u001b[0m /Users/sidharrthnagappan/.pyenv/versions/3.11.0/lib/python3.11/multiprocessing/resource_tracker.py:224: UserWarning: resource_tracker: There appear to be 55 leaked semaphore objects to clean up at shutdown\n",
      "\u001b[36m(RayTrainWorker pid=53988)\u001b[0m   warnings.warn('resource_tracker: There appear to be %d '\n"
     ]
    },
    {
     "name": "stdout",
     "output_type": "stream",
     "text": [
      "\u001b[36m(RayTrainWorker pid=54566)\u001b[0m \n",
      "\u001b[36m(RayTrainWorker pid=54617)\u001b[0m \n",
      "\u001b[36m(RayTrainWorker pid=54571)\u001b[0m \n"
     ]
    },
    {
     "name": "stderr",
     "output_type": "stream",
     "text": [
      "\u001b[36m(TorchTrainer pid=54525)\u001b[0m Started distributed worker processes: \u001b[32m [repeated 2x across cluster]\u001b[0m\n",
      "\u001b[36m(TorchTrainer pid=54525)\u001b[0m - (node_id=7cc2334a334327f410131b140fb9ad2ae54820f537299598f92261b4, ip=127.0.0.1, pid=54617) world_rank=0, local_rank=0, node_rank=0\u001b[32m [repeated 2x across cluster]\u001b[0m\n",
      "\u001b[36m(RayTrainWorker pid=54617)\u001b[0m Setting up process group for: env:// [rank=0, world_size=1]\u001b[32m [repeated 2x across cluster]\u001b[0m\n",
      "100%|██████████| 28.9k/28.9k [00:00<00:00, 338kB/s]\n"
     ]
    },
    {
     "name": "stdout",
     "output_type": "stream",
     "text": [
      "\u001b[36m(RayTrainWorker pid=54617)\u001b[0m \n",
      "\u001b[36m(RayTrainWorker pid=54571)\u001b[0m \n",
      "\u001b[36m(RayTrainWorker pid=54617)\u001b[0m printing config {'layer_1_size': 32, 'layer_2_size': 64, 'layer_3_size': 256, 'dropout': 0.20123555802351, 'batch_size': 32, 'learning_rate': 0.00037028326952746643}\u001b[32m [repeated 2x across cluster]\u001b[0m\n",
      "\u001b[36m(RayTrainWorker pid=54571)\u001b[0m Downloading https://ossci-datasets.s3.amazonaws.com/mnist/t10k-images-idx3-ubyte.gz\u001b[32m [repeated 15x across cluster]\u001b[0m\n",
      "\u001b[36m(RayTrainWorker pid=54566)\u001b[0m \n"
     ]
    },
    {
     "name": "stderr",
     "output_type": "stream",
     "text": [
      "\u001b[36m(RayTrainWorker pid=54617)\u001b[0m GPU available: True (mps), used: False\u001b[32m [repeated 2x across cluster]\u001b[0m\n",
      "\u001b[36m(RayTrainWorker pid=54617)\u001b[0m TPU available: False, using: 0 TPU cores\u001b[32m [repeated 2x across cluster]\u001b[0m\n",
      "\u001b[36m(RayTrainWorker pid=54617)\u001b[0m HPU available: False, using: 0 HPUs\u001b[32m [repeated 2x across cluster]\u001b[0m\n",
      "\u001b[36m(RayTrainWorker pid=54617)\u001b[0m /Users/sidharrthnagappan/.virtualenvs/lsdp_miniproject/lib/python3.11/site-packages/pytorch_lightning/trainer/setup.py:177: GPU available but not used. You can set it by doing `Trainer(accelerator='gpu')`.\u001b[32m [repeated 2x across cluster]\u001b[0m\n",
      "\u001b[36m(RayTrainWorker pid=54617)\u001b[0m /Users/sidharrthnagappan/.virtualenvs/lsdp_miniproject/lib/python3.11/site-packages/pytorch_lightning/loops/utilities.py:73: `max_epochs` was not set. Setting it to 1000 epochs. To train without an epoch limit, set `max_epochs=-1`.\u001b[32m [repeated 2x across cluster]\u001b[0m\n",
      "100%|██████████| 28.9k/28.9k [00:00<00:00, 343kB/s]\n"
     ]
    },
    {
     "name": "stdout",
     "output_type": "stream",
     "text": [
      "\u001b[36m(RayTrainWorker pid=54617)\u001b[0m \n",
      "\u001b[36m(RayTrainWorker pid=54566)\u001b[0m \n",
      "\u001b[36m(RayTrainWorker pid=54566)\u001b[0m Failed to download (trying next):\u001b[32m [repeated 8x across cluster]\u001b[0m\n",
      "\u001b[36m(RayTrainWorker pid=54566)\u001b[0m HTTP Error 403: Forbidden\u001b[32m [repeated 8x across cluster]\u001b[0m\n",
      "\u001b[36m(RayTrainWorker pid=54571)\u001b[0m \n",
      "\u001b[36m(RayTrainWorker pid=54617)\u001b[0m \n",
      "\u001b[36m(RayTrainWorker pid=54566)\u001b[0m Downloading https://ossci-datasets.s3.amazonaws.com/mnist/t10k-labels-idx1-ubyte.gz to /var/folders/mf/cfzv46p15017stkscsq9jw9h0000gn/T/tmpf8716_rj/MNIST/raw/t10k-labels-idx1-ubyte.gz\u001b[32m [repeated 8x across cluster]\u001b[0m\n",
      "\u001b[36m(RayTrainWorker pid=54566)\u001b[0m \n",
      "\u001b[36m(RayTrainWorker pid=54571)\u001b[0m \n"
     ]
    },
    {
     "name": "stderr",
     "output_type": "stream",
     "text": [
      "\u001b[36m(RayTrainWorker pid=54566)\u001b[0m \n",
      "\u001b[36m(RayTrainWorker pid=54566)\u001b[0m   | Name     | Type               | Params | Mode \n",
      "\u001b[36m(RayTrainWorker pid=54566)\u001b[0m --------------------------------------------------------\n",
      "\u001b[36m(RayTrainWorker pid=54566)\u001b[0m 0 | accuracy | MulticlassAccuracy | 0      | train\n",
      "\u001b[36m(RayTrainWorker pid=54566)\u001b[0m 1 | layer1   | Linear             | 25.1 K | train\n",
      "\u001b[36m(RayTrainWorker pid=54566)\u001b[0m 2 | layer2   | Linear             | 8.4 K  | train\n",
      "\u001b[36m(RayTrainWorker pid=54566)\u001b[0m 3 | layer3   | Linear             | 65.8 K | train\n",
      "\u001b[36m(RayTrainWorker pid=54566)\u001b[0m 4 | layer4   | Linear             | 2.6 K  | train\n",
      "\u001b[36m(RayTrainWorker pid=54566)\u001b[0m 5 | dropout  | Dropout            | 0      | train\n",
      "\u001b[36m(RayTrainWorker pid=54566)\u001b[0m --------------------------------------------------------\n",
      "\u001b[36m(RayTrainWorker pid=54566)\u001b[0m 101 K     Trainable params\n",
      "\u001b[36m(RayTrainWorker pid=54566)\u001b[0m 0         Non-trainable params\n",
      "\u001b[36m(RayTrainWorker pid=54566)\u001b[0m 101 K     Total params\n",
      "\u001b[36m(RayTrainWorker pid=54566)\u001b[0m 0.408     Total estimated model params size (MB)\n",
      "\u001b[36m(RayTrainWorker pid=54566)\u001b[0m 6         Modules in train mode\n",
      "\u001b[36m(RayTrainWorker pid=54566)\u001b[0m 0         Modules in eval mode\n",
      "\u001b[36m(RayTrainWorker pid=54566)\u001b[0m /Users/sidharrthnagappan/.virtualenvs/lsdp_miniproject/lib/python3.11/site-packages/pytorch_lightning/trainer/connectors/data_connector.py:420: Consider setting `persistent_workers=True` in 'val_dataloader' to speed up the dataloader worker initialization.\n",
      "100%|██████████| 4.54k/4.54k [00:00<00:00, 3.22MB/s]\u001b[32m [repeated 8x across cluster]\u001b[0m\n",
      "\u001b[36m(RayTrainWorker pid=54161)\u001b[0m Checkpoint successfully created at: Checkpoint(filesystem=local, path=/Users/sidharrthnagappan/ray_results/TorchTrainer_2024-12-24_17-34-19/TorchTrainer_4f4b8_00018_18_batch_size=128,dropout=0.1643,layer_1_size=32,layer_2_size=64,layer_3_size=256,learning_rate=0.0030_2024-12-24_17-34-21/checkpoint_000001)\n",
      "100%|██████████| 1.65M/1.65M [00:00<00:00, 3.38MB/s]\u001b[32m [repeated 24x across cluster]\u001b[0m\n"
     ]
    },
    {
     "name": "stdout",
     "output_type": "stream",
     "text": [
      "\u001b[36m(RayTrainWorker pid=54711)\u001b[0m \n"
     ]
    },
    {
     "name": "stderr",
     "output_type": "stream",
     "text": [
      "\u001b[36m(RayTrainWorker pid=54161)\u001b[0m Traceback (most recent call last):\n",
      "\u001b[36m(RayTrainWorker pid=54161)\u001b[0m   File \"<string>\", line 1, in <module>\n",
      "\u001b[36m(RayTrainWorker pid=54161)\u001b[0m   File \"/Users/sidharrthnagappan/.pyenv/versions/3.11.0/lib/python3.11/multiprocessing/spawn.py\", line 120, in spawn_main\n",
      "\u001b[36m(RayTrainWorker pid=54161)\u001b[0m     exitcode = _main(fd, parent_sentinel)\n",
      "\u001b[36m(RayTrainWorker pid=54161)\u001b[0m                ^^^^^^^^^^^^^^^^^^^^^^^^^^\n",
      "\u001b[36m(RayTrainWorker pid=54161)\u001b[0m   File \"/Users/sidharrthnagappan/.pyenv/versions/3.11.0/lib/python3.11/multiprocessing/spawn.py\", line 130, in _main\n",
      "\u001b[36m(RayTrainWorker pid=54161)\u001b[0m     self = reduction.pickle.load(from_parent)\n",
      "\u001b[36m(RayTrainWorker pid=54161)\u001b[0m            ^^^^^^^^^^^^^^^^^^^^^^^^^^^^^^^^^^\n",
      "\u001b[36m(RayTrainWorker pid=54161)\u001b[0m _pickle.UnpicklingError: pickle data was truncated\n",
      "100%|██████████| 1.65M/1.65M [00:00<00:00, 3.76MB/s]\n"
     ]
    },
    {
     "name": "stdout",
     "output_type": "stream",
     "text": [
      "\u001b[36m(RayTrainWorker pid=54571)\u001b[0m \n",
      "\u001b[36m(RayTrainWorker pid=54617)\u001b[0m \n"
     ]
    },
    {
     "name": "stderr",
     "output_type": "stream",
     "text": [
      "\u001b[36m(RayTrainWorker pid=54571)\u001b[0m \n"
     ]
    },
    {
     "name": "stdout",
     "output_type": "stream",
     "text": [
      "\u001b[36m(RayTrainWorker pid=54617)\u001b[0m \n",
      "\u001b[36m(RayTrainWorker pid=54617)\u001b[0m Extracting /var/folders/mf/cfzv46p15017stkscsq9jw9h0000gn/T/tmpe8qn2ir6/MNIST/raw/t10k-images-idx3-ubyte.gz to /var/folders/mf/cfzv46p15017stkscsq9jw9h0000gn/T/tmpe8qn2ir6/MNIST/raw\u001b[32m [repeated 10x across cluster]\u001b[0m\n"
     ]
    },
    {
     "name": "stderr",
     "output_type": "stream",
     "text": [
      " 14%|█▍        | 1.41M/9.91M [00:00<00:02, 4.18MB/s]\n",
      "\u001b[36m(RayTrainWorker pid=54617)\u001b[0m \n"
     ]
    },
    {
     "name": "stdout",
     "output_type": "stream",
     "text": [
      "\u001b[36m(RayTrainWorker pid=54617)\u001b[0m \n"
     ]
    },
    {
     "name": "stderr",
     "output_type": "stream",
     "text": [
      "100%|██████████| 9.91M/9.91M [00:01<00:00, 9.31MB/s]\n",
      "\u001b[36m(RayTrainWorker pid=54566)\u001b[0m /Users/sidharrthnagappan/.virtualenvs/lsdp_miniproject/lib/python3.11/site-packages/pytorch_lightning/trainer/connectors/data_connector.py:420: Consider setting `persistent_workers=True` in 'train_dataloader' to speed up the dataloader worker initialization.\n"
     ]
    },
    {
     "name": "stdout",
     "output_type": "stream",
     "text": [
      "\u001b[36m(RayTrainWorker pid=54711)\u001b[0m \n",
      "\u001b[36m(RayTrainWorker pid=54711)\u001b[0m \n"
     ]
    },
    {
     "name": "stderr",
     "output_type": "stream",
     "text": [
      "\u001b[36m(TorchTrainer pid=54647)\u001b[0m Started distributed worker processes: \n",
      "\u001b[36m(TorchTrainer pid=54647)\u001b[0m - (node_id=7cc2334a334327f410131b140fb9ad2ae54820f537299598f92261b4, ip=127.0.0.1, pid=54711) world_rank=0, local_rank=0, node_rank=0\n",
      "\u001b[36m(RayTrainWorker pid=54711)\u001b[0m Setting up process group for: env:// [rank=0, world_size=1]\n",
      "100%|██████████| 28.9k/28.9k [00:00<00:00, 298kB/s]\n"
     ]
    },
    {
     "name": "stdout",
     "output_type": "stream",
     "text": [
      "\u001b[36m(RayTrainWorker pid=54711)\u001b[0m \n",
      "\u001b[36m(RayTrainWorker pid=54711)\u001b[0m \n",
      "\u001b[36m(RayTrainWorker pid=54711)\u001b[0m printing config {'layer_1_size': 32, 'layer_2_size': 64, 'layer_3_size': 256, 'dropout': 0.10494902861257592, 'batch_size': 32, 'learning_rate': 0.017061156114948565}\n",
      "\u001b[36m(RayTrainWorker pid=54711)\u001b[0m Downloading https://ossci-datasets.s3.amazonaws.com/mnist/t10k-images-idx3-ubyte.gz\u001b[32m [repeated 14x across cluster]\u001b[0m\n"
     ]
    },
    {
     "name": "stderr",
     "output_type": "stream",
     "text": [
      "\u001b[36m(RayTrainWorker pid=54711)\u001b[0m GPU available: True (mps), used: False\n",
      "\u001b[36m(RayTrainWorker pid=54711)\u001b[0m TPU available: False, using: 0 TPU cores\n",
      "\u001b[36m(RayTrainWorker pid=54711)\u001b[0m HPU available: False, using: 0 HPUs\n",
      "\u001b[36m(RayTrainWorker pid=54711)\u001b[0m /Users/sidharrthnagappan/.virtualenvs/lsdp_miniproject/lib/python3.11/site-packages/pytorch_lightning/trainer/setup.py:177: GPU available but not used. You can set it by doing `Trainer(accelerator='gpu')`.\n",
      "\u001b[36m(RayTrainWorker pid=54711)\u001b[0m /Users/sidharrthnagappan/.virtualenvs/lsdp_miniproject/lib/python3.11/site-packages/pytorch_lightning/loops/utilities.py:73: `max_epochs` was not set. Setting it to 1000 epochs. To train without an epoch limit, set `max_epochs=-1`.\n"
     ]
    },
    {
     "name": "stdout",
     "output_type": "stream",
     "text": [
      "\u001b[36m(RayTrainWorker pid=54711)\u001b[0m \n",
      "\u001b[36m(RayTrainWorker pid=54711)\u001b[0m Failed to download (trying next):\u001b[32m [repeated 6x across cluster]\u001b[0m\n",
      "\u001b[36m(RayTrainWorker pid=54711)\u001b[0m HTTP Error 403: Forbidden\u001b[32m [repeated 6x across cluster]\u001b[0m\n",
      "\u001b[36m(RayTrainWorker pid=54711)\u001b[0m Downloading https://ossci-datasets.s3.amazonaws.com/mnist/t10k-images-idx3-ubyte.gz to /var/folders/mf/cfzv46p15017stkscsq9jw9h0000gn/T/tmpahmuu0ch/MNIST/raw/t10k-images-idx3-ubyte.gz\u001b[32m [repeated 6x across cluster]\u001b[0m\n"
     ]
    },
    {
     "name": "stderr",
     "output_type": "stream",
     "text": [
      "100%|██████████| 1.65M/1.65M [00:00<00:00, 3.77MB/s]\n"
     ]
    },
    {
     "name": "stdout",
     "output_type": "stream",
     "text": [
      "\u001b[36m(RayTrainWorker pid=54711)\u001b[0m \n"
     ]
    },
    {
     "name": "stderr",
     "output_type": "stream",
     "text": [
      "\u001b[36m(RayTrainWorker pid=54161)\u001b[0m /Users/sidharrthnagappan/.pyenv/versions/3.11.0/lib/python3.11/multiprocessing/resource_tracker.py:224: UserWarning: resource_tracker: There appear to be 55 leaked semaphore objects to clean up at shutdown\n",
      "\u001b[36m(RayTrainWorker pid=54161)\u001b[0m   warnings.warn('resource_tracker: There appear to be %d '\n",
      "\u001b[36m(RayTrainWorker pid=54617)\u001b[0m   | Name     | Type               | Params | Mode \u001b[32m [repeated 2x across cluster]\u001b[0m\n",
      "\u001b[36m(RayTrainWorker pid=54617)\u001b[0m --------------------------------------------------------\u001b[32m [repeated 4x across cluster]\u001b[0m\n",
      "\u001b[36m(RayTrainWorker pid=54617)\u001b[0m 0 | accuracy | MulticlassAccuracy | 0      | train\u001b[32m [repeated 2x across cluster]\u001b[0m\n",
      "\u001b[36m(RayTrainWorker pid=54617)\u001b[0m 4 | layer4   | Linear             | 2.6 K  | train\u001b[32m [repeated 8x across cluster]\u001b[0m\n",
      "\u001b[36m(RayTrainWorker pid=54617)\u001b[0m 5 | dropout  | Dropout            | 0      | train\u001b[32m [repeated 2x across cluster]\u001b[0m\n",
      "\u001b[36m(RayTrainWorker pid=54617)\u001b[0m 46.4 K    Trainable params\u001b[32m [repeated 2x across cluster]\u001b[0m\n",
      "\u001b[36m(RayTrainWorker pid=54617)\u001b[0m 0         Non-trainable params\u001b[32m [repeated 2x across cluster]\u001b[0m\n",
      "\u001b[36m(RayTrainWorker pid=54617)\u001b[0m 46.4 K    Total params\u001b[32m [repeated 2x across cluster]\u001b[0m\n",
      "\u001b[36m(RayTrainWorker pid=54617)\u001b[0m 0.186     Total estimated model params size (MB)\u001b[32m [repeated 2x across cluster]\u001b[0m\n",
      "\u001b[36m(RayTrainWorker pid=54617)\u001b[0m 6         Modules in train mode\u001b[32m [repeated 2x across cluster]\u001b[0m\n",
      "\u001b[36m(RayTrainWorker pid=54617)\u001b[0m 0         Modules in eval mode\u001b[32m [repeated 2x across cluster]\u001b[0m\n",
      "\u001b[36m(RayTrainWorker pid=54617)\u001b[0m /Users/sidharrthnagappan/.virtualenvs/lsdp_miniproject/lib/python3.11/site-packages/pytorch_lightning/trainer/connectors/data_connector.py:420: Consider setting `persistent_workers=True` in 'val_dataloader' to speed up the dataloader worker initialization.\u001b[32m [repeated 2x across cluster]\u001b[0m\n",
      "  0%|          | 0.00/1.65M [00:00<?, ?B/s]\u001b[32m [repeated 6x across cluster]\u001b[0m\n",
      " 26%|██▌       | 426k/1.65M [00:00<00:00, 1.39MB/s]\u001b[32m [repeated 9x across cluster]\u001b[0m\n",
      "100%|██████████| 4.54k/4.54k [00:00<00:00, 1.74MB/s]\n"
     ]
    },
    {
     "name": "stdout",
     "output_type": "stream",
     "text": [
      "\u001b[36m(RayTrainWorker pid=54711)\u001b[0m \n"
     ]
    },
    {
     "name": "stderr",
     "output_type": "stream",
     "text": [
      "\u001b[36m(RayTrainWorker pid=54711)\u001b[0m \n",
      "\u001b[36m(RayTrainWorker pid=54711)\u001b[0m /Users/sidharrthnagappan/.virtualenvs/lsdp_miniproject/lib/python3.11/site-packages/pytorch_lightning/trainer/connectors/data_connector.py:420: Consider setting `persistent_workers=True` in 'train_dataloader' to speed up the dataloader worker initialization.\u001b[32m [repeated 3x across cluster]\u001b[0m\n",
      "\u001b[36m(TorchTrainer pid=54781)\u001b[0m Started distributed worker processes: \n",
      "\u001b[36m(TorchTrainer pid=54781)\u001b[0m - (node_id=7cc2334a334327f410131b140fb9ad2ae54820f537299598f92261b4, ip=127.0.0.1, pid=54864) world_rank=0, local_rank=0, node_rank=0\n",
      "\u001b[36m(RayTrainWorker pid=54864)\u001b[0m Setting up process group for: env:// [rank=0, world_size=1]\n"
     ]
    },
    {
     "name": "stdout",
     "output_type": "stream",
     "text": [
      "\u001b[36m(RayTrainWorker pid=54864)\u001b[0m printing config {'layer_1_size': 32, 'layer_2_size': 128, 'layer_3_size': 512, 'dropout': 0.23261068720157155, 'batch_size': 128, 'learning_rate': 0.01129419972728505}\n",
      "\u001b[36m(RayTrainWorker pid=54711)\u001b[0m Extracting /var/folders/mf/cfzv46p15017stkscsq9jw9h0000gn/T/tmpahmuu0ch/MNIST/raw/t10k-labels-idx1-ubyte.gz to /var/folders/mf/cfzv46p15017stkscsq9jw9h0000gn/T/tmpahmuu0ch/MNIST/raw\u001b[32m [repeated 5x across cluster]\u001b[0m\n",
      "\u001b[36m(RayTrainWorker pid=54864)\u001b[0m Downloading http://yann.lecun.com/exdb/mnist/train-images-idx3-ubyte.gz\u001b[32m [repeated 3x across cluster]\u001b[0m\n",
      "\u001b[36m(RayTrainWorker pid=54711)\u001b[0m Failed to download (trying next):\n",
      "\u001b[36m(RayTrainWorker pid=54711)\u001b[0m HTTP Error 403: Forbidden\n",
      "\u001b[36m(RayTrainWorker pid=54711)\u001b[0m Downloading https://ossci-datasets.s3.amazonaws.com/mnist/t10k-labels-idx1-ubyte.gz to /var/folders/mf/cfzv46p15017stkscsq9jw9h0000gn/T/tmpahmuu0ch/MNIST/raw/t10k-labels-idx1-ubyte.gz\n"
     ]
    },
    {
     "name": "stderr",
     "output_type": "stream",
     "text": [
      "\u001b[36m(RayTrainWorker pid=54864)\u001b[0m GPU available: True (mps), used: False\n",
      "\u001b[36m(RayTrainWorker pid=54864)\u001b[0m TPU available: False, using: 0 TPU cores\n",
      "\u001b[36m(RayTrainWorker pid=54864)\u001b[0m HPU available: False, using: 0 HPUs\n",
      "\u001b[36m(RayTrainWorker pid=54864)\u001b[0m /Users/sidharrthnagappan/.virtualenvs/lsdp_miniproject/lib/python3.11/site-packages/pytorch_lightning/trainer/setup.py:177: GPU available but not used. You can set it by doing `Trainer(accelerator='gpu')`.\n",
      "\u001b[36m(RayTrainWorker pid=54864)\u001b[0m /Users/sidharrthnagappan/.virtualenvs/lsdp_miniproject/lib/python3.11/site-packages/pytorch_lightning/loops/utilities.py:73: `max_epochs` was not set. Setting it to 1000 epochs. To train without an epoch limit, set `max_epochs=-1`.\n"
     ]
    },
    {
     "name": "stdout",
     "output_type": "stream",
     "text": [
      "\u001b[36m(RayTrainWorker pid=54864)\u001b[0m Failed to download (trying next):\n",
      "\u001b[36m(RayTrainWorker pid=54864)\u001b[0m HTTP Error 403: Forbidden\n",
      "\u001b[36m(RayTrainWorker pid=54864)\u001b[0m \n",
      "\u001b[36m(RayTrainWorker pid=54864)\u001b[0m Downloading https://ossci-datasets.s3.amazonaws.com/mnist/train-images-idx3-ubyte.gz to /var/folders/mf/cfzv46p15017stkscsq9jw9h0000gn/T/tmpj31g1h3j/MNIST/raw/train-images-idx3-ubyte.gz\n"
     ]
    },
    {
     "name": "stderr",
     "output_type": "stream",
     "text": [
      "\u001b[36m(RayTrainWorker pid=54711)\u001b[0m   | Name     | Type               | Params | Mode \n",
      "\u001b[36m(RayTrainWorker pid=54711)\u001b[0m --------------------------------------------------------\u001b[32m [repeated 2x across cluster]\u001b[0m\n",
      "\u001b[36m(RayTrainWorker pid=54711)\u001b[0m 0 | accuracy | MulticlassAccuracy | 0      | train\n",
      "\u001b[36m(RayTrainWorker pid=54711)\u001b[0m 4 | layer4   | Linear             | 2.6 K  | train\u001b[32m [repeated 4x across cluster]\u001b[0m\n",
      "\u001b[36m(RayTrainWorker pid=54711)\u001b[0m 5 | dropout  | Dropout            | 0      | train\n",
      "\u001b[36m(RayTrainWorker pid=54711)\u001b[0m 46.4 K    Trainable params\n",
      "\u001b[36m(RayTrainWorker pid=54711)\u001b[0m 0         Non-trainable params\n",
      "\u001b[36m(RayTrainWorker pid=54711)\u001b[0m 46.4 K    Total params\n",
      "\u001b[36m(RayTrainWorker pid=54711)\u001b[0m 0.186     Total estimated model params size (MB)\n",
      "\u001b[36m(RayTrainWorker pid=54711)\u001b[0m 6         Modules in train mode\n",
      "\u001b[36m(RayTrainWorker pid=54711)\u001b[0m 0         Modules in eval mode\n",
      "\u001b[36m(RayTrainWorker pid=54711)\u001b[0m /Users/sidharrthnagappan/.virtualenvs/lsdp_miniproject/lib/python3.11/site-packages/pytorch_lightning/trainer/connectors/data_connector.py:420: Consider setting `persistent_workers=True` in 'val_dataloader' to speed up the dataloader worker initialization.\n",
      "  0%|          | 0.00/9.91M [00:00<?, ?B/s]\u001b[32m [repeated 2x across cluster]\u001b[0m\n",
      "  1%|          | 98.3k/9.91M [00:00<00:17, 576kB/s]\n",
      "  4%|▍         | 393k/9.91M [00:00<00:07, 1.25MB/s]\n",
      " 13%|█▎        | 1.31M/9.91M [00:00<00:02, 3.85MB/s]\n",
      " 29%|██▉       | 2.92M/9.91M [00:00<00:01, 5.83MB/s]\n",
      " 69%|██████▉   | 6.88M/9.91M [00:00<00:00, 12.2MB/s]\n",
      " 82%|████████▏ | 8.09M/9.91M [00:00<00:00, 11.8MB/s]\n",
      "100%|██████████| 9.91M/9.91M [00:01<00:00, 9.81MB/s]\n"
     ]
    },
    {
     "name": "stdout",
     "output_type": "stream",
     "text": [
      "\u001b[36m(RayTrainWorker pid=54864)\u001b[0m \n",
      "\u001b[36m(RayTrainWorker pid=54864)\u001b[0m Failed to download (trying next):\n",
      "\u001b[36m(RayTrainWorker pid=54864)\u001b[0m HTTP Error 403: Forbidden\n",
      "\u001b[36m(RayTrainWorker pid=54864)\u001b[0m \n",
      "\u001b[36m(RayTrainWorker pid=54864)\u001b[0m Downloading https://ossci-datasets.s3.amazonaws.com/mnist/train-labels-idx1-ubyte.gz to /var/folders/mf/cfzv46p15017stkscsq9jw9h0000gn/T/tmpj31g1h3j/MNIST/raw/train-labels-idx1-ubyte.gz\n",
      "\u001b[36m(RayTrainWorker pid=54864)\u001b[0m \n"
     ]
    },
    {
     "name": "stderr",
     "output_type": "stream",
     "text": [
      "100%|██████████| 28.9k/28.9k [00:00<00:00, 349kB/s]\n",
      "\u001b[36m(RayTrainWorker pid=54571)\u001b[0m Checkpoint successfully created at: Checkpoint(filesystem=local, path=/Users/sidharrthnagappan/ray_results/TorchTrainer_2024-12-24_17-34-19/TorchTrainer_4f4b8_00020_20_batch_size=64,dropout=0.1971,layer_1_size=128,layer_2_size=64,layer_3_size=512,learning_rate=0.0003_2024-12-24_17-34-21/checkpoint_000000)\n"
     ]
    },
    {
     "name": "stdout",
     "output_type": "stream",
     "text": [
      "\u001b[36m(RayTrainWorker pid=54864)\u001b[0m Failed to download (trying next):\n",
      "\u001b[36m(RayTrainWorker pid=54864)\u001b[0m HTTP Error 403: Forbidden\n",
      "\u001b[36m(RayTrainWorker pid=54864)\u001b[0m \n",
      "\u001b[36m(RayTrainWorker pid=54864)\u001b[0m Downloading https://ossci-datasets.s3.amazonaws.com/mnist/t10k-images-idx3-ubyte.gz to /var/folders/mf/cfzv46p15017stkscsq9jw9h0000gn/T/tmpj31g1h3j/MNIST/raw/t10k-images-idx3-ubyte.gz\n"
     ]
    },
    {
     "name": "stderr",
     "output_type": "stream",
     "text": [
      "  6%|▌         | 98.3k/1.65M [00:00<00:02, 580kB/s]\n",
      " 26%|██▌       | 426k/1.65M [00:00<00:00, 1.37MB/s]\n",
      " 91%|█████████▏| 1.51M/1.65M [00:00<00:00, 4.50MB/s]\n",
      "100%|██████████| 1.65M/1.65M [00:00<00:00, 3.21MB/s]\n"
     ]
    },
    {
     "name": "stdout",
     "output_type": "stream",
     "text": [
      "\u001b[36m(RayTrainWorker pid=54864)\u001b[0m Extracting /var/folders/mf/cfzv46p15017stkscsq9jw9h0000gn/T/tmpj31g1h3j/MNIST/raw/t10k-images-idx3-ubyte.gz to /var/folders/mf/cfzv46p15017stkscsq9jw9h0000gn/T/tmpj31g1h3j/MNIST/raw\u001b[32m [repeated 3x across cluster]\u001b[0m\n",
      "\u001b[36m(RayTrainWorker pid=54864)\u001b[0m Downloading https://ossci-datasets.s3.amazonaws.com/mnist/t10k-images-idx3-ubyte.gz\u001b[32m [repeated 5x across cluster]\u001b[0m\n",
      "\u001b[36m(RayTrainWorker pid=54864)\u001b[0m \n",
      "\u001b[36m(RayTrainWorker pid=54864)\u001b[0m Failed to download (trying next):\n",
      "\u001b[36m(RayTrainWorker pid=54864)\u001b[0m HTTP Error 403: Forbidden\n",
      "\u001b[36m(RayTrainWorker pid=54864)\u001b[0m \n",
      "\u001b[36m(RayTrainWorker pid=54864)\u001b[0m Downloading https://ossci-datasets.s3.amazonaws.com/mnist/t10k-labels-idx1-ubyte.gz to /var/folders/mf/cfzv46p15017stkscsq9jw9h0000gn/T/tmpj31g1h3j/MNIST/raw/t10k-labels-idx1-ubyte.gz\n",
      "\u001b[36m(RayTrainWorker pid=54864)\u001b[0m \n"
     ]
    },
    {
     "name": "stderr",
     "output_type": "stream",
     "text": [
      "\u001b[36m(RayTrainWorker pid=54864)\u001b[0m \n",
      "\u001b[36m(RayTrainWorker pid=54864)\u001b[0m   | Name     | Type               | Params | Mode \n",
      "\u001b[36m(RayTrainWorker pid=54864)\u001b[0m 0 | accuracy | MulticlassAccuracy | 0      | train\n",
      "\u001b[36m(RayTrainWorker pid=54864)\u001b[0m 5 | dropout  | Dropout            | 0      | train\n",
      "\u001b[36m(RayTrainWorker pid=54864)\u001b[0m 100 K     Trainable params\n",
      "\u001b[36m(RayTrainWorker pid=54864)\u001b[0m 0         Non-trainable params\n",
      "\u001b[36m(RayTrainWorker pid=54864)\u001b[0m 100 K     Total params\n",
      "\u001b[36m(RayTrainWorker pid=54864)\u001b[0m 0.402     Total estimated model params size (MB)\n",
      "\u001b[36m(RayTrainWorker pid=54864)\u001b[0m 6         Modules in train mode\n",
      "\u001b[36m(RayTrainWorker pid=54864)\u001b[0m 0         Modules in eval mode\n",
      "\u001b[36m(RayTrainWorker pid=54864)\u001b[0m /Users/sidharrthnagappan/.virtualenvs/lsdp_miniproject/lib/python3.11/site-packages/pytorch_lightning/trainer/connectors/data_connector.py:420: Consider setting `persistent_workers=True` in 'val_dataloader' to speed up the dataloader worker initialization.\n",
      "\u001b[36m(RayTrainWorker pid=54864)\u001b[0m --------------------------------------------------------\u001b[32m [repeated 2x across cluster]\u001b[0m\n",
      "\u001b[36m(RayTrainWorker pid=54864)\u001b[0m 4 | layer4   | Linear             | 5.1 K  | train\u001b[32m [repeated 4x across cluster]\u001b[0m\n",
      "100%|██████████| 4.54k/4.54k [00:00<00:00, 2.29MB/s]\u001b[32m [repeated 3x across cluster]\u001b[0m\n",
      "\u001b[36m(RayTrainWorker pid=54566)\u001b[0m Checkpoint successfully created at: Checkpoint(filesystem=local, path=/Users/sidharrthnagappan/ray_results/TorchTrainer_2024-12-24_17-34-19/TorchTrainer_4f4b8_00019_19_batch_size=32,dropout=0.1424,layer_1_size=32,layer_2_size=256,layer_3_size=256,learning_rate=0.0566_2024-12-24_17-34-21/checkpoint_000000)\n",
      "\u001b[36m(RayTrainWorker pid=54566)\u001b[0m Traceback (most recent call last):\n",
      "\u001b[36m(RayTrainWorker pid=54566)\u001b[0m   File \"<string>\", line 1, in <module>\n",
      "\u001b[36m(RayTrainWorker pid=54566)\u001b[0m   File \"/Users/sidharrthnagappan/.pyenv/versions/3.11.0/lib/python3.11/multiprocessing/spawn.py\", line 120, in spawn_main\n",
      "\u001b[36m(RayTrainWorker pid=54566)\u001b[0m     exitcode = _main(fd, parent_sentinel)\n",
      "\u001b[36m(RayTrainWorker pid=54566)\u001b[0m                ^^^^^^^^^^^^^^^^^^^^^^^^^^\n",
      "\u001b[36m(RayTrainWorker pid=54566)\u001b[0m   File \"/Users/sidharrthnagappan/.pyenv/versions/3.11.0/lib/python3.11/multiprocessing/spawn.py\", line 130, in _main\n",
      "\u001b[36m(RayTrainWorker pid=54566)\u001b[0m     self = reduction.pickle.load(from_parent)\n",
      "\u001b[36m(RayTrainWorker pid=54566)\u001b[0m            ^^^^^^^^^^^^^^^^^^^^^^^^^^^^^^^^^^\n",
      "\u001b[36m(RayTrainWorker pid=54566)\u001b[0m _pickle.UnpicklingError: pickle data was truncated\n",
      "\u001b[36m(RayTrainWorker pid=54864)\u001b[0m /Users/sidharrthnagappan/.virtualenvs/lsdp_miniproject/lib/python3.11/site-packages/pytorch_lightning/trainer/connectors/data_connector.py:420: Consider setting `persistent_workers=True` in 'train_dataloader' to speed up the dataloader worker initialization.\n",
      "\u001b[36m(RayTrainWorker pid=54617)\u001b[0m Checkpoint successfully created at: Checkpoint(filesystem=local, path=/Users/sidharrthnagappan/ray_results/TorchTrainer_2024-12-24_17-34-19/TorchTrainer_4f4b8_00021_21_batch_size=32,dropout=0.2012,layer_1_size=32,layer_2_size=64,layer_3_size=256,learning_rate=0.0004_2024-12-24_17-34-21/checkpoint_000000)\n",
      "\u001b[36m(RayTrainWorker pid=54617)\u001b[0m Traceback (most recent call last):\n",
      "\u001b[36m(RayTrainWorker pid=54617)\u001b[0m   File \"<string>\", line 1, in <module>\n",
      "\u001b[36m(RayTrainWorker pid=54617)\u001b[0m   File \"/Users/sidharrthnagappan/.pyenv/versions/3.11.0/lib/python3.11/multiprocessing/spawn.py\", line 120, in spawn_main\n",
      "\u001b[36m(RayTrainWorker pid=54617)\u001b[0m     exitcode = _main(fd, parent_sentinel)\n",
      "\u001b[36m(RayTrainWorker pid=54617)\u001b[0m                ^^^^^^^^^^^^^^^^^^^^^^^^^^\n",
      "\u001b[36m(RayTrainWorker pid=54617)\u001b[0m   File \"/Users/sidharrthnagappan/.pyenv/versions/3.11.0/lib/python3.11/multiprocessing/spawn.py\", line 130, in _main\n",
      "\u001b[36m(RayTrainWorker pid=54617)\u001b[0m     self = reduction.pickle.load(from_parent)\n",
      "\u001b[36m(RayTrainWorker pid=54617)\u001b[0m            ^^^^^^^^^^^^^^^^^^^^^^^^^^^^^^^^^^\n",
      "\u001b[36m(RayTrainWorker pid=54617)\u001b[0m _pickle.UnpicklingError: pickle data was truncated\n",
      "\u001b[36m(RayTrainWorker pid=54711)\u001b[0m Traceback (most recent call last):\n",
      "\u001b[36m(RayTrainWorker pid=54711)\u001b[0m   File \"<string>\", line 1, in <module>\n",
      "\u001b[36m(RayTrainWorker pid=54711)\u001b[0m   File \"/Users/sidharrthnagappan/.pyenv/versions/3.11.0/lib/python3.11/multiprocessing/spawn.py\", line 120, in spawn_main\n",
      "\u001b[36m(RayTrainWorker pid=54711)\u001b[0m     exitcode = _main(fd, parent_sentinel)\n",
      "\u001b[36m(RayTrainWorker pid=54711)\u001b[0m                ^^^^^^^^^^^^^^^^^^^^^^^^^^\n",
      "\u001b[36m(RayTrainWorker pid=54711)\u001b[0m   File \"/Users/sidharrthnagappan/.pyenv/versions/3.11.0/lib/python3.11/multiprocessing/spawn.py\", line 130, in _main\n",
      "\u001b[36m(RayTrainWorker pid=54711)\u001b[0m     self = reduction.pickle.load(from_parent)\n",
      "\u001b[36m(RayTrainWorker pid=54711)\u001b[0m            ^^^^^^^^^^^^^^^^^^^^^^^^^^^^^^^^^^\n",
      "\u001b[36m(RayTrainWorker pid=54711)\u001b[0m _pickle.UnpicklingError: pickle data was truncated\n",
      "\u001b[36m(RayTrainWorker pid=54566)\u001b[0m /Users/sidharrthnagappan/.pyenv/versions/3.11.0/lib/python3.11/multiprocessing/resource_tracker.py:224: UserWarning: resource_tracker: There appear to be 55 leaked semaphore objects to clean up at shutdown\n",
      "\u001b[36m(RayTrainWorker pid=54566)\u001b[0m   warnings.warn('resource_tracker: There appear to be %d '\n",
      "\u001b[36m(RayTrainWorker pid=54711)\u001b[0m Checkpoint successfully created at: Checkpoint(filesystem=local, path=/Users/sidharrthnagappan/ray_results/TorchTrainer_2024-12-24_17-34-19/TorchTrainer_4f4b8_00022_22_batch_size=32,dropout=0.1049,layer_1_size=32,layer_2_size=64,layer_3_size=256,learning_rate=0.0171_2024-12-24_17-34-21/checkpoint_000000)\n",
      "\u001b[36m(RayTrainWorker pid=54571)\u001b[0m Checkpoint successfully created at: Checkpoint(filesystem=local, path=/Users/sidharrthnagappan/ray_results/TorchTrainer_2024-12-24_17-34-19/TorchTrainer_4f4b8_00020_20_batch_size=64,dropout=0.1971,layer_1_size=128,layer_2_size=64,layer_3_size=512,learning_rate=0.0003_2024-12-24_17-34-21/checkpoint_000001)\n",
      "\u001b[36m(TorchTrainer pid=55095)\u001b[0m Started distributed worker processes: \n",
      "\u001b[36m(TorchTrainer pid=55095)\u001b[0m - (node_id=7cc2334a334327f410131b140fb9ad2ae54820f537299598f92261b4, ip=127.0.0.1, pid=55197) world_rank=0, local_rank=0, node_rank=0\n",
      "\u001b[36m(RayTrainWorker pid=55197)\u001b[0m Setting up process group for: env:// [rank=0, world_size=1]\n",
      "\u001b[36m(RayTrainWorker pid=54711)\u001b[0m /Users/sidharrthnagappan/.pyenv/versions/3.11.0/lib/python3.11/multiprocessing/resource_tracker.py:224: UserWarning: resource_tracker: There appear to be 55 leaked semaphore objects to clean up at shutdown\u001b[32m [repeated 2x across cluster]\u001b[0m\n",
      "\u001b[36m(RayTrainWorker pid=54711)\u001b[0m   warnings.warn('resource_tracker: There appear to be %d '\u001b[32m [repeated 2x across cluster]\u001b[0m\n"
     ]
    },
    {
     "name": "stdout",
     "output_type": "stream",
     "text": [
      "\u001b[36m(RayTrainWorker pid=55197)\u001b[0m printing config {'layer_1_size': 128, 'layer_2_size': 256, 'layer_3_size': 512, 'dropout': 0.17949978964635208, 'batch_size': 64, 'learning_rate': 0.03878742860492825}\n",
      "\u001b[36m(RayTrainWorker pid=54864)\u001b[0m Extracting /var/folders/mf/cfzv46p15017stkscsq9jw9h0000gn/T/tmpj31g1h3j/MNIST/raw/t10k-labels-idx1-ubyte.gz to /var/folders/mf/cfzv46p15017stkscsq9jw9h0000gn/T/tmpj31g1h3j/MNIST/raw\n",
      "\u001b[36m(RayTrainWorker pid=54864)\u001b[0m Downloading https://ossci-datasets.s3.amazonaws.com/mnist/t10k-labels-idx1-ubyte.gz\u001b[32m [repeated 2x across cluster]\u001b[0m\n"
     ]
    },
    {
     "name": "stderr",
     "output_type": "stream",
     "text": [
      "\u001b[36m(RayTrainWorker pid=55197)\u001b[0m GPU available: True (mps), used: False\n",
      "\u001b[36m(RayTrainWorker pid=55197)\u001b[0m TPU available: False, using: 0 TPU cores\n",
      "\u001b[36m(RayTrainWorker pid=55197)\u001b[0m HPU available: False, using: 0 HPUs\n",
      "\u001b[36m(RayTrainWorker pid=55197)\u001b[0m /Users/sidharrthnagappan/.virtualenvs/lsdp_miniproject/lib/python3.11/site-packages/pytorch_lightning/trainer/setup.py:177: GPU available but not used. You can set it by doing `Trainer(accelerator='gpu')`.\n",
      "\u001b[36m(RayTrainWorker pid=55197)\u001b[0m /Users/sidharrthnagappan/.virtualenvs/lsdp_miniproject/lib/python3.11/site-packages/pytorch_lightning/loops/utilities.py:73: `max_epochs` was not set. Setting it to 1000 epochs. To train without an epoch limit, set `max_epochs=-1`.\n",
      "\u001b[36m(RayTrainWorker pid=54864)\u001b[0m Traceback (most recent call last):\n",
      "\u001b[36m(RayTrainWorker pid=54864)\u001b[0m   File \"<string>\", line 1, in <module>\n",
      "\u001b[36m(RayTrainWorker pid=54864)\u001b[0m   File \"/Users/sidharrthnagappan/.pyenv/versions/3.11.0/lib/python3.11/multiprocessing/spawn.py\", line 120, in spawn_main\n",
      "\u001b[36m(RayTrainWorker pid=54864)\u001b[0m     exitcode = _main(fd, parent_sentinel)\n",
      "\u001b[36m(RayTrainWorker pid=54864)\u001b[0m                ^^^^^^^^^^^^^^^^^^^^^^^^^^\n",
      "\u001b[36m(RayTrainWorker pid=54864)\u001b[0m   File \"/Users/sidharrthnagappan/.pyenv/versions/3.11.0/lib/python3.11/multiprocessing/spawn.py\", line 130, in _main\n",
      "\u001b[36m(RayTrainWorker pid=54864)\u001b[0m     self = reduction.pickle.load(from_parent)\n",
      "\u001b[36m(RayTrainWorker pid=54864)\u001b[0m            ^^^^^^^^^^^^^^^^^^^^^^^^^^^^^^^^^^\n",
      "\u001b[36m(RayTrainWorker pid=54864)\u001b[0m _pickle.UnpicklingError: pickle data was truncated\n"
     ]
    },
    {
     "name": "stdout",
     "output_type": "stream",
     "text": [
      "\u001b[36m(RayTrainWorker pid=55197)\u001b[0m Failed to download (trying next):\n",
      "\u001b[36m(RayTrainWorker pid=55197)\u001b[0m HTTP Error 403: Forbidden\n",
      "\u001b[36m(RayTrainWorker pid=55197)\u001b[0m \n",
      "\u001b[36m(RayTrainWorker pid=55197)\u001b[0m Downloading https://ossci-datasets.s3.amazonaws.com/mnist/train-images-idx3-ubyte.gz to /var/folders/mf/cfzv46p15017stkscsq9jw9h0000gn/T/tmpsrgbtdsm/MNIST/raw/train-images-idx3-ubyte.gz\n"
     ]
    },
    {
     "name": "stderr",
     "output_type": "stream",
     "text": [
      "  0%|          | 0.00/9.91M [00:00<?, ?B/s]\n",
      "  1%|          | 65.5k/9.91M [00:00<00:24, 395kB/s]\n",
      "  4%|▎         | 360k/9.91M [00:00<00:07, 1.20MB/s]\n",
      " 14%|█▎        | 1.34M/9.91M [00:00<00:02, 4.09MB/s]\n"
     ]
    },
    {
     "name": "stdout",
     "output_type": "stream",
     "text": [
      "\u001b[36m(RayTrainWorker pid=55226)\u001b[0m \n"
     ]
    },
    {
     "name": "stderr",
     "output_type": "stream",
     "text": [
      " 30%|███       | 2.98M/9.91M [00:00<00:00, 8.04MB/s]\n",
      " 40%|███▉      | 3.93M/9.91M [00:00<00:00, 7.21MB/s]\n",
      "100%|██████████| 9.91M/9.91M [00:00<00:00, 11.3MB/s]\n"
     ]
    },
    {
     "name": "stdout",
     "output_type": "stream",
     "text": [
      "\u001b[36m(RayTrainWorker pid=55197)\u001b[0m Extracting /var/folders/mf/cfzv46p15017stkscsq9jw9h0000gn/T/tmpsrgbtdsm/MNIST/raw/train-images-idx3-ubyte.gz to /var/folders/mf/cfzv46p15017stkscsq9jw9h0000gn/T/tmpsrgbtdsm/MNIST/raw\n",
      "\u001b[36m(RayTrainWorker pid=55197)\u001b[0m \n"
     ]
    },
    {
     "name": "stderr",
     "output_type": "stream",
     "text": [
      "\u001b[36m(RayTrainWorker pid=54864)\u001b[0m Checkpoint successfully created at: Checkpoint(filesystem=local, path=/Users/sidharrthnagappan/ray_results/TorchTrainer_2024-12-24_17-34-19/TorchTrainer_4f4b8_00023_23_batch_size=128,dropout=0.2326,layer_1_size=32,layer_2_size=128,layer_3_size=512,learning_rate=0.0113_2024-12-24_17-34-21/checkpoint_000000)\n"
     ]
    },
    {
     "name": "stdout",
     "output_type": "stream",
     "text": [
      "\u001b[36m(RayTrainWorker pid=55197)\u001b[0m \n"
     ]
    },
    {
     "name": "stderr",
     "output_type": "stream",
     "text": [
      "100%|██████████| 9.91M/9.91M [00:00<00:00, 10.8MB/s]\n",
      "\u001b[36m(TorchTrainer pid=55205)\u001b[0m Started distributed worker processes: \u001b[32m [repeated 2x across cluster]\u001b[0m\n",
      "\u001b[36m(TorchTrainer pid=55205)\u001b[0m - (node_id=7cc2334a334327f410131b140fb9ad2ae54820f537299598f92261b4, ip=127.0.0.1, pid=55302) world_rank=0, local_rank=0, node_rank=0\u001b[32m [repeated 2x across cluster]\u001b[0m\n",
      "\u001b[36m(RayTrainWorker pid=55302)\u001b[0m Setting up process group for: env:// [rank=0, world_size=1]\u001b[32m [repeated 2x across cluster]\u001b[0m\n"
     ]
    },
    {
     "name": "stdout",
     "output_type": "stream",
     "text": [
      "\u001b[36m(RayTrainWorker pid=55302)\u001b[0m printing config \n",
      "\u001b[36m(RayTrainWorker pid=55226)\u001b[0m \n",
      "\u001b[36m(RayTrainWorker pid=55302)\u001b[0m {'layer_1_size': 128, 'layer_2_size': 128, 'layer_3_size': 128, 'dropout': 0.25725225591832507, 'batch_size': 32, 'learning_rate': 0.0009903775404096573}\n"
     ]
    },
    {
     "name": "stderr",
     "output_type": "stream",
     "text": [
      "100%|██████████| 28.9k/28.9k [00:00<00:00, 349kB/s]\n"
     ]
    },
    {
     "name": "stdout",
     "output_type": "stream",
     "text": [
      "\u001b[36m(RayTrainWorker pid=55197)\u001b[0m \n",
      "\u001b[36m(RayTrainWorker pid=55226)\u001b[0m \n",
      "\u001b[36m(RayTrainWorker pid=55302)\u001b[0m \n",
      "\u001b[36m(RayTrainWorker pid=55197)\u001b[0m \n",
      "\u001b[36m(RayTrainWorker pid=55226)\u001b[0m \n"
     ]
    },
    {
     "name": "stderr",
     "output_type": "stream",
     "text": [
      "100%|██████████| 28.9k/28.9k [00:00<00:00, 343kB/s]\n",
      " 91%|█████████▏| 1.51M/1.65M [00:00<00:00, 4.03MB/s]\n",
      "100%|██████████| 1.65M/1.65M [00:00<00:00, 3.21MB/s]\n",
      "\u001b[36m(RayTrainWorker pid=55302)\u001b[0m GPU available: True (mps), used: False\u001b[32m [repeated 2x across cluster]\u001b[0m\n",
      "\u001b[36m(RayTrainWorker pid=55302)\u001b[0m TPU available: False, using: 0 TPU cores\u001b[32m [repeated 2x across cluster]\u001b[0m\n",
      "\u001b[36m(RayTrainWorker pid=55302)\u001b[0m HPU available: False, using: 0 HPUs\u001b[32m [repeated 2x across cluster]\u001b[0m\n",
      "\u001b[36m(RayTrainWorker pid=55302)\u001b[0m /Users/sidharrthnagappan/.virtualenvs/lsdp_miniproject/lib/python3.11/site-packages/pytorch_lightning/trainer/setup.py:177: GPU available but not used. You can set it by doing `Trainer(accelerator='gpu')`.\u001b[32m [repeated 2x across cluster]\u001b[0m\n",
      "\u001b[36m(RayTrainWorker pid=55302)\u001b[0m /Users/sidharrthnagappan/.virtualenvs/lsdp_miniproject/lib/python3.11/site-packages/pytorch_lightning/loops/utilities.py:73: `max_epochs` was not set. Setting it to 1000 epochs. To train without an epoch limit, set `max_epochs=-1`.\u001b[32m [repeated 2x across cluster]\u001b[0m\n"
     ]
    },
    {
     "name": "stdout",
     "output_type": "stream",
     "text": [
      "\u001b[36m(RayTrainWorker pid=55226)\u001b[0m \n",
      "\u001b[36m(RayTrainWorker pid=55226)\u001b[0m printing config {'layer_1_size': 32, 'layer_2_size': 128, 'layer_3_size': 128, 'dropout': 0.14285853280267355, 'batch_size': 128, 'learning_rate': 0.015160436906754329}\n",
      "\u001b[36m(RayTrainWorker pid=55226)\u001b[0m Downloading https://ossci-datasets.s3.amazonaws.com/mnist/t10k-images-idx3-ubyte.gz\u001b[32m [repeated 14x across cluster]\u001b[0m\n",
      "\u001b[36m(RayTrainWorker pid=55197)\u001b[0m \n"
     ]
    },
    {
     "name": "stderr",
     "output_type": "stream",
     "text": [
      " 82%|████████▏ | 8.13M/9.91M [00:00<00:00, 13.1MB/s]\n",
      "100%|██████████| 9.91M/9.91M [00:00<00:00, 10.4MB/s]\n"
     ]
    },
    {
     "name": "stdout",
     "output_type": "stream",
     "text": [
      "\u001b[36m(RayTrainWorker pid=55302)\u001b[0m \n"
     ]
    },
    {
     "name": "stderr",
     "output_type": "stream",
     "text": [
      "\u001b[36m(RayTrainWorker pid=54571)\u001b[0m Checkpoint successfully created at: Checkpoint(filesystem=local, path=/Users/sidharrthnagappan/ray_results/TorchTrainer_2024-12-24_17-34-19/TorchTrainer_4f4b8_00020_20_batch_size=64,dropout=0.1971,layer_1_size=128,layer_2_size=64,layer_3_size=512,learning_rate=0.0003_2024-12-24_17-34-21/checkpoint_000002)\n",
      "\u001b[36m(RayTrainWorker pid=54864)\u001b[0m /Users/sidharrthnagappan/.pyenv/versions/3.11.0/lib/python3.11/multiprocessing/resource_tracker.py:224: UserWarning: resource_tracker: There appear to be 55 leaked semaphore objects to clean up at shutdown\n",
      "\u001b[36m(RayTrainWorker pid=54864)\u001b[0m   warnings.warn('resource_tracker: There appear to be %d '\n"
     ]
    },
    {
     "name": "stdout",
     "output_type": "stream",
     "text": [
      "\u001b[36m(RayTrainWorker pid=55197)\u001b[0m \n",
      "\u001b[36m(RayTrainWorker pid=55197)\u001b[0m Failed to download (trying next):\u001b[32m [repeated 7x across cluster]\u001b[0m\n",
      "\u001b[36m(RayTrainWorker pid=55197)\u001b[0m HTTP Error 403: Forbidden\u001b[32m [repeated 7x across cluster]\u001b[0m\n",
      "\u001b[36m(RayTrainWorker pid=55226)\u001b[0m \n",
      "\u001b[36m(RayTrainWorker pid=55197)\u001b[0m Downloading https://ossci-datasets.s3.amazonaws.com/mnist/t10k-labels-idx1-ubyte.gz to /var/folders/mf/cfzv46p15017stkscsq9jw9h0000gn/T/tmpsrgbtdsm/MNIST/raw/t10k-labels-idx1-ubyte.gz\u001b[32m [repeated 7x across cluster]\u001b[0m\n",
      "\u001b[36m(RayTrainWorker pid=55302)\u001b[0m \n"
     ]
    },
    {
     "name": "stderr",
     "output_type": "stream",
     "text": [
      "\u001b[36m(RayTrainWorker pid=55197)\u001b[0m \n",
      "\u001b[36m(RayTrainWorker pid=55197)\u001b[0m   | Name     | Type               | Params | Mode \n",
      "\u001b[36m(RayTrainWorker pid=55197)\u001b[0m --------------------------------------------------------\n",
      "\u001b[36m(RayTrainWorker pid=55197)\u001b[0m 0 | accuracy | MulticlassAccuracy | 0      | train\n",
      "\u001b[36m(RayTrainWorker pid=55197)\u001b[0m 1 | layer1   | Linear             | 100 K  | train\n",
      "\u001b[36m(RayTrainWorker pid=55197)\u001b[0m 2 | layer2   | Linear             | 33.0 K | train\n",
      "\u001b[36m(RayTrainWorker pid=55197)\u001b[0m 3 | layer3   | Linear             | 131 K  | train\n",
      "\u001b[36m(RayTrainWorker pid=55197)\u001b[0m 4 | layer4   | Linear             | 5.1 K  | train\n",
      "\u001b[36m(RayTrainWorker pid=55197)\u001b[0m 5 | dropout  | Dropout            | 0      | train\n",
      "\u001b[36m(RayTrainWorker pid=55197)\u001b[0m --------------------------------------------------------\n",
      "\u001b[36m(RayTrainWorker pid=55197)\u001b[0m 270 K     Trainable params\n",
      "\u001b[36m(RayTrainWorker pid=55197)\u001b[0m 0         Non-trainable params\n",
      "\u001b[36m(RayTrainWorker pid=55197)\u001b[0m 270 K     Total params\n",
      "\u001b[36m(RayTrainWorker pid=55197)\u001b[0m 1.081     Total estimated model params size (MB)\n",
      "\u001b[36m(RayTrainWorker pid=55197)\u001b[0m 6         Modules in train mode\n",
      "\u001b[36m(RayTrainWorker pid=55197)\u001b[0m 0         Modules in eval mode\n",
      "\u001b[36m(RayTrainWorker pid=55197)\u001b[0m /Users/sidharrthnagappan/.virtualenvs/lsdp_miniproject/lib/python3.11/site-packages/pytorch_lightning/trainer/connectors/data_connector.py:420: Consider setting `persistent_workers=True` in 'val_dataloader' to speed up the dataloader worker initialization.\n"
     ]
    },
    {
     "name": "stdout",
     "output_type": "stream",
     "text": [
      "\u001b[36m(RayTrainWorker pid=55197)\u001b[0m \n",
      "\u001b[36m(RayTrainWorker pid=55226)\u001b[0m \n",
      "\u001b[36m(RayTrainWorker pid=55302)\u001b[0m \n"
     ]
    },
    {
     "name": "stderr",
     "output_type": "stream",
     "text": [
      "100%|██████████| 28.9k/28.9k [00:00<00:00, 349kB/s]\u001b[32m [repeated 8x across cluster]\u001b[0m\n",
      "100%|██████████| 1.65M/1.65M [00:00<00:00, 3.67MB/s]\u001b[32m [repeated 16x across cluster]\u001b[0m\n"
     ]
    },
    {
     "name": "stdout",
     "output_type": "stream",
     "text": [
      "\u001b[36m(RayTrainWorker pid=55226)\u001b[0m \n",
      "\u001b[36m(RayTrainWorker pid=55226)\u001b[0m Extracting /var/folders/mf/cfzv46p15017stkscsq9jw9h0000gn/T/tmpuoy2tt6h/MNIST/raw/t10k-labels-idx1-ubyte.gz to /var/folders/mf/cfzv46p15017stkscsq9jw9h0000gn/T/tmpuoy2tt6h/MNIST/raw\u001b[32m [repeated 9x across cluster]\u001b[0m\n",
      "\u001b[36m(RayTrainWorker pid=55302)\u001b[0m \n"
     ]
    },
    {
     "name": "stderr",
     "output_type": "stream",
     "text": [
      "\u001b[36m(RayTrainWorker pid=55226)\u001b[0m \n",
      "\u001b[36m(TorchTrainer pid=55341)\u001b[0m Started distributed worker processes: \n",
      "\u001b[36m(TorchTrainer pid=55341)\u001b[0m - (node_id=7cc2334a334327f410131b140fb9ad2ae54820f537299598f92261b4, ip=127.0.0.1, pid=55402) world_rank=0, local_rank=0, node_rank=0\n",
      "\u001b[36m(RayTrainWorker pid=55402)\u001b[0m Setting up process group for: env:// [rank=0, world_size=1]\n"
     ]
    },
    {
     "name": "stdout",
     "output_type": "stream",
     "text": [
      "\u001b[36m(RayTrainWorker pid=55402)\u001b[0m printing config {'layer_1_size': 32, 'layer_2_size': 64, 'layer_3_size': 512, 'dropout': 0.28714111837162914, 'batch_size': 32, 'learning_rate': 0.03835455856042801}\n"
     ]
    },
    {
     "name": "stderr",
     "output_type": "stream",
     "text": [
      "\u001b[36m(RayTrainWorker pid=55197)\u001b[0m /Users/sidharrthnagappan/.virtualenvs/lsdp_miniproject/lib/python3.11/site-packages/pytorch_lightning/trainer/connectors/data_connector.py:420: Consider setting `persistent_workers=True` in 'train_dataloader' to speed up the dataloader worker initialization.\n"
     ]
    },
    {
     "name": "stdout",
     "output_type": "stream",
     "text": [
      "\u001b[36m(RayTrainWorker pid=55402)\u001b[0m \n"
     ]
    },
    {
     "name": "stderr",
     "output_type": "stream",
     "text": [
      "\u001b[36m(RayTrainWorker pid=55402)\u001b[0m GPU available: True (mps), used: False\n",
      "\u001b[36m(RayTrainWorker pid=55402)\u001b[0m TPU available: False, using: 0 TPU cores\n",
      "\u001b[36m(RayTrainWorker pid=55402)\u001b[0m HPU available: False, using: 0 HPUs\n",
      "\u001b[36m(RayTrainWorker pid=55402)\u001b[0m /Users/sidharrthnagappan/.virtualenvs/lsdp_miniproject/lib/python3.11/site-packages/pytorch_lightning/trainer/setup.py:177: GPU available but not used. You can set it by doing `Trainer(accelerator='gpu')`.\n",
      "\u001b[36m(RayTrainWorker pid=55402)\u001b[0m /Users/sidharrthnagappan/.virtualenvs/lsdp_miniproject/lib/python3.11/site-packages/pytorch_lightning/loops/utilities.py:73: `max_epochs` was not set. Setting it to 1000 epochs. To train without an epoch limit, set `max_epochs=-1`.\n"
     ]
    },
    {
     "name": "stdout",
     "output_type": "stream",
     "text": [
      "\u001b[36m(RayTrainWorker pid=55402)\u001b[0m Downloading https://ossci-datasets.s3.amazonaws.com/mnist/train-images-idx3-ubyte.gz\u001b[32m [repeated 10x across cluster]\u001b[0m\n",
      "\u001b[36m(RayTrainWorker pid=55402)\u001b[0m Failed to download (trying next):\u001b[32m [repeated 4x across cluster]\u001b[0m\n",
      "\u001b[36m(RayTrainWorker pid=55402)\u001b[0m HTTP Error 403: Forbidden\u001b[32m [repeated 4x across cluster]\u001b[0m\n",
      "\u001b[36m(RayTrainWorker pid=55402)\u001b[0m \n",
      "\u001b[36m(RayTrainWorker pid=55402)\u001b[0m Downloading https://ossci-datasets.s3.amazonaws.com/mnist/train-images-idx3-ubyte.gz to /var/folders/mf/cfzv46p15017stkscsq9jw9h0000gn/T/tmppf8qrx2a/MNIST/raw/train-images-idx3-ubyte.gz\u001b[32m [repeated 4x across cluster]\u001b[0m\n"
     ]
    },
    {
     "name": "stderr",
     "output_type": "stream",
     "text": [
      "100%|██████████| 9.91M/9.91M [00:00<00:00, 10.6MB/s]\n",
      "\u001b[36m(RayTrainWorker pid=55226)\u001b[0m   | Name     | Type               | Params | Mode \n",
      "\u001b[36m(RayTrainWorker pid=55226)\u001b[0m --------------------------------------------------------\u001b[32m [repeated 2x across cluster]\u001b[0m\n",
      "\u001b[36m(RayTrainWorker pid=55226)\u001b[0m 0 | accuracy | MulticlassAccuracy | 0      | train\n",
      "\u001b[36m(RayTrainWorker pid=55226)\u001b[0m 4 | layer4   | Linear             | 1.3 K  | train\u001b[32m [repeated 4x across cluster]\u001b[0m\n",
      "\u001b[36m(RayTrainWorker pid=55226)\u001b[0m 5 | dropout  | Dropout            | 0      | train\n",
      "\u001b[36m(RayTrainWorker pid=55226)\u001b[0m 47.1 K    Trainable params\n",
      "\u001b[36m(RayTrainWorker pid=55226)\u001b[0m 0         Non-trainable params\n",
      "\u001b[36m(RayTrainWorker pid=55226)\u001b[0m 47.1 K    Total params\n",
      "\u001b[36m(RayTrainWorker pid=55226)\u001b[0m 0.189     Total estimated model params size (MB)\n",
      "\u001b[36m(RayTrainWorker pid=55226)\u001b[0m 6         Modules in train mode\n",
      "\u001b[36m(RayTrainWorker pid=55226)\u001b[0m 0         Modules in eval mode\n",
      "\u001b[36m(RayTrainWorker pid=55226)\u001b[0m /Users/sidharrthnagappan/.virtualenvs/lsdp_miniproject/lib/python3.11/site-packages/pytorch_lightning/trainer/connectors/data_connector.py:420: Consider setting `persistent_workers=True` in 'val_dataloader' to speed up the dataloader worker initialization.\n",
      "  0%|          | 0.00/9.91M [00:00<?, ?B/s]\u001b[32m [repeated 3x across cluster]\u001b[0m\n",
      " 62%|██████▏   | 1.02M/1.65M [00:03<00:01, 385kB/s]\u001b[32m [repeated 29x across cluster]\u001b[0m\n"
     ]
    },
    {
     "name": "stdout",
     "output_type": "stream",
     "text": [
      "\u001b[36m(RayTrainWorker pid=55402)\u001b[0m \n",
      "\u001b[36m(RayTrainWorker pid=55402)\u001b[0m \n",
      "\u001b[36m(RayTrainWorker pid=55402)\u001b[0m Extracting /var/folders/mf/cfzv46p15017stkscsq9jw9h0000gn/T/tmppf8qrx2a/MNIST/raw/train-labels-idx1-ubyte.gz to /var/folders/mf/cfzv46p15017stkscsq9jw9h0000gn/T/tmppf8qrx2a/MNIST/raw\u001b[32m [repeated 2x across cluster]\u001b[0m\n"
     ]
    },
    {
     "name": "stderr",
     "output_type": "stream",
     "text": [
      "100%|██████████| 28.9k/28.9k [00:00<00:00, 347kB/s]\n",
      " 91%|█████████▏| 1.51M/1.65M [00:04<00:00, 474kB/s]\n"
     ]
    },
    {
     "name": "stdout",
     "output_type": "stream",
     "text": [
      "\u001b[36m(RayTrainWorker pid=55302)\u001b[0m \n",
      "\u001b[36m(RayTrainWorker pid=55402)\u001b[0m \n"
     ]
    },
    {
     "name": "stderr",
     "output_type": "stream",
     "text": [
      "100%|██████████| 1.65M/1.65M [00:04<00:00, 330kB/s]\n"
     ]
    },
    {
     "name": "stdout",
     "output_type": "stream",
     "text": [
      "\u001b[36m(RayTrainWorker pid=55302)\u001b[0m \n",
      "\u001b[36m(RayTrainWorker pid=55402)\u001b[0m \n",
      "\u001b[36m(RayTrainWorker pid=55302)\u001b[0m \n"
     ]
    },
    {
     "name": "stderr",
     "output_type": "stream",
     "text": [
      "100%|██████████| 1.65M/1.65M [00:00<00:00, 3.22MB/s]\n",
      "\u001b[36m(RayTrainWorker pid=55302)\u001b[0m \n",
      "\u001b[36m(RayTrainWorker pid=55302)\u001b[0m   | Name     | Type               | Params | Mode \n",
      "\u001b[36m(RayTrainWorker pid=55302)\u001b[0m 0 | accuracy | MulticlassAccuracy | 0      | train\n",
      "\u001b[36m(RayTrainWorker pid=55302)\u001b[0m 5 | dropout  | Dropout            | 0      | train\n",
      "\u001b[36m(RayTrainWorker pid=55302)\u001b[0m 134 K     Trainable params\n",
      "\u001b[36m(RayTrainWorker pid=55302)\u001b[0m 0         Non-trainable params\n",
      "\u001b[36m(RayTrainWorker pid=55302)\u001b[0m 134 K     Total params\n",
      "\u001b[36m(RayTrainWorker pid=55302)\u001b[0m 0.539     Total estimated model params size (MB)\n",
      "\u001b[36m(RayTrainWorker pid=55302)\u001b[0m 6         Modules in train mode\n",
      "\u001b[36m(RayTrainWorker pid=55302)\u001b[0m 0         Modules in eval mode\n",
      "\u001b[36m(RayTrainWorker pid=55302)\u001b[0m /Users/sidharrthnagappan/.virtualenvs/lsdp_miniproject/lib/python3.11/site-packages/pytorch_lightning/trainer/connectors/data_connector.py:420: Consider setting `persistent_workers=True` in 'val_dataloader' to speed up the dataloader worker initialization.\n"
     ]
    },
    {
     "name": "stdout",
     "output_type": "stream",
     "text": [
      "\u001b[36m(RayTrainWorker pid=55402)\u001b[0m \n",
      "\u001b[36m(RayTrainWorker pid=55402)\u001b[0m \n"
     ]
    },
    {
     "name": "stderr",
     "output_type": "stream",
     "text": [
      "\u001b[36m(RayTrainWorker pid=55226)\u001b[0m /Users/sidharrthnagappan/.virtualenvs/lsdp_miniproject/lib/python3.11/site-packages/pytorch_lightning/trainer/connectors/data_connector.py:420: Consider setting `persistent_workers=True` in 'train_dataloader' to speed up the dataloader worker initialization.\n",
      "\u001b[36m(RayTrainWorker pid=55402)\u001b[0m \n",
      "\u001b[36m(RayTrainWorker pid=54571)\u001b[0m Checkpoint successfully created at: Checkpoint(filesystem=local, path=/Users/sidharrthnagappan/ray_results/TorchTrainer_2024-12-24_17-34-19/TorchTrainer_4f4b8_00020_20_batch_size=64,dropout=0.1971,layer_1_size=128,layer_2_size=64,layer_3_size=512,learning_rate=0.0003_2024-12-24_17-34-21/checkpoint_000003)\n",
      "\u001b[36m(RayTrainWorker pid=54571)\u001b[0m Traceback (most recent call last):\n",
      "\u001b[36m(RayTrainWorker pid=54571)\u001b[0m   File \"<string>\", line 1, in <module>\n",
      "\u001b[36m(RayTrainWorker pid=54571)\u001b[0m   File \"/Users/sidharrthnagappan/.pyenv/versions/3.11.0/lib/python3.11/multiprocessing/spawn.py\", line 120, in spawn_main\n",
      "\u001b[36m(RayTrainWorker pid=54571)\u001b[0m     exitcode = _main(fd, parent_sentinel)\n",
      "\u001b[36m(RayTrainWorker pid=54571)\u001b[0m                ^^^^^^^^^^^^^^^^^^^^^^^^^^\n",
      "\u001b[36m(RayTrainWorker pid=54571)\u001b[0m   File \"/Users/sidharrthnagappan/.pyenv/versions/3.11.0/lib/python3.11/multiprocessing/spawn.py\", line 130, in _main\n",
      "\u001b[36m(RayTrainWorker pid=54571)\u001b[0m     self = reduction.pickle.load(from_parent)\n",
      "\u001b[36m(RayTrainWorker pid=54571)\u001b[0m            ^^^^^^^^^^^^^^^^^^^^^^^^^^^^^^^^^^\n",
      "\u001b[36m(RayTrainWorker pid=54571)\u001b[0m _pickle.UnpicklingError: pickle data was truncated\n",
      "\u001b[36m(RayTrainWorker pid=55402)\u001b[0m --------------------------------------------------------\u001b[32m [repeated 4x across cluster]\u001b[0m\n",
      "\u001b[36m(RayTrainWorker pid=55402)\u001b[0m 4 | layer4   | Linear             | 5.1 K  | train\u001b[32m [repeated 8x across cluster]\u001b[0m\n",
      "100%|██████████| 4.54k/4.54k [00:00<00:00, 3.83MB/s]\u001b[32m [repeated 4x across cluster]\u001b[0m\n",
      " 22%|██▏       | 360k/1.65M [00:00<00:01, 1.19MB/s]\u001b[32m [repeated 7x across cluster]\u001b[0m\n",
      "\u001b[36m(RayTrainWorker pid=55302)\u001b[0m /Users/sidharrthnagappan/.virtualenvs/lsdp_miniproject/lib/python3.11/site-packages/pytorch_lightning/trainer/connectors/data_connector.py:420: Consider setting `persistent_workers=True` in 'train_dataloader' to speed up the dataloader worker initialization.\n",
      "\u001b[36m(RayTrainWorker pid=54571)\u001b[0m /Users/sidharrthnagappan/.pyenv/versions/3.11.0/lib/python3.11/multiprocessing/resource_tracker.py:224: UserWarning: resource_tracker: There appear to be 55 leaked semaphore objects to clean up at shutdown\n",
      "\u001b[36m(RayTrainWorker pid=54571)\u001b[0m   warnings.warn('resource_tracker: There appear to be %d '\n",
      "\u001b[36m(RayTrainWorker pid=55402)\u001b[0m   | Name     | Type               | Params | Mode \n",
      "\u001b[36m(RayTrainWorker pid=55402)\u001b[0m 0 | accuracy | MulticlassAccuracy | 0      | train\n",
      "\u001b[36m(RayTrainWorker pid=55402)\u001b[0m 5 | dropout  | Dropout            | 0      | train\n",
      "\u001b[36m(RayTrainWorker pid=55402)\u001b[0m 65.6 K    Trainable params\n",
      "\u001b[36m(RayTrainWorker pid=55402)\u001b[0m 0         Non-trainable params\n",
      "\u001b[36m(RayTrainWorker pid=55402)\u001b[0m 65.6 K    Total params\n",
      "\u001b[36m(RayTrainWorker pid=55402)\u001b[0m 0.263     Total estimated model params size (MB)\n",
      "\u001b[36m(RayTrainWorker pid=55402)\u001b[0m 6         Modules in train mode\n",
      "\u001b[36m(RayTrainWorker pid=55402)\u001b[0m 0         Modules in eval mode\n",
      "\u001b[36m(RayTrainWorker pid=55402)\u001b[0m /Users/sidharrthnagappan/.virtualenvs/lsdp_miniproject/lib/python3.11/site-packages/pytorch_lightning/trainer/connectors/data_connector.py:420: Consider setting `persistent_workers=True` in 'val_dataloader' to speed up the dataloader worker initialization.\n",
      "\u001b[36m(RayTrainWorker pid=55226)\u001b[0m Checkpoint successfully created at: Checkpoint(filesystem=local, path=/Users/sidharrthnagappan/ray_results/TorchTrainer_2024-12-24_17-34-19/TorchTrainer_4f4b8_00025_25_batch_size=128,dropout=0.1429,layer_1_size=32,layer_2_size=128,layer_3_size=128,learning_rate=0.0152_2024-12-24_17-34-21/checkpoint_000000)\n",
      "\u001b[36m(RayTrainWorker pid=55226)\u001b[0m Traceback (most recent call last):\n",
      "\u001b[36m(RayTrainWorker pid=55226)\u001b[0m   File \"<string>\", line 1, in <module>\n",
      "\u001b[36m(RayTrainWorker pid=55226)\u001b[0m   File \"/Users/sidharrthnagappan/.pyenv/versions/3.11.0/lib/python3.11/multiprocessing/spawn.py\", line 120, in spawn_main\n",
      "\u001b[36m(RayTrainWorker pid=55226)\u001b[0m     exitcode = _main(fd, parent_sentinel)\n",
      "\u001b[36m(RayTrainWorker pid=55226)\u001b[0m                ^^^^^^^^^^^^^^^^^^^^^^^^^^\n",
      "\u001b[36m(RayTrainWorker pid=55226)\u001b[0m   File \"/Users/sidharrthnagappan/.pyenv/versions/3.11.0/lib/python3.11/multiprocessing/spawn.py\", line 130, in _main\n",
      "\u001b[36m(RayTrainWorker pid=55226)\u001b[0m     self = reduction.pickle.load(from_parent)\n",
      "\u001b[36m(RayTrainWorker pid=55226)\u001b[0m            ^^^^^^^^^^^^^^^^^^^^^^^^^^^^^^^^^^\n",
      "\u001b[36m(RayTrainWorker pid=55226)\u001b[0m _pickle.UnpicklingError: pickle data was truncated\n",
      "\u001b[36m(RayTrainWorker pid=55197)\u001b[0m Checkpoint successfully created at: Checkpoint(filesystem=local, path=/Users/sidharrthnagappan/ray_results/TorchTrainer_2024-12-24_17-34-19/TorchTrainer_4f4b8_00024_24_batch_size=64,dropout=0.1795,layer_1_size=128,layer_2_size=256,layer_3_size=512,learning_rate=0.0388_2024-12-24_17-34-21/checkpoint_000000)\n",
      "\u001b[36m(RayTrainWorker pid=55197)\u001b[0m Traceback (most recent call last):\n",
      "\u001b[36m(RayTrainWorker pid=55197)\u001b[0m   File \"<string>\", line 1, in <module>\n",
      "\u001b[36m(RayTrainWorker pid=55197)\u001b[0m   File \"/Users/sidharrthnagappan/.pyenv/versions/3.11.0/lib/python3.11/multiprocessing/spawn.py\", line 120, in spawn_main\n",
      "\u001b[36m(RayTrainWorker pid=55197)\u001b[0m     exitcode = _main(fd, parent_sentinel)\n",
      "\u001b[36m(RayTrainWorker pid=55197)\u001b[0m                ^^^^^^^^^^^^^^^^^^^^^^^^^^\n",
      "\u001b[36m(RayTrainWorker pid=55197)\u001b[0m   File \"/Users/sidharrthnagappan/.pyenv/versions/3.11.0/lib/python3.11/multiprocessing/spawn.py\", line 130, in _main\n",
      "\u001b[36m(RayTrainWorker pid=55197)\u001b[0m     self = reduction.pickle.load(from_parent)\n",
      "\u001b[36m(RayTrainWorker pid=55197)\u001b[0m            ^^^^^^^^^^^^^^^^^^^^^^^^^^^^^^^^^^\n",
      "\u001b[36m(RayTrainWorker pid=55197)\u001b[0m _pickle.UnpicklingError: pickle data was truncated\n",
      "\u001b[36m(RayTrainWorker pid=55402)\u001b[0m /Users/sidharrthnagappan/.virtualenvs/lsdp_miniproject/lib/python3.11/site-packages/pytorch_lightning/trainer/connectors/data_connector.py:420: Consider setting `persistent_workers=True` in 'train_dataloader' to speed up the dataloader worker initialization.\n",
      "\u001b[36m(TorchTrainer pid=55634)\u001b[0m Started distributed worker processes: \n",
      "\u001b[36m(TorchTrainer pid=55634)\u001b[0m - (node_id=7cc2334a334327f410131b140fb9ad2ae54820f537299598f92261b4, ip=127.0.0.1, pid=55748) world_rank=0, local_rank=0, node_rank=0\n",
      "\u001b[36m(RayTrainWorker pid=55748)\u001b[0m Setting up process group for: env:// [rank=0, world_size=1]\n",
      "\u001b[36m(RayTrainWorker pid=55748)\u001b[0m GPU available: True (mps), used: False\n",
      "\u001b[36m(RayTrainWorker pid=55748)\u001b[0m TPU available: False, using: 0 TPU cores\n",
      "\u001b[36m(RayTrainWorker pid=55748)\u001b[0m HPU available: False, using: 0 HPUs\n",
      "\u001b[36m(RayTrainWorker pid=55748)\u001b[0m /Users/sidharrthnagappan/.virtualenvs/lsdp_miniproject/lib/python3.11/site-packages/pytorch_lightning/trainer/setup.py:177: GPU available but not used. You can set it by doing `Trainer(accelerator='gpu')`.\n",
      "\u001b[36m(RayTrainWorker pid=55748)\u001b[0m /Users/sidharrthnagappan/.virtualenvs/lsdp_miniproject/lib/python3.11/site-packages/pytorch_lightning/loops/utilities.py:73: `max_epochs` was not set. Setting it to 1000 epochs. To train without an epoch limit, set `max_epochs=-1`.\n"
     ]
    },
    {
     "name": "stdout",
     "output_type": "stream",
     "text": [
      "\u001b[36m(RayTrainWorker pid=55748)\u001b[0m printing config {'layer_1_size': 64, 'layer_2_size': 256, 'layer_3_size': 512, 'dropout': 0.11186246065003927, 'batch_size': 32, 'learning_rate': 0.013959371950979267}\n",
      "\u001b[36m(RayTrainWorker pid=55748)\u001b[0m Downloading http://yann.lecun.com/exdb/mnist/train-images-idx3-ubyte.gz\u001b[32m [repeated 9x across cluster]\u001b[0m\n",
      "\u001b[36m(RayTrainWorker pid=55402)\u001b[0m Failed to download (trying next):\u001b[32m [repeated 4x across cluster]\u001b[0m\n",
      "\u001b[36m(RayTrainWorker pid=55402)\u001b[0m HTTP Error 403: Forbidden\u001b[32m [repeated 4x across cluster]\u001b[0m\n",
      "\u001b[36m(RayTrainWorker pid=55402)\u001b[0m Downloading https://ossci-datasets.s3.amazonaws.com/mnist/t10k-labels-idx1-ubyte.gz to /var/folders/mf/cfzv46p15017stkscsq9jw9h0000gn/T/tmppf8qrx2a/MNIST/raw/t10k-labels-idx1-ubyte.gz\u001b[32m [repeated 4x across cluster]\u001b[0m\n",
      "\u001b[36m(RayTrainWorker pid=55402)\u001b[0m Extracting /var/folders/mf/cfzv46p15017stkscsq9jw9h0000gn/T/tmppf8qrx2a/MNIST/raw/t10k-labels-idx1-ubyte.gz to /var/folders/mf/cfzv46p15017stkscsq9jw9h0000gn/T/tmppf8qrx2a/MNIST/raw\u001b[32m [repeated 4x across cluster]\u001b[0m\n"
     ]
    },
    {
     "name": "stderr",
     "output_type": "stream",
     "text": [
      "\u001b[36m(RayTrainWorker pid=55226)\u001b[0m /Users/sidharrthnagappan/.pyenv/versions/3.11.0/lib/python3.11/multiprocessing/resource_tracker.py:224: UserWarning: resource_tracker: There appear to be 55 leaked semaphore objects to clean up at shutdown\n",
      "\u001b[36m(RayTrainWorker pid=55226)\u001b[0m   warnings.warn('resource_tracker: There appear to be %d '\n"
     ]
    },
    {
     "name": "stdout",
     "output_type": "stream",
     "text": [
      "\u001b[36m(RayTrainWorker pid=55748)\u001b[0m \n",
      "\u001b[36m(RayTrainWorker pid=55749)\u001b[0m \n"
     ]
    },
    {
     "name": "stderr",
     "output_type": "stream",
     "text": [
      "\u001b[36m(RayTrainWorker pid=55197)\u001b[0m /Users/sidharrthnagappan/.pyenv/versions/3.11.0/lib/python3.11/multiprocessing/resource_tracker.py:224: UserWarning: resource_tracker: There appear to be 55 leaked semaphore objects to clean up at shutdown\n",
      "\u001b[36m(RayTrainWorker pid=55197)\u001b[0m   warnings.warn('resource_tracker: There appear to be %d '\n",
      "  0%|          | 0.00/9.91M [00:00<?, ?B/s]\n",
      "  1%|          | 98.3k/9.91M [00:00<00:16, 590kB/s]\n",
      "  4%|▍         | 393k/9.91M [00:00<00:08, 1.15MB/s]\n",
      " 14%|█▍        | 1.38M/9.91M [00:00<00:02, 3.83MB/s]\n",
      " 21%|██        | 2.10M/9.91M [00:00<00:01, 4.87MB/s]\n",
      " 96%|█████████▌| 9.54M/9.91M [00:01<00:00, 7.69MB/s]\n",
      "100%|██████████| 9.91M/9.91M [00:01<00:00, 6.59MB/s]\n"
     ]
    },
    {
     "name": "stdout",
     "output_type": "stream",
     "text": [
      "\u001b[36m(RayTrainWorker pid=55748)\u001b[0m \n"
     ]
    },
    {
     "name": "stderr",
     "output_type": "stream",
     "text": [
      "100%|██████████| 9.91M/9.91M [00:01<00:00, 8.05MB/s]\n"
     ]
    },
    {
     "name": "stdout",
     "output_type": "stream",
     "text": [
      "\u001b[36m(RayTrainWorker pid=55749)\u001b[0m \n",
      "\u001b[36m(RayTrainWorker pid=55748)\u001b[0m \n"
     ]
    },
    {
     "name": "stderr",
     "output_type": "stream",
     "text": [
      "\u001b[36m(RayTrainWorker pid=55302)\u001b[0m Checkpoint successfully created at: Checkpoint(filesystem=local, path=/Users/sidharrthnagappan/ray_results/TorchTrainer_2024-12-24_17-34-19/TorchTrainer_4f4b8_00026_26_batch_size=32,dropout=0.2573,layer_1_size=128,layer_2_size=128,layer_3_size=128,learning_rate=0.0010_2024-12-24_17-34-21/checkpoint_000000)\n"
     ]
    },
    {
     "name": "stdout",
     "output_type": "stream",
     "text": [
      "\u001b[36m(RayTrainWorker pid=55749)\u001b[0m \n"
     ]
    },
    {
     "name": "stderr",
     "output_type": "stream",
     "text": [
      "100%|██████████| 28.9k/28.9k [00:00<00:00, 348kB/s]\n",
      "\u001b[36m(RayTrainWorker pid=55402)\u001b[0m Traceback (most recent call last):\n",
      "\u001b[36m(RayTrainWorker pid=55402)\u001b[0m   File \"<string>\", line 1, in <module>\n",
      "\u001b[36m(RayTrainWorker pid=55402)\u001b[0m   File \"/Users/sidharrthnagappan/.pyenv/versions/3.11.0/lib/python3.11/multiprocessing/spawn.py\", line 120, in spawn_main\n",
      "\u001b[36m(RayTrainWorker pid=55402)\u001b[0m     exitcode = _main(fd, parent_sentinel)\n",
      "\u001b[36m(RayTrainWorker pid=55402)\u001b[0m                ^^^^^^^^^^^^^^^^^^^^^^^^^^\n",
      "\u001b[36m(RayTrainWorker pid=55402)\u001b[0m   File \"/Users/sidharrthnagappan/.pyenv/versions/3.11.0/lib/python3.11/multiprocessing/spawn.py\", line 130, in _main\n",
      "\u001b[36m(RayTrainWorker pid=55402)\u001b[0m     self = reduction.pickle.load(from_parent)\n",
      "\u001b[36m(RayTrainWorker pid=55402)\u001b[0m            ^^^^^^^^^^^^^^^^^^^^^^^^^^^^^^^^^^\n",
      "\u001b[36m(RayTrainWorker pid=55402)\u001b[0m _pickle.UnpicklingError: pickle data was truncated\n"
     ]
    },
    {
     "name": "stdout",
     "output_type": "stream",
     "text": [
      "\u001b[36m(RayTrainWorker pid=55748)\u001b[0m \n",
      "\u001b[36m(RayTrainWorker pid=55774)\u001b[0m \n"
     ]
    },
    {
     "name": "stderr",
     "output_type": "stream",
     "text": [
      "100%|██████████| 28.9k/28.9k [00:00<00:00, 345kB/s]\n"
     ]
    },
    {
     "name": "stdout",
     "output_type": "stream",
     "text": [
      "\u001b[36m(RayTrainWorker pid=55749)\u001b[0m \n",
      "\u001b[36m(RayTrainWorker pid=55748)\u001b[0m \n",
      "\u001b[36m(RayTrainWorker pid=55749)\u001b[0m \n"
     ]
    },
    {
     "name": "stderr",
     "output_type": "stream",
     "text": [
      "\u001b[36m(TorchTrainer pid=55740)\u001b[0m Started distributed worker processes: \u001b[32m [repeated 2x across cluster]\u001b[0m\n",
      "\u001b[36m(TorchTrainer pid=55740)\u001b[0m - (node_id=7cc2334a334327f410131b140fb9ad2ae54820f537299598f92261b4, ip=127.0.0.1, pid=55774) world_rank=0, local_rank=0, node_rank=0\u001b[32m [repeated 2x across cluster]\u001b[0m\n",
      "\u001b[36m(RayTrainWorker pid=55774)\u001b[0m Setting up process group for: env:// [rank=0, world_size=1]\u001b[32m [repeated 2x across cluster]\u001b[0m\n"
     ]
    },
    {
     "name": "stdout",
     "output_type": "stream",
     "text": [
      "\u001b[36m(RayTrainWorker pid=55774)\u001b[0m printing config {'layer_1_size': 64, 'layer_2_size': 256, 'layer_3_size': 128, 'dropout': 0.12668409320735985, 'batch_size': 128, 'learning_rate': 0.007232709332948}\u001b[32m [repeated 2x across cluster]\u001b[0m\n",
      "\u001b[36m(RayTrainWorker pid=55749)\u001b[0m Downloading https://ossci-datasets.s3.amazonaws.com/mnist/t10k-images-idx3-ubyte.gz\u001b[32m [repeated 13x across cluster]\u001b[0m\n",
      "\u001b[36m(RayTrainWorker pid=55749)\u001b[0m Failed to download (trying next):\u001b[32m [repeated 7x across cluster]\u001b[0m\n",
      "\u001b[36m(RayTrainWorker pid=55749)\u001b[0m HTTP Error 403: Forbidden\u001b[32m [repeated 7x across cluster]\u001b[0m\n",
      "\u001b[36m(RayTrainWorker pid=55749)\u001b[0m Downloading https://ossci-datasets.s3.amazonaws.com/mnist/t10k-images-idx3-ubyte.gz to /var/folders/mf/cfzv46p15017stkscsq9jw9h0000gn/T/tmphkymwgko/MNIST/raw/t10k-images-idx3-ubyte.gz\u001b[32m [repeated 7x across cluster]\u001b[0m\n",
      "\u001b[36m(RayTrainWorker pid=55749)\u001b[0m Extracting /var/folders/mf/cfzv46p15017stkscsq9jw9h0000gn/T/tmphkymwgko/MNIST/raw/train-labels-idx1-ubyte.gz to /var/folders/mf/cfzv46p15017stkscsq9jw9h0000gn/T/tmphkymwgko/MNIST/raw\u001b[32m [repeated 4x across cluster]\u001b[0m\n"
     ]
    },
    {
     "name": "stderr",
     "output_type": "stream",
     "text": [
      "\u001b[36m(RayTrainWorker pid=55774)\u001b[0m GPU available: True (mps), used: False\u001b[32m [repeated 2x across cluster]\u001b[0m\n",
      "\u001b[36m(RayTrainWorker pid=55774)\u001b[0m TPU available: False, using: 0 TPU cores\u001b[32m [repeated 2x across cluster]\u001b[0m\n",
      "\u001b[36m(RayTrainWorker pid=55774)\u001b[0m HPU available: False, using: 0 HPUs\u001b[32m [repeated 2x across cluster]\u001b[0m\n",
      "\u001b[36m(RayTrainWorker pid=55774)\u001b[0m /Users/sidharrthnagappan/.virtualenvs/lsdp_miniproject/lib/python3.11/site-packages/pytorch_lightning/trainer/setup.py:177: GPU available but not used. You can set it by doing `Trainer(accelerator='gpu')`.\u001b[32m [repeated 2x across cluster]\u001b[0m\n",
      "\u001b[36m(RayTrainWorker pid=55774)\u001b[0m /Users/sidharrthnagappan/.virtualenvs/lsdp_miniproject/lib/python3.11/site-packages/pytorch_lightning/loops/utilities.py:73: `max_epochs` was not set. Setting it to 1000 epochs. To train without an epoch limit, set `max_epochs=-1`.\u001b[32m [repeated 2x across cluster]\u001b[0m\n",
      " 50%|████▉     | 819k/1.65M [00:00<00:00, 2.22MB/s]\n",
      "100%|██████████| 1.65M/1.65M [00:00<00:00, 3.09MB/s]\n"
     ]
    },
    {
     "name": "stdout",
     "output_type": "stream",
     "text": [
      "\u001b[36m(RayTrainWorker pid=55748)\u001b[0m \n",
      "\u001b[36m(RayTrainWorker pid=55774)\u001b[0m \n",
      "\u001b[36m(RayTrainWorker pid=55748)\u001b[0m \n",
      "\u001b[36m(RayTrainWorker pid=55774)\u001b[0m \n"
     ]
    },
    {
     "name": "stderr",
     "output_type": "stream",
     "text": [
      "  0%|          | 0.00/1.65M [00:00<?, ?B/s]\u001b[32m [repeated 6x across cluster]\u001b[0m\n",
      " 72%|███████▏  | 1.18M/1.65M [00:01<00:00, 1.14MB/s]\u001b[32m [repeated 28x across cluster]\u001b[0m\n",
      "\u001b[36m(RayTrainWorker pid=55748)\u001b[0m \n",
      "\u001b[36m(RayTrainWorker pid=55748)\u001b[0m   | Name     | Type               | Params | Mode \n",
      "\u001b[36m(RayTrainWorker pid=55748)\u001b[0m --------------------------------------------------------\n",
      "\u001b[36m(RayTrainWorker pid=55748)\u001b[0m 0 | accuracy | MulticlassAccuracy | 0      | train\n",
      "\u001b[36m(RayTrainWorker pid=55748)\u001b[0m 1 | layer1   | Linear             | 50.2 K | train\n",
      "\u001b[36m(RayTrainWorker pid=55748)\u001b[0m 2 | layer2   | Linear             | 16.6 K | train\n",
      "\u001b[36m(RayTrainWorker pid=55748)\u001b[0m 3 | layer3   | Linear             | 131 K  | train\n",
      "\u001b[36m(RayTrainWorker pid=55748)\u001b[0m 4 | layer4   | Linear             | 5.1 K  | train\n",
      "\u001b[36m(RayTrainWorker pid=55748)\u001b[0m 5 | dropout  | Dropout            | 0      | train\n",
      "\u001b[36m(RayTrainWorker pid=55748)\u001b[0m --------------------------------------------------------\n",
      "\u001b[36m(RayTrainWorker pid=55748)\u001b[0m 203 K     Trainable params\n",
      "\u001b[36m(RayTrainWorker pid=55748)\u001b[0m 0         Non-trainable params\n",
      "\u001b[36m(RayTrainWorker pid=55748)\u001b[0m 203 K     Total params\n",
      "\u001b[36m(RayTrainWorker pid=55748)\u001b[0m 0.814     Total estimated model params size (MB)\n",
      "\u001b[36m(RayTrainWorker pid=55748)\u001b[0m 6         Modules in train mode\n",
      "\u001b[36m(RayTrainWorker pid=55748)\u001b[0m 0         Modules in eval mode\n",
      "\u001b[36m(RayTrainWorker pid=55748)\u001b[0m /Users/sidharrthnagappan/.virtualenvs/lsdp_miniproject/lib/python3.11/site-packages/pytorch_lightning/trainer/connectors/data_connector.py:420: Consider setting `persistent_workers=True` in 'val_dataloader' to speed up the dataloader worker initialization.\n",
      "100%|██████████| 1.65M/1.65M [00:01<00:00, 1.14MB/s]\n"
     ]
    },
    {
     "name": "stdout",
     "output_type": "stream",
     "text": [
      "\u001b[36m(RayTrainWorker pid=55748)\u001b[0m \n",
      "\u001b[36m(RayTrainWorker pid=55749)\u001b[0m \n"
     ]
    },
    {
     "name": "stderr",
     "output_type": "stream",
     "text": [
      "100%|██████████| 28.9k/28.9k [00:00<00:00, 335kB/s]\n"
     ]
    },
    {
     "name": "stdout",
     "output_type": "stream",
     "text": [
      "\u001b[36m(RayTrainWorker pid=55774)\u001b[0m \n",
      "\u001b[36m(RayTrainWorker pid=55749)\u001b[0m \n",
      "\u001b[36m(RayTrainWorker pid=55774)\u001b[0m \n"
     ]
    },
    {
     "name": "stderr",
     "output_type": "stream",
     "text": [
      "\u001b[36m(RayTrainWorker pid=55749)\u001b[0m \n"
     ]
    },
    {
     "name": "stdout",
     "output_type": "stream",
     "text": [
      "\u001b[36m(RayTrainWorker pid=55749)\u001b[0m \n",
      "\u001b[36m(RayTrainWorker pid=55774)\u001b[0m \n",
      "\u001b[36m(RayTrainWorker pid=55774)\u001b[0m \n"
     ]
    },
    {
     "name": "stderr",
     "output_type": "stream",
     "text": [
      "\u001b[36m(RayTrainWorker pid=55748)\u001b[0m /Users/sidharrthnagappan/.virtualenvs/lsdp_miniproject/lib/python3.11/site-packages/pytorch_lightning/trainer/connectors/data_connector.py:420: Consider setting `persistent_workers=True` in 'train_dataloader' to speed up the dataloader worker initialization.\n",
      "\u001b[36m(RayTrainWorker pid=55402)\u001b[0m Checkpoint successfully created at: Checkpoint(filesystem=local, path=/Users/sidharrthnagappan/ray_results/TorchTrainer_2024-12-24_17-34-19/TorchTrainer_4f4b8_00027_27_batch_size=32,dropout=0.2871,layer_1_size=32,layer_2_size=64,layer_3_size=512,learning_rate=0.0384_2024-12-24_17-34-21/checkpoint_000000)\n"
     ]
    },
    {
     "name": "stdout",
     "output_type": "stream",
     "text": [
      "\u001b[36m(RayTrainWorker pid=55774)\u001b[0m \n"
     ]
    },
    {
     "name": "stderr",
     "output_type": "stream",
     "text": [
      "\u001b[36m(RayTrainWorker pid=55402)\u001b[0m /Users/sidharrthnagappan/.pyenv/versions/3.11.0/lib/python3.11/multiprocessing/resource_tracker.py:224: UserWarning: resource_tracker: There appear to be 55 leaked semaphore objects to clean up at shutdown\n",
      "\u001b[36m(RayTrainWorker pid=55402)\u001b[0m   warnings.warn('resource_tracker: There appear to be %d '\n",
      "\u001b[36m(RayTrainWorker pid=55774)\u001b[0m \n",
      "\u001b[36m(TorchTrainer pid=55850)\u001b[0m Started distributed worker processes: \n",
      "\u001b[36m(TorchTrainer pid=55850)\u001b[0m - (node_id=7cc2334a334327f410131b140fb9ad2ae54820f537299598f92261b4, ip=127.0.0.1, pid=55909) world_rank=0, local_rank=0, node_rank=0\n",
      "100%|██████████| 4.54k/4.54k [00:00<00:00, 1.88MB/s]\u001b[32m [repeated 5x across cluster]\u001b[0m\n",
      "100%|██████████| 1.65M/1.65M [00:00<00:00, 3.67MB/s]\u001b[32m [repeated 4x across cluster]\u001b[0m\n",
      "\u001b[36m(RayTrainWorker pid=55774)\u001b[0m   | Name     | Type               | Params | Mode \u001b[32m [repeated 2x across cluster]\u001b[0m\n",
      "\u001b[36m(RayTrainWorker pid=55774)\u001b[0m --------------------------------------------------------\u001b[32m [repeated 4x across cluster]\u001b[0m\n",
      "\u001b[36m(RayTrainWorker pid=55774)\u001b[0m 0 | accuracy | MulticlassAccuracy | 0      | train\u001b[32m [repeated 2x across cluster]\u001b[0m\n",
      "\u001b[36m(RayTrainWorker pid=55774)\u001b[0m 4 | layer4   | Linear             | 1.3 K  | train\u001b[32m [repeated 8x across cluster]\u001b[0m\n",
      "\u001b[36m(RayTrainWorker pid=55774)\u001b[0m 5 | dropout  | Dropout            | 0      | train\u001b[32m [repeated 2x across cluster]\u001b[0m\n",
      "\u001b[36m(RayTrainWorker pid=55774)\u001b[0m 101 K     Trainable params\u001b[32m [repeated 2x across cluster]\u001b[0m\n",
      "\u001b[36m(RayTrainWorker pid=55774)\u001b[0m 0         Non-trainable params\u001b[32m [repeated 2x across cluster]\u001b[0m\n",
      "\u001b[36m(RayTrainWorker pid=55774)\u001b[0m 101 K     Total params\u001b[32m [repeated 2x across cluster]\u001b[0m\n",
      "\u001b[36m(RayTrainWorker pid=55774)\u001b[0m 0.404     Total estimated model params size (MB)\u001b[32m [repeated 2x across cluster]\u001b[0m\n",
      "\u001b[36m(RayTrainWorker pid=55774)\u001b[0m 6         Modules in train mode\u001b[32m [repeated 2x across cluster]\u001b[0m\n",
      "\u001b[36m(RayTrainWorker pid=55774)\u001b[0m 0         Modules in eval mode\u001b[32m [repeated 2x across cluster]\u001b[0m\n",
      "\u001b[36m(RayTrainWorker pid=55774)\u001b[0m /Users/sidharrthnagappan/.virtualenvs/lsdp_miniproject/lib/python3.11/site-packages/pytorch_lightning/trainer/connectors/data_connector.py:420: Consider setting `persistent_workers=True` in 'val_dataloader' to speed up the dataloader worker initialization.\u001b[32m [repeated 2x across cluster]\u001b[0m\n",
      "\u001b[36m(RayTrainWorker pid=55909)\u001b[0m Setting up process group for: env:// [rank=0, world_size=1]\n"
     ]
    },
    {
     "name": "stdout",
     "output_type": "stream",
     "text": [
      "\u001b[36m(RayTrainWorker pid=55909)\u001b[0m printing config {'layer_1_size': 32, 'layer_2_size': 256, 'layer_3_size': 512, 'dropout': 0.11993337335730632, 'batch_size': 64, 'learning_rate': 0.042333702941545745}\n",
      "\u001b[36m(RayTrainWorker pid=55774)\u001b[0m Downloading https://ossci-datasets.s3.amazonaws.com/mnist/t10k-labels-idx1-ubyte.gz\u001b[32m [repeated 10x across cluster]\u001b[0m\n",
      "\u001b[36m(RayTrainWorker pid=55774)\u001b[0m Failed to download (trying next):\u001b[32m [repeated 5x across cluster]\u001b[0m\n",
      "\u001b[36m(RayTrainWorker pid=55774)\u001b[0m HTTP Error 403: Forbidden\u001b[32m [repeated 5x across cluster]\u001b[0m\n",
      "\u001b[36m(RayTrainWorker pid=55774)\u001b[0m Downloading https://ossci-datasets.s3.amazonaws.com/mnist/t10k-labels-idx1-ubyte.gz to /var/folders/mf/cfzv46p15017stkscsq9jw9h0000gn/T/tmp3op2msxx/MNIST/raw/t10k-labels-idx1-ubyte.gz\u001b[32m [repeated 5x across cluster]\u001b[0m\n",
      "\u001b[36m(RayTrainWorker pid=55774)\u001b[0m Extracting /var/folders/mf/cfzv46p15017stkscsq9jw9h0000gn/T/tmp3op2msxx/MNIST/raw/t10k-labels-idx1-ubyte.gz to /var/folders/mf/cfzv46p15017stkscsq9jw9h0000gn/T/tmp3op2msxx/MNIST/raw\u001b[32m [repeated 8x across cluster]\u001b[0m\n"
     ]
    },
    {
     "name": "stderr",
     "output_type": "stream",
     "text": [
      "\u001b[36m(RayTrainWorker pid=55909)\u001b[0m GPU available: True (mps), used: False\n",
      "\u001b[36m(RayTrainWorker pid=55909)\u001b[0m TPU available: False, using: 0 TPU cores\n",
      "\u001b[36m(RayTrainWorker pid=55909)\u001b[0m HPU available: False, using: 0 HPUs\n",
      "\u001b[36m(RayTrainWorker pid=55909)\u001b[0m /Users/sidharrthnagappan/.virtualenvs/lsdp_miniproject/lib/python3.11/site-packages/pytorch_lightning/trainer/setup.py:177: GPU available but not used. You can set it by doing `Trainer(accelerator='gpu')`.\n",
      "\u001b[36m(RayTrainWorker pid=55909)\u001b[0m /Users/sidharrthnagappan/.virtualenvs/lsdp_miniproject/lib/python3.11/site-packages/pytorch_lightning/loops/utilities.py:73: `max_epochs` was not set. Setting it to 1000 epochs. To train without an epoch limit, set `max_epochs=-1`.\n"
     ]
    },
    {
     "name": "stdout",
     "output_type": "stream",
     "text": [
      "\u001b[36m(RayTrainWorker pid=55909)\u001b[0m \n"
     ]
    },
    {
     "name": "stderr",
     "output_type": "stream",
     "text": [
      "\u001b[36m(RayTrainWorker pid=55774)\u001b[0m /Users/sidharrthnagappan/.virtualenvs/lsdp_miniproject/lib/python3.11/site-packages/pytorch_lightning/trainer/connectors/data_connector.py:420: Consider setting `persistent_workers=True` in 'train_dataloader' to speed up the dataloader worker initialization.\u001b[32m [repeated 2x across cluster]\u001b[0m\n"
     ]
    },
    {
     "name": "stdout",
     "output_type": "stream",
     "text": [
      "\u001b[36m(RayTrainWorker pid=55909)\u001b[0m \n",
      "\u001b[36m(RayTrainWorker pid=55909)\u001b[0m \n",
      "\u001b[36m(RayTrainWorker pid=55909)\u001b[0m \n"
     ]
    },
    {
     "name": "stderr",
     "output_type": "stream",
     "text": [
      "100%|██████████| 28.9k/28.9k [00:00<00:00, 334kB/s]\u001b[32m [repeated 2x across cluster]\u001b[0m\n",
      "100%|██████████| 9.91M/9.91M [00:00<00:00, 10.7MB/s]\u001b[32m [repeated 7x across cluster]\u001b[0m\n"
     ]
    },
    {
     "name": "stdout",
     "output_type": "stream",
     "text": [
      "\u001b[36m(RayTrainWorker pid=55909)\u001b[0m \n"
     ]
    },
    {
     "name": "stderr",
     "output_type": "stream",
     "text": [
      "\u001b[36m(RayTrainWorker pid=55302)\u001b[0m Checkpoint successfully created at: Checkpoint(filesystem=local, path=/Users/sidharrthnagappan/ray_results/TorchTrainer_2024-12-24_17-34-19/TorchTrainer_4f4b8_00026_26_batch_size=32,dropout=0.2573,layer_1_size=128,layer_2_size=128,layer_3_size=128,learning_rate=0.0010_2024-12-24_17-34-21/checkpoint_000001)\n"
     ]
    },
    {
     "name": "stdout",
     "output_type": "stream",
     "text": [
      "\u001b[36m(RayTrainWorker pid=55909)\u001b[0m \n",
      "\u001b[36m(RayTrainWorker pid=55909)\u001b[0m Downloading http://yann.lecun.com/exdb/mnist/t10k-labels-idx1-ubyte.gz\u001b[32m [repeated 7x across cluster]\u001b[0m\n",
      "\u001b[36m(RayTrainWorker pid=55909)\u001b[0m Failed to download (trying next):\u001b[32m [repeated 3x across cluster]\u001b[0m\n",
      "\u001b[36m(RayTrainWorker pid=55909)\u001b[0m HTTP Error 403: Forbidden\u001b[32m [repeated 3x across cluster]\u001b[0m\n",
      "\u001b[36m(RayTrainWorker pid=55909)\u001b[0m Downloading https://ossci-datasets.s3.amazonaws.com/mnist/t10k-images-idx3-ubyte.gz to /var/folders/mf/cfzv46p15017stkscsq9jw9h0000gn/T/tmp0xrl8j88/MNIST/raw/t10k-images-idx3-ubyte.gz\u001b[32m [repeated 3x across cluster]\u001b[0m\n",
      "\u001b[36m(RayTrainWorker pid=55909)\u001b[0m Extracting /var/folders/mf/cfzv46p15017stkscsq9jw9h0000gn/T/tmp0xrl8j88/MNIST/raw/t10k-images-idx3-ubyte.gz to /var/folders/mf/cfzv46p15017stkscsq9jw9h0000gn/T/tmp0xrl8j88/MNIST/raw\u001b[32m [repeated 3x across cluster]\u001b[0m\n"
     ]
    },
    {
     "name": "stderr",
     "output_type": "stream",
     "text": [
      "100%|██████████| 1.65M/1.65M [00:00<00:00, 3.60MB/s]\n"
     ]
    },
    {
     "name": "stdout",
     "output_type": "stream",
     "text": [
      "\u001b[36m(RayTrainWorker pid=55909)\u001b[0m \n",
      "\u001b[36m(RayTrainWorker pid=55909)\u001b[0m \n"
     ]
    },
    {
     "name": "stderr",
     "output_type": "stream",
     "text": [
      "\u001b[36m(RayTrainWorker pid=55909)\u001b[0m \n",
      "\u001b[36m(RayTrainWorker pid=55909)\u001b[0m   | Name     | Type               | Params | Mode \n",
      "\u001b[36m(RayTrainWorker pid=55909)\u001b[0m --------------------------------------------------------\n",
      "\u001b[36m(RayTrainWorker pid=55909)\u001b[0m 0 | accuracy | MulticlassAccuracy | 0      | train\n",
      "\u001b[36m(RayTrainWorker pid=55909)\u001b[0m 1 | layer1   | Linear             | 25.1 K | train\n",
      "\u001b[36m(RayTrainWorker pid=55909)\u001b[0m 2 | layer2   | Linear             | 8.4 K  | train\n",
      "\u001b[36m(RayTrainWorker pid=55909)\u001b[0m 3 | layer3   | Linear             | 131 K  | train\n",
      "\u001b[36m(RayTrainWorker pid=55909)\u001b[0m 4 | layer4   | Linear             | 5.1 K  | train\n",
      "\u001b[36m(RayTrainWorker pid=55909)\u001b[0m 5 | dropout  | Dropout            | 0      | train\n",
      "\u001b[36m(RayTrainWorker pid=55909)\u001b[0m --------------------------------------------------------\n",
      "\u001b[36m(RayTrainWorker pid=55909)\u001b[0m 170 K     Trainable params\n",
      "\u001b[36m(RayTrainWorker pid=55909)\u001b[0m 0         Non-trainable params\n",
      "\u001b[36m(RayTrainWorker pid=55909)\u001b[0m 170 K     Total params\n",
      "\u001b[36m(RayTrainWorker pid=55909)\u001b[0m 0.681     Total estimated model params size (MB)\n",
      "\u001b[36m(RayTrainWorker pid=55909)\u001b[0m 6         Modules in train mode\n",
      "\u001b[36m(RayTrainWorker pid=55909)\u001b[0m 0         Modules in eval mode\n",
      "\u001b[36m(RayTrainWorker pid=55909)\u001b[0m /Users/sidharrthnagappan/.virtualenvs/lsdp_miniproject/lib/python3.11/site-packages/pytorch_lightning/trainer/connectors/data_connector.py:420: Consider setting `persistent_workers=True` in 'val_dataloader' to speed up the dataloader worker initialization.\n",
      "100%|██████████| 4.54k/4.54k [00:00<00:00, 541kB/s]\u001b[32m [repeated 2x across cluster]\u001b[0m\n",
      " 48%|████▊     | 786k/1.65M [00:00<00:00, 2.71MB/s]\u001b[32m [repeated 3x across cluster]\u001b[0m\n",
      "\u001b[36m(RayTrainWorker pid=55909)\u001b[0m /Users/sidharrthnagappan/.virtualenvs/lsdp_miniproject/lib/python3.11/site-packages/pytorch_lightning/trainer/connectors/data_connector.py:420: Consider setting `persistent_workers=True` in 'train_dataloader' to speed up the dataloader worker initialization.\n",
      "\u001b[36m(RayTrainWorker pid=55749)\u001b[0m Checkpoint successfully created at: Checkpoint(filesystem=local, path=/Users/sidharrthnagappan/ray_results/TorchTrainer_2024-12-24_17-34-19/TorchTrainer_4f4b8_00029_29_batch_size=32,dropout=0.2170,layer_1_size=64,layer_2_size=64,layer_3_size=256,learning_rate=0.0003_2024-12-24_17-34-21/checkpoint_000000)\u001b[32m [repeated 2x across cluster]\u001b[0m\n",
      "\u001b[36m(RayTrainWorker pid=55748)\u001b[0m Traceback (most recent call last):\n",
      "\u001b[36m(RayTrainWorker pid=55748)\u001b[0m   File \"<string>\", line 1, in <module>\n",
      "\u001b[36m(RayTrainWorker pid=55748)\u001b[0m   File \"/Users/sidharrthnagappan/.pyenv/versions/3.11.0/lib/python3.11/multiprocessing/spawn.py\", line 120, in spawn_main\n",
      "\u001b[36m(RayTrainWorker pid=55748)\u001b[0m     exitcode = _main(fd, parent_sentinel)\n",
      "\u001b[36m(RayTrainWorker pid=55748)\u001b[0m                ^^^^^^^^^^^^^^^^^^^^^^^^^^\n",
      "\u001b[36m(RayTrainWorker pid=55748)\u001b[0m   File \"/Users/sidharrthnagappan/.pyenv/versions/3.11.0/lib/python3.11/multiprocessing/spawn.py\", line 130, in _main\n",
      "\u001b[36m(RayTrainWorker pid=55748)\u001b[0m     self = reduction.pickle.load(from_parent)\n",
      "\u001b[36m(RayTrainWorker pid=55748)\u001b[0m            ^^^^^^^^^^^^^^^^^^^^^^^^^^^^^^^^^^\n",
      "\u001b[36m(RayTrainWorker pid=55748)\u001b[0m _pickle.UnpicklingError: pickle data was truncated\n",
      "\u001b[36m(RayTrainWorker pid=55774)\u001b[0m Checkpoint successfully created at: Checkpoint(filesystem=local, path=/Users/sidharrthnagappan/ray_results/TorchTrainer_2024-12-24_17-34-19/TorchTrainer_4f4b8_00030_30_batch_size=128,dropout=0.1267,layer_1_size=64,layer_2_size=256,layer_3_size=128,learning_rate=0.0072_2024-12-24_17-34-21/checkpoint_000001)\u001b[32m [repeated 2x across cluster]\u001b[0m\n",
      "\u001b[36m(RayTrainWorker pid=55748)\u001b[0m /Users/sidharrthnagappan/.pyenv/versions/3.11.0/lib/python3.11/multiprocessing/resource_tracker.py:224: UserWarning: resource_tracker: There appear to be 55 leaked semaphore objects to clean up at shutdown\n",
      "\u001b[36m(RayTrainWorker pid=55748)\u001b[0m   warnings.warn('resource_tracker: There appear to be %d '\n",
      "\u001b[36m(RayTrainWorker pid=55774)\u001b[0m Traceback (most recent call last):\n",
      "\u001b[36m(RayTrainWorker pid=55774)\u001b[0m   File \"<string>\", line 1, in <module>\n",
      "\u001b[36m(RayTrainWorker pid=55774)\u001b[0m   File \"/Users/sidharrthnagappan/.pyenv/versions/3.11.0/lib/python3.11/multiprocessing/spawn.py\", line 120, in spawn_main\n",
      "\u001b[36m(RayTrainWorker pid=55774)\u001b[0m     exitcode = _main(fd, parent_sentinel)\n",
      "\u001b[36m(RayTrainWorker pid=55774)\u001b[0m                ^^^^^^^^^^^^^^^^^^^^^^^^^^\n",
      "\u001b[36m(RayTrainWorker pid=55774)\u001b[0m   File \"/Users/sidharrthnagappan/.pyenv/versions/3.11.0/lib/python3.11/multiprocessing/spawn.py\", line 130, in _main\n",
      "\u001b[36m(RayTrainWorker pid=55774)\u001b[0m     self = reduction.pickle.load(from_parent)\n",
      "\u001b[36m(RayTrainWorker pid=55774)\u001b[0m            ^^^^^^^^^^^^^^^^^^^^^^^^^^^^^^^^^^\n",
      "\u001b[36m(RayTrainWorker pid=55774)\u001b[0m _pickle.UnpicklingError: pickle data was truncated\n",
      "\u001b[36m(RayTrainWorker pid=55909)\u001b[0m Checkpoint successfully created at: Checkpoint(filesystem=local, path=/Users/sidharrthnagappan/ray_results/TorchTrainer_2024-12-24_17-34-19/TorchTrainer_4f4b8_00031_31_batch_size=64,dropout=0.1199,layer_1_size=32,layer_2_size=256,layer_3_size=512,learning_rate=0.0423_2024-12-24_17-34-21/checkpoint_000000)\n",
      "\u001b[36m(RayTrainWorker pid=55909)\u001b[0m Traceback (most recent call last):\n",
      "\u001b[36m(RayTrainWorker pid=55909)\u001b[0m   File \"<string>\", line 1, in <module>\n",
      "\u001b[36m(RayTrainWorker pid=55909)\u001b[0m   File \"/Users/sidharrthnagappan/.pyenv/versions/3.11.0/lib/python3.11/multiprocessing/spawn.py\", line 120, in spawn_main\n",
      "\u001b[36m(RayTrainWorker pid=55909)\u001b[0m     exitcode = _main(fd, parent_sentinel)\n",
      "\u001b[36m(RayTrainWorker pid=55909)\u001b[0m                ^^^^^^^^^^^^^^^^^^^^^^^^^^\n",
      "\u001b[36m(RayTrainWorker pid=55909)\u001b[0m   File \"/Users/sidharrthnagappan/.pyenv/versions/3.11.0/lib/python3.11/multiprocessing/spawn.py\", line 130, in _main\n",
      "\u001b[36m(RayTrainWorker pid=55909)\u001b[0m     self = reduction.pickle.load(from_parent)\n",
      "\u001b[36m(RayTrainWorker pid=55909)\u001b[0m            ^^^^^^^^^^^^^^^^^^^^^^^^^^^^^^^^^^\n",
      "\u001b[36m(RayTrainWorker pid=55909)\u001b[0m _pickle.UnpicklingError: pickle data was truncated\n",
      "\u001b[36m(RayTrainWorker pid=55302)\u001b[0m Checkpoint successfully created at: Checkpoint(filesystem=local, path=/Users/sidharrthnagappan/ray_results/TorchTrainer_2024-12-24_17-34-19/TorchTrainer_4f4b8_00026_26_batch_size=32,dropout=0.2573,layer_1_size=128,layer_2_size=128,layer_3_size=128,learning_rate=0.0010_2024-12-24_17-34-21/checkpoint_000002)\n",
      "\u001b[36m(TorchTrainer pid=56302)\u001b[0m Started distributed worker processes: \n",
      "\u001b[36m(TorchTrainer pid=56302)\u001b[0m - (node_id=7cc2334a334327f410131b140fb9ad2ae54820f537299598f92261b4, ip=127.0.0.1, pid=56410) world_rank=0, local_rank=0, node_rank=0\n",
      "\u001b[36m(RayTrainWorker pid=55774)\u001b[0m /Users/sidharrthnagappan/.pyenv/versions/3.11.0/lib/python3.11/multiprocessing/resource_tracker.py:224: UserWarning: resource_tracker: There appear to be 55 leaked semaphore objects to clean up at shutdown\n",
      "\u001b[36m(RayTrainWorker pid=55774)\u001b[0m   warnings.warn('resource_tracker: There appear to be %d '\n",
      "\u001b[36m(RayTrainWorker pid=56410)\u001b[0m Setting up process group for: env:// [rank=0, world_size=1]\n"
     ]
    },
    {
     "name": "stdout",
     "output_type": "stream",
     "text": [
      "\u001b[36m(RayTrainWorker pid=56410)\u001b[0m printing config {'layer_1_size': 128, 'layer_2_size': 64, 'layer_3_size': 512, 'dropout': 0.11368157681297185, 'batch_size': 64, 'learning_rate': 0.029065376897065908}\n",
      "\u001b[36m(RayTrainWorker pid=55909)\u001b[0m Downloading https://ossci-datasets.s3.amazonaws.com/mnist/t10k-labels-idx1-ubyte.gz\n",
      "\u001b[36m(RayTrainWorker pid=55909)\u001b[0m Failed to download (trying next):\n",
      "\u001b[36m(RayTrainWorker pid=55909)\u001b[0m HTTP Error 403: Forbidden\n",
      "\u001b[36m(RayTrainWorker pid=55909)\u001b[0m Downloading https://ossci-datasets.s3.amazonaws.com/mnist/t10k-labels-idx1-ubyte.gz to /var/folders/mf/cfzv46p15017stkscsq9jw9h0000gn/T/tmp0xrl8j88/MNIST/raw/t10k-labels-idx1-ubyte.gz\n",
      "\u001b[36m(RayTrainWorker pid=55909)\u001b[0m Extracting /var/folders/mf/cfzv46p15017stkscsq9jw9h0000gn/T/tmp0xrl8j88/MNIST/raw/t10k-labels-idx1-ubyte.gz to /var/folders/mf/cfzv46p15017stkscsq9jw9h0000gn/T/tmp0xrl8j88/MNIST/raw\n",
      "\u001b[36m(RayTrainWorker pid=56410)\u001b[0m Downloading http://yann.lecun.com/exdb/mnist/train-images-idx3-ubyte.gz\n"
     ]
    },
    {
     "name": "stderr",
     "output_type": "stream",
     "text": [
      "\u001b[36m(RayTrainWorker pid=56410)\u001b[0m GPU available: True (mps), used: False\n",
      "\u001b[36m(RayTrainWorker pid=56410)\u001b[0m TPU available: False, using: 0 TPU cores\n",
      "\u001b[36m(RayTrainWorker pid=56410)\u001b[0m HPU available: False, using: 0 HPUs\n",
      "\u001b[36m(RayTrainWorker pid=56410)\u001b[0m /Users/sidharrthnagappan/.virtualenvs/lsdp_miniproject/lib/python3.11/site-packages/pytorch_lightning/trainer/setup.py:177: GPU available but not used. You can set it by doing `Trainer(accelerator='gpu')`.\n",
      "\u001b[36m(RayTrainWorker pid=56410)\u001b[0m /Users/sidharrthnagappan/.virtualenvs/lsdp_miniproject/lib/python3.11/site-packages/pytorch_lightning/loops/utilities.py:73: `max_epochs` was not set. Setting it to 1000 epochs. To train without an epoch limit, set `max_epochs=-1`.\n"
     ]
    },
    {
     "name": "stdout",
     "output_type": "stream",
     "text": [
      "\u001b[36m(RayTrainWorker pid=56410)\u001b[0m Failed to download (trying next):\n",
      "\u001b[36m(RayTrainWorker pid=56410)\u001b[0m HTTP Error 403: Forbidden\n",
      "\u001b[36m(RayTrainWorker pid=56410)\u001b[0m \n",
      "\u001b[36m(RayTrainWorker pid=56410)\u001b[0m Downloading https://ossci-datasets.s3.amazonaws.com/mnist/train-images-idx3-ubyte.gz\n",
      "\u001b[36m(RayTrainWorker pid=56410)\u001b[0m Downloading https://ossci-datasets.s3.amazonaws.com/mnist/train-images-idx3-ubyte.gz to /var/folders/mf/cfzv46p15017stkscsq9jw9h0000gn/T/tmpurwzkfl9/MNIST/raw/train-images-idx3-ubyte.gz\n"
     ]
    },
    {
     "name": "stderr",
     "output_type": "stream",
     "text": [
      "  0%|          | 0.00/9.91M [00:00<?, ?B/s]\n",
      "  1%|          | 65.5k/9.91M [00:00<00:24, 395kB/s]\n",
      "  3%|▎         | 262k/9.91M [00:00<00:11, 853kB/s] \n",
      " 11%|█         | 1.05M/9.91M [00:00<00:03, 2.58MB/s]\n",
      " 15%|█▍        | 1.44M/9.91M [00:00<00:02, 2.93MB/s]\n",
      " 42%|████▏     | 4.13M/9.91M [00:00<00:00, 8.30MB/s]\n",
      " 54%|█████▍    | 5.34M/9.91M [00:00<00:00, 9.28MB/s]\n",
      " 70%|██████▉   | 6.91M/9.91M [00:00<00:00, 11.0MB/s]\n",
      " 84%|████████▎ | 8.29M/9.91M [00:01<00:00, 10.6MB/s]\n",
      " 96%|█████████▌| 9.50M/9.91M [00:01<00:00, 10.9MB/s]\n",
      "100%|██████████| 9.91M/9.91M [00:01<00:00, 8.05MB/s]\n"
     ]
    },
    {
     "name": "stdout",
     "output_type": "stream",
     "text": [
      "\u001b[36m(RayTrainWorker pid=56410)\u001b[0m Extracting /var/folders/mf/cfzv46p15017stkscsq9jw9h0000gn/T/tmpurwzkfl9/MNIST/raw/train-images-idx3-ubyte.gz to /var/folders/mf/cfzv46p15017stkscsq9jw9h0000gn/T/tmpurwzkfl9/MNIST/raw\n",
      "\u001b[36m(RayTrainWorker pid=56410)\u001b[0m \n",
      "\u001b[36m(RayTrainWorker pid=56410)\u001b[0m Downloading http://yann.lecun.com/exdb/mnist/train-labels-idx1-ubyte.gz\n",
      "\u001b[36m(RayTrainWorker pid=56410)\u001b[0m Failed to download (trying next):\n",
      "\u001b[36m(RayTrainWorker pid=56410)\u001b[0m HTTP Error 403: Forbidden\n",
      "\u001b[36m(RayTrainWorker pid=56410)\u001b[0m \n",
      "\u001b[36m(RayTrainWorker pid=56410)\u001b[0m Downloading https://ossci-datasets.s3.amazonaws.com/mnist/train-labels-idx1-ubyte.gz to /var/folders/mf/cfzv46p15017stkscsq9jw9h0000gn/T/tmpurwzkfl9/MNIST/raw/train-labels-idx1-ubyte.gz\n",
      "\u001b[36m(RayTrainWorker pid=56481)\u001b[0m \n"
     ]
    },
    {
     "name": "stderr",
     "output_type": "stream",
     "text": [
      "\u001b[36m(RayTrainWorker pid=55909)\u001b[0m /Users/sidharrthnagappan/.pyenv/versions/3.11.0/lib/python3.11/multiprocessing/resource_tracker.py:224: UserWarning: resource_tracker: There appear to be 55 leaked semaphore objects to clean up at shutdown\n",
      "\u001b[36m(RayTrainWorker pid=55909)\u001b[0m   warnings.warn('resource_tracker: There appear to be %d '\n",
      "  0%|          | 0.00/28.9k [00:00<?, ?B/s]\n",
      "100%|██████████| 28.9k/28.9k [00:00<00:00, 341kB/s]\n"
     ]
    },
    {
     "name": "stdout",
     "output_type": "stream",
     "text": [
      "\u001b[36m(RayTrainWorker pid=56410)\u001b[0m Extracting /var/folders/mf/cfzv46p15017stkscsq9jw9h0000gn/T/tmpurwzkfl9/MNIST/raw/train-labels-idx1-ubyte.gz to /var/folders/mf/cfzv46p15017stkscsq9jw9h0000gn/T/tmpurwzkfl9/MNIST/raw\n",
      "\u001b[36m(RayTrainWorker pid=56410)\u001b[0m \n"
     ]
    },
    {
     "name": "stderr",
     "output_type": "stream",
     "text": [
      "\u001b[36m(TorchTrainer pid=56369)\u001b[0m Started distributed worker processes: \n",
      "\u001b[36m(TorchTrainer pid=56369)\u001b[0m - (node_id=7cc2334a334327f410131b140fb9ad2ae54820f537299598f92261b4, ip=127.0.0.1, pid=56481) world_rank=0, local_rank=0, node_rank=0\n",
      "\u001b[36m(RayTrainWorker pid=56481)\u001b[0m Setting up process group for: env:// [rank=0, world_size=1]\n"
     ]
    },
    {
     "name": "stdout",
     "output_type": "stream",
     "text": [
      "\u001b[36m(RayTrainWorker pid=56410)\u001b[0m \n"
     ]
    },
    {
     "name": "stderr",
     "output_type": "stream",
     "text": [
      "\u001b[36m(RayTrainWorker pid=55749)\u001b[0m Checkpoint successfully created at: Checkpoint(filesystem=local, path=/Users/sidharrthnagappan/ray_results/TorchTrainer_2024-12-24_17-34-19/TorchTrainer_4f4b8_00029_29_batch_size=32,dropout=0.2170,layer_1_size=64,layer_2_size=64,layer_3_size=256,learning_rate=0.0003_2024-12-24_17-34-21/checkpoint_000001)\n",
      "\u001b[36m(RayTrainWorker pid=55749)\u001b[0m Traceback (most recent call last):\n",
      "\u001b[36m(RayTrainWorker pid=55749)\u001b[0m   File \"<string>\", line 1, in <module>\n",
      "\u001b[36m(RayTrainWorker pid=55749)\u001b[0m   File \"/Users/sidharrthnagappan/.pyenv/versions/3.11.0/lib/python3.11/multiprocessing/spawn.py\", line 120, in spawn_main\n",
      "\u001b[36m(RayTrainWorker pid=55749)\u001b[0m     exitcode = _main(fd, parent_sentinel)\n",
      "\u001b[36m(RayTrainWorker pid=55749)\u001b[0m                ^^^^^^^^^^^^^^^^^^^^^^^^^^\n",
      "\u001b[36m(RayTrainWorker pid=55749)\u001b[0m   File \"/Users/sidharrthnagappan/.pyenv/versions/3.11.0/lib/python3.11/multiprocessing/spawn.py\", line 130, in _main\n",
      "\u001b[36m(RayTrainWorker pid=55749)\u001b[0m     self = reduction.pickle.load(from_parent)\n",
      "\u001b[36m(RayTrainWorker pid=55749)\u001b[0m            ^^^^^^^^^^^^^^^^^^^^^^^^^^^^^^^^^^\n",
      "\u001b[36m(RayTrainWorker pid=55749)\u001b[0m _pickle.UnpicklingError: pickle data was truncated\n",
      "\u001b[36m(RayTrainWorker pid=56481)\u001b[0m GPU available: True (mps), used: False\n",
      "\u001b[36m(RayTrainWorker pid=56481)\u001b[0m TPU available: False, using: 0 TPU cores\n",
      "\u001b[36m(RayTrainWorker pid=56481)\u001b[0m HPU available: False, using: 0 HPUs\n",
      "\u001b[36m(RayTrainWorker pid=56481)\u001b[0m /Users/sidharrthnagappan/.virtualenvs/lsdp_miniproject/lib/python3.11/site-packages/pytorch_lightning/trainer/setup.py:177: GPU available but not used. You can set it by doing `Trainer(accelerator='gpu')`.\n",
      "\u001b[36m(RayTrainWorker pid=56481)\u001b[0m /Users/sidharrthnagappan/.virtualenvs/lsdp_miniproject/lib/python3.11/site-packages/pytorch_lightning/loops/utilities.py:73: `max_epochs` was not set. Setting it to 1000 epochs. To train without an epoch limit, set `max_epochs=-1`.\n"
     ]
    },
    {
     "name": "stdout",
     "output_type": "stream",
     "text": [
      "\u001b[36m(RayTrainWorker pid=56481)\u001b[0m \n",
      "\u001b[36m(RayTrainWorker pid=56410)\u001b[0m \n",
      "\u001b[36m(RayTrainWorker pid=56481)\u001b[0m printing config {'layer_1_size': 32, 'layer_2_size': 64, 'layer_3_size': 512, 'dropout': 0.21635566512546026, 'batch_size': 128, 'learning_rate': 0.0009346762863871827}\n",
      "\u001b[36m(RayTrainWorker pid=56410)\u001b[0m Downloading http://yann.lecun.com/exdb/mnist/t10k-labels-idx1-ubyte.gz\u001b[32m [repeated 7x across cluster]\u001b[0m\n",
      "\u001b[36m(RayTrainWorker pid=56481)\u001b[0m \n"
     ]
    },
    {
     "name": "stderr",
     "output_type": "stream",
     "text": [
      "100%|██████████| 1.65M/1.65M [00:00<00:00, 3.23MB/s]\n",
      "\u001b[36m(TorchTrainer pid=56482)\u001b[0m Started distributed worker processes: \n",
      "\u001b[36m(TorchTrainer pid=56482)\u001b[0m - (node_id=7cc2334a334327f410131b140fb9ad2ae54820f537299598f92261b4, ip=127.0.0.1, pid=56542) world_rank=0, local_rank=0, node_rank=0\n",
      "\u001b[36m(RayTrainWorker pid=56542)\u001b[0m Setting up process group for: env:// [rank=0, world_size=1]\n"
     ]
    },
    {
     "name": "stdout",
     "output_type": "stream",
     "text": [
      "\u001b[36m(RayTrainWorker pid=56481)\u001b[0m Failed to download (trying next):\u001b[32m [repeated 3x across cluster]\u001b[0m\n",
      "\u001b[36m(RayTrainWorker pid=56481)\u001b[0m HTTP Error 403: Forbidden\u001b[32m [repeated 3x across cluster]\u001b[0m\n",
      "\u001b[36m(RayTrainWorker pid=56410)\u001b[0m \n",
      "\u001b[36m(RayTrainWorker pid=56481)\u001b[0m Downloading https://ossci-datasets.s3.amazonaws.com/mnist/train-labels-idx1-ubyte.gz to /var/folders/mf/cfzv46p15017stkscsq9jw9h0000gn/T/tmp6xuf7bsb/MNIST/raw/train-labels-idx1-ubyte.gz\u001b[32m [repeated 3x across cluster]\u001b[0m\n"
     ]
    },
    {
     "name": "stderr",
     "output_type": "stream",
     "text": [
      "100%|██████████| 28.9k/28.9k [00:00<00:00, 332kB/s]\n"
     ]
    },
    {
     "name": "stdout",
     "output_type": "stream",
     "text": [
      "\u001b[36m(RayTrainWorker pid=56481)\u001b[0m \n"
     ]
    },
    {
     "name": "stderr",
     "output_type": "stream",
     "text": [
      "\u001b[36m(RayTrainWorker pid=56542)\u001b[0m GPU available: True (mps), used: False\n",
      "\u001b[36m(RayTrainWorker pid=56542)\u001b[0m TPU available: False, using: 0 TPU cores\n",
      "\u001b[36m(RayTrainWorker pid=56542)\u001b[0m HPU available: False, using: 0 HPUs\n",
      "\u001b[36m(RayTrainWorker pid=56542)\u001b[0m /Users/sidharrthnagappan/.virtualenvs/lsdp_miniproject/lib/python3.11/site-packages/pytorch_lightning/trainer/setup.py:177: GPU available but not used. You can set it by doing `Trainer(accelerator='gpu')`.\n",
      "\u001b[36m(RayTrainWorker pid=56542)\u001b[0m /Users/sidharrthnagappan/.virtualenvs/lsdp_miniproject/lib/python3.11/site-packages/pytorch_lightning/loops/utilities.py:73: `max_epochs` was not set. Setting it to 1000 epochs. To train without an epoch limit, set `max_epochs=-1`.\n",
      "  0%|          | 0.00/28.9k [00:00<?, ?B/s]\u001b[32m [repeated 3x across cluster]\u001b[0m\n",
      " 22%|██▏       | 360k/1.65M [00:00<00:01, 1.19MB/s]\u001b[32m [repeated 9x across cluster]\u001b[0m\n",
      "\u001b[36m(RayTrainWorker pid=56410)\u001b[0m \n",
      "\u001b[36m(RayTrainWorker pid=56410)\u001b[0m   | Name     | Type               | Params | Mode \n",
      "\u001b[36m(RayTrainWorker pid=56410)\u001b[0m --------------------------------------------------------\n",
      "\u001b[36m(RayTrainWorker pid=56410)\u001b[0m 0 | accuracy | MulticlassAccuracy | 0      | train\n",
      "\u001b[36m(RayTrainWorker pid=56410)\u001b[0m 1 | layer1   | Linear             | 100 K  | train\n",
      "\u001b[36m(RayTrainWorker pid=56410)\u001b[0m 2 | layer2   | Linear             | 8.3 K  | train\n",
      "\u001b[36m(RayTrainWorker pid=56410)\u001b[0m 3 | layer3   | Linear             | 33.3 K | train\n",
      "\u001b[36m(RayTrainWorker pid=56410)\u001b[0m 4 | layer4   | Linear             | 5.1 K  | train\n",
      "\u001b[36m(RayTrainWorker pid=56410)\u001b[0m 5 | dropout  | Dropout            | 0      | train\n",
      "\u001b[36m(RayTrainWorker pid=56410)\u001b[0m --------------------------------------------------------\n",
      "\u001b[36m(RayTrainWorker pid=56410)\u001b[0m 147 K     Trainable params\n",
      "\u001b[36m(RayTrainWorker pid=56410)\u001b[0m 0         Non-trainable params\n",
      "\u001b[36m(RayTrainWorker pid=56410)\u001b[0m 147 K     Total params\n",
      "\u001b[36m(RayTrainWorker pid=56410)\u001b[0m 0.589     Total estimated model params size (MB)\n",
      "\u001b[36m(RayTrainWorker pid=56410)\u001b[0m 6         Modules in train mode\n",
      "\u001b[36m(RayTrainWorker pid=56410)\u001b[0m 0         Modules in eval mode\n",
      "\u001b[36m(RayTrainWorker pid=56410)\u001b[0m /Users/sidharrthnagappan/.virtualenvs/lsdp_miniproject/lib/python3.11/site-packages/pytorch_lightning/trainer/connectors/data_connector.py:420: Consider setting `persistent_workers=True` in 'val_dataloader' to speed up the dataloader worker initialization.\n"
     ]
    },
    {
     "name": "stdout",
     "output_type": "stream",
     "text": [
      "\u001b[36m(RayTrainWorker pid=56542)\u001b[0m printing config {'layer_1_size': 128, 'layer_2_size': 64, 'layer_3_size': 128, 'dropout': 0.2389097471313951, 'batch_size': 128, 'learning_rate': 0.00245666823916289}\n",
      "\u001b[36m(RayTrainWorker pid=56410)\u001b[0m \n",
      "\u001b[36m(RayTrainWorker pid=56481)\u001b[0m \n",
      "\u001b[36m(RayTrainWorker pid=56542)\u001b[0m \n"
     ]
    },
    {
     "name": "stderr",
     "output_type": "stream",
     "text": [
      "100%|██████████| 1.65M/1.65M [00:00<00:00, 3.18MB/s]\n"
     ]
    },
    {
     "name": "stdout",
     "output_type": "stream",
     "text": [
      "\u001b[36m(RayTrainWorker pid=56481)\u001b[0m \n",
      "\u001b[36m(RayTrainWorker pid=56481)\u001b[0m Extracting /var/folders/mf/cfzv46p15017stkscsq9jw9h0000gn/T/tmp6xuf7bsb/MNIST/raw/t10k-images-idx3-ubyte.gz to /var/folders/mf/cfzv46p15017stkscsq9jw9h0000gn/T/tmp6xuf7bsb/MNIST/raw\u001b[32m [repeated 5x across cluster]\u001b[0m\n",
      "\u001b[36m(RayTrainWorker pid=56481)\u001b[0m \n"
     ]
    },
    {
     "name": "stderr",
     "output_type": "stream",
     "text": [
      "100%|██████████| 9.91M/9.91M [00:01<00:00, 8.53MB/s]\n"
     ]
    },
    {
     "name": "stdout",
     "output_type": "stream",
     "text": [
      "\u001b[36m(RayTrainWorker pid=56542)\u001b[0m \n",
      "\u001b[36m(RayTrainWorker pid=56481)\u001b[0m \n"
     ]
    },
    {
     "name": "stderr",
     "output_type": "stream",
     "text": [
      "\u001b[36m(RayTrainWorker pid=56481)\u001b[0m \n"
     ]
    },
    {
     "name": "stdout",
     "output_type": "stream",
     "text": [
      "\u001b[36m(RayTrainWorker pid=56542)\u001b[0m \n"
     ]
    },
    {
     "name": "stderr",
     "output_type": "stream",
     "text": [
      "\u001b[36m(RayTrainWorker pid=56410)\u001b[0m /Users/sidharrthnagappan/.virtualenvs/lsdp_miniproject/lib/python3.11/site-packages/pytorch_lightning/trainer/connectors/data_connector.py:420: Consider setting `persistent_workers=True` in 'train_dataloader' to speed up the dataloader worker initialization.\n"
     ]
    },
    {
     "name": "stdout",
     "output_type": "stream",
     "text": [
      "\u001b[36m(RayTrainWorker pid=56542)\u001b[0m \n",
      "\u001b[36m(RayTrainWorker pid=56542)\u001b[0m \n",
      "\u001b[36m(RayTrainWorker pid=56542)\u001b[0m Downloading https://ossci-datasets.s3.amazonaws.com/mnist/t10k-images-idx3-ubyte.gz\u001b[32m [repeated 12x across cluster]\u001b[0m\n"
     ]
    },
    {
     "name": "stderr",
     "output_type": "stream",
     "text": [
      "\u001b[36m(RayTrainWorker pid=55749)\u001b[0m /Users/sidharrthnagappan/.pyenv/versions/3.11.0/lib/python3.11/multiprocessing/resource_tracker.py:224: UserWarning: resource_tracker: There appear to be 55 leaked semaphore objects to clean up at shutdown\n",
      "\u001b[36m(RayTrainWorker pid=55749)\u001b[0m   warnings.warn('resource_tracker: There appear to be %d '\n"
     ]
    },
    {
     "name": "stdout",
     "output_type": "stream",
     "text": [
      "\u001b[36m(RayTrainWorker pid=56542)\u001b[0m Failed to download (trying next):\u001b[32m [repeated 6x across cluster]\u001b[0m\n",
      "\u001b[36m(RayTrainWorker pid=56542)\u001b[0m HTTP Error 403: Forbidden\u001b[32m [repeated 6x across cluster]\u001b[0m\n"
     ]
    },
    {
     "name": "stderr",
     "output_type": "stream",
     "text": [
      "\u001b[36m(RayTrainWorker pid=55302)\u001b[0m Checkpoint successfully created at: Checkpoint(filesystem=local, path=/Users/sidharrthnagappan/ray_results/TorchTrainer_2024-12-24_17-34-19/TorchTrainer_4f4b8_00026_26_batch_size=32,dropout=0.2573,layer_1_size=128,layer_2_size=128,layer_3_size=128,learning_rate=0.0010_2024-12-24_17-34-21/checkpoint_000003)\n",
      "  0%|          | 0.00/1.65M [00:00<?, ?B/s]\u001b[32m [repeated 6x across cluster]\u001b[0m\n",
      " 46%|████▌     | 754k/1.65M [00:00<00:00, 2.23MB/s]\u001b[32m [repeated 13x across cluster]\u001b[0m\n",
      "\u001b[36m(RayTrainWorker pid=55302)\u001b[0m Traceback (most recent call last):\n",
      "\u001b[36m(RayTrainWorker pid=55302)\u001b[0m   File \"<string>\", line 1, in <module>\n",
      "\u001b[36m(RayTrainWorker pid=55302)\u001b[0m   File \"/Users/sidharrthnagappan/.pyenv/versions/3.11.0/lib/python3.11/multiprocessing/spawn.py\", line 120, in spawn_main\n",
      "\u001b[36m(RayTrainWorker pid=55302)\u001b[0m     exitcode = _main(fd, parent_sentinel)\n",
      "\u001b[36m(RayTrainWorker pid=55302)\u001b[0m                ^^^^^^^^^^^^^^^^^^^^^^^^^^\n",
      "\u001b[36m(RayTrainWorker pid=55302)\u001b[0m   File \"/Users/sidharrthnagappan/.pyenv/versions/3.11.0/lib/python3.11/multiprocessing/spawn.py\", line 130, in _main\n",
      "\u001b[36m(RayTrainWorker pid=55302)\u001b[0m     self = reduction.pickle.load(from_parent)\n",
      "\u001b[36m(RayTrainWorker pid=55302)\u001b[0m            ^^^^^^^^^^^^^^^^^^^^^^^^^^^^^^^^^^\n",
      "\u001b[36m(RayTrainWorker pid=55302)\u001b[0m _pickle.UnpicklingError: pickle data was truncated\n",
      "\u001b[36m(RayTrainWorker pid=56481)\u001b[0m   | Name     | Type               | Params | Mode \n",
      "\u001b[36m(RayTrainWorker pid=56481)\u001b[0m --------------------------------------------------------\u001b[32m [repeated 2x across cluster]\u001b[0m\n",
      "\u001b[36m(RayTrainWorker pid=56481)\u001b[0m 0 | accuracy | MulticlassAccuracy | 0      | train\n",
      "\u001b[36m(RayTrainWorker pid=56481)\u001b[0m 4 | layer4   | Linear             | 5.1 K  | train\u001b[32m [repeated 4x across cluster]\u001b[0m\n",
      "\u001b[36m(RayTrainWorker pid=56481)\u001b[0m 5 | dropout  | Dropout            | 0      | train\n",
      "\u001b[36m(RayTrainWorker pid=56481)\u001b[0m 65.6 K    Trainable params\n",
      "\u001b[36m(RayTrainWorker pid=56481)\u001b[0m 0         Non-trainable params\n",
      "\u001b[36m(RayTrainWorker pid=56481)\u001b[0m 65.6 K    Total params\n",
      "\u001b[36m(RayTrainWorker pid=56481)\u001b[0m 0.263     Total estimated model params size (MB)\n",
      "\u001b[36m(RayTrainWorker pid=56481)\u001b[0m 6         Modules in train mode\n",
      "\u001b[36m(RayTrainWorker pid=56481)\u001b[0m 0         Modules in eval mode\n",
      "\u001b[36m(RayTrainWorker pid=56481)\u001b[0m /Users/sidharrthnagappan/.virtualenvs/lsdp_miniproject/lib/python3.11/site-packages/pytorch_lightning/trainer/connectors/data_connector.py:420: Consider setting `persistent_workers=True` in 'val_dataloader' to speed up the dataloader worker initialization.\n",
      "100%|██████████| 1.65M/1.65M [00:00<00:00, 3.27MB/s]\n"
     ]
    },
    {
     "name": "stdout",
     "output_type": "stream",
     "text": [
      "\u001b[36m(RayTrainWorker pid=56542)\u001b[0m \n",
      "\u001b[36m(RayTrainWorker pid=56542)\u001b[0m Downloading https://ossci-datasets.s3.amazonaws.com/mnist/t10k-images-idx3-ubyte.gz to /var/folders/mf/cfzv46p15017stkscsq9jw9h0000gn/T/tmpr16z8p18/MNIST/raw/t10k-images-idx3-ubyte.gz\u001b[32m [repeated 6x across cluster]\u001b[0m\n",
      "\u001b[36m(RayTrainWorker pid=56542)\u001b[0m \n"
     ]
    },
    {
     "name": "stderr",
     "output_type": "stream",
     "text": [
      "\u001b[36m(RayTrainWorker pid=56542)\u001b[0m \n",
      "\u001b[36m(RayTrainWorker pid=56542)\u001b[0m   | Name     | Type               | Params | Mode \n",
      "\u001b[36m(RayTrainWorker pid=56542)\u001b[0m 0 | accuracy | MulticlassAccuracy | 0      | train\n",
      "\u001b[36m(RayTrainWorker pid=56542)\u001b[0m 5 | dropout  | Dropout            | 0      | train\n",
      "\u001b[36m(RayTrainWorker pid=56542)\u001b[0m 118 K     Trainable params\n",
      "\u001b[36m(RayTrainWorker pid=56542)\u001b[0m 0         Non-trainable params\n",
      "\u001b[36m(RayTrainWorker pid=56542)\u001b[0m 118 K     Total params\n",
      "\u001b[36m(RayTrainWorker pid=56542)\u001b[0m 0.473     Total estimated model params size (MB)\n",
      "\u001b[36m(RayTrainWorker pid=56542)\u001b[0m 6         Modules in train mode\n",
      "\u001b[36m(RayTrainWorker pid=56542)\u001b[0m 0         Modules in eval mode\n",
      "\u001b[36m(RayTrainWorker pid=56542)\u001b[0m /Users/sidharrthnagappan/.virtualenvs/lsdp_miniproject/lib/python3.11/site-packages/pytorch_lightning/trainer/connectors/data_connector.py:420: Consider setting `persistent_workers=True` in 'val_dataloader' to speed up the dataloader worker initialization.\n"
     ]
    },
    {
     "name": "stdout",
     "output_type": "stream",
     "text": [
      "\u001b[36m(RayTrainWorker pid=56542)\u001b[0m \n",
      "\u001b[36m(RayTrainWorker pid=56542)\u001b[0m Extracting /var/folders/mf/cfzv46p15017stkscsq9jw9h0000gn/T/tmpr16z8p18/MNIST/raw/t10k-labels-idx1-ubyte.gz to /var/folders/mf/cfzv46p15017stkscsq9jw9h0000gn/T/tmpr16z8p18/MNIST/raw\u001b[32m [repeated 5x across cluster]\u001b[0m\n"
     ]
    },
    {
     "name": "stderr",
     "output_type": "stream",
     "text": [
      "\u001b[36m(RayTrainWorker pid=56664)\u001b[0m Setting up process group for: env:// [rank=0, world_size=1]\n",
      "\u001b[36m(RayTrainWorker pid=56481)\u001b[0m /Users/sidharrthnagappan/.virtualenvs/lsdp_miniproject/lib/python3.11/site-packages/pytorch_lightning/trainer/connectors/data_connector.py:420: Consider setting `persistent_workers=True` in 'train_dataloader' to speed up the dataloader worker initialization.\n",
      "\u001b[36m(TorchTrainer pid=56577)\u001b[0m Started distributed worker processes: \n",
      "\u001b[36m(TorchTrainer pid=56577)\u001b[0m - (node_id=7cc2334a334327f410131b140fb9ad2ae54820f537299598f92261b4, ip=127.0.0.1, pid=56664) world_rank=0, local_rank=0, node_rank=0\n",
      "\u001b[36m(RayTrainWorker pid=56542)\u001b[0m /Users/sidharrthnagappan/.virtualenvs/lsdp_miniproject/lib/python3.11/site-packages/pytorch_lightning/trainer/connectors/data_connector.py:420: Consider setting `persistent_workers=True` in 'train_dataloader' to speed up the dataloader worker initialization.\n",
      "100%|██████████| 4.54k/4.54k [00:00<00:00, 4.18MB/s]\n",
      "\u001b[36m(RayTrainWorker pid=56542)\u001b[0m --------------------------------------------------------\u001b[32m [repeated 2x across cluster]\u001b[0m\n",
      "\u001b[36m(RayTrainWorker pid=56542)\u001b[0m 4 | layer4   | Linear             | 1.3 K  | train\u001b[32m [repeated 4x across cluster]\u001b[0m\n"
     ]
    },
    {
     "name": "stdout",
     "output_type": "stream",
     "text": [
      "\u001b[36m(RayTrainWorker pid=56664)\u001b[0m printing config {'layer_1_size': 64, 'layer_2_size': 64, 'layer_3_size': 256, 'dropout': 0.15144247022590526, 'batch_size': 64, 'learning_rate': 0.002973866475711854}\n",
      "\u001b[36m(RayTrainWorker pid=56664)\u001b[0m Downloading http://yann.lecun.com/exdb/mnist/train-images-idx3-ubyte.gz\u001b[32m [repeated 3x across cluster]\u001b[0m\n",
      "\u001b[36m(RayTrainWorker pid=56542)\u001b[0m Failed to download (trying next):\n",
      "\u001b[36m(RayTrainWorker pid=56542)\u001b[0m HTTP Error 403: Forbidden\n",
      "\u001b[36m(RayTrainWorker pid=56542)\u001b[0m Downloading https://ossci-datasets.s3.amazonaws.com/mnist/t10k-labels-idx1-ubyte.gz to /var/folders/mf/cfzv46p15017stkscsq9jw9h0000gn/T/tmpr16z8p18/MNIST/raw/t10k-labels-idx1-ubyte.gz\n"
     ]
    },
    {
     "name": "stderr",
     "output_type": "stream",
     "text": [
      "\u001b[36m(RayTrainWorker pid=56664)\u001b[0m GPU available: True (mps), used: False\n",
      "\u001b[36m(RayTrainWorker pid=56664)\u001b[0m TPU available: False, using: 0 TPU cores\n",
      "\u001b[36m(RayTrainWorker pid=56664)\u001b[0m HPU available: False, using: 0 HPUs\n",
      "\u001b[36m(RayTrainWorker pid=56664)\u001b[0m /Users/sidharrthnagappan/.virtualenvs/lsdp_miniproject/lib/python3.11/site-packages/pytorch_lightning/trainer/setup.py:177: GPU available but not used. You can set it by doing `Trainer(accelerator='gpu')`.\n",
      "\u001b[36m(RayTrainWorker pid=56664)\u001b[0m /Users/sidharrthnagappan/.virtualenvs/lsdp_miniproject/lib/python3.11/site-packages/pytorch_lightning/loops/utilities.py:73: `max_epochs` was not set. Setting it to 1000 epochs. To train without an epoch limit, set `max_epochs=-1`.\n"
     ]
    },
    {
     "name": "stdout",
     "output_type": "stream",
     "text": [
      "\u001b[36m(RayTrainWorker pid=56664)\u001b[0m Failed to download (trying next):\n",
      "\u001b[36m(RayTrainWorker pid=56664)\u001b[0m HTTP Error 403: Forbidden\n",
      "\u001b[36m(RayTrainWorker pid=56664)\u001b[0m \n",
      "\u001b[36m(RayTrainWorker pid=56664)\u001b[0m Downloading https://ossci-datasets.s3.amazonaws.com/mnist/train-images-idx3-ubyte.gz to /var/folders/mf/cfzv46p15017stkscsq9jw9h0000gn/T/tmph5dp9y5w/MNIST/raw/train-images-idx3-ubyte.gz\n"
     ]
    },
    {
     "name": "stderr",
     "output_type": "stream",
     "text": [
      "  0%|          | 0.00/9.91M [00:00<?, ?B/s]\n",
      "  1%|          | 65.5k/9.91M [00:00<00:16, 592kB/s]\n",
      "  2%|▏         | 197k/9.91M [00:00<00:11, 831kB/s] \n",
      "  8%|▊         | 819k/9.91M [00:00<00:03, 2.84MB/s]\n",
      " 17%|█▋        | 1.70M/9.91M [00:00<00:01, 4.31MB/s]\n",
      " 23%|██▎       | 2.33M/9.91M [00:00<00:01, 4.78MB/s]\n",
      " 60%|██████    | 6.00M/9.91M [00:00<00:00, 11.5MB/s]\n",
      " 71%|███████   | 7.01M/9.91M [00:00<00:00, 11.0MB/s]\n",
      " 90%|█████████ | 8.95M/9.91M [00:01<00:00, 11.7MB/s]\n",
      "100%|██████████| 9.91M/9.91M [00:01<00:00, 8.73MB/s]\n"
     ]
    },
    {
     "name": "stdout",
     "output_type": "stream",
     "text": [
      "\u001b[36m(RayTrainWorker pid=56664)\u001b[0m Extracting /var/folders/mf/cfzv46p15017stkscsq9jw9h0000gn/T/tmph5dp9y5w/MNIST/raw/train-images-idx3-ubyte.gz to /var/folders/mf/cfzv46p15017stkscsq9jw9h0000gn/T/tmph5dp9y5w/MNIST/raw\n",
      "\u001b[36m(RayTrainWorker pid=56664)\u001b[0m \n",
      "\u001b[36m(RayTrainWorker pid=56664)\u001b[0m Failed to download (trying next):\n",
      "\u001b[36m(RayTrainWorker pid=56664)\u001b[0m HTTP Error 403: Forbidden\n",
      "\u001b[36m(RayTrainWorker pid=56664)\u001b[0m \n",
      "\u001b[36m(RayTrainWorker pid=56664)\u001b[0m Downloading https://ossci-datasets.s3.amazonaws.com/mnist/train-labels-idx1-ubyte.gz to /var/folders/mf/cfzv46p15017stkscsq9jw9h0000gn/T/tmph5dp9y5w/MNIST/raw/train-labels-idx1-ubyte.gz\n"
     ]
    },
    {
     "name": "stderr",
     "output_type": "stream",
     "text": [
      "  0%|          | 0.00/28.9k [00:00<?, ?B/s]\n",
      "100%|██████████| 28.9k/28.9k [00:00<00:00, 340kB/s]\n"
     ]
    },
    {
     "name": "stdout",
     "output_type": "stream",
     "text": [
      "\u001b[36m(RayTrainWorker pid=56664)\u001b[0m Extracting /var/folders/mf/cfzv46p15017stkscsq9jw9h0000gn/T/tmph5dp9y5w/MNIST/raw/train-labels-idx1-ubyte.gz to /var/folders/mf/cfzv46p15017stkscsq9jw9h0000gn/T/tmph5dp9y5w/MNIST/raw\n",
      "\u001b[36m(RayTrainWorker pid=56664)\u001b[0m \n",
      "\u001b[36m(RayTrainWorker pid=56664)\u001b[0m Failed to download (trying next):\n",
      "\u001b[36m(RayTrainWorker pid=56664)\u001b[0m HTTP Error 403: Forbidden\n",
      "\u001b[36m(RayTrainWorker pid=56664)\u001b[0m \n",
      "\u001b[36m(RayTrainWorker pid=56664)\u001b[0m Downloading https://ossci-datasets.s3.amazonaws.com/mnist/t10k-images-idx3-ubyte.gz to /var/folders/mf/cfzv46p15017stkscsq9jw9h0000gn/T/tmph5dp9y5w/MNIST/raw/t10k-images-idx3-ubyte.gz\n"
     ]
    },
    {
     "name": "stderr",
     "output_type": "stream",
     "text": [
      "  0%|          | 0.00/1.65M [00:00<?, ?B/s]\n",
      "  6%|▌         | 98.3k/1.65M [00:00<00:02, 588kB/s]\n",
      " 26%|██▌       | 426k/1.65M [00:00<00:00, 1.40MB/s]\n"
     ]
    },
    {
     "name": "stdout",
     "output_type": "stream",
     "text": [
      "\u001b[36m(RayTrainWorker pid=56664)\u001b[0m Extracting /var/folders/mf/cfzv46p15017stkscsq9jw9h0000gn/T/tmph5dp9y5w/MNIST/raw/t10k-images-idx3-ubyte.gz to /var/folders/mf/cfzv46p15017stkscsq9jw9h0000gn/T/tmph5dp9y5w/MNIST/raw\n",
      "\u001b[36m(RayTrainWorker pid=56664)\u001b[0m \n",
      "\u001b[36m(RayTrainWorker pid=56664)\u001b[0m Downloading http://yann.lecun.com/exdb/mnist/t10k-labels-idx1-ubyte.gz\u001b[32m [repeated 6x across cluster]\u001b[0m\n"
     ]
    },
    {
     "name": "stderr",
     "output_type": "stream",
     "text": [
      "100%|██████████| 1.65M/1.65M [00:00<00:00, 3.74MB/s]\n",
      "\u001b[36m(TorchTrainer pid=56678)\u001b[0m Started distributed worker processes: \n",
      "\u001b[36m(TorchTrainer pid=56678)\u001b[0m - (node_id=7cc2334a334327f410131b140fb9ad2ae54820f537299598f92261b4, ip=127.0.0.1, pid=56794) world_rank=0, local_rank=0, node_rank=0\n",
      "\u001b[36m(RayTrainWorker pid=56794)\u001b[0m Setting up process group for: env:// [rank=0, world_size=1]\n"
     ]
    },
    {
     "name": "stdout",
     "output_type": "stream",
     "text": [
      "\u001b[36m(RayTrainWorker pid=56664)\u001b[0m Failed to download (trying next):\n",
      "\u001b[36m(RayTrainWorker pid=56664)\u001b[0m HTTP Error 403: Forbidden\n",
      "\u001b[36m(RayTrainWorker pid=56664)\u001b[0m \n",
      "\u001b[36m(RayTrainWorker pid=56664)\u001b[0m Downloading https://ossci-datasets.s3.amazonaws.com/mnist/t10k-labels-idx1-ubyte.gz to /var/folders/mf/cfzv46p15017stkscsq9jw9h0000gn/T/tmph5dp9y5w/MNIST/raw/t10k-labels-idx1-ubyte.gz\n"
     ]
    },
    {
     "name": "stderr",
     "output_type": "stream",
     "text": [
      "\u001b[36m(RayTrainWorker pid=56481)\u001b[0m Checkpoint successfully created at: Checkpoint(filesystem=local, path=/Users/sidharrthnagappan/ray_results/TorchTrainer_2024-12-24_17-34-19/TorchTrainer_4f4b8_00033_33_batch_size=128,dropout=0.2164,layer_1_size=32,layer_2_size=64,layer_3_size=512,learning_rate=0.0009_2024-12-24_17-34-21/checkpoint_000000)\n",
      "\u001b[36m(RayTrainWorker pid=56794)\u001b[0m GPU available: True (mps), used: False\n",
      "\u001b[36m(RayTrainWorker pid=56794)\u001b[0m TPU available: False, using: 0 TPU cores\n",
      "\u001b[36m(RayTrainWorker pid=56794)\u001b[0m HPU available: False, using: 0 HPUs\n",
      "\u001b[36m(RayTrainWorker pid=56794)\u001b[0m /Users/sidharrthnagappan/.virtualenvs/lsdp_miniproject/lib/python3.11/site-packages/pytorch_lightning/trainer/setup.py:177: GPU available but not used. You can set it by doing `Trainer(accelerator='gpu')`.\n",
      "\u001b[36m(RayTrainWorker pid=56794)\u001b[0m /Users/sidharrthnagappan/.virtualenvs/lsdp_miniproject/lib/python3.11/site-packages/pytorch_lightning/loops/utilities.py:73: `max_epochs` was not set. Setting it to 1000 epochs. To train without an epoch limit, set `max_epochs=-1`.\n",
      "100%|██████████| 4.54k/4.54k [00:00<00:00, 4.17MB/s]\n",
      "\u001b[36m(RayTrainWorker pid=56664)\u001b[0m \n",
      "\u001b[36m(RayTrainWorker pid=56664)\u001b[0m   | Name     | Type               | Params | Mode \n",
      "\u001b[36m(RayTrainWorker pid=56664)\u001b[0m --------------------------------------------------------\n",
      "\u001b[36m(RayTrainWorker pid=56664)\u001b[0m 0 | accuracy | MulticlassAccuracy | 0      | train\n",
      "\u001b[36m(RayTrainWorker pid=56664)\u001b[0m 1 | layer1   | Linear             | 50.2 K | train\n",
      "\u001b[36m(RayTrainWorker pid=56664)\u001b[0m 2 | layer2   | Linear             | 4.2 K  | train\n",
      "\u001b[36m(RayTrainWorker pid=56664)\u001b[0m 3 | layer3   | Linear             | 16.6 K | train\n",
      "\u001b[36m(RayTrainWorker pid=56664)\u001b[0m 4 | layer4   | Linear             | 2.6 K  | train\n",
      "\u001b[36m(RayTrainWorker pid=56664)\u001b[0m 5 | dropout  | Dropout            | 0      | train\n",
      "\u001b[36m(RayTrainWorker pid=56664)\u001b[0m --------------------------------------------------------\n",
      "\u001b[36m(RayTrainWorker pid=56664)\u001b[0m 73.6 K    Trainable params\n",
      "\u001b[36m(RayTrainWorker pid=56664)\u001b[0m 0         Non-trainable params\n",
      "\u001b[36m(RayTrainWorker pid=56664)\u001b[0m 73.6 K    Total params\n",
      "\u001b[36m(RayTrainWorker pid=56664)\u001b[0m 0.294     Total estimated model params size (MB)\n",
      "\u001b[36m(RayTrainWorker pid=56664)\u001b[0m 6         Modules in train mode\n",
      "\u001b[36m(RayTrainWorker pid=56664)\u001b[0m 0         Modules in eval mode\n",
      "\u001b[36m(RayTrainWorker pid=56664)\u001b[0m /Users/sidharrthnagappan/.virtualenvs/lsdp_miniproject/lib/python3.11/site-packages/pytorch_lightning/trainer/connectors/data_connector.py:420: Consider setting `persistent_workers=True` in 'val_dataloader' to speed up the dataloader worker initialization.\n"
     ]
    },
    {
     "name": "stdout",
     "output_type": "stream",
     "text": [
      "\u001b[36m(RayTrainWorker pid=56794)\u001b[0m printing config {'layer_1_size': 32, 'layer_2_size': 128, 'layer_3_size': 512, 'dropout': 0.14029510397823686, 'batch_size': 64, 'learning_rate': 0.039443335175837424}\n",
      "\u001b[36m(RayTrainWorker pid=56664)\u001b[0m Extracting /var/folders/mf/cfzv46p15017stkscsq9jw9h0000gn/T/tmph5dp9y5w/MNIST/raw/t10k-labels-idx1-ubyte.gz to /var/folders/mf/cfzv46p15017stkscsq9jw9h0000gn/T/tmph5dp9y5w/MNIST/raw\n",
      "\u001b[36m(RayTrainWorker pid=56664)\u001b[0m \n",
      "\u001b[36m(RayTrainWorker pid=56794)\u001b[0m Failed to download (trying next):\n",
      "\u001b[36m(RayTrainWorker pid=56794)\u001b[0m HTTP Error 403: Forbidden\n",
      "\u001b[36m(RayTrainWorker pid=56794)\u001b[0m \n",
      "\u001b[36m(RayTrainWorker pid=56794)\u001b[0m Downloading https://ossci-datasets.s3.amazonaws.com/mnist/train-images-idx3-ubyte.gz to /var/folders/mf/cfzv46p15017stkscsq9jw9h0000gn/T/tmpzyr0ze4a/MNIST/raw/train-images-idx3-ubyte.gz\n"
     ]
    },
    {
     "name": "stderr",
     "output_type": "stream",
     "text": [
      "  1%|          | 65.5k/9.91M [00:00<00:24, 399kB/s]\n",
      "  4%|▎         | 360k/9.91M [00:00<00:07, 1.20MB/s]\n",
      "\u001b[36m(RayTrainWorker pid=56410)\u001b[0m Traceback (most recent call last):\n",
      "\u001b[36m(RayTrainWorker pid=56410)\u001b[0m   File \"<string>\", line 1, in <module>\n",
      "\u001b[36m(RayTrainWorker pid=56410)\u001b[0m   File \"/Users/sidharrthnagappan/.pyenv/versions/3.11.0/lib/python3.11/multiprocessing/spawn.py\", line 120, in spawn_main\n",
      "\u001b[36m(RayTrainWorker pid=56410)\u001b[0m     exitcode = _main(fd, parent_sentinel)\n",
      "\u001b[36m(RayTrainWorker pid=56410)\u001b[0m                ^^^^^^^^^^^^^^^^^^^^^^^^^^\n",
      "\u001b[36m(RayTrainWorker pid=56410)\u001b[0m   File \"/Users/sidharrthnagappan/.pyenv/versions/3.11.0/lib/python3.11/multiprocessing/spawn.py\", line 130, in _main\n",
      "\u001b[36m(RayTrainWorker pid=56410)\u001b[0m     self = reduction.pickle.load(from_parent)\n",
      "\u001b[36m(RayTrainWorker pid=56410)\u001b[0m            ^^^^^^^^^^^^^^^^^^^^^^^^^^^^^^^^^^\n",
      "\u001b[36m(RayTrainWorker pid=56410)\u001b[0m _pickle.UnpicklingError: pickle data was truncated\n",
      " 15%|█▍        | 1.44M/9.91M [00:00<00:01, 4.42MB/s]\n",
      " 30%|███       | 2.98M/9.91M [00:00<00:01, 5.92MB/s]\n",
      " 66%|██████▋   | 6.59M/9.91M [00:00<00:00, 13.2MB/s]\n",
      "100%|██████████| 9.91M/9.91M [00:00<00:00, 11.3MB/s]\n"
     ]
    },
    {
     "name": "stdout",
     "output_type": "stream",
     "text": [
      "\u001b[36m(RayTrainWorker pid=56794)\u001b[0m Extracting /var/folders/mf/cfzv46p15017stkscsq9jw9h0000gn/T/tmpzyr0ze4a/MNIST/raw/train-images-idx3-ubyte.gz to /var/folders/mf/cfzv46p15017stkscsq9jw9h0000gn/T/tmpzyr0ze4a/MNIST/raw\n",
      "\u001b[36m(RayTrainWorker pid=56794)\u001b[0m \n",
      "\u001b[36m(RayTrainWorker pid=56794)\u001b[0m Failed to download (trying next):\n",
      "\u001b[36m(RayTrainWorker pid=56794)\u001b[0m HTTP Error 403: Forbidden\n",
      "\u001b[36m(RayTrainWorker pid=56794)\u001b[0m \n",
      "\u001b[36m(RayTrainWorker pid=56794)\u001b[0m Downloading https://ossci-datasets.s3.amazonaws.com/mnist/train-labels-idx1-ubyte.gz to /var/folders/mf/cfzv46p15017stkscsq9jw9h0000gn/T/tmpzyr0ze4a/MNIST/raw/train-labels-idx1-ubyte.gz\n"
     ]
    },
    {
     "name": "stderr",
     "output_type": "stream",
     "text": [
      "100%|██████████| 28.9k/28.9k [00:00<00:00, 339kB/s]\n"
     ]
    },
    {
     "name": "stdout",
     "output_type": "stream",
     "text": [
      "\u001b[36m(RayTrainWorker pid=56794)\u001b[0m Extracting /var/folders/mf/cfzv46p15017stkscsq9jw9h0000gn/T/tmpzyr0ze4a/MNIST/raw/train-labels-idx1-ubyte.gz to /var/folders/mf/cfzv46p15017stkscsq9jw9h0000gn/T/tmpzyr0ze4a/MNIST/raw\n",
      "\u001b[36m(RayTrainWorker pid=56794)\u001b[0m \n"
     ]
    },
    {
     "name": "stderr",
     "output_type": "stream",
     "text": [
      "\u001b[36m(RayTrainWorker pid=56664)\u001b[0m /Users/sidharrthnagappan/.virtualenvs/lsdp_miniproject/lib/python3.11/site-packages/pytorch_lightning/trainer/connectors/data_connector.py:420: Consider setting `persistent_workers=True` in 'train_dataloader' to speed up the dataloader worker initialization.\n"
     ]
    },
    {
     "name": "stdout",
     "output_type": "stream",
     "text": [
      "\u001b[36m(RayTrainWorker pid=56794)\u001b[0m Failed to download (trying next):\n",
      "\u001b[36m(RayTrainWorker pid=56794)\u001b[0m HTTP Error 403: Forbidden\n",
      "\u001b[36m(RayTrainWorker pid=56794)\u001b[0m \n",
      "\u001b[36m(RayTrainWorker pid=56794)\u001b[0m Downloading https://ossci-datasets.s3.amazonaws.com/mnist/t10k-images-idx3-ubyte.gz\u001b[32m [repeated 7x across cluster]\u001b[0m\n",
      "\u001b[36m(RayTrainWorker pid=56794)\u001b[0m Downloading https://ossci-datasets.s3.amazonaws.com/mnist/t10k-images-idx3-ubyte.gz to /var/folders/mf/cfzv46p15017stkscsq9jw9h0000gn/T/tmpzyr0ze4a/MNIST/raw/t10k-images-idx3-ubyte.gz\n"
     ]
    },
    {
     "name": "stderr",
     "output_type": "stream",
     "text": [
      "  4%|▍         | 65.5k/1.65M [00:00<00:04, 394kB/s]\n",
      " 22%|██▏       | 360k/1.65M [00:00<00:01, 1.28MB/s]\n",
      "\u001b[36m(RayTrainWorker pid=56542)\u001b[0m Checkpoint successfully created at: Checkpoint(filesystem=local, path=/Users/sidharrthnagappan/ray_results/TorchTrainer_2024-12-24_17-34-19/TorchTrainer_4f4b8_00034_34_batch_size=128,dropout=0.2389,layer_1_size=128,layer_2_size=64,layer_3_size=128,learning_rate=0.0025_2024-12-24_17-34-21/checkpoint_000000)\u001b[32m [repeated 2x across cluster]\u001b[0m\n",
      " 32%|███▏      | 524k/1.65M [00:00<00:00, 1.38MB/s]\n",
      " 79%|███████▉  | 1.31M/1.65M [00:00<00:00, 3.04MB/s]\n",
      "100%|██████████| 1.65M/1.65M [00:00<00:00, 2.44MB/s]\n",
      "  0%|          | 0.00/1.65M [00:00<?, ?B/s]\u001b[32m [repeated 3x across cluster]\u001b[0m\n"
     ]
    },
    {
     "name": "stdout",
     "output_type": "stream",
     "text": [
      "\u001b[36m(RayTrainWorker pid=56794)\u001b[0m Extracting /var/folders/mf/cfzv46p15017stkscsq9jw9h0000gn/T/tmpzyr0ze4a/MNIST/raw/t10k-images-idx3-ubyte.gz to /var/folders/mf/cfzv46p15017stkscsq9jw9h0000gn/T/tmpzyr0ze4a/MNIST/raw\n",
      "\u001b[36m(RayTrainWorker pid=56794)\u001b[0m \n",
      "\u001b[36m(RayTrainWorker pid=56794)\u001b[0m Failed to download (trying next):\n",
      "\u001b[36m(RayTrainWorker pid=56794)\u001b[0m HTTP Error 403: Forbidden\n",
      "\u001b[36m(RayTrainWorker pid=56794)\u001b[0m \n",
      "\u001b[36m(RayTrainWorker pid=56794)\u001b[0m Downloading https://ossci-datasets.s3.amazonaws.com/mnist/t10k-labels-idx1-ubyte.gz to /var/folders/mf/cfzv46p15017stkscsq9jw9h0000gn/T/tmpzyr0ze4a/MNIST/raw/t10k-labels-idx1-ubyte.gz\n",
      "\u001b[36m(RayTrainWorker pid=56794)\u001b[0m Extracting /var/folders/mf/cfzv46p15017stkscsq9jw9h0000gn/T/tmpzyr0ze4a/MNIST/raw/t10k-labels-idx1-ubyte.gz to /var/folders/mf/cfzv46p15017stkscsq9jw9h0000gn/T/tmpzyr0ze4a/MNIST/raw\n",
      "\u001b[36m(RayTrainWorker pid=56794)\u001b[0m \n"
     ]
    },
    {
     "name": "stderr",
     "output_type": "stream",
     "text": [
      "\u001b[36m(RayTrainWorker pid=56794)\u001b[0m \n",
      "\u001b[36m(RayTrainWorker pid=56794)\u001b[0m   | Name     | Type               | Params | Mode \n",
      "\u001b[36m(RayTrainWorker pid=56794)\u001b[0m --------------------------------------------------------\n",
      "\u001b[36m(RayTrainWorker pid=56794)\u001b[0m 0 | accuracy | MulticlassAccuracy | 0      | train\n",
      "\u001b[36m(RayTrainWorker pid=56794)\u001b[0m 1 | layer1   | Linear             | 25.1 K | train\n",
      "\u001b[36m(RayTrainWorker pid=56794)\u001b[0m 2 | layer2   | Linear             | 4.2 K  | train\n",
      "\u001b[36m(RayTrainWorker pid=56794)\u001b[0m 3 | layer3   | Linear             | 66.0 K | train\n",
      "\u001b[36m(RayTrainWorker pid=56794)\u001b[0m 4 | layer4   | Linear             | 5.1 K  | train\n",
      "\u001b[36m(RayTrainWorker pid=56794)\u001b[0m 5 | dropout  | Dropout            | 0      | train\n",
      "\u001b[36m(RayTrainWorker pid=56794)\u001b[0m --------------------------------------------------------\n",
      "\u001b[36m(RayTrainWorker pid=56794)\u001b[0m 100 K     Trainable params\n",
      "\u001b[36m(RayTrainWorker pid=56794)\u001b[0m 0         Non-trainable params\n",
      "\u001b[36m(RayTrainWorker pid=56794)\u001b[0m 100 K     Total params\n",
      "\u001b[36m(RayTrainWorker pid=56794)\u001b[0m 0.402     Total estimated model params size (MB)\n",
      "\u001b[36m(RayTrainWorker pid=56794)\u001b[0m 6         Modules in train mode\n",
      "\u001b[36m(RayTrainWorker pid=56794)\u001b[0m 0         Modules in eval mode\n",
      "\u001b[36m(RayTrainWorker pid=56794)\u001b[0m /Users/sidharrthnagappan/.virtualenvs/lsdp_miniproject/lib/python3.11/site-packages/pytorch_lightning/trainer/connectors/data_connector.py:420: Consider setting `persistent_workers=True` in 'val_dataloader' to speed up the dataloader worker initialization.\n",
      "\u001b[36m(RayTrainWorker pid=56410)\u001b[0m /Users/sidharrthnagappan/.pyenv/versions/3.11.0/lib/python3.11/multiprocessing/resource_tracker.py:224: UserWarning: resource_tracker: There appear to be 55 leaked semaphore objects to clean up at shutdown\n",
      "\u001b[36m(RayTrainWorker pid=56410)\u001b[0m   warnings.warn('resource_tracker: There appear to be %d '\n",
      "\u001b[36m(RayTrainWorker pid=56794)\u001b[0m /Users/sidharrthnagappan/.virtualenvs/lsdp_miniproject/lib/python3.11/site-packages/pytorch_lightning/trainer/connectors/data_connector.py:420: Consider setting `persistent_workers=True` in 'train_dataloader' to speed up the dataloader worker initialization.\n",
      "\u001b[36m(RayTrainWorker pid=56481)\u001b[0m Checkpoint successfully created at: Checkpoint(filesystem=local, path=/Users/sidharrthnagappan/ray_results/TorchTrainer_2024-12-24_17-34-19/TorchTrainer_4f4b8_00033_33_batch_size=128,dropout=0.2164,layer_1_size=32,layer_2_size=64,layer_3_size=512,learning_rate=0.0009_2024-12-24_17-34-21/checkpoint_000001)\n",
      "100%|██████████| 4.54k/4.54k [00:00<00:00, 2.09MB/s]\n",
      "\u001b[36m(RayTrainWorker pid=56481)\u001b[0m Traceback (most recent call last):\n",
      "\u001b[36m(RayTrainWorker pid=56481)\u001b[0m   File \"<string>\", line 1, in <module>\n",
      "\u001b[36m(RayTrainWorker pid=56481)\u001b[0m   File \"/Users/sidharrthnagappan/.pyenv/versions/3.11.0/lib/python3.11/multiprocessing/spawn.py\", line 120, in spawn_main\n",
      "\u001b[36m(RayTrainWorker pid=56481)\u001b[0m     exitcode = _main(fd, parent_sentinel)\n",
      "\u001b[36m(RayTrainWorker pid=56481)\u001b[0m                ^^^^^^^^^^^^^^^^^^^^^^^^^^\n",
      "\u001b[36m(RayTrainWorker pid=56481)\u001b[0m   File \"/Users/sidharrthnagappan/.pyenv/versions/3.11.0/lib/python3.11/multiprocessing/spawn.py\", line 130, in _main\n",
      "\u001b[36m(RayTrainWorker pid=56481)\u001b[0m     self = reduction.pickle.load(from_parent)\n",
      "\u001b[36m(RayTrainWorker pid=56481)\u001b[0m            ^^^^^^^^^^^^^^^^^^^^^^^^^^^^^^^^^^\n",
      "\u001b[36m(RayTrainWorker pid=56481)\u001b[0m _pickle.UnpicklingError: pickle data was truncated\n",
      "\u001b[36m(TorchTrainer pid=56933)\u001b[0m Started distributed worker processes: \n",
      "\u001b[36m(TorchTrainer pid=56933)\u001b[0m - (node_id=7cc2334a334327f410131b140fb9ad2ae54820f537299598f92261b4, ip=127.0.0.1, pid=57010) world_rank=0, local_rank=0, node_rank=0\n",
      "\u001b[36m(RayTrainWorker pid=57010)\u001b[0m Setting up process group for: env:// [rank=0, world_size=1]\n"
     ]
    },
    {
     "name": "stdout",
     "output_type": "stream",
     "text": [
      "\u001b[36m(RayTrainWorker pid=57010)\u001b[0m printing config {'layer_1_size': 128, 'layer_2_size': 256, 'layer_3_size': 256, 'dropout': 0.23871449076395343, 'batch_size': 64, 'learning_rate': 0.00025259435896183397}\n",
      "\u001b[36m(RayTrainWorker pid=57010)\u001b[0m Downloading http://yann.lecun.com/exdb/mnist/train-images-idx3-ubyte.gz\u001b[32m [repeated 3x across cluster]\u001b[0m\n"
     ]
    },
    {
     "name": "stderr",
     "output_type": "stream",
     "text": [
      "\u001b[36m(RayTrainWorker pid=57010)\u001b[0m GPU available: True (mps), used: False\n",
      "\u001b[36m(RayTrainWorker pid=57010)\u001b[0m TPU available: False, using: 0 TPU cores\n",
      "\u001b[36m(RayTrainWorker pid=57010)\u001b[0m HPU available: False, using: 0 HPUs\n",
      "\u001b[36m(RayTrainWorker pid=57010)\u001b[0m /Users/sidharrthnagappan/.virtualenvs/lsdp_miniproject/lib/python3.11/site-packages/pytorch_lightning/trainer/setup.py:177: GPU available but not used. You can set it by doing `Trainer(accelerator='gpu')`.\n",
      "\u001b[36m(RayTrainWorker pid=57010)\u001b[0m /Users/sidharrthnagappan/.virtualenvs/lsdp_miniproject/lib/python3.11/site-packages/pytorch_lightning/loops/utilities.py:73: `max_epochs` was not set. Setting it to 1000 epochs. To train without an epoch limit, set `max_epochs=-1`.\n"
     ]
    },
    {
     "name": "stdout",
     "output_type": "stream",
     "text": [
      "\u001b[36m(RayTrainWorker pid=57010)\u001b[0m Failed to download (trying next):\n",
      "\u001b[36m(RayTrainWorker pid=57010)\u001b[0m HTTP Error 403: Forbidden\n",
      "\u001b[36m(RayTrainWorker pid=57010)\u001b[0m \n",
      "\u001b[36m(RayTrainWorker pid=57010)\u001b[0m Downloading https://ossci-datasets.s3.amazonaws.com/mnist/train-images-idx3-ubyte.gz to /var/folders/mf/cfzv46p15017stkscsq9jw9h0000gn/T/tmpl9d_ugit/MNIST/raw/train-images-idx3-ubyte.gz\n"
     ]
    },
    {
     "name": "stderr",
     "output_type": "stream",
     "text": [
      "  0%|          | 0.00/9.91M [00:00<?, ?B/s]\n",
      "\u001b[36m(RayTrainWorker pid=56542)\u001b[0m Checkpoint successfully created at: Checkpoint(filesystem=local, path=/Users/sidharrthnagappan/ray_results/TorchTrainer_2024-12-24_17-34-19/TorchTrainer_4f4b8_00034_34_batch_size=128,dropout=0.2389,layer_1_size=128,layer_2_size=64,layer_3_size=128,learning_rate=0.0025_2024-12-24_17-34-21/checkpoint_000001)\n",
      "  1%|          | 65.5k/9.91M [00:00<00:19, 506kB/s]\n",
      "  2%|▏         | 197k/9.91M [00:00<00:11, 837kB/s] \n",
      "  8%|▊         | 754k/9.91M [00:00<00:04, 2.15MB/s]\n",
      " 22%|██▏       | 2.16M/9.91M [00:00<00:01, 5.84MB/s]\n",
      " 29%|██▉       | 2.85M/9.91M [00:00<00:01, 5.83MB/s]\n",
      " 69%|██████▉   | 6.88M/9.91M [00:00<00:00, 15.0MB/s]\n",
      " 86%|████████▌ | 8.49M/9.91M [00:00<00:00, 15.2MB/s]\n",
      "100%|██████████| 9.91M/9.91M [00:00<00:00, 10.2MB/s]\n"
     ]
    },
    {
     "name": "stdout",
     "output_type": "stream",
     "text": [
      "\u001b[36m(RayTrainWorker pid=57010)\u001b[0m Extracting /var/folders/mf/cfzv46p15017stkscsq9jw9h0000gn/T/tmpl9d_ugit/MNIST/raw/train-images-idx3-ubyte.gz to /var/folders/mf/cfzv46p15017stkscsq9jw9h0000gn/T/tmpl9d_ugit/MNIST/raw\n",
      "\u001b[36m(RayTrainWorker pid=57010)\u001b[0m \n",
      "\u001b[36m(RayTrainWorker pid=57010)\u001b[0m Failed to download (trying next):\n",
      "\u001b[36m(RayTrainWorker pid=57010)\u001b[0m HTTP Error 403: Forbidden\n",
      "\u001b[36m(RayTrainWorker pid=57010)\u001b[0m \n"
     ]
    },
    {
     "name": "stderr",
     "output_type": "stream",
     "text": [
      "\u001b[36m(RayTrainWorker pid=56481)\u001b[0m /Users/sidharrthnagappan/.pyenv/versions/3.11.0/lib/python3.11/multiprocessing/resource_tracker.py:224: UserWarning: resource_tracker: There appear to be 55 leaked semaphore objects to clean up at shutdown\n",
      "\u001b[36m(RayTrainWorker pid=56481)\u001b[0m   warnings.warn('resource_tracker: There appear to be %d '\n"
     ]
    },
    {
     "name": "stdout",
     "output_type": "stream",
     "text": [
      "\u001b[36m(RayTrainWorker pid=57010)\u001b[0m Downloading https://ossci-datasets.s3.amazonaws.com/mnist/train-labels-idx1-ubyte.gz to /var/folders/mf/cfzv46p15017stkscsq9jw9h0000gn/T/tmpl9d_ugit/MNIST/raw/train-labels-idx1-ubyte.gz\n"
     ]
    },
    {
     "name": "stderr",
     "output_type": "stream",
     "text": [
      "  0%|          | 0.00/28.9k [00:00<?, ?B/s]\n",
      "100%|██████████| 28.9k/28.9k [00:00<00:00, 339kB/s]\n"
     ]
    },
    {
     "name": "stdout",
     "output_type": "stream",
     "text": [
      "\u001b[36m(RayTrainWorker pid=57010)\u001b[0m Extracting /var/folders/mf/cfzv46p15017stkscsq9jw9h0000gn/T/tmpl9d_ugit/MNIST/raw/train-labels-idx1-ubyte.gz to /var/folders/mf/cfzv46p15017stkscsq9jw9h0000gn/T/tmpl9d_ugit/MNIST/raw\n",
      "\u001b[36m(RayTrainWorker pid=57010)\u001b[0m \n",
      "\u001b[36m(RayTrainWorker pid=57010)\u001b[0m Failed to download (trying next):\n",
      "\u001b[36m(RayTrainWorker pid=57010)\u001b[0m HTTP Error 403: Forbidden\n",
      "\u001b[36m(RayTrainWorker pid=57010)\u001b[0m \n",
      "\u001b[36m(RayTrainWorker pid=57010)\u001b[0m Downloading https://ossci-datasets.s3.amazonaws.com/mnist/t10k-images-idx3-ubyte.gz to /var/folders/mf/cfzv46p15017stkscsq9jw9h0000gn/T/tmpl9d_ugit/MNIST/raw/t10k-images-idx3-ubyte.gz\n"
     ]
    },
    {
     "name": "stderr",
     "output_type": "stream",
     "text": [
      "  0%|          | 0.00/1.65M [00:00<?, ?B/s]\n",
      "  6%|▌         | 98.3k/1.65M [00:00<00:02, 581kB/s]\n",
      " 26%|██▌       | 426k/1.65M [00:00<00:00, 1.39MB/s]\n",
      "100%|██████████| 1.65M/1.65M [00:00<00:00, 3.26MB/s]\n"
     ]
    },
    {
     "name": "stdout",
     "output_type": "stream",
     "text": [
      "\u001b[36m(RayTrainWorker pid=57010)\u001b[0m Extracting /var/folders/mf/cfzv46p15017stkscsq9jw9h0000gn/T/tmpl9d_ugit/MNIST/raw/t10k-images-idx3-ubyte.gz to /var/folders/mf/cfzv46p15017stkscsq9jw9h0000gn/T/tmpl9d_ugit/MNIST/raw\n",
      "\u001b[36m(RayTrainWorker pid=57010)\u001b[0m Downloading https://ossci-datasets.s3.amazonaws.com/mnist/t10k-images-idx3-ubyte.gz\u001b[32m [repeated 5x across cluster]\u001b[0m\n",
      "\u001b[36m(RayTrainWorker pid=57010)\u001b[0m \n",
      "\u001b[36m(RayTrainWorker pid=57010)\u001b[0m Failed to download (trying next):\n",
      "\u001b[36m(RayTrainWorker pid=57010)\u001b[0m HTTP Error 403: Forbidden\n",
      "\u001b[36m(RayTrainWorker pid=57010)\u001b[0m \n",
      "\u001b[36m(RayTrainWorker pid=57010)\u001b[0m Downloading https://ossci-datasets.s3.amazonaws.com/mnist/t10k-labels-idx1-ubyte.gz to /var/folders/mf/cfzv46p15017stkscsq9jw9h0000gn/T/tmpl9d_ugit/MNIST/raw/t10k-labels-idx1-ubyte.gz\n",
      "\u001b[36m(RayTrainWorker pid=57010)\u001b[0m Extracting /var/folders/mf/cfzv46p15017stkscsq9jw9h0000gn/T/tmpl9d_ugit/MNIST/raw/t10k-labels-idx1-ubyte.gz to /var/folders/mf/cfzv46p15017stkscsq9jw9h0000gn/T/tmpl9d_ugit/MNIST/raw\n",
      "\u001b[36m(RayTrainWorker pid=57010)\u001b[0m \n"
     ]
    },
    {
     "name": "stderr",
     "output_type": "stream",
     "text": [
      "100%|██████████| 4.54k/4.54k [00:00<00:00, 2.15MB/s]\n",
      "\u001b[36m(RayTrainWorker pid=57010)\u001b[0m \n",
      "\u001b[36m(RayTrainWorker pid=57010)\u001b[0m   | Name     | Type               | Params | Mode \n",
      "\u001b[36m(RayTrainWorker pid=57010)\u001b[0m --------------------------------------------------------\n",
      "\u001b[36m(RayTrainWorker pid=57010)\u001b[0m 0 | accuracy | MulticlassAccuracy | 0      | train\n",
      "\u001b[36m(RayTrainWorker pid=57010)\u001b[0m 1 | layer1   | Linear             | 100 K  | train\n",
      "\u001b[36m(RayTrainWorker pid=57010)\u001b[0m 2 | layer2   | Linear             | 33.0 K | train\n",
      "\u001b[36m(RayTrainWorker pid=57010)\u001b[0m 3 | layer3   | Linear             | 65.8 K | train\n",
      "\u001b[36m(RayTrainWorker pid=57010)\u001b[0m 4 | layer4   | Linear             | 2.6 K  | train\n",
      "\u001b[36m(RayTrainWorker pid=57010)\u001b[0m 5 | dropout  | Dropout            | 0      | train\n",
      "\u001b[36m(RayTrainWorker pid=57010)\u001b[0m --------------------------------------------------------\n",
      "\u001b[36m(RayTrainWorker pid=57010)\u001b[0m 201 K     Trainable params\n",
      "\u001b[36m(RayTrainWorker pid=57010)\u001b[0m 0         Non-trainable params\n",
      "\u001b[36m(RayTrainWorker pid=57010)\u001b[0m 201 K     Total params\n",
      "\u001b[36m(RayTrainWorker pid=57010)\u001b[0m 0.807     Total estimated model params size (MB)\n",
      "\u001b[36m(RayTrainWorker pid=57010)\u001b[0m 6         Modules in train mode\n",
      "\u001b[36m(RayTrainWorker pid=57010)\u001b[0m 0         Modules in eval mode\n",
      "\u001b[36m(RayTrainWorker pid=57010)\u001b[0m /Users/sidharrthnagappan/.virtualenvs/lsdp_miniproject/lib/python3.11/site-packages/pytorch_lightning/trainer/connectors/data_connector.py:420: Consider setting `persistent_workers=True` in 'val_dataloader' to speed up the dataloader worker initialization.\n",
      "\u001b[36m(RayTrainWorker pid=56664)\u001b[0m Checkpoint successfully created at: Checkpoint(filesystem=local, path=/Users/sidharrthnagappan/ray_results/TorchTrainer_2024-12-24_17-34-19/TorchTrainer_4f4b8_00035_35_batch_size=64,dropout=0.1514,layer_1_size=64,layer_2_size=64,layer_3_size=256,learning_rate=0.0030_2024-12-24_17-34-21/checkpoint_000000)\n",
      "\u001b[36m(TorchTrainer pid=57080)\u001b[0m Started distributed worker processes: \n",
      "\u001b[36m(TorchTrainer pid=57080)\u001b[0m - (node_id=7cc2334a334327f410131b140fb9ad2ae54820f537299598f92261b4, ip=127.0.0.1, pid=57177) world_rank=0, local_rank=0, node_rank=0\n",
      "\u001b[36m(RayTrainWorker pid=57177)\u001b[0m Setting up process group for: env:// [rank=0, world_size=1]\n"
     ]
    },
    {
     "name": "stdout",
     "output_type": "stream",
     "text": [
      "\u001b[36m(RayTrainWorker pid=57177)\u001b[0m printing config {'layer_1_size': 64, 'layer_2_size': 128, 'layer_3_size': 512, 'dropout': 0.21327135716305037, 'batch_size': 64, 'learning_rate': 0.00654805944708387}\n",
      "\u001b[36m(RayTrainWorker pid=57177)\u001b[0m Downloading http://yann.lecun.com/exdb/mnist/train-images-idx3-ubyte.gz\u001b[32m [repeated 3x across cluster]\u001b[0m\n"
     ]
    },
    {
     "name": "stderr",
     "output_type": "stream",
     "text": [
      "\u001b[36m(RayTrainWorker pid=57177)\u001b[0m GPU available: True (mps), used: False\n",
      "\u001b[36m(RayTrainWorker pid=57177)\u001b[0m TPU available: False, using: 0 TPU cores\n",
      "\u001b[36m(RayTrainWorker pid=57177)\u001b[0m HPU available: False, using: 0 HPUs\n",
      "\u001b[36m(RayTrainWorker pid=57177)\u001b[0m /Users/sidharrthnagappan/.virtualenvs/lsdp_miniproject/lib/python3.11/site-packages/pytorch_lightning/trainer/setup.py:177: GPU available but not used. You can set it by doing `Trainer(accelerator='gpu')`.\n",
      "\u001b[36m(RayTrainWorker pid=57177)\u001b[0m /Users/sidharrthnagappan/.virtualenvs/lsdp_miniproject/lib/python3.11/site-packages/pytorch_lightning/loops/utilities.py:73: `max_epochs` was not set. Setting it to 1000 epochs. To train without an epoch limit, set `max_epochs=-1`.\n"
     ]
    },
    {
     "name": "stdout",
     "output_type": "stream",
     "text": [
      "\u001b[36m(RayTrainWorker pid=57177)\u001b[0m Failed to download (trying next):\n",
      "\u001b[36m(RayTrainWorker pid=57177)\u001b[0m HTTP Error 403: Forbidden\n",
      "\u001b[36m(RayTrainWorker pid=57177)\u001b[0m \n"
     ]
    },
    {
     "name": "stderr",
     "output_type": "stream",
     "text": [
      "\u001b[36m(RayTrainWorker pid=57010)\u001b[0m /Users/sidharrthnagappan/.virtualenvs/lsdp_miniproject/lib/python3.11/site-packages/pytorch_lightning/trainer/connectors/data_connector.py:420: Consider setting `persistent_workers=True` in 'train_dataloader' to speed up the dataloader worker initialization.\n",
      "\u001b[36m(RayTrainWorker pid=56794)\u001b[0m Checkpoint successfully created at: Checkpoint(filesystem=local, path=/Users/sidharrthnagappan/ray_results/TorchTrainer_2024-12-24_17-34-19/TorchTrainer_4f4b8_00036_36_batch_size=64,dropout=0.1403,layer_1_size=32,layer_2_size=128,layer_3_size=512,learning_rate=0.0394_2024-12-24_17-34-21/checkpoint_000000)\n"
     ]
    },
    {
     "name": "stdout",
     "output_type": "stream",
     "text": [
      "\u001b[36m(RayTrainWorker pid=57177)\u001b[0m Downloading https://ossci-datasets.s3.amazonaws.com/mnist/train-images-idx3-ubyte.gz to /var/folders/mf/cfzv46p15017stkscsq9jw9h0000gn/T/tmpynugre8n/MNIST/raw/train-images-idx3-ubyte.gz\n"
     ]
    },
    {
     "name": "stderr",
     "output_type": "stream",
     "text": [
      "\u001b[36m(RayTrainWorker pid=56794)\u001b[0m Traceback (most recent call last):\n",
      "\u001b[36m(RayTrainWorker pid=56794)\u001b[0m   File \"<string>\", line 1, in <module>\n",
      "\u001b[36m(RayTrainWorker pid=56794)\u001b[0m   File \"/Users/sidharrthnagappan/.pyenv/versions/3.11.0/lib/python3.11/multiprocessing/spawn.py\", line 120, in spawn_main\n",
      "\u001b[36m(RayTrainWorker pid=56794)\u001b[0m     exitcode = _main(fd, parent_sentinel)\n",
      "\u001b[36m(RayTrainWorker pid=56794)\u001b[0m                ^^^^^^^^^^^^^^^^^^^^^^^^^^\n",
      "\u001b[36m(RayTrainWorker pid=56794)\u001b[0m   File \"/Users/sidharrthnagappan/.pyenv/versions/3.11.0/lib/python3.11/multiprocessing/spawn.py\", line 130, in _main\n",
      "\u001b[36m(RayTrainWorker pid=56794)\u001b[0m     self = reduction.pickle.load(from_parent)\n",
      "\u001b[36m(RayTrainWorker pid=56794)\u001b[0m            ^^^^^^^^^^^^^^^^^^^^^^^^^^^^^^^^^^\n",
      "\u001b[36m(RayTrainWorker pid=56794)\u001b[0m _pickle.UnpicklingError: pickle data was truncated\n",
      "  0%|          | 0.00/9.91M [00:00<?, ?B/s]\n",
      "  1%|          | 98.3k/9.91M [00:00<00:16, 601kB/s]\n",
      "  4%|▍         | 393k/9.91M [00:00<00:05, 1.59MB/s]\n",
      "  8%|▊         | 819k/9.91M [00:00<00:03, 2.28MB/s]\n",
      " 24%|██▍       | 2.36M/9.91M [00:00<00:01, 4.95MB/s]\n",
      " 60%|██████    | 5.96M/9.91M [00:00<00:00, 10.8MB/s]\n",
      "100%|██████████| 9.91M/9.91M [00:00<00:00, 10.2MB/s]\n"
     ]
    },
    {
     "name": "stdout",
     "output_type": "stream",
     "text": [
      "\u001b[36m(RayTrainWorker pid=57177)\u001b[0m Extracting /var/folders/mf/cfzv46p15017stkscsq9jw9h0000gn/T/tmpynugre8n/MNIST/raw/train-images-idx3-ubyte.gz to /var/folders/mf/cfzv46p15017stkscsq9jw9h0000gn/T/tmpynugre8n/MNIST/raw\n",
      "\u001b[36m(RayTrainWorker pid=57177)\u001b[0m \n"
     ]
    },
    {
     "name": "stderr",
     "output_type": "stream",
     "text": [
      "2024-12-24 17:40:21,804\tWARNING tune.py:219 -- Stop signal received (e.g. via SIGINT/Ctrl+C), ending Ray Tune run. This will try to checkpoint the experiment state one last time. Press CTRL+C (or send SIGINT/SIGKILL/SIGTERM) to skip. \n",
      "2024-12-24 17:40:21,832\tINFO tune.py:1009 -- Wrote the latest version of all result files and experiment state to '/Users/sidharrthnagappan/ray_results/TorchTrainer_2024-12-24_17-34-19' in 0.0255s.\n"
     ]
    },
    {
     "name": "stdout",
     "output_type": "stream",
     "text": [
      "\u001b[36m(RayTrainWorker pid=57177)\u001b[0m Failed to download (trying next):\n",
      "\u001b[36m(RayTrainWorker pid=57177)\u001b[0m HTTP Error 403: Forbidden\n",
      "\u001b[36m(RayTrainWorker pid=57177)\u001b[0m \n",
      "\u001b[36m(RayTrainWorker pid=57177)\u001b[0m Downloading https://ossci-datasets.s3.amazonaws.com/mnist/train-labels-idx1-ubyte.gz to /var/folders/mf/cfzv46p15017stkscsq9jw9h0000gn/T/tmpynugre8n/MNIST/raw/train-labels-idx1-ubyte.gz\n"
     ]
    },
    {
     "name": "stderr",
     "output_type": "stream",
     "text": [
      "  0%|          | 0.00/28.9k [00:00<?, ?B/s]\n",
      "100%|██████████| 28.9k/28.9k [00:00<00:00, 349kB/s]\n"
     ]
    },
    {
     "name": "stdout",
     "output_type": "stream",
     "text": [
      "\u001b[36m(RayTrainWorker pid=57177)\u001b[0m Extracting /var/folders/mf/cfzv46p15017stkscsq9jw9h0000gn/T/tmpynugre8n/MNIST/raw/train-labels-idx1-ubyte.gz to /var/folders/mf/cfzv46p15017stkscsq9jw9h0000gn/T/tmpynugre8n/MNIST/raw\n",
      "\u001b[36m(RayTrainWorker pid=57177)\u001b[0m \n",
      "\u001b[36m(RayTrainWorker pid=57177)\u001b[0m Failed to download (trying next):\n",
      "\u001b[36m(RayTrainWorker pid=57177)\u001b[0m HTTP Error 403: Forbidden\n",
      "\u001b[36m(RayTrainWorker pid=57177)\u001b[0m \n",
      "\u001b[36m(RayTrainWorker pid=57177)\u001b[0m Downloading https://ossci-datasets.s3.amazonaws.com/mnist/t10k-images-idx3-ubyte.gz to /var/folders/mf/cfzv46p15017stkscsq9jw9h0000gn/T/tmpynugre8n/MNIST/raw/t10k-images-idx3-ubyte.gz\n"
     ]
    },
    {
     "name": "stderr",
     "output_type": "stream",
     "text": [
      "  0%|          | 0.00/1.65M [00:00<?, ?B/s]\n",
      "  6%|▌         | 98.3k/1.65M [00:00<00:02, 580kB/s]\n",
      " 26%|██▌       | 426k/1.65M [00:00<00:00, 1.37MB/s]\n"
     ]
    },
    {
     "name": "stdout",
     "output_type": "stream",
     "text": [
      "\u001b[36m(RayTrainWorker pid=57177)\u001b[0m Extracting /var/folders/mf/cfzv46p15017stkscsq9jw9h0000gn/T/tmpynugre8n/MNIST/raw/t10k-images-idx3-ubyte.gz to /var/folders/mf/cfzv46p15017stkscsq9jw9h0000gn/T/tmpynugre8n/MNIST/raw\n",
      "\u001b[36m(RayTrainWorker pid=57177)\u001b[0m \n",
      "\u001b[36m(RayTrainWorker pid=57177)\u001b[0m Downloading http://yann.lecun.com/exdb/mnist/t10k-labels-idx1-ubyte.gz\u001b[32m [repeated 6x across cluster]\u001b[0m\n"
     ]
    },
    {
     "name": "stderr",
     "output_type": "stream",
     "text": [
      "100%|██████████| 1.65M/1.65M [00:00<00:00, 3.35MB/s]\n"
     ]
    },
    {
     "name": "stdout",
     "output_type": "stream",
     "text": [
      "\u001b[36m(RayTrainWorker pid=57177)\u001b[0m Failed to download (trying next):\n",
      "\u001b[36m(RayTrainWorker pid=57177)\u001b[0m HTTP Error 403: Forbidden\n",
      "\u001b[36m(RayTrainWorker pid=57177)\u001b[0m \n",
      "\u001b[36m(RayTrainWorker pid=57177)\u001b[0m Downloading https://ossci-datasets.s3.amazonaws.com/mnist/t10k-labels-idx1-ubyte.gz to /var/folders/mf/cfzv46p15017stkscsq9jw9h0000gn/T/tmpynugre8n/MNIST/raw/t10k-labels-idx1-ubyte.gz\n",
      "\u001b[36m(RayTrainWorker pid=57177)\u001b[0m Extracting /var/folders/mf/cfzv46p15017stkscsq9jw9h0000gn/T/tmpynugre8n/MNIST/raw/t10k-labels-idx1-ubyte.gz to /var/folders/mf/cfzv46p15017stkscsq9jw9h0000gn/T/tmpynugre8n/MNIST/raw\n",
      "\u001b[36m(RayTrainWorker pid=57177)\u001b[0m \n"
     ]
    },
    {
     "name": "stderr",
     "output_type": "stream",
     "text": [
      "100%|██████████| 4.54k/4.54k [00:00<00:00, 1.45MB/s]\n",
      "\u001b[36m(RayTrainWorker pid=56542)\u001b[0m Checkpoint successfully created at: Checkpoint(filesystem=local, path=/Users/sidharrthnagappan/ray_results/TorchTrainer_2024-12-24_17-34-19/TorchTrainer_4f4b8_00034_34_batch_size=128,dropout=0.2389,layer_1_size=128,layer_2_size=64,layer_3_size=128,learning_rate=0.0025_2024-12-24_17-34-21/checkpoint_000002)\n",
      "\u001b[36m(RayTrainWorker pid=57177)\u001b[0m \n",
      "\u001b[36m(RayTrainWorker pid=57177)\u001b[0m   | Name     | Type               | Params | Mode \n",
      "\u001b[36m(RayTrainWorker pid=57177)\u001b[0m --------------------------------------------------------\n",
      "\u001b[36m(RayTrainWorker pid=57177)\u001b[0m 0 | accuracy | MulticlassAccuracy | 0      | train\n",
      "\u001b[36m(RayTrainWorker pid=57177)\u001b[0m 1 | layer1   | Linear             | 50.2 K | train\n",
      "\u001b[36m(RayTrainWorker pid=57177)\u001b[0m 2 | layer2   | Linear             | 8.3 K  | train\n",
      "\u001b[36m(RayTrainWorker pid=57177)\u001b[0m 3 | layer3   | Linear             | 66.0 K | train\n",
      "\u001b[36m(RayTrainWorker pid=57177)\u001b[0m 4 | layer4   | Linear             | 5.1 K  | train\n",
      "\u001b[36m(RayTrainWorker pid=57177)\u001b[0m 5 | dropout  | Dropout            | 0      | train\n",
      "\u001b[36m(RayTrainWorker pid=57177)\u001b[0m --------------------------------------------------------\n",
      "\u001b[36m(RayTrainWorker pid=57177)\u001b[0m 129 K     Trainable params\n",
      "\u001b[36m(RayTrainWorker pid=57177)\u001b[0m 0         Non-trainable params\n",
      "\u001b[36m(RayTrainWorker pid=57177)\u001b[0m 129 K     Total params\n",
      "\u001b[36m(RayTrainWorker pid=57177)\u001b[0m 0.519     Total estimated model params size (MB)\n",
      "\u001b[36m(RayTrainWorker pid=57177)\u001b[0m 6         Modules in train mode\n",
      "\u001b[36m(RayTrainWorker pid=57177)\u001b[0m 0         Modules in eval mode\n",
      "\u001b[36m(RayTrainWorker pid=57177)\u001b[0m /Users/sidharrthnagappan/.virtualenvs/lsdp_miniproject/lib/python3.11/site-packages/pytorch_lightning/trainer/connectors/data_connector.py:420: Consider setting `persistent_workers=True` in 'val_dataloader' to speed up the dataloader worker initialization.\n",
      "\u001b[36m(RayTrainWorker pid=56794)\u001b[0m /Users/sidharrthnagappan/.pyenv/versions/3.11.0/lib/python3.11/multiprocessing/resource_tracker.py:224: UserWarning: resource_tracker: There appear to be 55 leaked semaphore objects to clean up at shutdown\n",
      "\u001b[36m(RayTrainWorker pid=56794)\u001b[0m   warnings.warn('resource_tracker: There appear to be %d '\n",
      "\u001b[36m(RayTrainWorker pid=56664)\u001b[0m Checkpoint successfully created at: Checkpoint(filesystem=local, path=/Users/sidharrthnagappan/ray_results/TorchTrainer_2024-12-24_17-34-19/TorchTrainer_4f4b8_00035_35_batch_size=64,dropout=0.1514,layer_1_size=64,layer_2_size=64,layer_3_size=256,learning_rate=0.0030_2024-12-24_17-34-21/checkpoint_000001)\n",
      "\u001b[36m(RayTrainWorker pid=57177)\u001b[0m /Users/sidharrthnagappan/.virtualenvs/lsdp_miniproject/lib/python3.11/site-packages/pytorch_lightning/trainer/connectors/data_connector.py:420: Consider setting `persistent_workers=True` in 'train_dataloader' to speed up the dataloader worker initialization.\n",
      "2024-12-24 17:40:32,624\tINFO tune.py:1041 -- Total run time: 371.43 seconds (360.60 seconds for the tuning loop).\n",
      "2024-12-24 17:40:32,630\tWARNING tune.py:1056 -- Experiment has been interrupted, but the most recent state was saved.\n",
      "Resume experiment with: Tuner.restore(path=\"/Users/sidharrthnagappan/ray_results/TorchTrainer_2024-12-24_17-34-19\", trainable=...)\n",
      "2024-12-24 17:40:32,748\tWARNING experiment_analysis.py:180 -- Failed to fetch metrics for 61 trial(s):\n",
      "- TorchTrainer_4f4b8_00039: FileNotFoundError('Could not fetch metrics for TorchTrainer_4f4b8_00039: both result.json and progress.csv were not found at /Users/sidharrthnagappan/ray_results/TorchTrainer_2024-12-24_17-34-19/TorchTrainer_4f4b8_00039_39_batch_size=32,dropout=0.1003,layer_1_size=64,layer_2_size=128,layer_3_size=128,learning_rate=0.0006_2024-12-24_17-34-21')\n",
      "- TorchTrainer_4f4b8_00040: FileNotFoundError('Could not fetch metrics for TorchTrainer_4f4b8_00040: both result.json and progress.csv were not found at /Users/sidharrthnagappan/ray_results/TorchTrainer_2024-12-24_17-34-19/TorchTrainer_4f4b8_00040_40_batch_size=128,dropout=0.2081,layer_1_size=32,layer_2_size=64,layer_3_size=128,learning_rate=0.0018_2024-12-24_17-34-21')\n",
      "- TorchTrainer_4f4b8_00041: FileNotFoundError('Could not fetch metrics for TorchTrainer_4f4b8_00041: both result.json and progress.csv were not found at /Users/sidharrthnagappan/ray_results/TorchTrainer_2024-12-24_17-34-19/TorchTrainer_4f4b8_00041_41_batch_size=32,dropout=0.1742,layer_1_size=32,layer_2_size=128,layer_3_size=128,learning_rate=0.0001_2024-12-24_17-34-21')\n",
      "- TorchTrainer_4f4b8_00042: FileNotFoundError('Could not fetch metrics for TorchTrainer_4f4b8_00042: both result.json and progress.csv were not found at /Users/sidharrthnagappan/ray_results/TorchTrainer_2024-12-24_17-34-19/TorchTrainer_4f4b8_00042_42_batch_size=32,dropout=0.2102,layer_1_size=128,layer_2_size=128,layer_3_size=512,learning_rate=0.0046_2024-12-24_17-34-21')\n",
      "- TorchTrainer_4f4b8_00043: FileNotFoundError('Could not fetch metrics for TorchTrainer_4f4b8_00043: both result.json and progress.csv were not found at /Users/sidharrthnagappan/ray_results/TorchTrainer_2024-12-24_17-34-19/TorchTrainer_4f4b8_00043_43_batch_size=128,dropout=0.1771,layer_1_size=32,layer_2_size=256,layer_3_size=512,learning_rate=0.0001_2024-12-24_17-34-21')\n",
      "- TorchTrainer_4f4b8_00044: FileNotFoundError('Could not fetch metrics for TorchTrainer_4f4b8_00044: both result.json and progress.csv were not found at /Users/sidharrthnagappan/ray_results/TorchTrainer_2024-12-24_17-34-19/TorchTrainer_4f4b8_00044_44_batch_size=128,dropout=0.1525,layer_1_size=64,layer_2_size=64,layer_3_size=512,learning_rate=0.0823_2024-12-24_17-34-21')\n",
      "- TorchTrainer_4f4b8_00045: FileNotFoundError('Could not fetch metrics for TorchTrainer_4f4b8_00045: both result.json and progress.csv were not found at /Users/sidharrthnagappan/ray_results/TorchTrainer_2024-12-24_17-34-19/TorchTrainer_4f4b8_00045_45_batch_size=32,dropout=0.2588,layer_1_size=128,layer_2_size=128,layer_3_size=512,learning_rate=0.0032_2024-12-24_17-34-21')\n",
      "- TorchTrainer_4f4b8_00046: FileNotFoundError('Could not fetch metrics for TorchTrainer_4f4b8_00046: both result.json and progress.csv were not found at /Users/sidharrthnagappan/ray_results/TorchTrainer_2024-12-24_17-34-19/TorchTrainer_4f4b8_00046_46_batch_size=64,dropout=0.1737,layer_1_size=128,layer_2_size=64,layer_3_size=256,learning_rate=0.0312_2024-12-24_17-34-21')\n",
      "- TorchTrainer_4f4b8_00047: FileNotFoundError('Could not fetch metrics for TorchTrainer_4f4b8_00047: both result.json and progress.csv were not found at /Users/sidharrthnagappan/ray_results/TorchTrainer_2024-12-24_17-34-19/TorchTrainer_4f4b8_00047_47_batch_size=128,dropout=0.2935,layer_1_size=32,layer_2_size=64,layer_3_size=512,learning_rate=0.0002_2024-12-24_17-34-21')\n",
      "- TorchTrainer_4f4b8_00048: FileNotFoundError('Could not fetch metrics for TorchTrainer_4f4b8_00048: both result.json and progress.csv were not found at /Users/sidharrthnagappan/ray_results/TorchTrainer_2024-12-24_17-34-19/TorchTrainer_4f4b8_00048_48_batch_size=128,dropout=0.2756,layer_1_size=64,layer_2_size=256,layer_3_size=256,learning_rate=0.0039_2024-12-24_17-34-21')\n",
      "- TorchTrainer_4f4b8_00049: FileNotFoundError('Could not fetch metrics for TorchTrainer_4f4b8_00049: both result.json and progress.csv were not found at /Users/sidharrthnagappan/ray_results/TorchTrainer_2024-12-24_17-34-19/TorchTrainer_4f4b8_00049_49_batch_size=64,dropout=0.1020,layer_1_size=128,layer_2_size=128,layer_3_size=128,learning_rate=0.0122_2024-12-24_17-34-21')\n",
      "- TorchTrainer_4f4b8_00050: FileNotFoundError('Could not fetch metrics for TorchTrainer_4f4b8_00050: both result.json and progress.csv were not found at /Users/sidharrthnagappan/ray_results/TorchTrainer_2024-12-24_17-34-19/TorchTrainer_4f4b8_00050_50_batch_size=32,dropout=0.2974,layer_1_size=64,layer_2_size=256,layer_3_size=256,learning_rate=0.0008_2024-12-24_17-34-21')\n",
      "- TorchTrainer_4f4b8_00051: FileNotFoundError('Could not fetch metrics for TorchTrainer_4f4b8_00051: both result.json and progress.csv were not found at /Users/sidharrthnagappan/ray_results/TorchTrainer_2024-12-24_17-34-19/TorchTrainer_4f4b8_00051_51_batch_size=128,dropout=0.2252,layer_1_size=128,layer_2_size=128,layer_3_size=128,learning_rate=0.0009_2024-12-24_17-34-21')\n",
      "- TorchTrainer_4f4b8_00052: FileNotFoundError('Could not fetch metrics for TorchTrainer_4f4b8_00052: both result.json and progress.csv were not found at /Users/sidharrthnagappan/ray_results/TorchTrainer_2024-12-24_17-34-19/TorchTrainer_4f4b8_00052_52_batch_size=32,dropout=0.2453,layer_1_size=32,layer_2_size=256,layer_3_size=256,learning_rate=0.0048_2024-12-24_17-34-21')\n",
      "- TorchTrainer_4f4b8_00053: FileNotFoundError('Could not fetch metrics for TorchTrainer_4f4b8_00053: both result.json and progress.csv were not found at /Users/sidharrthnagappan/ray_results/TorchTrainer_2024-12-24_17-34-19/TorchTrainer_4f4b8_00053_53_batch_size=128,dropout=0.1072,layer_1_size=128,layer_2_size=256,layer_3_size=512,learning_rate=0.0060_2024-12-24_17-34-21')\n",
      "- TorchTrainer_4f4b8_00054: FileNotFoundError('Could not fetch metrics for TorchTrainer_4f4b8_00054: both result.json and progress.csv were not found at /Users/sidharrthnagappan/ray_results/TorchTrainer_2024-12-24_17-34-19/TorchTrainer_4f4b8_00054_54_batch_size=32,dropout=0.1553,layer_1_size=64,layer_2_size=128,layer_3_size=256,learning_rate=0.0003_2024-12-24_17-34-21')\n",
      "- TorchTrainer_4f4b8_00055: FileNotFoundError('Could not fetch metrics for TorchTrainer_4f4b8_00055: both result.json and progress.csv were not found at /Users/sidharrthnagappan/ray_results/TorchTrainer_2024-12-24_17-34-19/TorchTrainer_4f4b8_00055_55_batch_size=128,dropout=0.2046,layer_1_size=128,layer_2_size=128,layer_3_size=512,learning_rate=0.0676_2024-12-24_17-34-21')\n",
      "- TorchTrainer_4f4b8_00056: FileNotFoundError('Could not fetch metrics for TorchTrainer_4f4b8_00056: both result.json and progress.csv were not found at /Users/sidharrthnagappan/ray_results/TorchTrainer_2024-12-24_17-34-19/TorchTrainer_4f4b8_00056_56_batch_size=64,dropout=0.1312,layer_1_size=128,layer_2_size=256,layer_3_size=128,learning_rate=0.0005_2024-12-24_17-34-21')\n",
      "- TorchTrainer_4f4b8_00057: FileNotFoundError('Could not fetch metrics for TorchTrainer_4f4b8_00057: both result.json and progress.csv were not found at /Users/sidharrthnagappan/ray_results/TorchTrainer_2024-12-24_17-34-19/TorchTrainer_4f4b8_00057_57_batch_size=128,dropout=0.1647,layer_1_size=32,layer_2_size=64,layer_3_size=128,learning_rate=0.0001_2024-12-24_17-34-21')\n",
      "- TorchTrainer_4f4b8_00058: FileNotFoundError('Could not fetch metrics for TorchTrainer_4f4b8_00058: both result.json and progress.csv were not found at /Users/sidharrthnagappan/ray_results/TorchTrainer_2024-12-24_17-34-19/TorchTrainer_4f4b8_00058_58_batch_size=64,dropout=0.2690,layer_1_size=128,layer_2_size=128,layer_3_size=512,learning_rate=0.0020_2024-12-24_17-34-21')\n",
      "- TorchTrainer_4f4b8_00059: FileNotFoundError('Could not fetch metrics for TorchTrainer_4f4b8_00059: both result.json and progress.csv were not found at /Users/sidharrthnagappan/ray_results/TorchTrainer_2024-12-24_17-34-19/TorchTrainer_4f4b8_00059_59_batch_size=64,dropout=0.2058,layer_1_size=128,layer_2_size=64,layer_3_size=256,learning_rate=0.0002_2024-12-24_17-34-21')\n",
      "- TorchTrainer_4f4b8_00060: FileNotFoundError('Could not fetch metrics for TorchTrainer_4f4b8_00060: both result.json and progress.csv were not found at /Users/sidharrthnagappan/ray_results/TorchTrainer_2024-12-24_17-34-19/TorchTrainer_4f4b8_00060_60_batch_size=32,dropout=0.1057,layer_1_size=32,layer_2_size=256,layer_3_size=128,learning_rate=0.0183_2024-12-24_17-34-21')\n",
      "- TorchTrainer_4f4b8_00061: FileNotFoundError('Could not fetch metrics for TorchTrainer_4f4b8_00061: both result.json and progress.csv were not found at /Users/sidharrthnagappan/ray_results/TorchTrainer_2024-12-24_17-34-19/TorchTrainer_4f4b8_00061_61_batch_size=64,dropout=0.1178,layer_1_size=64,layer_2_size=256,layer_3_size=256,learning_rate=0.0552_2024-12-24_17-34-21')\n",
      "- TorchTrainer_4f4b8_00062: FileNotFoundError('Could not fetch metrics for TorchTrainer_4f4b8_00062: both result.json and progress.csv were not found at /Users/sidharrthnagappan/ray_results/TorchTrainer_2024-12-24_17-34-19/TorchTrainer_4f4b8_00062_62_batch_size=64,dropout=0.1352,layer_1_size=32,layer_2_size=128,layer_3_size=128,learning_rate=0.0002_2024-12-24_17-34-21')\n",
      "- TorchTrainer_4f4b8_00063: FileNotFoundError('Could not fetch metrics for TorchTrainer_4f4b8_00063: both result.json and progress.csv were not found at /Users/sidharrthnagappan/ray_results/TorchTrainer_2024-12-24_17-34-19/TorchTrainer_4f4b8_00063_63_batch_size=32,dropout=0.1096,layer_1_size=32,layer_2_size=256,layer_3_size=128,learning_rate=0.0007_2024-12-24_17-34-21')\n",
      "- TorchTrainer_4f4b8_00064: FileNotFoundError('Could not fetch metrics for TorchTrainer_4f4b8_00064: both result.json and progress.csv were not found at /Users/sidharrthnagappan/ray_results/TorchTrainer_2024-12-24_17-34-19/TorchTrainer_4f4b8_00064_64_batch_size=64,dropout=0.2475,layer_1_size=32,layer_2_size=64,layer_3_size=128,learning_rate=0.0013_2024-12-24_17-34-21')\n",
      "- TorchTrainer_4f4b8_00065: FileNotFoundError('Could not fetch metrics for TorchTrainer_4f4b8_00065: both result.json and progress.csv were not found at /Users/sidharrthnagappan/ray_results/TorchTrainer_2024-12-24_17-34-19/TorchTrainer_4f4b8_00065_65_batch_size=128,dropout=0.1560,layer_1_size=128,layer_2_size=256,layer_3_size=512,learning_rate=0.0018_2024-12-24_17-34-21')\n",
      "- TorchTrainer_4f4b8_00066: FileNotFoundError('Could not fetch metrics for TorchTrainer_4f4b8_00066: both result.json and progress.csv were not found at /Users/sidharrthnagappan/ray_results/TorchTrainer_2024-12-24_17-34-19/TorchTrainer_4f4b8_00066_66_batch_size=64,dropout=0.1595,layer_1_size=64,layer_2_size=256,layer_3_size=256,learning_rate=0.0307_2024-12-24_17-34-21')\n",
      "- TorchTrainer_4f4b8_00067: FileNotFoundError('Could not fetch metrics for TorchTrainer_4f4b8_00067: both result.json and progress.csv were not found at /Users/sidharrthnagappan/ray_results/TorchTrainer_2024-12-24_17-34-19/TorchTrainer_4f4b8_00067_67_batch_size=32,dropout=0.1406,layer_1_size=128,layer_2_size=256,layer_3_size=256,learning_rate=0.0002_2024-12-24_17-34-21')\n",
      "- TorchTrainer_4f4b8_00068: FileNotFoundError('Could not fetch metrics for TorchTrainer_4f4b8_00068: both result.json and progress.csv were not found at /Users/sidharrthnagappan/ray_results/TorchTrainer_2024-12-24_17-34-19/TorchTrainer_4f4b8_00068_68_batch_size=32,dropout=0.2457,layer_1_size=128,layer_2_size=64,layer_3_size=512,learning_rate=0.0078_2024-12-24_17-34-21')\n",
      "- TorchTrainer_4f4b8_00069: FileNotFoundError('Could not fetch metrics for TorchTrainer_4f4b8_00069: both result.json and progress.csv were not found at /Users/sidharrthnagappan/ray_results/TorchTrainer_2024-12-24_17-34-19/TorchTrainer_4f4b8_00069_69_batch_size=128,dropout=0.2382,layer_1_size=64,layer_2_size=128,layer_3_size=128,learning_rate=0.0040_2024-12-24_17-34-21')\n",
      "- TorchTrainer_4f4b8_00070: FileNotFoundError('Could not fetch metrics for TorchTrainer_4f4b8_00070: both result.json and progress.csv were not found at /Users/sidharrthnagappan/ray_results/TorchTrainer_2024-12-24_17-34-19/TorchTrainer_4f4b8_00070_70_batch_size=128,dropout=0.2199,layer_1_size=32,layer_2_size=256,layer_3_size=512,learning_rate=0.0577_2024-12-24_17-34-21')\n",
      "- TorchTrainer_4f4b8_00071: FileNotFoundError('Could not fetch metrics for TorchTrainer_4f4b8_00071: both result.json and progress.csv were not found at /Users/sidharrthnagappan/ray_results/TorchTrainer_2024-12-24_17-34-19/TorchTrainer_4f4b8_00071_71_batch_size=128,dropout=0.1871,layer_1_size=64,layer_2_size=256,layer_3_size=128,learning_rate=0.0011_2024-12-24_17-34-21')\n",
      "- TorchTrainer_4f4b8_00072: FileNotFoundError('Could not fetch metrics for TorchTrainer_4f4b8_00072: both result.json and progress.csv were not found at /Users/sidharrthnagappan/ray_results/TorchTrainer_2024-12-24_17-34-19/TorchTrainer_4f4b8_00072_72_batch_size=64,dropout=0.1672,layer_1_size=32,layer_2_size=256,layer_3_size=128,learning_rate=0.0041_2024-12-24_17-34-21')\n",
      "- TorchTrainer_4f4b8_00073: FileNotFoundError('Could not fetch metrics for TorchTrainer_4f4b8_00073: both result.json and progress.csv were not found at /Users/sidharrthnagappan/ray_results/TorchTrainer_2024-12-24_17-34-19/TorchTrainer_4f4b8_00073_73_batch_size=64,dropout=0.2519,layer_1_size=64,layer_2_size=128,layer_3_size=128,learning_rate=0.0003_2024-12-24_17-34-21')\n",
      "- TorchTrainer_4f4b8_00074: FileNotFoundError('Could not fetch metrics for TorchTrainer_4f4b8_00074: both result.json and progress.csv were not found at /Users/sidharrthnagappan/ray_results/TorchTrainer_2024-12-24_17-34-19/TorchTrainer_4f4b8_00074_74_batch_size=64,dropout=0.1458,layer_1_size=64,layer_2_size=256,layer_3_size=512,learning_rate=0.0002_2024-12-24_17-34-21')\n",
      "- TorchTrainer_4f4b8_00075: FileNotFoundError('Could not fetch metrics for TorchTrainer_4f4b8_00075: both result.json and progress.csv were not found at /Users/sidharrthnagappan/ray_results/TorchTrainer_2024-12-24_17-34-19/TorchTrainer_4f4b8_00075_75_batch_size=64,dropout=0.1198,layer_1_size=32,layer_2_size=64,layer_3_size=256,learning_rate=0.0069_2024-12-24_17-34-21')\n",
      "- TorchTrainer_4f4b8_00076: FileNotFoundError('Could not fetch metrics for TorchTrainer_4f4b8_00076: both result.json and progress.csv were not found at /Users/sidharrthnagappan/ray_results/TorchTrainer_2024-12-24_17-34-19/TorchTrainer_4f4b8_00076_76_batch_size=32,dropout=0.1427,layer_1_size=64,layer_2_size=256,layer_3_size=128,learning_rate=0.0011_2024-12-24_17-34-21')\n",
      "- TorchTrainer_4f4b8_00077: FileNotFoundError('Could not fetch metrics for TorchTrainer_4f4b8_00077: both result.json and progress.csv were not found at /Users/sidharrthnagappan/ray_results/TorchTrainer_2024-12-24_17-34-19/TorchTrainer_4f4b8_00077_77_batch_size=64,dropout=0.1682,layer_1_size=128,layer_2_size=256,layer_3_size=512,learning_rate=0.0656_2024-12-24_17-34-21')\n",
      "- TorchTrainer_4f4b8_00078: FileNotFoundError('Could not fetch metrics for TorchTrainer_4f4b8_00078: both result.json and progress.csv were not found at /Users/sidharrthnagappan/ray_results/TorchTrainer_2024-12-24_17-34-19/TorchTrainer_4f4b8_00078_78_batch_size=128,dropout=0.1029,layer_1_size=128,layer_2_size=256,layer_3_size=128,learning_rate=0.0033_2024-12-24_17-34-21')\n",
      "- TorchTrainer_4f4b8_00079: FileNotFoundError('Could not fetch metrics for TorchTrainer_4f4b8_00079: both result.json and progress.csv were not found at /Users/sidharrthnagappan/ray_results/TorchTrainer_2024-12-24_17-34-19/TorchTrainer_4f4b8_00079_79_batch_size=128,dropout=0.2592,layer_1_size=32,layer_2_size=64,layer_3_size=512,learning_rate=0.0386_2024-12-24_17-34-21')\n",
      "- TorchTrainer_4f4b8_00080: FileNotFoundError('Could not fetch metrics for TorchTrainer_4f4b8_00080: both result.json and progress.csv were not found at /Users/sidharrthnagappan/ray_results/TorchTrainer_2024-12-24_17-34-19/TorchTrainer_4f4b8_00080_80_batch_size=64,dropout=0.2276,layer_1_size=64,layer_2_size=256,layer_3_size=256,learning_rate=0.0002_2024-12-24_17-34-21')\n",
      "- TorchTrainer_4f4b8_00081: FileNotFoundError('Could not fetch metrics for TorchTrainer_4f4b8_00081: both result.json and progress.csv were not found at /Users/sidharrthnagappan/ray_results/TorchTrainer_2024-12-24_17-34-19/TorchTrainer_4f4b8_00081_81_batch_size=32,dropout=0.2828,layer_1_size=32,layer_2_size=64,layer_3_size=256,learning_rate=0.0158_2024-12-24_17-34-21')\n",
      "- TorchTrainer_4f4b8_00082: FileNotFoundError('Could not fetch metrics for TorchTrainer_4f4b8_00082: both result.json and progress.csv were not found at /Users/sidharrthnagappan/ray_results/TorchTrainer_2024-12-24_17-34-19/TorchTrainer_4f4b8_00082_82_batch_size=64,dropout=0.2020,layer_1_size=64,layer_2_size=256,layer_3_size=128,learning_rate=0.0002_2024-12-24_17-34-21')\n",
      "- TorchTrainer_4f4b8_00083: FileNotFoundError('Could not fetch metrics for TorchTrainer_4f4b8_00083: both result.json and progress.csv were not found at /Users/sidharrthnagappan/ray_results/TorchTrainer_2024-12-24_17-34-19/TorchTrainer_4f4b8_00083_83_batch_size=32,dropout=0.2198,layer_1_size=32,layer_2_size=128,layer_3_size=512,learning_rate=0.0012_2024-12-24_17-34-21')\n",
      "- TorchTrainer_4f4b8_00084: FileNotFoundError('Could not fetch metrics for TorchTrainer_4f4b8_00084: both result.json and progress.csv were not found at /Users/sidharrthnagappan/ray_results/TorchTrainer_2024-12-24_17-34-19/TorchTrainer_4f4b8_00084_84_batch_size=64,dropout=0.1650,layer_1_size=128,layer_2_size=256,layer_3_size=512,learning_rate=0.0468_2024-12-24_17-34-21')\n",
      "- TorchTrainer_4f4b8_00085: FileNotFoundError('Could not fetch metrics for TorchTrainer_4f4b8_00085: both result.json and progress.csv were not found at /Users/sidharrthnagappan/ray_results/TorchTrainer_2024-12-24_17-34-19/TorchTrainer_4f4b8_00085_85_batch_size=64,dropout=0.1455,layer_1_size=128,layer_2_size=256,layer_3_size=512,learning_rate=0.0604_2024-12-24_17-34-21')\n",
      "- TorchTrainer_4f4b8_00086: FileNotFoundError('Could not fetch metrics for TorchTrainer_4f4b8_00086: both result.json and progress.csv were not found at /Users/sidharrthnagappan/ray_results/TorchTrainer_2024-12-24_17-34-19/TorchTrainer_4f4b8_00086_86_batch_size=32,dropout=0.1647,layer_1_size=32,layer_2_size=64,layer_3_size=256,learning_rate=0.0202_2024-12-24_17-34-21')\n",
      "- TorchTrainer_4f4b8_00087: FileNotFoundError('Could not fetch metrics for TorchTrainer_4f4b8_00087: both result.json and progress.csv were not found at /Users/sidharrthnagappan/ray_results/TorchTrainer_2024-12-24_17-34-19/TorchTrainer_4f4b8_00087_87_batch_size=128,dropout=0.2150,layer_1_size=32,layer_2_size=128,layer_3_size=512,learning_rate=0.0013_2024-12-24_17-34-21')\n",
      "- TorchTrainer_4f4b8_00088: FileNotFoundError('Could not fetch metrics for TorchTrainer_4f4b8_00088: both result.json and progress.csv were not found at /Users/sidharrthnagappan/ray_results/TorchTrainer_2024-12-24_17-34-19/TorchTrainer_4f4b8_00088_88_batch_size=64,dropout=0.1053,layer_1_size=32,layer_2_size=256,layer_3_size=256,learning_rate=0.0136_2024-12-24_17-34-21')\n",
      "- TorchTrainer_4f4b8_00089: FileNotFoundError('Could not fetch metrics for TorchTrainer_4f4b8_00089: both result.json and progress.csv were not found at /Users/sidharrthnagappan/ray_results/TorchTrainer_2024-12-24_17-34-19/TorchTrainer_4f4b8_00089_89_batch_size=32,dropout=0.2471,layer_1_size=128,layer_2_size=256,layer_3_size=256,learning_rate=0.0004_2024-12-24_17-34-21')\n",
      "- TorchTrainer_4f4b8_00090: FileNotFoundError('Could not fetch metrics for TorchTrainer_4f4b8_00090: both result.json and progress.csv were not found at /Users/sidharrthnagappan/ray_results/TorchTrainer_2024-12-24_17-34-19/TorchTrainer_4f4b8_00090_90_batch_size=128,dropout=0.1816,layer_1_size=128,layer_2_size=256,layer_3_size=128,learning_rate=0.0031_2024-12-24_17-34-21')\n",
      "- TorchTrainer_4f4b8_00091: FileNotFoundError('Could not fetch metrics for TorchTrainer_4f4b8_00091: both result.json and progress.csv were not found at /Users/sidharrthnagappan/ray_results/TorchTrainer_2024-12-24_17-34-19/TorchTrainer_4f4b8_00091_91_batch_size=32,dropout=0.1205,layer_1_size=32,layer_2_size=64,layer_3_size=512,learning_rate=0.0011_2024-12-24_17-34-21')\n",
      "- TorchTrainer_4f4b8_00092: FileNotFoundError('Could not fetch metrics for TorchTrainer_4f4b8_00092: both result.json and progress.csv were not found at /Users/sidharrthnagappan/ray_results/TorchTrainer_2024-12-24_17-34-19/TorchTrainer_4f4b8_00092_92_batch_size=64,dropout=0.1630,layer_1_size=128,layer_2_size=64,layer_3_size=128,learning_rate=0.0876_2024-12-24_17-34-21')\n",
      "- TorchTrainer_4f4b8_00093: FileNotFoundError('Could not fetch metrics for TorchTrainer_4f4b8_00093: both result.json and progress.csv were not found at /Users/sidharrthnagappan/ray_results/TorchTrainer_2024-12-24_17-34-19/TorchTrainer_4f4b8_00093_93_batch_size=64,dropout=0.1335,layer_1_size=64,layer_2_size=64,layer_3_size=512,learning_rate=0.0022_2024-12-24_17-34-21')\n",
      "- TorchTrainer_4f4b8_00094: FileNotFoundError('Could not fetch metrics for TorchTrainer_4f4b8_00094: both result.json and progress.csv were not found at /Users/sidharrthnagappan/ray_results/TorchTrainer_2024-12-24_17-34-19/TorchTrainer_4f4b8_00094_94_batch_size=128,dropout=0.1068,layer_1_size=128,layer_2_size=256,layer_3_size=256,learning_rate=0.0240_2024-12-24_17-34-21')\n",
      "- TorchTrainer_4f4b8_00095: FileNotFoundError('Could not fetch metrics for TorchTrainer_4f4b8_00095: both result.json and progress.csv were not found at /Users/sidharrthnagappan/ray_results/TorchTrainer_2024-12-24_17-34-19/TorchTrainer_4f4b8_00095_95_batch_size=128,dropout=0.2614,layer_1_size=32,layer_2_size=256,layer_3_size=128,learning_rate=0.0056_2024-12-24_17-34-21')\n",
      "- TorchTrainer_4f4b8_00096: FileNotFoundError('Could not fetch metrics for TorchTrainer_4f4b8_00096: both result.json and progress.csv were not found at /Users/sidharrthnagappan/ray_results/TorchTrainer_2024-12-24_17-34-19/TorchTrainer_4f4b8_00096_96_batch_size=32,dropout=0.2662,layer_1_size=128,layer_2_size=128,layer_3_size=512,learning_rate=0.0062_2024-12-24_17-34-21')\n",
      "- TorchTrainer_4f4b8_00097: FileNotFoundError('Could not fetch metrics for TorchTrainer_4f4b8_00097: both result.json and progress.csv were not found at /Users/sidharrthnagappan/ray_results/TorchTrainer_2024-12-24_17-34-19/TorchTrainer_4f4b8_00097_97_batch_size=32,dropout=0.1770,layer_1_size=32,layer_2_size=256,layer_3_size=512,learning_rate=0.0002_2024-12-24_17-34-21')\n",
      "- TorchTrainer_4f4b8_00098: FileNotFoundError('Could not fetch metrics for TorchTrainer_4f4b8_00098: both result.json and progress.csv were not found at /Users/sidharrthnagappan/ray_results/TorchTrainer_2024-12-24_17-34-19/TorchTrainer_4f4b8_00098_98_batch_size=32,dropout=0.1392,layer_1_size=128,layer_2_size=256,layer_3_size=512,learning_rate=0.0025_2024-12-24_17-34-21')\n",
      "- TorchTrainer_4f4b8_00099: FileNotFoundError('Could not fetch metrics for TorchTrainer_4f4b8_00099: both result.json and progress.csv were not found at /Users/sidharrthnagappan/ray_results/TorchTrainer_2024-12-24_17-34-19/TorchTrainer_4f4b8_00099_99_batch_size=128,dropout=0.2809,layer_1_size=64,layer_2_size=128,layer_3_size=128,learning_rate=0.0113_2024-12-24_17-34-21')\n"
     ]
    },
    {
     "data": {
      "text/plain": [
       "ResultGrid<[\n",
       "  Result(\n",
       "    metrics={'ptl/train_loss': 0.14144454896450043, 'ptl/train_accuracy': 0.9659090638160706, 'ptl/val_loss': 0.09280373156070709, 'ptl/val_accuracy': 0.970507800579071, 'epoch': 4, 'step': 2150},\n",
       "    path='/Users/sidharrthnagappan/ray_results/TorchTrainer_2024-12-24_17-34-19/TorchTrainer_4f4b8_00000_0_batch_size=128,dropout=0.1647,layer_1_size=64,layer_2_size=256,layer_3_size=256,learning_rate=0.0013_2024-12-24_17-34-21',\n",
       "    filesystem='local',\n",
       "    checkpoint=Checkpoint(filesystem=local, path=/Users/sidharrthnagappan/ray_results/TorchTrainer_2024-12-24_17-34-19/TorchTrainer_4f4b8_00000_0_batch_size=128,dropout=0.1647,layer_1_size=64,layer_2_size=256,layer_3_size=256,learning_rate=0.0013_2024-12-24_17-34-21/checkpoint_000004)\n",
       "  ),\n",
       "  Result(\n",
       "    metrics={'ptl/train_loss': 0.24482308328151703, 'ptl/train_accuracy': 0.9583333134651184, 'ptl/val_loss': 0.1930762678384781, 'ptl/val_accuracy': 0.9432357549667358, 'epoch': 0, 'step': 860},\n",
       "    path='/Users/sidharrthnagappan/ray_results/TorchTrainer_2024-12-24_17-34-19/TorchTrainer_4f4b8_00001_1_batch_size=64,dropout=0.1630,layer_1_size=128,layer_2_size=256,layer_3_size=128,learning_rate=0.0033_2024-12-24_17-34-21',\n",
       "    filesystem='local',\n",
       "    checkpoint=Checkpoint(filesystem=local, path=/Users/sidharrthnagappan/ray_results/TorchTrainer_2024-12-24_17-34-19/TorchTrainer_4f4b8_00001_1_batch_size=64,dropout=0.1630,layer_1_size=128,layer_2_size=256,layer_3_size=128,learning_rate=0.0033_2024-12-24_17-34-21/checkpoint_000000)\n",
       "  ),\n",
       "  Result(\n",
       "    metrics={'ptl/train_loss': 0.006889925803989172, 'ptl/train_accuracy': 1.0, 'ptl/val_loss': 0.11587541550397873, 'ptl/val_accuracy': 0.9661787748336792, 'epoch': 4, 'step': 4300},\n",
       "    path='/Users/sidharrthnagappan/ray_results/TorchTrainer_2024-12-24_17-34-19/TorchTrainer_4f4b8_00002_2_batch_size=64,dropout=0.1395,layer_1_size=64,layer_2_size=64,layer_3_size=256,learning_rate=0.0017_2024-12-24_17-34-21',\n",
       "    filesystem='local',\n",
       "    checkpoint=Checkpoint(filesystem=local, path=/Users/sidharrthnagappan/ray_results/TorchTrainer_2024-12-24_17-34-19/TorchTrainer_4f4b8_00002_2_batch_size=64,dropout=0.1395,layer_1_size=64,layer_2_size=64,layer_3_size=256,learning_rate=0.0017_2024-12-24_17-34-21/checkpoint_000004)\n",
       "  ),\n",
       "  Result(\n",
       "    metrics={'ptl/train_loss': 0.619470477104187, 'ptl/train_accuracy': 0.8181818127632141, 'ptl/val_loss': 0.48911532759666443, 'ptl/val_accuracy': 0.885546863079071, 'epoch': 4, 'step': 2150},\n",
       "    path='/Users/sidharrthnagappan/ray_results/TorchTrainer_2024-12-24_17-34-19/TorchTrainer_4f4b8_00003_3_batch_size=128,dropout=0.2106,layer_1_size=128,layer_2_size=64,layer_3_size=128,learning_rate=0.0230_2024-12-24_17-34-21',\n",
       "    filesystem='local',\n",
       "    checkpoint=Checkpoint(filesystem=local, path=/Users/sidharrthnagappan/ray_results/TorchTrainer_2024-12-24_17-34-19/TorchTrainer_4f4b8_00003_3_batch_size=128,dropout=0.2106,layer_1_size=128,layer_2_size=64,layer_3_size=128,learning_rate=0.0230_2024-12-24_17-34-21/checkpoint_000004)\n",
       "  ),\n",
       "  Result(\n",
       "    metrics={'ptl/train_loss': 0.18450260162353516, 'ptl/train_accuracy': 0.9583333134651184, 'ptl/val_loss': 0.21915975213050842, 'ptl/val_accuracy': 0.9327229261398315, 'epoch': 0, 'step': 1719},\n",
       "    path='/Users/sidharrthnagappan/ray_results/TorchTrainer_2024-12-24_17-34-19/TorchTrainer_4f4b8_00004_4_batch_size=32,dropout=0.2442,layer_1_size=64,layer_2_size=64,layer_3_size=512,learning_rate=0.0013_2024-12-24_17-34-21',\n",
       "    filesystem='local',\n",
       "    checkpoint=Checkpoint(filesystem=local, path=/Users/sidharrthnagappan/ray_results/TorchTrainer_2024-12-24_17-34-19/TorchTrainer_4f4b8_00004_4_batch_size=32,dropout=0.2442,layer_1_size=64,layer_2_size=64,layer_3_size=512,learning_rate=0.0013_2024-12-24_17-34-21/checkpoint_000000)\n",
       "  ),\n",
       "  Result(\n",
       "    metrics={'ptl/train_loss': 0.10655687004327774, 'ptl/train_accuracy': 1.0, 'ptl/val_loss': 0.21590210497379303, 'ptl/val_accuracy': 0.9355221390724182, 'epoch': 0, 'step': 860},\n",
       "    path='/Users/sidharrthnagappan/ray_results/TorchTrainer_2024-12-24_17-34-19/TorchTrainer_4f4b8_00005_5_batch_size=64,dropout=0.2187,layer_1_size=32,layer_2_size=128,layer_3_size=256,learning_rate=0.0018_2024-12-24_17-34-21',\n",
       "    filesystem='local',\n",
       "    checkpoint=Checkpoint(filesystem=local, path=/Users/sidharrthnagappan/ray_results/TorchTrainer_2024-12-24_17-34-19/TorchTrainer_4f4b8_00005_5_batch_size=64,dropout=0.2187,layer_1_size=32,layer_2_size=128,layer_3_size=256,learning_rate=0.0018_2024-12-24_17-34-21/checkpoint_000000)\n",
       "  ),\n",
       "  Result(\n",
       "    metrics={'ptl/train_loss': 0.48807045817375183, 'ptl/train_accuracy': 0.875, 'ptl/val_loss': 0.36634716391563416, 'ptl/val_accuracy': 0.904469907283783, 'epoch': 0, 'step': 860},\n",
       "    path='/Users/sidharrthnagappan/ray_results/TorchTrainer_2024-12-24_17-34-19/TorchTrainer_4f4b8_00006_6_batch_size=64,dropout=0.2174,layer_1_size=64,layer_2_size=256,layer_3_size=128,learning_rate=0.0088_2024-12-24_17-34-21',\n",
       "    filesystem='local',\n",
       "    checkpoint=Checkpoint(filesystem=local, path=/Users/sidharrthnagappan/ray_results/TorchTrainer_2024-12-24_17-34-19/TorchTrainer_4f4b8_00006_6_batch_size=64,dropout=0.2174,layer_1_size=64,layer_2_size=256,layer_3_size=128,learning_rate=0.0088_2024-12-24_17-34-21/checkpoint_000000)\n",
       "  ),\n",
       "  Result(\n",
       "    metrics={'ptl/train_loss': 0.4480839669704437, 'ptl/train_accuracy': 0.9166666865348816, 'ptl/val_loss': 0.50906902551651, 'ptl/val_accuracy': 0.8617483973503113, 'epoch': 0, 'step': 860},\n",
       "    path='/Users/sidharrthnagappan/ray_results/TorchTrainer_2024-12-24_17-34-19/TorchTrainer_4f4b8_00007_7_batch_size=64,dropout=0.1907,layer_1_size=128,layer_2_size=256,layer_3_size=512,learning_rate=0.0119_2024-12-24_17-34-21',\n",
       "    filesystem='local',\n",
       "    checkpoint=Checkpoint(filesystem=local, path=/Users/sidharrthnagappan/ray_results/TorchTrainer_2024-12-24_17-34-19/TorchTrainer_4f4b8_00007_7_batch_size=64,dropout=0.1907,layer_1_size=128,layer_2_size=256,layer_3_size=512,learning_rate=0.0119_2024-12-24_17-34-21/checkpoint_000000)\n",
       "  ),\n",
       "  Result(\n",
       "    metrics={'ptl/train_loss': 0.5519037842750549, 'ptl/train_accuracy': 0.8409090638160706, 'ptl/val_loss': 0.42836737632751465, 'ptl/val_accuracy': 0.875781238079071, 'epoch': 0, 'step': 430},\n",
       "    path='/Users/sidharrthnagappan/ray_results/TorchTrainer_2024-12-24_17-34-19/TorchTrainer_4f4b8_00008_8_batch_size=128,dropout=0.1465,layer_1_size=32,layer_2_size=128,layer_3_size=256,learning_rate=0.0001_2024-12-24_17-34-21',\n",
       "    filesystem='local',\n",
       "    checkpoint=Checkpoint(filesystem=local, path=/Users/sidharrthnagappan/ray_results/TorchTrainer_2024-12-24_17-34-19/TorchTrainer_4f4b8_00008_8_batch_size=128,dropout=0.1465,layer_1_size=32,layer_2_size=128,layer_3_size=256,learning_rate=0.0001_2024-12-24_17-34-21/checkpoint_000000)\n",
       "  ),\n",
       "  Result(\n",
       "    metrics={'ptl/train_loss': 0.22767268121242523, 'ptl/train_accuracy': 0.9431818127632141, 'ptl/val_loss': 0.08666232228279114, 'ptl/val_accuracy': 0.9730468988418579, 'epoch': 4, 'step': 2150},\n",
       "    path='/Users/sidharrthnagappan/ray_results/TorchTrainer_2024-12-24_17-34-19/TorchTrainer_4f4b8_00009_9_batch_size=128,dropout=0.2985,layer_1_size=128,layer_2_size=128,layer_3_size=256,learning_rate=0.0009_2024-12-24_17-34-21',\n",
       "    filesystem='local',\n",
       "    checkpoint=Checkpoint(filesystem=local, path=/Users/sidharrthnagappan/ray_results/TorchTrainer_2024-12-24_17-34-19/TorchTrainer_4f4b8_00009_9_batch_size=128,dropout=0.2985,layer_1_size=128,layer_2_size=128,layer_3_size=256,learning_rate=0.0009_2024-12-24_17-34-21/checkpoint_000004)\n",
       "  ),\n",
       "  Result(\n",
       "    metrics={'ptl/train_loss': 0.008121379651129246, 'ptl/train_accuracy': 1.0, 'ptl/val_loss': 0.09279411286115646, 'ptl/val_accuracy': 0.9721123576164246, 'epoch': 4, 'step': 4300},\n",
       "    path='/Users/sidharrthnagappan/ray_results/TorchTrainer_2024-12-24_17-34-19/TorchTrainer_4f4b8_00010_10_batch_size=64,dropout=0.2489,layer_1_size=128,layer_2_size=128,layer_3_size=256,learning_rate=0.0008_2024-12-24_17-34-21',\n",
       "    filesystem='local',\n",
       "    checkpoint=Checkpoint(filesystem=local, path=/Users/sidharrthnagappan/ray_results/TorchTrainer_2024-12-24_17-34-19/TorchTrainer_4f4b8_00010_10_batch_size=64,dropout=0.2489,layer_1_size=128,layer_2_size=128,layer_3_size=256,learning_rate=0.0008_2024-12-24_17-34-21/checkpoint_000004)\n",
       "  ),\n",
       "  Result(\n",
       "    metrics={'ptl/train_loss': 0.8838803172111511, 'ptl/train_accuracy': 0.8333333134651184, 'ptl/val_loss': 0.196405291557312, 'ptl/val_accuracy': 0.9506369233131409, 'epoch': 1, 'step': 3438},\n",
       "    path='/Users/sidharrthnagappan/ray_results/TorchTrainer_2024-12-24_17-34-19/TorchTrainer_4f4b8_00011_11_batch_size=32,dropout=0.1836,layer_1_size=128,layer_2_size=64,layer_3_size=128,learning_rate=0.0046_2024-12-24_17-34-21',\n",
       "    filesystem='local',\n",
       "    checkpoint=Checkpoint(filesystem=local, path=/Users/sidharrthnagappan/ray_results/TorchTrainer_2024-12-24_17-34-19/TorchTrainer_4f4b8_00011_11_batch_size=32,dropout=0.1836,layer_1_size=128,layer_2_size=64,layer_3_size=128,learning_rate=0.0046_2024-12-24_17-34-21/checkpoint_000001)\n",
       "  ),\n",
       "  Result(\n",
       "    metrics={'ptl/train_loss': 2.2639825344085693, 'ptl/train_accuracy': 0.125, 'ptl/val_loss': 2.301172971725464, 'ptl/val_accuracy': 0.11451740562915802, 'epoch': 0, 'step': 860},\n",
       "    path='/Users/sidharrthnagappan/ray_results/TorchTrainer_2024-12-24_17-34-19/TorchTrainer_4f4b8_00012_12_batch_size=64,dropout=0.1451,layer_1_size=128,layer_2_size=128,layer_3_size=512,learning_rate=0.0838_2024-12-24_17-34-21',\n",
       "    filesystem='local',\n",
       "    checkpoint=Checkpoint(filesystem=local, path=/Users/sidharrthnagappan/ray_results/TorchTrainer_2024-12-24_17-34-19/TorchTrainer_4f4b8_00012_12_batch_size=64,dropout=0.1451,layer_1_size=128,layer_2_size=128,layer_3_size=512,learning_rate=0.0838_2024-12-24_17-34-21/checkpoint_000000)\n",
       "  ),\n",
       "  Result(\n",
       "    metrics={'ptl/train_loss': 1.9301387071609497, 'ptl/train_accuracy': 0.2083333283662796, 'ptl/val_loss': 1.8986320495605469, 'ptl/val_accuracy': 0.2778876721858978, 'epoch': 0, 'step': 860},\n",
       "    path='/Users/sidharrthnagappan/ray_results/TorchTrainer_2024-12-24_17-34-19/TorchTrainer_4f4b8_00013_13_batch_size=64,dropout=0.1977,layer_1_size=128,layer_2_size=128,layer_3_size=256,learning_rate=0.0280_2024-12-24_17-34-21',\n",
       "    filesystem='local',\n",
       "    checkpoint=Checkpoint(filesystem=local, path=/Users/sidharrthnagappan/ray_results/TorchTrainer_2024-12-24_17-34-19/TorchTrainer_4f4b8_00013_13_batch_size=64,dropout=0.1977,layer_1_size=128,layer_2_size=128,layer_3_size=256,learning_rate=0.0280_2024-12-24_17-34-21/checkpoint_000000)\n",
       "  ),\n",
       "  Result(\n",
       "    metrics={'ptl/train_loss': 1.982221245765686, 'ptl/train_accuracy': 0.2083333283662796, 'ptl/val_loss': 2.0594098567962646, 'ptl/val_accuracy': 0.21835443377494812, 'epoch': 0, 'step': 860},\n",
       "    path='/Users/sidharrthnagappan/ray_results/TorchTrainer_2024-12-24_17-34-19/TorchTrainer_4f4b8_00014_14_batch_size=64,dropout=0.1595,layer_1_size=128,layer_2_size=128,layer_3_size=256,learning_rate=0.0691_2024-12-24_17-34-21',\n",
       "    filesystem='local',\n",
       "    checkpoint=Checkpoint(filesystem=local, path=/Users/sidharrthnagappan/ray_results/TorchTrainer_2024-12-24_17-34-19/TorchTrainer_4f4b8_00014_14_batch_size=64,dropout=0.1595,layer_1_size=128,layer_2_size=128,layer_3_size=256,learning_rate=0.0691_2024-12-24_17-34-21/checkpoint_000000)\n",
       "  ),\n",
       "  Result(\n",
       "    metrics={'ptl/train_loss': 0.1543571799993515, 'ptl/train_accuracy': 0.9545454382896423, 'ptl/val_loss': 0.13757792115211487, 'ptl/val_accuracy': 0.9574218988418579, 'epoch': 1, 'step': 860},\n",
       "    path='/Users/sidharrthnagappan/ray_results/TorchTrainer_2024-12-24_17-34-19/TorchTrainer_4f4b8_00015_15_batch_size=128,dropout=0.1031,layer_1_size=64,layer_2_size=128,layer_3_size=128,learning_rate=0.0036_2024-12-24_17-34-21',\n",
       "    filesystem='local',\n",
       "    checkpoint=Checkpoint(filesystem=local, path=/Users/sidharrthnagappan/ray_results/TorchTrainer_2024-12-24_17-34-19/TorchTrainer_4f4b8_00015_15_batch_size=128,dropout=0.1031,layer_1_size=64,layer_2_size=128,layer_3_size=128,learning_rate=0.0036_2024-12-24_17-34-21/checkpoint_000001)\n",
       "  ),\n",
       "  Result(\n",
       "    metrics={'ptl/train_loss': 0.32694828510284424, 'ptl/train_accuracy': 0.875, 'ptl/val_loss': 0.2604335844516754, 'ptl/val_accuracy': 0.9311708807945251, 'epoch': 0, 'step': 860},\n",
       "    path='/Users/sidharrthnagappan/ray_results/TorchTrainer_2024-12-24_17-34-19/TorchTrainer_4f4b8_00016_16_batch_size=64,dropout=0.1852,layer_1_size=32,layer_2_size=64,layer_3_size=256,learning_rate=0.0005_2024-12-24_17-34-21',\n",
       "    filesystem='local',\n",
       "    checkpoint=Checkpoint(filesystem=local, path=/Users/sidharrthnagappan/ray_results/TorchTrainer_2024-12-24_17-34-19/TorchTrainer_4f4b8_00016_16_batch_size=64,dropout=0.1852,layer_1_size=32,layer_2_size=64,layer_3_size=256,learning_rate=0.0005_2024-12-24_17-34-21/checkpoint_000000)\n",
       "  ),\n",
       "  Result(\n",
       "    metrics={'ptl/train_loss': 0.2836747467517853, 'ptl/train_accuracy': 0.8977272510528564, 'ptl/val_loss': 0.2979525923728943, 'ptl/val_accuracy': 0.908203125, 'epoch': 0, 'step': 430},\n",
       "    path='/Users/sidharrthnagappan/ray_results/TorchTrainer_2024-12-24_17-34-19/TorchTrainer_4f4b8_00017_17_batch_size=128,dropout=0.2008,layer_1_size=128,layer_2_size=128,layer_3_size=128,learning_rate=0.0002_2024-12-24_17-34-21',\n",
       "    filesystem='local',\n",
       "    checkpoint=Checkpoint(filesystem=local, path=/Users/sidharrthnagappan/ray_results/TorchTrainer_2024-12-24_17-34-19/TorchTrainer_4f4b8_00017_17_batch_size=128,dropout=0.2008,layer_1_size=128,layer_2_size=128,layer_3_size=128,learning_rate=0.0002_2024-12-24_17-34-21/checkpoint_000000)\n",
       "  ),\n",
       "  Result(\n",
       "    metrics={'ptl/train_loss': 0.26153942942619324, 'ptl/train_accuracy': 0.9204545617103577, 'ptl/val_loss': 0.1739259660243988, 'ptl/val_accuracy': 0.948046863079071, 'epoch': 1, 'step': 860},\n",
       "    path='/Users/sidharrthnagappan/ray_results/TorchTrainer_2024-12-24_17-34-19/TorchTrainer_4f4b8_00018_18_batch_size=128,dropout=0.1643,layer_1_size=32,layer_2_size=64,layer_3_size=256,learning_rate=0.0030_2024-12-24_17-34-21',\n",
       "    filesystem='local',\n",
       "    checkpoint=Checkpoint(filesystem=local, path=/Users/sidharrthnagappan/ray_results/TorchTrainer_2024-12-24_17-34-19/TorchTrainer_4f4b8_00018_18_batch_size=128,dropout=0.1643,layer_1_size=32,layer_2_size=64,layer_3_size=256,learning_rate=0.0030_2024-12-24_17-34-21/checkpoint_000001)\n",
       "  ),\n",
       "  Result(\n",
       "    metrics={'ptl/train_loss': 2.321289300918579, 'ptl/train_accuracy': 0.0416666679084301, 'ptl/val_loss': 2.3077335357666016, 'ptl/val_accuracy': 0.09633757919073105, 'epoch': 0, 'step': 1719},\n",
       "    path='/Users/sidharrthnagappan/ray_results/TorchTrainer_2024-12-24_17-34-19/TorchTrainer_4f4b8_00019_19_batch_size=32,dropout=0.1424,layer_1_size=32,layer_2_size=256,layer_3_size=256,learning_rate=0.0566_2024-12-24_17-34-21',\n",
       "    filesystem='local',\n",
       "    checkpoint=Checkpoint(filesystem=local, path=/Users/sidharrthnagappan/ray_results/TorchTrainer_2024-12-24_17-34-19/TorchTrainer_4f4b8_00019_19_batch_size=32,dropout=0.1424,layer_1_size=32,layer_2_size=256,layer_3_size=256,learning_rate=0.0566_2024-12-24_17-34-21/checkpoint_000000)\n",
       "  ),\n",
       "  Result(\n",
       "    metrics={'ptl/train_loss': 0.023229077458381653, 'ptl/train_accuracy': 1.0, 'ptl/val_loss': 0.08920037001371384, 'ptl/val_accuracy': 0.9695411324501038, 'epoch': 3, 'step': 3440},\n",
       "    path='/Users/sidharrthnagappan/ray_results/TorchTrainer_2024-12-24_17-34-19/TorchTrainer_4f4b8_00020_20_batch_size=64,dropout=0.1971,layer_1_size=128,layer_2_size=64,layer_3_size=512,learning_rate=0.0003_2024-12-24_17-34-21',\n",
       "    filesystem='local',\n",
       "    checkpoint=Checkpoint(filesystem=local, path=/Users/sidharrthnagappan/ray_results/TorchTrainer_2024-12-24_17-34-19/TorchTrainer_4f4b8_00020_20_batch_size=64,dropout=0.1971,layer_1_size=128,layer_2_size=64,layer_3_size=512,learning_rate=0.0003_2024-12-24_17-34-21/checkpoint_000003)\n",
       "  ),\n",
       "  Result(\n",
       "    metrics={'ptl/train_loss': 0.3733110725879669, 'ptl/train_accuracy': 0.9166666865348816, 'ptl/val_loss': 0.24819017946720123, 'ptl/val_accuracy': 0.9241639971733093, 'epoch': 0, 'step': 1719},\n",
       "    path='/Users/sidharrthnagappan/ray_results/TorchTrainer_2024-12-24_17-34-19/TorchTrainer_4f4b8_00021_21_batch_size=32,dropout=0.2012,layer_1_size=32,layer_2_size=64,layer_3_size=256,learning_rate=0.0004_2024-12-24_17-34-21',\n",
       "    filesystem='local',\n",
       "    checkpoint=Checkpoint(filesystem=local, path=/Users/sidharrthnagappan/ray_results/TorchTrainer_2024-12-24_17-34-19/TorchTrainer_4f4b8_00021_21_batch_size=32,dropout=0.2012,layer_1_size=32,layer_2_size=64,layer_3_size=256,learning_rate=0.0004_2024-12-24_17-34-21/checkpoint_000000)\n",
       "  ),\n",
       "  Result(\n",
       "    metrics={'ptl/train_loss': 1.4506865739822388, 'ptl/train_accuracy': 0.5, 'ptl/val_loss': 0.9586746096611023, 'ptl/val_accuracy': 0.643909215927124, 'epoch': 0, 'step': 1719},\n",
       "    path='/Users/sidharrthnagappan/ray_results/TorchTrainer_2024-12-24_17-34-19/TorchTrainer_4f4b8_00022_22_batch_size=32,dropout=0.1049,layer_1_size=32,layer_2_size=64,layer_3_size=256,learning_rate=0.0171_2024-12-24_17-34-21',\n",
       "    filesystem='local',\n",
       "    checkpoint=Checkpoint(filesystem=local, path=/Users/sidharrthnagappan/ray_results/TorchTrainer_2024-12-24_17-34-19/TorchTrainer_4f4b8_00022_22_batch_size=32,dropout=0.1049,layer_1_size=32,layer_2_size=64,layer_3_size=256,learning_rate=0.0171_2024-12-24_17-34-21/checkpoint_000000)\n",
       "  ),\n",
       "  Result(\n",
       "    metrics={'ptl/train_loss': 0.5907965302467346, 'ptl/train_accuracy': 0.8295454382896423, 'ptl/val_loss': 0.45584607124328613, 'ptl/val_accuracy': 0.875781238079071, 'epoch': 0, 'step': 430},\n",
       "    path='/Users/sidharrthnagappan/ray_results/TorchTrainer_2024-12-24_17-34-19/TorchTrainer_4f4b8_00023_23_batch_size=128,dropout=0.2326,layer_1_size=32,layer_2_size=128,layer_3_size=512,learning_rate=0.0113_2024-12-24_17-34-21',\n",
       "    filesystem='local',\n",
       "    checkpoint=Checkpoint(filesystem=local, path=/Users/sidharrthnagappan/ray_results/TorchTrainer_2024-12-24_17-34-19/TorchTrainer_4f4b8_00023_23_batch_size=128,dropout=0.2326,layer_1_size=32,layer_2_size=128,layer_3_size=512,learning_rate=0.0113_2024-12-24_17-34-21/checkpoint_000000)\n",
       "  ),\n",
       "  Result(\n",
       "    metrics={'ptl/train_loss': 2.302436590194702, 'ptl/train_accuracy': 0.2083333283662796, 'ptl/val_loss': 2.3074324131011963, 'ptl/val_accuracy': 0.1038370281457901, 'epoch': 0, 'step': 860},\n",
       "    path='/Users/sidharrthnagappan/ray_results/TorchTrainer_2024-12-24_17-34-19/TorchTrainer_4f4b8_00024_24_batch_size=64,dropout=0.1795,layer_1_size=128,layer_2_size=256,layer_3_size=512,learning_rate=0.0388_2024-12-24_17-34-21',\n",
       "    filesystem='local',\n",
       "    checkpoint=Checkpoint(filesystem=local, path=/Users/sidharrthnagappan/ray_results/TorchTrainer_2024-12-24_17-34-19/TorchTrainer_4f4b8_00024_24_batch_size=64,dropout=0.1795,layer_1_size=128,layer_2_size=256,layer_3_size=512,learning_rate=0.0388_2024-12-24_17-34-21/checkpoint_000000)\n",
       "  ),\n",
       "  Result(\n",
       "    metrics={'ptl/train_loss': 0.6047818064689636, 'ptl/train_accuracy': 0.8522727489471436, 'ptl/val_loss': 0.3925381302833557, 'ptl/val_accuracy': 0.9007812738418579, 'epoch': 0, 'step': 430},\n",
       "    path='/Users/sidharrthnagappan/ray_results/TorchTrainer_2024-12-24_17-34-19/TorchTrainer_4f4b8_00025_25_batch_size=128,dropout=0.1429,layer_1_size=32,layer_2_size=128,layer_3_size=128,learning_rate=0.0152_2024-12-24_17-34-21',\n",
       "    filesystem='local',\n",
       "    checkpoint=Checkpoint(filesystem=local, path=/Users/sidharrthnagappan/ray_results/TorchTrainer_2024-12-24_17-34-19/TorchTrainer_4f4b8_00025_25_batch_size=128,dropout=0.1429,layer_1_size=32,layer_2_size=128,layer_3_size=128,learning_rate=0.0152_2024-12-24_17-34-21/checkpoint_000000)\n",
       "  ),\n",
       "  Result(\n",
       "    metrics={'ptl/train_loss': 0.24150025844573975, 'ptl/train_accuracy': 0.9583333134651184, 'ptl/val_loss': 0.10081841796636581, 'ptl/val_accuracy': 0.9683519005775452, 'epoch': 3, 'step': 6876},\n",
       "    path='/Users/sidharrthnagappan/ray_results/TorchTrainer_2024-12-24_17-34-19/TorchTrainer_4f4b8_00026_26_batch_size=32,dropout=0.2573,layer_1_size=128,layer_2_size=128,layer_3_size=128,learning_rate=0.0010_2024-12-24_17-34-21',\n",
       "    filesystem='local',\n",
       "    checkpoint=Checkpoint(filesystem=local, path=/Users/sidharrthnagappan/ray_results/TorchTrainer_2024-12-24_17-34-19/TorchTrainer_4f4b8_00026_26_batch_size=32,dropout=0.2573,layer_1_size=128,layer_2_size=128,layer_3_size=128,learning_rate=0.0010_2024-12-24_17-34-21/checkpoint_000003)\n",
       "  ),\n",
       "  Result(\n",
       "    metrics={'ptl/train_loss': 2.3254129886627197, 'ptl/train_accuracy': 0.0833333358168602, 'ptl/val_loss': 2.3057241439819336, 'ptl/val_accuracy': 0.10509554296731949, 'epoch': 0, 'step': 1719},\n",
       "    path='/Users/sidharrthnagappan/ray_results/TorchTrainer_2024-12-24_17-34-19/TorchTrainer_4f4b8_00027_27_batch_size=32,dropout=0.2871,layer_1_size=32,layer_2_size=64,layer_3_size=512,learning_rate=0.0384_2024-12-24_17-34-21',\n",
       "    filesystem='local',\n",
       "    checkpoint=Checkpoint(filesystem=local, path=/Users/sidharrthnagappan/ray_results/TorchTrainer_2024-12-24_17-34-19/TorchTrainer_4f4b8_00027_27_batch_size=32,dropout=0.2871,layer_1_size=32,layer_2_size=64,layer_3_size=512,learning_rate=0.0384_2024-12-24_17-34-21/checkpoint_000000)\n",
       "  ),\n",
       "  Result(\n",
       "    metrics={'ptl/train_loss': 0.9131417870521545, 'ptl/train_accuracy': 0.7916666865348816, 'ptl/val_loss': 0.9895771741867065, 'ptl/val_accuracy': 0.6206210255622864, 'epoch': 0, 'step': 1719},\n",
       "    path='/Users/sidharrthnagappan/ray_results/TorchTrainer_2024-12-24_17-34-19/TorchTrainer_4f4b8_00028_28_batch_size=32,dropout=0.1119,layer_1_size=64,layer_2_size=256,layer_3_size=512,learning_rate=0.0140_2024-12-24_17-34-21',\n",
       "    filesystem='local',\n",
       "    checkpoint=Checkpoint(filesystem=local, path=/Users/sidharrthnagappan/ray_results/TorchTrainer_2024-12-24_17-34-19/TorchTrainer_4f4b8_00028_28_batch_size=32,dropout=0.1119,layer_1_size=64,layer_2_size=256,layer_3_size=512,learning_rate=0.0140_2024-12-24_17-34-21/checkpoint_000000)\n",
       "  ),\n",
       "  Result(\n",
       "    metrics={'ptl/train_loss': 0.08783934265375137, 'ptl/train_accuracy': 1.0, 'ptl/val_loss': 0.16221174597740173, 'ptl/val_accuracy': 0.9494426846504211, 'epoch': 1, 'step': 3438},\n",
       "    path='/Users/sidharrthnagappan/ray_results/TorchTrainer_2024-12-24_17-34-19/TorchTrainer_4f4b8_00029_29_batch_size=32,dropout=0.2170,layer_1_size=64,layer_2_size=64,layer_3_size=256,learning_rate=0.0003_2024-12-24_17-34-21',\n",
       "    filesystem='local',\n",
       "    checkpoint=Checkpoint(filesystem=local, path=/Users/sidharrthnagappan/ray_results/TorchTrainer_2024-12-24_17-34-19/TorchTrainer_4f4b8_00029_29_batch_size=32,dropout=0.2170,layer_1_size=64,layer_2_size=64,layer_3_size=256,learning_rate=0.0003_2024-12-24_17-34-21/checkpoint_000001)\n",
       "  ),\n",
       "  Result(\n",
       "    metrics={'ptl/train_loss': 0.1880382001399994, 'ptl/train_accuracy': 0.9545454382896423, 'ptl/val_loss': 0.22278094291687012, 'ptl/val_accuracy': 0.9400390386581421, 'epoch': 1, 'step': 860},\n",
       "    path='/Users/sidharrthnagappan/ray_results/TorchTrainer_2024-12-24_17-34-19/TorchTrainer_4f4b8_00030_30_batch_size=128,dropout=0.1267,layer_1_size=64,layer_2_size=256,layer_3_size=128,learning_rate=0.0072_2024-12-24_17-34-21',\n",
       "    filesystem='local',\n",
       "    checkpoint=Checkpoint(filesystem=local, path=/Users/sidharrthnagappan/ray_results/TorchTrainer_2024-12-24_17-34-19/TorchTrainer_4f4b8_00030_30_batch_size=128,dropout=0.1267,layer_1_size=64,layer_2_size=256,layer_3_size=128,learning_rate=0.0072_2024-12-24_17-34-21/checkpoint_000001)\n",
       "  ),\n",
       "  Result(\n",
       "    metrics={'ptl/train_loss': 2.2962772846221924, 'ptl/train_accuracy': 0.125, 'ptl/val_loss': 2.305422782897949, 'ptl/val_accuracy': 0.09849683195352554, 'epoch': 0, 'step': 860},\n",
       "    path='/Users/sidharrthnagappan/ray_results/TorchTrainer_2024-12-24_17-34-19/TorchTrainer_4f4b8_00031_31_batch_size=64,dropout=0.1199,layer_1_size=32,layer_2_size=256,layer_3_size=512,learning_rate=0.0423_2024-12-24_17-34-21',\n",
       "    filesystem='local',\n",
       "    checkpoint=Checkpoint(filesystem=local, path=/Users/sidharrthnagappan/ray_results/TorchTrainer_2024-12-24_17-34-19/TorchTrainer_4f4b8_00031_31_batch_size=64,dropout=0.1199,layer_1_size=32,layer_2_size=256,layer_3_size=512,learning_rate=0.0423_2024-12-24_17-34-21/checkpoint_000000)\n",
       "  ),\n",
       "  Result(\n",
       "    metrics={'ptl/train_loss': 2.301602840423584, 'ptl/train_accuracy': 0.1666666716337204, 'ptl/val_loss': 2.303846836090088, 'ptl/val_accuracy': 0.1103639230132103, 'epoch': 0, 'step': 860},\n",
       "    path='/Users/sidharrthnagappan/ray_results/TorchTrainer_2024-12-24_17-34-19/TorchTrainer_4f4b8_00032_32_batch_size=64,dropout=0.1137,layer_1_size=128,layer_2_size=64,layer_3_size=512,learning_rate=0.0291_2024-12-24_17-34-21',\n",
       "    filesystem='local',\n",
       "    checkpoint=Checkpoint(filesystem=local, path=/Users/sidharrthnagappan/ray_results/TorchTrainer_2024-12-24_17-34-19/TorchTrainer_4f4b8_00032_32_batch_size=64,dropout=0.1137,layer_1_size=128,layer_2_size=64,layer_3_size=512,learning_rate=0.0291_2024-12-24_17-34-21/checkpoint_000000)\n",
       "  ),\n",
       "  Result(\n",
       "    metrics={'ptl/train_loss': 0.38858139514923096, 'ptl/train_accuracy': 0.9204545617103577, 'ptl/val_loss': 0.17792648077011108, 'ptl/val_accuracy': 0.9453125, 'epoch': 1, 'step': 860},\n",
       "    path='/Users/sidharrthnagappan/ray_results/TorchTrainer_2024-12-24_17-34-19/TorchTrainer_4f4b8_00033_33_batch_size=128,dropout=0.2164,layer_1_size=32,layer_2_size=64,layer_3_size=512,learning_rate=0.0009_2024-12-24_17-34-21',\n",
       "    filesystem='local',\n",
       "    checkpoint=Checkpoint(filesystem=local, path=/Users/sidharrthnagappan/ray_results/TorchTrainer_2024-12-24_17-34-19/TorchTrainer_4f4b8_00033_33_batch_size=128,dropout=0.2164,layer_1_size=32,layer_2_size=64,layer_3_size=512,learning_rate=0.0009_2024-12-24_17-34-21/checkpoint_000001)\n",
       "  ),\n",
       "  Result(\n",
       "    metrics={'ptl/train_loss': 0.1547677367925644, 'ptl/train_accuracy': 0.9659090638160706, 'ptl/val_loss': 0.10312775522470474, 'ptl/val_accuracy': 0.9673827886581421, 'epoch': 2, 'step': 1290},\n",
       "    path='/Users/sidharrthnagappan/ray_results/TorchTrainer_2024-12-24_17-34-19/TorchTrainer_4f4b8_00034_34_batch_size=128,dropout=0.2389,layer_1_size=128,layer_2_size=64,layer_3_size=128,learning_rate=0.0025_2024-12-24_17-34-21',\n",
       "    filesystem='local',\n",
       "    checkpoint=Checkpoint(filesystem=local, path=/Users/sidharrthnagappan/ray_results/TorchTrainer_2024-12-24_17-34-19/TorchTrainer_4f4b8_00034_34_batch_size=128,dropout=0.2389,layer_1_size=128,layer_2_size=64,layer_3_size=128,learning_rate=0.0025_2024-12-24_17-34-21/checkpoint_000002)\n",
       "  ),\n",
       "  Result(\n",
       "    metrics={'ptl/train_loss': 0.30055779218673706, 'ptl/train_accuracy': 0.875, 'ptl/val_loss': 0.2130819708108902, 'ptl/val_accuracy': 0.9416534900665283, 'epoch': 0, 'step': 860},\n",
       "    path='/Users/sidharrthnagappan/ray_results/TorchTrainer_2024-12-24_17-34-19/TorchTrainer_4f4b8_00035_35_batch_size=64,dropout=0.1514,layer_1_size=64,layer_2_size=64,layer_3_size=256,learning_rate=0.0030_2024-12-24_17-34-21',\n",
       "    filesystem='local',\n",
       "    checkpoint=Checkpoint(filesystem=local, path=/Users/sidharrthnagappan/ray_results/TorchTrainer_2024-12-24_17-34-19/TorchTrainer_4f4b8_00035_35_batch_size=64,dropout=0.1514,layer_1_size=64,layer_2_size=64,layer_3_size=256,learning_rate=0.0030_2024-12-24_17-34-21/checkpoint_000000)\n",
       "  ),\n",
       "  Result(\n",
       "    metrics={'ptl/train_loss': 2.312307357788086, 'ptl/train_accuracy': 0.0416666679084301, 'ptl/val_loss': 2.3081552982330322, 'ptl/val_accuracy': 0.11095727980136871, 'epoch': 0, 'step': 860},\n",
       "    path='/Users/sidharrthnagappan/ray_results/TorchTrainer_2024-12-24_17-34-19/TorchTrainer_4f4b8_00036_36_batch_size=64,dropout=0.1403,layer_1_size=32,layer_2_size=128,layer_3_size=512,learning_rate=0.0394_2024-12-24_17-34-21',\n",
       "    filesystem='local',\n",
       "    checkpoint=Checkpoint(filesystem=local, path=/Users/sidharrthnagappan/ray_results/TorchTrainer_2024-12-24_17-34-19/TorchTrainer_4f4b8_00036_36_batch_size=64,dropout=0.1403,layer_1_size=32,layer_2_size=128,layer_3_size=512,learning_rate=0.0394_2024-12-24_17-34-21/checkpoint_000000)\n",
       "  ),\n",
       "  Result(\n",
       "    metrics={},\n",
       "    path='/Users/sidharrthnagappan/ray_results/TorchTrainer_2024-12-24_17-34-19/TorchTrainer_4f4b8_00037_37_batch_size=64,dropout=0.2387,layer_1_size=128,layer_2_size=256,layer_3_size=256,learning_rate=0.0003_2024-12-24_17-34-21',\n",
       "    filesystem='local',\n",
       "    checkpoint=None\n",
       "  ),\n",
       "  Result(\n",
       "    metrics={},\n",
       "    path='/Users/sidharrthnagappan/ray_results/TorchTrainer_2024-12-24_17-34-19/TorchTrainer_4f4b8_00038_38_batch_size=64,dropout=0.2133,layer_1_size=64,layer_2_size=128,layer_3_size=512,learning_rate=0.0065_2024-12-24_17-34-21',\n",
       "    filesystem='local',\n",
       "    checkpoint=None\n",
       "  ),\n",
       "  Result(\n",
       "    metrics={},\n",
       "    path='/Users/sidharrthnagappan/ray_results/TorchTrainer_2024-12-24_17-34-19/TorchTrainer_4f4b8_00039_39_batch_size=32,dropout=0.1003,layer_1_size=64,layer_2_size=128,layer_3_size=128,learning_rate=0.0006_2024-12-24_17-34-21',\n",
       "    filesystem='local',\n",
       "    checkpoint=None\n",
       "  ),\n",
       "  Result(\n",
       "    metrics={},\n",
       "    path='/Users/sidharrthnagappan/ray_results/TorchTrainer_2024-12-24_17-34-19/TorchTrainer_4f4b8_00040_40_batch_size=128,dropout=0.2081,layer_1_size=32,layer_2_size=64,layer_3_size=128,learning_rate=0.0018_2024-12-24_17-34-21',\n",
       "    filesystem='local',\n",
       "    checkpoint=None\n",
       "  ),\n",
       "  Result(\n",
       "    metrics={},\n",
       "    path='/Users/sidharrthnagappan/ray_results/TorchTrainer_2024-12-24_17-34-19/TorchTrainer_4f4b8_00041_41_batch_size=32,dropout=0.1742,layer_1_size=32,layer_2_size=128,layer_3_size=128,learning_rate=0.0001_2024-12-24_17-34-21',\n",
       "    filesystem='local',\n",
       "    checkpoint=None\n",
       "  ),\n",
       "  Result(\n",
       "    metrics={},\n",
       "    path='/Users/sidharrthnagappan/ray_results/TorchTrainer_2024-12-24_17-34-19/TorchTrainer_4f4b8_00042_42_batch_size=32,dropout=0.2102,layer_1_size=128,layer_2_size=128,layer_3_size=512,learning_rate=0.0046_2024-12-24_17-34-21',\n",
       "    filesystem='local',\n",
       "    checkpoint=None\n",
       "  ),\n",
       "  Result(\n",
       "    metrics={},\n",
       "    path='/Users/sidharrthnagappan/ray_results/TorchTrainer_2024-12-24_17-34-19/TorchTrainer_4f4b8_00043_43_batch_size=128,dropout=0.1771,layer_1_size=32,layer_2_size=256,layer_3_size=512,learning_rate=0.0001_2024-12-24_17-34-21',\n",
       "    filesystem='local',\n",
       "    checkpoint=None\n",
       "  ),\n",
       "  Result(\n",
       "    metrics={},\n",
       "    path='/Users/sidharrthnagappan/ray_results/TorchTrainer_2024-12-24_17-34-19/TorchTrainer_4f4b8_00044_44_batch_size=128,dropout=0.1525,layer_1_size=64,layer_2_size=64,layer_3_size=512,learning_rate=0.0823_2024-12-24_17-34-21',\n",
       "    filesystem='local',\n",
       "    checkpoint=None\n",
       "  ),\n",
       "  Result(\n",
       "    metrics={},\n",
       "    path='/Users/sidharrthnagappan/ray_results/TorchTrainer_2024-12-24_17-34-19/TorchTrainer_4f4b8_00045_45_batch_size=32,dropout=0.2588,layer_1_size=128,layer_2_size=128,layer_3_size=512,learning_rate=0.0032_2024-12-24_17-34-21',\n",
       "    filesystem='local',\n",
       "    checkpoint=None\n",
       "  ),\n",
       "  Result(\n",
       "    metrics={},\n",
       "    path='/Users/sidharrthnagappan/ray_results/TorchTrainer_2024-12-24_17-34-19/TorchTrainer_4f4b8_00046_46_batch_size=64,dropout=0.1737,layer_1_size=128,layer_2_size=64,layer_3_size=256,learning_rate=0.0312_2024-12-24_17-34-21',\n",
       "    filesystem='local',\n",
       "    checkpoint=None\n",
       "  ),\n",
       "  Result(\n",
       "    metrics={},\n",
       "    path='/Users/sidharrthnagappan/ray_results/TorchTrainer_2024-12-24_17-34-19/TorchTrainer_4f4b8_00047_47_batch_size=128,dropout=0.2935,layer_1_size=32,layer_2_size=64,layer_3_size=512,learning_rate=0.0002_2024-12-24_17-34-21',\n",
       "    filesystem='local',\n",
       "    checkpoint=None\n",
       "  ),\n",
       "  Result(\n",
       "    metrics={},\n",
       "    path='/Users/sidharrthnagappan/ray_results/TorchTrainer_2024-12-24_17-34-19/TorchTrainer_4f4b8_00048_48_batch_size=128,dropout=0.2756,layer_1_size=64,layer_2_size=256,layer_3_size=256,learning_rate=0.0039_2024-12-24_17-34-21',\n",
       "    filesystem='local',\n",
       "    checkpoint=None\n",
       "  ),\n",
       "  Result(\n",
       "    metrics={},\n",
       "    path='/Users/sidharrthnagappan/ray_results/TorchTrainer_2024-12-24_17-34-19/TorchTrainer_4f4b8_00049_49_batch_size=64,dropout=0.1020,layer_1_size=128,layer_2_size=128,layer_3_size=128,learning_rate=0.0122_2024-12-24_17-34-21',\n",
       "    filesystem='local',\n",
       "    checkpoint=None\n",
       "  ),\n",
       "  Result(\n",
       "    metrics={},\n",
       "    path='/Users/sidharrthnagappan/ray_results/TorchTrainer_2024-12-24_17-34-19/TorchTrainer_4f4b8_00050_50_batch_size=32,dropout=0.2974,layer_1_size=64,layer_2_size=256,layer_3_size=256,learning_rate=0.0008_2024-12-24_17-34-21',\n",
       "    filesystem='local',\n",
       "    checkpoint=None\n",
       "  ),\n",
       "  Result(\n",
       "    metrics={},\n",
       "    path='/Users/sidharrthnagappan/ray_results/TorchTrainer_2024-12-24_17-34-19/TorchTrainer_4f4b8_00051_51_batch_size=128,dropout=0.2252,layer_1_size=128,layer_2_size=128,layer_3_size=128,learning_rate=0.0009_2024-12-24_17-34-21',\n",
       "    filesystem='local',\n",
       "    checkpoint=None\n",
       "  ),\n",
       "  Result(\n",
       "    metrics={},\n",
       "    path='/Users/sidharrthnagappan/ray_results/TorchTrainer_2024-12-24_17-34-19/TorchTrainer_4f4b8_00052_52_batch_size=32,dropout=0.2453,layer_1_size=32,layer_2_size=256,layer_3_size=256,learning_rate=0.0048_2024-12-24_17-34-21',\n",
       "    filesystem='local',\n",
       "    checkpoint=None\n",
       "  ),\n",
       "  Result(\n",
       "    metrics={},\n",
       "    path='/Users/sidharrthnagappan/ray_results/TorchTrainer_2024-12-24_17-34-19/TorchTrainer_4f4b8_00053_53_batch_size=128,dropout=0.1072,layer_1_size=128,layer_2_size=256,layer_3_size=512,learning_rate=0.0060_2024-12-24_17-34-21',\n",
       "    filesystem='local',\n",
       "    checkpoint=None\n",
       "  ),\n",
       "  Result(\n",
       "    metrics={},\n",
       "    path='/Users/sidharrthnagappan/ray_results/TorchTrainer_2024-12-24_17-34-19/TorchTrainer_4f4b8_00054_54_batch_size=32,dropout=0.1553,layer_1_size=64,layer_2_size=128,layer_3_size=256,learning_rate=0.0003_2024-12-24_17-34-21',\n",
       "    filesystem='local',\n",
       "    checkpoint=None\n",
       "  ),\n",
       "  Result(\n",
       "    metrics={},\n",
       "    path='/Users/sidharrthnagappan/ray_results/TorchTrainer_2024-12-24_17-34-19/TorchTrainer_4f4b8_00055_55_batch_size=128,dropout=0.2046,layer_1_size=128,layer_2_size=128,layer_3_size=512,learning_rate=0.0676_2024-12-24_17-34-21',\n",
       "    filesystem='local',\n",
       "    checkpoint=None\n",
       "  ),\n",
       "  Result(\n",
       "    metrics={},\n",
       "    path='/Users/sidharrthnagappan/ray_results/TorchTrainer_2024-12-24_17-34-19/TorchTrainer_4f4b8_00056_56_batch_size=64,dropout=0.1312,layer_1_size=128,layer_2_size=256,layer_3_size=128,learning_rate=0.0005_2024-12-24_17-34-21',\n",
       "    filesystem='local',\n",
       "    checkpoint=None\n",
       "  ),\n",
       "  Result(\n",
       "    metrics={},\n",
       "    path='/Users/sidharrthnagappan/ray_results/TorchTrainer_2024-12-24_17-34-19/TorchTrainer_4f4b8_00057_57_batch_size=128,dropout=0.1647,layer_1_size=32,layer_2_size=64,layer_3_size=128,learning_rate=0.0001_2024-12-24_17-34-21',\n",
       "    filesystem='local',\n",
       "    checkpoint=None\n",
       "  ),\n",
       "  Result(\n",
       "    metrics={},\n",
       "    path='/Users/sidharrthnagappan/ray_results/TorchTrainer_2024-12-24_17-34-19/TorchTrainer_4f4b8_00058_58_batch_size=64,dropout=0.2690,layer_1_size=128,layer_2_size=128,layer_3_size=512,learning_rate=0.0020_2024-12-24_17-34-21',\n",
       "    filesystem='local',\n",
       "    checkpoint=None\n",
       "  ),\n",
       "  Result(\n",
       "    metrics={},\n",
       "    path='/Users/sidharrthnagappan/ray_results/TorchTrainer_2024-12-24_17-34-19/TorchTrainer_4f4b8_00059_59_batch_size=64,dropout=0.2058,layer_1_size=128,layer_2_size=64,layer_3_size=256,learning_rate=0.0002_2024-12-24_17-34-21',\n",
       "    filesystem='local',\n",
       "    checkpoint=None\n",
       "  ),\n",
       "  Result(\n",
       "    metrics={},\n",
       "    path='/Users/sidharrthnagappan/ray_results/TorchTrainer_2024-12-24_17-34-19/TorchTrainer_4f4b8_00060_60_batch_size=32,dropout=0.1057,layer_1_size=32,layer_2_size=256,layer_3_size=128,learning_rate=0.0183_2024-12-24_17-34-21',\n",
       "    filesystem='local',\n",
       "    checkpoint=None\n",
       "  ),\n",
       "  Result(\n",
       "    metrics={},\n",
       "    path='/Users/sidharrthnagappan/ray_results/TorchTrainer_2024-12-24_17-34-19/TorchTrainer_4f4b8_00061_61_batch_size=64,dropout=0.1178,layer_1_size=64,layer_2_size=256,layer_3_size=256,learning_rate=0.0552_2024-12-24_17-34-21',\n",
       "    filesystem='local',\n",
       "    checkpoint=None\n",
       "  ),\n",
       "  Result(\n",
       "    metrics={},\n",
       "    path='/Users/sidharrthnagappan/ray_results/TorchTrainer_2024-12-24_17-34-19/TorchTrainer_4f4b8_00062_62_batch_size=64,dropout=0.1352,layer_1_size=32,layer_2_size=128,layer_3_size=128,learning_rate=0.0002_2024-12-24_17-34-21',\n",
       "    filesystem='local',\n",
       "    checkpoint=None\n",
       "  ),\n",
       "  Result(\n",
       "    metrics={},\n",
       "    path='/Users/sidharrthnagappan/ray_results/TorchTrainer_2024-12-24_17-34-19/TorchTrainer_4f4b8_00063_63_batch_size=32,dropout=0.1096,layer_1_size=32,layer_2_size=256,layer_3_size=128,learning_rate=0.0007_2024-12-24_17-34-21',\n",
       "    filesystem='local',\n",
       "    checkpoint=None\n",
       "  ),\n",
       "  Result(\n",
       "    metrics={},\n",
       "    path='/Users/sidharrthnagappan/ray_results/TorchTrainer_2024-12-24_17-34-19/TorchTrainer_4f4b8_00064_64_batch_size=64,dropout=0.2475,layer_1_size=32,layer_2_size=64,layer_3_size=128,learning_rate=0.0013_2024-12-24_17-34-21',\n",
       "    filesystem='local',\n",
       "    checkpoint=None\n",
       "  ),\n",
       "  Result(\n",
       "    metrics={},\n",
       "    path='/Users/sidharrthnagappan/ray_results/TorchTrainer_2024-12-24_17-34-19/TorchTrainer_4f4b8_00065_65_batch_size=128,dropout=0.1560,layer_1_size=128,layer_2_size=256,layer_3_size=512,learning_rate=0.0018_2024-12-24_17-34-21',\n",
       "    filesystem='local',\n",
       "    checkpoint=None\n",
       "  ),\n",
       "  Result(\n",
       "    metrics={},\n",
       "    path='/Users/sidharrthnagappan/ray_results/TorchTrainer_2024-12-24_17-34-19/TorchTrainer_4f4b8_00066_66_batch_size=64,dropout=0.1595,layer_1_size=64,layer_2_size=256,layer_3_size=256,learning_rate=0.0307_2024-12-24_17-34-21',\n",
       "    filesystem='local',\n",
       "    checkpoint=None\n",
       "  ),\n",
       "  Result(\n",
       "    metrics={},\n",
       "    path='/Users/sidharrthnagappan/ray_results/TorchTrainer_2024-12-24_17-34-19/TorchTrainer_4f4b8_00067_67_batch_size=32,dropout=0.1406,layer_1_size=128,layer_2_size=256,layer_3_size=256,learning_rate=0.0002_2024-12-24_17-34-21',\n",
       "    filesystem='local',\n",
       "    checkpoint=None\n",
       "  ),\n",
       "  Result(\n",
       "    metrics={},\n",
       "    path='/Users/sidharrthnagappan/ray_results/TorchTrainer_2024-12-24_17-34-19/TorchTrainer_4f4b8_00068_68_batch_size=32,dropout=0.2457,layer_1_size=128,layer_2_size=64,layer_3_size=512,learning_rate=0.0078_2024-12-24_17-34-21',\n",
       "    filesystem='local',\n",
       "    checkpoint=None\n",
       "  ),\n",
       "  Result(\n",
       "    metrics={},\n",
       "    path='/Users/sidharrthnagappan/ray_results/TorchTrainer_2024-12-24_17-34-19/TorchTrainer_4f4b8_00069_69_batch_size=128,dropout=0.2382,layer_1_size=64,layer_2_size=128,layer_3_size=128,learning_rate=0.0040_2024-12-24_17-34-21',\n",
       "    filesystem='local',\n",
       "    checkpoint=None\n",
       "  ),\n",
       "  Result(\n",
       "    metrics={},\n",
       "    path='/Users/sidharrthnagappan/ray_results/TorchTrainer_2024-12-24_17-34-19/TorchTrainer_4f4b8_00070_70_batch_size=128,dropout=0.2199,layer_1_size=32,layer_2_size=256,layer_3_size=512,learning_rate=0.0577_2024-12-24_17-34-21',\n",
       "    filesystem='local',\n",
       "    checkpoint=None\n",
       "  ),\n",
       "  Result(\n",
       "    metrics={},\n",
       "    path='/Users/sidharrthnagappan/ray_results/TorchTrainer_2024-12-24_17-34-19/TorchTrainer_4f4b8_00071_71_batch_size=128,dropout=0.1871,layer_1_size=64,layer_2_size=256,layer_3_size=128,learning_rate=0.0011_2024-12-24_17-34-21',\n",
       "    filesystem='local',\n",
       "    checkpoint=None\n",
       "  ),\n",
       "  Result(\n",
       "    metrics={},\n",
       "    path='/Users/sidharrthnagappan/ray_results/TorchTrainer_2024-12-24_17-34-19/TorchTrainer_4f4b8_00072_72_batch_size=64,dropout=0.1672,layer_1_size=32,layer_2_size=256,layer_3_size=128,learning_rate=0.0041_2024-12-24_17-34-21',\n",
       "    filesystem='local',\n",
       "    checkpoint=None\n",
       "  ),\n",
       "  Result(\n",
       "    metrics={},\n",
       "    path='/Users/sidharrthnagappan/ray_results/TorchTrainer_2024-12-24_17-34-19/TorchTrainer_4f4b8_00073_73_batch_size=64,dropout=0.2519,layer_1_size=64,layer_2_size=128,layer_3_size=128,learning_rate=0.0003_2024-12-24_17-34-21',\n",
       "    filesystem='local',\n",
       "    checkpoint=None\n",
       "  ),\n",
       "  Result(\n",
       "    metrics={},\n",
       "    path='/Users/sidharrthnagappan/ray_results/TorchTrainer_2024-12-24_17-34-19/TorchTrainer_4f4b8_00074_74_batch_size=64,dropout=0.1458,layer_1_size=64,layer_2_size=256,layer_3_size=512,learning_rate=0.0002_2024-12-24_17-34-21',\n",
       "    filesystem='local',\n",
       "    checkpoint=None\n",
       "  ),\n",
       "  Result(\n",
       "    metrics={},\n",
       "    path='/Users/sidharrthnagappan/ray_results/TorchTrainer_2024-12-24_17-34-19/TorchTrainer_4f4b8_00075_75_batch_size=64,dropout=0.1198,layer_1_size=32,layer_2_size=64,layer_3_size=256,learning_rate=0.0069_2024-12-24_17-34-21',\n",
       "    filesystem='local',\n",
       "    checkpoint=None\n",
       "  ),\n",
       "  Result(\n",
       "    metrics={},\n",
       "    path='/Users/sidharrthnagappan/ray_results/TorchTrainer_2024-12-24_17-34-19/TorchTrainer_4f4b8_00076_76_batch_size=32,dropout=0.1427,layer_1_size=64,layer_2_size=256,layer_3_size=128,learning_rate=0.0011_2024-12-24_17-34-21',\n",
       "    filesystem='local',\n",
       "    checkpoint=None\n",
       "  ),\n",
       "  Result(\n",
       "    metrics={},\n",
       "    path='/Users/sidharrthnagappan/ray_results/TorchTrainer_2024-12-24_17-34-19/TorchTrainer_4f4b8_00077_77_batch_size=64,dropout=0.1682,layer_1_size=128,layer_2_size=256,layer_3_size=512,learning_rate=0.0656_2024-12-24_17-34-21',\n",
       "    filesystem='local',\n",
       "    checkpoint=None\n",
       "  ),\n",
       "  Result(\n",
       "    metrics={},\n",
       "    path='/Users/sidharrthnagappan/ray_results/TorchTrainer_2024-12-24_17-34-19/TorchTrainer_4f4b8_00078_78_batch_size=128,dropout=0.1029,layer_1_size=128,layer_2_size=256,layer_3_size=128,learning_rate=0.0033_2024-12-24_17-34-21',\n",
       "    filesystem='local',\n",
       "    checkpoint=None\n",
       "  ),\n",
       "  Result(\n",
       "    metrics={},\n",
       "    path='/Users/sidharrthnagappan/ray_results/TorchTrainer_2024-12-24_17-34-19/TorchTrainer_4f4b8_00079_79_batch_size=128,dropout=0.2592,layer_1_size=32,layer_2_size=64,layer_3_size=512,learning_rate=0.0386_2024-12-24_17-34-21',\n",
       "    filesystem='local',\n",
       "    checkpoint=None\n",
       "  ),\n",
       "  Result(\n",
       "    metrics={},\n",
       "    path='/Users/sidharrthnagappan/ray_results/TorchTrainer_2024-12-24_17-34-19/TorchTrainer_4f4b8_00080_80_batch_size=64,dropout=0.2276,layer_1_size=64,layer_2_size=256,layer_3_size=256,learning_rate=0.0002_2024-12-24_17-34-21',\n",
       "    filesystem='local',\n",
       "    checkpoint=None\n",
       "  ),\n",
       "  Result(\n",
       "    metrics={},\n",
       "    path='/Users/sidharrthnagappan/ray_results/TorchTrainer_2024-12-24_17-34-19/TorchTrainer_4f4b8_00081_81_batch_size=32,dropout=0.2828,layer_1_size=32,layer_2_size=64,layer_3_size=256,learning_rate=0.0158_2024-12-24_17-34-21',\n",
       "    filesystem='local',\n",
       "    checkpoint=None\n",
       "  ),\n",
       "  Result(\n",
       "    metrics={},\n",
       "    path='/Users/sidharrthnagappan/ray_results/TorchTrainer_2024-12-24_17-34-19/TorchTrainer_4f4b8_00082_82_batch_size=64,dropout=0.2020,layer_1_size=64,layer_2_size=256,layer_3_size=128,learning_rate=0.0002_2024-12-24_17-34-21',\n",
       "    filesystem='local',\n",
       "    checkpoint=None\n",
       "  ),\n",
       "  Result(\n",
       "    metrics={},\n",
       "    path='/Users/sidharrthnagappan/ray_results/TorchTrainer_2024-12-24_17-34-19/TorchTrainer_4f4b8_00083_83_batch_size=32,dropout=0.2198,layer_1_size=32,layer_2_size=128,layer_3_size=512,learning_rate=0.0012_2024-12-24_17-34-21',\n",
       "    filesystem='local',\n",
       "    checkpoint=None\n",
       "  ),\n",
       "  Result(\n",
       "    metrics={},\n",
       "    path='/Users/sidharrthnagappan/ray_results/TorchTrainer_2024-12-24_17-34-19/TorchTrainer_4f4b8_00084_84_batch_size=64,dropout=0.1650,layer_1_size=128,layer_2_size=256,layer_3_size=512,learning_rate=0.0468_2024-12-24_17-34-21',\n",
       "    filesystem='local',\n",
       "    checkpoint=None\n",
       "  ),\n",
       "  Result(\n",
       "    metrics={},\n",
       "    path='/Users/sidharrthnagappan/ray_results/TorchTrainer_2024-12-24_17-34-19/TorchTrainer_4f4b8_00085_85_batch_size=64,dropout=0.1455,layer_1_size=128,layer_2_size=256,layer_3_size=512,learning_rate=0.0604_2024-12-24_17-34-21',\n",
       "    filesystem='local',\n",
       "    checkpoint=None\n",
       "  ),\n",
       "  Result(\n",
       "    metrics={},\n",
       "    path='/Users/sidharrthnagappan/ray_results/TorchTrainer_2024-12-24_17-34-19/TorchTrainer_4f4b8_00086_86_batch_size=32,dropout=0.1647,layer_1_size=32,layer_2_size=64,layer_3_size=256,learning_rate=0.0202_2024-12-24_17-34-21',\n",
       "    filesystem='local',\n",
       "    checkpoint=None\n",
       "  ),\n",
       "  Result(\n",
       "    metrics={},\n",
       "    path='/Users/sidharrthnagappan/ray_results/TorchTrainer_2024-12-24_17-34-19/TorchTrainer_4f4b8_00087_87_batch_size=128,dropout=0.2150,layer_1_size=32,layer_2_size=128,layer_3_size=512,learning_rate=0.0013_2024-12-24_17-34-21',\n",
       "    filesystem='local',\n",
       "    checkpoint=None\n",
       "  ),\n",
       "  Result(\n",
       "    metrics={},\n",
       "    path='/Users/sidharrthnagappan/ray_results/TorchTrainer_2024-12-24_17-34-19/TorchTrainer_4f4b8_00088_88_batch_size=64,dropout=0.1053,layer_1_size=32,layer_2_size=256,layer_3_size=256,learning_rate=0.0136_2024-12-24_17-34-21',\n",
       "    filesystem='local',\n",
       "    checkpoint=None\n",
       "  ),\n",
       "  Result(\n",
       "    metrics={},\n",
       "    path='/Users/sidharrthnagappan/ray_results/TorchTrainer_2024-12-24_17-34-19/TorchTrainer_4f4b8_00089_89_batch_size=32,dropout=0.2471,layer_1_size=128,layer_2_size=256,layer_3_size=256,learning_rate=0.0004_2024-12-24_17-34-21',\n",
       "    filesystem='local',\n",
       "    checkpoint=None\n",
       "  ),\n",
       "  Result(\n",
       "    metrics={},\n",
       "    path='/Users/sidharrthnagappan/ray_results/TorchTrainer_2024-12-24_17-34-19/TorchTrainer_4f4b8_00090_90_batch_size=128,dropout=0.1816,layer_1_size=128,layer_2_size=256,layer_3_size=128,learning_rate=0.0031_2024-12-24_17-34-21',\n",
       "    filesystem='local',\n",
       "    checkpoint=None\n",
       "  ),\n",
       "  Result(\n",
       "    metrics={},\n",
       "    path='/Users/sidharrthnagappan/ray_results/TorchTrainer_2024-12-24_17-34-19/TorchTrainer_4f4b8_00091_91_batch_size=32,dropout=0.1205,layer_1_size=32,layer_2_size=64,layer_3_size=512,learning_rate=0.0011_2024-12-24_17-34-21',\n",
       "    filesystem='local',\n",
       "    checkpoint=None\n",
       "  ),\n",
       "  Result(\n",
       "    metrics={},\n",
       "    path='/Users/sidharrthnagappan/ray_results/TorchTrainer_2024-12-24_17-34-19/TorchTrainer_4f4b8_00092_92_batch_size=64,dropout=0.1630,layer_1_size=128,layer_2_size=64,layer_3_size=128,learning_rate=0.0876_2024-12-24_17-34-21',\n",
       "    filesystem='local',\n",
       "    checkpoint=None\n",
       "  ),\n",
       "  Result(\n",
       "    metrics={},\n",
       "    path='/Users/sidharrthnagappan/ray_results/TorchTrainer_2024-12-24_17-34-19/TorchTrainer_4f4b8_00093_93_batch_size=64,dropout=0.1335,layer_1_size=64,layer_2_size=64,layer_3_size=512,learning_rate=0.0022_2024-12-24_17-34-21',\n",
       "    filesystem='local',\n",
       "    checkpoint=None\n",
       "  ),\n",
       "  Result(\n",
       "    metrics={},\n",
       "    path='/Users/sidharrthnagappan/ray_results/TorchTrainer_2024-12-24_17-34-19/TorchTrainer_4f4b8_00094_94_batch_size=128,dropout=0.1068,layer_1_size=128,layer_2_size=256,layer_3_size=256,learning_rate=0.0240_2024-12-24_17-34-21',\n",
       "    filesystem='local',\n",
       "    checkpoint=None\n",
       "  ),\n",
       "  Result(\n",
       "    metrics={},\n",
       "    path='/Users/sidharrthnagappan/ray_results/TorchTrainer_2024-12-24_17-34-19/TorchTrainer_4f4b8_00095_95_batch_size=128,dropout=0.2614,layer_1_size=32,layer_2_size=256,layer_3_size=128,learning_rate=0.0056_2024-12-24_17-34-21',\n",
       "    filesystem='local',\n",
       "    checkpoint=None\n",
       "  ),\n",
       "  Result(\n",
       "    metrics={},\n",
       "    path='/Users/sidharrthnagappan/ray_results/TorchTrainer_2024-12-24_17-34-19/TorchTrainer_4f4b8_00096_96_batch_size=32,dropout=0.2662,layer_1_size=128,layer_2_size=128,layer_3_size=512,learning_rate=0.0062_2024-12-24_17-34-21',\n",
       "    filesystem='local',\n",
       "    checkpoint=None\n",
       "  ),\n",
       "  Result(\n",
       "    metrics={},\n",
       "    path='/Users/sidharrthnagappan/ray_results/TorchTrainer_2024-12-24_17-34-19/TorchTrainer_4f4b8_00097_97_batch_size=32,dropout=0.1770,layer_1_size=32,layer_2_size=256,layer_3_size=512,learning_rate=0.0002_2024-12-24_17-34-21',\n",
       "    filesystem='local',\n",
       "    checkpoint=None\n",
       "  ),\n",
       "  Result(\n",
       "    metrics={},\n",
       "    path='/Users/sidharrthnagappan/ray_results/TorchTrainer_2024-12-24_17-34-19/TorchTrainer_4f4b8_00098_98_batch_size=32,dropout=0.1392,layer_1_size=128,layer_2_size=256,layer_3_size=512,learning_rate=0.0025_2024-12-24_17-34-21',\n",
       "    filesystem='local',\n",
       "    checkpoint=None\n",
       "  ),\n",
       "  Result(\n",
       "    metrics={},\n",
       "    path='/Users/sidharrthnagappan/ray_results/TorchTrainer_2024-12-24_17-34-19/TorchTrainer_4f4b8_00099_99_batch_size=128,dropout=0.2809,layer_1_size=64,layer_2_size=128,layer_3_size=128,learning_rate=0.0113_2024-12-24_17-34-21',\n",
       "    filesystem='local',\n",
       "    checkpoint=None\n",
       "  )\n",
       "]>"
      ]
     },
     "execution_count": 8,
     "metadata": {},
     "output_type": "execute_result"
    },
    {
     "name": "stderr",
     "output_type": "stream",
     "text": [
      "\u001b[36m(RayTrainWorker pid=56664)\u001b[0m /Users/sidharrthnagappan/.pyenv/versions/3.11.0/lib/python3.11/multiprocessing/resource_tracker.py:224: UserWarning: resource_tracker: There appear to be 55 leaked semaphore objects to clean up at shutdown\n",
      "\u001b[36m(RayTrainWorker pid=56664)\u001b[0m   warnings.warn('resource_tracker: There appear to be %d '\n"
     ]
    }
   ],
   "source": [
    "tuner = tune.Tuner(\n",
    "    ray_trainer,\n",
    "    param_space={\"train_loop_config\": search_space},\n",
    "    tune_config=tune.TuneConfig(\n",
    "        metric=\"ptl/val_accuracy\",\n",
    "        mode=\"max\",\n",
    "        num_samples=num_samples,\n",
    "        scheduler=scheduler,\n",
    "    ),\n",
    ")\n",
    "\n",
    "tuner.fit()"
   ]
  },
  {
   "cell_type": "code",
   "execution_count": null,
   "metadata": {},
   "outputs": [],
   "source": [
    "tuner.results_df"
   ]
  },
  {
   "cell_type": "code",
   "execution_count": 9,
   "metadata": {},
   "outputs": [],
   "source": [
    "from axsearch_multiobjective import AxSearchMultiObjective"
   ]
  },
  {
   "cell_type": "code",
   "execution_count": 1,
   "metadata": {},
   "outputs": [
    {
     "data": {
      "text/html": [
       "<div class=\"tuneStatus\">\n",
       "  <div style=\"display: flex;flex-direction: row\">\n",
       "    <div style=\"display: flex;flex-direction: column;\">\n",
       "      <h3>Tune Status</h3>\n",
       "      <table>\n",
       "<tbody>\n",
       "<tr><td>Current time:</td><td>2024-12-24 23:24:27</td></tr>\n",
       "<tr><td>Running for: </td><td>00:00:11.78        </td></tr>\n",
       "<tr><td>Memory:      </td><td>22.9/32.0 GiB      </td></tr>\n",
       "</tbody>\n",
       "</table>\n",
       "    </div>\n",
       "    <div class=\"vDivider\"></div>\n",
       "    <div class=\"systemInfo\">\n",
       "      <h3>System Info</h3>\n",
       "      Using FIFO scheduling algorithm.<br>Logical resource usage: 1.0/10 CPUs, 0/0 GPUs\n",
       "    </div>\n",
       "    \n",
       "  </div>\n",
       "  <div class=\"hDivider\"></div>\n",
       "  <div class=\"trialStatus\">\n",
       "    <h3>Trial Status</h3>\n",
       "    <table>\n",
       "<thead>\n",
       "<tr><th>Trial name       </th><th>status    </th><th>loc            </th><th style=\"text-align: right;\">       a</th><th style=\"text-align: right;\">       b</th><th style=\"text-align: right;\">  iter</th><th style=\"text-align: right;\">  total time (s)</th><th style=\"text-align: right;\">       a</th><th style=\"text-align: right;\">       b</th></tr>\n",
       "</thead>\n",
       "<tbody>\n",
       "<tr><td>evaluate_be1f910c</td><td>PENDING   </td><td>               </td><td style=\"text-align: right;\">0       </td><td style=\"text-align: right;\">0       </td><td style=\"text-align: right;\">      </td><td style=\"text-align: right;\">                </td><td style=\"text-align: right;\">        </td><td style=\"text-align: right;\">        </td></tr>\n",
       "<tr><td>evaluate_3851fd8b</td><td>TERMINATED</td><td>127.0.0.1:89948</td><td style=\"text-align: right;\">0.205193</td><td style=\"text-align: right;\">0.946294</td><td style=\"text-align: right;\">     1</td><td style=\"text-align: right;\">     0.000143051</td><td style=\"text-align: right;\">0.205193</td><td style=\"text-align: right;\">0.946294</td></tr>\n",
       "<tr><td>evaluate_9396dabf</td><td>TERMINATED</td><td>127.0.0.1:89950</td><td style=\"text-align: right;\">0.965835</td><td style=\"text-align: right;\">0.362051</td><td style=\"text-align: right;\">     1</td><td style=\"text-align: right;\">     0.000108004</td><td style=\"text-align: right;\">0.965835</td><td style=\"text-align: right;\">0.362051</td></tr>\n",
       "<tr><td>evaluate_cda636d3</td><td>TERMINATED</td><td>127.0.0.1:89976</td><td style=\"text-align: right;\">0.599389</td><td style=\"text-align: right;\">0.695756</td><td style=\"text-align: right;\">     1</td><td style=\"text-align: right;\">     0.000109911</td><td style=\"text-align: right;\">0.599389</td><td style=\"text-align: right;\">0.695756</td></tr>\n",
       "<tr><td>evaluate_e747b542</td><td>TERMINATED</td><td>127.0.0.1:89977</td><td style=\"text-align: right;\">0.35434 </td><td style=\"text-align: right;\">0.113071</td><td style=\"text-align: right;\">     1</td><td style=\"text-align: right;\">     0.000101805</td><td style=\"text-align: right;\">0.35434 </td><td style=\"text-align: right;\">0.113071</td></tr>\n",
       "<tr><td>evaluate_ce00982e</td><td>TERMINATED</td><td>127.0.0.1:89983</td><td style=\"text-align: right;\">0.380549</td><td style=\"text-align: right;\">0.585214</td><td style=\"text-align: right;\">     1</td><td style=\"text-align: right;\">     0.000183105</td><td style=\"text-align: right;\">0.380549</td><td style=\"text-align: right;\">0.585214</td></tr>\n",
       "<tr><td>evaluate_b6258c52</td><td>TERMINATED</td><td>127.0.0.1:90005</td><td style=\"text-align: right;\">0       </td><td style=\"text-align: right;\">0       </td><td style=\"text-align: right;\">     1</td><td style=\"text-align: right;\">     0.000118971</td><td style=\"text-align: right;\">0       </td><td style=\"text-align: right;\">0       </td></tr>\n",
       "<tr><td>evaluate_34172aa9</td><td>TERMINATED</td><td>127.0.0.1:90027</td><td style=\"text-align: right;\">0       </td><td style=\"text-align: right;\">0.22987 </td><td style=\"text-align: right;\">     1</td><td style=\"text-align: right;\">     0.000115156</td><td style=\"text-align: right;\">0       </td><td style=\"text-align: right;\">0.22987 </td></tr>\n",
       "<tr><td>evaluate_05b4a7d3</td><td>TERMINATED</td><td>127.0.0.1:90028</td><td style=\"text-align: right;\">0       </td><td style=\"text-align: right;\">0       </td><td style=\"text-align: right;\">     1</td><td style=\"text-align: right;\">     0.000101089</td><td style=\"text-align: right;\">0       </td><td style=\"text-align: right;\">0       </td></tr>\n",
       "<tr><td>evaluate_b64ec550</td><td>TERMINATED</td><td>127.0.0.1:90052</td><td style=\"text-align: right;\">0       </td><td style=\"text-align: right;\">0       </td><td style=\"text-align: right;\">     1</td><td style=\"text-align: right;\">     0.000108004</td><td style=\"text-align: right;\">0       </td><td style=\"text-align: right;\">0       </td></tr>\n",
       "<tr><td>evaluate_de443529</td><td>TERMINATED</td><td>127.0.0.1:90053</td><td style=\"text-align: right;\">0       </td><td style=\"text-align: right;\">0.341376</td><td style=\"text-align: right;\">     1</td><td style=\"text-align: right;\">     0.000126123</td><td style=\"text-align: right;\">0       </td><td style=\"text-align: right;\">0.341376</td></tr>\n",
       "</tbody>\n",
       "</table>\n",
       "  </div>\n",
       "</div>\n",
       "<style>\n",
       ".tuneStatus {\n",
       "  color: var(--jp-ui-font-color1);\n",
       "}\n",
       ".tuneStatus .systemInfo {\n",
       "  display: flex;\n",
       "  flex-direction: column;\n",
       "}\n",
       ".tuneStatus td {\n",
       "  white-space: nowrap;\n",
       "}\n",
       ".tuneStatus .trialStatus {\n",
       "  display: flex;\n",
       "  flex-direction: column;\n",
       "}\n",
       ".tuneStatus h3 {\n",
       "  font-weight: bold;\n",
       "}\n",
       ".tuneStatus .hDivider {\n",
       "  border-bottom-width: var(--jp-border-width);\n",
       "  border-bottom-color: var(--jp-border-color0);\n",
       "  border-bottom-style: solid;\n",
       "}\n",
       ".tuneStatus .vDivider {\n",
       "  border-left-width: var(--jp-border-width);\n",
       "  border-left-color: var(--jp-border-color0);\n",
       "  border-left-style: solid;\n",
       "  margin: 0.5em 1em 0.5em 1em;\n",
       "}\n",
       "</style>\n"
      ],
      "text/plain": [
       "<IPython.core.display.HTML object>"
      ]
     },
     "metadata": {},
     "output_type": "display_data"
    },
    {
     "name": "stdout",
     "output_type": "stream",
     "text": [
      "observations []\n",
      "observation_features []\n",
      "Suggested config: {'a': 0.20519250631332397, 'b': 0.9462937712669373}\n"
     ]
    },
    {
     "name": "stderr",
     "output_type": "stream",
     "text": [
      "/Users/sidharrthnagappan/.virtualenvs/lsdp_miniproject/lib/python3.11/site-packages/ax/modelbridge/cross_validation.py:463: UserWarning: Encountered exception in computing model fit quality: RandomModelBridge does not support prediction.\n",
      "  warn(\"Encountered exception in computing model fit quality: \" + str(e))\n"
     ]
    },
    {
     "name": "stdout",
     "output_type": "stream",
     "text": [
      "Result: {'a': 0.20519250631332397, 'b': 0.9462937712669373, 'timestamp': 1735082657, 'checkpoint_dir_name': None, 'done': True, 'training_iteration': 1, 'trial_id': '3851fd8b', 'date': '2024-12-24_23-24-17', 'time_this_iter_s': 0.0001430511474609375, 'time_total_s': 0.0001430511474609375, 'pid': 89948, 'hostname': 'Sidharrths-MacBook-Pro-142.local', 'node_ip': '127.0.0.1', 'time_since_restore': 0.0001430511474609375, 'iterations_since_restore': 1, 'experiment_tag': '1_a=0.2052,b=0.9463', 'config/a': 0.20519250631332397, 'config/b': 0.9462937712669373}\n",
      "Metrics to include: ['a', 'b']\n",
      "Metric dict after trial: {'a': (0.20519250631332397, None), 'b': (0.9462937712669373, None)}\n",
      "observations [<ax.core.observation.Observation object at 0x165f1d050>]\n",
      "observation_features [ObservationFeatures(parameters={'a': 0.20519250631332397, 'b': 0.9462937712669373}, trial_index=0)]\n",
      "Suggested config: {'a': 0.9658348821103573, 'b': 0.3620511395856738}\n"
     ]
    },
    {
     "name": "stderr",
     "output_type": "stream",
     "text": [
      "/Users/sidharrthnagappan/.virtualenvs/lsdp_miniproject/lib/python3.11/site-packages/ax/modelbridge/cross_validation.py:463: UserWarning: Encountered exception in computing model fit quality: RandomModelBridge does not support prediction.\n",
      "  warn(\"Encountered exception in computing model fit quality: \" + str(e))\n"
     ]
    },
    {
     "name": "stdout",
     "output_type": "stream",
     "text": [
      "Result: {'a': 0.9658348821103573, 'b': 0.3620511395856738, 'timestamp': 1735082658, 'checkpoint_dir_name': None, 'done': True, 'training_iteration': 1, 'trial_id': '9396dabf', 'date': '2024-12-24_23-24-18', 'time_this_iter_s': 0.00010800361633300781, 'time_total_s': 0.00010800361633300781, 'pid': 89950, 'hostname': 'Sidharrths-MacBook-Pro-142.local', 'node_ip': '127.0.0.1', 'time_since_restore': 0.00010800361633300781, 'iterations_since_restore': 1, 'experiment_tag': '2_a=0.9658,b=0.3621', 'config/a': 0.9658348821103573, 'config/b': 0.3620511395856738}\n",
      "Metrics to include: ['a', 'b']\n",
      "Metric dict after trial: {'a': (0.9658348821103573, None), 'b': (0.3620511395856738, None)}\n",
      "observations [<ax.core.observation.Observation object at 0x17f31b790>, <ax.core.observation.Observation object at 0x17f34f350>]\n",
      "observation_features [ObservationFeatures(parameters={'a': 0.20519250631332397, 'b': 0.9462937712669373}, trial_index=0), ObservationFeatures(parameters={'a': 0.9658348821103573, 'b': 0.3620511395856738}, trial_index=1)]\n",
      "Suggested config: {'a': 0.5993889393284917, 'b': 0.6957563571631908}\n"
     ]
    },
    {
     "name": "stderr",
     "output_type": "stream",
     "text": [
      "/Users/sidharrthnagappan/.virtualenvs/lsdp_miniproject/lib/python3.11/site-packages/ax/modelbridge/cross_validation.py:463: UserWarning: Encountered exception in computing model fit quality: RandomModelBridge does not support prediction.\n",
      "  warn(\"Encountered exception in computing model fit quality: \" + str(e))\n"
     ]
    },
    {
     "name": "stdout",
     "output_type": "stream",
     "text": [
      "Result: {'a': 0.5993889393284917, 'b': 0.6957563571631908, 'timestamp': 1735082658, 'checkpoint_dir_name': None, 'done': True, 'training_iteration': 1, 'trial_id': 'cda636d3', 'date': '2024-12-24_23-24-18', 'time_this_iter_s': 0.00010991096496582031, 'time_total_s': 0.00010991096496582031, 'pid': 89976, 'hostname': 'Sidharrths-MacBook-Pro-142.local', 'node_ip': '127.0.0.1', 'time_since_restore': 0.00010991096496582031, 'iterations_since_restore': 1, 'experiment_tag': '3_a=0.5994,b=0.6958', 'config/a': 0.5993889393284917, 'config/b': 0.6957563571631908}\n",
      "Metrics to include: ['a', 'b']\n",
      "Metric dict after trial: {'a': (0.5993889393284917, None), 'b': (0.6957563571631908, None)}\n",
      "observations [<ax.core.observation.Observation object at 0x16a873e10>, <ax.core.observation.Observation object at 0x17f34d410>, <ax.core.observation.Observation object at 0x3867b1590>]\n",
      "observation_features [ObservationFeatures(parameters={'a': 0.20519250631332397, 'b': 0.9462937712669373}, trial_index=0), ObservationFeatures(parameters={'a': 0.9658348821103573, 'b': 0.3620511395856738}, trial_index=1), ObservationFeatures(parameters={'a': 0.5993889393284917, 'b': 0.6957563571631908}, trial_index=2)]\n",
      "Suggested config: {'a': 0.3543400028720498, 'b': 0.11307110730558634}\n"
     ]
    },
    {
     "name": "stderr",
     "output_type": "stream",
     "text": [
      "/Users/sidharrthnagappan/.virtualenvs/lsdp_miniproject/lib/python3.11/site-packages/ax/modelbridge/cross_validation.py:463: UserWarning: Encountered exception in computing model fit quality: RandomModelBridge does not support prediction.\n",
      "  warn(\"Encountered exception in computing model fit quality: \" + str(e))\n"
     ]
    },
    {
     "name": "stdout",
     "output_type": "stream",
     "text": [
      "Result: {'a': 0.3543400028720498, 'b': 0.11307110730558634, 'timestamp': 1735082659, 'checkpoint_dir_name': None, 'done': True, 'training_iteration': 1, 'trial_id': 'e747b542', 'date': '2024-12-24_23-24-19', 'time_this_iter_s': 0.00010180473327636719, 'time_total_s': 0.00010180473327636719, 'pid': 89977, 'hostname': 'Sidharrths-MacBook-Pro-142.local', 'node_ip': '127.0.0.1', 'time_since_restore': 0.00010180473327636719, 'iterations_since_restore': 1, 'experiment_tag': '4_a=0.3543,b=0.1131', 'config/a': 0.3543400028720498, 'config/b': 0.11307110730558634}\n",
      "Metrics to include: ['a', 'b']\n",
      "Metric dict after trial: {'a': (0.3543400028720498, None), 'b': (0.11307110730558634, None)}\n",
      "observations [<ax.core.observation.Observation object at 0x386795d90>, <ax.core.observation.Observation object at 0x3867df650>, <ax.core.observation.Observation object at 0x17f304f10>, <ax.core.observation.Observation object at 0x3867b1f90>]\n",
      "observation_features [ObservationFeatures(parameters={'a': 0.20519250631332397, 'b': 0.9462937712669373}, trial_index=0), ObservationFeatures(parameters={'a': 0.9658348821103573, 'b': 0.3620511395856738}, trial_index=1), ObservationFeatures(parameters={'a': 0.5993889393284917, 'b': 0.6957563571631908}, trial_index=2), ObservationFeatures(parameters={'a': 0.3543400028720498, 'b': 0.11307110730558634}, trial_index=3)]\n",
      "Suggested config: {'a': 0.38054878637194633, 'b': 0.5852137189358473}\n"
     ]
    },
    {
     "name": "stderr",
     "output_type": "stream",
     "text": [
      "/Users/sidharrthnagappan/.virtualenvs/lsdp_miniproject/lib/python3.11/site-packages/ax/modelbridge/cross_validation.py:463: UserWarning: Encountered exception in computing model fit quality: RandomModelBridge does not support prediction.\n",
      "  warn(\"Encountered exception in computing model fit quality: \" + str(e))\n"
     ]
    },
    {
     "name": "stdout",
     "output_type": "stream",
     "text": [
      "Result: {'a': 0.38054878637194633, 'b': 0.5852137189358473, 'timestamp': 1735082660, 'checkpoint_dir_name': None, 'done': True, 'training_iteration': 1, 'trial_id': 'ce00982e', 'date': '2024-12-24_23-24-20', 'time_this_iter_s': 0.00018310546875, 'time_total_s': 0.00018310546875, 'pid': 89983, 'hostname': 'Sidharrths-MacBook-Pro-142.local', 'node_ip': '127.0.0.1', 'time_since_restore': 0.00018310546875, 'iterations_since_restore': 1, 'experiment_tag': '5_a=0.3805,b=0.5852', 'config/a': 0.38054878637194633, 'config/b': 0.5852137189358473}\n",
      "Metrics to include: ['a', 'b']\n",
      "Metric dict after trial: {'a': (0.38054878637194633, None), 'b': (0.5852137189358473, None)}\n",
      "observations [<ax.core.observation.Observation object at 0x3867f7b90>, <ax.core.observation.Observation object at 0x17f318250>, <ax.core.observation.Observation object at 0x3867d0ed0>, <ax.core.observation.Observation object at 0x3867df310>, <ax.core.observation.Observation object at 0x3867df2d0>]\n",
      "observation_features [ObservationFeatures(parameters={'a': 0.20519250631332397, 'b': 0.9462937712669373}, trial_index=0), ObservationFeatures(parameters={'a': 0.9658348821103573, 'b': 0.3620511395856738}, trial_index=1), ObservationFeatures(parameters={'a': 0.5993889393284917, 'b': 0.6957563571631908}, trial_index=2), ObservationFeatures(parameters={'a': 0.3543400028720498, 'b': 0.11307110730558634}, trial_index=3), ObservationFeatures(parameters={'a': 0.38054878637194633, 'b': 0.5852137189358473}, trial_index=4)]\n",
      "Suggested config: {'a': 0.0, 'b': 0.0}\n",
      "Result: {'a': 0.0, 'b': 0.0, 'timestamp': 1735082661, 'checkpoint_dir_name': None, 'done': True, 'training_iteration': 1, 'trial_id': 'b6258c52', 'date': '2024-12-24_23-24-21', 'time_this_iter_s': 0.00011897087097167969, 'time_total_s': 0.00011897087097167969, 'pid': 90005, 'hostname': 'Sidharrths-MacBook-Pro-142.local', 'node_ip': '127.0.0.1', 'time_since_restore': 0.00011897087097167969, 'iterations_since_restore': 1, 'experiment_tag': '6_a=0.0000,b=0.0000', 'config/a': 0.0, 'config/b': 0.0}\n",
      "Metrics to include: ['a', 'b']\n",
      "Metric dict after trial: {'a': (0.0, None), 'b': (0.0, None)}\n"
     ]
    },
    {
     "name": "stderr",
     "output_type": "stream",
     "text": [
      "/Users/sidharrthnagappan/.virtualenvs/lsdp_miniproject/lib/python3.11/site-packages/linear_operator/utils/cholesky.py:40: NumericalWarning: A not p.d., added jitter of 1.0e-08 to the diagonal\n",
      "  warnings.warn(\n"
     ]
    },
    {
     "name": "stdout",
     "output_type": "stream",
     "text": [
      "observations [<ax.core.observation.Observation object at 0x17f33c210>, <ax.core.observation.Observation object at 0x38681b690>, <ax.core.observation.Observation object at 0x3867a0750>, <ax.core.observation.Observation object at 0x386832890>, <ax.core.observation.Observation object at 0x386842990>, <ax.core.observation.Observation object at 0x386843d90>]\n",
      "observation_features [ObservationFeatures(parameters={'a': 0.20519250631332397, 'b': 0.9462937712669373}, trial_index=0), ObservationFeatures(parameters={'a': 0.9658348821103573, 'b': 0.3620511395856738}, trial_index=1), ObservationFeatures(parameters={'a': 0.5993889393284917, 'b': 0.6957563571631908}, trial_index=2), ObservationFeatures(parameters={'a': 0.3543400028720498, 'b': 0.11307110730558634}, trial_index=3), ObservationFeatures(parameters={'a': 0.38054878637194633, 'b': 0.5852137189358473}, trial_index=4), ObservationFeatures(parameters={'a': 0.0, 'b': 0.0}, trial_index=5)]\n",
      "Suggested config: {'a': 0.0, 'b': 0.22987031718489753}\n",
      "Result: {'a': 0.0, 'b': 0.22987031718489753, 'timestamp': 1735082663, 'checkpoint_dir_name': None, 'done': True, 'training_iteration': 1, 'trial_id': '34172aa9', 'date': '2024-12-24_23-24-23', 'time_this_iter_s': 0.00011515617370605469, 'time_total_s': 0.00011515617370605469, 'pid': 90027, 'hostname': 'Sidharrths-MacBook-Pro-142.local', 'node_ip': '127.0.0.1', 'time_since_restore': 0.00011515617370605469, 'iterations_since_restore': 1, 'experiment_tag': '7_a=0.0000,b=0.2299', 'config/a': 0.0, 'config/b': 0.22987031718489753}\n",
      "Metrics to include: ['a', 'b']\n",
      "Metric dict after trial: {'a': (0.0, None), 'b': (0.22987031718489753, None)}\n"
     ]
    },
    {
     "name": "stderr",
     "output_type": "stream",
     "text": [
      "/Users/sidharrthnagappan/.virtualenvs/lsdp_miniproject/lib/python3.11/site-packages/linear_operator/utils/cholesky.py:40: NumericalWarning: A not p.d., added jitter of 1.0e-08 to the diagonal\n",
      "  warnings.warn(\n"
     ]
    },
    {
     "name": "stdout",
     "output_type": "stream",
     "text": [
      "observations [<ax.core.observation.Observation object at 0x17f31a450>, <ax.core.observation.Observation object at 0x3867d06d0>, <ax.core.observation.Observation object at 0x3868706d0>, <ax.core.observation.Observation object at 0x3867ddcd0>, <ax.core.observation.Observation object at 0x386829b50>, <ax.core.observation.Observation object at 0x38687fd10>, <ax.core.observation.Observation object at 0x38688e490>]\n",
      "observation_features [ObservationFeatures(parameters={'a': 0.20519250631332397, 'b': 0.9462937712669373}, trial_index=0), ObservationFeatures(parameters={'a': 0.9658348821103573, 'b': 0.3620511395856738}, trial_index=1), ObservationFeatures(parameters={'a': 0.5993889393284917, 'b': 0.6957563571631908}, trial_index=2), ObservationFeatures(parameters={'a': 0.3543400028720498, 'b': 0.11307110730558634}, trial_index=3), ObservationFeatures(parameters={'a': 0.38054878637194633, 'b': 0.5852137189358473}, trial_index=4), ObservationFeatures(parameters={'a': 0.0, 'b': 0.0}, trial_index=5), ObservationFeatures(parameters={'a': 0.0, 'b': 0.22987031718489753}, trial_index=6)]\n",
      "Suggested config: {'a': 0.0, 'b': 0.0}\n",
      "Result: {'a': 0.0, 'b': 0.0, 'timestamp': 1735082664, 'checkpoint_dir_name': None, 'done': True, 'training_iteration': 1, 'trial_id': '05b4a7d3', 'date': '2024-12-24_23-24-24', 'time_this_iter_s': 0.0001010894775390625, 'time_total_s': 0.0001010894775390625, 'pid': 90028, 'hostname': 'Sidharrths-MacBook-Pro-142.local', 'node_ip': '127.0.0.1', 'time_since_restore': 0.0001010894775390625, 'iterations_since_restore': 1, 'experiment_tag': '8_a=0.0000,b=0.0000', 'config/a': 0.0, 'config/b': 0.0}\n",
      "Metrics to include: ['a', 'b']\n",
      "Metric dict after trial: {'a': (0.0, None), 'b': (0.0, None)}\n"
     ]
    },
    {
     "name": "stderr",
     "output_type": "stream",
     "text": [
      "/Users/sidharrthnagappan/.virtualenvs/lsdp_miniproject/lib/python3.11/site-packages/linear_operator/utils/cholesky.py:40: NumericalWarning: A not p.d., added jitter of 1.0e-08 to the diagonal\n",
      "  warnings.warn(\n"
     ]
    },
    {
     "name": "stdout",
     "output_type": "stream",
     "text": [
      "observations [<ax.core.observation.Observation object at 0x38679aa10>, <ax.core.observation.Observation object at 0x3867f5350>, <ax.core.observation.Observation object at 0x38681a650>, <ax.core.observation.Observation object at 0x386842350>, <ax.core.observation.Observation object at 0x386872690>, <ax.core.observation.Observation object at 0x387c1e6d0>, <ax.core.observation.Observation object at 0x387c2bf90>, <ax.core.observation.Observation object at 0x3867a2210>]\n",
      "observation_features [ObservationFeatures(parameters={'a': 0.20519250631332397, 'b': 0.9462937712669373}, trial_index=0), ObservationFeatures(parameters={'a': 0.9658348821103573, 'b': 0.3620511395856738}, trial_index=1), ObservationFeatures(parameters={'a': 0.5993889393284917, 'b': 0.6957563571631908}, trial_index=2), ObservationFeatures(parameters={'a': 0.3543400028720498, 'b': 0.11307110730558634}, trial_index=3), ObservationFeatures(parameters={'a': 0.38054878637194633, 'b': 0.5852137189358473}, trial_index=4), ObservationFeatures(parameters={'a': 0.0, 'b': 0.0}, trial_index=5), ObservationFeatures(parameters={'a': 0.0, 'b': 0.22987031718489753}, trial_index=6), ObservationFeatures(parameters={'a': 0.0, 'b': 0.0}, trial_index=7)]\n",
      "Suggested config: {'a': 0.0, 'b': 0.0}\n",
      "Result: {'a': 0.0, 'b': 0.0, 'timestamp': 1735082665, 'checkpoint_dir_name': None, 'done': True, 'training_iteration': 1, 'trial_id': 'b64ec550', 'date': '2024-12-24_23-24-25', 'time_this_iter_s': 0.00010800361633300781, 'time_total_s': 0.00010800361633300781, 'pid': 90052, 'hostname': 'Sidharrths-MacBook-Pro-142.local', 'node_ip': '127.0.0.1', 'time_since_restore': 0.00010800361633300781, 'iterations_since_restore': 1, 'experiment_tag': '9_a=0.0000,b=0.0000', 'config/a': 0.0, 'config/b': 0.0}\n",
      "Metrics to include: ['a', 'b']\n",
      "Metric dict after trial: {'a': (0.0, None), 'b': (0.0, None)}\n",
      "observations [<ax.core.observation.Observation object at 0x3867b2550>, <ax.core.observation.Observation object at 0x38688f290>, <ax.core.observation.Observation object at 0x17f304650>, <ax.core.observation.Observation object at 0x38681a8d0>, <ax.core.observation.Observation object at 0x387c1d450>, <ax.core.observation.Observation object at 0x387c1e390>, <ax.core.observation.Observation object at 0x387c2a5d0>, <ax.core.observation.Observation object at 0x3867a2450>, <ax.core.observation.Observation object at 0x3867a19d0>]\n",
      "observation_features [ObservationFeatures(parameters={'a': 0.20519250631332397, 'b': 0.9462937712669373}, trial_index=0), ObservationFeatures(parameters={'a': 0.9658348821103573, 'b': 0.3620511395856738}, trial_index=1), ObservationFeatures(parameters={'a': 0.5993889393284917, 'b': 0.6957563571631908}, trial_index=2), ObservationFeatures(parameters={'a': 0.3543400028720498, 'b': 0.11307110730558634}, trial_index=3), ObservationFeatures(parameters={'a': 0.38054878637194633, 'b': 0.5852137189358473}, trial_index=4), ObservationFeatures(parameters={'a': 0.0, 'b': 0.0}, trial_index=5), ObservationFeatures(parameters={'a': 0.0, 'b': 0.22987031718489753}, trial_index=6), ObservationFeatures(parameters={'a': 0.0, 'b': 0.0}, trial_index=7), ObservationFeatures(parameters={'a': 0.0, 'b': 0.0}, trial_index=8)]\n",
      "Suggested config: {'a': 0.0, 'b': 0.3413764190052615}\n",
      "Result: {'a': 0.0, 'b': 0.3413764190052615, 'timestamp': 1735082666, 'checkpoint_dir_name': None, 'done': True, 'training_iteration': 1, 'trial_id': 'de443529', 'date': '2024-12-24_23-24-26', 'time_this_iter_s': 0.00012612342834472656, 'time_total_s': 0.00012612342834472656, 'pid': 90053, 'hostname': 'Sidharrths-MacBook-Pro-142.local', 'node_ip': '127.0.0.1', 'time_since_restore': 0.00012612342834472656, 'iterations_since_restore': 1, 'experiment_tag': '10_a=0.0000,b=0.3414', 'config/a': 0.0, 'config/b': 0.3413764190052615}\n",
      "Metrics to include: ['a', 'b']\n",
      "Metric dict after trial: {'a': (0.0, None), 'b': (0.3413764190052615, None)}\n",
      "observations [<ax.core.observation.Observation object at 0x38687c8d0>, <ax.core.observation.Observation object at 0x3867d2290>, <ax.core.observation.Observation object at 0x386853010>, <ax.core.observation.Observation object at 0x387c38e50>, <ax.core.observation.Observation object at 0x387c52f90>, <ax.core.observation.Observation object at 0x38688f310>, <ax.core.observation.Observation object at 0x38688e750>, <ax.core.observation.Observation object at 0x387c97a90>, <ax.core.observation.Observation object at 0x387c96610>, <ax.core.observation.Observation object at 0x387c10a10>]\n",
      "observation_features [ObservationFeatures(parameters={'a': 0.20519250631332397, 'b': 0.9462937712669373}, trial_index=0), ObservationFeatures(parameters={'a': 0.9658348821103573, 'b': 0.3620511395856738}, trial_index=1), ObservationFeatures(parameters={'a': 0.5993889393284917, 'b': 0.6957563571631908}, trial_index=2), ObservationFeatures(parameters={'a': 0.3543400028720498, 'b': 0.11307110730558634}, trial_index=3), ObservationFeatures(parameters={'a': 0.38054878637194633, 'b': 0.5852137189358473}, trial_index=4), ObservationFeatures(parameters={'a': 0.0, 'b': 0.0}, trial_index=5), ObservationFeatures(parameters={'a': 0.0, 'b': 0.22987031718489753}, trial_index=6), ObservationFeatures(parameters={'a': 0.0, 'b': 0.0}, trial_index=7), ObservationFeatures(parameters={'a': 0.0, 'b': 0.0}, trial_index=8), ObservationFeatures(parameters={'a': 0.0, 'b': 0.3413764190052615}, trial_index=9)]\n",
      "Suggested config: {'a': 0.0, 'b': 0.0}\n"
     ]
    },
    {
     "name": "stderr",
     "output_type": "stream",
     "text": [
      "2024-12-24 23:24:27,962\tWARNING tune.py:219 -- Stop signal received (e.g. via SIGINT/Ctrl+C), ending Ray Tune run. This will try to checkpoint the experiment state one last time. Press CTRL+C (or send SIGINT/SIGKILL/SIGTERM) to skip. \n",
      "2024-12-24 23:24:27,972\tINFO tune.py:1009 -- Wrote the latest version of all result files and experiment state to '/Users/sidharrthnagappan/ray_results/evaluate_2024-12-24_23-24-14' in 0.0093s.\n",
      "2024-12-24 23:24:28,349\tINFO tune.py:1041 -- Total run time: 12.18 seconds (11.77 seconds for the tuning loop).\n",
      "2024-12-24 23:24:28,349\tWARNING tune.py:1056 -- Experiment has been interrupted, but the most recent state was saved.\n",
      "Resume experiment with: Tuner.restore(path=\"/Users/sidharrthnagappan/ray_results/evaluate_2024-12-24_23-24-14\", trainable=...)\n",
      "2024-12-24 23:24:28,355\tWARNING experiment_analysis.py:180 -- Failed to fetch metrics for 1 trial(s):\n",
      "- evaluate_be1f910c: FileNotFoundError('Could not fetch metrics for evaluate_be1f910c: both result.json and progress.csv were not found at /Users/sidharrthnagappan/ray_results/evaluate_2024-12-24_23-24-14/evaluate_be1f910c_11_a=0.0000,b=0.0000_2024-12-24_23-24-27')\n"
     ]
    },
    {
     "data": {
      "text/plain": [
       "ResultGrid<[\n",
       "  Result(\n",
       "    metrics={'a': 0.20519250631332397, 'b': 0.9462937712669373},\n",
       "    path='/Users/sidharrthnagappan/ray_results/evaluate_2024-12-24_23-24-14/evaluate_3851fd8b_1_a=0.2052,b=0.9463_2024-12-24_23-24-16',\n",
       "    filesystem='local',\n",
       "    checkpoint=None\n",
       "  ),\n",
       "  Result(\n",
       "    metrics={'a': 0.9658348821103573, 'b': 0.3620511395856738},\n",
       "    path='/Users/sidharrthnagappan/ray_results/evaluate_2024-12-24_23-24-14/evaluate_9396dabf_2_a=0.9658,b=0.3621_2024-12-24_23-24-17',\n",
       "    filesystem='local',\n",
       "    checkpoint=None\n",
       "  ),\n",
       "  Result(\n",
       "    metrics={'a': 0.5993889393284917, 'b': 0.6957563571631908},\n",
       "    path='/Users/sidharrthnagappan/ray_results/evaluate_2024-12-24_23-24-14/evaluate_cda636d3_3_a=0.5994,b=0.6958_2024-12-24_23-24-18',\n",
       "    filesystem='local',\n",
       "    checkpoint=None\n",
       "  ),\n",
       "  Result(\n",
       "    metrics={'a': 0.3543400028720498, 'b': 0.11307110730558634},\n",
       "    path='/Users/sidharrthnagappan/ray_results/evaluate_2024-12-24_23-24-14/evaluate_e747b542_4_a=0.3543,b=0.1131_2024-12-24_23-24-18',\n",
       "    filesystem='local',\n",
       "    checkpoint=None\n",
       "  ),\n",
       "  Result(\n",
       "    metrics={'a': 0.38054878637194633, 'b': 0.5852137189358473},\n",
       "    path='/Users/sidharrthnagappan/ray_results/evaluate_2024-12-24_23-24-14/evaluate_ce00982e_5_a=0.3805,b=0.5852_2024-12-24_23-24-19',\n",
       "    filesystem='local',\n",
       "    checkpoint=None\n",
       "  ),\n",
       "  Result(\n",
       "    metrics={'a': 0.0, 'b': 0.0},\n",
       "    path='/Users/sidharrthnagappan/ray_results/evaluate_2024-12-24_23-24-14/evaluate_b6258c52_6_a=0.0000,b=0.0000_2024-12-24_23-24-20',\n",
       "    filesystem='local',\n",
       "    checkpoint=None\n",
       "  ),\n",
       "  Result(\n",
       "    metrics={'a': 0.0, 'b': 0.22987031718489753},\n",
       "    path='/Users/sidharrthnagappan/ray_results/evaluate_2024-12-24_23-24-14/evaluate_34172aa9_7_a=0.0000,b=0.2299_2024-12-24_23-24-22',\n",
       "    filesystem='local',\n",
       "    checkpoint=None\n",
       "  ),\n",
       "  Result(\n",
       "    metrics={'a': 0.0, 'b': 0.0},\n",
       "    path='/Users/sidharrthnagappan/ray_results/evaluate_2024-12-24_23-24-14/evaluate_05b4a7d3_8_a=0.0000,b=0.0000_2024-12-24_23-24-23',\n",
       "    filesystem='local',\n",
       "    checkpoint=None\n",
       "  ),\n",
       "  Result(\n",
       "    metrics={'a': 0.0, 'b': 0.0},\n",
       "    path='/Users/sidharrthnagappan/ray_results/evaluate_2024-12-24_23-24-14/evaluate_b64ec550_9_a=0.0000,b=0.0000_2024-12-24_23-24-24',\n",
       "    filesystem='local',\n",
       "    checkpoint=None\n",
       "  ),\n",
       "  Result(\n",
       "    metrics={'a': 0.0, 'b': 0.3413764190052615},\n",
       "    path='/Users/sidharrthnagappan/ray_results/evaluate_2024-12-24_23-24-14/evaluate_de443529_10_a=0.0000,b=0.3414_2024-12-24_23-24-26',\n",
       "    filesystem='local',\n",
       "    checkpoint=None\n",
       "  ),\n",
       "  Result(\n",
       "    metrics={},\n",
       "    path='/Users/sidharrthnagappan/ray_results/evaluate_2024-12-24_23-24-14/evaluate_be1f910c_11_a=0.0000,b=0.0000_2024-12-24_23-24-27',\n",
       "    filesystem='local',\n",
       "    checkpoint=None\n",
       "  )\n",
       "]>"
      ]
     },
     "execution_count": 1,
     "metadata": {},
     "output_type": "execute_result"
    }
   ],
   "source": [
    "from ax.service.ax_client import AxClient\n",
    "from ax.service.utils.instantiation import ObjectiveProperties\n",
    "from ray import tune, air\n",
    "from ray.air import session\n",
    "from ray.tune.search import ConcurrencyLimiter\n",
    "from ray.tune.search.ax import AxSearch\n",
    "from ray.train import RunConfig, ScalingConfig, CheckpointConfig\n",
    "\n",
    "# from ray.tune.search.ax import AxSearch\n",
    "from axsearch_multiobjective import AxSearchMultiObjective\n",
    "\n",
    "\n",
    "def evaluate(parameter: dict, checkpoint_dir=None):\n",
    "    session.report(\n",
    "        {\n",
    "            \"a\": parameter[\"a\"],\n",
    "            \"b\": parameter[\"b\"],\n",
    "        }\n",
    "    )\n",
    "\n",
    "\n",
    "ax_client = AxClient(\n",
    "    verbose_logging=False,\n",
    "    # enforce_sequential_optimization=False,\n",
    ")\n",
    "ax_client.create_experiment(\n",
    "    name=\"test\",\n",
    "    parameters=[\n",
    "        {\n",
    "            \"name\": \"a\",\n",
    "            \"type\": \"range\",\n",
    "            \"value_type\": \"float\",\n",
    "            \"bounds\": [0, 1.0],\n",
    "        },\n",
    "        {\n",
    "            \"name\": \"b\",\n",
    "            \"type\": \"range\",\n",
    "            \"value_type\": \"float\",\n",
    "            \"bounds\": [0, 1.0],\n",
    "        },\n",
    "    ],\n",
    "    objectives={\n",
    "        \"a\": ObjectiveProperties(minimize=True, threshold=0.5),\n",
    "        \"b\": ObjectiveProperties(minimize=True, threshold=0.5),\n",
    "    },\n",
    "    overwrite_existing_experiment=True,\n",
    "    is_test=False,\n",
    ")\n",
    "\n",
    "algo = AxSearchMultiObjective(ax_client=ax_client)\n",
    "algo = ConcurrencyLimiter(algo, max_concurrent=1)\n",
    "tuner = tune.Tuner(\n",
    "    tune.with_resources(evaluate, resources={\"cpu\": 1}),\n",
    "    tune_config=tune.TuneConfig(search_alg=algo, num_samples=60),\n",
    "    run_config=RunConfig(\n",
    "        checkpoint_config=CheckpointConfig(\n",
    "            num_to_keep=2,\n",
    "            checkpoint_score_attribute=\"ptl/val_accuracy\",\n",
    "            checkpoint_score_order=\"max\",\n",
    "        )\n",
    "    ),\n",
    ")\n",
    "tuner.fit()"
   ]
  },
  {
   "cell_type": "code",
   "execution_count": 1,
   "metadata": {},
   "outputs": [
    {
     "data": {
      "text/html": [
       "<div class=\"tuneStatus\">\n",
       "  <div style=\"display: flex;flex-direction: row\">\n",
       "    <div style=\"display: flex;flex-direction: column;\">\n",
       "      <h3>Tune Status</h3>\n",
       "      <table>\n",
       "<tbody>\n",
       "<tr><td>Current time:</td><td>2024-12-24 23:45:16</td></tr>\n",
       "<tr><td>Running for: </td><td>00:04:58.20        </td></tr>\n",
       "<tr><td>Memory:      </td><td>23.9/32.0 GiB      </td></tr>\n",
       "</tbody>\n",
       "</table>\n",
       "    </div>\n",
       "    <div class=\"vDivider\"></div>\n",
       "    <div class=\"systemInfo\">\n",
       "      <h3>System Info</h3>\n",
       "      Using FIFO scheduling algorithm.<br>Logical resource usage: 2.0/10 CPUs, 0/0 GPUs\n",
       "    </div>\n",
       "    \n",
       "  </div>\n",
       "  <div class=\"hDivider\"></div>\n",
       "  <div class=\"trialStatus\">\n",
       "    <h3>Trial Status</h3>\n",
       "    <table>\n",
       "<thead>\n",
       "<tr><th>Trial name       </th><th>status    </th><th>loc           </th><th style=\"text-align: right;\">  hidden_size</th><th style=\"text-align: right;\">  kernel_size</th><th style=\"text-align: right;\">  num_layers</th><th style=\"text-align: right;\">  iter</th><th style=\"text-align: right;\">  total time (s)</th><th style=\"text-align: right;\">  accuracy</th><th style=\"text-align: right;\">  latency</th></tr>\n",
       "</thead>\n",
       "<tbody>\n",
       "<tr><td>evaluate_eec15173</td><td>TERMINATED</td><td>127.0.0.1:1499</td><td style=\"text-align: right;\">           87</td><td style=\"text-align: right;\">            3</td><td style=\"text-align: right;\">           1</td><td style=\"text-align: right;\">     1</td><td style=\"text-align: right;\">         3.46956</td><td style=\"text-align: right;\">    0.8761</td><td style=\"text-align: right;\">      261</td></tr>\n",
       "<tr><td>evaluate_29ae04fb</td><td>TERMINATED</td><td>127.0.0.1:1599</td><td style=\"text-align: right;\">           21</td><td style=\"text-align: right;\">            5</td><td style=\"text-align: right;\">           5</td><td style=\"text-align: right;\">     1</td><td style=\"text-align: right;\">        10.4258 </td><td style=\"text-align: right;\">    0.898 </td><td style=\"text-align: right;\">      525</td></tr>\n",
       "<tr><td>evaluate_58fa2603</td><td>TERMINATED</td><td>127.0.0.1:1742</td><td style=\"text-align: right;\">          127</td><td style=\"text-align: right;\">            5</td><td style=\"text-align: right;\">           4</td><td style=\"text-align: right;\">     1</td><td style=\"text-align: right;\">        75.9225 </td><td style=\"text-align: right;\">    0.9125</td><td style=\"text-align: right;\">     2540</td></tr>\n",
       "<tr><td>evaluate_dc80ba9d</td><td>TERMINATED</td><td>127.0.0.1:2620</td><td style=\"text-align: right;\">           54</td><td style=\"text-align: right;\">            7</td><td style=\"text-align: right;\">           2</td><td style=\"text-align: right;\">     1</td><td style=\"text-align: right;\">        12.9419 </td><td style=\"text-align: right;\">    0.9276</td><td style=\"text-align: right;\">      756</td></tr>\n",
       "<tr><td>evaluate_305570eb</td><td>TERMINATED</td><td>127.0.0.1:2809</td><td style=\"text-align: right;\">          103</td><td style=\"text-align: right;\">            7</td><td style=\"text-align: right;\">           3</td><td style=\"text-align: right;\">     1</td><td style=\"text-align: right;\">        43.5916 </td><td style=\"text-align: right;\">    0.8984</td><td style=\"text-align: right;\">     2163</td></tr>\n",
       "<tr><td>evaluate_c3ba019f</td><td>TERMINATED</td><td>127.0.0.1:3378</td><td style=\"text-align: right;\">           65</td><td style=\"text-align: right;\">            3</td><td style=\"text-align: right;\">           4</td><td style=\"text-align: right;\">     1</td><td style=\"text-align: right;\">        25.0104 </td><td style=\"text-align: right;\">    0.9171</td><td style=\"text-align: right;\">      780</td></tr>\n",
       "<tr><td>evaluate_7e725cc6</td><td>TERMINATED</td><td>127.0.0.1:3721</td><td style=\"text-align: right;\">           51</td><td style=\"text-align: right;\">            3</td><td style=\"text-align: right;\">           1</td><td style=\"text-align: right;\">     1</td><td style=\"text-align: right;\">         2.03818</td><td style=\"text-align: right;\">    0.8709</td><td style=\"text-align: right;\">      153</td></tr>\n",
       "<tr><td>evaluate_14c4df33</td><td>TERMINATED</td><td>127.0.0.1:3793</td><td style=\"text-align: right;\">           16</td><td style=\"text-align: right;\">            3</td><td style=\"text-align: right;\">           5</td><td style=\"text-align: right;\">     1</td><td style=\"text-align: right;\">         7.11735</td><td style=\"text-align: right;\">    0.8688</td><td style=\"text-align: right;\">      240</td></tr>\n",
       "<tr><td>evaluate_81dd0df6</td><td>TERMINATED</td><td>127.0.0.1:3917</td><td style=\"text-align: right;\">           16</td><td style=\"text-align: right;\">            7</td><td style=\"text-align: right;\">           1</td><td style=\"text-align: right;\">     1</td><td style=\"text-align: right;\">         1.35454</td><td style=\"text-align: right;\">    0.9152</td><td style=\"text-align: right;\">      112</td></tr>\n",
       "<tr><td>evaluate_5a76f217</td><td>TERMINATED</td><td>127.0.0.1:3977</td><td style=\"text-align: right;\">           16</td><td style=\"text-align: right;\">            3</td><td style=\"text-align: right;\">           3</td><td style=\"text-align: right;\">     1</td><td style=\"text-align: right;\">         4.16296</td><td style=\"text-align: right;\">    0.887 </td><td style=\"text-align: right;\">      144</td></tr>\n",
       "<tr><td>evaluate_d4dc1677</td><td>TERMINATED</td><td>127.0.0.1:4084</td><td style=\"text-align: right;\">           16</td><td style=\"text-align: right;\">            5</td><td style=\"text-align: right;\">           1</td><td style=\"text-align: right;\">     1</td><td style=\"text-align: right;\">         1.26754</td><td style=\"text-align: right;\">    0.9184</td><td style=\"text-align: right;\">       80</td></tr>\n",
       "<tr><td>evaluate_74d99b44</td><td>TERMINATED</td><td>127.0.0.1:4137</td><td style=\"text-align: right;\">           16</td><td style=\"text-align: right;\">            5</td><td style=\"text-align: right;\">           2</td><td style=\"text-align: right;\">     1</td><td style=\"text-align: right;\">         3.47494</td><td style=\"text-align: right;\">    0.8991</td><td style=\"text-align: right;\">      160</td></tr>\n",
       "<tr><td>evaluate_057a99c0</td><td>TERMINATED</td><td>127.0.0.1:4258</td><td style=\"text-align: right;\">           16</td><td style=\"text-align: right;\">            3</td><td style=\"text-align: right;\">           1</td><td style=\"text-align: right;\">     1</td><td style=\"text-align: right;\">         1.03743</td><td style=\"text-align: right;\">    0.8978</td><td style=\"text-align: right;\">       48</td></tr>\n",
       "<tr><td>evaluate_fd74aba1</td><td>TERMINATED</td><td>127.0.0.1:4318</td><td style=\"text-align: right;\">           37</td><td style=\"text-align: right;\">            7</td><td style=\"text-align: right;\">           1</td><td style=\"text-align: right;\">     1</td><td style=\"text-align: right;\">         1.78855</td><td style=\"text-align: right;\">    0.9101</td><td style=\"text-align: right;\">      259</td></tr>\n",
       "<tr><td>evaluate_025beec4</td><td>TERMINATED</td><td>127.0.0.1:4370</td><td style=\"text-align: right;\">           23</td><td style=\"text-align: right;\">            7</td><td style=\"text-align: right;\">           2</td><td style=\"text-align: right;\">     1</td><td style=\"text-align: right;\">         5.34509</td><td style=\"text-align: right;\">    0.9138</td><td style=\"text-align: right;\">      322</td></tr>\n",
       "<tr><td>evaluate_4d571a13</td><td>TERMINATED</td><td>127.0.0.1:4494</td><td style=\"text-align: right;\">           16</td><td style=\"text-align: right;\">            3</td><td style=\"text-align: right;\">           4</td><td style=\"text-align: right;\">     1</td><td style=\"text-align: right;\">         5.48322</td><td style=\"text-align: right;\">    0.8815</td><td style=\"text-align: right;\">      192</td></tr>\n",
       "<tr><td>evaluate_62df2775</td><td>TERMINATED</td><td>127.0.0.1:4583</td><td style=\"text-align: right;\">           43</td><td style=\"text-align: right;\">            7</td><td style=\"text-align: right;\">           2</td><td style=\"text-align: right;\">     1</td><td style=\"text-align: right;\">         9.37117</td><td style=\"text-align: right;\">    0.9407</td><td style=\"text-align: right;\">      602</td></tr>\n",
       "<tr><td>evaluate_3b17f368</td><td>TERMINATED</td><td>127.0.0.1:4737</td><td style=\"text-align: right;\">          128</td><td style=\"text-align: right;\">            3</td><td style=\"text-align: right;\">           1</td><td style=\"text-align: right;\">     1</td><td style=\"text-align: right;\">         3.8428 </td><td style=\"text-align: right;\">    0.8833</td><td style=\"text-align: right;\">      384</td></tr>\n",
       "<tr><td>evaluate_d41320c5</td><td>TERMINATED</td><td>127.0.0.1:4803</td><td style=\"text-align: right;\">           16</td><td style=\"text-align: right;\">            3</td><td style=\"text-align: right;\">           2</td><td style=\"text-align: right;\">     1</td><td style=\"text-align: right;\">         2.74409</td><td style=\"text-align: right;\">    0.8932</td><td style=\"text-align: right;\">       96</td></tr>\n",
       "<tr><td>evaluate_01c12111</td><td>TERMINATED</td><td>127.0.0.1:4895</td><td style=\"text-align: right;\">           36</td><td style=\"text-align: right;\">            7</td><td style=\"text-align: right;\">           2</td><td style=\"text-align: right;\">     1</td><td style=\"text-align: right;\">         8.42932</td><td style=\"text-align: right;\">    0.9285</td><td style=\"text-align: right;\">      504</td></tr>\n",
       "</tbody>\n",
       "</table>\n",
       "  </div>\n",
       "</div>\n",
       "<style>\n",
       ".tuneStatus {\n",
       "  color: var(--jp-ui-font-color1);\n",
       "}\n",
       ".tuneStatus .systemInfo {\n",
       "  display: flex;\n",
       "  flex-direction: column;\n",
       "}\n",
       ".tuneStatus td {\n",
       "  white-space: nowrap;\n",
       "}\n",
       ".tuneStatus .trialStatus {\n",
       "  display: flex;\n",
       "  flex-direction: column;\n",
       "}\n",
       ".tuneStatus h3 {\n",
       "  font-weight: bold;\n",
       "}\n",
       ".tuneStatus .hDivider {\n",
       "  border-bottom-width: var(--jp-border-width);\n",
       "  border-bottom-color: var(--jp-border-color0);\n",
       "  border-bottom-style: solid;\n",
       "}\n",
       ".tuneStatus .vDivider {\n",
       "  border-left-width: var(--jp-border-width);\n",
       "  border-left-color: var(--jp-border-color0);\n",
       "  border-left-style: solid;\n",
       "  margin: 0.5em 1em 0.5em 1em;\n",
       "}\n",
       "</style>\n"
      ],
      "text/plain": [
       "<IPython.core.display.HTML object>"
      ]
     },
     "metadata": {},
     "output_type": "display_data"
    },
    {
     "name": "stdout",
     "output_type": "stream",
     "text": [
      "observations []\n",
      "observation_features []\n",
      "Suggested config: {'num_layers': 1, 'hidden_size': 87, 'kernel_size': 3}\n"
     ]
    },
    {
     "name": "stderr",
     "output_type": "stream",
     "text": [
      "/Users/sidharrthnagappan/.virtualenvs/lsdp_miniproject/lib/python3.11/site-packages/ax/modelbridge/cross_validation.py:463: UserWarning: Encountered exception in computing model fit quality: RandomModelBridge does not support prediction.\n",
      "  warn(\"Encountered exception in computing model fit quality: \" + str(e))\n"
     ]
    },
    {
     "name": "stdout",
     "output_type": "stream",
     "text": [
      "\u001b[33m(raylet)\u001b[0m Warning: The actor ImplicitFunc is very large (52 MiB). Check that its definition is not implicitly capturing a large array or other object in scope. Tip: use ray.put() to put large objects in the Ray object store.\n",
      "Result: {'accuracy': 0.8761, 'latency': 261, 'timestamp': 1735083625, 'checkpoint_dir_name': None, 'done': True, 'training_iteration': 1, 'trial_id': 'eec15173', 'date': '2024-12-24_23-40-25', 'time_this_iter_s': 3.469562292098999, 'time_total_s': 3.469562292098999, 'pid': 1499, 'hostname': 'Sidharrths-MacBook-Pro-142.local', 'node_ip': '127.0.0.1', 'time_since_restore': 3.469562292098999, 'iterations_since_restore': 1, 'experiment_tag': '1_hidden_size=87,kernel_size=3,num_layers=1', 'config/num_layers': 1, 'config/hidden_size': 87, 'config/kernel_size': 3}\n",
      "Metrics to include: ['accuracy', 'latency']\n",
      "Metric dict after trial: {'accuracy': (0.8761, None), 'latency': (261, None)}\n",
      "observations [<ax.core.observation.Observation object at 0x31eecf0d0>]\n",
      "observation_features [ObservationFeatures(parameters={'num_layers': 0.09999839999359994, 'hidden_size': 0.632743386326263, 'kernel_size': 0.16666444442962952}, trial_index=0)]\n",
      "Suggested config: {'num_layers': 5, 'hidden_size': 21, 'kernel_size': 5}\n"
     ]
    },
    {
     "name": "stderr",
     "output_type": "stream",
     "text": [
      "/Users/sidharrthnagappan/.virtualenvs/lsdp_miniproject/lib/python3.11/site-packages/ax/modelbridge/cross_validation.py:463: UserWarning: Encountered exception in computing model fit quality: RandomModelBridge does not support prediction.\n",
      "  warn(\"Encountered exception in computing model fit quality: \" + str(e))\n"
     ]
    },
    {
     "name": "stdout",
     "output_type": "stream",
     "text": [
      "Result: {'accuracy': 0.898, 'latency': 525, 'timestamp': 1735083638, 'checkpoint_dir_name': None, 'done': True, 'training_iteration': 1, 'trial_id': '29ae04fb', 'date': '2024-12-24_23-40-38', 'time_this_iter_s': 10.425843000411987, 'time_total_s': 10.425843000411987, 'pid': 1599, 'hostname': 'Sidharrths-MacBook-Pro-142.local', 'node_ip': '127.0.0.1', 'time_since_restore': 10.425843000411987, 'iterations_since_restore': 1, 'experiment_tag': '2_hidden_size=21,kernel_size=5,num_layers=5', 'config/num_layers': 5, 'config/hidden_size': 21, 'config/kernel_size': 5}\n",
      "Metrics to include: ['accuracy', 'latency']\n",
      "Metric dict after trial: {'accuracy': (0.898, None), 'latency': (525, None)}\n",
      "observations [<ax.core.observation.Observation object at 0x31eb10fd0>, <ax.core.observation.Observation object at 0x3cb47c810>]\n",
      "observation_features [ObservationFeatures(parameters={'num_layers': 0.09999839999359994, 'hidden_size': 0.632743386326263, 'kernel_size': 0.16666444442962952}, trial_index=0), ObservationFeatures(parameters={'num_layers': 0.9000016000064, 'hidden_size': 0.04867248649070558, 'kernel_size': 0.5}, trial_index=1)]\n",
      "Suggested config: {'num_layers': 4, 'hidden_size': 127, 'kernel_size': 5}\n"
     ]
    },
    {
     "name": "stderr",
     "output_type": "stream",
     "text": [
      "/Users/sidharrthnagappan/.virtualenvs/lsdp_miniproject/lib/python3.11/site-packages/ax/modelbridge/cross_validation.py:463: UserWarning: Encountered exception in computing model fit quality: RandomModelBridge does not support prediction.\n",
      "  warn(\"Encountered exception in computing model fit quality: \" + str(e))\n"
     ]
    },
    {
     "name": "stdout",
     "output_type": "stream",
     "text": [
      "Result: {'accuracy': 0.9125, 'latency': 2540, 'timestamp': 1735083717, 'checkpoint_dir_name': None, 'done': True, 'training_iteration': 1, 'trial_id': '58fa2603', 'date': '2024-12-24_23-41-57', 'time_this_iter_s': 75.92250084877014, 'time_total_s': 75.92250084877014, 'pid': 1742, 'hostname': 'Sidharrths-MacBook-Pro-142.local', 'node_ip': '127.0.0.1', 'time_since_restore': 75.92250084877014, 'iterations_since_restore': 1, 'experiment_tag': '3_hidden_size=127,kernel_size=5,num_layers=4', 'config/num_layers': 4, 'config/hidden_size': 127, 'config/kernel_size': 5}\n",
      "Metrics to include: ['accuracy', 'latency']\n",
      "Metric dict after trial: {'accuracy': (0.9125, None), 'latency': (2540, None)}\n",
      "observations [<ax.core.observation.Observation object at 0x31ef62bd0>, <ax.core.observation.Observation object at 0x3cb477a10>, <ax.core.observation.Observation object at 0x3cb43ff10>]\n",
      "observation_features [ObservationFeatures(parameters={'num_layers': 0.09999839999359994, 'hidden_size': 0.632743386326263, 'kernel_size': 0.16666444442962952}, trial_index=0), ObservationFeatures(parameters={'num_layers': 0.9000016000064, 'hidden_size': 0.04867248649070558, 'kernel_size': 0.5}, trial_index=1), ObservationFeatures(parameters={'num_layers': 0.7000008000031999, 'hidden_size': 0.9867257498629646, 'kernel_size': 0.5}, trial_index=2)]\n",
      "Suggested config: {'num_layers': 2, 'hidden_size': 54, 'kernel_size': 7}\n"
     ]
    },
    {
     "name": "stderr",
     "output_type": "stream",
     "text": [
      "/Users/sidharrthnagappan/.virtualenvs/lsdp_miniproject/lib/python3.11/site-packages/ax/modelbridge/cross_validation.py:463: UserWarning: Encountered exception in computing model fit quality: RandomModelBridge does not support prediction.\n",
      "  warn(\"Encountered exception in computing model fit quality: \" + str(e))\n"
     ]
    },
    {
     "name": "stdout",
     "output_type": "stream",
     "text": [
      "Result: {'accuracy': 0.9276, 'latency': 756, 'timestamp': 1735083733, 'checkpoint_dir_name': None, 'done': True, 'training_iteration': 1, 'trial_id': 'dc80ba9d', 'date': '2024-12-24_23-42-13', 'time_this_iter_s': 12.94192385673523, 'time_total_s': 12.94192385673523, 'pid': 2620, 'hostname': 'Sidharrths-MacBook-Pro-142.local', 'node_ip': '127.0.0.1', 'time_since_restore': 12.94192385673523, 'iterations_since_restore': 1, 'experiment_tag': '4_hidden_size=54,kernel_size=7,num_layers=2', 'config/num_layers': 2, 'config/hidden_size': 54, 'config/kernel_size': 7}\n",
      "Metrics to include: ['accuracy', 'latency']\n",
      "Metric dict after trial: {'accuracy': (0.9276, None), 'latency': (756, None)}\n",
      "observations [<ax.core.observation.Observation object at 0x3cb493390>, <ax.core.observation.Observation object at 0x3cb492bd0>, <ax.core.observation.Observation object at 0x3cb43c190>, <ax.core.observation.Observation object at 0x3cb462290>]\n",
      "observation_features [ObservationFeatures(parameters={'num_layers': 0.09999839999359994, 'hidden_size': 0.632743386326263, 'kernel_size': 0.16666444442962952}, trial_index=0), ObservationFeatures(parameters={'num_layers': 0.9000016000064, 'hidden_size': 0.04867248649070558, 'kernel_size': 0.5}, trial_index=1), ObservationFeatures(parameters={'num_layers': 0.7000008000031999, 'hidden_size': 0.9867257498629646, 'kernel_size': 0.5}, trial_index=2), ObservationFeatures(parameters={'num_layers': 0.2999991999967999, 'hidden_size': 0.3407079364084843, 'kernel_size': 0.8333355555703705}, trial_index=3)]\n",
      "Suggested config: {'num_layers': 3, 'hidden_size': 103, 'kernel_size': 7}\n"
     ]
    },
    {
     "name": "stderr",
     "output_type": "stream",
     "text": [
      "/Users/sidharrthnagappan/.virtualenvs/lsdp_miniproject/lib/python3.11/site-packages/ax/modelbridge/cross_validation.py:463: UserWarning: Encountered exception in computing model fit quality: RandomModelBridge does not support prediction.\n",
      "  warn(\"Encountered exception in computing model fit quality: \" + str(e))\n"
     ]
    },
    {
     "name": "stdout",
     "output_type": "stream",
     "text": [
      "Result: {'accuracy': 0.8984, 'latency': 2163, 'timestamp': 1735083779, 'checkpoint_dir_name': None, 'done': True, 'training_iteration': 1, 'trial_id': '305570eb', 'date': '2024-12-24_23-42-59', 'time_this_iter_s': 43.59163475036621, 'time_total_s': 43.59163475036621, 'pid': 2809, 'hostname': 'Sidharrths-MacBook-Pro-142.local', 'node_ip': '127.0.0.1', 'time_since_restore': 43.59163475036621, 'iterations_since_restore': 1, 'experiment_tag': '5_hidden_size=103,kernel_size=7,num_layers=3', 'config/num_layers': 3, 'config/hidden_size': 103, 'config/kernel_size': 7}\n",
      "Metrics to include: ['accuracy', 'latency']\n",
      "Metric dict after trial: {'accuracy': (0.8984, None), 'latency': (2163, None)}\n",
      "observations [<ax.core.observation.Observation object at 0x3cb43fa10>, <ax.core.observation.Observation object at 0x3cb4ca8d0>, <ax.core.observation.Observation object at 0x3cb4d47d0>, <ax.core.observation.Observation object at 0x3cb4d7810>, <ax.core.observation.Observation object at 0x3cb4916d0>]\n",
      "observation_features [ObservationFeatures(parameters={'num_layers': 0.09999839999359994, 'hidden_size': 0.632743386326263, 'kernel_size': 0.16666444442962952}, trial_index=0), ObservationFeatures(parameters={'num_layers': 0.9000016000064, 'hidden_size': 0.04867248649070558, 'kernel_size': 0.5}, trial_index=1), ObservationFeatures(parameters={'num_layers': 0.7000008000031999, 'hidden_size': 0.9867257498629646, 'kernel_size': 0.5}, trial_index=2), ObservationFeatures(parameters={'num_layers': 0.2999991999967999, 'hidden_size': 0.3407079364084843, 'kernel_size': 0.8333355555703705}, trial_index=3), ObservationFeatures(parameters={'num_layers': 0.4999999999999999, 'hidden_size': 0.7743363317409437, 'kernel_size': 0.8333355555703705}, trial_index=4)]\n",
      "Suggested config: {'num_layers': 4, 'hidden_size': 65, 'kernel_size': 3}\n"
     ]
    },
    {
     "name": "stderr",
     "output_type": "stream",
     "text": [
      "/Users/sidharrthnagappan/.virtualenvs/lsdp_miniproject/lib/python3.11/site-packages/ax/modelbridge/cross_validation.py:463: UserWarning: Encountered exception in computing model fit quality: RandomModelBridge does not support prediction.\n",
      "  warn(\"Encountered exception in computing model fit quality: \" + str(e))\n"
     ]
    },
    {
     "name": "stdout",
     "output_type": "stream",
     "text": [
      "Result: {'accuracy': 0.9171, 'latency': 780, 'timestamp': 1735083807, 'checkpoint_dir_name': None, 'done': True, 'training_iteration': 1, 'trial_id': 'c3ba019f', 'date': '2024-12-24_23-43-27', 'time_this_iter_s': 25.010422945022583, 'time_total_s': 25.010422945022583, 'pid': 3378, 'hostname': 'Sidharrths-MacBook-Pro-142.local', 'node_ip': '127.0.0.1', 'time_since_restore': 25.010422945022583, 'iterations_since_restore': 1, 'experiment_tag': '6_hidden_size=65,kernel_size=3,num_layers=4', 'config/num_layers': 4, 'config/hidden_size': 65, 'config/kernel_size': 3}\n",
      "Metrics to include: ['accuracy', 'latency']\n",
      "Metric dict after trial: {'accuracy': (0.9171, None), 'latency': (780, None)}\n",
      "observations [<ax.core.observation.Observation object at 0x3cb474610>, <ax.core.observation.Observation object at 0x31e99ac50>, <ax.core.observation.Observation object at 0x3cb4b70d0>, <ax.core.observation.Observation object at 0x31ef6d450>, <ax.core.observation.Observation object at 0x3cb51c590>, <ax.core.observation.Observation object at 0x3cb537ed0>]\n",
      "observation_features [ObservationFeatures(parameters={'num_layers': 0.09999839999359994, 'hidden_size': 0.632743386326263, 'kernel_size': 0.16666444442962952}, trial_index=0), ObservationFeatures(parameters={'num_layers': 0.9000016000064, 'hidden_size': 0.04867248649070558, 'kernel_size': 0.5}, trial_index=1), ObservationFeatures(parameters={'num_layers': 0.7000008000031999, 'hidden_size': 0.9867257498629646, 'kernel_size': 0.5}, trial_index=2), ObservationFeatures(parameters={'num_layers': 0.2999991999967999, 'hidden_size': 0.3407079364084843, 'kernel_size': 0.8333355555703705}, trial_index=3), ObservationFeatures(parameters={'num_layers': 0.4999999999999999, 'hidden_size': 0.7743363317409437, 'kernel_size': 0.8333355555703705}, trial_index=4), ObservationFeatures(parameters={'num_layers': 0.7000008000031999, 'hidden_size': 0.4380530863810772, 'kernel_size': 0.16666444442962952}, trial_index=5)]\n",
      "Suggested config: {'num_layers': 1, 'hidden_size': 51, 'kernel_size': 3}\n",
      "Result: {'accuracy': 0.8709, 'latency': 153, 'timestamp': 1735083813, 'checkpoint_dir_name': None, 'done': True, 'training_iteration': 1, 'trial_id': '7e725cc6', 'date': '2024-12-24_23-43-33', 'time_this_iter_s': 2.0381758213043213, 'time_total_s': 2.0381758213043213, 'pid': 3721, 'hostname': 'Sidharrths-MacBook-Pro-142.local', 'node_ip': '127.0.0.1', 'time_since_restore': 2.0381758213043213, 'iterations_since_restore': 1, 'experiment_tag': '7_hidden_size=51,kernel_size=3,num_layers=1', 'config/num_layers': 1, 'config/hidden_size': 51, 'config/kernel_size': 3}\n",
      "Metrics to include: ['accuracy', 'latency']\n",
      "Metric dict after trial: {'accuracy': (0.8709, None), 'latency': (153, None)}\n",
      "observations [<ax.core.observation.Observation object at 0x3cb4fded0>, <ax.core.observation.Observation object at 0x3cb4e6050>, <ax.core.observation.Observation object at 0x3cb51c450>, <ax.core.observation.Observation object at 0x3199ba910>, <ax.core.observation.Observation object at 0x3199dfc90>, <ax.core.observation.Observation object at 0x3199dfd90>, <ax.core.observation.Observation object at 0x3cb4b7250>]\n",
      "observation_features [ObservationFeatures(parameters={'num_layers': 0.09999839999359994, 'hidden_size': 0.632743386326263, 'kernel_size': 0.16666444442962952}, trial_index=0), ObservationFeatures(parameters={'num_layers': 0.9000016000064, 'hidden_size': 0.04867248649070558, 'kernel_size': 0.5}, trial_index=1), ObservationFeatures(parameters={'num_layers': 0.7000008000031999, 'hidden_size': 0.9867257498629646, 'kernel_size': 0.5}, trial_index=2), ObservationFeatures(parameters={'num_layers': 0.2999991999967999, 'hidden_size': 0.3407079364084843, 'kernel_size': 0.8333355555703705}, trial_index=3), ObservationFeatures(parameters={'num_layers': 0.4999999999999999, 'hidden_size': 0.7743363317409437, 'kernel_size': 0.8333355555703705}, trial_index=4), ObservationFeatures(parameters={'num_layers': 0.7000008000031999, 'hidden_size': 0.4380530863810772, 'kernel_size': 0.16666444442962952}, trial_index=5), ObservationFeatures(parameters={'num_layers': 0.09999839999359994, 'hidden_size': 0.3141592591432317, 'kernel_size': 0.16666444442962952}, trial_index=6)]\n",
      "Suggested config: {'num_layers': 5, 'hidden_size': 16, 'kernel_size': 3}\n",
      "Result: {'accuracy': 0.8688, 'latency': 240, 'timestamp': 1735083824, 'checkpoint_dir_name': None, 'done': True, 'training_iteration': 1, 'trial_id': '14c4df33', 'date': '2024-12-24_23-43-44', 'time_this_iter_s': 7.1173460483551025, 'time_total_s': 7.1173460483551025, 'pid': 3793, 'hostname': 'Sidharrths-MacBook-Pro-142.local', 'node_ip': '127.0.0.1', 'time_since_restore': 7.1173460483551025, 'iterations_since_restore': 1, 'experiment_tag': '8_hidden_size=16,kernel_size=3,num_layers=5', 'config/num_layers': 5, 'config/hidden_size': 16, 'config/kernel_size': 3}\n",
      "Metrics to include: ['accuracy', 'latency']\n",
      "Metric dict after trial: {'accuracy': (0.8688, None), 'latency': (240, None)}\n",
      "observations [<ax.core.observation.Observation object at 0x31ef6da50>, <ax.core.observation.Observation object at 0x3cb4e5950>, <ax.core.observation.Observation object at 0x3cb50e110>, <ax.core.observation.Observation object at 0x3199a6810>, <ax.core.observation.Observation object at 0x3cb51c110>, <ax.core.observation.Observation object at 0x3199c7550>, <ax.core.observation.Observation object at 0x3199c7610>, <ax.core.observation.Observation object at 0x3199dc210>]\n",
      "observation_features [ObservationFeatures(parameters={'num_layers': 0.09999839999359994, 'hidden_size': 0.632743386326263, 'kernel_size': 0.16666444442962952}, trial_index=0), ObservationFeatures(parameters={'num_layers': 0.9000016000064, 'hidden_size': 0.04867248649070558, 'kernel_size': 0.5}, trial_index=1), ObservationFeatures(parameters={'num_layers': 0.7000008000031999, 'hidden_size': 0.9867257498629646, 'kernel_size': 0.5}, trial_index=2), ObservationFeatures(parameters={'num_layers': 0.2999991999967999, 'hidden_size': 0.3407079364084843, 'kernel_size': 0.8333355555703705}, trial_index=3), ObservationFeatures(parameters={'num_layers': 0.4999999999999999, 'hidden_size': 0.7743363317409437, 'kernel_size': 0.8333355555703705}, trial_index=4), ObservationFeatures(parameters={'num_layers': 0.7000008000031999, 'hidden_size': 0.4380530863810772, 'kernel_size': 0.16666444442962952}, trial_index=5), ObservationFeatures(parameters={'num_layers': 0.09999839999359994, 'hidden_size': 0.3141592591432317, 'kernel_size': 0.16666444442962952}, trial_index=6), ObservationFeatures(parameters={'num_layers': 0.9000016000064, 'hidden_size': 0.004424691048617888, 'kernel_size': 0.16666444442962952}, trial_index=7)]\n",
      "Suggested config: {'num_layers': 1, 'hidden_size': 16, 'kernel_size': 7}\n",
      "Result: {'accuracy': 0.9152, 'latency': 112, 'timestamp': 1735083830, 'checkpoint_dir_name': None, 'done': True, 'training_iteration': 1, 'trial_id': '81dd0df6', 'date': '2024-12-24_23-43-50', 'time_this_iter_s': 1.3545362949371338, 'time_total_s': 1.3545362949371338, 'pid': 3917, 'hostname': 'Sidharrths-MacBook-Pro-142.local', 'node_ip': '127.0.0.1', 'time_since_restore': 1.3545362949371338, 'iterations_since_restore': 1, 'experiment_tag': '9_hidden_size=16,kernel_size=7,num_layers=1', 'config/num_layers': 1, 'config/hidden_size': 16, 'config/kernel_size': 7}\n",
      "Metrics to include: ['accuracy', 'latency']\n",
      "Metric dict after trial: {'accuracy': (0.9152, None), 'latency': (112, None)}\n"
     ]
    },
    {
     "name": "stderr",
     "output_type": "stream",
     "text": [
      "/Users/sidharrthnagappan/.virtualenvs/lsdp_miniproject/lib/python3.11/site-packages/linear_operator/utils/cholesky.py:40: NumericalWarning: A not p.d., added jitter of 1.0e-08 to the diagonal\n",
      "  warnings.warn(\n"
     ]
    },
    {
     "name": "stdout",
     "output_type": "stream",
     "text": [
      "observations [<ax.core.observation.Observation object at 0x3cb4d4b50>, <ax.core.observation.Observation object at 0x3199dc1d0>, <ax.core.observation.Observation object at 0x3cb5385d0>, <ax.core.observation.Observation object at 0x319a36c10>, <ax.core.observation.Observation object at 0x319a105d0>, <ax.core.observation.Observation object at 0x3199e9ed0>, <ax.core.observation.Observation object at 0x3cb4fbd10>, <ax.core.observation.Observation object at 0x3cb490490>, <ax.core.observation.Observation object at 0x3199ab750>]\n",
      "observation_features [ObservationFeatures(parameters={'num_layers': 0.09999839999359994, 'hidden_size': 0.632743386326263, 'kernel_size': 0.16666444442962952}, trial_index=0), ObservationFeatures(parameters={'num_layers': 0.9000016000064, 'hidden_size': 0.04867248649070558, 'kernel_size': 0.5}, trial_index=1), ObservationFeatures(parameters={'num_layers': 0.7000008000031999, 'hidden_size': 0.9867257498629646, 'kernel_size': 0.5}, trial_index=2), ObservationFeatures(parameters={'num_layers': 0.2999991999967999, 'hidden_size': 0.3407079364084843, 'kernel_size': 0.8333355555703705}, trial_index=3), ObservationFeatures(parameters={'num_layers': 0.4999999999999999, 'hidden_size': 0.7743363317409437, 'kernel_size': 0.8333355555703705}, trial_index=4), ObservationFeatures(parameters={'num_layers': 0.7000008000031999, 'hidden_size': 0.4380530863810772, 'kernel_size': 0.16666444442962952}, trial_index=5), ObservationFeatures(parameters={'num_layers': 0.09999839999359994, 'hidden_size': 0.3141592591432317, 'kernel_size': 0.16666444442962952}, trial_index=6), ObservationFeatures(parameters={'num_layers': 0.9000016000064, 'hidden_size': 0.004424691048617888, 'kernel_size': 0.16666444442962952}, trial_index=7), ObservationFeatures(parameters={'num_layers': 0.09999839999359994, 'hidden_size': 0.004424691048617888, 'kernel_size': 0.8333355555703705}, trial_index=8)]\n",
      "Suggested config: {'num_layers': 3, 'hidden_size': 16, 'kernel_size': 3}\n",
      "Result: {'accuracy': 0.887, 'latency': 144, 'timestamp': 1735083837, 'checkpoint_dir_name': None, 'done': True, 'training_iteration': 1, 'trial_id': '5a76f217', 'date': '2024-12-24_23-43-57', 'time_this_iter_s': 4.16296124458313, 'time_total_s': 4.16296124458313, 'pid': 3977, 'hostname': 'Sidharrths-MacBook-Pro-142.local', 'node_ip': '127.0.0.1', 'time_since_restore': 4.16296124458313, 'iterations_since_restore': 1, 'experiment_tag': '10_hidden_size=16,kernel_size=3,num_layers=3', 'config/num_layers': 3, 'config/hidden_size': 16, 'config/kernel_size': 3}\n",
      "Metrics to include: ['accuracy', 'latency']\n",
      "Metric dict after trial: {'accuracy': (0.887, None), 'latency': (144, None)}\n"
     ]
    },
    {
     "name": "stderr",
     "output_type": "stream",
     "text": [
      "/Users/sidharrthnagappan/.virtualenvs/lsdp_miniproject/lib/python3.11/site-packages/linear_operator/utils/cholesky.py:40: NumericalWarning: A not p.d., added jitter of 1.0e-08 to the diagonal\n",
      "  warnings.warn(\n"
     ]
    },
    {
     "name": "stdout",
     "output_type": "stream",
     "text": [
      "observations [<ax.core.observation.Observation object at 0x3cb4e75d0>, <ax.core.observation.Observation object at 0x3cb51c0d0>, <ax.core.observation.Observation object at 0x3cb4fb150>, <ax.core.observation.Observation object at 0x3cb4d6d50>, <ax.core.observation.Observation object at 0x3199a8850>, <ax.core.observation.Observation object at 0x3199dffd0>, <ax.core.observation.Observation object at 0x3199df150>, <ax.core.observation.Observation object at 0x319a23890>, <ax.core.observation.Observation object at 0x319a22a90>, <ax.core.observation.Observation object at 0x3199dec90>]\n",
      "observation_features [ObservationFeatures(parameters={'num_layers': 0.09999839999359994, 'hidden_size': 0.632743386326263, 'kernel_size': 0.16666444442962952}, trial_index=0), ObservationFeatures(parameters={'num_layers': 0.9000016000064, 'hidden_size': 0.04867248649070558, 'kernel_size': 0.5}, trial_index=1), ObservationFeatures(parameters={'num_layers': 0.7000008000031999, 'hidden_size': 0.9867257498629646, 'kernel_size': 0.5}, trial_index=2), ObservationFeatures(parameters={'num_layers': 0.2999991999967999, 'hidden_size': 0.3407079364084843, 'kernel_size': 0.8333355555703705}, trial_index=3), ObservationFeatures(parameters={'num_layers': 0.4999999999999999, 'hidden_size': 0.7743363317409437, 'kernel_size': 0.8333355555703705}, trial_index=4), ObservationFeatures(parameters={'num_layers': 0.7000008000031999, 'hidden_size': 0.4380530863810772, 'kernel_size': 0.16666444442962952}, trial_index=5), ObservationFeatures(parameters={'num_layers': 0.09999839999359994, 'hidden_size': 0.3141592591432317, 'kernel_size': 0.16666444442962952}, trial_index=6), ObservationFeatures(parameters={'num_layers': 0.9000016000064, 'hidden_size': 0.004424691048617888, 'kernel_size': 0.16666444442962952}, trial_index=7), ObservationFeatures(parameters={'num_layers': 0.09999839999359994, 'hidden_size': 0.004424691048617888, 'kernel_size': 0.8333355555703705}, trial_index=8), ObservationFeatures(parameters={'num_layers': 0.4999999999999999, 'hidden_size': 0.004424691048617888, 'kernel_size': 0.16666444442962952}, trial_index=9)]\n",
      "Suggested config: {'num_layers': 1, 'hidden_size': 16, 'kernel_size': 5}\n",
      "Result: {'accuracy': 0.9184, 'latency': 80, 'timestamp': 1735083842, 'checkpoint_dir_name': None, 'done': True, 'training_iteration': 1, 'trial_id': 'd4dc1677', 'date': '2024-12-24_23-44-02', 'time_this_iter_s': 1.2675416469573975, 'time_total_s': 1.2675416469573975, 'pid': 4084, 'hostname': 'Sidharrths-MacBook-Pro-142.local', 'node_ip': '127.0.0.1', 'time_since_restore': 1.2675416469573975, 'iterations_since_restore': 1, 'experiment_tag': '11_hidden_size=16,kernel_size=5,num_layers=1', 'config/num_layers': 1, 'config/hidden_size': 16, 'config/kernel_size': 5}\n",
      "Metrics to include: ['accuracy', 'latency']\n",
      "Metric dict after trial: {'accuracy': (0.9184, None), 'latency': (80, None)}\n",
      "observations [<ax.core.observation.Observation object at 0x3cb50edd0>, <ax.core.observation.Observation object at 0x3cb4f8710>, <ax.core.observation.Observation object at 0x3199de950>, <ax.core.observation.Observation object at 0x3199de510>, <ax.core.observation.Observation object at 0x3cb4f6710>, <ax.core.observation.Observation object at 0x3199e9c10>, <ax.core.observation.Observation object at 0x3199ebc10>, <ax.core.observation.Observation object at 0x3cb4d7d90>, <ax.core.observation.Observation object at 0x3199ba4d0>, <ax.core.observation.Observation object at 0x3199e8310>, <ax.core.observation.Observation object at 0x3199a7b10>]\n",
      "observation_features [ObservationFeatures(parameters={'num_layers': 0.09999839999359994, 'hidden_size': 0.632743386326263, 'kernel_size': 0.16666444442962952}, trial_index=0), ObservationFeatures(parameters={'num_layers': 0.9000016000064, 'hidden_size': 0.04867248649070558, 'kernel_size': 0.5}, trial_index=1), ObservationFeatures(parameters={'num_layers': 0.7000008000031999, 'hidden_size': 0.9867257498629646, 'kernel_size': 0.5}, trial_index=2), ObservationFeatures(parameters={'num_layers': 0.2999991999967999, 'hidden_size': 0.3407079364084843, 'kernel_size': 0.8333355555703705}, trial_index=3), ObservationFeatures(parameters={'num_layers': 0.4999999999999999, 'hidden_size': 0.7743363317409437, 'kernel_size': 0.8333355555703705}, trial_index=4), ObservationFeatures(parameters={'num_layers': 0.7000008000031999, 'hidden_size': 0.4380530863810772, 'kernel_size': 0.16666444442962952}, trial_index=5), ObservationFeatures(parameters={'num_layers': 0.09999839999359994, 'hidden_size': 0.3141592591432317, 'kernel_size': 0.16666444442962952}, trial_index=6), ObservationFeatures(parameters={'num_layers': 0.9000016000064, 'hidden_size': 0.004424691048617888, 'kernel_size': 0.16666444442962952}, trial_index=7), ObservationFeatures(parameters={'num_layers': 0.09999839999359994, 'hidden_size': 0.004424691048617888, 'kernel_size': 0.8333355555703705}, trial_index=8), ObservationFeatures(parameters={'num_layers': 0.4999999999999999, 'hidden_size': 0.004424691048617888, 'kernel_size': 0.16666444442962952}, trial_index=9), ObservationFeatures(parameters={'num_layers': 0.09999839999359994, 'hidden_size': 0.004424691048617888, 'kernel_size': 0.5}, trial_index=10)]\n",
      "Suggested config: {'num_layers': 2, 'hidden_size': 16, 'kernel_size': 5}\n",
      "Result: {'accuracy': 0.8991, 'latency': 160, 'timestamp': 1735083848, 'checkpoint_dir_name': None, 'done': True, 'training_iteration': 1, 'trial_id': '74d99b44', 'date': '2024-12-24_23-44-08', 'time_this_iter_s': 3.4749369621276855, 'time_total_s': 3.4749369621276855, 'pid': 4137, 'hostname': 'Sidharrths-MacBook-Pro-142.local', 'node_ip': '127.0.0.1', 'time_since_restore': 3.4749369621276855, 'iterations_since_restore': 1, 'experiment_tag': '12_hidden_size=16,kernel_size=5,num_layers=2', 'config/num_layers': 2, 'config/hidden_size': 16, 'config/kernel_size': 5}\n",
      "Metrics to include: ['accuracy', 'latency']\n",
      "Metric dict after trial: {'accuracy': (0.8991, None), 'latency': (160, None)}\n"
     ]
    },
    {
     "name": "stderr",
     "output_type": "stream",
     "text": [
      "/Users/sidharrthnagappan/.virtualenvs/lsdp_miniproject/lib/python3.11/site-packages/linear_operator/utils/cholesky.py:40: NumericalWarning: A not p.d., added jitter of 1.0e-08 to the diagonal\n",
      "  warnings.warn(\n"
     ]
    },
    {
     "name": "stdout",
     "output_type": "stream",
     "text": [
      "observations [<ax.core.observation.Observation object at 0x319a65310>, <ax.core.observation.Observation object at 0x319a24590>, <ax.core.observation.Observation object at 0x3199a5f10>, <ax.core.observation.Observation object at 0x3cb5385d0>, <ax.core.observation.Observation object at 0x3199f6150>, <ax.core.observation.Observation object at 0x3199f7d10>, <ax.core.observation.Observation object at 0x319a8f410>, <ax.core.observation.Observation object at 0x319a11950>, <ax.core.observation.Observation object at 0x319a10550>, <ax.core.observation.Observation object at 0x3199f4ed0>, <ax.core.observation.Observation object at 0x3199b9650>, <ax.core.observation.Observation object at 0x319a54590>]\n",
      "observation_features [ObservationFeatures(parameters={'num_layers': 0.09999839999359994, 'hidden_size': 0.632743386326263, 'kernel_size': 0.16666444442962952}, trial_index=0), ObservationFeatures(parameters={'num_layers': 0.9000016000064, 'hidden_size': 0.04867248649070558, 'kernel_size': 0.5}, trial_index=1), ObservationFeatures(parameters={'num_layers': 0.7000008000031999, 'hidden_size': 0.9867257498629646, 'kernel_size': 0.5}, trial_index=2), ObservationFeatures(parameters={'num_layers': 0.2999991999967999, 'hidden_size': 0.3407079364084843, 'kernel_size': 0.8333355555703705}, trial_index=3), ObservationFeatures(parameters={'num_layers': 0.4999999999999999, 'hidden_size': 0.7743363317409437, 'kernel_size': 0.8333355555703705}, trial_index=4), ObservationFeatures(parameters={'num_layers': 0.7000008000031999, 'hidden_size': 0.4380530863810772, 'kernel_size': 0.16666444442962952}, trial_index=5), ObservationFeatures(parameters={'num_layers': 0.09999839999359994, 'hidden_size': 0.3141592591432317, 'kernel_size': 0.16666444442962952}, trial_index=6), ObservationFeatures(parameters={'num_layers': 0.9000016000064, 'hidden_size': 0.004424691048617888, 'kernel_size': 0.16666444442962952}, trial_index=7), ObservationFeatures(parameters={'num_layers': 0.09999839999359994, 'hidden_size': 0.004424691048617888, 'kernel_size': 0.8333355555703705}, trial_index=8), ObservationFeatures(parameters={'num_layers': 0.4999999999999999, 'hidden_size': 0.004424691048617888, 'kernel_size': 0.16666444442962952}, trial_index=9), ObservationFeatures(parameters={'num_layers': 0.09999839999359994, 'hidden_size': 0.004424691048617888, 'kernel_size': 0.5}, trial_index=10), ObservationFeatures(parameters={'num_layers': 0.2999991999967999, 'hidden_size': 0.004424691048617888, 'kernel_size': 0.5}, trial_index=11)]\n",
      "Suggested config: {'num_layers': 1, 'hidden_size': 16, 'kernel_size': 3}\n",
      "Result: {'accuracy': 0.8978, 'latency': 48, 'timestamp': 1735083852, 'checkpoint_dir_name': None, 'done': True, 'training_iteration': 1, 'trial_id': '057a99c0', 'date': '2024-12-24_23-44-12', 'time_this_iter_s': 1.0374348163604736, 'time_total_s': 1.0374348163604736, 'pid': 4258, 'hostname': 'Sidharrths-MacBook-Pro-142.local', 'node_ip': '127.0.0.1', 'time_since_restore': 1.0374348163604736, 'iterations_since_restore': 1, 'experiment_tag': '13_hidden_size=16,kernel_size=3,num_layers=1', 'config/num_layers': 1, 'config/hidden_size': 16, 'config/kernel_size': 3}\n",
      "Metrics to include: ['accuracy', 'latency']\n",
      "Metric dict after trial: {'accuracy': (0.8978, None), 'latency': (48, None)}\n"
     ]
    },
    {
     "name": "stderr",
     "output_type": "stream",
     "text": [
      "/Users/sidharrthnagappan/.virtualenvs/lsdp_miniproject/lib/python3.11/site-packages/linear_operator/utils/cholesky.py:40: NumericalWarning: A not p.d., added jitter of 1.0e-08 to the diagonal\n",
      "  warnings.warn(\n"
     ]
    },
    {
     "name": "stdout",
     "output_type": "stream",
     "text": [
      "observations [<ax.core.observation.Observation object at 0x3cb4b4910>, <ax.core.observation.Observation object at 0x3199f6d90>, <ax.core.observation.Observation object at 0x3cb4e46d0>, <ax.core.observation.Observation object at 0x3199a4290>, <ax.core.observation.Observation object at 0x3cb53b150>, <ax.core.observation.Observation object at 0x319a11d90>, <ax.core.observation.Observation object at 0x319a10550>, <ax.core.observation.Observation object at 0x319a35f10>, <ax.core.observation.Observation object at 0x319a34590>, <ax.core.observation.Observation object at 0x319a10fd0>, <ax.core.observation.Observation object at 0x3199ba8d0>, <ax.core.observation.Observation object at 0x319a3c1d0>, <ax.core.observation.Observation object at 0x319a4c710>]\n",
      "observation_features [ObservationFeatures(parameters={'num_layers': 0.09999839999359994, 'hidden_size': 0.632743386326263, 'kernel_size': 0.16666444442962952}, trial_index=0), ObservationFeatures(parameters={'num_layers': 0.9000016000064, 'hidden_size': 0.04867248649070558, 'kernel_size': 0.5}, trial_index=1), ObservationFeatures(parameters={'num_layers': 0.7000008000031999, 'hidden_size': 0.9867257498629646, 'kernel_size': 0.5}, trial_index=2), ObservationFeatures(parameters={'num_layers': 0.2999991999967999, 'hidden_size': 0.3407079364084843, 'kernel_size': 0.8333355555703705}, trial_index=3), ObservationFeatures(parameters={'num_layers': 0.4999999999999999, 'hidden_size': 0.7743363317409437, 'kernel_size': 0.8333355555703705}, trial_index=4), ObservationFeatures(parameters={'num_layers': 0.7000008000031999, 'hidden_size': 0.4380530863810772, 'kernel_size': 0.16666444442962952}, trial_index=5), ObservationFeatures(parameters={'num_layers': 0.09999839999359994, 'hidden_size': 0.3141592591432317, 'kernel_size': 0.16666444442962952}, trial_index=6), ObservationFeatures(parameters={'num_layers': 0.9000016000064, 'hidden_size': 0.004424691048617888, 'kernel_size': 0.16666444442962952}, trial_index=7), ObservationFeatures(parameters={'num_layers': 0.09999839999359994, 'hidden_size': 0.004424691048617888, 'kernel_size': 0.8333355555703705}, trial_index=8), ObservationFeatures(parameters={'num_layers': 0.4999999999999999, 'hidden_size': 0.004424691048617888, 'kernel_size': 0.16666444442962952}, trial_index=9), ObservationFeatures(parameters={'num_layers': 0.09999839999359994, 'hidden_size': 0.004424691048617888, 'kernel_size': 0.5}, trial_index=10), ObservationFeatures(parameters={'num_layers': 0.2999991999967999, 'hidden_size': 0.004424691048617888, 'kernel_size': 0.5}, trial_index=11), ObservationFeatures(parameters={'num_layers': 0.09999839999359994, 'hidden_size': 0.004424691048617888, 'kernel_size': 0.16666444442962952}, trial_index=12)]\n",
      "Suggested config: {'num_layers': 1, 'hidden_size': 37, 'kernel_size': 7}\n",
      "Result: {'accuracy': 0.9101, 'latency': 259, 'timestamp': 1735083858, 'checkpoint_dir_name': None, 'done': True, 'training_iteration': 1, 'trial_id': 'fd74aba1', 'date': '2024-12-24_23-44-18', 'time_this_iter_s': 1.7885510921478271, 'time_total_s': 1.7885510921478271, 'pid': 4318, 'hostname': 'Sidharrths-MacBook-Pro-142.local', 'node_ip': '127.0.0.1', 'time_since_restore': 1.7885510921478271, 'iterations_since_restore': 1, 'experiment_tag': '14_hidden_size=37,kernel_size=7,num_layers=1', 'config/num_layers': 1, 'config/hidden_size': 37, 'config/kernel_size': 7}\n",
      "Metrics to include: ['accuracy', 'latency']\n",
      "Metric dict after trial: {'accuracy': (0.9101, None), 'latency': (259, None)}\n"
     ]
    },
    {
     "name": "stderr",
     "output_type": "stream",
     "text": [
      "/Users/sidharrthnagappan/.virtualenvs/lsdp_miniproject/lib/python3.11/site-packages/linear_operator/utils/cholesky.py:40: NumericalWarning: A not p.d., added jitter of 1.0e-08 to the diagonal\n",
      "  warnings.warn(\n"
     ]
    },
    {
     "name": "stdout",
     "output_type": "stream",
     "text": [
      "observations [<ax.core.observation.Observation object at 0x3199abc10>, <ax.core.observation.Observation object at 0x319a005d0>, <ax.core.observation.Observation object at 0x3199f59d0>, <ax.core.observation.Observation object at 0x3cb4e6290>, <ax.core.observation.Observation object at 0x3cb4ffe90>, <ax.core.observation.Observation object at 0x3199c65d0>, <ax.core.observation.Observation object at 0x319a11950>, <ax.core.observation.Observation object at 0x319a12f10>, <ax.core.observation.Observation object at 0x319e04d90>, <ax.core.observation.Observation object at 0x3199c7490>, <ax.core.observation.Observation object at 0x319a21050>, <ax.core.observation.Observation object at 0x319a22f90>, <ax.core.observation.Observation object at 0x319a8c5d0>, <ax.core.observation.Observation object at 0x319a56c90>]\n",
      "observation_features [ObservationFeatures(parameters={'num_layers': 0.09999839999359994, 'hidden_size': 0.632743386326263, 'kernel_size': 0.16666444442962952}, trial_index=0), ObservationFeatures(parameters={'num_layers': 0.9000016000064, 'hidden_size': 0.04867248649070558, 'kernel_size': 0.5}, trial_index=1), ObservationFeatures(parameters={'num_layers': 0.7000008000031999, 'hidden_size': 0.9867257498629646, 'kernel_size': 0.5}, trial_index=2), ObservationFeatures(parameters={'num_layers': 0.2999991999967999, 'hidden_size': 0.3407079364084843, 'kernel_size': 0.8333355555703705}, trial_index=3), ObservationFeatures(parameters={'num_layers': 0.4999999999999999, 'hidden_size': 0.7743363317409437, 'kernel_size': 0.8333355555703705}, trial_index=4), ObservationFeatures(parameters={'num_layers': 0.7000008000031999, 'hidden_size': 0.4380530863810772, 'kernel_size': 0.16666444442962952}, trial_index=5), ObservationFeatures(parameters={'num_layers': 0.09999839999359994, 'hidden_size': 0.3141592591432317, 'kernel_size': 0.16666444442962952}, trial_index=6), ObservationFeatures(parameters={'num_layers': 0.9000016000064, 'hidden_size': 0.004424691048617888, 'kernel_size': 0.16666444442962952}, trial_index=7), ObservationFeatures(parameters={'num_layers': 0.09999839999359994, 'hidden_size': 0.004424691048617888, 'kernel_size': 0.8333355555703705}, trial_index=8), ObservationFeatures(parameters={'num_layers': 0.4999999999999999, 'hidden_size': 0.004424691048617888, 'kernel_size': 0.16666444442962952}, trial_index=9), ObservationFeatures(parameters={'num_layers': 0.09999839999359994, 'hidden_size': 0.004424691048617888, 'kernel_size': 0.5}, trial_index=10), ObservationFeatures(parameters={'num_layers': 0.2999991999967999, 'hidden_size': 0.004424691048617888, 'kernel_size': 0.5}, trial_index=11), ObservationFeatures(parameters={'num_layers': 0.09999839999359994, 'hidden_size': 0.004424691048617888, 'kernel_size': 0.16666444442962952}, trial_index=12), ObservationFeatures(parameters={'num_layers': 0.09999839999359994, 'hidden_size': 0.1902654319053862, 'kernel_size': 0.8333355555703705}, trial_index=13)]\n",
      "Suggested config: {'num_layers': 2, 'hidden_size': 23, 'kernel_size': 7}\n",
      "Result: {'accuracy': 0.9138, 'latency': 322, 'timestamp': 1735083866, 'checkpoint_dir_name': None, 'done': True, 'training_iteration': 1, 'trial_id': '025beec4', 'date': '2024-12-24_23-44-26', 'time_this_iter_s': 5.345088005065918, 'time_total_s': 5.345088005065918, 'pid': 4370, 'hostname': 'Sidharrths-MacBook-Pro-142.local', 'node_ip': '127.0.0.1', 'time_since_restore': 5.345088005065918, 'iterations_since_restore': 1, 'experiment_tag': '15_hidden_size=23,kernel_size=7,num_layers=2', 'config/num_layers': 2, 'config/hidden_size': 23, 'config/kernel_size': 7}\n",
      "Metrics to include: ['accuracy', 'latency']\n",
      "Metric dict after trial: {'accuracy': (0.9138, None), 'latency': (322, None)}\n"
     ]
    },
    {
     "name": "stderr",
     "output_type": "stream",
     "text": [
      "/Users/sidharrthnagappan/.virtualenvs/lsdp_miniproject/lib/python3.11/site-packages/linear_operator/utils/cholesky.py:40: NumericalWarning: A not p.d., added jitter of 1.0e-08 to the diagonal\n",
      "  warnings.warn(\n"
     ]
    },
    {
     "name": "stdout",
     "output_type": "stream",
     "text": [
      "observations [<ax.core.observation.Observation object at 0x31ef63710>, <ax.core.observation.Observation object at 0x319a100d0>, <ax.core.observation.Observation object at 0x3cb53aed0>, <ax.core.observation.Observation object at 0x3199e9e50>, <ax.core.observation.Observation object at 0x3199e9c10>, <ax.core.observation.Observation object at 0x319a67750>, <ax.core.observation.Observation object at 0x319a27c50>, <ax.core.observation.Observation object at 0x319a27910>, <ax.core.observation.Observation object at 0x319a261d0>, <ax.core.observation.Observation object at 0x319a64850>, <ax.core.observation.Observation object at 0x319e10f50>, <ax.core.observation.Observation object at 0x319e3f210>, <ax.core.observation.Observation object at 0x319e3c090>, <ax.core.observation.Observation object at 0x319e3f710>, <ax.core.observation.Observation object at 0x319e59590>]\n",
      "observation_features [ObservationFeatures(parameters={'num_layers': 0.09999839999359994, 'hidden_size': 0.632743386326263, 'kernel_size': 0.16666444442962952}, trial_index=0), ObservationFeatures(parameters={'num_layers': 0.9000016000064, 'hidden_size': 0.04867248649070558, 'kernel_size': 0.5}, trial_index=1), ObservationFeatures(parameters={'num_layers': 0.7000008000031999, 'hidden_size': 0.9867257498629646, 'kernel_size': 0.5}, trial_index=2), ObservationFeatures(parameters={'num_layers': 0.2999991999967999, 'hidden_size': 0.3407079364084843, 'kernel_size': 0.8333355555703705}, trial_index=3), ObservationFeatures(parameters={'num_layers': 0.4999999999999999, 'hidden_size': 0.7743363317409437, 'kernel_size': 0.8333355555703705}, trial_index=4), ObservationFeatures(parameters={'num_layers': 0.7000008000031999, 'hidden_size': 0.4380530863810772, 'kernel_size': 0.16666444442962952}, trial_index=5), ObservationFeatures(parameters={'num_layers': 0.09999839999359994, 'hidden_size': 0.3141592591432317, 'kernel_size': 0.16666444442962952}, trial_index=6), ObservationFeatures(parameters={'num_layers': 0.9000016000064, 'hidden_size': 0.004424691048617888, 'kernel_size': 0.16666444442962952}, trial_index=7), ObservationFeatures(parameters={'num_layers': 0.09999839999359994, 'hidden_size': 0.004424691048617888, 'kernel_size': 0.8333355555703705}, trial_index=8), ObservationFeatures(parameters={'num_layers': 0.4999999999999999, 'hidden_size': 0.004424691048617888, 'kernel_size': 0.16666444442962952}, trial_index=9), ObservationFeatures(parameters={'num_layers': 0.09999839999359994, 'hidden_size': 0.004424691048617888, 'kernel_size': 0.5}, trial_index=10), ObservationFeatures(parameters={'num_layers': 0.2999991999967999, 'hidden_size': 0.004424691048617888, 'kernel_size': 0.5}, trial_index=11), ObservationFeatures(parameters={'num_layers': 0.09999839999359994, 'hidden_size': 0.004424691048617888, 'kernel_size': 0.16666444442962952}, trial_index=12), ObservationFeatures(parameters={'num_layers': 0.09999839999359994, 'hidden_size': 0.1902654319053862, 'kernel_size': 0.8333355555703705}, trial_index=13), ObservationFeatures(parameters={'num_layers': 0.2999991999967999, 'hidden_size': 0.06637160466754066, 'kernel_size': 0.8333355555703705}, trial_index=14)]\n",
      "Suggested config: {'num_layers': 4, 'hidden_size': 16, 'kernel_size': 3}\n",
      "Result: {'accuracy': 0.8815, 'latency': 192, 'timestamp': 1735083877, 'checkpoint_dir_name': None, 'done': True, 'training_iteration': 1, 'trial_id': '4d571a13', 'date': '2024-12-24_23-44-37', 'time_this_iter_s': 5.483221054077148, 'time_total_s': 5.483221054077148, 'pid': 4494, 'hostname': 'Sidharrths-MacBook-Pro-142.local', 'node_ip': '127.0.0.1', 'time_since_restore': 5.483221054077148, 'iterations_since_restore': 1, 'experiment_tag': '16_hidden_size=16,kernel_size=3,num_layers=4', 'config/num_layers': 4, 'config/hidden_size': 16, 'config/kernel_size': 3}\n",
      "Metrics to include: ['accuracy', 'latency']\n",
      "Metric dict after trial: {'accuracy': (0.8815, None), 'latency': (192, None)}\n"
     ]
    },
    {
     "name": "stderr",
     "output_type": "stream",
     "text": [
      "/Users/sidharrthnagappan/.virtualenvs/lsdp_miniproject/lib/python3.11/site-packages/linear_operator/utils/cholesky.py:40: NumericalWarning: A not p.d., added jitter of 1.0e-08 to the diagonal\n",
      "  warnings.warn(\n"
     ]
    },
    {
     "name": "stdout",
     "output_type": "stream",
     "text": [
      "observations [<ax.core.observation.Observation object at 0x31e991510>, <ax.core.observation.Observation object at 0x3199c7890>, <ax.core.observation.Observation object at 0x3199dced0>, <ax.core.observation.Observation object at 0x319a4ef10>, <ax.core.observation.Observation object at 0x3cb4f9a90>, <ax.core.observation.Observation object at 0x3199e9590>, <ax.core.observation.Observation object at 0x319a269d0>, <ax.core.observation.Observation object at 0x319a03210>, <ax.core.observation.Observation object at 0x319a12010>, <ax.core.observation.Observation object at 0x3199ebad0>, <ax.core.observation.Observation object at 0x319e109d0>, <ax.core.observation.Observation object at 0x319e5abd0>, <ax.core.observation.Observation object at 0x319a87fd0>, <ax.core.observation.Observation object at 0x319a3f990>, <ax.core.observation.Observation object at 0x319a35a90>, <ax.core.observation.Observation object at 0x319a35590>]\n",
      "observation_features [ObservationFeatures(parameters={'num_layers': 0.09999839999359994, 'hidden_size': 0.632743386326263, 'kernel_size': 0.16666444442962952}, trial_index=0), ObservationFeatures(parameters={'num_layers': 0.9000016000064, 'hidden_size': 0.04867248649070558, 'kernel_size': 0.5}, trial_index=1), ObservationFeatures(parameters={'num_layers': 0.7000008000031999, 'hidden_size': 0.9867257498629646, 'kernel_size': 0.5}, trial_index=2), ObservationFeatures(parameters={'num_layers': 0.2999991999967999, 'hidden_size': 0.3407079364084843, 'kernel_size': 0.8333355555703705}, trial_index=3), ObservationFeatures(parameters={'num_layers': 0.4999999999999999, 'hidden_size': 0.7743363317409437, 'kernel_size': 0.8333355555703705}, trial_index=4), ObservationFeatures(parameters={'num_layers': 0.7000008000031999, 'hidden_size': 0.4380530863810772, 'kernel_size': 0.16666444442962952}, trial_index=5), ObservationFeatures(parameters={'num_layers': 0.09999839999359994, 'hidden_size': 0.3141592591432317, 'kernel_size': 0.16666444442962952}, trial_index=6), ObservationFeatures(parameters={'num_layers': 0.9000016000064, 'hidden_size': 0.004424691048617888, 'kernel_size': 0.16666444442962952}, trial_index=7), ObservationFeatures(parameters={'num_layers': 0.09999839999359994, 'hidden_size': 0.004424691048617888, 'kernel_size': 0.8333355555703705}, trial_index=8), ObservationFeatures(parameters={'num_layers': 0.4999999999999999, 'hidden_size': 0.004424691048617888, 'kernel_size': 0.16666444442962952}, trial_index=9), ObservationFeatures(parameters={'num_layers': 0.09999839999359994, 'hidden_size': 0.004424691048617888, 'kernel_size': 0.5}, trial_index=10), ObservationFeatures(parameters={'num_layers': 0.2999991999967999, 'hidden_size': 0.004424691048617888, 'kernel_size': 0.5}, trial_index=11), ObservationFeatures(parameters={'num_layers': 0.09999839999359994, 'hidden_size': 0.004424691048617888, 'kernel_size': 0.16666444442962952}, trial_index=12), ObservationFeatures(parameters={'num_layers': 0.09999839999359994, 'hidden_size': 0.1902654319053862, 'kernel_size': 0.8333355555703705}, trial_index=13), ObservationFeatures(parameters={'num_layers': 0.2999991999967999, 'hidden_size': 0.06637160466754066, 'kernel_size': 0.8333355555703705}, trial_index=14), ObservationFeatures(parameters={'num_layers': 0.7000008000031999, 'hidden_size': 0.004424691048617888, 'kernel_size': 0.16666444442962952}, trial_index=15)]\n",
      "Suggested config: {'num_layers': 2, 'hidden_size': 43, 'kernel_size': 7}\n",
      "Result: {'accuracy': 0.9407, 'latency': 602, 'timestamp': 1735083890, 'checkpoint_dir_name': None, 'done': True, 'training_iteration': 1, 'trial_id': '62df2775', 'date': '2024-12-24_23-44-50', 'time_this_iter_s': 9.371165990829468, 'time_total_s': 9.371165990829468, 'pid': 4583, 'hostname': 'Sidharrths-MacBook-Pro-142.local', 'node_ip': '127.0.0.1', 'time_since_restore': 9.371165990829468, 'iterations_since_restore': 1, 'experiment_tag': '17_hidden_size=43,kernel_size=7,num_layers=2', 'config/num_layers': 2, 'config/hidden_size': 43, 'config/kernel_size': 7}\n",
      "Metrics to include: ['accuracy', 'latency']\n",
      "Metric dict after trial: {'accuracy': (0.9407, None), 'latency': (602, None)}\n",
      "observations [<ax.core.observation.Observation object at 0x3199b8e90>, <ax.core.observation.Observation object at 0x3199a4050>, <ax.core.observation.Observation object at 0x319a27090>, <ax.core.observation.Observation object at 0x319a13510>, <ax.core.observation.Observation object at 0x3199a9090>, <ax.core.observation.Observation object at 0x319a35a90>, <ax.core.observation.Observation object at 0x319e14910>, <ax.core.observation.Observation object at 0x319a23b10>, <ax.core.observation.Observation object at 0x319a20c90>, <ax.core.observation.Observation object at 0x319a4cf50>, <ax.core.observation.Observation object at 0x319a57910>, <ax.core.observation.Observation object at 0x319e5a1d0>, <ax.core.observation.Observation object at 0x319a8e510>, <ax.core.observation.Observation object at 0x319e81a90>, <ax.core.observation.Observation object at 0x319e3c510>, <ax.core.observation.Observation object at 0x319e3db50>, <ax.core.observation.Observation object at 0x319e10650>]\n",
      "observation_features [ObservationFeatures(parameters={'num_layers': 0.09999839999359994, 'hidden_size': 0.632743386326263, 'kernel_size': 0.16666444442962952}, trial_index=0), ObservationFeatures(parameters={'num_layers': 0.9000016000064, 'hidden_size': 0.04867248649070558, 'kernel_size': 0.5}, trial_index=1), ObservationFeatures(parameters={'num_layers': 0.7000008000031999, 'hidden_size': 0.9867257498629646, 'kernel_size': 0.5}, trial_index=2), ObservationFeatures(parameters={'num_layers': 0.2999991999967999, 'hidden_size': 0.3407079364084843, 'kernel_size': 0.8333355555703705}, trial_index=3), ObservationFeatures(parameters={'num_layers': 0.4999999999999999, 'hidden_size': 0.7743363317409437, 'kernel_size': 0.8333355555703705}, trial_index=4), ObservationFeatures(parameters={'num_layers': 0.7000008000031999, 'hidden_size': 0.4380530863810772, 'kernel_size': 0.16666444442962952}, trial_index=5), ObservationFeatures(parameters={'num_layers': 0.09999839999359994, 'hidden_size': 0.3141592591432317, 'kernel_size': 0.16666444442962952}, trial_index=6), ObservationFeatures(parameters={'num_layers': 0.9000016000064, 'hidden_size': 0.004424691048617888, 'kernel_size': 0.16666444442962952}, trial_index=7), ObservationFeatures(parameters={'num_layers': 0.09999839999359994, 'hidden_size': 0.004424691048617888, 'kernel_size': 0.8333355555703705}, trial_index=8), ObservationFeatures(parameters={'num_layers': 0.4999999999999999, 'hidden_size': 0.004424691048617888, 'kernel_size': 0.16666444442962952}, trial_index=9), ObservationFeatures(parameters={'num_layers': 0.09999839999359994, 'hidden_size': 0.004424691048617888, 'kernel_size': 0.5}, trial_index=10), ObservationFeatures(parameters={'num_layers': 0.2999991999967999, 'hidden_size': 0.004424691048617888, 'kernel_size': 0.5}, trial_index=11), ObservationFeatures(parameters={'num_layers': 0.09999839999359994, 'hidden_size': 0.004424691048617888, 'kernel_size': 0.16666444442962952}, trial_index=12), ObservationFeatures(parameters={'num_layers': 0.09999839999359994, 'hidden_size': 0.1902654319053862, 'kernel_size': 0.8333355555703705}, trial_index=13), ObservationFeatures(parameters={'num_layers': 0.2999991999967999, 'hidden_size': 0.06637160466754066, 'kernel_size': 0.8333355555703705}, trial_index=14), ObservationFeatures(parameters={'num_layers': 0.7000008000031999, 'hidden_size': 0.004424691048617888, 'kernel_size': 0.16666444442962952}, trial_index=15), ObservationFeatures(parameters={'num_layers': 0.2999991999967999, 'hidden_size': 0.24336278643589143, 'kernel_size': 0.8333355555703705}, trial_index=16)]\n",
      "Suggested config: {'num_layers': 1, 'hidden_size': 128, 'kernel_size': 3}\n",
      "Result: {'accuracy': 0.8833, 'latency': 384, 'timestamp': 1735083897, 'checkpoint_dir_name': None, 'done': True, 'training_iteration': 1, 'trial_id': '3b17f368', 'date': '2024-12-24_23-44-57', 'time_this_iter_s': 3.8428049087524414, 'time_total_s': 3.8428049087524414, 'pid': 4737, 'hostname': 'Sidharrths-MacBook-Pro-142.local', 'node_ip': '127.0.0.1', 'time_since_restore': 3.8428049087524414, 'iterations_since_restore': 1, 'experiment_tag': '18_hidden_size=128,kernel_size=3,num_layers=1', 'config/num_layers': 1, 'config/hidden_size': 128, 'config/kernel_size': 3}\n",
      "Metrics to include: ['accuracy', 'latency']\n",
      "Metric dict after trial: {'accuracy': (0.8833, None), 'latency': (384, None)}\n"
     ]
    },
    {
     "name": "stderr",
     "output_type": "stream",
     "text": [
      "/Users/sidharrthnagappan/.virtualenvs/lsdp_miniproject/lib/python3.11/site-packages/linear_operator/utils/cholesky.py:40: NumericalWarning: A not p.d., added jitter of 1.0e-08 to the diagonal\n",
      "  warnings.warn(\n"
     ]
    },
    {
     "name": "stdout",
     "output_type": "stream",
     "text": [
      "observations [<ax.core.observation.Observation object at 0x3cb4b79d0>, <ax.core.observation.Observation object at 0x3199aa610>, <ax.core.observation.Observation object at 0x3199eacd0>, <ax.core.observation.Observation object at 0x319a8e6d0>, <ax.core.observation.Observation object at 0x319a10190>, <ax.core.observation.Observation object at 0x319a64b50>, <ax.core.observation.Observation object at 0x319a67e90>, <ax.core.observation.Observation object at 0x319a656d0>, <ax.core.observation.Observation object at 0x319a67250>, <ax.core.observation.Observation object at 0x319a66050>, <ax.core.observation.Observation object at 0x319ea7410>, <ax.core.observation.Observation object at 0x319e77f90>, <ax.core.observation.Observation object at 0x319a208d0>, <ax.core.observation.Observation object at 0x319e06590>, <ax.core.observation.Observation object at 0x319e16890>, <ax.core.observation.Observation object at 0x319e156d0>, <ax.core.observation.Observation object at 0x319ea00d0>, <ax.core.observation.Observation object at 0x319ea2110>]\n",
      "observation_features [ObservationFeatures(parameters={'num_layers': 0.09999839999359994, 'hidden_size': 0.632743386326263, 'kernel_size': 0.16666444442962952}, trial_index=0), ObservationFeatures(parameters={'num_layers': 0.9000016000064, 'hidden_size': 0.04867248649070558, 'kernel_size': 0.5}, trial_index=1), ObservationFeatures(parameters={'num_layers': 0.7000008000031999, 'hidden_size': 0.9867257498629646, 'kernel_size': 0.5}, trial_index=2), ObservationFeatures(parameters={'num_layers': 0.2999991999967999, 'hidden_size': 0.3407079364084843, 'kernel_size': 0.8333355555703705}, trial_index=3), ObservationFeatures(parameters={'num_layers': 0.4999999999999999, 'hidden_size': 0.7743363317409437, 'kernel_size': 0.8333355555703705}, trial_index=4), ObservationFeatures(parameters={'num_layers': 0.7000008000031999, 'hidden_size': 0.4380530863810772, 'kernel_size': 0.16666444442962952}, trial_index=5), ObservationFeatures(parameters={'num_layers': 0.09999839999359994, 'hidden_size': 0.3141592591432317, 'kernel_size': 0.16666444442962952}, trial_index=6), ObservationFeatures(parameters={'num_layers': 0.9000016000064, 'hidden_size': 0.004424691048617888, 'kernel_size': 0.16666444442962952}, trial_index=7), ObservationFeatures(parameters={'num_layers': 0.09999839999359994, 'hidden_size': 0.004424691048617888, 'kernel_size': 0.8333355555703705}, trial_index=8), ObservationFeatures(parameters={'num_layers': 0.4999999999999999, 'hidden_size': 0.004424691048617888, 'kernel_size': 0.16666444442962952}, trial_index=9), ObservationFeatures(parameters={'num_layers': 0.09999839999359994, 'hidden_size': 0.004424691048617888, 'kernel_size': 0.5}, trial_index=10), ObservationFeatures(parameters={'num_layers': 0.2999991999967999, 'hidden_size': 0.004424691048617888, 'kernel_size': 0.5}, trial_index=11), ObservationFeatures(parameters={'num_layers': 0.09999839999359994, 'hidden_size': 0.004424691048617888, 'kernel_size': 0.16666444442962952}, trial_index=12), ObservationFeatures(parameters={'num_layers': 0.09999839999359994, 'hidden_size': 0.1902654319053862, 'kernel_size': 0.8333355555703705}, trial_index=13), ObservationFeatures(parameters={'num_layers': 0.2999991999967999, 'hidden_size': 0.06637160466754066, 'kernel_size': 0.8333355555703705}, trial_index=14), ObservationFeatures(parameters={'num_layers': 0.7000008000031999, 'hidden_size': 0.004424691048617888, 'kernel_size': 0.16666444442962952}, trial_index=15), ObservationFeatures(parameters={'num_layers': 0.2999991999967999, 'hidden_size': 0.24336278643589143, 'kernel_size': 0.8333355555703705}, trial_index=16), ObservationFeatures(parameters={'num_layers': 0.09999839999359994, 'hidden_size': 0.9955753089513821, 'kernel_size': 0.16666444442962952}, trial_index=17)]\n",
      "Suggested config: {'num_layers': 2, 'hidden_size': 16, 'kernel_size': 3}\n",
      "Result: {'accuracy': 0.8932, 'latency': 96, 'timestamp': 1735083903, 'checkpoint_dir_name': None, 'done': True, 'training_iteration': 1, 'trial_id': 'd41320c5', 'date': '2024-12-24_23-45-03', 'time_this_iter_s': 2.7440879344940186, 'time_total_s': 2.7440879344940186, 'pid': 4803, 'hostname': 'Sidharrths-MacBook-Pro-142.local', 'node_ip': '127.0.0.1', 'time_since_restore': 2.7440879344940186, 'iterations_since_restore': 1, 'experiment_tag': '19_hidden_size=16,kernel_size=3,num_layers=2', 'config/num_layers': 2, 'config/hidden_size': 16, 'config/kernel_size': 3}\n",
      "Metrics to include: ['accuracy', 'latency']\n",
      "Metric dict after trial: {'accuracy': (0.8932, None), 'latency': (96, None)}\n"
     ]
    },
    {
     "name": "stderr",
     "output_type": "stream",
     "text": [
      "/Users/sidharrthnagappan/.virtualenvs/lsdp_miniproject/lib/python3.11/site-packages/linear_operator/utils/cholesky.py:40: NumericalWarning: A not p.d., added jitter of 1.0e-08 to the diagonal\n",
      "  warnings.warn(\n"
     ]
    },
    {
     "name": "stdout",
     "output_type": "stream",
     "text": [
      "observations [<ax.core.observation.Observation object at 0x319a272d0>, <ax.core.observation.Observation object at 0x319a57350>, <ax.core.observation.Observation object at 0x319a22990>, <ax.core.observation.Observation object at 0x319a8ca90>, <ax.core.observation.Observation object at 0x3cb52e890>, <ax.core.observation.Observation object at 0x3199a5c10>, <ax.core.observation.Observation object at 0x3199a6050>, <ax.core.observation.Observation object at 0x319e6d0d0>, <ax.core.observation.Observation object at 0x319e6f6d0>, <ax.core.observation.Observation object at 0x3199a4050>, <ax.core.observation.Observation object at 0x319e50490>, <ax.core.observation.Observation object at 0x319e3f890>, <ax.core.observation.Observation object at 0x319a653d0>, <ax.core.observation.Observation object at 0x319ebabd0>, <ax.core.observation.Observation object at 0x319eb9c50>, <ax.core.observation.Observation object at 0x319eb9910>, <ax.core.observation.Observation object at 0x319ed11d0>, <ax.core.observation.Observation object at 0x319ed3b50>, <ax.core.observation.Observation object at 0x319e13210>]\n",
      "observation_features [ObservationFeatures(parameters={'num_layers': 0.09999839999359994, 'hidden_size': 0.632743386326263, 'kernel_size': 0.16666444442962952}, trial_index=0), ObservationFeatures(parameters={'num_layers': 0.9000016000064, 'hidden_size': 0.04867248649070558, 'kernel_size': 0.5}, trial_index=1), ObservationFeatures(parameters={'num_layers': 0.7000008000031999, 'hidden_size': 0.9867257498629646, 'kernel_size': 0.5}, trial_index=2), ObservationFeatures(parameters={'num_layers': 0.2999991999967999, 'hidden_size': 0.3407079364084843, 'kernel_size': 0.8333355555703705}, trial_index=3), ObservationFeatures(parameters={'num_layers': 0.4999999999999999, 'hidden_size': 0.7743363317409437, 'kernel_size': 0.8333355555703705}, trial_index=4), ObservationFeatures(parameters={'num_layers': 0.7000008000031999, 'hidden_size': 0.4380530863810772, 'kernel_size': 0.16666444442962952}, trial_index=5), ObservationFeatures(parameters={'num_layers': 0.09999839999359994, 'hidden_size': 0.3141592591432317, 'kernel_size': 0.16666444442962952}, trial_index=6), ObservationFeatures(parameters={'num_layers': 0.9000016000064, 'hidden_size': 0.004424691048617888, 'kernel_size': 0.16666444442962952}, trial_index=7), ObservationFeatures(parameters={'num_layers': 0.09999839999359994, 'hidden_size': 0.004424691048617888, 'kernel_size': 0.8333355555703705}, trial_index=8), ObservationFeatures(parameters={'num_layers': 0.4999999999999999, 'hidden_size': 0.004424691048617888, 'kernel_size': 0.16666444442962952}, trial_index=9), ObservationFeatures(parameters={'num_layers': 0.09999839999359994, 'hidden_size': 0.004424691048617888, 'kernel_size': 0.5}, trial_index=10), ObservationFeatures(parameters={'num_layers': 0.2999991999967999, 'hidden_size': 0.004424691048617888, 'kernel_size': 0.5}, trial_index=11), ObservationFeatures(parameters={'num_layers': 0.09999839999359994, 'hidden_size': 0.004424691048617888, 'kernel_size': 0.16666444442962952}, trial_index=12), ObservationFeatures(parameters={'num_layers': 0.09999839999359994, 'hidden_size': 0.1902654319053862, 'kernel_size': 0.8333355555703705}, trial_index=13), ObservationFeatures(parameters={'num_layers': 0.2999991999967999, 'hidden_size': 0.06637160466754066, 'kernel_size': 0.8333355555703705}, trial_index=14), ObservationFeatures(parameters={'num_layers': 0.7000008000031999, 'hidden_size': 0.004424691048617888, 'kernel_size': 0.16666444442962952}, trial_index=15), ObservationFeatures(parameters={'num_layers': 0.2999991999967999, 'hidden_size': 0.24336278643589143, 'kernel_size': 0.8333355555703705}, trial_index=16), ObservationFeatures(parameters={'num_layers': 0.09999839999359994, 'hidden_size': 0.9955753089513821, 'kernel_size': 0.16666444442962952}, trial_index=17), ObservationFeatures(parameters={'num_layers': 0.2999991999967999, 'hidden_size': 0.004424691048617888, 'kernel_size': 0.16666444442962952}, trial_index=18)]\n",
      "Suggested config: {'num_layers': 2, 'hidden_size': 36, 'kernel_size': 7}\n"
     ]
    },
    {
     "name": "stderr",
     "output_type": "stream",
     "text": [
      "2024-12-24 23:45:16,131\tINFO tune.py:1009 -- Wrote the latest version of all result files and experiment state to '/Users/sidharrthnagappan/ray_results/evaluate_2024-12-24_23-40-16' in 0.0172s.\n"
     ]
    },
    {
     "name": "stdout",
     "output_type": "stream",
     "text": [
      "Result: {'accuracy': 0.9285, 'latency': 504, 'timestamp': 1735083916, 'checkpoint_dir_name': None, 'done': True, 'training_iteration': 1, 'trial_id': '01c12111', 'date': '2024-12-24_23-45-16', 'time_this_iter_s': 8.429319858551025, 'time_total_s': 8.429319858551025, 'pid': 4895, 'hostname': 'Sidharrths-MacBook-Pro-142.local', 'node_ip': '127.0.0.1', 'time_since_restore': 8.429319858551025, 'iterations_since_restore': 1, 'experiment_tag': '20_hidden_size=36,kernel_size=7,num_layers=2', 'config/num_layers': 2, 'config/hidden_size': 36, 'config/kernel_size': 7}\n",
      "Metrics to include: ['accuracy', 'latency']\n",
      "Metric dict after trial: {'accuracy': (0.9285, None), 'latency': (504, None)}\n"
     ]
    },
    {
     "name": "stderr",
     "output_type": "stream",
     "text": [
      "2024-12-24 23:45:16,136\tINFO tune.py:1041 -- Total run time: 298.48 seconds (298.18 seconds for the tuning loop).\n"
     ]
    }
   ],
   "source": [
    "from ax.service.ax_client import AxClient\n",
    "from ax.service.utils.instantiation import ObjectiveProperties\n",
    "from ray import tune\n",
    "from ray.air import session\n",
    "from ray.tune.search import ConcurrencyLimiter\n",
    "from axsearch_multiobjective import AxSearchMultiObjective\n",
    "from ray.train import RunConfig, CheckpointConfig\n",
    "import torch\n",
    "import torch.nn as nn\n",
    "import torch.optim as optim\n",
    "from torchvision import datasets, transforms\n",
    "\n",
    "# Load MNIST dataset\n",
    "transform = transforms.Compose([transforms.ToTensor(), transforms.Normalize((0.5,), (0.5,))])\n",
    "train_loader = torch.utils.data.DataLoader(\n",
    "    datasets.MNIST(\"./data\", train=True, download=True, transform=transform),\n",
    "    batch_size=64,\n",
    "    shuffle=True,\n",
    ")\n",
    "val_loader = torch.utils.data.DataLoader(\n",
    "    datasets.MNIST(\"./data\", train=False, transform=transform), batch_size=64\n",
    ")\n",
    "\n",
    "# Define the evaluation function\n",
    "def evaluate(parameter: dict, checkpoint_dir=None):\n",
    "    \"\"\"\n",
    "    Evaluate a neural architecture based on given parameters.\n",
    "    This function trains and validates the model, returning accuracy and latency.\n",
    "    \"\"\"\n",
    "    # Extract parameters\n",
    "    num_layers = int(parameter[\"num_layers\"])\n",
    "    hidden_size = int(parameter[\"hidden_size\"])\n",
    "    kernel_size = int(parameter[\"kernel_size\"])\n",
    "\n",
    "    # Define a simple CNN architecture\n",
    "    class SimpleCNN(nn.Module):\n",
    "        def __init__(self, num_layers, hidden_size, kernel_size):\n",
    "            super(SimpleCNN, self).__init__()\n",
    "            layers = []\n",
    "            in_channels = 1  # Input channels for MNIST (grayscale images)\n",
    "            for _ in range(num_layers):\n",
    "                layers.append(\n",
    "                    nn.Conv2d(in_channels, hidden_size, kernel_size, stride=1, padding=1)\n",
    "                )\n",
    "                layers.append(nn.ReLU())\n",
    "                in_channels = hidden_size\n",
    "\n",
    "            self.conv = nn.Sequential(*layers)\n",
    "\n",
    "            # Calculate the output size after convolutions\n",
    "            conv_output_size = 28  # Initial image size\n",
    "            for _ in range(num_layers):\n",
    "                conv_output_size = (conv_output_size - kernel_size + 2 * 1) + 1\n",
    "\n",
    "            flattened_size = hidden_size * (conv_output_size ** 2)\n",
    "\n",
    "            self.fc = nn.Linear(flattened_size, 10)  # Fully connected layer for 10 classes\n",
    "\n",
    "        def forward(self, x):\n",
    "            x = self.conv(x)\n",
    "            x = x.view(x.size(0), -1)  # Flatten for the Linear layer\n",
    "            x = self.fc(x)\n",
    "            return x\n",
    "\n",
    "    # Initialize model, criterion, and optimizer\n",
    "    model = SimpleCNN(num_layers, hidden_size, kernel_size)\n",
    "    criterion = nn.CrossEntropyLoss()\n",
    "    optimizer = optim.Adam(model.parameters(), lr=0.001)\n",
    "\n",
    "    # Train the model for 1 epoch (you can extend this for multiple epochs)\n",
    "    model.train()\n",
    "    for batch_idx, (data, target) in enumerate(train_loader):\n",
    "        if batch_idx > 50:  # Limit batches for quick tuning\n",
    "            break\n",
    "        optimizer.zero_grad()\n",
    "        output = model(data)\n",
    "        loss = criterion(output, target)\n",
    "        loss.backward()\n",
    "        optimizer.step()\n",
    "\n",
    "    # Evaluate on validation data\n",
    "    model.eval()\n",
    "    correct = 0\n",
    "    total = 0\n",
    "    with torch.no_grad():\n",
    "        for data, target in val_loader:\n",
    "            output = model(data)\n",
    "            _, predicted = output.max(1)\n",
    "            total += target.size(0)\n",
    "            correct += (predicted == target).sum().item()\n",
    "\n",
    "    accuracy = correct / total\n",
    "    latency = num_layers * hidden_size * kernel_size  # Mock latency (use real metric in production)\n",
    "\n",
    "    # Report results to Ray Tune\n",
    "    session.report({\"accuracy\": accuracy, \"latency\": latency})\n",
    "\n",
    "\n",
    "# AxClient for NAS with MOBO\n",
    "ax_client = AxClient(verbose_logging=False)\n",
    "ax_client.create_experiment(\n",
    "    name=\"nas_mobo\",\n",
    "    parameters=[\n",
    "        {\"name\": \"num_layers\", \"type\": \"range\", \"value_type\": \"int\", \"bounds\": [1, 5]},\n",
    "        {\"name\": \"hidden_size\", \"type\": \"range\", \"value_type\": \"int\", \"bounds\": [16, 128]},\n",
    "        {\"name\": \"kernel_size\", \"type\": \"choice\", \"values\": [3, 5, 7]},\n",
    "    ],\n",
    "    objectives={\n",
    "        \"accuracy\": ObjectiveProperties(minimize=False, threshold=0.8),\n",
    "        \"latency\": ObjectiveProperties(minimize=True, threshold=1000),\n",
    "    },\n",
    "    overwrite_existing_experiment=True,\n",
    "    is_test=False,\n",
    ")\n",
    "\n",
    "# Use AxSearchMultiObjective for search\n",
    "algo = AxSearchMultiObjective(ax_client=ax_client)\n",
    "algo = ConcurrencyLimiter(algo, max_concurrent=1)  # Limit to sequential trials\n",
    "\n",
    "# Tuner for NAS\n",
    "num_samples = 20  # Number of trials\n",
    "tuner = tune.Tuner(\n",
    "    tune.with_resources(evaluate, resources={\"cpu\": 2, \"gpu\": 0}),\n",
    "    tune_config=tune.TuneConfig(search_alg=algo, num_samples=num_samples),\n",
    "    run_config=RunConfig(\n",
    "        checkpoint_config=CheckpointConfig(\n",
    "            num_to_keep=2,\n",
    "            checkpoint_score_attribute=\"accuracy\",\n",
    "            checkpoint_score_order=\"max\",\n",
    "        )\n",
    "    ),\n",
    ")\n",
    "\n",
    "# Run NAS tuning\n",
    "result_grid = tuner.fit()"
   ]
  },
  {
   "cell_type": "code",
   "execution_count": 4,
   "metadata": {},
   "outputs": [
    {
     "data": {
      "text/html": [
       "<div>\n",
       "<style scoped>\n",
       "    .dataframe tbody tr th:only-of-type {\n",
       "        vertical-align: middle;\n",
       "    }\n",
       "\n",
       "    .dataframe tbody tr th {\n",
       "        vertical-align: top;\n",
       "    }\n",
       "\n",
       "    .dataframe thead th {\n",
       "        text-align: right;\n",
       "    }\n",
       "</style>\n",
       "<table border=\"1\" class=\"dataframe\">\n",
       "  <thead>\n",
       "    <tr style=\"text-align: right;\">\n",
       "      <th></th>\n",
       "      <th>accuracy</th>\n",
       "      <th>latency</th>\n",
       "      <th>timestamp</th>\n",
       "      <th>checkpoint_dir_name</th>\n",
       "      <th>done</th>\n",
       "      <th>training_iteration</th>\n",
       "      <th>trial_id</th>\n",
       "      <th>date</th>\n",
       "      <th>time_this_iter_s</th>\n",
       "      <th>time_total_s</th>\n",
       "      <th>pid</th>\n",
       "      <th>hostname</th>\n",
       "      <th>node_ip</th>\n",
       "      <th>time_since_restore</th>\n",
       "      <th>iterations_since_restore</th>\n",
       "      <th>config/num_layers</th>\n",
       "      <th>config/hidden_size</th>\n",
       "      <th>config/kernel_size</th>\n",
       "      <th>logdir</th>\n",
       "    </tr>\n",
       "  </thead>\n",
       "  <tbody>\n",
       "    <tr>\n",
       "      <th>0</th>\n",
       "      <td>0.8761</td>\n",
       "      <td>261</td>\n",
       "      <td>1735083625</td>\n",
       "      <td>None</td>\n",
       "      <td>False</td>\n",
       "      <td>1</td>\n",
       "      <td>eec15173</td>\n",
       "      <td>2024-12-24_23-40-25</td>\n",
       "      <td>3.469562</td>\n",
       "      <td>3.469562</td>\n",
       "      <td>1499</td>\n",
       "      <td>Sidharrths-MacBook-Pro-142.local</td>\n",
       "      <td>127.0.0.1</td>\n",
       "      <td>3.469562</td>\n",
       "      <td>1</td>\n",
       "      <td>1</td>\n",
       "      <td>87</td>\n",
       "      <td>3</td>\n",
       "      <td>eec15173</td>\n",
       "    </tr>\n",
       "    <tr>\n",
       "      <th>1</th>\n",
       "      <td>0.8980</td>\n",
       "      <td>525</td>\n",
       "      <td>1735083638</td>\n",
       "      <td>None</td>\n",
       "      <td>False</td>\n",
       "      <td>1</td>\n",
       "      <td>29ae04fb</td>\n",
       "      <td>2024-12-24_23-40-38</td>\n",
       "      <td>10.425843</td>\n",
       "      <td>10.425843</td>\n",
       "      <td>1599</td>\n",
       "      <td>Sidharrths-MacBook-Pro-142.local</td>\n",
       "      <td>127.0.0.1</td>\n",
       "      <td>10.425843</td>\n",
       "      <td>1</td>\n",
       "      <td>5</td>\n",
       "      <td>21</td>\n",
       "      <td>5</td>\n",
       "      <td>29ae04fb</td>\n",
       "    </tr>\n",
       "    <tr>\n",
       "      <th>2</th>\n",
       "      <td>0.9125</td>\n",
       "      <td>2540</td>\n",
       "      <td>1735083717</td>\n",
       "      <td>None</td>\n",
       "      <td>False</td>\n",
       "      <td>1</td>\n",
       "      <td>58fa2603</td>\n",
       "      <td>2024-12-24_23-41-57</td>\n",
       "      <td>75.922501</td>\n",
       "      <td>75.922501</td>\n",
       "      <td>1742</td>\n",
       "      <td>Sidharrths-MacBook-Pro-142.local</td>\n",
       "      <td>127.0.0.1</td>\n",
       "      <td>75.922501</td>\n",
       "      <td>1</td>\n",
       "      <td>4</td>\n",
       "      <td>127</td>\n",
       "      <td>5</td>\n",
       "      <td>58fa2603</td>\n",
       "    </tr>\n",
       "    <tr>\n",
       "      <th>3</th>\n",
       "      <td>0.9276</td>\n",
       "      <td>756</td>\n",
       "      <td>1735083733</td>\n",
       "      <td>None</td>\n",
       "      <td>False</td>\n",
       "      <td>1</td>\n",
       "      <td>dc80ba9d</td>\n",
       "      <td>2024-12-24_23-42-13</td>\n",
       "      <td>12.941924</td>\n",
       "      <td>12.941924</td>\n",
       "      <td>2620</td>\n",
       "      <td>Sidharrths-MacBook-Pro-142.local</td>\n",
       "      <td>127.0.0.1</td>\n",
       "      <td>12.941924</td>\n",
       "      <td>1</td>\n",
       "      <td>2</td>\n",
       "      <td>54</td>\n",
       "      <td>7</td>\n",
       "      <td>dc80ba9d</td>\n",
       "    </tr>\n",
       "    <tr>\n",
       "      <th>4</th>\n",
       "      <td>0.8984</td>\n",
       "      <td>2163</td>\n",
       "      <td>1735083779</td>\n",
       "      <td>None</td>\n",
       "      <td>False</td>\n",
       "      <td>1</td>\n",
       "      <td>305570eb</td>\n",
       "      <td>2024-12-24_23-42-59</td>\n",
       "      <td>43.591635</td>\n",
       "      <td>43.591635</td>\n",
       "      <td>2809</td>\n",
       "      <td>Sidharrths-MacBook-Pro-142.local</td>\n",
       "      <td>127.0.0.1</td>\n",
       "      <td>43.591635</td>\n",
       "      <td>1</td>\n",
       "      <td>3</td>\n",
       "      <td>103</td>\n",
       "      <td>7</td>\n",
       "      <td>305570eb</td>\n",
       "    </tr>\n",
       "    <tr>\n",
       "      <th>5</th>\n",
       "      <td>0.9171</td>\n",
       "      <td>780</td>\n",
       "      <td>1735083807</td>\n",
       "      <td>None</td>\n",
       "      <td>False</td>\n",
       "      <td>1</td>\n",
       "      <td>c3ba019f</td>\n",
       "      <td>2024-12-24_23-43-27</td>\n",
       "      <td>25.010423</td>\n",
       "      <td>25.010423</td>\n",
       "      <td>3378</td>\n",
       "      <td>Sidharrths-MacBook-Pro-142.local</td>\n",
       "      <td>127.0.0.1</td>\n",
       "      <td>25.010423</td>\n",
       "      <td>1</td>\n",
       "      <td>4</td>\n",
       "      <td>65</td>\n",
       "      <td>3</td>\n",
       "      <td>c3ba019f</td>\n",
       "    </tr>\n",
       "    <tr>\n",
       "      <th>6</th>\n",
       "      <td>0.8709</td>\n",
       "      <td>153</td>\n",
       "      <td>1735083813</td>\n",
       "      <td>None</td>\n",
       "      <td>False</td>\n",
       "      <td>1</td>\n",
       "      <td>7e725cc6</td>\n",
       "      <td>2024-12-24_23-43-33</td>\n",
       "      <td>2.038176</td>\n",
       "      <td>2.038176</td>\n",
       "      <td>3721</td>\n",
       "      <td>Sidharrths-MacBook-Pro-142.local</td>\n",
       "      <td>127.0.0.1</td>\n",
       "      <td>2.038176</td>\n",
       "      <td>1</td>\n",
       "      <td>1</td>\n",
       "      <td>51</td>\n",
       "      <td>3</td>\n",
       "      <td>7e725cc6</td>\n",
       "    </tr>\n",
       "    <tr>\n",
       "      <th>7</th>\n",
       "      <td>0.8688</td>\n",
       "      <td>240</td>\n",
       "      <td>1735083824</td>\n",
       "      <td>None</td>\n",
       "      <td>False</td>\n",
       "      <td>1</td>\n",
       "      <td>14c4df33</td>\n",
       "      <td>2024-12-24_23-43-44</td>\n",
       "      <td>7.117346</td>\n",
       "      <td>7.117346</td>\n",
       "      <td>3793</td>\n",
       "      <td>Sidharrths-MacBook-Pro-142.local</td>\n",
       "      <td>127.0.0.1</td>\n",
       "      <td>7.117346</td>\n",
       "      <td>1</td>\n",
       "      <td>5</td>\n",
       "      <td>16</td>\n",
       "      <td>3</td>\n",
       "      <td>14c4df33</td>\n",
       "    </tr>\n",
       "    <tr>\n",
       "      <th>8</th>\n",
       "      <td>0.9152</td>\n",
       "      <td>112</td>\n",
       "      <td>1735083830</td>\n",
       "      <td>None</td>\n",
       "      <td>False</td>\n",
       "      <td>1</td>\n",
       "      <td>81dd0df6</td>\n",
       "      <td>2024-12-24_23-43-50</td>\n",
       "      <td>1.354536</td>\n",
       "      <td>1.354536</td>\n",
       "      <td>3917</td>\n",
       "      <td>Sidharrths-MacBook-Pro-142.local</td>\n",
       "      <td>127.0.0.1</td>\n",
       "      <td>1.354536</td>\n",
       "      <td>1</td>\n",
       "      <td>1</td>\n",
       "      <td>16</td>\n",
       "      <td>7</td>\n",
       "      <td>81dd0df6</td>\n",
       "    </tr>\n",
       "    <tr>\n",
       "      <th>9</th>\n",
       "      <td>0.8870</td>\n",
       "      <td>144</td>\n",
       "      <td>1735083837</td>\n",
       "      <td>None</td>\n",
       "      <td>False</td>\n",
       "      <td>1</td>\n",
       "      <td>5a76f217</td>\n",
       "      <td>2024-12-24_23-43-57</td>\n",
       "      <td>4.162961</td>\n",
       "      <td>4.162961</td>\n",
       "      <td>3977</td>\n",
       "      <td>Sidharrths-MacBook-Pro-142.local</td>\n",
       "      <td>127.0.0.1</td>\n",
       "      <td>4.162961</td>\n",
       "      <td>1</td>\n",
       "      <td>3</td>\n",
       "      <td>16</td>\n",
       "      <td>3</td>\n",
       "      <td>5a76f217</td>\n",
       "    </tr>\n",
       "    <tr>\n",
       "      <th>10</th>\n",
       "      <td>0.9184</td>\n",
       "      <td>80</td>\n",
       "      <td>1735083842</td>\n",
       "      <td>None</td>\n",
       "      <td>False</td>\n",
       "      <td>1</td>\n",
       "      <td>d4dc1677</td>\n",
       "      <td>2024-12-24_23-44-02</td>\n",
       "      <td>1.267542</td>\n",
       "      <td>1.267542</td>\n",
       "      <td>4084</td>\n",
       "      <td>Sidharrths-MacBook-Pro-142.local</td>\n",
       "      <td>127.0.0.1</td>\n",
       "      <td>1.267542</td>\n",
       "      <td>1</td>\n",
       "      <td>1</td>\n",
       "      <td>16</td>\n",
       "      <td>5</td>\n",
       "      <td>d4dc1677</td>\n",
       "    </tr>\n",
       "    <tr>\n",
       "      <th>11</th>\n",
       "      <td>0.8991</td>\n",
       "      <td>160</td>\n",
       "      <td>1735083848</td>\n",
       "      <td>None</td>\n",
       "      <td>False</td>\n",
       "      <td>1</td>\n",
       "      <td>74d99b44</td>\n",
       "      <td>2024-12-24_23-44-08</td>\n",
       "      <td>3.474937</td>\n",
       "      <td>3.474937</td>\n",
       "      <td>4137</td>\n",
       "      <td>Sidharrths-MacBook-Pro-142.local</td>\n",
       "      <td>127.0.0.1</td>\n",
       "      <td>3.474937</td>\n",
       "      <td>1</td>\n",
       "      <td>2</td>\n",
       "      <td>16</td>\n",
       "      <td>5</td>\n",
       "      <td>74d99b44</td>\n",
       "    </tr>\n",
       "    <tr>\n",
       "      <th>12</th>\n",
       "      <td>0.8978</td>\n",
       "      <td>48</td>\n",
       "      <td>1735083852</td>\n",
       "      <td>None</td>\n",
       "      <td>False</td>\n",
       "      <td>1</td>\n",
       "      <td>057a99c0</td>\n",
       "      <td>2024-12-24_23-44-12</td>\n",
       "      <td>1.037435</td>\n",
       "      <td>1.037435</td>\n",
       "      <td>4258</td>\n",
       "      <td>Sidharrths-MacBook-Pro-142.local</td>\n",
       "      <td>127.0.0.1</td>\n",
       "      <td>1.037435</td>\n",
       "      <td>1</td>\n",
       "      <td>1</td>\n",
       "      <td>16</td>\n",
       "      <td>3</td>\n",
       "      <td>057a99c0</td>\n",
       "    </tr>\n",
       "    <tr>\n",
       "      <th>13</th>\n",
       "      <td>0.9101</td>\n",
       "      <td>259</td>\n",
       "      <td>1735083858</td>\n",
       "      <td>None</td>\n",
       "      <td>False</td>\n",
       "      <td>1</td>\n",
       "      <td>fd74aba1</td>\n",
       "      <td>2024-12-24_23-44-18</td>\n",
       "      <td>1.788551</td>\n",
       "      <td>1.788551</td>\n",
       "      <td>4318</td>\n",
       "      <td>Sidharrths-MacBook-Pro-142.local</td>\n",
       "      <td>127.0.0.1</td>\n",
       "      <td>1.788551</td>\n",
       "      <td>1</td>\n",
       "      <td>1</td>\n",
       "      <td>37</td>\n",
       "      <td>7</td>\n",
       "      <td>fd74aba1</td>\n",
       "    </tr>\n",
       "    <tr>\n",
       "      <th>14</th>\n",
       "      <td>0.9138</td>\n",
       "      <td>322</td>\n",
       "      <td>1735083866</td>\n",
       "      <td>None</td>\n",
       "      <td>False</td>\n",
       "      <td>1</td>\n",
       "      <td>025beec4</td>\n",
       "      <td>2024-12-24_23-44-26</td>\n",
       "      <td>5.345088</td>\n",
       "      <td>5.345088</td>\n",
       "      <td>4370</td>\n",
       "      <td>Sidharrths-MacBook-Pro-142.local</td>\n",
       "      <td>127.0.0.1</td>\n",
       "      <td>5.345088</td>\n",
       "      <td>1</td>\n",
       "      <td>2</td>\n",
       "      <td>23</td>\n",
       "      <td>7</td>\n",
       "      <td>025beec4</td>\n",
       "    </tr>\n",
       "    <tr>\n",
       "      <th>15</th>\n",
       "      <td>0.8815</td>\n",
       "      <td>192</td>\n",
       "      <td>1735083877</td>\n",
       "      <td>None</td>\n",
       "      <td>False</td>\n",
       "      <td>1</td>\n",
       "      <td>4d571a13</td>\n",
       "      <td>2024-12-24_23-44-37</td>\n",
       "      <td>5.483221</td>\n",
       "      <td>5.483221</td>\n",
       "      <td>4494</td>\n",
       "      <td>Sidharrths-MacBook-Pro-142.local</td>\n",
       "      <td>127.0.0.1</td>\n",
       "      <td>5.483221</td>\n",
       "      <td>1</td>\n",
       "      <td>4</td>\n",
       "      <td>16</td>\n",
       "      <td>3</td>\n",
       "      <td>4d571a13</td>\n",
       "    </tr>\n",
       "    <tr>\n",
       "      <th>16</th>\n",
       "      <td>0.9407</td>\n",
       "      <td>602</td>\n",
       "      <td>1735083890</td>\n",
       "      <td>None</td>\n",
       "      <td>False</td>\n",
       "      <td>1</td>\n",
       "      <td>62df2775</td>\n",
       "      <td>2024-12-24_23-44-50</td>\n",
       "      <td>9.371166</td>\n",
       "      <td>9.371166</td>\n",
       "      <td>4583</td>\n",
       "      <td>Sidharrths-MacBook-Pro-142.local</td>\n",
       "      <td>127.0.0.1</td>\n",
       "      <td>9.371166</td>\n",
       "      <td>1</td>\n",
       "      <td>2</td>\n",
       "      <td>43</td>\n",
       "      <td>7</td>\n",
       "      <td>62df2775</td>\n",
       "    </tr>\n",
       "    <tr>\n",
       "      <th>17</th>\n",
       "      <td>0.8833</td>\n",
       "      <td>384</td>\n",
       "      <td>1735083897</td>\n",
       "      <td>None</td>\n",
       "      <td>False</td>\n",
       "      <td>1</td>\n",
       "      <td>3b17f368</td>\n",
       "      <td>2024-12-24_23-44-57</td>\n",
       "      <td>3.842805</td>\n",
       "      <td>3.842805</td>\n",
       "      <td>4737</td>\n",
       "      <td>Sidharrths-MacBook-Pro-142.local</td>\n",
       "      <td>127.0.0.1</td>\n",
       "      <td>3.842805</td>\n",
       "      <td>1</td>\n",
       "      <td>1</td>\n",
       "      <td>128</td>\n",
       "      <td>3</td>\n",
       "      <td>3b17f368</td>\n",
       "    </tr>\n",
       "    <tr>\n",
       "      <th>18</th>\n",
       "      <td>0.8932</td>\n",
       "      <td>96</td>\n",
       "      <td>1735083903</td>\n",
       "      <td>None</td>\n",
       "      <td>False</td>\n",
       "      <td>1</td>\n",
       "      <td>d41320c5</td>\n",
       "      <td>2024-12-24_23-45-03</td>\n",
       "      <td>2.744088</td>\n",
       "      <td>2.744088</td>\n",
       "      <td>4803</td>\n",
       "      <td>Sidharrths-MacBook-Pro-142.local</td>\n",
       "      <td>127.0.0.1</td>\n",
       "      <td>2.744088</td>\n",
       "      <td>1</td>\n",
       "      <td>2</td>\n",
       "      <td>16</td>\n",
       "      <td>3</td>\n",
       "      <td>d41320c5</td>\n",
       "    </tr>\n",
       "    <tr>\n",
       "      <th>19</th>\n",
       "      <td>0.9285</td>\n",
       "      <td>504</td>\n",
       "      <td>1735083916</td>\n",
       "      <td>None</td>\n",
       "      <td>False</td>\n",
       "      <td>1</td>\n",
       "      <td>01c12111</td>\n",
       "      <td>2024-12-24_23-45-16</td>\n",
       "      <td>8.429320</td>\n",
       "      <td>8.429320</td>\n",
       "      <td>4895</td>\n",
       "      <td>Sidharrths-MacBook-Pro-142.local</td>\n",
       "      <td>127.0.0.1</td>\n",
       "      <td>8.429320</td>\n",
       "      <td>1</td>\n",
       "      <td>2</td>\n",
       "      <td>36</td>\n",
       "      <td>7</td>\n",
       "      <td>01c12111</td>\n",
       "    </tr>\n",
       "  </tbody>\n",
       "</table>\n",
       "</div>"
      ],
      "text/plain": [
       "    accuracy  latency   timestamp checkpoint_dir_name   done  \\\n",
       "0     0.8761      261  1735083625                None  False   \n",
       "1     0.8980      525  1735083638                None  False   \n",
       "2     0.9125     2540  1735083717                None  False   \n",
       "3     0.9276      756  1735083733                None  False   \n",
       "4     0.8984     2163  1735083779                None  False   \n",
       "5     0.9171      780  1735083807                None  False   \n",
       "6     0.8709      153  1735083813                None  False   \n",
       "7     0.8688      240  1735083824                None  False   \n",
       "8     0.9152      112  1735083830                None  False   \n",
       "9     0.8870      144  1735083837                None  False   \n",
       "10    0.9184       80  1735083842                None  False   \n",
       "11    0.8991      160  1735083848                None  False   \n",
       "12    0.8978       48  1735083852                None  False   \n",
       "13    0.9101      259  1735083858                None  False   \n",
       "14    0.9138      322  1735083866                None  False   \n",
       "15    0.8815      192  1735083877                None  False   \n",
       "16    0.9407      602  1735083890                None  False   \n",
       "17    0.8833      384  1735083897                None  False   \n",
       "18    0.8932       96  1735083903                None  False   \n",
       "19    0.9285      504  1735083916                None  False   \n",
       "\n",
       "    training_iteration  trial_id                 date  time_this_iter_s  \\\n",
       "0                    1  eec15173  2024-12-24_23-40-25          3.469562   \n",
       "1                    1  29ae04fb  2024-12-24_23-40-38         10.425843   \n",
       "2                    1  58fa2603  2024-12-24_23-41-57         75.922501   \n",
       "3                    1  dc80ba9d  2024-12-24_23-42-13         12.941924   \n",
       "4                    1  305570eb  2024-12-24_23-42-59         43.591635   \n",
       "5                    1  c3ba019f  2024-12-24_23-43-27         25.010423   \n",
       "6                    1  7e725cc6  2024-12-24_23-43-33          2.038176   \n",
       "7                    1  14c4df33  2024-12-24_23-43-44          7.117346   \n",
       "8                    1  81dd0df6  2024-12-24_23-43-50          1.354536   \n",
       "9                    1  5a76f217  2024-12-24_23-43-57          4.162961   \n",
       "10                   1  d4dc1677  2024-12-24_23-44-02          1.267542   \n",
       "11                   1  74d99b44  2024-12-24_23-44-08          3.474937   \n",
       "12                   1  057a99c0  2024-12-24_23-44-12          1.037435   \n",
       "13                   1  fd74aba1  2024-12-24_23-44-18          1.788551   \n",
       "14                   1  025beec4  2024-12-24_23-44-26          5.345088   \n",
       "15                   1  4d571a13  2024-12-24_23-44-37          5.483221   \n",
       "16                   1  62df2775  2024-12-24_23-44-50          9.371166   \n",
       "17                   1  3b17f368  2024-12-24_23-44-57          3.842805   \n",
       "18                   1  d41320c5  2024-12-24_23-45-03          2.744088   \n",
       "19                   1  01c12111  2024-12-24_23-45-16          8.429320   \n",
       "\n",
       "    time_total_s   pid                          hostname    node_ip  \\\n",
       "0       3.469562  1499  Sidharrths-MacBook-Pro-142.local  127.0.0.1   \n",
       "1      10.425843  1599  Sidharrths-MacBook-Pro-142.local  127.0.0.1   \n",
       "2      75.922501  1742  Sidharrths-MacBook-Pro-142.local  127.0.0.1   \n",
       "3      12.941924  2620  Sidharrths-MacBook-Pro-142.local  127.0.0.1   \n",
       "4      43.591635  2809  Sidharrths-MacBook-Pro-142.local  127.0.0.1   \n",
       "5      25.010423  3378  Sidharrths-MacBook-Pro-142.local  127.0.0.1   \n",
       "6       2.038176  3721  Sidharrths-MacBook-Pro-142.local  127.0.0.1   \n",
       "7       7.117346  3793  Sidharrths-MacBook-Pro-142.local  127.0.0.1   \n",
       "8       1.354536  3917  Sidharrths-MacBook-Pro-142.local  127.0.0.1   \n",
       "9       4.162961  3977  Sidharrths-MacBook-Pro-142.local  127.0.0.1   \n",
       "10      1.267542  4084  Sidharrths-MacBook-Pro-142.local  127.0.0.1   \n",
       "11      3.474937  4137  Sidharrths-MacBook-Pro-142.local  127.0.0.1   \n",
       "12      1.037435  4258  Sidharrths-MacBook-Pro-142.local  127.0.0.1   \n",
       "13      1.788551  4318  Sidharrths-MacBook-Pro-142.local  127.0.0.1   \n",
       "14      5.345088  4370  Sidharrths-MacBook-Pro-142.local  127.0.0.1   \n",
       "15      5.483221  4494  Sidharrths-MacBook-Pro-142.local  127.0.0.1   \n",
       "16      9.371166  4583  Sidharrths-MacBook-Pro-142.local  127.0.0.1   \n",
       "17      3.842805  4737  Sidharrths-MacBook-Pro-142.local  127.0.0.1   \n",
       "18      2.744088  4803  Sidharrths-MacBook-Pro-142.local  127.0.0.1   \n",
       "19      8.429320  4895  Sidharrths-MacBook-Pro-142.local  127.0.0.1   \n",
       "\n",
       "    time_since_restore  iterations_since_restore  config/num_layers  \\\n",
       "0             3.469562                         1                  1   \n",
       "1            10.425843                         1                  5   \n",
       "2            75.922501                         1                  4   \n",
       "3            12.941924                         1                  2   \n",
       "4            43.591635                         1                  3   \n",
       "5            25.010423                         1                  4   \n",
       "6             2.038176                         1                  1   \n",
       "7             7.117346                         1                  5   \n",
       "8             1.354536                         1                  1   \n",
       "9             4.162961                         1                  3   \n",
       "10            1.267542                         1                  1   \n",
       "11            3.474937                         1                  2   \n",
       "12            1.037435                         1                  1   \n",
       "13            1.788551                         1                  1   \n",
       "14            5.345088                         1                  2   \n",
       "15            5.483221                         1                  4   \n",
       "16            9.371166                         1                  2   \n",
       "17            3.842805                         1                  1   \n",
       "18            2.744088                         1                  2   \n",
       "19            8.429320                         1                  2   \n",
       "\n",
       "    config/hidden_size  config/kernel_size    logdir  \n",
       "0                   87                   3  eec15173  \n",
       "1                   21                   5  29ae04fb  \n",
       "2                  127                   5  58fa2603  \n",
       "3                   54                   7  dc80ba9d  \n",
       "4                  103                   7  305570eb  \n",
       "5                   65                   3  c3ba019f  \n",
       "6                   51                   3  7e725cc6  \n",
       "7                   16                   3  14c4df33  \n",
       "8                   16                   7  81dd0df6  \n",
       "9                   16                   3  5a76f217  \n",
       "10                  16                   5  d4dc1677  \n",
       "11                  16                   5  74d99b44  \n",
       "12                  16                   3  057a99c0  \n",
       "13                  37                   7  fd74aba1  \n",
       "14                  23                   7  025beec4  \n",
       "15                  16                   3  4d571a13  \n",
       "16                  43                   7  62df2775  \n",
       "17                 128                   3  3b17f368  \n",
       "18                  16                   3  d41320c5  \n",
       "19                  36                   7  01c12111  "
      ]
     },
     "execution_count": 4,
     "metadata": {},
     "output_type": "execute_result"
    }
   ],
   "source": [
    "result_grid.get_dataframe()"
   ]
  },
  {
   "cell_type": "code",
   "execution_count": 7,
   "metadata": {},
   "outputs": [
    {
     "name": "stderr",
     "output_type": "stream",
     "text": [
      "[WARNING 12-24 23:47:24] ax.service.utils.report_utils: Column reason missing for all trials. Not appending column.\n"
     ]
    },
    {
     "ename": "ValueError",
     "evalue": "Mime type rendering requires nbformat>=4.2.0 but it is not installed",
     "output_type": "error",
     "traceback": [
      "\u001b[0;31m---------------------------------------------------------------------------\u001b[0m",
      "\u001b[0;31mValueError\u001b[0m                                Traceback (most recent call last)",
      "File \u001b[0;32m~/.virtualenvs/lsdp_miniproject/lib/python3.11/site-packages/IPython/core/formatters.py:984\u001b[0m, in \u001b[0;36mIPythonDisplayFormatter.__call__\u001b[0;34m(self, obj)\u001b[0m\n\u001b[1;32m    982\u001b[0m method \u001b[38;5;241m=\u001b[39m get_real_method(obj, \u001b[38;5;28mself\u001b[39m\u001b[38;5;241m.\u001b[39mprint_method)\n\u001b[1;32m    983\u001b[0m \u001b[38;5;28;01mif\u001b[39;00m method \u001b[38;5;129;01mis\u001b[39;00m \u001b[38;5;129;01mnot\u001b[39;00m \u001b[38;5;28;01mNone\u001b[39;00m:\n\u001b[0;32m--> 984\u001b[0m     \u001b[43mmethod\u001b[49m\u001b[43m(\u001b[49m\u001b[43m)\u001b[49m\n\u001b[1;32m    985\u001b[0m     \u001b[38;5;28;01mreturn\u001b[39;00m \u001b[38;5;28;01mTrue\u001b[39;00m\n",
      "File \u001b[0;32m~/.virtualenvs/lsdp_miniproject/lib/python3.11/site-packages/plotly/basedatatypes.py:832\u001b[0m, in \u001b[0;36mBaseFigure._ipython_display_\u001b[0;34m(self)\u001b[0m\n\u001b[1;32m    829\u001b[0m \u001b[38;5;28;01mimport\u001b[39;00m \u001b[38;5;21;01mplotly\u001b[39;00m\u001b[38;5;21;01m.\u001b[39;00m\u001b[38;5;21;01mio\u001b[39;00m \u001b[38;5;28;01mas\u001b[39;00m \u001b[38;5;21;01mpio\u001b[39;00m\n\u001b[1;32m    831\u001b[0m \u001b[38;5;28;01mif\u001b[39;00m pio\u001b[38;5;241m.\u001b[39mrenderers\u001b[38;5;241m.\u001b[39mrender_on_display \u001b[38;5;129;01mand\u001b[39;00m pio\u001b[38;5;241m.\u001b[39mrenderers\u001b[38;5;241m.\u001b[39mdefault:\n\u001b[0;32m--> 832\u001b[0m     \u001b[43mpio\u001b[49m\u001b[38;5;241;43m.\u001b[39;49m\u001b[43mshow\u001b[49m\u001b[43m(\u001b[49m\u001b[38;5;28;43mself\u001b[39;49m\u001b[43m)\u001b[49m\n\u001b[1;32m    833\u001b[0m \u001b[38;5;28;01melse\u001b[39;00m:\n\u001b[1;32m    834\u001b[0m     \u001b[38;5;28mprint\u001b[39m(\u001b[38;5;28mrepr\u001b[39m(\u001b[38;5;28mself\u001b[39m))\n",
      "File \u001b[0;32m~/.virtualenvs/lsdp_miniproject/lib/python3.11/site-packages/plotly/io/_renderers.py:394\u001b[0m, in \u001b[0;36mshow\u001b[0;34m(fig, renderer, validate, **kwargs)\u001b[0m\n\u001b[1;32m    389\u001b[0m         \u001b[38;5;28;01mraise\u001b[39;00m \u001b[38;5;167;01mValueError\u001b[39;00m(\n\u001b[1;32m    390\u001b[0m             \u001b[38;5;124m\"\u001b[39m\u001b[38;5;124mMime type rendering requires ipython but it is not installed\u001b[39m\u001b[38;5;124m\"\u001b[39m\n\u001b[1;32m    391\u001b[0m         )\n\u001b[1;32m    393\u001b[0m     \u001b[38;5;28;01mif\u001b[39;00m \u001b[38;5;129;01mnot\u001b[39;00m nbformat \u001b[38;5;129;01mor\u001b[39;00m Version(nbformat\u001b[38;5;241m.\u001b[39m__version__) \u001b[38;5;241m<\u001b[39m Version(\u001b[38;5;124m\"\u001b[39m\u001b[38;5;124m4.2.0\u001b[39m\u001b[38;5;124m\"\u001b[39m):\n\u001b[0;32m--> 394\u001b[0m         \u001b[38;5;28;01mraise\u001b[39;00m \u001b[38;5;167;01mValueError\u001b[39;00m(\n\u001b[1;32m    395\u001b[0m             \u001b[38;5;124m\"\u001b[39m\u001b[38;5;124mMime type rendering requires nbformat>=4.2.0 but it is not installed\u001b[39m\u001b[38;5;124m\"\u001b[39m\n\u001b[1;32m    396\u001b[0m         )\n\u001b[1;32m    398\u001b[0m     ipython_display\u001b[38;5;241m.\u001b[39mdisplay(bundle, raw\u001b[38;5;241m=\u001b[39m\u001b[38;5;28;01mTrue\u001b[39;00m)\n\u001b[1;32m    400\u001b[0m \u001b[38;5;66;03m# external renderers\u001b[39;00m\n",
      "\u001b[0;31mValueError\u001b[0m: Mime type rendering requires nbformat>=4.2.0 but it is not installed"
     ]
    },
    {
     "data": {
      "application/vnd.plotly.v1+json": {
       "config": {
        "plotlyServerURL": "https://plot.ly"
       },
       "data": [
        {
         "line": {
          "shape": "hv"
         },
         "marker": {
          "color": "rgba(128,177,211,1)"
         },
         "mode": "lines",
         "type": "scatter",
         "x": [
          0.9407,
          0.9407,
          0.9285,
          0.9184,
          0.8978,
          0.8
         ],
         "y": [
          1000,
          602,
          504,
          80,
          48,
          48
         ]
        },
        {
         "marker": {
          "color": "rgba(128,177,211,1)"
         },
         "mode": "lines",
         "type": "scatter",
         "x": [
          0.9407,
          0.8
         ],
         "y": [
          1000,
          1000
         ]
        },
        {
         "marker": {
          "color": "rgba(128,177,211,1)"
         },
         "mode": "lines",
         "type": "scatter",
         "x": [
          0.8,
          0.8
         ],
         "y": [
          48,
          1000
         ]
        },
        {
         "hovertemplate": "%{text}",
         "marker": {
          "color": [
           0,
           5,
           10,
           15,
           20,
           25,
           30,
           35,
           40,
           45,
           50,
           55,
           60,
           65,
           70,
           75,
           80,
           85,
           90,
           95,
           100
          ],
          "colorbar": {
           "ticktext": [
            1,
            "iteration",
            20
           ],
           "tickvals": [
            0,
            50,
            100
           ]
          },
          "colorscale": [
           [
            0,
            "#000004"
           ],
           [
            0.1111111111111111,
            "#180f3d"
           ],
           [
            0.2222222222222222,
            "#440f76"
           ],
           [
            0.3333333333333333,
            "#721f81"
           ],
           [
            0.4444444444444444,
            "#9e2f7f"
           ],
           [
            0.5555555555555556,
            "#cd4071"
           ],
           [
            0.6666666666666666,
            "#f1605d"
           ],
           [
            0.7777777777777778,
            "#fd9668"
           ],
           [
            0.8888888888888888,
            "#feca8d"
           ],
           [
            1,
            "#fcfdbf"
           ]
          ]
         },
         "mode": "markers",
         "name": "Experimental points",
         "text": [
          "Arm name: 0_0",
          "Arm name: 1_0",
          "Arm name: 2_0",
          "Arm name: 3_0",
          "Arm name: 4_0",
          "Arm name: 5_0",
          "Arm name: 6_0",
          "Arm name: 7_0",
          "Arm name: 8_0",
          "Arm name: 9_0",
          "Arm name: 10_0",
          "Arm name: 11_0",
          "Arm name: 12_0",
          "Arm name: 13_0",
          "Arm name: 14_0",
          "Arm name: 15_0",
          "Arm name: 16_0",
          "Arm name: 17_0",
          "Arm name: 18_0",
          "Arm name: 19_0"
         ],
         "type": "scatter",
         "x": [
          0.8761,
          0.898,
          0.9125,
          0.9276,
          0.8984,
          0.9171,
          0.8709,
          0.8688,
          0.9152,
          0.887,
          0.9184,
          0.8991,
          0.8978,
          0.9101,
          0.9138,
          0.8815,
          0.9407,
          0.8833,
          0.8932,
          0.9285
         ],
         "y": [
          261,
          525,
          2540,
          756,
          2163,
          780,
          153,
          240,
          112,
          144,
          80,
          160,
          48,
          259,
          322,
          192,
          602,
          384,
          96,
          504
         ]
        },
        {
         "marker": {
          "color": "rgba(128,177,211,1)",
          "size": 25,
          "symbol": "star"
         },
         "mode": "markers",
         "type": "scatter",
         "x": [
          0.8
         ],
         "y": [
          1000
         ]
        }
       ],
       "layout": {
        "showlegend": false,
        "template": {
         "data": {
          "bar": [
           {
            "error_x": {
             "color": "#2a3f5f"
            },
            "error_y": {
             "color": "#2a3f5f"
            },
            "marker": {
             "line": {
              "color": "#E5ECF6",
              "width": 0.5
             },
             "pattern": {
              "fillmode": "overlay",
              "size": 10,
              "solidity": 0.2
             }
            },
            "type": "bar"
           }
          ],
          "barpolar": [
           {
            "marker": {
             "line": {
              "color": "#E5ECF6",
              "width": 0.5
             },
             "pattern": {
              "fillmode": "overlay",
              "size": 10,
              "solidity": 0.2
             }
            },
            "type": "barpolar"
           }
          ],
          "carpet": [
           {
            "aaxis": {
             "endlinecolor": "#2a3f5f",
             "gridcolor": "white",
             "linecolor": "white",
             "minorgridcolor": "white",
             "startlinecolor": "#2a3f5f"
            },
            "baxis": {
             "endlinecolor": "#2a3f5f",
             "gridcolor": "white",
             "linecolor": "white",
             "minorgridcolor": "white",
             "startlinecolor": "#2a3f5f"
            },
            "type": "carpet"
           }
          ],
          "choropleth": [
           {
            "colorbar": {
             "outlinewidth": 0,
             "ticks": ""
            },
            "type": "choropleth"
           }
          ],
          "contour": [
           {
            "colorbar": {
             "outlinewidth": 0,
             "ticks": ""
            },
            "colorscale": [
             [
              0,
              "#0d0887"
             ],
             [
              0.1111111111111111,
              "#46039f"
             ],
             [
              0.2222222222222222,
              "#7201a8"
             ],
             [
              0.3333333333333333,
              "#9c179e"
             ],
             [
              0.4444444444444444,
              "#bd3786"
             ],
             [
              0.5555555555555556,
              "#d8576b"
             ],
             [
              0.6666666666666666,
              "#ed7953"
             ],
             [
              0.7777777777777778,
              "#fb9f3a"
             ],
             [
              0.8888888888888888,
              "#fdca26"
             ],
             [
              1,
              "#f0f921"
             ]
            ],
            "type": "contour"
           }
          ],
          "contourcarpet": [
           {
            "colorbar": {
             "outlinewidth": 0,
             "ticks": ""
            },
            "type": "contourcarpet"
           }
          ],
          "heatmap": [
           {
            "colorbar": {
             "outlinewidth": 0,
             "ticks": ""
            },
            "colorscale": [
             [
              0,
              "#0d0887"
             ],
             [
              0.1111111111111111,
              "#46039f"
             ],
             [
              0.2222222222222222,
              "#7201a8"
             ],
             [
              0.3333333333333333,
              "#9c179e"
             ],
             [
              0.4444444444444444,
              "#bd3786"
             ],
             [
              0.5555555555555556,
              "#d8576b"
             ],
             [
              0.6666666666666666,
              "#ed7953"
             ],
             [
              0.7777777777777778,
              "#fb9f3a"
             ],
             [
              0.8888888888888888,
              "#fdca26"
             ],
             [
              1,
              "#f0f921"
             ]
            ],
            "type": "heatmap"
           }
          ],
          "heatmapgl": [
           {
            "colorbar": {
             "outlinewidth": 0,
             "ticks": ""
            },
            "colorscale": [
             [
              0,
              "#0d0887"
             ],
             [
              0.1111111111111111,
              "#46039f"
             ],
             [
              0.2222222222222222,
              "#7201a8"
             ],
             [
              0.3333333333333333,
              "#9c179e"
             ],
             [
              0.4444444444444444,
              "#bd3786"
             ],
             [
              0.5555555555555556,
              "#d8576b"
             ],
             [
              0.6666666666666666,
              "#ed7953"
             ],
             [
              0.7777777777777778,
              "#fb9f3a"
             ],
             [
              0.8888888888888888,
              "#fdca26"
             ],
             [
              1,
              "#f0f921"
             ]
            ],
            "type": "heatmapgl"
           }
          ],
          "histogram": [
           {
            "marker": {
             "pattern": {
              "fillmode": "overlay",
              "size": 10,
              "solidity": 0.2
             }
            },
            "type": "histogram"
           }
          ],
          "histogram2d": [
           {
            "colorbar": {
             "outlinewidth": 0,
             "ticks": ""
            },
            "colorscale": [
             [
              0,
              "#0d0887"
             ],
             [
              0.1111111111111111,
              "#46039f"
             ],
             [
              0.2222222222222222,
              "#7201a8"
             ],
             [
              0.3333333333333333,
              "#9c179e"
             ],
             [
              0.4444444444444444,
              "#bd3786"
             ],
             [
              0.5555555555555556,
              "#d8576b"
             ],
             [
              0.6666666666666666,
              "#ed7953"
             ],
             [
              0.7777777777777778,
              "#fb9f3a"
             ],
             [
              0.8888888888888888,
              "#fdca26"
             ],
             [
              1,
              "#f0f921"
             ]
            ],
            "type": "histogram2d"
           }
          ],
          "histogram2dcontour": [
           {
            "colorbar": {
             "outlinewidth": 0,
             "ticks": ""
            },
            "colorscale": [
             [
              0,
              "#0d0887"
             ],
             [
              0.1111111111111111,
              "#46039f"
             ],
             [
              0.2222222222222222,
              "#7201a8"
             ],
             [
              0.3333333333333333,
              "#9c179e"
             ],
             [
              0.4444444444444444,
              "#bd3786"
             ],
             [
              0.5555555555555556,
              "#d8576b"
             ],
             [
              0.6666666666666666,
              "#ed7953"
             ],
             [
              0.7777777777777778,
              "#fb9f3a"
             ],
             [
              0.8888888888888888,
              "#fdca26"
             ],
             [
              1,
              "#f0f921"
             ]
            ],
            "type": "histogram2dcontour"
           }
          ],
          "mesh3d": [
           {
            "colorbar": {
             "outlinewidth": 0,
             "ticks": ""
            },
            "type": "mesh3d"
           }
          ],
          "parcoords": [
           {
            "line": {
             "colorbar": {
              "outlinewidth": 0,
              "ticks": ""
             }
            },
            "type": "parcoords"
           }
          ],
          "pie": [
           {
            "automargin": true,
            "type": "pie"
           }
          ],
          "scatter": [
           {
            "fillpattern": {
             "fillmode": "overlay",
             "size": 10,
             "solidity": 0.2
            },
            "type": "scatter"
           }
          ],
          "scatter3d": [
           {
            "line": {
             "colorbar": {
              "outlinewidth": 0,
              "ticks": ""
             }
            },
            "marker": {
             "colorbar": {
              "outlinewidth": 0,
              "ticks": ""
             }
            },
            "type": "scatter3d"
           }
          ],
          "scattercarpet": [
           {
            "marker": {
             "colorbar": {
              "outlinewidth": 0,
              "ticks": ""
             }
            },
            "type": "scattercarpet"
           }
          ],
          "scattergeo": [
           {
            "marker": {
             "colorbar": {
              "outlinewidth": 0,
              "ticks": ""
             }
            },
            "type": "scattergeo"
           }
          ],
          "scattergl": [
           {
            "marker": {
             "colorbar": {
              "outlinewidth": 0,
              "ticks": ""
             }
            },
            "type": "scattergl"
           }
          ],
          "scattermapbox": [
           {
            "marker": {
             "colorbar": {
              "outlinewidth": 0,
              "ticks": ""
             }
            },
            "type": "scattermapbox"
           }
          ],
          "scatterpolar": [
           {
            "marker": {
             "colorbar": {
              "outlinewidth": 0,
              "ticks": ""
             }
            },
            "type": "scatterpolar"
           }
          ],
          "scatterpolargl": [
           {
            "marker": {
             "colorbar": {
              "outlinewidth": 0,
              "ticks": ""
             }
            },
            "type": "scatterpolargl"
           }
          ],
          "scatterternary": [
           {
            "marker": {
             "colorbar": {
              "outlinewidth": 0,
              "ticks": ""
             }
            },
            "type": "scatterternary"
           }
          ],
          "surface": [
           {
            "colorbar": {
             "outlinewidth": 0,
             "ticks": ""
            },
            "colorscale": [
             [
              0,
              "#0d0887"
             ],
             [
              0.1111111111111111,
              "#46039f"
             ],
             [
              0.2222222222222222,
              "#7201a8"
             ],
             [
              0.3333333333333333,
              "#9c179e"
             ],
             [
              0.4444444444444444,
              "#bd3786"
             ],
             [
              0.5555555555555556,
              "#d8576b"
             ],
             [
              0.6666666666666666,
              "#ed7953"
             ],
             [
              0.7777777777777778,
              "#fb9f3a"
             ],
             [
              0.8888888888888888,
              "#fdca26"
             ],
             [
              1,
              "#f0f921"
             ]
            ],
            "type": "surface"
           }
          ],
          "table": [
           {
            "cells": {
             "fill": {
              "color": "#EBF0F8"
             },
             "line": {
              "color": "white"
             }
            },
            "header": {
             "fill": {
              "color": "#C8D4E3"
             },
             "line": {
              "color": "white"
             }
            },
            "type": "table"
           }
          ]
         },
         "layout": {
          "annotationdefaults": {
           "arrowcolor": "#2a3f5f",
           "arrowhead": 0,
           "arrowwidth": 1
          },
          "autotypenumbers": "strict",
          "coloraxis": {
           "colorbar": {
            "outlinewidth": 0,
            "ticks": ""
           }
          },
          "colorscale": {
           "diverging": [
            [
             0,
             "#8e0152"
            ],
            [
             0.1,
             "#c51b7d"
            ],
            [
             0.2,
             "#de77ae"
            ],
            [
             0.3,
             "#f1b6da"
            ],
            [
             0.4,
             "#fde0ef"
            ],
            [
             0.5,
             "#f7f7f7"
            ],
            [
             0.6,
             "#e6f5d0"
            ],
            [
             0.7,
             "#b8e186"
            ],
            [
             0.8,
             "#7fbc41"
            ],
            [
             0.9,
             "#4d9221"
            ],
            [
             1,
             "#276419"
            ]
           ],
           "sequential": [
            [
             0,
             "#0d0887"
            ],
            [
             0.1111111111111111,
             "#46039f"
            ],
            [
             0.2222222222222222,
             "#7201a8"
            ],
            [
             0.3333333333333333,
             "#9c179e"
            ],
            [
             0.4444444444444444,
             "#bd3786"
            ],
            [
             0.5555555555555556,
             "#d8576b"
            ],
            [
             0.6666666666666666,
             "#ed7953"
            ],
            [
             0.7777777777777778,
             "#fb9f3a"
            ],
            [
             0.8888888888888888,
             "#fdca26"
            ],
            [
             1,
             "#f0f921"
            ]
           ],
           "sequentialminus": [
            [
             0,
             "#0d0887"
            ],
            [
             0.1111111111111111,
             "#46039f"
            ],
            [
             0.2222222222222222,
             "#7201a8"
            ],
            [
             0.3333333333333333,
             "#9c179e"
            ],
            [
             0.4444444444444444,
             "#bd3786"
            ],
            [
             0.5555555555555556,
             "#d8576b"
            ],
            [
             0.6666666666666666,
             "#ed7953"
            ],
            [
             0.7777777777777778,
             "#fb9f3a"
            ],
            [
             0.8888888888888888,
             "#fdca26"
            ],
            [
             1,
             "#f0f921"
            ]
           ]
          },
          "colorway": [
           "#636efa",
           "#EF553B",
           "#00cc96",
           "#ab63fa",
           "#FFA15A",
           "#19d3f3",
           "#FF6692",
           "#B6E880",
           "#FF97FF",
           "#FECB52"
          ],
          "font": {
           "color": "#2a3f5f"
          },
          "geo": {
           "bgcolor": "white",
           "lakecolor": "white",
           "landcolor": "#E5ECF6",
           "showlakes": true,
           "showland": true,
           "subunitcolor": "white"
          },
          "hoverlabel": {
           "align": "left"
          },
          "hovermode": "closest",
          "mapbox": {
           "style": "light"
          },
          "paper_bgcolor": "white",
          "plot_bgcolor": "#E5ECF6",
          "polar": {
           "angularaxis": {
            "gridcolor": "white",
            "linecolor": "white",
            "ticks": ""
           },
           "bgcolor": "#E5ECF6",
           "radialaxis": {
            "gridcolor": "white",
            "linecolor": "white",
            "ticks": ""
           }
          },
          "scene": {
           "xaxis": {
            "backgroundcolor": "#E5ECF6",
            "gridcolor": "white",
            "gridwidth": 2,
            "linecolor": "white",
            "showbackground": true,
            "ticks": "",
            "zerolinecolor": "white"
           },
           "yaxis": {
            "backgroundcolor": "#E5ECF6",
            "gridcolor": "white",
            "gridwidth": 2,
            "linecolor": "white",
            "showbackground": true,
            "ticks": "",
            "zerolinecolor": "white"
           },
           "zaxis": {
            "backgroundcolor": "#E5ECF6",
            "gridcolor": "white",
            "gridwidth": 2,
            "linecolor": "white",
            "showbackground": true,
            "ticks": "",
            "zerolinecolor": "white"
           }
          },
          "shapedefaults": {
           "line": {
            "color": "#2a3f5f"
           }
          },
          "ternary": {
           "aaxis": {
            "gridcolor": "white",
            "linecolor": "white",
            "ticks": ""
           },
           "baxis": {
            "gridcolor": "white",
            "linecolor": "white",
            "ticks": ""
           },
           "bgcolor": "#E5ECF6",
           "caxis": {
            "gridcolor": "white",
            "linecolor": "white",
            "ticks": ""
           }
          },
          "title": {
           "x": 0.05
          },
          "xaxis": {
           "automargin": true,
           "gridcolor": "white",
           "linecolor": "white",
           "ticks": "",
           "title": {
            "standoff": 15
           },
           "zerolinecolor": "white",
           "zerolinewidth": 2
          },
          "yaxis": {
           "automargin": true,
           "gridcolor": "white",
           "linecolor": "white",
           "ticks": "",
           "title": {
            "standoff": 15
           },
           "zerolinecolor": "white",
           "zerolinewidth": 2
          }
         }
        },
        "title": {
         "text": "Observed metric values with Pareto frontier"
        },
        "xaxis": {
         "range": [
          0.78593,
          0.95477
         ],
         "title": {
          "text": "accuracy"
         }
        },
        "yaxis": {
         "range": [
          -47.2,
          1095.2
         ],
         "title": {
          "text": "latency"
         }
        }
       }
      },
      "text/html": [
       "<div>                        <script type=\"text/javascript\">window.PlotlyConfig = {MathJaxConfig: 'local'};</script>\n",
       "        <script charset=\"utf-8\" src=\"https://cdn.plot.ly/plotly-2.35.2.min.js\"></script>                <div id=\"e6ee560f-44cd-4406-8f6e-d0184b50f1f6\" class=\"plotly-graph-div\" style=\"height:100%; width:100%;\"></div>            <script type=\"text/javascript\">                                    window.PLOTLYENV=window.PLOTLYENV || {};                                    if (document.getElementById(\"e6ee560f-44cd-4406-8f6e-d0184b50f1f6\")) {                    Plotly.newPlot(                        \"e6ee560f-44cd-4406-8f6e-d0184b50f1f6\",                        [{\"line\":{\"shape\":\"hv\"},\"marker\":{\"color\":\"rgba(128,177,211,1)\"},\"mode\":\"lines\",\"x\":[0.9407,0.9407,0.9285,0.9184,0.8978,0.8],\"y\":[1000.0,602.0,504.0,80.0,48.0,48.0],\"type\":\"scatter\"},{\"marker\":{\"color\":\"rgba(128,177,211,1)\"},\"mode\":\"lines\",\"x\":[0.9407,0.8],\"y\":[1000.0,1000.0],\"type\":\"scatter\"},{\"marker\":{\"color\":\"rgba(128,177,211,1)\"},\"mode\":\"lines\",\"x\":[0.8,0.8],\"y\":[48.0,1000.0],\"type\":\"scatter\"},{\"hovertemplate\":\"%{text}\",\"marker\":{\"color\":[0.0,5.0,10.0,15.0,20.0,25.0,30.0,35.0,40.0,45.0,50.0,55.0,60.0,65.0,70.0,75.0,80.0,85.0,90.0,95.0,100.0],\"colorbar\":{\"ticktext\":[1,\"iteration\",20],\"tickvals\":[0,50,100]},\"colorscale\":[[0.0,\"#000004\"],[0.1111111111111111,\"#180f3d\"],[0.2222222222222222,\"#440f76\"],[0.3333333333333333,\"#721f81\"],[0.4444444444444444,\"#9e2f7f\"],[0.5555555555555556,\"#cd4071\"],[0.6666666666666666,\"#f1605d\"],[0.7777777777777778,\"#fd9668\"],[0.8888888888888888,\"#feca8d\"],[1.0,\"#fcfdbf\"]]},\"mode\":\"markers\",\"name\":\"Experimental points\",\"text\":[\"Arm name: 0_0\",\"Arm name: 1_0\",\"Arm name: 2_0\",\"Arm name: 3_0\",\"Arm name: 4_0\",\"Arm name: 5_0\",\"Arm name: 6_0\",\"Arm name: 7_0\",\"Arm name: 8_0\",\"Arm name: 9_0\",\"Arm name: 10_0\",\"Arm name: 11_0\",\"Arm name: 12_0\",\"Arm name: 13_0\",\"Arm name: 14_0\",\"Arm name: 15_0\",\"Arm name: 16_0\",\"Arm name: 17_0\",\"Arm name: 18_0\",\"Arm name: 19_0\"],\"x\":[0.8761,0.898,0.9125,0.9276,0.8984,0.9171,0.8709,0.8688,0.9152,0.887,0.9184,0.8991,0.8978,0.9101,0.9138,0.8815,0.9407,0.8833,0.8932,0.9285],\"y\":[261.0,525.0,2540.0,756.0,2163.0,780.0,153.0,240.0,112.0,144.0,80.0,160.0,48.0,259.0,322.0,192.0,602.0,384.0,96.0,504.0],\"type\":\"scatter\"},{\"marker\":{\"color\":\"rgba(128,177,211,1)\",\"size\":25,\"symbol\":\"star\"},\"mode\":\"markers\",\"x\":[0.8],\"y\":[1000.0],\"type\":\"scatter\"}],                        {\"showlegend\":false,\"title\":{\"text\":\"Observed metric values with Pareto frontier\"},\"xaxis\":{\"range\":[0.78593,0.95477],\"title\":{\"text\":\"accuracy\"}},\"yaxis\":{\"range\":[-47.2,1095.2],\"title\":{\"text\":\"latency\"}},\"template\":{\"data\":{\"histogram2dcontour\":[{\"type\":\"histogram2dcontour\",\"colorbar\":{\"outlinewidth\":0,\"ticks\":\"\"},\"colorscale\":[[0.0,\"#0d0887\"],[0.1111111111111111,\"#46039f\"],[0.2222222222222222,\"#7201a8\"],[0.3333333333333333,\"#9c179e\"],[0.4444444444444444,\"#bd3786\"],[0.5555555555555556,\"#d8576b\"],[0.6666666666666666,\"#ed7953\"],[0.7777777777777778,\"#fb9f3a\"],[0.8888888888888888,\"#fdca26\"],[1.0,\"#f0f921\"]]}],\"choropleth\":[{\"type\":\"choropleth\",\"colorbar\":{\"outlinewidth\":0,\"ticks\":\"\"}}],\"histogram2d\":[{\"type\":\"histogram2d\",\"colorbar\":{\"outlinewidth\":0,\"ticks\":\"\"},\"colorscale\":[[0.0,\"#0d0887\"],[0.1111111111111111,\"#46039f\"],[0.2222222222222222,\"#7201a8\"],[0.3333333333333333,\"#9c179e\"],[0.4444444444444444,\"#bd3786\"],[0.5555555555555556,\"#d8576b\"],[0.6666666666666666,\"#ed7953\"],[0.7777777777777778,\"#fb9f3a\"],[0.8888888888888888,\"#fdca26\"],[1.0,\"#f0f921\"]]}],\"heatmap\":[{\"type\":\"heatmap\",\"colorbar\":{\"outlinewidth\":0,\"ticks\":\"\"},\"colorscale\":[[0.0,\"#0d0887\"],[0.1111111111111111,\"#46039f\"],[0.2222222222222222,\"#7201a8\"],[0.3333333333333333,\"#9c179e\"],[0.4444444444444444,\"#bd3786\"],[0.5555555555555556,\"#d8576b\"],[0.6666666666666666,\"#ed7953\"],[0.7777777777777778,\"#fb9f3a\"],[0.8888888888888888,\"#fdca26\"],[1.0,\"#f0f921\"]]}],\"heatmapgl\":[{\"type\":\"heatmapgl\",\"colorbar\":{\"outlinewidth\":0,\"ticks\":\"\"},\"colorscale\":[[0.0,\"#0d0887\"],[0.1111111111111111,\"#46039f\"],[0.2222222222222222,\"#7201a8\"],[0.3333333333333333,\"#9c179e\"],[0.4444444444444444,\"#bd3786\"],[0.5555555555555556,\"#d8576b\"],[0.6666666666666666,\"#ed7953\"],[0.7777777777777778,\"#fb9f3a\"],[0.8888888888888888,\"#fdca26\"],[1.0,\"#f0f921\"]]}],\"contourcarpet\":[{\"type\":\"contourcarpet\",\"colorbar\":{\"outlinewidth\":0,\"ticks\":\"\"}}],\"contour\":[{\"type\":\"contour\",\"colorbar\":{\"outlinewidth\":0,\"ticks\":\"\"},\"colorscale\":[[0.0,\"#0d0887\"],[0.1111111111111111,\"#46039f\"],[0.2222222222222222,\"#7201a8\"],[0.3333333333333333,\"#9c179e\"],[0.4444444444444444,\"#bd3786\"],[0.5555555555555556,\"#d8576b\"],[0.6666666666666666,\"#ed7953\"],[0.7777777777777778,\"#fb9f3a\"],[0.8888888888888888,\"#fdca26\"],[1.0,\"#f0f921\"]]}],\"surface\":[{\"type\":\"surface\",\"colorbar\":{\"outlinewidth\":0,\"ticks\":\"\"},\"colorscale\":[[0.0,\"#0d0887\"],[0.1111111111111111,\"#46039f\"],[0.2222222222222222,\"#7201a8\"],[0.3333333333333333,\"#9c179e\"],[0.4444444444444444,\"#bd3786\"],[0.5555555555555556,\"#d8576b\"],[0.6666666666666666,\"#ed7953\"],[0.7777777777777778,\"#fb9f3a\"],[0.8888888888888888,\"#fdca26\"],[1.0,\"#f0f921\"]]}],\"mesh3d\":[{\"type\":\"mesh3d\",\"colorbar\":{\"outlinewidth\":0,\"ticks\":\"\"}}],\"scatter\":[{\"fillpattern\":{\"fillmode\":\"overlay\",\"size\":10,\"solidity\":0.2},\"type\":\"scatter\"}],\"parcoords\":[{\"type\":\"parcoords\",\"line\":{\"colorbar\":{\"outlinewidth\":0,\"ticks\":\"\"}}}],\"scatterpolargl\":[{\"type\":\"scatterpolargl\",\"marker\":{\"colorbar\":{\"outlinewidth\":0,\"ticks\":\"\"}}}],\"bar\":[{\"error_x\":{\"color\":\"#2a3f5f\"},\"error_y\":{\"color\":\"#2a3f5f\"},\"marker\":{\"line\":{\"color\":\"#E5ECF6\",\"width\":0.5},\"pattern\":{\"fillmode\":\"overlay\",\"size\":10,\"solidity\":0.2}},\"type\":\"bar\"}],\"scattergeo\":[{\"type\":\"scattergeo\",\"marker\":{\"colorbar\":{\"outlinewidth\":0,\"ticks\":\"\"}}}],\"scatterpolar\":[{\"type\":\"scatterpolar\",\"marker\":{\"colorbar\":{\"outlinewidth\":0,\"ticks\":\"\"}}}],\"histogram\":[{\"marker\":{\"pattern\":{\"fillmode\":\"overlay\",\"size\":10,\"solidity\":0.2}},\"type\":\"histogram\"}],\"scattergl\":[{\"type\":\"scattergl\",\"marker\":{\"colorbar\":{\"outlinewidth\":0,\"ticks\":\"\"}}}],\"scatter3d\":[{\"type\":\"scatter3d\",\"line\":{\"colorbar\":{\"outlinewidth\":0,\"ticks\":\"\"}},\"marker\":{\"colorbar\":{\"outlinewidth\":0,\"ticks\":\"\"}}}],\"scattermapbox\":[{\"type\":\"scattermapbox\",\"marker\":{\"colorbar\":{\"outlinewidth\":0,\"ticks\":\"\"}}}],\"scatterternary\":[{\"type\":\"scatterternary\",\"marker\":{\"colorbar\":{\"outlinewidth\":0,\"ticks\":\"\"}}}],\"scattercarpet\":[{\"type\":\"scattercarpet\",\"marker\":{\"colorbar\":{\"outlinewidth\":0,\"ticks\":\"\"}}}],\"carpet\":[{\"aaxis\":{\"endlinecolor\":\"#2a3f5f\",\"gridcolor\":\"white\",\"linecolor\":\"white\",\"minorgridcolor\":\"white\",\"startlinecolor\":\"#2a3f5f\"},\"baxis\":{\"endlinecolor\":\"#2a3f5f\",\"gridcolor\":\"white\",\"linecolor\":\"white\",\"minorgridcolor\":\"white\",\"startlinecolor\":\"#2a3f5f\"},\"type\":\"carpet\"}],\"table\":[{\"cells\":{\"fill\":{\"color\":\"#EBF0F8\"},\"line\":{\"color\":\"white\"}},\"header\":{\"fill\":{\"color\":\"#C8D4E3\"},\"line\":{\"color\":\"white\"}},\"type\":\"table\"}],\"barpolar\":[{\"marker\":{\"line\":{\"color\":\"#E5ECF6\",\"width\":0.5},\"pattern\":{\"fillmode\":\"overlay\",\"size\":10,\"solidity\":0.2}},\"type\":\"barpolar\"}],\"pie\":[{\"automargin\":true,\"type\":\"pie\"}]},\"layout\":{\"autotypenumbers\":\"strict\",\"colorway\":[\"#636efa\",\"#EF553B\",\"#00cc96\",\"#ab63fa\",\"#FFA15A\",\"#19d3f3\",\"#FF6692\",\"#B6E880\",\"#FF97FF\",\"#FECB52\"],\"font\":{\"color\":\"#2a3f5f\"},\"hovermode\":\"closest\",\"hoverlabel\":{\"align\":\"left\"},\"paper_bgcolor\":\"white\",\"plot_bgcolor\":\"#E5ECF6\",\"polar\":{\"bgcolor\":\"#E5ECF6\",\"angularaxis\":{\"gridcolor\":\"white\",\"linecolor\":\"white\",\"ticks\":\"\"},\"radialaxis\":{\"gridcolor\":\"white\",\"linecolor\":\"white\",\"ticks\":\"\"}},\"ternary\":{\"bgcolor\":\"#E5ECF6\",\"aaxis\":{\"gridcolor\":\"white\",\"linecolor\":\"white\",\"ticks\":\"\"},\"baxis\":{\"gridcolor\":\"white\",\"linecolor\":\"white\",\"ticks\":\"\"},\"caxis\":{\"gridcolor\":\"white\",\"linecolor\":\"white\",\"ticks\":\"\"}},\"coloraxis\":{\"colorbar\":{\"outlinewidth\":0,\"ticks\":\"\"}},\"colorscale\":{\"sequential\":[[0.0,\"#0d0887\"],[0.1111111111111111,\"#46039f\"],[0.2222222222222222,\"#7201a8\"],[0.3333333333333333,\"#9c179e\"],[0.4444444444444444,\"#bd3786\"],[0.5555555555555556,\"#d8576b\"],[0.6666666666666666,\"#ed7953\"],[0.7777777777777778,\"#fb9f3a\"],[0.8888888888888888,\"#fdca26\"],[1.0,\"#f0f921\"]],\"sequentialminus\":[[0.0,\"#0d0887\"],[0.1111111111111111,\"#46039f\"],[0.2222222222222222,\"#7201a8\"],[0.3333333333333333,\"#9c179e\"],[0.4444444444444444,\"#bd3786\"],[0.5555555555555556,\"#d8576b\"],[0.6666666666666666,\"#ed7953\"],[0.7777777777777778,\"#fb9f3a\"],[0.8888888888888888,\"#fdca26\"],[1.0,\"#f0f921\"]],\"diverging\":[[0,\"#8e0152\"],[0.1,\"#c51b7d\"],[0.2,\"#de77ae\"],[0.3,\"#f1b6da\"],[0.4,\"#fde0ef\"],[0.5,\"#f7f7f7\"],[0.6,\"#e6f5d0\"],[0.7,\"#b8e186\"],[0.8,\"#7fbc41\"],[0.9,\"#4d9221\"],[1,\"#276419\"]]},\"xaxis\":{\"gridcolor\":\"white\",\"linecolor\":\"white\",\"ticks\":\"\",\"title\":{\"standoff\":15},\"zerolinecolor\":\"white\",\"automargin\":true,\"zerolinewidth\":2},\"yaxis\":{\"gridcolor\":\"white\",\"linecolor\":\"white\",\"ticks\":\"\",\"title\":{\"standoff\":15},\"zerolinecolor\":\"white\",\"automargin\":true,\"zerolinewidth\":2},\"scene\":{\"xaxis\":{\"backgroundcolor\":\"#E5ECF6\",\"gridcolor\":\"white\",\"linecolor\":\"white\",\"showbackground\":true,\"ticks\":\"\",\"zerolinecolor\":\"white\",\"gridwidth\":2},\"yaxis\":{\"backgroundcolor\":\"#E5ECF6\",\"gridcolor\":\"white\",\"linecolor\":\"white\",\"showbackground\":true,\"ticks\":\"\",\"zerolinecolor\":\"white\",\"gridwidth\":2},\"zaxis\":{\"backgroundcolor\":\"#E5ECF6\",\"gridcolor\":\"white\",\"linecolor\":\"white\",\"showbackground\":true,\"ticks\":\"\",\"zerolinecolor\":\"white\",\"gridwidth\":2}},\"shapedefaults\":{\"line\":{\"color\":\"#2a3f5f\"}},\"annotationdefaults\":{\"arrowcolor\":\"#2a3f5f\",\"arrowhead\":0,\"arrowwidth\":1},\"geo\":{\"bgcolor\":\"white\",\"landcolor\":\"#E5ECF6\",\"subunitcolor\":\"white\",\"showland\":true,\"showlakes\":true,\"lakecolor\":\"white\"},\"title\":{\"x\":0.05},\"mapbox\":{\"style\":\"light\"}}}},                        {\"responsive\": true}                    )                };                            </script>        </div>"
      ],
      "text/plain": [
       "Figure({\n",
       "    'data': [{'line': {'shape': 'hv'},\n",
       "              'marker': {'color': 'rgba(128,177,211,1)'},\n",
       "              'mode': 'lines',\n",
       "              'type': 'scatter',\n",
       "              'x': array([0.9407, 0.9407, 0.9285, 0.9184, 0.8978, 0.8   ]),\n",
       "              'y': array([1000.,  602.,  504.,   80.,   48.,   48.])},\n",
       "             {'marker': {'color': 'rgba(128,177,211,1)'},\n",
       "              'mode': 'lines',\n",
       "              'type': 'scatter',\n",
       "              'x': [0.9407, 0.8],\n",
       "              'y': [1000.0, 1000.0]},\n",
       "             {'marker': {'color': 'rgba(128,177,211,1)'},\n",
       "              'mode': 'lines',\n",
       "              'type': 'scatter',\n",
       "              'x': [0.8, 0.8],\n",
       "              'y': [48.0, 1000.0]},\n",
       "             {'hovertemplate': '%{text}',\n",
       "              'marker': {'color': array([  0.,   5.,  10.,  15.,  20.,  25.,  30.,  35.,  40.,  45.,  50.,  55.,\n",
       "                                          60.,  65.,  70.,  75.,  80.,  85.,  90.,  95., 100.]),\n",
       "                         'colorbar': {'ticktext': [1, 'iteration', 20], 'tickvals': [0, 50, 100]},\n",
       "                         'colorscale': [[0.0, '#000004'], [0.1111111111111111,\n",
       "                                        '#180f3d'], [0.2222222222222222,\n",
       "                                        '#440f76'], [0.3333333333333333,\n",
       "                                        '#721f81'], [0.4444444444444444,\n",
       "                                        '#9e2f7f'], [0.5555555555555556,\n",
       "                                        '#cd4071'], [0.6666666666666666,\n",
       "                                        '#f1605d'], [0.7777777777777778,\n",
       "                                        '#fd9668'], [0.8888888888888888,\n",
       "                                        '#feca8d'], [1.0, '#fcfdbf']]},\n",
       "              'mode': 'markers',\n",
       "              'name': 'Experimental points',\n",
       "              'text': [Arm name: 0_0, Arm name: 1_0, Arm name: 2_0, Arm name: 3_0,\n",
       "                       Arm name: 4_0, Arm name: 5_0, Arm name: 6_0, Arm name: 7_0,\n",
       "                       Arm name: 8_0, Arm name: 9_0, Arm name: 10_0, Arm name:\n",
       "                       11_0, Arm name: 12_0, Arm name: 13_0, Arm name: 14_0, Arm\n",
       "                       name: 15_0, Arm name: 16_0, Arm name: 17_0, Arm name: 18_0,\n",
       "                       Arm name: 19_0],\n",
       "              'type': 'scatter',\n",
       "              'x': array([0.8761, 0.898 , 0.9125, 0.9276, 0.8984, 0.9171, 0.8709, 0.8688, 0.9152,\n",
       "                          0.887 , 0.9184, 0.8991, 0.8978, 0.9101, 0.9138, 0.8815, 0.9407, 0.8833,\n",
       "                          0.8932, 0.9285]),\n",
       "              'y': array([ 261.,  525., 2540.,  756., 2163.,  780.,  153.,  240.,  112.,  144.,\n",
       "                            80.,  160.,   48.,  259.,  322.,  192.,  602.,  384.,   96.,  504.])},\n",
       "             {'marker': {'color': 'rgba(128,177,211,1)', 'size': 25, 'symbol': 'star'},\n",
       "              'mode': 'markers',\n",
       "              'type': 'scatter',\n",
       "              'x': [0.8],\n",
       "              'y': [1000.0]}],\n",
       "    'layout': {'showlegend': False,\n",
       "               'template': '...',\n",
       "               'title': {'text': 'Observed metric values with Pareto frontier'},\n",
       "               'xaxis': {'range': [0.78593, 0.95477], 'title': {'text': 'accuracy'}},\n",
       "               'yaxis': {'range': [-47.2, 1095.2], 'title': {'text': 'latency'}}}\n",
       "})"
      ]
     },
     "execution_count": 7,
     "metadata": {},
     "output_type": "execute_result"
    }
   ],
   "source": [
    "from ax.service.utils.report_utils import _pareto_frontier_scatter_2d_plotly\n",
    "\n",
    "_pareto_frontier_scatter_2d_plotly(ax_client.experiment)"
   ]
  },
  {
   "cell_type": "code",
   "execution_count": 6,
   "metadata": {},
   "outputs": [
    {
     "name": "stdout",
     "output_type": "stream",
     "text": [
      "Requirement already satisfied: nbformat in /Users/sidharrthnagappan/.virtualenvs/lsdp_miniproject/lib/python3.11/site-packages (4.2.0)\n",
      "Collecting nbformat\n",
      "  Using cached nbformat-5.10.4-py3-none-any.whl.metadata (3.6 kB)\n",
      "Collecting fastjsonschema>=2.15 (from nbformat)\n",
      "  Using cached fastjsonschema-2.21.1-py3-none-any.whl.metadata (2.2 kB)\n",
      "Requirement already satisfied: jsonschema>=2.6 in /Users/sidharrthnagappan/.virtualenvs/lsdp_miniproject/lib/python3.11/site-packages (from nbformat) (4.23.0)\n",
      "Requirement already satisfied: jupyter-core!=5.0.*,>=4.12 in /Users/sidharrthnagappan/.virtualenvs/lsdp_miniproject/lib/python3.11/site-packages (from nbformat) (5.7.2)\n",
      "Requirement already satisfied: traitlets>=5.1 in /Users/sidharrthnagappan/.virtualenvs/lsdp_miniproject/lib/python3.11/site-packages (from nbformat) (5.14.3)\n",
      "Requirement already satisfied: attrs>=22.2.0 in /Users/sidharrthnagappan/.virtualenvs/lsdp_miniproject/lib/python3.11/site-packages (from jsonschema>=2.6->nbformat) (24.2.0)\n",
      "Requirement already satisfied: jsonschema-specifications>=2023.03.6 in /Users/sidharrthnagappan/.virtualenvs/lsdp_miniproject/lib/python3.11/site-packages (from jsonschema>=2.6->nbformat) (2024.10.1)\n",
      "Requirement already satisfied: referencing>=0.28.4 in /Users/sidharrthnagappan/.virtualenvs/lsdp_miniproject/lib/python3.11/site-packages (from jsonschema>=2.6->nbformat) (0.35.1)\n",
      "Requirement already satisfied: rpds-py>=0.7.1 in /Users/sidharrthnagappan/.virtualenvs/lsdp_miniproject/lib/python3.11/site-packages (from jsonschema>=2.6->nbformat) (0.21.0)\n",
      "Requirement already satisfied: platformdirs>=2.5 in /Users/sidharrthnagappan/.virtualenvs/lsdp_miniproject/lib/python3.11/site-packages (from jupyter-core!=5.0.*,>=4.12->nbformat) (4.3.6)\n",
      "Using cached nbformat-5.10.4-py3-none-any.whl (78 kB)\n",
      "Using cached fastjsonschema-2.21.1-py3-none-any.whl (23 kB)\n",
      "Installing collected packages: fastjsonschema, nbformat\n",
      "  Attempting uninstall: nbformat\n",
      "    Found existing installation: nbformat 4.2.0\n",
      "    Uninstalling nbformat-4.2.0:\n",
      "      Successfully uninstalled nbformat-4.2.0\n",
      "Successfully installed fastjsonschema-2.21.1 nbformat-5.10.4\n"
     ]
    }
   ],
   "source": [
    "!pip install --upgrade nbformat"
   ]
  },
  {
   "cell_type": "code",
   "execution_count": null,
   "metadata": {},
   "outputs": [],
   "source": []
  }
 ],
 "metadata": {
  "kernelspec": {
   "display_name": "lsdp_miniproject",
   "language": "python",
   "name": "python3"
  },
  "language_info": {
   "codemirror_mode": {
    "name": "ipython",
    "version": 3
   },
   "file_extension": ".py",
   "mimetype": "text/x-python",
   "name": "python",
   "nbconvert_exporter": "python",
   "pygments_lexer": "ipython3",
   "version": "3.11.0"
  }
 },
 "nbformat": 4,
 "nbformat_minor": 2
}
