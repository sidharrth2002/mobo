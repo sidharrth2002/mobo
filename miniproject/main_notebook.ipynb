{
 "cells": [
  {
   "cell_type": "markdown",
   "metadata": {},
   "source": [
    "# Scaling Multi-Objective Bayesian Optimisation using RayTune\n",
    "\n",
    "This notebook will explore various Multi-Objective Bayesian Optimisation algorithms and evaluate their distributed schedulers for fast, efficient scaling. The task at hand is Neural Architecture Search (NAS), and the following auxiliary frameworks will be used:\n",
    "\n",
    "1. **Ax**: Abstraction on top of the popular BoTorch library\n",
    "2. **Optuna**: Uses tree-structured Parzen Estimator (TPE) for Bayesian optimisation\n",
    "\n",
    "**RayTune** is the scalable optimisation framework that acts as a distributed backbone for these auxiliary algorithms, and helps scale them in distributed environments. The notebook compares their performance on NAS tasks of varying performances, and in particular, probes their scheduling algorithms that control execution and search speed."
   ]
  },
  {
   "cell_type": "code",
   "execution_count": 1,
   "metadata": {},
   "outputs": [],
   "source": [
    "import time\n",
    "import ray\n",
    "from ray import train, tune\n",
    "from ray.tune.schedulers import AsyncHyperBandScheduler\n",
    "from ray.tune.search.optuna import OptunaSearch"
   ]
  },
  {
   "cell_type": "markdown",
   "metadata": {},
   "source": [
    "## Neural Architecture Search (NAS)\n",
    "\n",
    "NAS is a high-level optimisation problem that aims to find the most optimal neural network architecture for specific tasks. Naturally, there are several considerations when designing a neural network, such as the tradeoff between model size and performance and the computational complexity of layers. A large search space requires *multi-objective* optimisation, with Bayesian methods being particularly useful because it is infeasible to train and evaluate every possible architecture. "
   ]
  },
  {
   "cell_type": "markdown",
   "metadata": {},
   "source": [
    "### With Ax"
   ]
  },
  {
   "cell_type": "code",
   "execution_count": 2,
   "metadata": {},
   "outputs": [],
   "source": [
    "from dataclasses import dataclass\n",
    "import tempfile\n",
    "from filelock import FileLock\n",
    "import pytorch_lightning as pl\n",
    "import torch\n",
    "import torch.nn as nn\n",
    "import torch.nn.functional as F\n",
    "from torchvision import transforms\n",
    "from torchvision.datasets import MNIST\n",
    "from torch.utils.data import DataLoader, random_split\n",
    "from ray.train.lightning import (\n",
    "    RayDDPStrategy,\n",
    "    RayLightningEnvironment,\n",
    "    RayTrainReportCallback,\n",
    "    prepare_trainer,\n",
    ")\n",
    "from torchmetrics import Accuracy\n",
    "\n",
    "\n",
    "@dataclass\n",
    "class ModelConfig:\n",
    "    learning_rate: float\n",
    "    batch_size: int\n",
    "    layer_1_size: int\n",
    "    layer_2_size: int\n",
    "    layer_3_size: int\n",
    "    dropout: float\n",
    "\n",
    "\n",
    "class MNISTClassifier(pl.LightningModule):\n",
    "    def __init__(self, config):\n",
    "        super().__init__()\n",
    "        self.config = config\n",
    "\n",
    "        self.accuracy = Accuracy(task=\"multiclass\", num_classes=10, top_k=1)\n",
    "\n",
    "        # model parameters\n",
    "        self.layer1 = nn.Linear(28 * 28, config.layer_1_size)\n",
    "        self.layer2 = nn.Linear(config.layer_1_size, config.layer_2_size)\n",
    "        self.layer3 = nn.Linear(config.layer_2_size, config.layer_3_size)\n",
    "        self.layer4 = nn.Linear(config.layer_3_size, 10)\n",
    "        self.dropout = nn.Dropout(config.dropout)\n",
    "\n",
    "        # training parameters\n",
    "        self.learning_rate = config.learning_rate\n",
    "\n",
    "        self.eval_loss = []\n",
    "        self.eval_accuracy = []\n",
    "\n",
    "    def forward(self, x):\n",
    "        batch_size, channels, width, height = x.size()\n",
    "\n",
    "        x = x.view(batch_size, -1)\n",
    "\n",
    "        x = F.relu(self.layer1(x))\n",
    "        x = self.dropout(x)\n",
    "\n",
    "        x = F.relu(self.layer2(x))\n",
    "        x = self.dropout(x)\n",
    "\n",
    "        x = F.relu(self.layer3(x))\n",
    "        x = self.dropout(x)\n",
    "\n",
    "        x = self.layer4(x)\n",
    "        x = torch.log_softmax(x, dim=1)\n",
    "        return x\n",
    "\n",
    "    def cross_entropy_loss(self, logits, labels):\n",
    "        \"\"\"\n",
    "        Apply NLL loss because softmax is applied in the forward function\n",
    "        \"\"\"\n",
    "        return F.nll_loss(logits, labels)\n",
    "\n",
    "    def training_step(self, train_batch, batch_idx):\n",
    "        x, y = train_batch\n",
    "        logits = self.forward(x)\n",
    "        loss = self.cross_entropy_loss(logits, y)\n",
    "        accuracy = self.accuracy(logits, y)\n",
    "\n",
    "        self.log(\"ptl/train_loss\", loss)\n",
    "        self.log(\"ptl/train_accuracy\", accuracy)\n",
    "\n",
    "        return loss\n",
    "\n",
    "    def validation_step(self, val_batch, batch_idx):\n",
    "        x, y = val_batch\n",
    "        logits = self.forward(x)\n",
    "        loss = self.cross_entropy_loss(logits, y)\n",
    "        accuracy = self.accuracy(logits, y)\n",
    "\n",
    "        self.eval_loss.append(loss)\n",
    "        self.eval_accuracy.append(accuracy)\n",
    "\n",
    "        return {\"val_loss\": loss, \"val_accuracy\": accuracy}\n",
    "\n",
    "    def on_validation_epoch_end(self):\n",
    "        avg_loss = torch.stack(self.eval_loss).mean()\n",
    "        avg_acc = torch.stack(self.eval_accuracy).mean()\n",
    "        self.log(\"ptl/val_loss\", avg_loss, sync_dist=True)\n",
    "        self.log(\"ptl/val_accuracy\", avg_acc, sync_dist=True)\n",
    "        self.eval_loss.clear()\n",
    "        self.eval_accuracy.clear()\n",
    "\n",
    "    def configure_optimizers(self):\n",
    "        optimizer = torch.optim.Adam(self.parameters(), lr=self.learning_rate)\n",
    "        return optimizer\n",
    "\n",
    "\n",
    "class MNISTDataModule(pl.LightningDataModule):\n",
    "    def __init__(self, batch_size=128):\n",
    "        super().__init__()\n",
    "        self.data_dir = tempfile.mkdtemp()\n",
    "        self.batch_size = batch_size\n",
    "        self.transform = transforms.Compose(\n",
    "            [transforms.ToTensor(), transforms.Normalize((0.1307,), (0.3081,))]\n",
    "        )\n",
    "\n",
    "    def setup(self, stage=None):\n",
    "        with FileLock(f\"{self.data_dir}.lock\"):\n",
    "            mnist = MNIST(\n",
    "                self.data_dir, train=True, download=True, transform=self.transform\n",
    "            )\n",
    "            self.mnist_train, self.mnist_val = random_split(mnist, [55000, 5000])\n",
    "            self.mnist_test = MNIST(\n",
    "                self.data_dir, train=False, download=True, transform=self.transform\n",
    "            )\n",
    "\n",
    "    def train_dataloader(self):\n",
    "        return DataLoader(self.mnist_train, \n",
    "                          self.batch_size, num_workers=4)\n",
    "\n",
    "    def val_dataloader(self):\n",
    "        return DataLoader(self.mnist_val, batch_size=self.batch_size, num_workers=4)\n",
    "\n",
    "    def test_dataloader(self):\n",
    "        return DataLoader(self.mnist_test, batch_size=self.batch_size, num_workers=4)\n",
    "\n",
    "\n",
    "def train_func(config):\n",
    "    print(\"printing config\", config)\n",
    "    with open(\"config.txt\", \"w\") as f:\n",
    "        f.write(str(config))\n",
    "    data_module = MNISTDataModule(batch_size=config[\"batch_size\"])\n",
    "\n",
    "    # instantiate config object\n",
    "    config = ModelConfig(\n",
    "        learning_rate=config[\"learning_rate\"],\n",
    "        batch_size=config[\"batch_size\"],\n",
    "        layer_1_size=config[\"layer_1_size\"],\n",
    "        layer_2_size=config[\"layer_2_size\"],\n",
    "        layer_3_size=config[\"layer_3_size\"],\n",
    "        dropout=config[\"dropout\"],\n",
    "    )\n",
    "\n",
    "    model = MNISTClassifier(config=config)\n",
    "\n",
    "    trainer = pl.Trainer(\n",
    "        devices=1,\n",
    "        accelerator=\"cpu\",\n",
    "        strategy=RayDDPStrategy(),\n",
    "        callbacks=[RayTrainReportCallback()],\n",
    "        plugins=[RayLightningEnvironment()],\n",
    "        enable_progress_bar=False,\n",
    "    )\n",
    "\n",
    "    trainer = prepare_trainer(trainer)\n",
    "    trainer.fit(model, datamodule=data_module)"
   ]
  },
  {
   "cell_type": "code",
   "execution_count": 3,
   "metadata": {},
   "outputs": [],
   "source": [
    "search_space = {\n",
    "    \"layer_1_size\": tune.choice([32, 64, 128]),\n",
    "    \"layer_2_size\": tune.choice([64, 128, 256]),\n",
    "    \"layer_3_size\": tune.choice([128, 256, 512]),\n",
    "    \"dropout\": tune.uniform(0.1, 0.3),\n",
    "    \"batch_size\": tune.choice([32, 64, 128]),\n",
    "    \"learning_rate\": tune.loguniform(1e-4, 1e-1),\n",
    "}"
   ]
  },
  {
   "cell_type": "code",
   "execution_count": 4,
   "metadata": {},
   "outputs": [],
   "source": [
    "from ray.train import RunConfig, ScalingConfig, CheckpointConfig\n",
    "\n",
    "# scaling_config = ScalingConfig(\n",
    "#     num_workers=3,\n",
    "#     use_gpu=True,\n",
    "#     resources_per_worker={\"CPU\": 1, \"GPU\": 1}\n",
    "# )\n",
    "\n",
    "run_config = RunConfig(\n",
    "    checkpoint_config=CheckpointConfig(\n",
    "        num_to_keep=2,\n",
    "        checkpoint_score_attribute=\"ptl/val_accuracy\",\n",
    "        checkpoint_score_order=\"max\"\n",
    "    )\n",
    ")"
   ]
  },
  {
   "cell_type": "code",
   "execution_count": 5,
   "metadata": {},
   "outputs": [],
   "source": [
    "from ray.train.torch import TorchTrainer\n",
    "\n",
    "ray_trainer = TorchTrainer(\n",
    "    train_func,\n",
    "    # scaling_config=scaling_config,\n",
    "    run_config=run_config,\n",
    ")"
   ]
  },
  {
   "cell_type": "code",
   "execution_count": 6,
   "metadata": {},
   "outputs": [],
   "source": [
    "from ray.tune.schedulers import ASHAScheduler\n",
    "\n",
    "num_epochs = 5\n",
    "num_samples = 100\n",
    "\n",
    "scheduler = ASHAScheduler(\n",
    "    max_t=num_epochs,\n",
    "    grace_period=1,\n",
    "    reduction_factor=2\n",
    ")"
   ]
  },
  {
   "cell_type": "code",
   "execution_count": 7,
   "metadata": {},
   "outputs": [
    {
     "name": "stderr",
     "output_type": "stream",
     "text": [
      "[WARNING 12-24 17:34:19] ax.service.utils.with_db_settings_base: Ax currently requires a sqlalchemy version below 2.0. This will be addressed in a future release. Disabling SQL storage in Ax for now, if you would like to use SQL storage please install Ax with mysql extras via `pip install ax-platform[mysql]`.\n"
     ]
    }
   ],
   "source": [
    "from ray.tune.search.ax import AxSearch\n",
    "\n",
    "algorithm = AxSearch()\n",
    "\n",
    "# restrict to 4 concurrent trials\n",
    "algorithm = tune.search.ConcurrencyLimiter(algorithm, max_concurrent=4)"
   ]
  },
  {
   "cell_type": "code",
   "execution_count": 8,
   "metadata": {},
   "outputs": [
    {
     "data": {
      "text/html": [
       "<div class=\"tuneStatus\">\n",
       "  <div style=\"display: flex;flex-direction: row\">\n",
       "    <div style=\"display: flex;flex-direction: column;\">\n",
       "      <h3>Tune Status</h3>\n",
       "      <table>\n",
       "<tbody>\n",
       "<tr><td>Current time:</td><td>2024-12-24 17:40:21</td></tr>\n",
       "<tr><td>Running for: </td><td>00:06:00.62        </td></tr>\n",
       "<tr><td>Memory:      </td><td>25.4/32.0 GiB      </td></tr>\n",
       "</tbody>\n",
       "</table>\n",
       "    </div>\n",
       "    <div class=\"vDivider\"></div>\n",
       "    <div class=\"systemInfo\">\n",
       "      <h3>System Info</h3>\n",
       "      Using AsyncHyperBand: num_stopped=35<br>Bracket: Iter 4.000: 0.9701172113418579 | Iter 2.000: 0.9574218988418579 | Iter 1.000: 0.9241639971733093<br>Logical resource usage: 10.0/10 CPUs, 0/0 GPUs\n",
       "    </div>\n",
       "    \n",
       "  </div>\n",
       "  <div class=\"hDivider\"></div>\n",
       "  <div class=\"trialStatus\">\n",
       "    <h3>Trial Status</h3>\n",
       "    <table>\n",
       "<thead>\n",
       "<tr><th>Trial name              </th><th>status    </th><th>loc            </th><th style=\"text-align: right;\">    train_loop_config/ba\n",
       "tch_size</th><th style=\"text-align: right;\">         train_loop_config/dr\n",
       "opout</th><th style=\"text-align: right;\">    train_loop_config/la\n",
       "yer_1_size</th><th style=\"text-align: right;\">    train_loop_config/la\n",
       "yer_2_size</th><th style=\"text-align: right;\">    train_loop_config/la\n",
       "yer_3_size</th><th style=\"text-align: right;\">            train_loop_config/le\n",
       "arning_rate</th><th style=\"text-align: right;\">  iter</th><th style=\"text-align: right;\">  total time (s)</th><th style=\"text-align: right;\">  ptl/train_loss</th><th style=\"text-align: right;\">  ptl/train_accuracy</th><th style=\"text-align: right;\">  ptl/val_loss</th></tr>\n",
       "</thead>\n",
       "<tbody>\n",
       "<tr><td>TorchTrainer_4f4b8_00034</td><td>RUNNING   </td><td>127.0.0.1:56482</td><td style=\"text-align: right;\">128</td><td style=\"text-align: right;\">0.23891 </td><td style=\"text-align: right;\">128</td><td style=\"text-align: right;\"> 64</td><td style=\"text-align: right;\">128</td><td style=\"text-align: right;\">0.00245667 </td><td style=\"text-align: right;\">     3</td><td style=\"text-align: right;\">         46.6424</td><td style=\"text-align: right;\">      0.154768  </td><td style=\"text-align: right;\">           0.965909 </td><td style=\"text-align: right;\">     0.103128 </td></tr>\n",
       "<tr><td>TorchTrainer_4f4b8_00035</td><td>RUNNING   </td><td>127.0.0.1:56577</td><td style=\"text-align: right;\"> 64</td><td style=\"text-align: right;\">0.151442</td><td style=\"text-align: right;\"> 64</td><td style=\"text-align: right;\"> 64</td><td style=\"text-align: right;\">256</td><td style=\"text-align: right;\">0.00297387 </td><td style=\"text-align: right;\">     1</td><td style=\"text-align: right;\">         31.2849</td><td style=\"text-align: right;\">      0.300558  </td><td style=\"text-align: right;\">           0.875    </td><td style=\"text-align: right;\">     0.213082 </td></tr>\n",
       "<tr><td>TorchTrainer_4f4b8_00037</td><td>RUNNING   </td><td>127.0.0.1:56933</td><td style=\"text-align: right;\"> 64</td><td style=\"text-align: right;\">0.238714</td><td style=\"text-align: right;\">128</td><td style=\"text-align: right;\">256</td><td style=\"text-align: right;\">256</td><td style=\"text-align: right;\">0.000252594</td><td style=\"text-align: right;\">      </td><td style=\"text-align: right;\">                </td><td style=\"text-align: right;\">                </td><td style=\"text-align: right;\">                    </td><td style=\"text-align: right;\">              </td></tr>\n",
       "<tr><td>TorchTrainer_4f4b8_00038</td><td>RUNNING   </td><td>127.0.0.1:57080</td><td style=\"text-align: right;\"> 64</td><td style=\"text-align: right;\">0.213271</td><td style=\"text-align: right;\"> 64</td><td style=\"text-align: right;\">128</td><td style=\"text-align: right;\">512</td><td style=\"text-align: right;\">0.00654806 </td><td style=\"text-align: right;\">      </td><td style=\"text-align: right;\">                </td><td style=\"text-align: right;\">                </td><td style=\"text-align: right;\">                    </td><td style=\"text-align: right;\">              </td></tr>\n",
       "<tr><td>TorchTrainer_4f4b8_00039</td><td>PENDING   </td><td>               </td><td style=\"text-align: right;\"> 32</td><td style=\"text-align: right;\">0.100271</td><td style=\"text-align: right;\"> 64</td><td style=\"text-align: right;\">128</td><td style=\"text-align: right;\">128</td><td style=\"text-align: right;\">0.000578316</td><td style=\"text-align: right;\">      </td><td style=\"text-align: right;\">                </td><td style=\"text-align: right;\">                </td><td style=\"text-align: right;\">                    </td><td style=\"text-align: right;\">              </td></tr>\n",
       "<tr><td>TorchTrainer_4f4b8_00040</td><td>PENDING   </td><td>               </td><td style=\"text-align: right;\">128</td><td style=\"text-align: right;\">0.208088</td><td style=\"text-align: right;\"> 32</td><td style=\"text-align: right;\"> 64</td><td style=\"text-align: right;\">128</td><td style=\"text-align: right;\">0.00178802 </td><td style=\"text-align: right;\">      </td><td style=\"text-align: right;\">                </td><td style=\"text-align: right;\">                </td><td style=\"text-align: right;\">                    </td><td style=\"text-align: right;\">              </td></tr>\n",
       "<tr><td>TorchTrainer_4f4b8_00041</td><td>PENDING   </td><td>               </td><td style=\"text-align: right;\"> 32</td><td style=\"text-align: right;\">0.174195</td><td style=\"text-align: right;\"> 32</td><td style=\"text-align: right;\">128</td><td style=\"text-align: right;\">128</td><td style=\"text-align: right;\">0.000138052</td><td style=\"text-align: right;\">      </td><td style=\"text-align: right;\">                </td><td style=\"text-align: right;\">                </td><td style=\"text-align: right;\">                    </td><td style=\"text-align: right;\">              </td></tr>\n",
       "<tr><td>TorchTrainer_4f4b8_00042</td><td>PENDING   </td><td>               </td><td style=\"text-align: right;\"> 32</td><td style=\"text-align: right;\">0.210235</td><td style=\"text-align: right;\">128</td><td style=\"text-align: right;\">128</td><td style=\"text-align: right;\">512</td><td style=\"text-align: right;\">0.00460865 </td><td style=\"text-align: right;\">      </td><td style=\"text-align: right;\">                </td><td style=\"text-align: right;\">                </td><td style=\"text-align: right;\">                    </td><td style=\"text-align: right;\">              </td></tr>\n",
       "<tr><td>TorchTrainer_4f4b8_00043</td><td>PENDING   </td><td>               </td><td style=\"text-align: right;\">128</td><td style=\"text-align: right;\">0.177099</td><td style=\"text-align: right;\"> 32</td><td style=\"text-align: right;\">256</td><td style=\"text-align: right;\">512</td><td style=\"text-align: right;\">0.000119454</td><td style=\"text-align: right;\">      </td><td style=\"text-align: right;\">                </td><td style=\"text-align: right;\">                </td><td style=\"text-align: right;\">                    </td><td style=\"text-align: right;\">              </td></tr>\n",
       "<tr><td>TorchTrainer_4f4b8_00044</td><td>PENDING   </td><td>               </td><td style=\"text-align: right;\">128</td><td style=\"text-align: right;\">0.152518</td><td style=\"text-align: right;\"> 64</td><td style=\"text-align: right;\"> 64</td><td style=\"text-align: right;\">512</td><td style=\"text-align: right;\">0.082316   </td><td style=\"text-align: right;\">      </td><td style=\"text-align: right;\">                </td><td style=\"text-align: right;\">                </td><td style=\"text-align: right;\">                    </td><td style=\"text-align: right;\">              </td></tr>\n",
       "<tr><td>TorchTrainer_4f4b8_00045</td><td>PENDING   </td><td>               </td><td style=\"text-align: right;\"> 32</td><td style=\"text-align: right;\">0.258823</td><td style=\"text-align: right;\">128</td><td style=\"text-align: right;\">128</td><td style=\"text-align: right;\">512</td><td style=\"text-align: right;\">0.00322518 </td><td style=\"text-align: right;\">      </td><td style=\"text-align: right;\">                </td><td style=\"text-align: right;\">                </td><td style=\"text-align: right;\">                    </td><td style=\"text-align: right;\">              </td></tr>\n",
       "<tr><td>TorchTrainer_4f4b8_00046</td><td>PENDING   </td><td>               </td><td style=\"text-align: right;\"> 64</td><td style=\"text-align: right;\">0.173678</td><td style=\"text-align: right;\">128</td><td style=\"text-align: right;\"> 64</td><td style=\"text-align: right;\">256</td><td style=\"text-align: right;\">0.0311549  </td><td style=\"text-align: right;\">      </td><td style=\"text-align: right;\">                </td><td style=\"text-align: right;\">                </td><td style=\"text-align: right;\">                    </td><td style=\"text-align: right;\">              </td></tr>\n",
       "<tr><td>TorchTrainer_4f4b8_00047</td><td>PENDING   </td><td>               </td><td style=\"text-align: right;\">128</td><td style=\"text-align: right;\">0.29352 </td><td style=\"text-align: right;\"> 32</td><td style=\"text-align: right;\"> 64</td><td style=\"text-align: right;\">512</td><td style=\"text-align: right;\">0.000225766</td><td style=\"text-align: right;\">      </td><td style=\"text-align: right;\">                </td><td style=\"text-align: right;\">                </td><td style=\"text-align: right;\">                    </td><td style=\"text-align: right;\">              </td></tr>\n",
       "<tr><td>TorchTrainer_4f4b8_00048</td><td>PENDING   </td><td>               </td><td style=\"text-align: right;\">128</td><td style=\"text-align: right;\">0.275573</td><td style=\"text-align: right;\"> 64</td><td style=\"text-align: right;\">256</td><td style=\"text-align: right;\">256</td><td style=\"text-align: right;\">0.00392818 </td><td style=\"text-align: right;\">      </td><td style=\"text-align: right;\">                </td><td style=\"text-align: right;\">                </td><td style=\"text-align: right;\">                    </td><td style=\"text-align: right;\">              </td></tr>\n",
       "<tr><td>TorchTrainer_4f4b8_00049</td><td>PENDING   </td><td>               </td><td style=\"text-align: right;\"> 64</td><td style=\"text-align: right;\">0.101985</td><td style=\"text-align: right;\">128</td><td style=\"text-align: right;\">128</td><td style=\"text-align: right;\">128</td><td style=\"text-align: right;\">0.012241   </td><td style=\"text-align: right;\">      </td><td style=\"text-align: right;\">                </td><td style=\"text-align: right;\">                </td><td style=\"text-align: right;\">                    </td><td style=\"text-align: right;\">              </td></tr>\n",
       "<tr><td>TorchTrainer_4f4b8_00050</td><td>PENDING   </td><td>               </td><td style=\"text-align: right;\"> 32</td><td style=\"text-align: right;\">0.297389</td><td style=\"text-align: right;\"> 64</td><td style=\"text-align: right;\">256</td><td style=\"text-align: right;\">256</td><td style=\"text-align: right;\">0.000753754</td><td style=\"text-align: right;\">      </td><td style=\"text-align: right;\">                </td><td style=\"text-align: right;\">                </td><td style=\"text-align: right;\">                    </td><td style=\"text-align: right;\">              </td></tr>\n",
       "<tr><td>TorchTrainer_4f4b8_00051</td><td>PENDING   </td><td>               </td><td style=\"text-align: right;\">128</td><td style=\"text-align: right;\">0.225212</td><td style=\"text-align: right;\">128</td><td style=\"text-align: right;\">128</td><td style=\"text-align: right;\">128</td><td style=\"text-align: right;\">0.000943867</td><td style=\"text-align: right;\">      </td><td style=\"text-align: right;\">                </td><td style=\"text-align: right;\">                </td><td style=\"text-align: right;\">                    </td><td style=\"text-align: right;\">              </td></tr>\n",
       "<tr><td>TorchTrainer_4f4b8_00052</td><td>PENDING   </td><td>               </td><td style=\"text-align: right;\"> 32</td><td style=\"text-align: right;\">0.24529 </td><td style=\"text-align: right;\"> 32</td><td style=\"text-align: right;\">256</td><td style=\"text-align: right;\">256</td><td style=\"text-align: right;\">0.00479404 </td><td style=\"text-align: right;\">      </td><td style=\"text-align: right;\">                </td><td style=\"text-align: right;\">                </td><td style=\"text-align: right;\">                    </td><td style=\"text-align: right;\">              </td></tr>\n",
       "<tr><td>TorchTrainer_4f4b8_00053</td><td>PENDING   </td><td>               </td><td style=\"text-align: right;\">128</td><td style=\"text-align: right;\">0.107235</td><td style=\"text-align: right;\">128</td><td style=\"text-align: right;\">256</td><td style=\"text-align: right;\">512</td><td style=\"text-align: right;\">0.00600878 </td><td style=\"text-align: right;\">      </td><td style=\"text-align: right;\">                </td><td style=\"text-align: right;\">                </td><td style=\"text-align: right;\">                    </td><td style=\"text-align: right;\">              </td></tr>\n",
       "<tr><td>TorchTrainer_4f4b8_00054</td><td>PENDING   </td><td>               </td><td style=\"text-align: right;\"> 32</td><td style=\"text-align: right;\">0.155341</td><td style=\"text-align: right;\"> 64</td><td style=\"text-align: right;\">128</td><td style=\"text-align: right;\">256</td><td style=\"text-align: right;\">0.000266645</td><td style=\"text-align: right;\">      </td><td style=\"text-align: right;\">                </td><td style=\"text-align: right;\">                </td><td style=\"text-align: right;\">                    </td><td style=\"text-align: right;\">              </td></tr>\n",
       "<tr><td>TorchTrainer_4f4b8_00055</td><td>PENDING   </td><td>               </td><td style=\"text-align: right;\">128</td><td style=\"text-align: right;\">0.20463 </td><td style=\"text-align: right;\">128</td><td style=\"text-align: right;\">128</td><td style=\"text-align: right;\">512</td><td style=\"text-align: right;\">0.0675592  </td><td style=\"text-align: right;\">      </td><td style=\"text-align: right;\">                </td><td style=\"text-align: right;\">                </td><td style=\"text-align: right;\">                    </td><td style=\"text-align: right;\">              </td></tr>\n",
       "<tr><td>TorchTrainer_4f4b8_00056</td><td>PENDING   </td><td>               </td><td style=\"text-align: right;\"> 64</td><td style=\"text-align: right;\">0.13117 </td><td style=\"text-align: right;\">128</td><td style=\"text-align: right;\">256</td><td style=\"text-align: right;\">128</td><td style=\"text-align: right;\">0.000508737</td><td style=\"text-align: right;\">      </td><td style=\"text-align: right;\">                </td><td style=\"text-align: right;\">                </td><td style=\"text-align: right;\">                    </td><td style=\"text-align: right;\">              </td></tr>\n",
       "<tr><td>TorchTrainer_4f4b8_00057</td><td>PENDING   </td><td>               </td><td style=\"text-align: right;\">128</td><td style=\"text-align: right;\">0.164732</td><td style=\"text-align: right;\"> 32</td><td style=\"text-align: right;\"> 64</td><td style=\"text-align: right;\">128</td><td style=\"text-align: right;\">0.000126773</td><td style=\"text-align: right;\">      </td><td style=\"text-align: right;\">                </td><td style=\"text-align: right;\">                </td><td style=\"text-align: right;\">                    </td><td style=\"text-align: right;\">              </td></tr>\n",
       "<tr><td>TorchTrainer_4f4b8_00058</td><td>PENDING   </td><td>               </td><td style=\"text-align: right;\"> 64</td><td style=\"text-align: right;\">0.269022</td><td style=\"text-align: right;\">128</td><td style=\"text-align: right;\">128</td><td style=\"text-align: right;\">512</td><td style=\"text-align: right;\">0.00200027 </td><td style=\"text-align: right;\">      </td><td style=\"text-align: right;\">                </td><td style=\"text-align: right;\">                </td><td style=\"text-align: right;\">                    </td><td style=\"text-align: right;\">              </td></tr>\n",
       "<tr><td>TorchTrainer_4f4b8_00059</td><td>PENDING   </td><td>               </td><td style=\"text-align: right;\"> 64</td><td style=\"text-align: right;\">0.205838</td><td style=\"text-align: right;\">128</td><td style=\"text-align: right;\"> 64</td><td style=\"text-align: right;\">256</td><td style=\"text-align: right;\">0.000164112</td><td style=\"text-align: right;\">      </td><td style=\"text-align: right;\">                </td><td style=\"text-align: right;\">                </td><td style=\"text-align: right;\">                    </td><td style=\"text-align: right;\">              </td></tr>\n",
       "<tr><td>TorchTrainer_4f4b8_00060</td><td>PENDING   </td><td>               </td><td style=\"text-align: right;\"> 32</td><td style=\"text-align: right;\">0.105673</td><td style=\"text-align: right;\"> 32</td><td style=\"text-align: right;\">256</td><td style=\"text-align: right;\">128</td><td style=\"text-align: right;\">0.0183453  </td><td style=\"text-align: right;\">      </td><td style=\"text-align: right;\">                </td><td style=\"text-align: right;\">                </td><td style=\"text-align: right;\">                    </td><td style=\"text-align: right;\">              </td></tr>\n",
       "<tr><td>TorchTrainer_4f4b8_00061</td><td>PENDING   </td><td>               </td><td style=\"text-align: right;\"> 64</td><td style=\"text-align: right;\">0.117802</td><td style=\"text-align: right;\"> 64</td><td style=\"text-align: right;\">256</td><td style=\"text-align: right;\">256</td><td style=\"text-align: right;\">0.0552051  </td><td style=\"text-align: right;\">      </td><td style=\"text-align: right;\">                </td><td style=\"text-align: right;\">                </td><td style=\"text-align: right;\">                    </td><td style=\"text-align: right;\">              </td></tr>\n",
       "<tr><td>TorchTrainer_4f4b8_00062</td><td>PENDING   </td><td>               </td><td style=\"text-align: right;\"> 64</td><td style=\"text-align: right;\">0.135195</td><td style=\"text-align: right;\"> 32</td><td style=\"text-align: right;\">128</td><td style=\"text-align: right;\">128</td><td style=\"text-align: right;\">0.000221051</td><td style=\"text-align: right;\">      </td><td style=\"text-align: right;\">                </td><td style=\"text-align: right;\">                </td><td style=\"text-align: right;\">                    </td><td style=\"text-align: right;\">              </td></tr>\n",
       "<tr><td>TorchTrainer_4f4b8_00063</td><td>PENDING   </td><td>               </td><td style=\"text-align: right;\"> 32</td><td style=\"text-align: right;\">0.109554</td><td style=\"text-align: right;\"> 32</td><td style=\"text-align: right;\">256</td><td style=\"text-align: right;\">128</td><td style=\"text-align: right;\">0.000717994</td><td style=\"text-align: right;\">      </td><td style=\"text-align: right;\">                </td><td style=\"text-align: right;\">                </td><td style=\"text-align: right;\">                    </td><td style=\"text-align: right;\">              </td></tr>\n",
       "<tr><td>TorchTrainer_4f4b8_00064</td><td>PENDING   </td><td>               </td><td style=\"text-align: right;\"> 64</td><td style=\"text-align: right;\">0.247536</td><td style=\"text-align: right;\"> 32</td><td style=\"text-align: right;\"> 64</td><td style=\"text-align: right;\">128</td><td style=\"text-align: right;\">0.00134698 </td><td style=\"text-align: right;\">      </td><td style=\"text-align: right;\">                </td><td style=\"text-align: right;\">                </td><td style=\"text-align: right;\">                    </td><td style=\"text-align: right;\">              </td></tr>\n",
       "<tr><td>TorchTrainer_4f4b8_00065</td><td>PENDING   </td><td>               </td><td style=\"text-align: right;\">128</td><td style=\"text-align: right;\">0.156031</td><td style=\"text-align: right;\">128</td><td style=\"text-align: right;\">256</td><td style=\"text-align: right;\">512</td><td style=\"text-align: right;\">0.00180472 </td><td style=\"text-align: right;\">      </td><td style=\"text-align: right;\">                </td><td style=\"text-align: right;\">                </td><td style=\"text-align: right;\">                    </td><td style=\"text-align: right;\">              </td></tr>\n",
       "<tr><td>TorchTrainer_4f4b8_00066</td><td>PENDING   </td><td>               </td><td style=\"text-align: right;\"> 64</td><td style=\"text-align: right;\">0.159463</td><td style=\"text-align: right;\"> 64</td><td style=\"text-align: right;\">256</td><td style=\"text-align: right;\">256</td><td style=\"text-align: right;\">0.0306659  </td><td style=\"text-align: right;\">      </td><td style=\"text-align: right;\">                </td><td style=\"text-align: right;\">                </td><td style=\"text-align: right;\">                    </td><td style=\"text-align: right;\">              </td></tr>\n",
       "<tr><td>TorchTrainer_4f4b8_00067</td><td>PENDING   </td><td>               </td><td style=\"text-align: right;\"> 32</td><td style=\"text-align: right;\">0.140634</td><td style=\"text-align: right;\">128</td><td style=\"text-align: right;\">256</td><td style=\"text-align: right;\">256</td><td style=\"text-align: right;\">0.000167654</td><td style=\"text-align: right;\">      </td><td style=\"text-align: right;\">                </td><td style=\"text-align: right;\">                </td><td style=\"text-align: right;\">                    </td><td style=\"text-align: right;\">              </td></tr>\n",
       "<tr><td>TorchTrainer_4f4b8_00068</td><td>PENDING   </td><td>               </td><td style=\"text-align: right;\"> 32</td><td style=\"text-align: right;\">0.245702</td><td style=\"text-align: right;\">128</td><td style=\"text-align: right;\"> 64</td><td style=\"text-align: right;\">512</td><td style=\"text-align: right;\">0.00776809 </td><td style=\"text-align: right;\">      </td><td style=\"text-align: right;\">                </td><td style=\"text-align: right;\">                </td><td style=\"text-align: right;\">                    </td><td style=\"text-align: right;\">              </td></tr>\n",
       "<tr><td>TorchTrainer_4f4b8_00069</td><td>PENDING   </td><td>               </td><td style=\"text-align: right;\">128</td><td style=\"text-align: right;\">0.238233</td><td style=\"text-align: right;\"> 64</td><td style=\"text-align: right;\">128</td><td style=\"text-align: right;\">128</td><td style=\"text-align: right;\">0.00396127 </td><td style=\"text-align: right;\">      </td><td style=\"text-align: right;\">                </td><td style=\"text-align: right;\">                </td><td style=\"text-align: right;\">                    </td><td style=\"text-align: right;\">              </td></tr>\n",
       "<tr><td>TorchTrainer_4f4b8_00070</td><td>PENDING   </td><td>               </td><td style=\"text-align: right;\">128</td><td style=\"text-align: right;\">0.219936</td><td style=\"text-align: right;\"> 32</td><td style=\"text-align: right;\">256</td><td style=\"text-align: right;\">512</td><td style=\"text-align: right;\">0.0577234  </td><td style=\"text-align: right;\">      </td><td style=\"text-align: right;\">                </td><td style=\"text-align: right;\">                </td><td style=\"text-align: right;\">                    </td><td style=\"text-align: right;\">              </td></tr>\n",
       "<tr><td>TorchTrainer_4f4b8_00071</td><td>PENDING   </td><td>               </td><td style=\"text-align: right;\">128</td><td style=\"text-align: right;\">0.18707 </td><td style=\"text-align: right;\"> 64</td><td style=\"text-align: right;\">256</td><td style=\"text-align: right;\">128</td><td style=\"text-align: right;\">0.0011113  </td><td style=\"text-align: right;\">      </td><td style=\"text-align: right;\">                </td><td style=\"text-align: right;\">                </td><td style=\"text-align: right;\">                    </td><td style=\"text-align: right;\">              </td></tr>\n",
       "<tr><td>TorchTrainer_4f4b8_00072</td><td>PENDING   </td><td>               </td><td style=\"text-align: right;\"> 64</td><td style=\"text-align: right;\">0.167185</td><td style=\"text-align: right;\"> 32</td><td style=\"text-align: right;\">256</td><td style=\"text-align: right;\">128</td><td style=\"text-align: right;\">0.00409242 </td><td style=\"text-align: right;\">      </td><td style=\"text-align: right;\">                </td><td style=\"text-align: right;\">                </td><td style=\"text-align: right;\">                    </td><td style=\"text-align: right;\">              </td></tr>\n",
       "<tr><td>TorchTrainer_4f4b8_00073</td><td>PENDING   </td><td>               </td><td style=\"text-align: right;\"> 64</td><td style=\"text-align: right;\">0.251945</td><td style=\"text-align: right;\"> 64</td><td style=\"text-align: right;\">128</td><td style=\"text-align: right;\">128</td><td style=\"text-align: right;\">0.000265171</td><td style=\"text-align: right;\">      </td><td style=\"text-align: right;\">                </td><td style=\"text-align: right;\">                </td><td style=\"text-align: right;\">                    </td><td style=\"text-align: right;\">              </td></tr>\n",
       "<tr><td>TorchTrainer_4f4b8_00074</td><td>PENDING   </td><td>               </td><td style=\"text-align: right;\"> 64</td><td style=\"text-align: right;\">0.145801</td><td style=\"text-align: right;\"> 64</td><td style=\"text-align: right;\">256</td><td style=\"text-align: right;\">512</td><td style=\"text-align: right;\">0.000151449</td><td style=\"text-align: right;\">      </td><td style=\"text-align: right;\">                </td><td style=\"text-align: right;\">                </td><td style=\"text-align: right;\">                    </td><td style=\"text-align: right;\">              </td></tr>\n",
       "<tr><td>TorchTrainer_4f4b8_00075</td><td>PENDING   </td><td>               </td><td style=\"text-align: right;\"> 64</td><td style=\"text-align: right;\">0.119829</td><td style=\"text-align: right;\"> 32</td><td style=\"text-align: right;\"> 64</td><td style=\"text-align: right;\">256</td><td style=\"text-align: right;\">0.00692368 </td><td style=\"text-align: right;\">      </td><td style=\"text-align: right;\">                </td><td style=\"text-align: right;\">                </td><td style=\"text-align: right;\">                    </td><td style=\"text-align: right;\">              </td></tr>\n",
       "<tr><td>TorchTrainer_4f4b8_00076</td><td>PENDING   </td><td>               </td><td style=\"text-align: right;\"> 32</td><td style=\"text-align: right;\">0.142738</td><td style=\"text-align: right;\"> 64</td><td style=\"text-align: right;\">256</td><td style=\"text-align: right;\">128</td><td style=\"text-align: right;\">0.00105995 </td><td style=\"text-align: right;\">      </td><td style=\"text-align: right;\">                </td><td style=\"text-align: right;\">                </td><td style=\"text-align: right;\">                    </td><td style=\"text-align: right;\">              </td></tr>\n",
       "<tr><td>TorchTrainer_4f4b8_00077</td><td>PENDING   </td><td>               </td><td style=\"text-align: right;\"> 64</td><td style=\"text-align: right;\">0.168214</td><td style=\"text-align: right;\">128</td><td style=\"text-align: right;\">256</td><td style=\"text-align: right;\">512</td><td style=\"text-align: right;\">0.0656088  </td><td style=\"text-align: right;\">      </td><td style=\"text-align: right;\">                </td><td style=\"text-align: right;\">                </td><td style=\"text-align: right;\">                    </td><td style=\"text-align: right;\">              </td></tr>\n",
       "<tr><td>TorchTrainer_4f4b8_00078</td><td>PENDING   </td><td>               </td><td style=\"text-align: right;\">128</td><td style=\"text-align: right;\">0.10289 </td><td style=\"text-align: right;\">128</td><td style=\"text-align: right;\">256</td><td style=\"text-align: right;\">128</td><td style=\"text-align: right;\">0.00327605 </td><td style=\"text-align: right;\">      </td><td style=\"text-align: right;\">                </td><td style=\"text-align: right;\">                </td><td style=\"text-align: right;\">                    </td><td style=\"text-align: right;\">              </td></tr>\n",
       "<tr><td>TorchTrainer_4f4b8_00079</td><td>PENDING   </td><td>               </td><td style=\"text-align: right;\">128</td><td style=\"text-align: right;\">0.259216</td><td style=\"text-align: right;\"> 32</td><td style=\"text-align: right;\"> 64</td><td style=\"text-align: right;\">512</td><td style=\"text-align: right;\">0.0386478  </td><td style=\"text-align: right;\">      </td><td style=\"text-align: right;\">                </td><td style=\"text-align: right;\">                </td><td style=\"text-align: right;\">                    </td><td style=\"text-align: right;\">              </td></tr>\n",
       "<tr><td>TorchTrainer_4f4b8_00080</td><td>PENDING   </td><td>               </td><td style=\"text-align: right;\"> 64</td><td style=\"text-align: right;\">0.227558</td><td style=\"text-align: right;\"> 64</td><td style=\"text-align: right;\">256</td><td style=\"text-align: right;\">256</td><td style=\"text-align: right;\">0.000203625</td><td style=\"text-align: right;\">      </td><td style=\"text-align: right;\">                </td><td style=\"text-align: right;\">                </td><td style=\"text-align: right;\">                    </td><td style=\"text-align: right;\">              </td></tr>\n",
       "<tr><td>TorchTrainer_4f4b8_00081</td><td>PENDING   </td><td>               </td><td style=\"text-align: right;\"> 32</td><td style=\"text-align: right;\">0.282809</td><td style=\"text-align: right;\"> 32</td><td style=\"text-align: right;\"> 64</td><td style=\"text-align: right;\">256</td><td style=\"text-align: right;\">0.0157952  </td><td style=\"text-align: right;\">      </td><td style=\"text-align: right;\">                </td><td style=\"text-align: right;\">                </td><td style=\"text-align: right;\">                    </td><td style=\"text-align: right;\">              </td></tr>\n",
       "<tr><td>TorchTrainer_4f4b8_00082</td><td>PENDING   </td><td>               </td><td style=\"text-align: right;\"> 64</td><td style=\"text-align: right;\">0.201982</td><td style=\"text-align: right;\"> 64</td><td style=\"text-align: right;\">256</td><td style=\"text-align: right;\">128</td><td style=\"text-align: right;\">0.000152135</td><td style=\"text-align: right;\">      </td><td style=\"text-align: right;\">                </td><td style=\"text-align: right;\">                </td><td style=\"text-align: right;\">                    </td><td style=\"text-align: right;\">              </td></tr>\n",
       "<tr><td>TorchTrainer_4f4b8_00083</td><td>PENDING   </td><td>               </td><td style=\"text-align: right;\"> 32</td><td style=\"text-align: right;\">0.219832</td><td style=\"text-align: right;\"> 32</td><td style=\"text-align: right;\">128</td><td style=\"text-align: right;\">512</td><td style=\"text-align: right;\">0.00115572 </td><td style=\"text-align: right;\">      </td><td style=\"text-align: right;\">                </td><td style=\"text-align: right;\">                </td><td style=\"text-align: right;\">                    </td><td style=\"text-align: right;\">              </td></tr>\n",
       "<tr><td>TorchTrainer_4f4b8_00084</td><td>PENDING   </td><td>               </td><td style=\"text-align: right;\"> 64</td><td style=\"text-align: right;\">0.164969</td><td style=\"text-align: right;\">128</td><td style=\"text-align: right;\">256</td><td style=\"text-align: right;\">512</td><td style=\"text-align: right;\">0.0467602  </td><td style=\"text-align: right;\">      </td><td style=\"text-align: right;\">                </td><td style=\"text-align: right;\">                </td><td style=\"text-align: right;\">                    </td><td style=\"text-align: right;\">              </td></tr>\n",
       "<tr><td>TorchTrainer_4f4b8_00085</td><td>PENDING   </td><td>               </td><td style=\"text-align: right;\"> 64</td><td style=\"text-align: right;\">0.14549 </td><td style=\"text-align: right;\">128</td><td style=\"text-align: right;\">256</td><td style=\"text-align: right;\">512</td><td style=\"text-align: right;\">0.0604034  </td><td style=\"text-align: right;\">      </td><td style=\"text-align: right;\">                </td><td style=\"text-align: right;\">                </td><td style=\"text-align: right;\">                    </td><td style=\"text-align: right;\">              </td></tr>\n",
       "<tr><td>TorchTrainer_4f4b8_00086</td><td>PENDING   </td><td>               </td><td style=\"text-align: right;\"> 32</td><td style=\"text-align: right;\">0.164726</td><td style=\"text-align: right;\"> 32</td><td style=\"text-align: right;\"> 64</td><td style=\"text-align: right;\">256</td><td style=\"text-align: right;\">0.0202368  </td><td style=\"text-align: right;\">      </td><td style=\"text-align: right;\">                </td><td style=\"text-align: right;\">                </td><td style=\"text-align: right;\">                    </td><td style=\"text-align: right;\">              </td></tr>\n",
       "<tr><td>TorchTrainer_4f4b8_00087</td><td>PENDING   </td><td>               </td><td style=\"text-align: right;\">128</td><td style=\"text-align: right;\">0.214977</td><td style=\"text-align: right;\"> 32</td><td style=\"text-align: right;\">128</td><td style=\"text-align: right;\">512</td><td style=\"text-align: right;\">0.00127363 </td><td style=\"text-align: right;\">      </td><td style=\"text-align: right;\">                </td><td style=\"text-align: right;\">                </td><td style=\"text-align: right;\">                    </td><td style=\"text-align: right;\">              </td></tr>\n",
       "<tr><td>TorchTrainer_4f4b8_00088</td><td>PENDING   </td><td>               </td><td style=\"text-align: right;\"> 64</td><td style=\"text-align: right;\">0.105257</td><td style=\"text-align: right;\"> 32</td><td style=\"text-align: right;\">256</td><td style=\"text-align: right;\">256</td><td style=\"text-align: right;\">0.0135723  </td><td style=\"text-align: right;\">      </td><td style=\"text-align: right;\">                </td><td style=\"text-align: right;\">                </td><td style=\"text-align: right;\">                    </td><td style=\"text-align: right;\">              </td></tr>\n",
       "<tr><td>TorchTrainer_4f4b8_00089</td><td>PENDING   </td><td>               </td><td style=\"text-align: right;\"> 32</td><td style=\"text-align: right;\">0.247115</td><td style=\"text-align: right;\">128</td><td style=\"text-align: right;\">256</td><td style=\"text-align: right;\">256</td><td style=\"text-align: right;\">0.000409228</td><td style=\"text-align: right;\">      </td><td style=\"text-align: right;\">                </td><td style=\"text-align: right;\">                </td><td style=\"text-align: right;\">                    </td><td style=\"text-align: right;\">              </td></tr>\n",
       "<tr><td>TorchTrainer_4f4b8_00090</td><td>PENDING   </td><td>               </td><td style=\"text-align: right;\">128</td><td style=\"text-align: right;\">0.181597</td><td style=\"text-align: right;\">128</td><td style=\"text-align: right;\">256</td><td style=\"text-align: right;\">128</td><td style=\"text-align: right;\">0.00313481 </td><td style=\"text-align: right;\">      </td><td style=\"text-align: right;\">                </td><td style=\"text-align: right;\">                </td><td style=\"text-align: right;\">                    </td><td style=\"text-align: right;\">              </td></tr>\n",
       "<tr><td>TorchTrainer_4f4b8_00091</td><td>PENDING   </td><td>               </td><td style=\"text-align: right;\"> 32</td><td style=\"text-align: right;\">0.120487</td><td style=\"text-align: right;\"> 32</td><td style=\"text-align: right;\"> 64</td><td style=\"text-align: right;\">512</td><td style=\"text-align: right;\">0.00106723 </td><td style=\"text-align: right;\">      </td><td style=\"text-align: right;\">                </td><td style=\"text-align: right;\">                </td><td style=\"text-align: right;\">                    </td><td style=\"text-align: right;\">              </td></tr>\n",
       "<tr><td>TorchTrainer_4f4b8_00092</td><td>PENDING   </td><td>               </td><td style=\"text-align: right;\"> 64</td><td style=\"text-align: right;\">0.163011</td><td style=\"text-align: right;\">128</td><td style=\"text-align: right;\"> 64</td><td style=\"text-align: right;\">128</td><td style=\"text-align: right;\">0.0876104  </td><td style=\"text-align: right;\">      </td><td style=\"text-align: right;\">                </td><td style=\"text-align: right;\">                </td><td style=\"text-align: right;\">                    </td><td style=\"text-align: right;\">              </td></tr>\n",
       "<tr><td>TorchTrainer_4f4b8_00093</td><td>PENDING   </td><td>               </td><td style=\"text-align: right;\"> 64</td><td style=\"text-align: right;\">0.133491</td><td style=\"text-align: right;\"> 64</td><td style=\"text-align: right;\"> 64</td><td style=\"text-align: right;\">512</td><td style=\"text-align: right;\">0.002236   </td><td style=\"text-align: right;\">      </td><td style=\"text-align: right;\">                </td><td style=\"text-align: right;\">                </td><td style=\"text-align: right;\">                    </td><td style=\"text-align: right;\">              </td></tr>\n",
       "<tr><td>TorchTrainer_4f4b8_00094</td><td>PENDING   </td><td>               </td><td style=\"text-align: right;\">128</td><td style=\"text-align: right;\">0.106757</td><td style=\"text-align: right;\">128</td><td style=\"text-align: right;\">256</td><td style=\"text-align: right;\">256</td><td style=\"text-align: right;\">0.0239505  </td><td style=\"text-align: right;\">      </td><td style=\"text-align: right;\">                </td><td style=\"text-align: right;\">                </td><td style=\"text-align: right;\">                    </td><td style=\"text-align: right;\">              </td></tr>\n",
       "<tr><td>TorchTrainer_4f4b8_00095</td><td>PENDING   </td><td>               </td><td style=\"text-align: right;\">128</td><td style=\"text-align: right;\">0.261378</td><td style=\"text-align: right;\"> 32</td><td style=\"text-align: right;\">256</td><td style=\"text-align: right;\">128</td><td style=\"text-align: right;\">0.00557293 </td><td style=\"text-align: right;\">      </td><td style=\"text-align: right;\">                </td><td style=\"text-align: right;\">                </td><td style=\"text-align: right;\">                    </td><td style=\"text-align: right;\">              </td></tr>\n",
       "<tr><td>TorchTrainer_4f4b8_00096</td><td>PENDING   </td><td>               </td><td style=\"text-align: right;\"> 32</td><td style=\"text-align: right;\">0.266163</td><td style=\"text-align: right;\">128</td><td style=\"text-align: right;\">128</td><td style=\"text-align: right;\">512</td><td style=\"text-align: right;\">0.00624495 </td><td style=\"text-align: right;\">      </td><td style=\"text-align: right;\">                </td><td style=\"text-align: right;\">                </td><td style=\"text-align: right;\">                    </td><td style=\"text-align: right;\">              </td></tr>\n",
       "<tr><td>TorchTrainer_4f4b8_00097</td><td>PENDING   </td><td>               </td><td style=\"text-align: right;\"> 32</td><td style=\"text-align: right;\">0.176952</td><td style=\"text-align: right;\"> 32</td><td style=\"text-align: right;\">256</td><td style=\"text-align: right;\">512</td><td style=\"text-align: right;\">0.000196139</td><td style=\"text-align: right;\">      </td><td style=\"text-align: right;\">                </td><td style=\"text-align: right;\">                </td><td style=\"text-align: right;\">                    </td><td style=\"text-align: right;\">              </td></tr>\n",
       "<tr><td>TorchTrainer_4f4b8_00098</td><td>PENDING   </td><td>               </td><td style=\"text-align: right;\"> 32</td><td style=\"text-align: right;\">0.139198</td><td style=\"text-align: right;\">128</td><td style=\"text-align: right;\">256</td><td style=\"text-align: right;\">512</td><td style=\"text-align: right;\">0.00252399 </td><td style=\"text-align: right;\">      </td><td style=\"text-align: right;\">                </td><td style=\"text-align: right;\">                </td><td style=\"text-align: right;\">                    </td><td style=\"text-align: right;\">              </td></tr>\n",
       "<tr><td>TorchTrainer_4f4b8_00099</td><td>PENDING   </td><td>               </td><td style=\"text-align: right;\">128</td><td style=\"text-align: right;\">0.280907</td><td style=\"text-align: right;\"> 64</td><td style=\"text-align: right;\">128</td><td style=\"text-align: right;\">128</td><td style=\"text-align: right;\">0.0113136  </td><td style=\"text-align: right;\">      </td><td style=\"text-align: right;\">                </td><td style=\"text-align: right;\">                </td><td style=\"text-align: right;\">                    </td><td style=\"text-align: right;\">              </td></tr>\n",
       "<tr><td>TorchTrainer_4f4b8_00000</td><td>TERMINATED</td><td>127.0.0.1:51186</td><td style=\"text-align: right;\">128</td><td style=\"text-align: right;\">0.164657</td><td style=\"text-align: right;\"> 64</td><td style=\"text-align: right;\">256</td><td style=\"text-align: right;\">256</td><td style=\"text-align: right;\">0.001265   </td><td style=\"text-align: right;\">     5</td><td style=\"text-align: right;\">         81.1402</td><td style=\"text-align: right;\">      0.141445  </td><td style=\"text-align: right;\">           0.965909 </td><td style=\"text-align: right;\">     0.0928037</td></tr>\n",
       "<tr><td>TorchTrainer_4f4b8_00001</td><td>TERMINATED</td><td>127.0.0.1:51185</td><td style=\"text-align: right;\"> 64</td><td style=\"text-align: right;\">0.16302 </td><td style=\"text-align: right;\">128</td><td style=\"text-align: right;\">256</td><td style=\"text-align: right;\">128</td><td style=\"text-align: right;\">0.00334581 </td><td style=\"text-align: right;\">     1</td><td style=\"text-align: right;\">         31.4398</td><td style=\"text-align: right;\">      0.244823  </td><td style=\"text-align: right;\">           0.958333 </td><td style=\"text-align: right;\">     0.193076 </td></tr>\n",
       "<tr><td>TorchTrainer_4f4b8_00002</td><td>TERMINATED</td><td>127.0.0.1:51189</td><td style=\"text-align: right;\"> 64</td><td style=\"text-align: right;\">0.139522</td><td style=\"text-align: right;\"> 64</td><td style=\"text-align: right;\"> 64</td><td style=\"text-align: right;\">256</td><td style=\"text-align: right;\">0.00167269 </td><td style=\"text-align: right;\">     5</td><td style=\"text-align: right;\">         90.3363</td><td style=\"text-align: right;\">      0.00688993</td><td style=\"text-align: right;\">           1        </td><td style=\"text-align: right;\">     0.115875 </td></tr>\n",
       "<tr><td>TorchTrainer_4f4b8_00003</td><td>TERMINATED</td><td>127.0.0.1:51187</td><td style=\"text-align: right;\">128</td><td style=\"text-align: right;\">0.210625</td><td style=\"text-align: right;\">128</td><td style=\"text-align: right;\"> 64</td><td style=\"text-align: right;\">128</td><td style=\"text-align: right;\">0.0230337  </td><td style=\"text-align: right;\">     5</td><td style=\"text-align: right;\">         80.3655</td><td style=\"text-align: right;\">      0.61947   </td><td style=\"text-align: right;\">           0.818182 </td><td style=\"text-align: right;\">     0.489115 </td></tr>\n",
       "<tr><td>TorchTrainer_4f4b8_00004</td><td>TERMINATED</td><td>127.0.0.1:51188</td><td style=\"text-align: right;\"> 32</td><td style=\"text-align: right;\">0.244177</td><td style=\"text-align: right;\"> 64</td><td style=\"text-align: right;\"> 64</td><td style=\"text-align: right;\">512</td><td style=\"text-align: right;\">0.00128504 </td><td style=\"text-align: right;\">     1</td><td style=\"text-align: right;\">         39.1144</td><td style=\"text-align: right;\">      0.184503  </td><td style=\"text-align: right;\">           0.958333 </td><td style=\"text-align: right;\">     0.21916  </td></tr>\n",
       "<tr><td>TorchTrainer_4f4b8_00005</td><td>TERMINATED</td><td>127.0.0.1:51786</td><td style=\"text-align: right;\"> 64</td><td style=\"text-align: right;\">0.218733</td><td style=\"text-align: right;\"> 32</td><td style=\"text-align: right;\">128</td><td style=\"text-align: right;\">256</td><td style=\"text-align: right;\">0.00175923 </td><td style=\"text-align: right;\">     1</td><td style=\"text-align: right;\">         33.9229</td><td style=\"text-align: right;\">      0.106557  </td><td style=\"text-align: right;\">           1        </td><td style=\"text-align: right;\">     0.215902 </td></tr>\n",
       "<tr><td>TorchTrainer_4f4b8_00006</td><td>TERMINATED</td><td>127.0.0.1:51894</td><td style=\"text-align: right;\"> 64</td><td style=\"text-align: right;\">0.217352</td><td style=\"text-align: right;\"> 64</td><td style=\"text-align: right;\">256</td><td style=\"text-align: right;\">128</td><td style=\"text-align: right;\">0.00884095 </td><td style=\"text-align: right;\">     1</td><td style=\"text-align: right;\">         35.8752</td><td style=\"text-align: right;\">      0.48807   </td><td style=\"text-align: right;\">           0.875    </td><td style=\"text-align: right;\">     0.366347 </td></tr>\n",
       "<tr><td>TorchTrainer_4f4b8_00007</td><td>TERMINATED</td><td>127.0.0.1:52523</td><td style=\"text-align: right;\"> 64</td><td style=\"text-align: right;\">0.190693</td><td style=\"text-align: right;\">128</td><td style=\"text-align: right;\">256</td><td style=\"text-align: right;\">512</td><td style=\"text-align: right;\">0.0118871  </td><td style=\"text-align: right;\">     1</td><td style=\"text-align: right;\">         28.779 </td><td style=\"text-align: right;\">      0.448084  </td><td style=\"text-align: right;\">           0.916667 </td><td style=\"text-align: right;\">     0.509069 </td></tr>\n",
       "<tr><td>TorchTrainer_4f4b8_00008</td><td>TERMINATED</td><td>127.0.0.1:52624</td><td style=\"text-align: right;\">128</td><td style=\"text-align: right;\">0.146467</td><td style=\"text-align: right;\"> 32</td><td style=\"text-align: right;\">128</td><td style=\"text-align: right;\">256</td><td style=\"text-align: right;\">0.000107427</td><td style=\"text-align: right;\">     1</td><td style=\"text-align: right;\">         23.7482</td><td style=\"text-align: right;\">      0.551904  </td><td style=\"text-align: right;\">           0.840909 </td><td style=\"text-align: right;\">     0.428367 </td></tr>\n",
       "<tr><td>TorchTrainer_4f4b8_00009</td><td>TERMINATED</td><td>127.0.0.1:52623</td><td style=\"text-align: right;\">128</td><td style=\"text-align: right;\">0.298544</td><td style=\"text-align: right;\">128</td><td style=\"text-align: right;\">128</td><td style=\"text-align: right;\">256</td><td style=\"text-align: right;\">0.000864114</td><td style=\"text-align: right;\">     5</td><td style=\"text-align: right;\">         70.1756</td><td style=\"text-align: right;\">      0.227673  </td><td style=\"text-align: right;\">           0.943182 </td><td style=\"text-align: right;\">     0.0866623</td></tr>\n",
       "<tr><td>TorchTrainer_4f4b8_00010</td><td>TERMINATED</td><td>127.0.0.1:52656</td><td style=\"text-align: right;\"> 64</td><td style=\"text-align: right;\">0.248861</td><td style=\"text-align: right;\">128</td><td style=\"text-align: right;\">128</td><td style=\"text-align: right;\">256</td><td style=\"text-align: right;\">0.000807476</td><td style=\"text-align: right;\">     5</td><td style=\"text-align: right;\">         80.3913</td><td style=\"text-align: right;\">      0.00812138</td><td style=\"text-align: right;\">           1        </td><td style=\"text-align: right;\">     0.0927941</td></tr>\n",
       "<tr><td>TorchTrainer_4f4b8_00011</td><td>TERMINATED</td><td>127.0.0.1:52788</td><td style=\"text-align: right;\"> 32</td><td style=\"text-align: right;\">0.183565</td><td style=\"text-align: right;\">128</td><td style=\"text-align: right;\"> 64</td><td style=\"text-align: right;\">128</td><td style=\"text-align: right;\">0.00461072 </td><td style=\"text-align: right;\">     2</td><td style=\"text-align: right;\">         58.4068</td><td style=\"text-align: right;\">      0.88388   </td><td style=\"text-align: right;\">           0.833333 </td><td style=\"text-align: right;\">     0.196405 </td></tr>\n",
       "<tr><td>TorchTrainer_4f4b8_00012</td><td>TERMINATED</td><td>127.0.0.1:53111</td><td style=\"text-align: right;\"> 64</td><td style=\"text-align: right;\">0.145136</td><td style=\"text-align: right;\">128</td><td style=\"text-align: right;\">128</td><td style=\"text-align: right;\">512</td><td style=\"text-align: right;\">0.0837702  </td><td style=\"text-align: right;\">     1</td><td style=\"text-align: right;\">         33.1682</td><td style=\"text-align: right;\">      2.26398   </td><td style=\"text-align: right;\">           0.125    </td><td style=\"text-align: right;\">     2.30117  </td></tr>\n",
       "<tr><td>TorchTrainer_4f4b8_00013</td><td>TERMINATED</td><td>127.0.0.1:53139</td><td style=\"text-align: right;\"> 64</td><td style=\"text-align: right;\">0.197683</td><td style=\"text-align: right;\">128</td><td style=\"text-align: right;\">128</td><td style=\"text-align: right;\">256</td><td style=\"text-align: right;\">0.0279854  </td><td style=\"text-align: right;\">     1</td><td style=\"text-align: right;\">         33.3414</td><td style=\"text-align: right;\">      1.93014   </td><td style=\"text-align: right;\">           0.208333 </td><td style=\"text-align: right;\">     1.89863  </td></tr>\n",
       "<tr><td>TorchTrainer_4f4b8_00014</td><td>TERMINATED</td><td>127.0.0.1:53845</td><td style=\"text-align: right;\"> 64</td><td style=\"text-align: right;\">0.159492</td><td style=\"text-align: right;\">128</td><td style=\"text-align: right;\">128</td><td style=\"text-align: right;\">256</td><td style=\"text-align: right;\">0.0690631  </td><td style=\"text-align: right;\">     1</td><td style=\"text-align: right;\">         27.1349</td><td style=\"text-align: right;\">      1.98222   </td><td style=\"text-align: right;\">           0.208333 </td><td style=\"text-align: right;\">     2.05941  </td></tr>\n",
       "<tr><td>TorchTrainer_4f4b8_00015</td><td>TERMINATED</td><td>127.0.0.1:53880</td><td style=\"text-align: right;\">128</td><td style=\"text-align: right;\">0.103077</td><td style=\"text-align: right;\"> 64</td><td style=\"text-align: right;\">128</td><td style=\"text-align: right;\">128</td><td style=\"text-align: right;\">0.00363458 </td><td style=\"text-align: right;\">     2</td><td style=\"text-align: right;\">         36.5277</td><td style=\"text-align: right;\">      0.154357  </td><td style=\"text-align: right;\">           0.954545 </td><td style=\"text-align: right;\">     0.137578 </td></tr>\n",
       "<tr><td>TorchTrainer_4f4b8_00016</td><td>TERMINATED</td><td>127.0.0.1:53881</td><td style=\"text-align: right;\"> 64</td><td style=\"text-align: right;\">0.185217</td><td style=\"text-align: right;\"> 32</td><td style=\"text-align: right;\"> 64</td><td style=\"text-align: right;\">256</td><td style=\"text-align: right;\">0.000474152</td><td style=\"text-align: right;\">     1</td><td style=\"text-align: right;\">         29.9938</td><td style=\"text-align: right;\">      0.326948  </td><td style=\"text-align: right;\">           0.875    </td><td style=\"text-align: right;\">     0.260434 </td></tr>\n",
       "<tr><td>TorchTrainer_4f4b8_00017</td><td>TERMINATED</td><td>127.0.0.1:53946</td><td style=\"text-align: right;\">128</td><td style=\"text-align: right;\">0.200813</td><td style=\"text-align: right;\">128</td><td style=\"text-align: right;\">128</td><td style=\"text-align: right;\">128</td><td style=\"text-align: right;\">0.000217754</td><td style=\"text-align: right;\">     1</td><td style=\"text-align: right;\">         24.8601</td><td style=\"text-align: right;\">      0.283675  </td><td style=\"text-align: right;\">           0.897727 </td><td style=\"text-align: right;\">     0.297953 </td></tr>\n",
       "<tr><td>TorchTrainer_4f4b8_00018</td><td>TERMINATED</td><td>127.0.0.1:54116</td><td style=\"text-align: right;\">128</td><td style=\"text-align: right;\">0.164316</td><td style=\"text-align: right;\"> 32</td><td style=\"text-align: right;\"> 64</td><td style=\"text-align: right;\">256</td><td style=\"text-align: right;\">0.0029891  </td><td style=\"text-align: right;\">     2</td><td style=\"text-align: right;\">         33.2077</td><td style=\"text-align: right;\">      0.261539  </td><td style=\"text-align: right;\">           0.920455 </td><td style=\"text-align: right;\">     0.173926 </td></tr>\n",
       "<tr><td>TorchTrainer_4f4b8_00019</td><td>TERMINATED</td><td>127.0.0.1:54458</td><td style=\"text-align: right;\"> 32</td><td style=\"text-align: right;\">0.142379</td><td style=\"text-align: right;\"> 32</td><td style=\"text-align: right;\">256</td><td style=\"text-align: right;\">256</td><td style=\"text-align: right;\">0.0565747  </td><td style=\"text-align: right;\">     1</td><td style=\"text-align: right;\">         29.9217</td><td style=\"text-align: right;\">      2.32129   </td><td style=\"text-align: right;\">           0.0416667</td><td style=\"text-align: right;\">     2.30773  </td></tr>\n",
       "<tr><td>TorchTrainer_4f4b8_00020</td><td>TERMINATED</td><td>127.0.0.1:54459</td><td style=\"text-align: right;\"> 64</td><td style=\"text-align: right;\">0.197145</td><td style=\"text-align: right;\">128</td><td style=\"text-align: right;\"> 64</td><td style=\"text-align: right;\">512</td><td style=\"text-align: right;\">0.000313708</td><td style=\"text-align: right;\">     4</td><td style=\"text-align: right;\">         57.7019</td><td style=\"text-align: right;\">      0.0232291 </td><td style=\"text-align: right;\">           1        </td><td style=\"text-align: right;\">     0.0892004</td></tr>\n",
       "<tr><td>TorchTrainer_4f4b8_00021</td><td>TERMINATED</td><td>127.0.0.1:54525</td><td style=\"text-align: right;\"> 32</td><td style=\"text-align: right;\">0.201236</td><td style=\"text-align: right;\"> 32</td><td style=\"text-align: right;\"> 64</td><td style=\"text-align: right;\">256</td><td style=\"text-align: right;\">0.000370283</td><td style=\"text-align: right;\">     1</td><td style=\"text-align: right;\">         28.8112</td><td style=\"text-align: right;\">      0.373311  </td><td style=\"text-align: right;\">           0.916667 </td><td style=\"text-align: right;\">     0.24819  </td></tr>\n",
       "<tr><td>TorchTrainer_4f4b8_00022</td><td>TERMINATED</td><td>127.0.0.1:54647</td><td style=\"text-align: right;\"> 32</td><td style=\"text-align: right;\">0.104949</td><td style=\"text-align: right;\"> 32</td><td style=\"text-align: right;\"> 64</td><td style=\"text-align: right;\">256</td><td style=\"text-align: right;\">0.0170612  </td><td style=\"text-align: right;\">     1</td><td style=\"text-align: right;\">         28.5419</td><td style=\"text-align: right;\">      1.45069   </td><td style=\"text-align: right;\">           0.5      </td><td style=\"text-align: right;\">     0.958675 </td></tr>\n",
       "<tr><td>TorchTrainer_4f4b8_00023</td><td>TERMINATED</td><td>127.0.0.1:54781</td><td style=\"text-align: right;\">128</td><td style=\"text-align: right;\">0.232611</td><td style=\"text-align: right;\"> 32</td><td style=\"text-align: right;\">128</td><td style=\"text-align: right;\">512</td><td style=\"text-align: right;\">0.0112942  </td><td style=\"text-align: right;\">     1</td><td style=\"text-align: right;\">         25.6129</td><td style=\"text-align: right;\">      0.590797  </td><td style=\"text-align: right;\">           0.829545 </td><td style=\"text-align: right;\">     0.455846 </td></tr>\n",
       "<tr><td>TorchTrainer_4f4b8_00024</td><td>TERMINATED</td><td>127.0.0.1:55095</td><td style=\"text-align: right;\"> 64</td><td style=\"text-align: right;\">0.1795  </td><td style=\"text-align: right;\">128</td><td style=\"text-align: right;\">256</td><td style=\"text-align: right;\">512</td><td style=\"text-align: right;\">0.0387874  </td><td style=\"text-align: right;\">     1</td><td style=\"text-align: right;\">         28.3506</td><td style=\"text-align: right;\">      2.30244   </td><td style=\"text-align: right;\">           0.208333 </td><td style=\"text-align: right;\">     2.30743  </td></tr>\n",
       "<tr><td>TorchTrainer_4f4b8_00025</td><td>TERMINATED</td><td>127.0.0.1:55129</td><td style=\"text-align: right;\">128</td><td style=\"text-align: right;\">0.142859</td><td style=\"text-align: right;\"> 32</td><td style=\"text-align: right;\">128</td><td style=\"text-align: right;\">128</td><td style=\"text-align: right;\">0.0151604  </td><td style=\"text-align: right;\">     1</td><td style=\"text-align: right;\">         21.8742</td><td style=\"text-align: right;\">      0.604782  </td><td style=\"text-align: right;\">           0.852273 </td><td style=\"text-align: right;\">     0.392538 </td></tr>\n",
       "<tr><td>TorchTrainer_4f4b8_00026</td><td>TERMINATED</td><td>127.0.0.1:55205</td><td style=\"text-align: right;\"> 32</td><td style=\"text-align: right;\">0.257252</td><td style=\"text-align: right;\">128</td><td style=\"text-align: right;\">128</td><td style=\"text-align: right;\">128</td><td style=\"text-align: right;\">0.000990378</td><td style=\"text-align: right;\">     4</td><td style=\"text-align: right;\">         79.6752</td><td style=\"text-align: right;\">      0.2415    </td><td style=\"text-align: right;\">           0.958333 </td><td style=\"text-align: right;\">     0.100818 </td></tr>\n",
       "<tr><td>TorchTrainer_4f4b8_00027</td><td>TERMINATED</td><td>127.0.0.1:55341</td><td style=\"text-align: right;\"> 32</td><td style=\"text-align: right;\">0.287141</td><td style=\"text-align: right;\"> 32</td><td style=\"text-align: right;\"> 64</td><td style=\"text-align: right;\">512</td><td style=\"text-align: right;\">0.0383546  </td><td style=\"text-align: right;\">     1</td><td style=\"text-align: right;\">         26.0037</td><td style=\"text-align: right;\">      2.32541   </td><td style=\"text-align: right;\">           0.0833333</td><td style=\"text-align: right;\">     2.30572  </td></tr>\n",
       "<tr><td>TorchTrainer_4f4b8_00028</td><td>TERMINATED</td><td>127.0.0.1:55634</td><td style=\"text-align: right;\"> 32</td><td style=\"text-align: right;\">0.111862</td><td style=\"text-align: right;\"> 64</td><td style=\"text-align: right;\">256</td><td style=\"text-align: right;\">512</td><td style=\"text-align: right;\">0.0139594  </td><td style=\"text-align: right;\">     1</td><td style=\"text-align: right;\">         32.2694</td><td style=\"text-align: right;\">      0.913142  </td><td style=\"text-align: right;\">           0.791667 </td><td style=\"text-align: right;\">     0.989577 </td></tr>\n",
       "<tr><td>TorchTrainer_4f4b8_00029</td><td>TERMINATED</td><td>127.0.0.1:55652</td><td style=\"text-align: right;\"> 32</td><td style=\"text-align: right;\">0.216988</td><td style=\"text-align: right;\"> 64</td><td style=\"text-align: right;\"> 64</td><td style=\"text-align: right;\">256</td><td style=\"text-align: right;\">0.000263022</td><td style=\"text-align: right;\">     2</td><td style=\"text-align: right;\">         48.7119</td><td style=\"text-align: right;\">      0.0878393 </td><td style=\"text-align: right;\">           1        </td><td style=\"text-align: right;\">     0.162212 </td></tr>\n",
       "<tr><td>TorchTrainer_4f4b8_00030</td><td>TERMINATED</td><td>127.0.0.1:55740</td><td style=\"text-align: right;\">128</td><td style=\"text-align: right;\">0.126684</td><td style=\"text-align: right;\"> 64</td><td style=\"text-align: right;\">256</td><td style=\"text-align: right;\">128</td><td style=\"text-align: right;\">0.00723271 </td><td style=\"text-align: right;\">     2</td><td style=\"text-align: right;\">         34.1183</td><td style=\"text-align: right;\">      0.188038  </td><td style=\"text-align: right;\">           0.954545 </td><td style=\"text-align: right;\">     0.222781 </td></tr>\n",
       "<tr><td>TorchTrainer_4f4b8_00031</td><td>TERMINATED</td><td>127.0.0.1:55850</td><td style=\"text-align: right;\"> 64</td><td style=\"text-align: right;\">0.119933</td><td style=\"text-align: right;\"> 32</td><td style=\"text-align: right;\">256</td><td style=\"text-align: right;\">512</td><td style=\"text-align: right;\">0.0423337  </td><td style=\"text-align: right;\">     1</td><td style=\"text-align: right;\">         31.3688</td><td style=\"text-align: right;\">      2.29628   </td><td style=\"text-align: right;\">           0.125    </td><td style=\"text-align: right;\">     2.30542  </td></tr>\n",
       "<tr><td>TorchTrainer_4f4b8_00032</td><td>TERMINATED</td><td>127.0.0.1:56302</td><td style=\"text-align: right;\"> 64</td><td style=\"text-align: right;\">0.113682</td><td style=\"text-align: right;\">128</td><td style=\"text-align: right;\"> 64</td><td style=\"text-align: right;\">512</td><td style=\"text-align: right;\">0.0290654  </td><td style=\"text-align: right;\">     1</td><td style=\"text-align: right;\">         28.4496</td><td style=\"text-align: right;\">      2.3016    </td><td style=\"text-align: right;\">           0.166667 </td><td style=\"text-align: right;\">     2.30385  </td></tr>\n",
       "<tr><td>TorchTrainer_4f4b8_00033</td><td>TERMINATED</td><td>127.0.0.1:56369</td><td style=\"text-align: right;\">128</td><td style=\"text-align: right;\">0.216356</td><td style=\"text-align: right;\"> 32</td><td style=\"text-align: right;\"> 64</td><td style=\"text-align: right;\">512</td><td style=\"text-align: right;\">0.000934676</td><td style=\"text-align: right;\">     2</td><td style=\"text-align: right;\">         35.4182</td><td style=\"text-align: right;\">      0.388581  </td><td style=\"text-align: right;\">           0.920455 </td><td style=\"text-align: right;\">     0.177926 </td></tr>\n",
       "<tr><td>TorchTrainer_4f4b8_00036</td><td>TERMINATED</td><td>127.0.0.1:56678</td><td style=\"text-align: right;\"> 64</td><td style=\"text-align: right;\">0.140295</td><td style=\"text-align: right;\"> 32</td><td style=\"text-align: right;\">128</td><td style=\"text-align: right;\">512</td><td style=\"text-align: right;\">0.0394433  </td><td style=\"text-align: right;\">     1</td><td style=\"text-align: right;\">         30.5143</td><td style=\"text-align: right;\">      2.31231   </td><td style=\"text-align: right;\">           0.0416667</td><td style=\"text-align: right;\">     2.30816  </td></tr>\n",
       "</tbody>\n",
       "</table>\n",
       "  </div>\n",
       "</div>\n",
       "<style>\n",
       ".tuneStatus {\n",
       "  color: var(--jp-ui-font-color1);\n",
       "}\n",
       ".tuneStatus .systemInfo {\n",
       "  display: flex;\n",
       "  flex-direction: column;\n",
       "}\n",
       ".tuneStatus td {\n",
       "  white-space: nowrap;\n",
       "}\n",
       ".tuneStatus .trialStatus {\n",
       "  display: flex;\n",
       "  flex-direction: column;\n",
       "}\n",
       ".tuneStatus h3 {\n",
       "  font-weight: bold;\n",
       "}\n",
       ".tuneStatus .hDivider {\n",
       "  border-bottom-width: var(--jp-border-width);\n",
       "  border-bottom-color: var(--jp-border-color0);\n",
       "  border-bottom-style: solid;\n",
       "}\n",
       ".tuneStatus .vDivider {\n",
       "  border-left-width: var(--jp-border-width);\n",
       "  border-left-color: var(--jp-border-color0);\n",
       "  border-left-style: solid;\n",
       "  margin: 0.5em 1em 0.5em 1em;\n",
       "}\n",
       "</style>\n"
      ],
      "text/plain": [
       "<IPython.core.display.HTML object>"
      ]
     },
     "metadata": {},
     "output_type": "display_data"
    },
    {
     "name": "stderr",
     "output_type": "stream",
     "text": [
      "\u001b[36m(TorchTrainer pid=51189)\u001b[0m Started distributed worker processes: \n",
      "\u001b[36m(TorchTrainer pid=51189)\u001b[0m - (node_id=7cc2334a334327f410131b140fb9ad2ae54820f537299598f92261b4, ip=127.0.0.1, pid=51246) world_rank=0, local_rank=0, node_rank=0\n",
      "\u001b[36m(RayTrainWorker pid=51248)\u001b[0m Setting up process group for: env:// [rank=0, world_size=1]\n"
     ]
    },
    {
     "name": "stdout",
     "output_type": "stream",
     "text": [
      "\u001b[36m(RayTrainWorker pid=51247)\u001b[0m printing config {'layer_1_size': 64, 'layer_2_size': 256, 'layer_3_size': 256, 'dropout': 0.16465667111048166, 'batch_size': 128, 'learning_rate': 0.0012649991136170205}\n",
      "\u001b[36m(RayTrainWorker pid=51247)\u001b[0m Downloading http://yann.lecun.com/exdb/mnist/train-images-idx3-ubyte.gz\n"
     ]
    },
    {
     "name": "stderr",
     "output_type": "stream",
     "text": [
      "\u001b[36m(RayTrainWorker pid=51248)\u001b[0m GPU available: True (mps), used: False\n",
      "\u001b[36m(RayTrainWorker pid=51248)\u001b[0m TPU available: False, using: 0 TPU cores\n",
      "\u001b[36m(RayTrainWorker pid=51248)\u001b[0m HPU available: False, using: 0 HPUs\n",
      "\u001b[36m(RayTrainWorker pid=51248)\u001b[0m /Users/sidharrthnagappan/.virtualenvs/lsdp_miniproject/lib/python3.11/site-packages/pytorch_lightning/trainer/setup.py:177: GPU available but not used. You can set it by doing `Trainer(accelerator='gpu')`.\n",
      "\u001b[36m(RayTrainWorker pid=51248)\u001b[0m /Users/sidharrthnagappan/.virtualenvs/lsdp_miniproject/lib/python3.11/site-packages/pytorch_lightning/loops/utilities.py:73: `max_epochs` was not set. Setting it to 1000 epochs. To train without an epoch limit, set `max_epochs=-1`.\n"
     ]
    },
    {
     "name": "stdout",
     "output_type": "stream",
     "text": [
      "\u001b[36m(RayTrainWorker pid=51247)\u001b[0m Failed to download (trying next):\n",
      "\u001b[36m(RayTrainWorker pid=51247)\u001b[0m HTTP Error 403: Forbidden\n",
      "\u001b[36m(RayTrainWorker pid=51247)\u001b[0m \n",
      "\u001b[36m(RayTrainWorker pid=51248)\u001b[0m \n",
      "\u001b[36m(RayTrainWorker pid=51246)\u001b[0m \n",
      "\u001b[36m(RayTrainWorker pid=51249)\u001b[0m \n",
      "\u001b[36m(RayTrainWorker pid=51245)\u001b[0m \n",
      "\u001b[36m(RayTrainWorker pid=51247)\u001b[0m Downloading https://ossci-datasets.s3.amazonaws.com/mnist/train-images-idx3-ubyte.gz to /var/folders/mf/cfzv46p15017stkscsq9jw9h0000gn/T/tmpoka2j6og/MNIST/raw/train-images-idx3-ubyte.gz\n"
     ]
    },
    {
     "name": "stderr",
     "output_type": "stream",
     "text": [
      "  0%|          | 0.00/9.91M [00:00<?, ?B/s]\n",
      "  1%|          | 98.3k/9.91M [00:00<00:16, 599kB/s]\n",
      " 27%|██▋       | 2.72M/9.91M [00:00<00:01, 5.91MB/s]\n",
      " 97%|█████████▋| 9.60M/9.91M [00:01<00:00, 10.5MB/s]\n",
      "100%|██████████| 9.91M/9.91M [00:01<00:00, 8.45MB/s]\n",
      " 92%|█████████▏| 9.14M/9.91M [00:01<00:00, 10.8MB/s]\n"
     ]
    },
    {
     "name": "stdout",
     "output_type": "stream",
     "text": [
      "\u001b[36m(RayTrainWorker pid=51247)\u001b[0m Extracting /var/folders/mf/cfzv46p15017stkscsq9jw9h0000gn/T/tmpoka2j6og/MNIST/raw/train-images-idx3-ubyte.gz to /var/folders/mf/cfzv46p15017stkscsq9jw9h0000gn/T/tmpoka2j6og/MNIST/raw\n",
      "\u001b[36m(RayTrainWorker pid=51247)\u001b[0m \n"
     ]
    },
    {
     "name": "stderr",
     "output_type": "stream",
     "text": [
      " 93%|█████████▎| 9.21M/9.91M [00:01<00:00, 8.75MB/s]\n",
      "100%|██████████| 9.91M/9.91M [00:01<00:00, 7.76MB/s]\n",
      "100%|██████████| 9.91M/9.91M [00:01<00:00, 7.15MB/s]\n",
      "100%|██████████| 9.91M/9.91M [00:01<00:00, 6.96MB/s]\n"
     ]
    },
    {
     "name": "stdout",
     "output_type": "stream",
     "text": [
      "\u001b[36m(RayTrainWorker pid=51245)\u001b[0m \n",
      "\u001b[36m(RayTrainWorker pid=51248)\u001b[0m \n",
      "\u001b[36m(RayTrainWorker pid=51246)\u001b[0m \n"
     ]
    },
    {
     "name": "stderr",
     "output_type": "stream",
     "text": [
      "100%|██████████| 9.91M/9.91M [00:01<00:00, 6.80MB/s]\n"
     ]
    },
    {
     "name": "stdout",
     "output_type": "stream",
     "text": [
      "\u001b[36m(RayTrainWorker pid=51249)\u001b[0m \n",
      "\u001b[36m(RayTrainWorker pid=51247)\u001b[0m \n",
      "\u001b[36m(RayTrainWorker pid=51245)\u001b[0m \n",
      "\u001b[36m(RayTrainWorker pid=51248)\u001b[0m \n",
      "\u001b[36m(RayTrainWorker pid=51246)\u001b[0m \n",
      "\u001b[36m(RayTrainWorker pid=51249)\u001b[0m \n",
      "\u001b[36m(RayTrainWorker pid=51247)\u001b[0m \n",
      "\u001b[36m(RayTrainWorker pid=51245)\u001b[0m \n"
     ]
    },
    {
     "name": "stderr",
     "output_type": "stream",
     "text": [
      "100%|██████████| 28.9k/28.9k [00:00<00:00, 346kB/s]\n",
      "100%|██████████| 28.9k/28.9k [00:00<00:00, 334kB/s]\n"
     ]
    },
    {
     "name": "stdout",
     "output_type": "stream",
     "text": [
      "\u001b[36m(RayTrainWorker pid=51248)\u001b[0m \n",
      "\u001b[36m(RayTrainWorker pid=51246)\u001b[0m \n",
      "\u001b[36m(RayTrainWorker pid=51249)\u001b[0m \n"
     ]
    },
    {
     "name": "stderr",
     "output_type": "stream",
     "text": [
      "100%|██████████| 28.9k/28.9k [00:00<00:00, 343kB/s]\n",
      "100%|██████████| 28.9k/28.9k [00:00<00:00, 341kB/s]\n",
      "100%|██████████| 28.9k/28.9k [00:00<00:00, 346kB/s]\n"
     ]
    },
    {
     "name": "stdout",
     "output_type": "stream",
     "text": [
      "\u001b[36m(RayTrainWorker pid=51247)\u001b[0m \n",
      "\u001b[36m(RayTrainWorker pid=51245)\u001b[0m \n",
      "\u001b[36m(RayTrainWorker pid=51248)\u001b[0m \n",
      "\u001b[36m(RayTrainWorker pid=51246)\u001b[0m \n",
      "\u001b[36m(RayTrainWorker pid=51249)\u001b[0m \n"
     ]
    },
    {
     "name": "stderr",
     "output_type": "stream",
     "text": [
      "\u001b[36m(TorchTrainer pid=51188)\u001b[0m Started distributed worker processes: \u001b[32m [repeated 4x across cluster] (Ray deduplicates logs by default. Set RAY_DEDUP_LOGS=0 to disable log deduplication, or see https://docs.ray.io/en/master/ray-observability/user-guides/configure-logging.html#log-deduplication for more options.)\u001b[0m\n",
      "\u001b[36m(TorchTrainer pid=51188)\u001b[0m - (node_id=7cc2334a334327f410131b140fb9ad2ae54820f537299598f92261b4, ip=127.0.0.1, pid=51245) world_rank=0, local_rank=0, node_rank=0\u001b[32m [repeated 4x across cluster]\u001b[0m\n",
      "\u001b[36m(RayTrainWorker pid=51245)\u001b[0m Setting up process group for: env:// [rank=0, world_size=1]\u001b[32m [repeated 4x across cluster]\u001b[0m\n",
      "\u001b[36m(RayTrainWorker pid=51245)\u001b[0m GPU available: True (mps), used: False\u001b[32m [repeated 4x across cluster]\u001b[0m\n",
      "\u001b[36m(RayTrainWorker pid=51245)\u001b[0m TPU available: False, using: 0 TPU cores\u001b[32m [repeated 4x across cluster]\u001b[0m\n",
      "\u001b[36m(RayTrainWorker pid=51245)\u001b[0m HPU available: False, using: 0 HPUs\u001b[32m [repeated 4x across cluster]\u001b[0m\n",
      "\u001b[36m(RayTrainWorker pid=51245)\u001b[0m /Users/sidharrthnagappan/.virtualenvs/lsdp_miniproject/lib/python3.11/site-packages/pytorch_lightning/trainer/setup.py:177: GPU available but not used. You can set it by doing `Trainer(accelerator='gpu')`.\u001b[32m [repeated 4x across cluster]\u001b[0m\n",
      "\u001b[36m(RayTrainWorker pid=51245)\u001b[0m /Users/sidharrthnagappan/.virtualenvs/lsdp_miniproject/lib/python3.11/site-packages/pytorch_lightning/loops/utilities.py:73: `max_epochs` was not set. Setting it to 1000 epochs. To train without an epoch limit, set `max_epochs=-1`.\u001b[32m [repeated 4x across cluster]\u001b[0m\n",
      "100%|██████████| 1.65M/1.65M [00:00<00:00, 3.30MB/s]\n"
     ]
    },
    {
     "name": "stdout",
     "output_type": "stream",
     "text": [
      "\u001b[36m(RayTrainWorker pid=51247)\u001b[0m \n",
      "\u001b[36m(RayTrainWorker pid=51245)\u001b[0m printing config {'layer_1_size': 64, 'layer_2_size': 64, 'layer_3_size': 512, 'dropout': 0.24417686558658022, 'batch_size': 32, 'learning_rate': 0.0012850365068080222}\u001b[32m [repeated 4x across cluster]\u001b[0m\n",
      "\u001b[36m(RayTrainWorker pid=51247)\u001b[0m Downloading http://yann.lecun.com/exdb/mnist/t10k-labels-idx1-ubyte.gz\u001b[32m [repeated 30x across cluster]\u001b[0m\n",
      "\u001b[36m(RayTrainWorker pid=51245)\u001b[0m \n",
      "\u001b[36m(RayTrainWorker pid=51248)\u001b[0m \n",
      "\u001b[36m(RayTrainWorker pid=51246)\u001b[0m \n",
      "\u001b[36m(RayTrainWorker pid=51249)\u001b[0m Failed to download (trying next):\u001b[32m [repeated 14x across cluster]\u001b[0m\n",
      "\u001b[36m(RayTrainWorker pid=51249)\u001b[0m HTTP Error 403: Forbidden\u001b[32m [repeated 14x across cluster]\u001b[0m\n",
      "\u001b[36m(RayTrainWorker pid=51249)\u001b[0m \n"
     ]
    },
    {
     "name": "stderr",
     "output_type": "stream",
     "text": [
      "100%|██████████| 1.65M/1.65M [00:00<00:00, 3.28MB/s]\n"
     ]
    },
    {
     "name": "stdout",
     "output_type": "stream",
     "text": [
      "\u001b[36m(RayTrainWorker pid=51247)\u001b[0m \n",
      "\u001b[36m(RayTrainWorker pid=51249)\u001b[0m Downloading https://ossci-datasets.s3.amazonaws.com/mnist/t10k-images-idx3-ubyte.gz to /var/folders/mf/cfzv46p15017stkscsq9jw9h0000gn/T/tmpccl95zix/MNIST/raw/t10k-images-idx3-ubyte.gz\u001b[32m [repeated 14x across cluster]\u001b[0m\n",
      "\u001b[36m(RayTrainWorker pid=51245)\u001b[0m \n",
      "\u001b[36m(RayTrainWorker pid=51248)\u001b[0m \n",
      "\u001b[36m(RayTrainWorker pid=51246)\u001b[0m \n",
      "\u001b[36m(RayTrainWorker pid=51249)\u001b[0m \n",
      "\u001b[36m(RayTrainWorker pid=51247)\u001b[0m \n"
     ]
    },
    {
     "name": "stderr",
     "output_type": "stream",
     "text": [
      "100%|██████████| 4.54k/4.54k [00:00<00:00, 3.33MB/s]\u001b[32m [repeated 15x across cluster]\u001b[0m\n",
      "100%|██████████| 1.65M/1.65M [00:00<00:00, 3.25MB/s]\u001b[32m [repeated 55x across cluster]\u001b[0m\n",
      "\u001b[36m(RayTrainWorker pid=51247)\u001b[0m \n",
      "\u001b[36m(RayTrainWorker pid=51247)\u001b[0m   | Name     | Type               | Params | Mode \n",
      "\u001b[36m(RayTrainWorker pid=51247)\u001b[0m --------------------------------------------------------\n",
      "\u001b[36m(RayTrainWorker pid=51247)\u001b[0m 0 | accuracy | MulticlassAccuracy | 0      | train\n",
      "\u001b[36m(RayTrainWorker pid=51247)\u001b[0m 1 | layer1   | Linear             | 50.2 K | train\n",
      "\u001b[36m(RayTrainWorker pid=51247)\u001b[0m 2 | layer2   | Linear             | 16.6 K | train\n",
      "\u001b[36m(RayTrainWorker pid=51247)\u001b[0m 3 | layer3   | Linear             | 65.8 K | train\n",
      "\u001b[36m(RayTrainWorker pid=51247)\u001b[0m 4 | layer4   | Linear             | 2.6 K  | train\n",
      "\u001b[36m(RayTrainWorker pid=51247)\u001b[0m 5 | dropout  | Dropout            | 0      | train\n",
      "\u001b[36m(RayTrainWorker pid=51247)\u001b[0m --------------------------------------------------------\n",
      "\u001b[36m(RayTrainWorker pid=51247)\u001b[0m 135 K     Trainable params\n",
      "\u001b[36m(RayTrainWorker pid=51247)\u001b[0m 0         Non-trainable params\n",
      "\u001b[36m(RayTrainWorker pid=51247)\u001b[0m 135 K     Total params\n",
      "\u001b[36m(RayTrainWorker pid=51247)\u001b[0m 0.541     Total estimated model params size (MB)\n",
      "\u001b[36m(RayTrainWorker pid=51247)\u001b[0m 6         Modules in train mode\n",
      "\u001b[36m(RayTrainWorker pid=51247)\u001b[0m 0         Modules in eval mode\n",
      "\u001b[36m(RayTrainWorker pid=51247)\u001b[0m /Users/sidharrthnagappan/.virtualenvs/lsdp_miniproject/lib/python3.11/site-packages/pytorch_lightning/trainer/connectors/data_connector.py:420: Consider setting `persistent_workers=True` in 'val_dataloader' to speed up the dataloader worker initialization.\n"
     ]
    },
    {
     "name": "stdout",
     "output_type": "stream",
     "text": [
      "\u001b[36m(RayTrainWorker pid=51248)\u001b[0m \n",
      "\u001b[36m(RayTrainWorker pid=51245)\u001b[0m \n",
      "\u001b[36m(RayTrainWorker pid=51246)\u001b[0m \n",
      "\u001b[36m(RayTrainWorker pid=51249)\u001b[0m \n"
     ]
    },
    {
     "name": "stderr",
     "output_type": "stream",
     "text": [
      "\u001b[36m(RayTrainWorker pid=51245)\u001b[0m \n",
      "\u001b[36m(RayTrainWorker pid=51248)\u001b[0m \n",
      "\u001b[36m(RayTrainWorker pid=51246)\u001b[0m \n",
      "\u001b[36m(RayTrainWorker pid=51249)\u001b[0m \n",
      "\u001b[36m(RayTrainWorker pid=51247)\u001b[0m /Users/sidharrthnagappan/.virtualenvs/lsdp_miniproject/lib/python3.11/site-packages/pytorch_lightning/trainer/connectors/data_connector.py:420: Consider setting `persistent_workers=True` in 'train_dataloader' to speed up the dataloader worker initialization.\n",
      " 63%|██████▎   | 6.26M/9.91M [00:01<00:00, 8.76MB/s]\n",
      "100%|██████████| 4.54k/4.54k [00:00<00:00, 4.35MB/s]\u001b[32m [repeated 4x across cluster]\u001b[0m\n",
      "\u001b[36m(RayTrainWorker pid=51249)\u001b[0m   | Name     | Type               | Params | Mode \u001b[32m [repeated 4x across cluster]\u001b[0m\n",
      "\u001b[36m(RayTrainWorker pid=51249)\u001b[0m --------------------------------------------------------\u001b[32m [repeated 8x across cluster]\u001b[0m\n",
      "\u001b[36m(RayTrainWorker pid=51249)\u001b[0m 0 | accuracy | MulticlassAccuracy | 0      | train\u001b[32m [repeated 4x across cluster]\u001b[0m\n",
      "\u001b[36m(RayTrainWorker pid=51249)\u001b[0m 4 | layer4   | Linear             | 1.3 K  | train\u001b[32m [repeated 16x across cluster]\u001b[0m\n",
      "\u001b[36m(RayTrainWorker pid=51249)\u001b[0m 5 | dropout  | Dropout            | 0      | train\u001b[32m [repeated 4x across cluster]\u001b[0m\n",
      "\u001b[36m(RayTrainWorker pid=51249)\u001b[0m 167 K     Trainable params\u001b[32m [repeated 4x across cluster]\u001b[0m\n",
      "\u001b[36m(RayTrainWorker pid=51249)\u001b[0m 0         Non-trainable params\u001b[32m [repeated 4x across cluster]\u001b[0m\n",
      "\u001b[36m(RayTrainWorker pid=51249)\u001b[0m 167 K     Total params\u001b[32m [repeated 4x across cluster]\u001b[0m\n",
      "\u001b[36m(RayTrainWorker pid=51249)\u001b[0m 0.671     Total estimated model params size (MB)\u001b[32m [repeated 4x across cluster]\u001b[0m\n",
      "\u001b[36m(RayTrainWorker pid=51249)\u001b[0m 6         Modules in train mode\u001b[32m [repeated 4x across cluster]\u001b[0m\n",
      "\u001b[36m(RayTrainWorker pid=51249)\u001b[0m 0         Modules in eval mode\u001b[32m [repeated 4x across cluster]\u001b[0m\n",
      "\u001b[36m(RayTrainWorker pid=51249)\u001b[0m /Users/sidharrthnagappan/.virtualenvs/lsdp_miniproject/lib/python3.11/site-packages/pytorch_lightning/trainer/connectors/data_connector.py:420: Consider setting `persistent_workers=True` in 'val_dataloader' to speed up the dataloader worker initialization.\u001b[32m [repeated 4x across cluster]\u001b[0m\n",
      "\u001b[36m(RayTrainWorker pid=51248)\u001b[0m Checkpoint successfully created at: Checkpoint(filesystem=local, path=/Users/sidharrthnagappan/ray_results/TorchTrainer_2024-12-24_17-34-19/TorchTrainer_4f4b8_00003_3_batch_size=128,dropout=0.2106,layer_1_size=128,layer_2_size=64,layer_3_size=128,learning_rate=0.0230_2024-12-24_17-34-21/checkpoint_000000)\n",
      "\u001b[36m(RayTrainWorker pid=51249)\u001b[0m /Users/sidharrthnagappan/.virtualenvs/lsdp_miniproject/lib/python3.11/site-packages/pytorch_lightning/trainer/connectors/data_connector.py:420: Consider setting `persistent_workers=True` in 'train_dataloader' to speed up the dataloader worker initialization.\u001b[32m [repeated 4x across cluster]\u001b[0m\n",
      "\u001b[36m(RayTrainWorker pid=51249)\u001b[0m Checkpoint successfully created at: Checkpoint(filesystem=local, path=/Users/sidharrthnagappan/ray_results/TorchTrainer_2024-12-24_17-34-19/TorchTrainer_4f4b8_00001_1_batch_size=64,dropout=0.1630,layer_1_size=128,layer_2_size=256,layer_3_size=128,learning_rate=0.0033_2024-12-24_17-34-21/checkpoint_000000)\u001b[32m [repeated 3x across cluster]\u001b[0m\n",
      "\u001b[36m(RayTrainWorker pid=51249)\u001b[0m Traceback (most recent call last):\n",
      "\u001b[36m(RayTrainWorker pid=51249)\u001b[0m   File \"<string>\", line 1, in <module>\n",
      "\u001b[36m(RayTrainWorker pid=51249)\u001b[0m   File \"/Users/sidharrthnagappan/.pyenv/versions/3.11.0/lib/python3.11/multiprocessing/spawn.py\", line 120, in spawn_main\n",
      "\u001b[36m(RayTrainWorker pid=51249)\u001b[0m     exitcode = _main(fd, parent_sentinel)\n",
      "\u001b[36m(RayTrainWorker pid=51249)\u001b[0m                ^^^^^^^^^^^^^^^^^^^^^^^^^^\n",
      "\u001b[36m(RayTrainWorker pid=51249)\u001b[0m   File \"/Users/sidharrthnagappan/.pyenv/versions/3.11.0/lib/python3.11/multiprocessing/spawn.py\", line 130, in _main\n",
      "\u001b[36m(RayTrainWorker pid=51249)\u001b[0m     self = reduction.pickle.load(from_parent)\n",
      "\u001b[36m(RayTrainWorker pid=51249)\u001b[0m            ^^^^^^^^^^^^^^^^^^^^^^^^^^^^^^^^^^\n",
      "\u001b[36m(RayTrainWorker pid=51249)\u001b[0m _pickle.UnpicklingError: pickle data was truncated\n",
      "\u001b[36m(RayTrainWorker pid=51249)\u001b[0m /Users/sidharrthnagappan/.pyenv/versions/3.11.0/lib/python3.11/multiprocessing/resource_tracker.py:224: UserWarning: resource_tracker: There appear to be 55 leaked semaphore objects to clean up at shutdown\n",
      "\u001b[36m(RayTrainWorker pid=51249)\u001b[0m   warnings.warn('resource_tracker: There appear to be %d '\n",
      "\u001b[36m(RayTrainWorker pid=51245)\u001b[0m Checkpoint successfully created at: Checkpoint(filesystem=local, path=/Users/sidharrthnagappan/ray_results/TorchTrainer_2024-12-24_17-34-19/TorchTrainer_4f4b8_00004_4_batch_size=32,dropout=0.2442,layer_1_size=64,layer_2_size=64,layer_3_size=512,learning_rate=0.0013_2024-12-24_17-34-21/checkpoint_000000)\n",
      "\u001b[36m(RayTrainWorker pid=51245)\u001b[0m Traceback (most recent call last):\n",
      "\u001b[36m(RayTrainWorker pid=51245)\u001b[0m   File \"<string>\", line 1, in <module>\n",
      "\u001b[36m(RayTrainWorker pid=51245)\u001b[0m   File \"/Users/sidharrthnagappan/.pyenv/versions/3.11.0/lib/python3.11/multiprocessing/spawn.py\", line 120, in spawn_main\n",
      "\u001b[36m(RayTrainWorker pid=51245)\u001b[0m     exitcode = _main(fd, parent_sentinel)\n",
      "\u001b[36m(RayTrainWorker pid=51245)\u001b[0m                ^^^^^^^^^^^^^^^^^^^^^^^^^^\n",
      "\u001b[36m(RayTrainWorker pid=51245)\u001b[0m   File \"/Users/sidharrthnagappan/.pyenv/versions/3.11.0/lib/python3.11/multiprocessing/spawn.py\", line 130, in _main\n",
      "\u001b[36m(RayTrainWorker pid=51245)\u001b[0m     self = reduction.pickle.load(from_parent)\n",
      "\u001b[36m(RayTrainWorker pid=51245)\u001b[0m            ^^^^^^^^^^^^^^^^^^^^^^^^^^^^^^^^^^\n",
      "\u001b[36m(RayTrainWorker pid=51245)\u001b[0m _pickle.UnpicklingError: pickle data was truncated\n",
      "\u001b[36m(RayTrainWorker pid=51245)\u001b[0m /Users/sidharrthnagappan/.pyenv/versions/3.11.0/lib/python3.11/multiprocessing/resource_tracker.py:224: UserWarning: resource_tracker: There appear to be 55 leaked semaphore objects to clean up at shutdown\n",
      "\u001b[36m(RayTrainWorker pid=51245)\u001b[0m   warnings.warn('resource_tracker: There appear to be %d '\n",
      "\u001b[36m(RayTrainWorker pid=51247)\u001b[0m Checkpoint successfully created at: Checkpoint(filesystem=local, path=/Users/sidharrthnagappan/ray_results/TorchTrainer_2024-12-24_17-34-19/TorchTrainer_4f4b8_00000_0_batch_size=128,dropout=0.1647,layer_1_size=64,layer_2_size=256,layer_3_size=256,learning_rate=0.0013_2024-12-24_17-34-21/checkpoint_000001)\u001b[32m [repeated 2x across cluster]\u001b[0m\n",
      "\u001b[36m(RayTrainWorker pid=51907)\u001b[0m Setting up process group for: env:// [rank=0, world_size=1]\n",
      "\u001b[36m(TorchTrainer pid=51786)\u001b[0m Started distributed worker processes: \n",
      "\u001b[36m(TorchTrainer pid=51786)\u001b[0m - (node_id=7cc2334a334327f410131b140fb9ad2ae54820f537299598f92261b4, ip=127.0.0.1, pid=51907) world_rank=0, local_rank=0, node_rank=0\n"
     ]
    },
    {
     "name": "stdout",
     "output_type": "stream",
     "text": [
      "\u001b[36m(RayTrainWorker pid=51249)\u001b[0m Extracting /var/folders/mf/cfzv46p15017stkscsq9jw9h0000gn/T/tmpccl95zix/MNIST/raw/t10k-labels-idx1-ubyte.gz to /var/folders/mf/cfzv46p15017stkscsq9jw9h0000gn/T/tmpccl95zix/MNIST/raw\u001b[32m [repeated 19x across cluster]\u001b[0m\n",
      "\u001b[36m(RayTrainWorker pid=51907)\u001b[0m printing config {'layer_1_size': 32, 'layer_2_size': 128, 'layer_3_size': 256, 'dropout': 0.21873339805254258, 'batch_size': 64, 'learning_rate': 0.0017592276854866433}\n",
      "\u001b[36m(RayTrainWorker pid=51249)\u001b[0m Downloading https://ossci-datasets.s3.amazonaws.com/mnist/t10k-labels-idx1-ubyte.gz\u001b[32m [repeated 9x across cluster]\u001b[0m\n",
      "\u001b[36m(RayTrainWorker pid=51249)\u001b[0m Failed to download (trying next):\u001b[32m [repeated 5x across cluster]\u001b[0m\n",
      "\u001b[36m(RayTrainWorker pid=51249)\u001b[0m HTTP Error 403: Forbidden\u001b[32m [repeated 5x across cluster]\u001b[0m\n",
      "\u001b[36m(RayTrainWorker pid=51249)\u001b[0m Downloading https://ossci-datasets.s3.amazonaws.com/mnist/t10k-labels-idx1-ubyte.gz to /var/folders/mf/cfzv46p15017stkscsq9jw9h0000gn/T/tmpccl95zix/MNIST/raw/t10k-labels-idx1-ubyte.gz\u001b[32m [repeated 5x across cluster]\u001b[0m\n"
     ]
    },
    {
     "name": "stderr",
     "output_type": "stream",
     "text": [
      "\u001b[36m(RayTrainWorker pid=51907)\u001b[0m GPU available: True (mps), used: False\n",
      "\u001b[36m(RayTrainWorker pid=51907)\u001b[0m TPU available: False, using: 0 TPU cores\n",
      "\u001b[36m(RayTrainWorker pid=51907)\u001b[0m HPU available: False, using: 0 HPUs\n",
      "\u001b[36m(RayTrainWorker pid=51907)\u001b[0m /Users/sidharrthnagappan/.virtualenvs/lsdp_miniproject/lib/python3.11/site-packages/pytorch_lightning/trainer/setup.py:177: GPU available but not used. You can set it by doing `Trainer(accelerator='gpu')`.\n",
      "\u001b[36m(RayTrainWorker pid=51907)\u001b[0m /Users/sidharrthnagappan/.virtualenvs/lsdp_miniproject/lib/python3.11/site-packages/pytorch_lightning/loops/utilities.py:73: `max_epochs` was not set. Setting it to 1000 epochs. To train without an epoch limit, set `max_epochs=-1`.\n"
     ]
    },
    {
     "name": "stdout",
     "output_type": "stream",
     "text": [
      "\u001b[36m(RayTrainWorker pid=51907)\u001b[0m \n"
     ]
    },
    {
     "name": "stderr",
     "output_type": "stream",
     "text": [
      "  0%|          | 0.00/9.91M [00:00<?, ?B/s]\n",
      "  1%|          | 98.3k/9.91M [00:00<00:16, 592kB/s]\n",
      "  4%|▍         | 426k/9.91M [00:00<00:06, 1.39MB/s]\n",
      " 15%|█▍        | 1.47M/9.91M [00:00<00:01, 4.42MB/s]\n",
      " 23%|██▎       | 2.29M/9.91M [00:00<00:01, 4.42MB/s]\n",
      " 68%|██████▊   | 6.72M/9.91M [00:00<00:00, 15.0MB/s]\n",
      " 87%|████████▋ | 8.65M/9.91M [00:00<00:00, 13.9MB/s]\n",
      "100%|██████████| 9.91M/9.91M [00:00<00:00, 10.2MB/s]\n"
     ]
    },
    {
     "name": "stdout",
     "output_type": "stream",
     "text": [
      "\u001b[36m(RayTrainWorker pid=51907)\u001b[0m \n",
      "\u001b[36m(RayTrainWorker pid=51907)\u001b[0m \n"
     ]
    },
    {
     "name": "stderr",
     "output_type": "stream",
     "text": [
      "  0%|          | 0.00/28.9k [00:00<?, ?B/s]\n",
      "100%|██████████| 28.9k/28.9k [00:00<00:00, 334kB/s]\n"
     ]
    },
    {
     "name": "stdout",
     "output_type": "stream",
     "text": [
      "\u001b[36m(RayTrainWorker pid=51907)\u001b[0m \n",
      "\u001b[36m(RayTrainWorker pid=51907)\u001b[0m \n"
     ]
    },
    {
     "name": "stderr",
     "output_type": "stream",
     "text": [
      "  0%|          | 0.00/1.65M [00:00<?, ?B/s]\n",
      "\u001b[36m(RayTrainWorker pid=51246)\u001b[0m Checkpoint successfully created at: Checkpoint(filesystem=local, path=/Users/sidharrthnagappan/ray_results/TorchTrainer_2024-12-24_17-34-19/TorchTrainer_4f4b8_00002_2_batch_size=64,dropout=0.1395,layer_1_size=64,layer_2_size=64,layer_3_size=256,learning_rate=0.0017_2024-12-24_17-34-21/checkpoint_000001)\n",
      "\u001b[36m(RayTrainWorker pid=52006)\u001b[0m Setting up process group for: env:// [rank=0, world_size=1]\n",
      "\u001b[36m(TorchTrainer pid=51894)\u001b[0m Started distributed worker processes: \n",
      "\u001b[36m(TorchTrainer pid=51894)\u001b[0m - (node_id=7cc2334a334327f410131b140fb9ad2ae54820f537299598f92261b4, ip=127.0.0.1, pid=52006) world_rank=0, local_rank=0, node_rank=0\n"
     ]
    },
    {
     "name": "stdout",
     "output_type": "stream",
     "text": [
      "\u001b[36m(RayTrainWorker pid=52006)\u001b[0m printing config {'layer_1_size': 64, 'layer_2_size': 256, 'layer_3_size': 128, 'dropout': 0.21735158263460483, 'batch_size': 64, 'learning_rate': 0.008840953012473073}\n"
     ]
    },
    {
     "name": "stderr",
     "output_type": "stream",
     "text": [
      "  6%|▌         | 98.3k/1.65M [00:00<00:02, 587kB/s]\n",
      " 24%|██▍       | 393k/1.65M [00:00<00:00, 1.58MB/s]\n",
      "\u001b[36m(RayTrainWorker pid=51248)\u001b[0m Checkpoint successfully created at: Checkpoint(filesystem=local, path=/Users/sidharrthnagappan/ray_results/TorchTrainer_2024-12-24_17-34-19/TorchTrainer_4f4b8_00003_3_batch_size=128,dropout=0.2106,layer_1_size=128,layer_2_size=64,layer_3_size=128,learning_rate=0.0230_2024-12-24_17-34-21/checkpoint_000002)\n",
      " 50%|████▉     | 819k/1.65M [00:00<00:00, 2.25MB/s]\n",
      "100%|██████████| 1.65M/1.65M [00:00<00:00, 3.60MB/s]\n",
      "\u001b[36m(RayTrainWorker pid=52006)\u001b[0m GPU available: True (mps), used: False\n",
      "\u001b[36m(RayTrainWorker pid=52006)\u001b[0m TPU available: False, using: 0 TPU cores\n",
      "\u001b[36m(RayTrainWorker pid=52006)\u001b[0m HPU available: False, using: 0 HPUs\n",
      "\u001b[36m(RayTrainWorker pid=52006)\u001b[0m /Users/sidharrthnagappan/.virtualenvs/lsdp_miniproject/lib/python3.11/site-packages/pytorch_lightning/trainer/setup.py:177: GPU available but not used. You can set it by doing `Trainer(accelerator='gpu')`.\n",
      "\u001b[36m(RayTrainWorker pid=52006)\u001b[0m /Users/sidharrthnagappan/.virtualenvs/lsdp_miniproject/lib/python3.11/site-packages/pytorch_lightning/loops/utilities.py:73: `max_epochs` was not set. Setting it to 1000 epochs. To train without an epoch limit, set `max_epochs=-1`.\n"
     ]
    },
    {
     "name": "stdout",
     "output_type": "stream",
     "text": [
      "\u001b[36m(RayTrainWorker pid=51907)\u001b[0m \n",
      "\u001b[36m(RayTrainWorker pid=51907)\u001b[0m Extracting /var/folders/mf/cfzv46p15017stkscsq9jw9h0000gn/T/tmp0c_zbc36/MNIST/raw/t10k-images-idx3-ubyte.gz to /var/folders/mf/cfzv46p15017stkscsq9jw9h0000gn/T/tmp0c_zbc36/MNIST/raw\u001b[32m [repeated 3x across cluster]\u001b[0m\n",
      "\u001b[36m(RayTrainWorker pid=51907)\u001b[0m Downloading http://yann.lecun.com/exdb/mnist/t10k-labels-idx1-ubyte.gz\u001b[32m [repeated 8x across cluster]\u001b[0m\n",
      "\u001b[36m(RayTrainWorker pid=51907)\u001b[0m Failed to download (trying next):\u001b[32m [repeated 3x across cluster]\u001b[0m\n",
      "\u001b[36m(RayTrainWorker pid=51907)\u001b[0m HTTP Error 403: Forbidden\u001b[32m [repeated 3x across cluster]\u001b[0m\n",
      "\u001b[36m(RayTrainWorker pid=51907)\u001b[0m Downloading https://ossci-datasets.s3.amazonaws.com/mnist/t10k-images-idx3-ubyte.gz to /var/folders/mf/cfzv46p15017stkscsq9jw9h0000gn/T/tmp0c_zbc36/MNIST/raw/t10k-images-idx3-ubyte.gz\u001b[32m [repeated 3x across cluster]\u001b[0m\n",
      "\u001b[36m(RayTrainWorker pid=52006)\u001b[0m \n",
      "\u001b[36m(RayTrainWorker pid=51907)\u001b[0m \n",
      "\u001b[36m(RayTrainWorker pid=51907)\u001b[0m \n"
     ]
    },
    {
     "name": "stderr",
     "output_type": "stream",
     "text": [
      "\u001b[36m(RayTrainWorker pid=51907)\u001b[0m \n",
      "\u001b[36m(RayTrainWorker pid=51907)\u001b[0m   | Name     | Type               | Params | Mode \n",
      "\u001b[36m(RayTrainWorker pid=51907)\u001b[0m --------------------------------------------------------\n",
      "\u001b[36m(RayTrainWorker pid=51907)\u001b[0m 0 | accuracy | MulticlassAccuracy | 0      | train\n",
      "\u001b[36m(RayTrainWorker pid=51907)\u001b[0m 1 | layer1   | Linear             | 25.1 K | train\n",
      "\u001b[36m(RayTrainWorker pid=51907)\u001b[0m 2 | layer2   | Linear             | 4.2 K  | train\n",
      "\u001b[36m(RayTrainWorker pid=51907)\u001b[0m 3 | layer3   | Linear             | 33.0 K | train\n",
      "\u001b[36m(RayTrainWorker pid=51907)\u001b[0m 4 | layer4   | Linear             | 2.6 K  | train\n",
      "\u001b[36m(RayTrainWorker pid=51907)\u001b[0m 5 | dropout  | Dropout            | 0      | train\n",
      "\u001b[36m(RayTrainWorker pid=51907)\u001b[0m --------------------------------------------------------\n",
      "\u001b[36m(RayTrainWorker pid=51907)\u001b[0m 64.9 K    Trainable params\n",
      "\u001b[36m(RayTrainWorker pid=51907)\u001b[0m 0         Non-trainable params\n",
      "\u001b[36m(RayTrainWorker pid=51907)\u001b[0m 64.9 K    Total params\n",
      "\u001b[36m(RayTrainWorker pid=51907)\u001b[0m 0.260     Total estimated model params size (MB)\n",
      "\u001b[36m(RayTrainWorker pid=51907)\u001b[0m 6         Modules in train mode\n",
      "\u001b[36m(RayTrainWorker pid=51907)\u001b[0m 0         Modules in eval mode\n",
      "\u001b[36m(RayTrainWorker pid=51907)\u001b[0m /Users/sidharrthnagappan/.virtualenvs/lsdp_miniproject/lib/python3.11/site-packages/pytorch_lightning/trainer/connectors/data_connector.py:420: Consider setting `persistent_workers=True` in 'val_dataloader' to speed up the dataloader worker initialization.\n",
      "100%|██████████| 4.54k/4.54k [00:00<00:00, 1.18MB/s]\u001b[32m [repeated 2x across cluster]\u001b[0m\n",
      " 29%|██▉       | 2.85M/9.91M [00:00<00:01, 5.68MB/s]\u001b[32m [repeated 4x across cluster]\u001b[0m\n",
      "100%|██████████| 9.91M/9.91M [00:00<00:00, 10.4MB/s]\n"
     ]
    },
    {
     "name": "stdout",
     "output_type": "stream",
     "text": [
      "\u001b[36m(RayTrainWorker pid=52006)\u001b[0m \n",
      "\u001b[36m(RayTrainWorker pid=52006)\u001b[0m \n"
     ]
    },
    {
     "name": "stderr",
     "output_type": "stream",
     "text": [
      "100%|██████████| 28.9k/28.9k [00:00<00:00, 344kB/s]\n"
     ]
    },
    {
     "name": "stdout",
     "output_type": "stream",
     "text": [
      "\u001b[36m(RayTrainWorker pid=52006)\u001b[0m \n",
      "\u001b[36m(RayTrainWorker pid=52006)\u001b[0m \n"
     ]
    },
    {
     "name": "stderr",
     "output_type": "stream",
     "text": [
      "\u001b[36m(RayTrainWorker pid=51907)\u001b[0m /Users/sidharrthnagappan/.virtualenvs/lsdp_miniproject/lib/python3.11/site-packages/pytorch_lightning/trainer/connectors/data_connector.py:420: Consider setting `persistent_workers=True` in 'train_dataloader' to speed up the dataloader worker initialization.\n",
      "100%|██████████| 1.65M/1.65M [00:00<00:00, 3.13MB/s]\n"
     ]
    },
    {
     "name": "stdout",
     "output_type": "stream",
     "text": [
      "\u001b[36m(RayTrainWorker pid=52006)\u001b[0m \n",
      "\u001b[36m(RayTrainWorker pid=52006)\u001b[0m \n",
      "\u001b[36m(RayTrainWorker pid=52006)\u001b[0m Extracting /var/folders/mf/cfzv46p15017stkscsq9jw9h0000gn/T/tmplt8lwpzy/MNIST/raw/t10k-images-idx3-ubyte.gz to /var/folders/mf/cfzv46p15017stkscsq9jw9h0000gn/T/tmplt8lwpzy/MNIST/raw\u001b[32m [repeated 4x across cluster]\u001b[0m\n",
      "\u001b[36m(RayTrainWorker pid=52006)\u001b[0m Downloading https://ossci-datasets.s3.amazonaws.com/mnist/t10k-labels-idx1-ubyte.gz\u001b[32m [repeated 8x across cluster]\u001b[0m\n",
      "\u001b[36m(RayTrainWorker pid=52006)\u001b[0m Failed to download (trying next):\u001b[32m [repeated 5x across cluster]\u001b[0m\n",
      "\u001b[36m(RayTrainWorker pid=52006)\u001b[0m HTTP Error 403: Forbidden\u001b[32m [repeated 5x across cluster]\u001b[0m\n",
      "\u001b[36m(RayTrainWorker pid=52006)\u001b[0m Downloading https://ossci-datasets.s3.amazonaws.com/mnist/t10k-images-idx3-ubyte.gz to /var/folders/mf/cfzv46p15017stkscsq9jw9h0000gn/T/tmplt8lwpzy/MNIST/raw/t10k-images-idx3-ubyte.gz\u001b[32m [repeated 4x across cluster]\u001b[0m\n"
     ]
    },
    {
     "name": "stderr",
     "output_type": "stream",
     "text": [
      "\u001b[36m(RayTrainWorker pid=52006)\u001b[0m \n",
      "\u001b[36m(RayTrainWorker pid=51247)\u001b[0m Checkpoint successfully created at: Checkpoint(filesystem=local, path=/Users/sidharrthnagappan/ray_results/TorchTrainer_2024-12-24_17-34-19/TorchTrainer_4f4b8_00000_0_batch_size=128,dropout=0.1647,layer_1_size=64,layer_2_size=256,layer_3_size=256,learning_rate=0.0013_2024-12-24_17-34-21/checkpoint_000002)\n"
     ]
    },
    {
     "name": "stdout",
     "output_type": "stream",
     "text": [
      "\u001b[36m(RayTrainWorker pid=52006)\u001b[0m \n"
     ]
    },
    {
     "name": "stderr",
     "output_type": "stream",
     "text": [
      "\u001b[36m(RayTrainWorker pid=51246)\u001b[0m Checkpoint successfully created at: Checkpoint(filesystem=local, path=/Users/sidharrthnagappan/ray_results/TorchTrainer_2024-12-24_17-34-19/TorchTrainer_4f4b8_00002_2_batch_size=64,dropout=0.1395,layer_1_size=64,layer_2_size=64,layer_3_size=256,learning_rate=0.0017_2024-12-24_17-34-21/checkpoint_000002)\n",
      "\u001b[36m(RayTrainWorker pid=52006)\u001b[0m   | Name     | Type               | Params | Mode \n",
      "\u001b[36m(RayTrainWorker pid=52006)\u001b[0m --------------------------------------------------------\u001b[32m [repeated 2x across cluster]\u001b[0m\n",
      "\u001b[36m(RayTrainWorker pid=52006)\u001b[0m 0 | accuracy | MulticlassAccuracy | 0      | train\n",
      "\u001b[36m(RayTrainWorker pid=52006)\u001b[0m 4 | layer4   | Linear             | 1.3 K  | train\u001b[32m [repeated 4x across cluster]\u001b[0m\n",
      "\u001b[36m(RayTrainWorker pid=52006)\u001b[0m 5 | dropout  | Dropout            | 0      | train\n",
      "\u001b[36m(RayTrainWorker pid=52006)\u001b[0m 101 K     Trainable params\n",
      "\u001b[36m(RayTrainWorker pid=52006)\u001b[0m 0         Non-trainable params\n",
      "\u001b[36m(RayTrainWorker pid=52006)\u001b[0m 101 K     Total params\n",
      "\u001b[36m(RayTrainWorker pid=52006)\u001b[0m 0.404     Total estimated model params size (MB)\n",
      "\u001b[36m(RayTrainWorker pid=52006)\u001b[0m 6         Modules in train mode\n",
      "\u001b[36m(RayTrainWorker pid=52006)\u001b[0m 0         Modules in eval mode\n",
      "\u001b[36m(RayTrainWorker pid=52006)\u001b[0m /Users/sidharrthnagappan/.virtualenvs/lsdp_miniproject/lib/python3.11/site-packages/pytorch_lightning/trainer/connectors/data_connector.py:420: Consider setting `persistent_workers=True` in 'val_dataloader' to speed up the dataloader worker initialization.\n",
      "100%|██████████| 4.54k/4.54k [00:00<00:00, 4.33MB/s]\u001b[32m [repeated 3x across cluster]\u001b[0m\n",
      " 81%|████████▏ | 1.34M/1.65M [00:00<00:00, 4.02MB/s]\u001b[32m [repeated 5x across cluster]\u001b[0m\n",
      "\u001b[36m(RayTrainWorker pid=52006)\u001b[0m /Users/sidharrthnagappan/.virtualenvs/lsdp_miniproject/lib/python3.11/site-packages/pytorch_lightning/trainer/connectors/data_connector.py:420: Consider setting `persistent_workers=True` in 'train_dataloader' to speed up the dataloader worker initialization.\n",
      "\u001b[36m(RayTrainWorker pid=51247)\u001b[0m Checkpoint successfully created at: Checkpoint(filesystem=local, path=/Users/sidharrthnagappan/ray_results/TorchTrainer_2024-12-24_17-34-19/TorchTrainer_4f4b8_00000_0_batch_size=128,dropout=0.1647,layer_1_size=64,layer_2_size=256,layer_3_size=256,learning_rate=0.0013_2024-12-24_17-34-21/checkpoint_000003)\u001b[32m [repeated 2x across cluster]\u001b[0m\n",
      "\u001b[36m(RayTrainWorker pid=51907)\u001b[0m Checkpoint successfully created at: Checkpoint(filesystem=local, path=/Users/sidharrthnagappan/ray_results/TorchTrainer_2024-12-24_17-34-19/TorchTrainer_4f4b8_00005_5_batch_size=64,dropout=0.2187,layer_1_size=32,layer_2_size=128,layer_3_size=256,learning_rate=0.0018_2024-12-24_17-34-21/checkpoint_000000)\n",
      "\u001b[36m(RayTrainWorker pid=51246)\u001b[0m Checkpoint successfully created at: Checkpoint(filesystem=local, path=/Users/sidharrthnagappan/ray_results/TorchTrainer_2024-12-24_17-34-19/TorchTrainer_4f4b8_00002_2_batch_size=64,dropout=0.1395,layer_1_size=64,layer_2_size=64,layer_3_size=256,learning_rate=0.0017_2024-12-24_17-34-21/checkpoint_000003)\n",
      "\u001b[36m(RayTrainWorker pid=51907)\u001b[0m /Users/sidharrthnagappan/.pyenv/versions/3.11.0/lib/python3.11/multiprocessing/resource_tracker.py:224: UserWarning: resource_tracker: There appear to be 55 leaked semaphore objects to clean up at shutdown\n",
      "\u001b[36m(RayTrainWorker pid=51907)\u001b[0m   warnings.warn('resource_tracker: There appear to be %d '\n",
      "\u001b[36m(RayTrainWorker pid=51248)\u001b[0m Traceback (most recent call last):\n",
      "\u001b[36m(RayTrainWorker pid=51248)\u001b[0m   File \"<string>\", line 1, in <module>\n",
      "\u001b[36m(RayTrainWorker pid=51248)\u001b[0m   File \"/Users/sidharrthnagappan/.pyenv/versions/3.11.0/lib/python3.11/multiprocessing/spawn.py\", line 120, in spawn_main\n",
      "\u001b[36m(RayTrainWorker pid=51248)\u001b[0m     exitcode = _main(fd, parent_sentinel)\n",
      "\u001b[36m(RayTrainWorker pid=51248)\u001b[0m                ^^^^^^^^^^^^^^^^^^^^^^^^^^\n",
      "\u001b[36m(RayTrainWorker pid=51248)\u001b[0m   File \"/Users/sidharrthnagappan/.pyenv/versions/3.11.0/lib/python3.11/multiprocessing/spawn.py\", line 130, in _main\n",
      "\u001b[36m(RayTrainWorker pid=51248)\u001b[0m     self = reduction.pickle.load(from_parent)\n",
      "\u001b[36m(RayTrainWorker pid=51248)\u001b[0m            ^^^^^^^^^^^^^^^^^^^^^^^^^^^^^^^^^^\n",
      "\u001b[36m(RayTrainWorker pid=51248)\u001b[0m _pickle.UnpicklingError: pickle data was truncated\n",
      "\u001b[36m(RayTrainWorker pid=52006)\u001b[0m Checkpoint successfully created at: Checkpoint(filesystem=local, path=/Users/sidharrthnagappan/ray_results/TorchTrainer_2024-12-24_17-34-19/TorchTrainer_4f4b8_00006_6_batch_size=64,dropout=0.2174,layer_1_size=64,layer_2_size=256,layer_3_size=128,learning_rate=0.0088_2024-12-24_17-34-21/checkpoint_000000)\u001b[32m [repeated 3x across cluster]\u001b[0m\n",
      "\u001b[36m(RayTrainWorker pid=51248)\u001b[0m /Users/sidharrthnagappan/.pyenv/versions/3.11.0/lib/python3.11/multiprocessing/resource_tracker.py:224: UserWarning: resource_tracker: There appear to be 55 leaked semaphore objects to clean up at shutdown\n",
      "\u001b[36m(RayTrainWorker pid=51248)\u001b[0m   warnings.warn('resource_tracker: There appear to be %d '\n",
      "\u001b[36m(RayTrainWorker pid=52006)\u001b[0m Traceback (most recent call last):\u001b[32m [repeated 2x across cluster]\u001b[0m\n",
      "\u001b[36m(RayTrainWorker pid=52006)\u001b[0m   File \"<string>\", line 1, in <module>\u001b[32m [repeated 2x across cluster]\u001b[0m\n",
      "\u001b[36m(RayTrainWorker pid=52006)\u001b[0m   File \"/Users/sidharrthnagappan/.pyenv/versions/3.11.0/lib/python3.11/multiprocessing/spawn.py\", line 120, in spawn_main\u001b[32m [repeated 2x across cluster]\u001b[0m\n",
      "\u001b[36m(RayTrainWorker pid=52006)\u001b[0m     exitcode = _main(fd, parent_sentinel)\u001b[32m [repeated 2x across cluster]\u001b[0m\n",
      "\u001b[36m(RayTrainWorker pid=52006)\u001b[0m                ^^^^^^^^^^^^^^^^^^^^^^^^^^\u001b[32m [repeated 2x across cluster]\u001b[0m\n",
      "\u001b[36m(RayTrainWorker pid=52006)\u001b[0m   File \"/Users/sidharrthnagappan/.pyenv/versions/3.11.0/lib/python3.11/multiprocessing/spawn.py\", line 130, in _main\u001b[32m [repeated 2x across cluster]\u001b[0m\n",
      "\u001b[36m(RayTrainWorker pid=52006)\u001b[0m     self = reduction.pickle.load(from_parent)\u001b[32m [repeated 2x across cluster]\u001b[0m\n",
      "\u001b[36m(RayTrainWorker pid=52006)\u001b[0m            ^^^^^^^^^^^^^^^^^^^^^^^^^^^^^^^^^^\u001b[32m [repeated 2x across cluster]\u001b[0m\n",
      "\u001b[36m(RayTrainWorker pid=52006)\u001b[0m _pickle.UnpicklingError: pickle data was truncated\u001b[32m [repeated 2x across cluster]\u001b[0m\n",
      "\u001b[36m(RayTrainWorker pid=51247)\u001b[0m /Users/sidharrthnagappan/.pyenv/versions/3.11.0/lib/python3.11/multiprocessing/resource_tracker.py:224: UserWarning: resource_tracker: There appear to be 55 leaked semaphore objects to clean up at shutdown\n",
      "\u001b[36m(RayTrainWorker pid=51247)\u001b[0m   warnings.warn('resource_tracker: There appear to be %d '\n",
      "\u001b[36m(TorchTrainer pid=52523)\u001b[0m Started distributed worker processes: \n",
      "\u001b[36m(TorchTrainer pid=52523)\u001b[0m - (node_id=7cc2334a334327f410131b140fb9ad2ae54820f537299598f92261b4, ip=127.0.0.1, pid=52659) world_rank=0, local_rank=0, node_rank=0\n",
      "\u001b[36m(RayTrainWorker pid=52659)\u001b[0m Setting up process group for: env:// [rank=0, world_size=1]\n"
     ]
    },
    {
     "name": "stdout",
     "output_type": "stream",
     "text": [
      "\u001b[36m(RayTrainWorker pid=52659)\u001b[0m printing config {'layer_1_size': 128, 'layer_2_size': 256, 'layer_3_size': 512, 'dropout': 0.19069275345499645, 'batch_size': 64, 'learning_rate': 0.011887118405969704}\n",
      "\u001b[36m(RayTrainWorker pid=52006)\u001b[0m Extracting /var/folders/mf/cfzv46p15017stkscsq9jw9h0000gn/T/tmplt8lwpzy/MNIST/raw/t10k-labels-idx1-ubyte.gz to /var/folders/mf/cfzv46p15017stkscsq9jw9h0000gn/T/tmplt8lwpzy/MNIST/raw\n",
      "\u001b[36m(RayTrainWorker pid=52006)\u001b[0m Downloading https://ossci-datasets.s3.amazonaws.com/mnist/t10k-labels-idx1-ubyte.gz to /var/folders/mf/cfzv46p15017stkscsq9jw9h0000gn/T/tmplt8lwpzy/MNIST/raw/t10k-labels-idx1-ubyte.gz\n",
      "\u001b[36m(RayTrainWorker pid=52659)\u001b[0m Downloading http://yann.lecun.com/exdb/mnist/train-images-idx3-ubyte.gz\n"
     ]
    },
    {
     "name": "stderr",
     "output_type": "stream",
     "text": [
      "\u001b[36m(RayTrainWorker pid=52659)\u001b[0m GPU available: True (mps), used: False\n",
      "\u001b[36m(RayTrainWorker pid=52659)\u001b[0m TPU available: False, using: 0 TPU cores\n",
      "\u001b[36m(RayTrainWorker pid=52659)\u001b[0m HPU available: False, using: 0 HPUs\n",
      "\u001b[36m(RayTrainWorker pid=52659)\u001b[0m /Users/sidharrthnagappan/.virtualenvs/lsdp_miniproject/lib/python3.11/site-packages/pytorch_lightning/trainer/setup.py:177: GPU available but not used. You can set it by doing `Trainer(accelerator='gpu')`.\n",
      "\u001b[36m(RayTrainWorker pid=52659)\u001b[0m /Users/sidharrthnagappan/.virtualenvs/lsdp_miniproject/lib/python3.11/site-packages/pytorch_lightning/loops/utilities.py:73: `max_epochs` was not set. Setting it to 1000 epochs. To train without an epoch limit, set `max_epochs=-1`.\n"
     ]
    },
    {
     "name": "stdout",
     "output_type": "stream",
     "text": [
      "\u001b[36m(RayTrainWorker pid=52659)\u001b[0m Failed to download (trying next):\n",
      "\u001b[36m(RayTrainWorker pid=52659)\u001b[0m HTTP Error 403: Forbidden\n",
      "\u001b[36m(RayTrainWorker pid=52659)\u001b[0m \n",
      "\u001b[36m(RayTrainWorker pid=52659)\u001b[0m Downloading https://ossci-datasets.s3.amazonaws.com/mnist/train-images-idx3-ubyte.gz\n",
      "\u001b[36m(RayTrainWorker pid=52659)\u001b[0m Downloading https://ossci-datasets.s3.amazonaws.com/mnist/train-images-idx3-ubyte.gz to /var/folders/mf/cfzv46p15017stkscsq9jw9h0000gn/T/tmpsdtbszzl/MNIST/raw/train-images-idx3-ubyte.gz\n"
     ]
    },
    {
     "name": "stderr",
     "output_type": "stream",
     "text": [
      "  0%|          | 0.00/9.91M [00:00<?, ?B/s]\n",
      "  1%|          | 98.3k/9.91M [00:00<00:16, 602kB/s]\n",
      "  4%|▍         | 426k/9.91M [00:00<00:06, 1.40MB/s]\n",
      " 17%|█▋        | 1.67M/9.91M [00:00<00:01, 5.09MB/s]\n",
      " 30%|███       | 3.01M/9.91M [00:00<00:00, 7.75MB/s]\n",
      " 57%|█████▋    | 5.64M/9.91M [00:00<00:00, 13.5MB/s]\n",
      "100%|██████████| 9.91M/9.91M [00:00<00:00, 12.1MB/s]\n"
     ]
    },
    {
     "name": "stdout",
     "output_type": "stream",
     "text": [
      "\u001b[36m(RayTrainWorker pid=52659)\u001b[0m Extracting /var/folders/mf/cfzv46p15017stkscsq9jw9h0000gn/T/tmpsdtbszzl/MNIST/raw/train-images-idx3-ubyte.gz to /var/folders/mf/cfzv46p15017stkscsq9jw9h0000gn/T/tmpsdtbszzl/MNIST/raw\n",
      "\u001b[36m(RayTrainWorker pid=52659)\u001b[0m \n",
      "\u001b[36m(RayTrainWorker pid=52659)\u001b[0m Downloading http://yann.lecun.com/exdb/mnist/train-labels-idx1-ubyte.gz\n",
      "\u001b[36m(RayTrainWorker pid=52659)\u001b[0m Failed to download (trying next):\n",
      "\u001b[36m(RayTrainWorker pid=52659)\u001b[0m HTTP Error 403: Forbidden\n",
      "\u001b[36m(RayTrainWorker pid=52659)\u001b[0m \n",
      "\u001b[36m(RayTrainWorker pid=52659)\u001b[0m Downloading https://ossci-datasets.s3.amazonaws.com/mnist/train-labels-idx1-ubyte.gz to /var/folders/mf/cfzv46p15017stkscsq9jw9h0000gn/T/tmpsdtbszzl/MNIST/raw/train-labels-idx1-ubyte.gz\n",
      "\u001b[36m(RayTrainWorker pid=52695)\u001b[0m \n",
      "\u001b[36m(RayTrainWorker pid=52694)\u001b[0m \n",
      "\u001b[36m(RayTrainWorker pid=52659)\u001b[0m Extracting /var/folders/mf/cfzv46p15017stkscsq9jw9h0000gn/T/tmpsdtbszzl/MNIST/raw/train-labels-idx1-ubyte.gz to /var/folders/mf/cfzv46p15017stkscsq9jw9h0000gn/T/tmpsdtbszzl/MNIST/raw\n",
      "\u001b[36m(RayTrainWorker pid=52659)\u001b[0m \n"
     ]
    },
    {
     "name": "stderr",
     "output_type": "stream",
     "text": [
      "100%|██████████| 28.9k/28.9k [00:00<00:00, 348kB/s]\n",
      "\u001b[36m(RayTrainWorker pid=51246)\u001b[0m Checkpoint successfully created at: Checkpoint(filesystem=local, path=/Users/sidharrthnagappan/ray_results/TorchTrainer_2024-12-24_17-34-19/TorchTrainer_4f4b8_00002_2_batch_size=64,dropout=0.1395,layer_1_size=64,layer_2_size=64,layer_3_size=256,learning_rate=0.0017_2024-12-24_17-34-21/checkpoint_000004)\n",
      "\u001b[36m(RayTrainWorker pid=51246)\u001b[0m Traceback (most recent call last):\n",
      "\u001b[36m(RayTrainWorker pid=51246)\u001b[0m   File \"<string>\", line 1, in <module>\n",
      "\u001b[36m(RayTrainWorker pid=51246)\u001b[0m   File \"/Users/sidharrthnagappan/.pyenv/versions/3.11.0/lib/python3.11/multiprocessing/spawn.py\", line 120, in spawn_main\n",
      "\u001b[36m(RayTrainWorker pid=51246)\u001b[0m     exitcode = _main(fd, parent_sentinel)\n",
      "\u001b[36m(RayTrainWorker pid=51246)\u001b[0m                ^^^^^^^^^^^^^^^^^^^^^^^^^^\n",
      "\u001b[36m(RayTrainWorker pid=51246)\u001b[0m   File \"/Users/sidharrthnagappan/.pyenv/versions/3.11.0/lib/python3.11/multiprocessing/spawn.py\", line 130, in _main\n",
      "\u001b[36m(RayTrainWorker pid=51246)\u001b[0m     self = reduction.pickle.load(from_parent)\n",
      "\u001b[36m(RayTrainWorker pid=51246)\u001b[0m            ^^^^^^^^^^^^^^^^^^^^^^^^^^^^^^^^^^\n",
      "\u001b[36m(RayTrainWorker pid=51246)\u001b[0m _pickle.UnpicklingError: pickle data was truncated\n"
     ]
    },
    {
     "name": "stdout",
     "output_type": "stream",
     "text": [
      "\u001b[36m(RayTrainWorker pid=52720)\u001b[0m \n",
      "\u001b[36m(RayTrainWorker pid=52659)\u001b[0m \n"
     ]
    },
    {
     "name": "stderr",
     "output_type": "stream",
     "text": [
      "\u001b[36m(RayTrainWorker pid=52006)\u001b[0m /Users/sidharrthnagappan/.pyenv/versions/3.11.0/lib/python3.11/multiprocessing/resource_tracker.py:224: UserWarning: resource_tracker: There appear to be 55 leaked semaphore objects to clean up at shutdown\n",
      "\u001b[36m(RayTrainWorker pid=52006)\u001b[0m   warnings.warn('resource_tracker: There appear to be %d '\n",
      "\u001b[36m(TorchTrainer pid=52656)\u001b[0m Started distributed worker processes: \u001b[32m [repeated 3x across cluster]\u001b[0m\n",
      "\u001b[36m(TorchTrainer pid=52656)\u001b[0m - (node_id=7cc2334a334327f410131b140fb9ad2ae54820f537299598f92261b4, ip=127.0.0.1, pid=52720) world_rank=0, local_rank=0, node_rank=0\u001b[32m [repeated 3x across cluster]\u001b[0m\n",
      "\u001b[36m(RayTrainWorker pid=52720)\u001b[0m Setting up process group for: env:// [rank=0, world_size=1]\u001b[32m [repeated 3x across cluster]\u001b[0m\n",
      "100%|██████████| 9.91M/9.91M [00:00<00:00, 11.1MB/s]\n",
      "100%|██████████| 9.91M/9.91M [00:00<00:00, 10.6MB/s]\n"
     ]
    },
    {
     "name": "stdout",
     "output_type": "stream",
     "text": [
      "\u001b[36m(RayTrainWorker pid=52694)\u001b[0m \n",
      "\u001b[36m(RayTrainWorker pid=52695)\u001b[0m \n",
      "\u001b[36m(RayTrainWorker pid=52659)\u001b[0m \n",
      "\u001b[36m(RayTrainWorker pid=52694)\u001b[0m \n",
      "\u001b[36m(RayTrainWorker pid=52720)\u001b[0m printing config {'layer_1_size': 128, 'layer_2_size': 128, 'layer_3_size': 256, 'dropout': 0.24886063751267073, 'batch_size': 64, 'learning_rate': 0.0008074760893481581}\u001b[32m [repeated 3x across cluster]\u001b[0m\n",
      "\u001b[36m(RayTrainWorker pid=52694)\u001b[0m Downloading https://ossci-datasets.s3.amazonaws.com/mnist/train-labels-idx1-ubyte.gz\u001b[32m [repeated 13x across cluster]\u001b[0m\n"
     ]
    },
    {
     "name": "stderr",
     "output_type": "stream",
     "text": [
      "100%|██████████| 1.65M/1.65M [00:00<00:00, 3.19MB/s]\n"
     ]
    },
    {
     "name": "stdout",
     "output_type": "stream",
     "text": [
      "\u001b[36m(RayTrainWorker pid=52695)\u001b[0m \n"
     ]
    },
    {
     "name": "stderr",
     "output_type": "stream",
     "text": [
      "\u001b[36m(RayTrainWorker pid=52720)\u001b[0m GPU available: True (mps), used: False\u001b[32m [repeated 3x across cluster]\u001b[0m\n",
      "\u001b[36m(RayTrainWorker pid=52720)\u001b[0m TPU available: False, using: 0 TPU cores\u001b[32m [repeated 3x across cluster]\u001b[0m\n",
      "\u001b[36m(RayTrainWorker pid=52720)\u001b[0m HPU available: False, using: 0 HPUs\u001b[32m [repeated 3x across cluster]\u001b[0m\n",
      "\u001b[36m(RayTrainWorker pid=52720)\u001b[0m /Users/sidharrthnagappan/.virtualenvs/lsdp_miniproject/lib/python3.11/site-packages/pytorch_lightning/trainer/setup.py:177: GPU available but not used. You can set it by doing `Trainer(accelerator='gpu')`.\u001b[32m [repeated 3x across cluster]\u001b[0m\n",
      "\u001b[36m(RayTrainWorker pid=52720)\u001b[0m /Users/sidharrthnagappan/.virtualenvs/lsdp_miniproject/lib/python3.11/site-packages/pytorch_lightning/loops/utilities.py:73: `max_epochs` was not set. Setting it to 1000 epochs. To train without an epoch limit, set `max_epochs=-1`.\u001b[32m [repeated 3x across cluster]\u001b[0m\n",
      " 96%|█████████▌| 9.50M/9.91M [00:00<00:00, 16.3MB/s]\n",
      "100%|██████████| 9.91M/9.91M [00:01<00:00, 9.84MB/s]\n"
     ]
    },
    {
     "name": "stdout",
     "output_type": "stream",
     "text": [
      "\u001b[36m(RayTrainWorker pid=52659)\u001b[0m \n",
      "\u001b[36m(RayTrainWorker pid=52720)\u001b[0m \n",
      "\u001b[36m(RayTrainWorker pid=52659)\u001b[0m Failed to download (trying next):\u001b[32m [repeated 7x across cluster]\u001b[0m\n",
      "\u001b[36m(RayTrainWorker pid=52659)\u001b[0m HTTP Error 403: Forbidden\u001b[32m [repeated 7x across cluster]\u001b[0m\n",
      "\u001b[36m(RayTrainWorker pid=52695)\u001b[0m \n",
      "\u001b[36m(RayTrainWorker pid=52694)\u001b[0m \n"
     ]
    },
    {
     "name": "stderr",
     "output_type": "stream",
     "text": [
      "100%|██████████| 28.9k/28.9k [00:00<00:00, 340kB/s]\n",
      "100%|██████████| 28.9k/28.9k [00:00<00:00, 342kB/s]\n"
     ]
    },
    {
     "name": "stdout",
     "output_type": "stream",
     "text": [
      "\u001b[36m(RayTrainWorker pid=52720)\u001b[0m \n",
      "\u001b[36m(RayTrainWorker pid=52659)\u001b[0m Downloading https://ossci-datasets.s3.amazonaws.com/mnist/t10k-labels-idx1-ubyte.gz to /var/folders/mf/cfzv46p15017stkscsq9jw9h0000gn/T/tmpsdtbszzl/MNIST/raw/t10k-labels-idx1-ubyte.gz\u001b[32m [repeated 7x across cluster]\u001b[0m\n",
      "\u001b[36m(RayTrainWorker pid=52659)\u001b[0m \n"
     ]
    },
    {
     "name": "stderr",
     "output_type": "stream",
     "text": [
      "100%|██████████| 4.54k/4.54k [00:00<00:00, 3.72MB/s]\n",
      "\u001b[36m(RayTrainWorker pid=52659)\u001b[0m \n",
      "\u001b[36m(RayTrainWorker pid=52659)\u001b[0m   | Name     | Type               | Params | Mode \n",
      "\u001b[36m(RayTrainWorker pid=52659)\u001b[0m --------------------------------------------------------\n",
      "\u001b[36m(RayTrainWorker pid=52659)\u001b[0m 0 | accuracy | MulticlassAccuracy | 0      | train\n",
      "\u001b[36m(RayTrainWorker pid=52659)\u001b[0m 1 | layer1   | Linear             | 100 K  | train\n",
      "\u001b[36m(RayTrainWorker pid=52659)\u001b[0m 2 | layer2   | Linear             | 33.0 K | train\n",
      "\u001b[36m(RayTrainWorker pid=52659)\u001b[0m 3 | layer3   | Linear             | 131 K  | train\n",
      "\u001b[36m(RayTrainWorker pid=52659)\u001b[0m 4 | layer4   | Linear             | 5.1 K  | train\n",
      "\u001b[36m(RayTrainWorker pid=52659)\u001b[0m 5 | dropout  | Dropout            | 0      | train\n",
      "\u001b[36m(RayTrainWorker pid=52659)\u001b[0m --------------------------------------------------------\n",
      "\u001b[36m(RayTrainWorker pid=52659)\u001b[0m 270 K     Trainable params\n",
      "\u001b[36m(RayTrainWorker pid=52659)\u001b[0m 0         Non-trainable params\n",
      "\u001b[36m(RayTrainWorker pid=52659)\u001b[0m 270 K     Total params\n",
      "\u001b[36m(RayTrainWorker pid=52659)\u001b[0m 1.081     Total estimated model params size (MB)\n",
      "\u001b[36m(RayTrainWorker pid=52659)\u001b[0m 6         Modules in train mode\n",
      "\u001b[36m(RayTrainWorker pid=52659)\u001b[0m 0         Modules in eval mode\n",
      "\u001b[36m(RayTrainWorker pid=52659)\u001b[0m /Users/sidharrthnagappan/.virtualenvs/lsdp_miniproject/lib/python3.11/site-packages/pytorch_lightning/trainer/connectors/data_connector.py:420: Consider setting `persistent_workers=True` in 'val_dataloader' to speed up the dataloader worker initialization.\n"
     ]
    },
    {
     "name": "stdout",
     "output_type": "stream",
     "text": [
      "\u001b[36m(RayTrainWorker pid=52694)\u001b[0m \n",
      "\u001b[36m(RayTrainWorker pid=52695)\u001b[0m \n"
     ]
    },
    {
     "name": "stderr",
     "output_type": "stream",
     "text": [
      "  0%|          | 0.00/28.9k [00:00<?, ?B/s]\u001b[32m [repeated 8x across cluster]\u001b[0m\n",
      " 52%|█████▏    | 5.14M/9.91M [00:00<00:00, 8.05MB/s]\u001b[32m [repeated 20x across cluster]\u001b[0m\n",
      "100%|██████████| 28.9k/28.9k [00:00<00:00, 344kB/s]\n"
     ]
    },
    {
     "name": "stdout",
     "output_type": "stream",
     "text": [
      "\u001b[36m(RayTrainWorker pid=52720)\u001b[0m \n",
      "\u001b[36m(RayTrainWorker pid=52720)\u001b[0m \n",
      "\u001b[36m(RayTrainWorker pid=52720)\u001b[0m Extracting /var/folders/mf/cfzv46p15017stkscsq9jw9h0000gn/T/tmpmu6vn7s8/MNIST/raw/train-labels-idx1-ubyte.gz to /var/folders/mf/cfzv46p15017stkscsq9jw9h0000gn/T/tmpmu6vn7s8/MNIST/raw\u001b[32m [repeated 8x across cluster]\u001b[0m\n",
      "\u001b[36m(RayTrainWorker pid=52694)\u001b[0m \n"
     ]
    },
    {
     "name": "stderr",
     "output_type": "stream",
     "text": [
      "100%|██████████| 1.65M/1.65M [00:00<00:00, 3.39MB/s]\n",
      "100%|██████████| 1.65M/1.65M [00:00<00:00, 3.26MB/s]\n"
     ]
    },
    {
     "name": "stdout",
     "output_type": "stream",
     "text": [
      "\u001b[36m(RayTrainWorker pid=52695)\u001b[0m \n",
      "\u001b[36m(RayTrainWorker pid=52694)\u001b[0m \n",
      "\u001b[36m(RayTrainWorker pid=52695)\u001b[0m \n"
     ]
    },
    {
     "name": "stderr",
     "output_type": "stream",
     "text": [
      "\u001b[36m(RayTrainWorker pid=51246)\u001b[0m /Users/sidharrthnagappan/.pyenv/versions/3.11.0/lib/python3.11/multiprocessing/resource_tracker.py:224: UserWarning: resource_tracker: There appear to be 55 leaked semaphore objects to clean up at shutdown\n",
      "\u001b[36m(RayTrainWorker pid=51246)\u001b[0m   warnings.warn('resource_tracker: There appear to be %d '\n",
      "\u001b[36m(RayTrainWorker pid=52659)\u001b[0m /Users/sidharrthnagappan/.virtualenvs/lsdp_miniproject/lib/python3.11/site-packages/pytorch_lightning/trainer/connectors/data_connector.py:420: Consider setting `persistent_workers=True` in 'train_dataloader' to speed up the dataloader worker initialization.\n"
     ]
    },
    {
     "name": "stdout",
     "output_type": "stream",
     "text": [
      "\u001b[36m(RayTrainWorker pid=52720)\u001b[0m \n"
     ]
    },
    {
     "name": "stderr",
     "output_type": "stream",
     "text": [
      "\u001b[36m(RayTrainWorker pid=52694)\u001b[0m \n",
      "\u001b[36m(RayTrainWorker pid=52695)\u001b[0m \n"
     ]
    },
    {
     "name": "stdout",
     "output_type": "stream",
     "text": [
      "\u001b[36m(RayTrainWorker pid=52694)\u001b[0m \n",
      "\u001b[36m(RayTrainWorker pid=52695)\u001b[0m \n",
      "\u001b[36m(RayTrainWorker pid=52720)\u001b[0m \n",
      "\u001b[36m(RayTrainWorker pid=52720)\u001b[0m \n"
     ]
    },
    {
     "name": "stderr",
     "output_type": "stream",
     "text": [
      "\u001b[36m(RayTrainWorker pid=52720)\u001b[0m \n",
      "\u001b[36m(TorchTrainer pid=52788)\u001b[0m Started distributed worker processes: \n",
      "\u001b[36m(TorchTrainer pid=52788)\u001b[0m - (node_id=7cc2334a334327f410131b140fb9ad2ae54820f537299598f92261b4, ip=127.0.0.1, pid=52814) world_rank=0, local_rank=0, node_rank=0\n",
      "\u001b[36m(RayTrainWorker pid=52814)\u001b[0m Setting up process group for: env:// [rank=0, world_size=1]\n"
     ]
    },
    {
     "name": "stdout",
     "output_type": "stream",
     "text": [
      "\u001b[36m(RayTrainWorker pid=52814)\u001b[0m printing config {'layer_1_size': 128, 'layer_2_size': 64, 'layer_3_size': 128, 'dropout': 0.1835654440926341, 'batch_size': 32, 'learning_rate': 0.004610715013900017}\n",
      "\u001b[36m(RayTrainWorker pid=52814)\u001b[0m Downloading http://yann.lecun.com/exdb/mnist/train-images-idx3-ubyte.gz\u001b[32m [repeated 17x across cluster]\u001b[0m\n",
      "\u001b[36m(RayTrainWorker pid=52814)\u001b[0m \n",
      "\u001b[36m(RayTrainWorker pid=52814)\u001b[0m Failed to download (trying next):\u001b[32m [repeated 8x across cluster]\u001b[0m\n",
      "\u001b[36m(RayTrainWorker pid=52814)\u001b[0m HTTP Error 403: Forbidden\u001b[32m [repeated 8x across cluster]\u001b[0m\n"
     ]
    },
    {
     "name": "stderr",
     "output_type": "stream",
     "text": [
      "\u001b[36m(RayTrainWorker pid=52814)\u001b[0m GPU available: True (mps), used: False\n",
      "\u001b[36m(RayTrainWorker pid=52814)\u001b[0m TPU available: False, using: 0 TPU cores\n",
      "\u001b[36m(RayTrainWorker pid=52814)\u001b[0m HPU available: False, using: 0 HPUs\n",
      "\u001b[36m(RayTrainWorker pid=52814)\u001b[0m /Users/sidharrthnagappan/.virtualenvs/lsdp_miniproject/lib/python3.11/site-packages/pytorch_lightning/trainer/setup.py:177: GPU available but not used. You can set it by doing `Trainer(accelerator='gpu')`.\n",
      "\u001b[36m(RayTrainWorker pid=52814)\u001b[0m /Users/sidharrthnagappan/.virtualenvs/lsdp_miniproject/lib/python3.11/site-packages/pytorch_lightning/loops/utilities.py:73: `max_epochs` was not set. Setting it to 1000 epochs. To train without an epoch limit, set `max_epochs=-1`.\n",
      "\u001b[36m(RayTrainWorker pid=52720)\u001b[0m   | Name     | Type               | Params | Mode \u001b[32m [repeated 3x across cluster]\u001b[0m\n",
      "\u001b[36m(RayTrainWorker pid=52720)\u001b[0m --------------------------------------------------------\u001b[32m [repeated 6x across cluster]\u001b[0m\n",
      "\u001b[36m(RayTrainWorker pid=52720)\u001b[0m 0 | accuracy | MulticlassAccuracy | 0      | train\u001b[32m [repeated 3x across cluster]\u001b[0m\n",
      "\u001b[36m(RayTrainWorker pid=52720)\u001b[0m 4 | layer4   | Linear             | 2.6 K  | train\u001b[32m [repeated 12x across cluster]\u001b[0m\n",
      "\u001b[36m(RayTrainWorker pid=52720)\u001b[0m 5 | dropout  | Dropout            | 0      | train\u001b[32m [repeated 3x across cluster]\u001b[0m\n",
      "\u001b[36m(RayTrainWorker pid=52720)\u001b[0m 152 K     Trainable params\u001b[32m [repeated 3x across cluster]\u001b[0m\n",
      "\u001b[36m(RayTrainWorker pid=52720)\u001b[0m 0         Non-trainable params\u001b[32m [repeated 3x across cluster]\u001b[0m\n",
      "\u001b[36m(RayTrainWorker pid=52720)\u001b[0m 152 K     Total params\u001b[32m [repeated 3x across cluster]\u001b[0m\n",
      "\u001b[36m(RayTrainWorker pid=52720)\u001b[0m 0.610     Total estimated model params size (MB)\u001b[32m [repeated 3x across cluster]\u001b[0m\n",
      "\u001b[36m(RayTrainWorker pid=52720)\u001b[0m 6         Modules in train mode\u001b[32m [repeated 3x across cluster]\u001b[0m\n",
      "\u001b[36m(RayTrainWorker pid=52720)\u001b[0m 0         Modules in eval mode\u001b[32m [repeated 3x across cluster]\u001b[0m\n",
      "\u001b[36m(RayTrainWorker pid=52720)\u001b[0m /Users/sidharrthnagappan/.virtualenvs/lsdp_miniproject/lib/python3.11/site-packages/pytorch_lightning/trainer/connectors/data_connector.py:420: Consider setting `persistent_workers=True` in 'val_dataloader' to speed up the dataloader worker initialization.\u001b[32m [repeated 3x across cluster]\u001b[0m\n",
      "  0%|          | 0.00/9.91M [00:00<?, ?B/s]\u001b[32m [repeated 7x across cluster]\u001b[0m\n",
      "  4%|▍         | 426k/9.91M [00:00<00:06, 1.40MB/s]\u001b[32m [repeated 10x across cluster]\u001b[0m\n",
      " 99%|█████████▉| 9.80M/9.91M [00:01<00:00, 11.4MB/s]\n",
      "100%|██████████| 9.91M/9.91M [00:01<00:00, 8.42MB/s]\n"
     ]
    },
    {
     "name": "stdout",
     "output_type": "stream",
     "text": [
      "\u001b[36m(RayTrainWorker pid=52814)\u001b[0m Downloading https://ossci-datasets.s3.amazonaws.com/mnist/train-images-idx3-ubyte.gz to /var/folders/mf/cfzv46p15017stkscsq9jw9h0000gn/T/tmp_9qus576/MNIST/raw/train-images-idx3-ubyte.gz\u001b[32m [repeated 8x across cluster]\u001b[0m\n",
      "\u001b[36m(RayTrainWorker pid=52814)\u001b[0m Extracting /var/folders/mf/cfzv46p15017stkscsq9jw9h0000gn/T/tmp_9qus576/MNIST/raw/train-images-idx3-ubyte.gz to /var/folders/mf/cfzv46p15017stkscsq9jw9h0000gn/T/tmp_9qus576/MNIST/raw\u001b[32m [repeated 7x across cluster]\u001b[0m\n",
      "\u001b[36m(RayTrainWorker pid=52814)\u001b[0m \n",
      "\u001b[36m(RayTrainWorker pid=52814)\u001b[0m \n"
     ]
    },
    {
     "name": "stderr",
     "output_type": "stream",
     "text": [
      "\u001b[36m(RayTrainWorker pid=52720)\u001b[0m /Users/sidharrthnagappan/.virtualenvs/lsdp_miniproject/lib/python3.11/site-packages/pytorch_lightning/trainer/connectors/data_connector.py:420: Consider setting `persistent_workers=True` in 'train_dataloader' to speed up the dataloader worker initialization.\u001b[32m [repeated 3x across cluster]\u001b[0m\n",
      "100%|██████████| 28.9k/28.9k [00:00<00:00, 348kB/s]\n"
     ]
    },
    {
     "name": "stdout",
     "output_type": "stream",
     "text": [
      "\u001b[36m(RayTrainWorker pid=52814)\u001b[0m \n",
      "\u001b[36m(RayTrainWorker pid=52814)\u001b[0m \n",
      "\u001b[36m(RayTrainWorker pid=52814)\u001b[0m Downloading https://ossci-datasets.s3.amazonaws.com/mnist/t10k-images-idx3-ubyte.gz\u001b[32m [repeated 5x across cluster]\u001b[0m\n",
      "\u001b[36m(RayTrainWorker pid=52814)\u001b[0m \n"
     ]
    },
    {
     "name": "stderr",
     "output_type": "stream",
     "text": [
      "100%|██████████| 1.65M/1.65M [00:00<00:00, 3.74MB/s]\n"
     ]
    },
    {
     "name": "stdout",
     "output_type": "stream",
     "text": [
      "\u001b[36m(RayTrainWorker pid=52814)\u001b[0m \n",
      "\u001b[36m(RayTrainWorker pid=52814)\u001b[0m Failed to download (trying next):\u001b[32m [repeated 3x across cluster]\u001b[0m\n",
      "\u001b[36m(RayTrainWorker pid=52814)\u001b[0m HTTP Error 403: Forbidden\u001b[32m [repeated 3x across cluster]\u001b[0m\n",
      "\u001b[36m(RayTrainWorker pid=52814)\u001b[0m \n"
     ]
    },
    {
     "name": "stderr",
     "output_type": "stream",
     "text": [
      "\u001b[36m(RayTrainWorker pid=52814)\u001b[0m \n",
      "\u001b[36m(RayTrainWorker pid=52814)\u001b[0m   | Name     | Type               | Params | Mode \n",
      "\u001b[36m(RayTrainWorker pid=52814)\u001b[0m --------------------------------------------------------\n",
      "\u001b[36m(RayTrainWorker pid=52814)\u001b[0m 0 | accuracy | MulticlassAccuracy | 0      | train\n",
      "\u001b[36m(RayTrainWorker pid=52814)\u001b[0m 1 | layer1   | Linear             | 100 K  | train\n",
      "\u001b[36m(RayTrainWorker pid=52814)\u001b[0m 2 | layer2   | Linear             | 8.3 K  | train\n",
      "\u001b[36m(RayTrainWorker pid=52814)\u001b[0m 3 | layer3   | Linear             | 8.3 K  | train\n",
      "\u001b[36m(RayTrainWorker pid=52814)\u001b[0m 4 | layer4   | Linear             | 1.3 K  | train\n",
      "\u001b[36m(RayTrainWorker pid=52814)\u001b[0m 5 | dropout  | Dropout            | 0      | train\n",
      "\u001b[36m(RayTrainWorker pid=52814)\u001b[0m --------------------------------------------------------\n",
      "\u001b[36m(RayTrainWorker pid=52814)\u001b[0m 118 K     Trainable params\n",
      "\u001b[36m(RayTrainWorker pid=52814)\u001b[0m 0         Non-trainable params\n",
      "\u001b[36m(RayTrainWorker pid=52814)\u001b[0m 118 K     Total params\n",
      "\u001b[36m(RayTrainWorker pid=52814)\u001b[0m 0.473     Total estimated model params size (MB)\n",
      "\u001b[36m(RayTrainWorker pid=52814)\u001b[0m 6         Modules in train mode\n",
      "\u001b[36m(RayTrainWorker pid=52814)\u001b[0m 0         Modules in eval mode\n",
      "\u001b[36m(RayTrainWorker pid=52814)\u001b[0m /Users/sidharrthnagappan/.virtualenvs/lsdp_miniproject/lib/python3.11/site-packages/pytorch_lightning/trainer/connectors/data_connector.py:420: Consider setting `persistent_workers=True` in 'val_dataloader' to speed up the dataloader worker initialization.\n",
      "100%|██████████| 4.54k/4.54k [00:00<00:00, 3.73MB/s]\u001b[32m [repeated 3x across cluster]\u001b[0m\n",
      " 26%|██▌       | 426k/1.65M [00:00<00:00, 1.38MB/s]\u001b[32m [repeated 6x across cluster]\u001b[0m\n",
      "\u001b[36m(RayTrainWorker pid=52814)\u001b[0m /Users/sidharrthnagappan/.virtualenvs/lsdp_miniproject/lib/python3.11/site-packages/pytorch_lightning/trainer/connectors/data_connector.py:420: Consider setting `persistent_workers=True` in 'train_dataloader' to speed up the dataloader worker initialization.\n",
      "\u001b[36m(RayTrainWorker pid=52694)\u001b[0m Checkpoint successfully created at: Checkpoint(filesystem=local, path=/Users/sidharrthnagappan/ray_results/TorchTrainer_2024-12-24_17-34-19/TorchTrainer_4f4b8_00008_8_batch_size=128,dropout=0.1465,layer_1_size=32,layer_2_size=128,layer_3_size=256,learning_rate=0.0001_2024-12-24_17-34-21/checkpoint_000000)\n",
      "\u001b[36m(RayTrainWorker pid=52694)\u001b[0m Traceback (most recent call last):\n",
      "\u001b[36m(RayTrainWorker pid=52694)\u001b[0m   File \"<string>\", line 1, in <module>\n",
      "\u001b[36m(RayTrainWorker pid=52694)\u001b[0m   File \"/Users/sidharrthnagappan/.pyenv/versions/3.11.0/lib/python3.11/multiprocessing/spawn.py\", line 120, in spawn_main\n",
      "\u001b[36m(RayTrainWorker pid=52694)\u001b[0m     exitcode = _main(fd, parent_sentinel)\n",
      "\u001b[36m(RayTrainWorker pid=52694)\u001b[0m                ^^^^^^^^^^^^^^^^^^^^^^^^^^\n",
      "\u001b[36m(RayTrainWorker pid=52694)\u001b[0m   File \"/Users/sidharrthnagappan/.pyenv/versions/3.11.0/lib/python3.11/multiprocessing/spawn.py\", line 130, in _main\n",
      "\u001b[36m(RayTrainWorker pid=52694)\u001b[0m     self = reduction.pickle.load(from_parent)\n",
      "\u001b[36m(RayTrainWorker pid=52694)\u001b[0m            ^^^^^^^^^^^^^^^^^^^^^^^^^^^^^^^^^^\n",
      "\u001b[36m(RayTrainWorker pid=52694)\u001b[0m _pickle.UnpicklingError: pickle data was truncated\n",
      "\u001b[36m(RayTrainWorker pid=52720)\u001b[0m Checkpoint successfully created at: Checkpoint(filesystem=local, path=/Users/sidharrthnagappan/ray_results/TorchTrainer_2024-12-24_17-34-19/TorchTrainer_4f4b8_00010_10_batch_size=64,dropout=0.2489,layer_1_size=128,layer_2_size=128,layer_3_size=256,learning_rate=0.0008_2024-12-24_17-34-21/checkpoint_000000)\u001b[32m [repeated 3x across cluster]\u001b[0m\n",
      "\u001b[36m(RayTrainWorker pid=52694)\u001b[0m /Users/sidharrthnagappan/.pyenv/versions/3.11.0/lib/python3.11/multiprocessing/resource_tracker.py:224: UserWarning: resource_tracker: There appear to be 55 leaked semaphore objects to clean up at shutdown\n",
      "\u001b[36m(RayTrainWorker pid=52694)\u001b[0m   warnings.warn('resource_tracker: There appear to be %d '\n",
      "\u001b[36m(TorchTrainer pid=53111)\u001b[0m Started distributed worker processes: \n",
      "\u001b[36m(TorchTrainer pid=53111)\u001b[0m - (node_id=7cc2334a334327f410131b140fb9ad2ae54820f537299598f92261b4, ip=127.0.0.1, pid=53239) world_rank=0, local_rank=0, node_rank=0\n",
      "\u001b[36m(RayTrainWorker pid=52659)\u001b[0m /Users/sidharrthnagappan/.pyenv/versions/3.11.0/lib/python3.11/multiprocessing/resource_tracker.py:224: UserWarning: resource_tracker: There appear to be 44 leaked semaphore objects to clean up at shutdown\n",
      "\u001b[36m(RayTrainWorker pid=52659)\u001b[0m   warnings.warn('resource_tracker: There appear to be %d '\n",
      "\u001b[36m(RayTrainWorker pid=53239)\u001b[0m Setting up process group for: env:// [rank=0, world_size=1]\n",
      "\u001b[36m(RayTrainWorker pid=52695)\u001b[0m Checkpoint successfully created at: Checkpoint(filesystem=local, path=/Users/sidharrthnagappan/ray_results/TorchTrainer_2024-12-24_17-34-19/TorchTrainer_4f4b8_00009_9_batch_size=128,dropout=0.2985,layer_1_size=128,layer_2_size=128,layer_3_size=256,learning_rate=0.0009_2024-12-24_17-34-21/checkpoint_000001)\n"
     ]
    },
    {
     "name": "stdout",
     "output_type": "stream",
     "text": [
      "\u001b[36m(RayTrainWorker pid=53239)\u001b[0m printing config {'layer_1_size': 128, 'layer_2_size': 128, 'layer_3_size': 512, 'dropout': 0.14513634236469966, 'batch_size': 64, 'learning_rate': 0.08377024358898488}\n",
      "\u001b[36m(RayTrainWorker pid=52814)\u001b[0m Downloading https://ossci-datasets.s3.amazonaws.com/mnist/t10k-labels-idx1-ubyte.gz to /var/folders/mf/cfzv46p15017stkscsq9jw9h0000gn/T/tmp_9qus576/MNIST/raw/t10k-labels-idx1-ubyte.gz\u001b[32m [repeated 3x across cluster]\u001b[0m\n",
      "\u001b[36m(RayTrainWorker pid=52814)\u001b[0m Extracting /var/folders/mf/cfzv46p15017stkscsq9jw9h0000gn/T/tmp_9qus576/MNIST/raw/t10k-labels-idx1-ubyte.gz to /var/folders/mf/cfzv46p15017stkscsq9jw9h0000gn/T/tmp_9qus576/MNIST/raw\u001b[32m [repeated 3x across cluster]\u001b[0m\n",
      "\u001b[36m(RayTrainWorker pid=53239)\u001b[0m Downloading http://yann.lecun.com/exdb/mnist/train-images-idx3-ubyte.gz\u001b[32m [repeated 3x across cluster]\u001b[0m\n"
     ]
    },
    {
     "name": "stderr",
     "output_type": "stream",
     "text": [
      "\u001b[36m(RayTrainWorker pid=53239)\u001b[0m GPU available: True (mps), used: False\n",
      "\u001b[36m(RayTrainWorker pid=53239)\u001b[0m TPU available: False, using: 0 TPU cores\n",
      "\u001b[36m(RayTrainWorker pid=53239)\u001b[0m HPU available: False, using: 0 HPUs\n",
      "\u001b[36m(RayTrainWorker pid=53239)\u001b[0m /Users/sidharrthnagappan/.virtualenvs/lsdp_miniproject/lib/python3.11/site-packages/pytorch_lightning/trainer/setup.py:177: GPU available but not used. You can set it by doing `Trainer(accelerator='gpu')`.\n",
      "\u001b[36m(RayTrainWorker pid=53239)\u001b[0m /Users/sidharrthnagappan/.virtualenvs/lsdp_miniproject/lib/python3.11/site-packages/pytorch_lightning/loops/utilities.py:73: `max_epochs` was not set. Setting it to 1000 epochs. To train without an epoch limit, set `max_epochs=-1`.\n"
     ]
    },
    {
     "name": "stdout",
     "output_type": "stream",
     "text": [
      "\u001b[36m(RayTrainWorker pid=53239)\u001b[0m Failed to download (trying next):\n",
      "\u001b[36m(RayTrainWorker pid=53239)\u001b[0m HTTP Error 403: Forbidden\n",
      "\u001b[36m(RayTrainWorker pid=53239)\u001b[0m \n",
      "\u001b[36m(RayTrainWorker pid=53244)\u001b[0m \n"
     ]
    },
    {
     "name": "stderr",
     "output_type": "stream",
     "text": [
      "  0%|          | 0.00/9.91M [00:00<?, ?B/s]\n",
      "  1%|          | 98.3k/9.91M [00:00<00:16, 597kB/s]\n",
      "  4%|▍         | 426k/9.91M [00:00<00:06, 1.39MB/s]\n",
      " 17%|█▋        | 1.64M/9.91M [00:00<00:01, 4.98MB/s]\n",
      "100%|██████████| 9.91M/9.91M [00:00<00:00, 11.9MB/s]\n"
     ]
    },
    {
     "name": "stdout",
     "output_type": "stream",
     "text": [
      "\u001b[36m(RayTrainWorker pid=53239)\u001b[0m \n",
      "\u001b[36m(RayTrainWorker pid=53239)\u001b[0m \n",
      "\u001b[36m(RayTrainWorker pid=53239)\u001b[0m \n",
      "\u001b[36m(RayTrainWorker pid=53239)\u001b[0m \n"
     ]
    },
    {
     "name": "stderr",
     "output_type": "stream",
     "text": [
      "100%|██████████| 9.91M/9.91M [00:02<00:00, 3.50MB/s]\n",
      "\u001b[36m(TorchTrainer pid=53139)\u001b[0m Started distributed worker processes: \n",
      "\u001b[36m(TorchTrainer pid=53139)\u001b[0m - (node_id=7cc2334a334327f410131b140fb9ad2ae54820f537299598f92261b4, ip=127.0.0.1, pid=53244) world_rank=0, local_rank=0, node_rank=0\n",
      "\u001b[36m(RayTrainWorker pid=53244)\u001b[0m Setting up process group for: env:// [rank=0, world_size=1]\n"
     ]
    },
    {
     "name": "stdout",
     "output_type": "stream",
     "text": [
      "\u001b[36m(RayTrainWorker pid=53244)\u001b[0m \n"
     ]
    },
    {
     "name": "stderr",
     "output_type": "stream",
     "text": [
      "\u001b[36m(RayTrainWorker pid=52720)\u001b[0m Checkpoint successfully created at: Checkpoint(filesystem=local, path=/Users/sidharrthnagappan/ray_results/TorchTrainer_2024-12-24_17-34-19/TorchTrainer_4f4b8_00010_10_batch_size=64,dropout=0.2489,layer_1_size=128,layer_2_size=128,layer_3_size=256,learning_rate=0.0008_2024-12-24_17-34-21/checkpoint_000001)\n"
     ]
    },
    {
     "name": "stdout",
     "output_type": "stream",
     "text": [
      "\u001b[36m(RayTrainWorker pid=53244)\u001b[0m \n",
      "\u001b[36m(RayTrainWorker pid=53244)\u001b[0m printing config {'layer_1_size': 128, 'layer_2_size': 128, 'layer_3_size': 256, 'dropout': 0.19768331624522156, 'batch_size': 64, 'learning_rate': 0.027985409353988275}\n",
      "\u001b[36m(RayTrainWorker pid=53239)\u001b[0m Downloading https://ossci-datasets.s3.amazonaws.com/mnist/t10k-images-idx3-ubyte.gz to /var/folders/mf/cfzv46p15017stkscsq9jw9h0000gn/T/tmp_5bdtq8h/MNIST/raw/t10k-images-idx3-ubyte.gz\u001b[32m [repeated 4x across cluster]\u001b[0m\n",
      "\u001b[36m(RayTrainWorker pid=53239)\u001b[0m Extracting /var/folders/mf/cfzv46p15017stkscsq9jw9h0000gn/T/tmp_5bdtq8h/MNIST/raw/t10k-images-idx3-ubyte.gz to /var/folders/mf/cfzv46p15017stkscsq9jw9h0000gn/T/tmp_5bdtq8h/MNIST/raw\u001b[32m [repeated 4x across cluster]\u001b[0m\n",
      "\u001b[36m(RayTrainWorker pid=53244)\u001b[0m Downloading https://ossci-datasets.s3.amazonaws.com/mnist/train-labels-idx1-ubyte.gz\u001b[32m [repeated 9x across cluster]\u001b[0m\n",
      "\u001b[36m(RayTrainWorker pid=53239)\u001b[0m \n"
     ]
    },
    {
     "name": "stderr",
     "output_type": "stream",
     "text": [
      "\u001b[36m(RayTrainWorker pid=53244)\u001b[0m GPU available: True (mps), used: False\n",
      "\u001b[36m(RayTrainWorker pid=53244)\u001b[0m TPU available: False, using: 0 TPU cores\n",
      "\u001b[36m(RayTrainWorker pid=53244)\u001b[0m HPU available: False, using: 0 HPUs\n",
      "\u001b[36m(RayTrainWorker pid=53244)\u001b[0m /Users/sidharrthnagappan/.virtualenvs/lsdp_miniproject/lib/python3.11/site-packages/pytorch_lightning/trainer/setup.py:177: GPU available but not used. You can set it by doing `Trainer(accelerator='gpu')`.\n",
      "\u001b[36m(RayTrainWorker pid=53244)\u001b[0m /Users/sidharrthnagappan/.virtualenvs/lsdp_miniproject/lib/python3.11/site-packages/pytorch_lightning/loops/utilities.py:73: `max_epochs` was not set. Setting it to 1000 epochs. To train without an epoch limit, set `max_epochs=-1`.\n",
      "100%|██████████| 28.9k/28.9k [00:00<00:00, 337kB/s]\n"
     ]
    },
    {
     "name": "stdout",
     "output_type": "stream",
     "text": [
      "\u001b[36m(RayTrainWorker pid=53244)\u001b[0m \n",
      "\u001b[36m(RayTrainWorker pid=53239)\u001b[0m \n",
      "\u001b[36m(RayTrainWorker pid=53239)\u001b[0m Failed to download (trying next):\u001b[32m [repeated 5x across cluster]\u001b[0m\n",
      "\u001b[36m(RayTrainWorker pid=53239)\u001b[0m HTTP Error 403: Forbidden\u001b[32m [repeated 5x across cluster]\u001b[0m\n",
      "\u001b[36m(RayTrainWorker pid=53244)\u001b[0m \n",
      "\u001b[36m(RayTrainWorker pid=53239)\u001b[0m \n"
     ]
    },
    {
     "name": "stderr",
     "output_type": "stream",
     "text": [
      "100%|██████████| 4.54k/4.54k [00:00<00:00, 2.07MB/s]\u001b[32m [repeated 5x across cluster]\u001b[0m\n",
      "\u001b[36m(RayTrainWorker pid=53239)\u001b[0m \n",
      "\u001b[36m(RayTrainWorker pid=53239)\u001b[0m   | Name     | Type               | Params | Mode \n",
      "\u001b[36m(RayTrainWorker pid=53239)\u001b[0m --------------------------------------------------------\n",
      "\u001b[36m(RayTrainWorker pid=53239)\u001b[0m 0 | accuracy | MulticlassAccuracy | 0      | train\n",
      "\u001b[36m(RayTrainWorker pid=53239)\u001b[0m 1 | layer1   | Linear             | 100 K  | train\n",
      "\u001b[36m(RayTrainWorker pid=53239)\u001b[0m 2 | layer2   | Linear             | 16.5 K | train\n",
      "\u001b[36m(RayTrainWorker pid=53239)\u001b[0m 3 | layer3   | Linear             | 66.0 K | train\n",
      "\u001b[36m(RayTrainWorker pid=53239)\u001b[0m 4 | layer4   | Linear             | 5.1 K  | train\n",
      "\u001b[36m(RayTrainWorker pid=53239)\u001b[0m 5 | dropout  | Dropout            | 0      | train\n",
      "\u001b[36m(RayTrainWorker pid=53239)\u001b[0m --------------------------------------------------------\n",
      "\u001b[36m(RayTrainWorker pid=53239)\u001b[0m 188 K     Trainable params\n",
      "\u001b[36m(RayTrainWorker pid=53239)\u001b[0m 0         Non-trainable params\n",
      "\u001b[36m(RayTrainWorker pid=53239)\u001b[0m 188 K     Total params\n",
      "\u001b[36m(RayTrainWorker pid=53239)\u001b[0m 0.753     Total estimated model params size (MB)\n",
      "\u001b[36m(RayTrainWorker pid=53239)\u001b[0m 6         Modules in train mode\n",
      "\u001b[36m(RayTrainWorker pid=53239)\u001b[0m 0         Modules in eval mode\n",
      "\u001b[36m(RayTrainWorker pid=53239)\u001b[0m /Users/sidharrthnagappan/.virtualenvs/lsdp_miniproject/lib/python3.11/site-packages/pytorch_lightning/trainer/connectors/data_connector.py:420: Consider setting `persistent_workers=True` in 'val_dataloader' to speed up the dataloader worker initialization.\n",
      "100%|██████████| 1.65M/1.65M [00:00<00:00, 3.31MB/s]\u001b[32m [repeated 26x across cluster]\u001b[0m\n"
     ]
    },
    {
     "name": "stdout",
     "output_type": "stream",
     "text": [
      "\u001b[36m(RayTrainWorker pid=53244)\u001b[0m \n",
      "\u001b[36m(RayTrainWorker pid=53244)\u001b[0m \n"
     ]
    },
    {
     "name": "stderr",
     "output_type": "stream",
     "text": [
      "\u001b[36m(RayTrainWorker pid=53244)\u001b[0m \n"
     ]
    },
    {
     "name": "stdout",
     "output_type": "stream",
     "text": [
      "\u001b[36m(RayTrainWorker pid=53244)\u001b[0m \n"
     ]
    },
    {
     "name": "stderr",
     "output_type": "stream",
     "text": [
      "\u001b[36m(RayTrainWorker pid=52695)\u001b[0m Checkpoint successfully created at: Checkpoint(filesystem=local, path=/Users/sidharrthnagappan/ray_results/TorchTrainer_2024-12-24_17-34-19/TorchTrainer_4f4b8_00009_9_batch_size=128,dropout=0.2985,layer_1_size=128,layer_2_size=128,layer_3_size=256,learning_rate=0.0009_2024-12-24_17-34-21/checkpoint_000002)\u001b[32m [repeated 2x across cluster]\u001b[0m\n",
      "\u001b[36m(RayTrainWorker pid=53239)\u001b[0m /Users/sidharrthnagappan/.virtualenvs/lsdp_miniproject/lib/python3.11/site-packages/pytorch_lightning/trainer/connectors/data_connector.py:420: Consider setting `persistent_workers=True` in 'train_dataloader' to speed up the dataloader worker initialization.\n",
      "100%|██████████| 4.54k/4.54k [00:00<00:00, 3.76MB/s]\u001b[32m [repeated 2x across cluster]\u001b[0m\n",
      "\u001b[36m(RayTrainWorker pid=53244)\u001b[0m   | Name     | Type               | Params | Mode \n",
      "\u001b[36m(RayTrainWorker pid=53244)\u001b[0m --------------------------------------------------------\u001b[32m [repeated 2x across cluster]\u001b[0m\n",
      "\u001b[36m(RayTrainWorker pid=53244)\u001b[0m 0 | accuracy | MulticlassAccuracy | 0      | train\n",
      "\u001b[36m(RayTrainWorker pid=53244)\u001b[0m 4 | layer4   | Linear             | 2.6 K  | train\u001b[32m [repeated 4x across cluster]\u001b[0m\n",
      "\u001b[36m(RayTrainWorker pid=53244)\u001b[0m 5 | dropout  | Dropout            | 0      | train\n",
      "\u001b[36m(RayTrainWorker pid=53244)\u001b[0m 152 K     Trainable params\n",
      "\u001b[36m(RayTrainWorker pid=53244)\u001b[0m 0         Non-trainable params\n",
      "\u001b[36m(RayTrainWorker pid=53244)\u001b[0m 152 K     Total params\n",
      "\u001b[36m(RayTrainWorker pid=53244)\u001b[0m 0.610     Total estimated model params size (MB)\n",
      "\u001b[36m(RayTrainWorker pid=53244)\u001b[0m 6         Modules in train mode\n",
      "\u001b[36m(RayTrainWorker pid=53244)\u001b[0m 0         Modules in eval mode\n",
      "\u001b[36m(RayTrainWorker pid=53244)\u001b[0m /Users/sidharrthnagappan/.virtualenvs/lsdp_miniproject/lib/python3.11/site-packages/pytorch_lightning/trainer/connectors/data_connector.py:420: Consider setting `persistent_workers=True` in 'val_dataloader' to speed up the dataloader worker initialization.\n",
      "100%|██████████| 1.65M/1.65M [00:00<00:00, 3.65MB/s]\u001b[32m [repeated 3x across cluster]\u001b[0m\n",
      "\u001b[36m(RayTrainWorker pid=52720)\u001b[0m Checkpoint successfully created at: Checkpoint(filesystem=local, path=/Users/sidharrthnagappan/ray_results/TorchTrainer_2024-12-24_17-34-19/TorchTrainer_4f4b8_00010_10_batch_size=64,dropout=0.2489,layer_1_size=128,layer_2_size=128,layer_3_size=256,learning_rate=0.0008_2024-12-24_17-34-21/checkpoint_000002)\n",
      "\u001b[36m(RayTrainWorker pid=53244)\u001b[0m /Users/sidharrthnagappan/.virtualenvs/lsdp_miniproject/lib/python3.11/site-packages/pytorch_lightning/trainer/connectors/data_connector.py:420: Consider setting `persistent_workers=True` in 'train_dataloader' to speed up the dataloader worker initialization.\n",
      "\u001b[36m(RayTrainWorker pid=52695)\u001b[0m Checkpoint successfully created at: Checkpoint(filesystem=local, path=/Users/sidharrthnagappan/ray_results/TorchTrainer_2024-12-24_17-34-19/TorchTrainer_4f4b8_00009_9_batch_size=128,dropout=0.2985,layer_1_size=128,layer_2_size=128,layer_3_size=256,learning_rate=0.0009_2024-12-24_17-34-21/checkpoint_000003)\n",
      "\u001b[36m(RayTrainWorker pid=53239)\u001b[0m Checkpoint successfully created at: Checkpoint(filesystem=local, path=/Users/sidharrthnagappan/ray_results/TorchTrainer_2024-12-24_17-34-19/TorchTrainer_4f4b8_00012_12_batch_size=64,dropout=0.1451,layer_1_size=128,layer_2_size=128,layer_3_size=512,learning_rate=0.0838_2024-12-24_17-34-21/checkpoint_000000)\n",
      "\u001b[36m(RayTrainWorker pid=52814)\u001b[0m Checkpoint successfully created at: Checkpoint(filesystem=local, path=/Users/sidharrthnagappan/ray_results/TorchTrainer_2024-12-24_17-34-19/TorchTrainer_4f4b8_00011_11_batch_size=32,dropout=0.1836,layer_1_size=128,layer_2_size=64,layer_3_size=128,learning_rate=0.0046_2024-12-24_17-34-21/checkpoint_000001)\n",
      "\u001b[36m(RayTrainWorker pid=53239)\u001b[0m Traceback (most recent call last):\n",
      "\u001b[36m(RayTrainWorker pid=53239)\u001b[0m   File \"<string>\", line 1, in <module>\n",
      "\u001b[36m(RayTrainWorker pid=53239)\u001b[0m   File \"/Users/sidharrthnagappan/.pyenv/versions/3.11.0/lib/python3.11/multiprocessing/spawn.py\", line 120, in spawn_main\n",
      "\u001b[36m(RayTrainWorker pid=53239)\u001b[0m     exitcode = _main(fd, parent_sentinel)\n",
      "\u001b[36m(RayTrainWorker pid=53239)\u001b[0m                ^^^^^^^^^^^^^^^^^^^^^^^^^^\n",
      "\u001b[36m(RayTrainWorker pid=53239)\u001b[0m   File \"/Users/sidharrthnagappan/.pyenv/versions/3.11.0/lib/python3.11/multiprocessing/spawn.py\", line 130, in _main\n",
      "\u001b[36m(RayTrainWorker pid=53239)\u001b[0m     self = reduction.pickle.load(from_parent)\n",
      "\u001b[36m(RayTrainWorker pid=53239)\u001b[0m            ^^^^^^^^^^^^^^^^^^^^^^^^^^^^^^^^^^\n",
      "\u001b[36m(RayTrainWorker pid=53239)\u001b[0m _pickle.UnpicklingError: pickle data was truncated\n",
      "\u001b[36m(RayTrainWorker pid=52695)\u001b[0m Checkpoint successfully created at: Checkpoint(filesystem=local, path=/Users/sidharrthnagappan/ray_results/TorchTrainer_2024-12-24_17-34-19/TorchTrainer_4f4b8_00009_9_batch_size=128,dropout=0.2985,layer_1_size=128,layer_2_size=128,layer_3_size=256,learning_rate=0.0009_2024-12-24_17-34-21/checkpoint_000004)\u001b[32m [repeated 2x across cluster]\u001b[0m\n",
      "\u001b[36m(RayTrainWorker pid=52695)\u001b[0m Traceback (most recent call last):\u001b[32m [repeated 3x across cluster]\u001b[0m\n",
      "\u001b[36m(RayTrainWorker pid=52695)\u001b[0m   File \"<string>\", line 1, in <module>\u001b[32m [repeated 3x across cluster]\u001b[0m\n",
      "\u001b[36m(RayTrainWorker pid=52695)\u001b[0m   File \"/Users/sidharrthnagappan/.pyenv/versions/3.11.0/lib/python3.11/multiprocessing/spawn.py\", line 120, in spawn_main\u001b[32m [repeated 3x across cluster]\u001b[0m\n",
      "\u001b[36m(RayTrainWorker pid=52695)\u001b[0m     exitcode = _main(fd, parent_sentinel)\u001b[32m [repeated 3x across cluster]\u001b[0m\n",
      "\u001b[36m(RayTrainWorker pid=52695)\u001b[0m                ^^^^^^^^^^^^^^^^^^^^^^^^^^\u001b[32m [repeated 3x across cluster]\u001b[0m\n",
      "\u001b[36m(RayTrainWorker pid=52695)\u001b[0m   File \"/Users/sidharrthnagappan/.pyenv/versions/3.11.0/lib/python3.11/multiprocessing/spawn.py\", line 130, in _main\u001b[32m [repeated 3x across cluster]\u001b[0m\n",
      "\u001b[36m(RayTrainWorker pid=52695)\u001b[0m     self = reduction.pickle.load(from_parent)\u001b[32m [repeated 3x across cluster]\u001b[0m\n",
      "\u001b[36m(RayTrainWorker pid=52695)\u001b[0m            ^^^^^^^^^^^^^^^^^^^^^^^^^^^^^^^^^^\u001b[32m [repeated 3x across cluster]\u001b[0m\n",
      "\u001b[36m(RayTrainWorker pid=52695)\u001b[0m _pickle.UnpicklingError: pickle data was truncated\u001b[32m [repeated 3x across cluster]\u001b[0m\n",
      "\u001b[36m(RayTrainWorker pid=53239)\u001b[0m /Users/sidharrthnagappan/.pyenv/versions/3.11.0/lib/python3.11/multiprocessing/resource_tracker.py:224: UserWarning: resource_tracker: There appear to be 55 leaked semaphore objects to clean up at shutdown\n",
      "\u001b[36m(RayTrainWorker pid=53239)\u001b[0m   warnings.warn('resource_tracker: There appear to be %d '\n",
      "\u001b[36m(TorchTrainer pid=53845)\u001b[0m Started distributed worker processes: \n",
      "\u001b[36m(TorchTrainer pid=53845)\u001b[0m - (node_id=7cc2334a334327f410131b140fb9ad2ae54820f537299598f92261b4, ip=127.0.0.1, pid=53951) world_rank=0, local_rank=0, node_rank=0\n",
      "\u001b[36m(RayTrainWorker pid=53951)\u001b[0m Setting up process group for: env:// [rank=0, world_size=1]\n"
     ]
    },
    {
     "name": "stdout",
     "output_type": "stream",
     "text": [
      "\u001b[36m(RayTrainWorker pid=53951)\u001b[0m printing config {'layer_1_size': 128, 'layer_2_size': 128, 'layer_3_size': 256, 'dropout': 0.15949214766748768, 'batch_size': 64, 'learning_rate': 0.06906314226038607}\n",
      "\u001b[36m(RayTrainWorker pid=53244)\u001b[0m Downloading https://ossci-datasets.s3.amazonaws.com/mnist/t10k-labels-idx1-ubyte.gz to /var/folders/mf/cfzv46p15017stkscsq9jw9h0000gn/T/tmps9k_n8cb/MNIST/raw/t10k-labels-idx1-ubyte.gz\u001b[32m [repeated 4x across cluster]\u001b[0m\n",
      "\u001b[36m(RayTrainWorker pid=53244)\u001b[0m Extracting /var/folders/mf/cfzv46p15017stkscsq9jw9h0000gn/T/tmps9k_n8cb/MNIST/raw/t10k-labels-idx1-ubyte.gz to /var/folders/mf/cfzv46p15017stkscsq9jw9h0000gn/T/tmps9k_n8cb/MNIST/raw\u001b[32m [repeated 4x across cluster]\u001b[0m\n",
      "\u001b[36m(RayTrainWorker pid=53244)\u001b[0m Downloading https://ossci-datasets.s3.amazonaws.com/mnist/t10k-labels-idx1-ubyte.gz\u001b[32m [repeated 6x across cluster]\u001b[0m\n",
      "\u001b[36m(RayTrainWorker pid=53244)\u001b[0m Failed to download (trying next):\u001b[32m [repeated 2x across cluster]\u001b[0m\n",
      "\u001b[36m(RayTrainWorker pid=53244)\u001b[0m HTTP Error 403: Forbidden\u001b[32m [repeated 2x across cluster]\u001b[0m\n"
     ]
    },
    {
     "name": "stderr",
     "output_type": "stream",
     "text": [
      "\u001b[36m(RayTrainWorker pid=53951)\u001b[0m GPU available: True (mps), used: False\n",
      "\u001b[36m(RayTrainWorker pid=53951)\u001b[0m TPU available: False, using: 0 TPU cores\n",
      "\u001b[36m(RayTrainWorker pid=53951)\u001b[0m HPU available: False, using: 0 HPUs\n",
      "\u001b[36m(RayTrainWorker pid=53951)\u001b[0m /Users/sidharrthnagappan/.virtualenvs/lsdp_miniproject/lib/python3.11/site-packages/pytorch_lightning/trainer/setup.py:177: GPU available but not used. You can set it by doing `Trainer(accelerator='gpu')`.\n",
      "\u001b[36m(RayTrainWorker pid=53951)\u001b[0m /Users/sidharrthnagappan/.virtualenvs/lsdp_miniproject/lib/python3.11/site-packages/pytorch_lightning/loops/utilities.py:73: `max_epochs` was not set. Setting it to 1000 epochs. To train without an epoch limit, set `max_epochs=-1`.\n",
      "\u001b[36m(RayTrainWorker pid=52720)\u001b[0m Checkpoint successfully created at: Checkpoint(filesystem=local, path=/Users/sidharrthnagappan/ray_results/TorchTrainer_2024-12-24_17-34-19/TorchTrainer_4f4b8_00010_10_batch_size=64,dropout=0.2489,layer_1_size=128,layer_2_size=128,layer_3_size=256,learning_rate=0.0008_2024-12-24_17-34-21/checkpoint_000003)\n"
     ]
    },
    {
     "name": "stdout",
     "output_type": "stream",
     "text": [
      "\u001b[36m(RayTrainWorker pid=53951)\u001b[0m \n"
     ]
    },
    {
     "name": "stderr",
     "output_type": "stream",
     "text": [
      "  0%|          | 0.00/9.91M [00:00<?, ?B/s]\n",
      "\u001b[36m(RayTrainWorker pid=52695)\u001b[0m /Users/sidharrthnagappan/.pyenv/versions/3.11.0/lib/python3.11/multiprocessing/resource_tracker.py:224: UserWarning: resource_tracker: There appear to be 55 leaked semaphore objects to clean up at shutdown\u001b[32m [repeated 3x across cluster]\u001b[0m\n",
      "\u001b[36m(RayTrainWorker pid=52695)\u001b[0m   warnings.warn('resource_tracker: There appear to be %d '\u001b[32m [repeated 3x across cluster]\u001b[0m\n",
      "  1%|          | 98.3k/9.91M [00:00<00:16, 588kB/s]\n",
      "  4%|▍         | 426k/9.91M [00:00<00:06, 1.39MB/s]\n",
      " 13%|█▎        | 1.28M/9.91M [00:00<00:02, 3.13MB/s]\n",
      " 35%|███▍      | 3.44M/9.91M [00:00<00:00, 8.37MB/s]\n"
     ]
    },
    {
     "name": "stdout",
     "output_type": "stream",
     "text": [
      "\u001b[36m(RayTrainWorker pid=53988)\u001b[0m \n",
      "\u001b[36m(RayTrainWorker pid=53989)\u001b[0m \n"
     ]
    },
    {
     "name": "stderr",
     "output_type": "stream",
     "text": [
      " 66%|██████▌   | 6.55M/9.91M [00:00<00:00, 14.9MB/s]\n",
      "100%|██████████| 9.91M/9.91M [00:00<00:00, 11.3MB/s]\n"
     ]
    },
    {
     "name": "stdout",
     "output_type": "stream",
     "text": [
      "\u001b[36m(RayTrainWorker pid=53951)\u001b[0m \n",
      "\u001b[36m(RayTrainWorker pid=53951)\u001b[0m \n"
     ]
    },
    {
     "name": "stderr",
     "output_type": "stream",
     "text": [
      "100%|██████████| 28.9k/28.9k [00:00<00:00, 237kB/s]\n"
     ]
    },
    {
     "name": "stdout",
     "output_type": "stream",
     "text": [
      "\u001b[36m(RayTrainWorker pid=53951)\u001b[0m \n"
     ]
    },
    {
     "name": "stderr",
     "output_type": "stream",
     "text": [
      "100%|██████████| 9.91M/9.91M [00:01<00:00, 8.56MB/s]\n",
      "\u001b[36m(TorchTrainer pid=53946)\u001b[0m Started distributed worker processes: \u001b[32m [repeated 3x across cluster]\u001b[0m\n",
      "\u001b[36m(TorchTrainer pid=53946)\u001b[0m - (node_id=7cc2334a334327f410131b140fb9ad2ae54820f537299598f92261b4, ip=127.0.0.1, pid=54019) world_rank=0, local_rank=0, node_rank=0\u001b[32m [repeated 3x across cluster]\u001b[0m\n",
      "\u001b[36m(RayTrainWorker pid=54019)\u001b[0m Setting up process group for: env:// [rank=0, world_size=1]\u001b[32m [repeated 3x across cluster]\u001b[0m\n"
     ]
    },
    {
     "name": "stdout",
     "output_type": "stream",
     "text": [
      "\u001b[36m(RayTrainWorker pid=53988)\u001b[0m \n",
      "\u001b[36m(RayTrainWorker pid=54019)\u001b[0m \n",
      "\u001b[36m(RayTrainWorker pid=53951)\u001b[0m \n",
      "\u001b[36m(RayTrainWorker pid=53988)\u001b[0m \n"
     ]
    },
    {
     "name": "stderr",
     "output_type": "stream",
     "text": [
      "\u001b[36m(RayTrainWorker pid=52720)\u001b[0m Checkpoint successfully created at: Checkpoint(filesystem=local, path=/Users/sidharrthnagappan/ray_results/TorchTrainer_2024-12-24_17-34-19/TorchTrainer_4f4b8_00010_10_batch_size=64,dropout=0.2489,layer_1_size=128,layer_2_size=128,layer_3_size=256,learning_rate=0.0008_2024-12-24_17-34-21/checkpoint_000004)\n"
     ]
    },
    {
     "name": "stdout",
     "output_type": "stream",
     "text": [
      "\u001b[36m(RayTrainWorker pid=53988)\u001b[0m \n"
     ]
    },
    {
     "name": "stderr",
     "output_type": "stream",
     "text": [
      "100%|██████████| 28.9k/28.9k [00:00<00:00, 331kB/s]\n",
      " 94%|█████████▍| 9.34M/9.91M [00:02<00:00, 4.68MB/s]\n"
     ]
    },
    {
     "name": "stdout",
     "output_type": "stream",
     "text": [
      "\u001b[36m(RayTrainWorker pid=53951)\u001b[0m \n",
      "\u001b[36m(RayTrainWorker pid=54019)\u001b[0m printing config {'layer_1_size': 128, 'layer_2_size': 128, 'layer_3_size': 128, 'dropout': 0.20081277124647182, 'batch_size': 128, 'learning_rate': 0.0002177538522592566}\u001b[32m [repeated 3x across cluster]\u001b[0m\n",
      "\u001b[36m(RayTrainWorker pid=53988)\u001b[0m Downloading https://ossci-datasets.s3.amazonaws.com/mnist/train-labels-idx1-ubyte.gz to /var/folders/mf/cfzv46p15017stkscsq9jw9h0000gn/T/tmp7z21mrqp/MNIST/raw/train-labels-idx1-ubyte.gz\u001b[32m [repeated 7x across cluster]\u001b[0m\n",
      "\u001b[36m(RayTrainWorker pid=53951)\u001b[0m Extracting /var/folders/mf/cfzv46p15017stkscsq9jw9h0000gn/T/tmp71w5gs3r/MNIST/raw/t10k-images-idx3-ubyte.gz to /var/folders/mf/cfzv46p15017stkscsq9jw9h0000gn/T/tmp71w5gs3r/MNIST/raw\u001b[32m [repeated 5x across cluster]\u001b[0m\n",
      "\u001b[36m(RayTrainWorker pid=53951)\u001b[0m Downloading http://yann.lecun.com/exdb/mnist/t10k-labels-idx1-ubyte.gz\u001b[32m [repeated 16x across cluster]\u001b[0m\n",
      "\u001b[36m(RayTrainWorker pid=53988)\u001b[0m Failed to download (trying next):\u001b[32m [repeated 7x across cluster]\u001b[0m\n",
      "\u001b[36m(RayTrainWorker pid=53988)\u001b[0m HTTP Error 403: Forbidden\u001b[32m [repeated 7x across cluster]\u001b[0m\n"
     ]
    },
    {
     "name": "stderr",
     "output_type": "stream",
     "text": [
      "\u001b[36m(RayTrainWorker pid=52720)\u001b[0m Traceback (most recent call last):\n",
      "\u001b[36m(RayTrainWorker pid=52720)\u001b[0m   File \"<string>\", line 1, in <module>\n",
      "\u001b[36m(RayTrainWorker pid=52720)\u001b[0m   File \"/Users/sidharrthnagappan/.pyenv/versions/3.11.0/lib/python3.11/multiprocessing/spawn.py\", line 120, in spawn_main\n",
      "\u001b[36m(RayTrainWorker pid=52720)\u001b[0m     exitcode = _main(fd, parent_sentinel)\n",
      "\u001b[36m(RayTrainWorker pid=52720)\u001b[0m                ^^^^^^^^^^^^^^^^^^^^^^^^^^\n",
      "\u001b[36m(RayTrainWorker pid=52720)\u001b[0m   File \"/Users/sidharrthnagappan/.pyenv/versions/3.11.0/lib/python3.11/multiprocessing/spawn.py\", line 130, in _main\n",
      "\u001b[36m(RayTrainWorker pid=52720)\u001b[0m     self = reduction.pickle.load(from_parent)\n",
      "\u001b[36m(RayTrainWorker pid=52720)\u001b[0m            ^^^^^^^^^^^^^^^^^^^^^^^^^^^^^^^^^^\n",
      "\u001b[36m(RayTrainWorker pid=52720)\u001b[0m _pickle.UnpicklingError: pickle data was truncated\n",
      "\u001b[36m(RayTrainWorker pid=54019)\u001b[0m GPU available: True (mps), used: False\u001b[32m [repeated 3x across cluster]\u001b[0m\n",
      "\u001b[36m(RayTrainWorker pid=54019)\u001b[0m TPU available: False, using: 0 TPU cores\u001b[32m [repeated 3x across cluster]\u001b[0m\n",
      "\u001b[36m(RayTrainWorker pid=54019)\u001b[0m HPU available: False, using: 0 HPUs\u001b[32m [repeated 3x across cluster]\u001b[0m\n",
      "\u001b[36m(RayTrainWorker pid=54019)\u001b[0m /Users/sidharrthnagappan/.virtualenvs/lsdp_miniproject/lib/python3.11/site-packages/pytorch_lightning/trainer/setup.py:177: GPU available but not used. You can set it by doing `Trainer(accelerator='gpu')`.\u001b[32m [repeated 3x across cluster]\u001b[0m\n",
      "\u001b[36m(RayTrainWorker pid=54019)\u001b[0m /Users/sidharrthnagappan/.virtualenvs/lsdp_miniproject/lib/python3.11/site-packages/pytorch_lightning/loops/utilities.py:73: `max_epochs` was not set. Setting it to 1000 epochs. To train without an epoch limit, set `max_epochs=-1`.\u001b[32m [repeated 3x across cluster]\u001b[0m\n",
      "100%|██████████| 1.65M/1.65M [00:00<00:00, 3.27MB/s]\n",
      "100%|██████████| 9.91M/9.91M [00:02<00:00, 3.79MB/s]\n"
     ]
    },
    {
     "name": "stdout",
     "output_type": "stream",
     "text": [
      "\u001b[36m(RayTrainWorker pid=53989)\u001b[0m \n"
     ]
    },
    {
     "name": "stderr",
     "output_type": "stream",
     "text": [
      "100%|██████████| 9.91M/9.91M [00:00<00:00, 10.2MB/s]\n"
     ]
    },
    {
     "name": "stdout",
     "output_type": "stream",
     "text": [
      "\u001b[36m(RayTrainWorker pid=53988)\u001b[0m \n",
      "\u001b[36m(RayTrainWorker pid=54019)\u001b[0m \n",
      "\u001b[36m(RayTrainWorker pid=53951)\u001b[0m \n",
      "\u001b[36m(RayTrainWorker pid=53989)\u001b[0m \n",
      "\u001b[36m(RayTrainWorker pid=54019)\u001b[0m \n",
      "\u001b[36m(RayTrainWorker pid=53951)\u001b[0m \n"
     ]
    },
    {
     "name": "stderr",
     "output_type": "stream",
     "text": [
      "\u001b[36m(RayTrainWorker pid=53951)\u001b[0m \n",
      "\u001b[36m(RayTrainWorker pid=53951)\u001b[0m   | Name     | Type               | Params | Mode \n",
      "\u001b[36m(RayTrainWorker pid=53951)\u001b[0m --------------------------------------------------------\n",
      "\u001b[36m(RayTrainWorker pid=53951)\u001b[0m 0 | accuracy | MulticlassAccuracy | 0      | train\n",
      "\u001b[36m(RayTrainWorker pid=53951)\u001b[0m 1 | layer1   | Linear             | 100 K  | train\n",
      "\u001b[36m(RayTrainWorker pid=53951)\u001b[0m 2 | layer2   | Linear             | 16.5 K | train\n",
      "\u001b[36m(RayTrainWorker pid=53951)\u001b[0m 3 | layer3   | Linear             | 33.0 K | train\n",
      "\u001b[36m(RayTrainWorker pid=53951)\u001b[0m 4 | layer4   | Linear             | 2.6 K  | train\n",
      "\u001b[36m(RayTrainWorker pid=53951)\u001b[0m 5 | dropout  | Dropout            | 0      | train\n",
      "\u001b[36m(RayTrainWorker pid=53951)\u001b[0m --------------------------------------------------------\n",
      "\u001b[36m(RayTrainWorker pid=53951)\u001b[0m 152 K     Trainable params\n",
      "\u001b[36m(RayTrainWorker pid=53951)\u001b[0m 0         Non-trainable params\n",
      "\u001b[36m(RayTrainWorker pid=53951)\u001b[0m 152 K     Total params\n",
      "\u001b[36m(RayTrainWorker pid=53951)\u001b[0m 0.610     Total estimated model params size (MB)\n",
      "\u001b[36m(RayTrainWorker pid=53951)\u001b[0m 6         Modules in train mode\n",
      "\u001b[36m(RayTrainWorker pid=53951)\u001b[0m 0         Modules in eval mode\n",
      "\u001b[36m(RayTrainWorker pid=53951)\u001b[0m /Users/sidharrthnagappan/.virtualenvs/lsdp_miniproject/lib/python3.11/site-packages/pytorch_lightning/trainer/connectors/data_connector.py:420: Consider setting `persistent_workers=True` in 'val_dataloader' to speed up the dataloader worker initialization.\n",
      "100%|██████████| 4.54k/4.54k [00:00<00:00, 5.06MB/s]\u001b[32m [repeated 8x across cluster]\u001b[0m\n",
      "100%|██████████| 28.9k/28.9k [00:00<00:00, 310kB/s]\n"
     ]
    },
    {
     "name": "stdout",
     "output_type": "stream",
     "text": [
      "\u001b[36m(RayTrainWorker pid=53989)\u001b[0m \n",
      "\u001b[36m(RayTrainWorker pid=53988)\u001b[0m \n"
     ]
    },
    {
     "name": "stderr",
     "output_type": "stream",
     "text": [
      "100%|██████████| 1.65M/1.65M [00:00<00:00, 3.72MB/s]\u001b[32m [repeated 37x across cluster]\u001b[0m\n"
     ]
    },
    {
     "name": "stdout",
     "output_type": "stream",
     "text": [
      "\u001b[36m(RayTrainWorker pid=54019)\u001b[0m \n"
     ]
    },
    {
     "name": "stderr",
     "output_type": "stream",
     "text": [
      "100%|██████████| 28.9k/28.9k [00:00<00:00, 348kB/s]\n"
     ]
    },
    {
     "name": "stdout",
     "output_type": "stream",
     "text": [
      "\u001b[36m(RayTrainWorker pid=53989)\u001b[0m \n",
      "\u001b[36m(RayTrainWorker pid=53988)\u001b[0m \n",
      "\u001b[36m(RayTrainWorker pid=54019)\u001b[0m \n",
      "\u001b[36m(RayTrainWorker pid=53988)\u001b[0m \n"
     ]
    },
    {
     "name": "stderr",
     "output_type": "stream",
     "text": [
      "\u001b[36m(RayTrainWorker pid=53988)\u001b[0m \n"
     ]
    },
    {
     "name": "stdout",
     "output_type": "stream",
     "text": [
      "\u001b[36m(RayTrainWorker pid=53989)\u001b[0m \n"
     ]
    },
    {
     "name": "stderr",
     "output_type": "stream",
     "text": [
      "\u001b[36m(RayTrainWorker pid=53951)\u001b[0m /Users/sidharrthnagappan/.virtualenvs/lsdp_miniproject/lib/python3.11/site-packages/pytorch_lightning/trainer/connectors/data_connector.py:420: Consider setting `persistent_workers=True` in 'train_dataloader' to speed up the dataloader worker initialization.\n"
     ]
    },
    {
     "name": "stdout",
     "output_type": "stream",
     "text": [
      "\u001b[36m(RayTrainWorker pid=54019)\u001b[0m \n"
     ]
    },
    {
     "name": "stderr",
     "output_type": "stream",
     "text": [
      "100%|██████████| 1.65M/1.65M [00:00<00:00, 3.63MB/s]\n"
     ]
    },
    {
     "name": "stdout",
     "output_type": "stream",
     "text": [
      "\u001b[36m(RayTrainWorker pid=53989)\u001b[0m \n",
      "\u001b[36m(RayTrainWorker pid=54019)\u001b[0m \n",
      "\u001b[36m(RayTrainWorker pid=53989)\u001b[0m \n"
     ]
    },
    {
     "name": "stderr",
     "output_type": "stream",
     "text": [
      "\u001b[36m(RayTrainWorker pid=53989)\u001b[0m \n"
     ]
    },
    {
     "name": "stdout",
     "output_type": "stream",
     "text": [
      "\u001b[36m(RayTrainWorker pid=54019)\u001b[0m \n"
     ]
    },
    {
     "name": "stderr",
     "output_type": "stream",
     "text": [
      "\u001b[36m(RayTrainWorker pid=54019)\u001b[0m \n",
      "\u001b[36m(RayTrainWorker pid=52720)\u001b[0m /Users/sidharrthnagappan/.pyenv/versions/3.11.0/lib/python3.11/multiprocessing/resource_tracker.py:224: UserWarning: resource_tracker: There appear to be 55 leaked semaphore objects to clean up at shutdown\n",
      "\u001b[36m(RayTrainWorker pid=52720)\u001b[0m   warnings.warn('resource_tracker: There appear to be %d '\n",
      "\u001b[36m(RayTrainWorker pid=54019)\u001b[0m   | Name     | Type               | Params | Mode \u001b[32m [repeated 3x across cluster]\u001b[0m\n",
      "\u001b[36m(RayTrainWorker pid=54019)\u001b[0m --------------------------------------------------------\u001b[32m [repeated 6x across cluster]\u001b[0m\n",
      "\u001b[36m(RayTrainWorker pid=54019)\u001b[0m 0 | accuracy | MulticlassAccuracy | 0      | train\u001b[32m [repeated 3x across cluster]\u001b[0m\n",
      "\u001b[36m(RayTrainWorker pid=54019)\u001b[0m 4 | layer4   | Linear             | 1.3 K  | train\u001b[32m [repeated 12x across cluster]\u001b[0m\n",
      "\u001b[36m(RayTrainWorker pid=54019)\u001b[0m 5 | dropout  | Dropout            | 0      | train\u001b[32m [repeated 3x across cluster]\u001b[0m\n",
      "\u001b[36m(RayTrainWorker pid=54019)\u001b[0m 134 K     Trainable params\u001b[32m [repeated 3x across cluster]\u001b[0m\n",
      "\u001b[36m(RayTrainWorker pid=54019)\u001b[0m 0         Non-trainable params\u001b[32m [repeated 3x across cluster]\u001b[0m\n",
      "\u001b[36m(RayTrainWorker pid=54019)\u001b[0m 134 K     Total params\u001b[32m [repeated 3x across cluster]\u001b[0m\n",
      "\u001b[36m(RayTrainWorker pid=54019)\u001b[0m 0.539     Total estimated model params size (MB)\u001b[32m [repeated 3x across cluster]\u001b[0m\n",
      "\u001b[36m(RayTrainWorker pid=54019)\u001b[0m 6         Modules in train mode\u001b[32m [repeated 3x across cluster]\u001b[0m\n",
      "\u001b[36m(RayTrainWorker pid=54019)\u001b[0m 0         Modules in eval mode\u001b[32m [repeated 3x across cluster]\u001b[0m\n",
      "\u001b[36m(RayTrainWorker pid=54019)\u001b[0m /Users/sidharrthnagappan/.virtualenvs/lsdp_miniproject/lib/python3.11/site-packages/pytorch_lightning/trainer/connectors/data_connector.py:420: Consider setting `persistent_workers=True` in 'val_dataloader' to speed up the dataloader worker initialization.\u001b[32m [repeated 3x across cluster]\u001b[0m\n",
      "100%|██████████| 4.54k/4.54k [00:00<00:00, 3.86MB/s]\u001b[32m [repeated 7x across cluster]\u001b[0m\n",
      " 24%|██▍       | 393k/1.65M [00:00<00:00, 1.28MB/s]\u001b[32m [repeated 5x across cluster]\u001b[0m\n",
      "\u001b[36m(RayTrainWorker pid=54019)\u001b[0m /Users/sidharrthnagappan/.virtualenvs/lsdp_miniproject/lib/python3.11/site-packages/pytorch_lightning/trainer/connectors/data_connector.py:420: Consider setting `persistent_workers=True` in 'train_dataloader' to speed up the dataloader worker initialization.\u001b[32m [repeated 3x across cluster]\u001b[0m\n",
      "\u001b[36m(TorchTrainer pid=54116)\u001b[0m Started distributed worker processes: \n",
      "\u001b[36m(TorchTrainer pid=54116)\u001b[0m - (node_id=7cc2334a334327f410131b140fb9ad2ae54820f537299598f92261b4, ip=127.0.0.1, pid=54161) world_rank=0, local_rank=0, node_rank=0\n",
      "\u001b[36m(RayTrainWorker pid=54161)\u001b[0m Setting up process group for: env:// [rank=0, world_size=1]\n",
      "\u001b[36m(RayTrainWorker pid=54161)\u001b[0m GPU available: True (mps), used: False\n",
      "\u001b[36m(RayTrainWorker pid=54161)\u001b[0m TPU available: False, using: 0 TPU cores\n",
      "\u001b[36m(RayTrainWorker pid=54161)\u001b[0m HPU available: False, using: 0 HPUs\n",
      "\u001b[36m(RayTrainWorker pid=54161)\u001b[0m /Users/sidharrthnagappan/.virtualenvs/lsdp_miniproject/lib/python3.11/site-packages/pytorch_lightning/trainer/setup.py:177: GPU available but not used. You can set it by doing `Trainer(accelerator='gpu')`.\n",
      "\u001b[36m(RayTrainWorker pid=54161)\u001b[0m /Users/sidharrthnagappan/.virtualenvs/lsdp_miniproject/lib/python3.11/site-packages/pytorch_lightning/loops/utilities.py:73: `max_epochs` was not set. Setting it to 1000 epochs. To train without an epoch limit, set `max_epochs=-1`.\n"
     ]
    },
    {
     "name": "stdout",
     "output_type": "stream",
     "text": [
      "\u001b[36m(RayTrainWorker pid=54161)\u001b[0m printing config {'layer_1_size': 32, 'layer_2_size': 64, 'layer_3_size': 256, 'dropout': 0.16431648687476777, 'batch_size': 128, 'learning_rate': 0.0029890994732554837}\n",
      "\u001b[36m(RayTrainWorker pid=54019)\u001b[0m Downloading https://ossci-datasets.s3.amazonaws.com/mnist/t10k-labels-idx1-ubyte.gz to /var/folders/mf/cfzv46p15017stkscsq9jw9h0000gn/T/tmpxbfgduw4/MNIST/raw/t10k-labels-idx1-ubyte.gz\u001b[32m [repeated 9x across cluster]\u001b[0m\n",
      "\u001b[36m(RayTrainWorker pid=54019)\u001b[0m Extracting /var/folders/mf/cfzv46p15017stkscsq9jw9h0000gn/T/tmpxbfgduw4/MNIST/raw/t10k-labels-idx1-ubyte.gz to /var/folders/mf/cfzv46p15017stkscsq9jw9h0000gn/T/tmpxbfgduw4/MNIST/raw\u001b[32m [repeated 11x across cluster]\u001b[0m\n",
      "\u001b[36m(RayTrainWorker pid=54019)\u001b[0m Downloading https://ossci-datasets.s3.amazonaws.com/mnist/t10k-labels-idx1-ubyte.gz\u001b[32m [repeated 16x across cluster]\u001b[0m\n",
      "\u001b[36m(RayTrainWorker pid=54019)\u001b[0m Failed to download (trying next):\u001b[32m [repeated 9x across cluster]\u001b[0m\n",
      "\u001b[36m(RayTrainWorker pid=54019)\u001b[0m HTTP Error 403: Forbidden\u001b[32m [repeated 9x across cluster]\u001b[0m\n",
      "\u001b[36m(RayTrainWorker pid=54161)\u001b[0m \n"
     ]
    },
    {
     "name": "stderr",
     "output_type": "stream",
     "text": [
      " 95%|█████████▍| 9.40M/9.91M [00:00<00:00, 15.1MB/s]\n",
      "100%|██████████| 9.91M/9.91M [00:00<00:00, 10.2MB/s]\n"
     ]
    },
    {
     "name": "stdout",
     "output_type": "stream",
     "text": [
      "\u001b[36m(RayTrainWorker pid=54161)\u001b[0m \n",
      "\u001b[36m(RayTrainWorker pid=54161)\u001b[0m \n"
     ]
    },
    {
     "name": "stderr",
     "output_type": "stream",
     "text": [
      "100%|██████████| 28.9k/28.9k [00:00<00:00, 336kB/s]\u001b[32m [repeated 2x across cluster]\u001b[0m\n",
      " 77%|███████▋  | 7.67M/9.91M [00:00<00:00, 15.0MB/s]\u001b[32m [repeated 6x across cluster]\u001b[0m\n"
     ]
    },
    {
     "name": "stdout",
     "output_type": "stream",
     "text": [
      "\u001b[36m(RayTrainWorker pid=54161)\u001b[0m \n",
      "\u001b[36m(RayTrainWorker pid=54161)\u001b[0m \n",
      "\u001b[36m(RayTrainWorker pid=54161)\u001b[0m Downloading https://ossci-datasets.s3.amazonaws.com/mnist/t10k-images-idx3-ubyte.gz to /var/folders/mf/cfzv46p15017stkscsq9jw9h0000gn/T/tmpxmbqtipr/MNIST/raw/t10k-images-idx3-ubyte.gz\u001b[32m [repeated 3x across cluster]\u001b[0m\n",
      "\u001b[36m(RayTrainWorker pid=54161)\u001b[0m Extracting /var/folders/mf/cfzv46p15017stkscsq9jw9h0000gn/T/tmpxmbqtipr/MNIST/raw/t10k-images-idx3-ubyte.gz to /var/folders/mf/cfzv46p15017stkscsq9jw9h0000gn/T/tmpxmbqtipr/MNIST/raw\u001b[32m [repeated 3x across cluster]\u001b[0m\n",
      "\u001b[36m(RayTrainWorker pid=54161)\u001b[0m Downloading https://ossci-datasets.s3.amazonaws.com/mnist/t10k-images-idx3-ubyte.gz\u001b[32m [repeated 6x across cluster]\u001b[0m\n",
      "\u001b[36m(RayTrainWorker pid=54161)\u001b[0m Failed to download (trying next):\u001b[32m [repeated 3x across cluster]\u001b[0m\n",
      "\u001b[36m(RayTrainWorker pid=54161)\u001b[0m HTTP Error 403: Forbidden\u001b[32m [repeated 3x across cluster]\u001b[0m\n",
      "\u001b[36m(RayTrainWorker pid=54161)\u001b[0m \n",
      "\u001b[36m(RayTrainWorker pid=54161)\u001b[0m \n"
     ]
    },
    {
     "name": "stderr",
     "output_type": "stream",
     "text": [
      "\u001b[36m(RayTrainWorker pid=53988)\u001b[0m Checkpoint successfully created at: Checkpoint(filesystem=local, path=/Users/sidharrthnagappan/ray_results/TorchTrainer_2024-12-24_17-34-19/TorchTrainer_4f4b8_00015_15_batch_size=128,dropout=0.1031,layer_1_size=64,layer_2_size=128,layer_3_size=128,learning_rate=0.0036_2024-12-24_17-34-21/checkpoint_000000)\n",
      "\u001b[36m(RayTrainWorker pid=54161)\u001b[0m \n",
      "\u001b[36m(RayTrainWorker pid=54161)\u001b[0m   | Name     | Type               | Params | Mode \n",
      "\u001b[36m(RayTrainWorker pid=54161)\u001b[0m --------------------------------------------------------\n",
      "\u001b[36m(RayTrainWorker pid=54161)\u001b[0m 0 | accuracy | MulticlassAccuracy | 0      | train\n",
      "\u001b[36m(RayTrainWorker pid=54161)\u001b[0m 1 | layer1   | Linear             | 25.1 K | train\n",
      "\u001b[36m(RayTrainWorker pid=54161)\u001b[0m 2 | layer2   | Linear             | 2.1 K  | train\n",
      "\u001b[36m(RayTrainWorker pid=54161)\u001b[0m 3 | layer3   | Linear             | 16.6 K | train\n",
      "\u001b[36m(RayTrainWorker pid=54161)\u001b[0m 4 | layer4   | Linear             | 2.6 K  | train\n",
      "\u001b[36m(RayTrainWorker pid=54161)\u001b[0m 5 | dropout  | Dropout            | 0      | train\n",
      "\u001b[36m(RayTrainWorker pid=54161)\u001b[0m --------------------------------------------------------\n",
      "\u001b[36m(RayTrainWorker pid=54161)\u001b[0m 46.4 K    Trainable params\n",
      "\u001b[36m(RayTrainWorker pid=54161)\u001b[0m 0         Non-trainable params\n",
      "\u001b[36m(RayTrainWorker pid=54161)\u001b[0m 46.4 K    Total params\n",
      "\u001b[36m(RayTrainWorker pid=54161)\u001b[0m 0.186     Total estimated model params size (MB)\n",
      "\u001b[36m(RayTrainWorker pid=54161)\u001b[0m 6         Modules in train mode\n",
      "\u001b[36m(RayTrainWorker pid=54161)\u001b[0m 0         Modules in eval mode\n",
      "\u001b[36m(RayTrainWorker pid=54161)\u001b[0m /Users/sidharrthnagappan/.virtualenvs/lsdp_miniproject/lib/python3.11/site-packages/pytorch_lightning/trainer/connectors/data_connector.py:420: Consider setting `persistent_workers=True` in 'val_dataloader' to speed up the dataloader worker initialization.\n"
     ]
    },
    {
     "name": "stdout",
     "output_type": "stream",
     "text": [
      "\u001b[36m(RayTrainWorker pid=54161)\u001b[0m \n"
     ]
    },
    {
     "name": "stderr",
     "output_type": "stream",
     "text": [
      "\u001b[36m(RayTrainWorker pid=53951)\u001b[0m Traceback (most recent call last):\n",
      "\u001b[36m(RayTrainWorker pid=53951)\u001b[0m   File \"<string>\", line 1, in <module>\n",
      "\u001b[36m(RayTrainWorker pid=53951)\u001b[0m   File \"/Users/sidharrthnagappan/.pyenv/versions/3.11.0/lib/python3.11/multiprocessing/spawn.py\", line 120, in spawn_main\n",
      "\u001b[36m(RayTrainWorker pid=53951)\u001b[0m     exitcode = _main(fd, parent_sentinel)\n",
      "\u001b[36m(RayTrainWorker pid=53951)\u001b[0m                ^^^^^^^^^^^^^^^^^^^^^^^^^^\n",
      "\u001b[36m(RayTrainWorker pid=53951)\u001b[0m   File \"/Users/sidharrthnagappan/.pyenv/versions/3.11.0/lib/python3.11/multiprocessing/spawn.py\", line 130, in _main\n",
      "\u001b[36m(RayTrainWorker pid=53951)\u001b[0m     self = reduction.pickle.load(from_parent)\n",
      "\u001b[36m(RayTrainWorker pid=53951)\u001b[0m            ^^^^^^^^^^^^^^^^^^^^^^^^^^^^^^^^^^\n",
      "\u001b[36m(RayTrainWorker pid=53951)\u001b[0m _pickle.UnpicklingError: pickle data was truncated\n",
      "100%|██████████| 4.54k/4.54k [00:00<00:00, 2.83MB/s]\u001b[32m [repeated 2x across cluster]\u001b[0m\n",
      "100%|██████████| 1.65M/1.65M [00:00<00:00, 3.19MB/s]\u001b[32m [repeated 3x across cluster]\u001b[0m\n",
      "\u001b[36m(RayTrainWorker pid=54161)\u001b[0m /Users/sidharrthnagappan/.virtualenvs/lsdp_miniproject/lib/python3.11/site-packages/pytorch_lightning/trainer/connectors/data_connector.py:420: Consider setting `persistent_workers=True` in 'train_dataloader' to speed up the dataloader worker initialization.\n",
      "\u001b[36m(RayTrainWorker pid=54019)\u001b[0m Checkpoint successfully created at: Checkpoint(filesystem=local, path=/Users/sidharrthnagappan/ray_results/TorchTrainer_2024-12-24_17-34-19/TorchTrainer_4f4b8_00017_17_batch_size=128,dropout=0.2008,layer_1_size=128,layer_2_size=128,layer_3_size=128,learning_rate=0.0002_2024-12-24_17-34-21/checkpoint_000000)\u001b[32m [repeated 2x across cluster]\u001b[0m\n",
      "\u001b[36m(RayTrainWorker pid=53951)\u001b[0m /Users/sidharrthnagappan/.pyenv/versions/3.11.0/lib/python3.11/multiprocessing/resource_tracker.py:224: UserWarning: resource_tracker: There appear to be 55 leaked semaphore objects to clean up at shutdown\n",
      "\u001b[36m(RayTrainWorker pid=53951)\u001b[0m   warnings.warn('resource_tracker: There appear to be %d '\n",
      "\u001b[36m(RayTrainWorker pid=53989)\u001b[0m Traceback (most recent call last):\u001b[32m [repeated 2x across cluster]\u001b[0m\n",
      "\u001b[36m(RayTrainWorker pid=53989)\u001b[0m   File \"<string>\", line 1, in <module>\u001b[32m [repeated 2x across cluster]\u001b[0m\n",
      "\u001b[36m(RayTrainWorker pid=53989)\u001b[0m   File \"/Users/sidharrthnagappan/.pyenv/versions/3.11.0/lib/python3.11/multiprocessing/spawn.py\", line 120, in spawn_main\u001b[32m [repeated 2x across cluster]\u001b[0m\n",
      "\u001b[36m(RayTrainWorker pid=53989)\u001b[0m     exitcode = _main(fd, parent_sentinel)\u001b[32m [repeated 2x across cluster]\u001b[0m\n",
      "\u001b[36m(RayTrainWorker pid=53989)\u001b[0m                ^^^^^^^^^^^^^^^^^^^^^^^^^^\u001b[32m [repeated 2x across cluster]\u001b[0m\n",
      "\u001b[36m(RayTrainWorker pid=53989)\u001b[0m   File \"/Users/sidharrthnagappan/.pyenv/versions/3.11.0/lib/python3.11/multiprocessing/spawn.py\", line 130, in _main\u001b[32m [repeated 2x across cluster]\u001b[0m\n",
      "\u001b[36m(RayTrainWorker pid=53989)\u001b[0m     self = reduction.pickle.load(from_parent)\u001b[32m [repeated 2x across cluster]\u001b[0m\n",
      "\u001b[36m(RayTrainWorker pid=53989)\u001b[0m            ^^^^^^^^^^^^^^^^^^^^^^^^^^^^^^^^^^\u001b[32m [repeated 2x across cluster]\u001b[0m\n",
      "\u001b[36m(RayTrainWorker pid=53989)\u001b[0m _pickle.UnpicklingError: pickle data was truncated\u001b[32m [repeated 2x across cluster]\u001b[0m\n",
      "\u001b[36m(RayTrainWorker pid=53989)\u001b[0m Checkpoint successfully created at: Checkpoint(filesystem=local, path=/Users/sidharrthnagappan/ray_results/TorchTrainer_2024-12-24_17-34-19/TorchTrainer_4f4b8_00016_16_batch_size=64,dropout=0.1852,layer_1_size=32,layer_2_size=64,layer_3_size=256,learning_rate=0.0005_2024-12-24_17-34-21/checkpoint_000000)\n",
      "\u001b[36m(RayTrainWorker pid=53988)\u001b[0m Checkpoint successfully created at: Checkpoint(filesystem=local, path=/Users/sidharrthnagappan/ray_results/TorchTrainer_2024-12-24_17-34-19/TorchTrainer_4f4b8_00015_15_batch_size=128,dropout=0.1031,layer_1_size=64,layer_2_size=128,layer_3_size=128,learning_rate=0.0036_2024-12-24_17-34-21/checkpoint_000001)\n",
      "\u001b[36m(RayTrainWorker pid=53989)\u001b[0m /Users/sidharrthnagappan/.pyenv/versions/3.11.0/lib/python3.11/multiprocessing/resource_tracker.py:224: UserWarning: resource_tracker: There appear to be 55 leaked semaphore objects to clean up at shutdown\u001b[32m [repeated 2x across cluster]\u001b[0m\n",
      "\u001b[36m(RayTrainWorker pid=53989)\u001b[0m   warnings.warn('resource_tracker: There appear to be %d '\u001b[32m [repeated 2x across cluster]\u001b[0m\n",
      "\u001b[36m(RayTrainWorker pid=53988)\u001b[0m Traceback (most recent call last):\n",
      "\u001b[36m(RayTrainWorker pid=53988)\u001b[0m   File \"<string>\", line 1, in <module>\n",
      "\u001b[36m(RayTrainWorker pid=53988)\u001b[0m   File \"/Users/sidharrthnagappan/.pyenv/versions/3.11.0/lib/python3.11/multiprocessing/spawn.py\", line 120, in spawn_main\n",
      "\u001b[36m(RayTrainWorker pid=53988)\u001b[0m     exitcode = _main(fd, parent_sentinel)\n",
      "\u001b[36m(RayTrainWorker pid=53988)\u001b[0m                ^^^^^^^^^^^^^^^^^^^^^^^^^^\n",
      "\u001b[36m(RayTrainWorker pid=53988)\u001b[0m   File \"/Users/sidharrthnagappan/.pyenv/versions/3.11.0/lib/python3.11/multiprocessing/spawn.py\", line 130, in _main\n",
      "\u001b[36m(RayTrainWorker pid=53988)\u001b[0m     self = reduction.pickle.load(from_parent)\n",
      "\u001b[36m(RayTrainWorker pid=53988)\u001b[0m            ^^^^^^^^^^^^^^^^^^^^^^^^^^^^^^^^^^\n",
      "\u001b[36m(RayTrainWorker pid=53988)\u001b[0m _pickle.UnpicklingError: pickle data was truncated\n",
      "\u001b[36m(TorchTrainer pid=54458)\u001b[0m Started distributed worker processes: \n",
      "\u001b[36m(TorchTrainer pid=54458)\u001b[0m - (node_id=7cc2334a334327f410131b140fb9ad2ae54820f537299598f92261b4, ip=127.0.0.1, pid=54566) world_rank=0, local_rank=0, node_rank=0\n",
      "\u001b[36m(RayTrainWorker pid=54566)\u001b[0m Setting up process group for: env:// [rank=0, world_size=1]\n"
     ]
    },
    {
     "name": "stdout",
     "output_type": "stream",
     "text": [
      "\u001b[36m(RayTrainWorker pid=54566)\u001b[0m printing config {'layer_1_size': 32, 'layer_2_size': 256, 'layer_3_size': 256, 'dropout': 0.1423789011822376, 'batch_size': 32, 'learning_rate': 0.05657467324573046}\n",
      "\u001b[36m(RayTrainWorker pid=54161)\u001b[0m Downloading https://ossci-datasets.s3.amazonaws.com/mnist/t10k-labels-idx1-ubyte.gz to /var/folders/mf/cfzv46p15017stkscsq9jw9h0000gn/T/tmpxmbqtipr/MNIST/raw/t10k-labels-idx1-ubyte.gz\n",
      "\u001b[36m(RayTrainWorker pid=54161)\u001b[0m Extracting /var/folders/mf/cfzv46p15017stkscsq9jw9h0000gn/T/tmpxmbqtipr/MNIST/raw/t10k-labels-idx1-ubyte.gz to /var/folders/mf/cfzv46p15017stkscsq9jw9h0000gn/T/tmpxmbqtipr/MNIST/raw\n",
      "\u001b[36m(RayTrainWorker pid=54566)\u001b[0m Downloading http://yann.lecun.com/exdb/mnist/train-images-idx3-ubyte.gz\u001b[32m [repeated 3x across cluster]\u001b[0m\n",
      "\u001b[36m(RayTrainWorker pid=54161)\u001b[0m Failed to download (trying next):\n",
      "\u001b[36m(RayTrainWorker pid=54161)\u001b[0m HTTP Error 403: Forbidden\n"
     ]
    },
    {
     "name": "stderr",
     "output_type": "stream",
     "text": [
      "\u001b[36m(RayTrainWorker pid=54566)\u001b[0m GPU available: True (mps), used: False\n",
      "\u001b[36m(RayTrainWorker pid=54566)\u001b[0m TPU available: False, using: 0 TPU cores\n",
      "\u001b[36m(RayTrainWorker pid=54566)\u001b[0m HPU available: False, using: 0 HPUs\n",
      "\u001b[36m(RayTrainWorker pid=54566)\u001b[0m /Users/sidharrthnagappan/.virtualenvs/lsdp_miniproject/lib/python3.11/site-packages/pytorch_lightning/trainer/setup.py:177: GPU available but not used. You can set it by doing `Trainer(accelerator='gpu')`.\n",
      "\u001b[36m(RayTrainWorker pid=54566)\u001b[0m /Users/sidharrthnagappan/.virtualenvs/lsdp_miniproject/lib/python3.11/site-packages/pytorch_lightning/loops/utilities.py:73: `max_epochs` was not set. Setting it to 1000 epochs. To train without an epoch limit, set `max_epochs=-1`.\n"
     ]
    },
    {
     "name": "stdout",
     "output_type": "stream",
     "text": [
      "\u001b[36m(RayTrainWorker pid=54566)\u001b[0m Failed to download (trying next):\n",
      "\u001b[36m(RayTrainWorker pid=54566)\u001b[0m HTTP Error 403: Forbidden\n",
      "\u001b[36m(RayTrainWorker pid=54566)\u001b[0m \n",
      "\u001b[36m(RayTrainWorker pid=54571)\u001b[0m \n",
      "\u001b[36m(RayTrainWorker pid=54566)\u001b[0m Downloading https://ossci-datasets.s3.amazonaws.com/mnist/train-images-idx3-ubyte.gz to /var/folders/mf/cfzv46p15017stkscsq9jw9h0000gn/T/tmpf8716_rj/MNIST/raw/train-images-idx3-ubyte.gz\n"
     ]
    },
    {
     "name": "stderr",
     "output_type": "stream",
     "text": [
      "  0%|          | 0.00/9.91M [00:00<?, ?B/s]\n",
      "  1%|          | 98.3k/9.91M [00:00<00:16, 589kB/s]\n",
      "  4%|▍         | 426k/9.91M [00:00<00:06, 1.39MB/s]\n",
      " 18%|█▊        | 1.80M/9.91M [00:00<00:01, 4.51MB/s]\n",
      "100%|██████████| 9.91M/9.91M [00:00<00:00, 11.3MB/s]\n"
     ]
    },
    {
     "name": "stdout",
     "output_type": "stream",
     "text": [
      "\u001b[36m(RayTrainWorker pid=54566)\u001b[0m Extracting /var/folders/mf/cfzv46p15017stkscsq9jw9h0000gn/T/tmpf8716_rj/MNIST/raw/train-images-idx3-ubyte.gz to /var/folders/mf/cfzv46p15017stkscsq9jw9h0000gn/T/tmpf8716_rj/MNIST/raw\n",
      "\u001b[36m(RayTrainWorker pid=54566)\u001b[0m \n",
      "\u001b[36m(RayTrainWorker pid=54617)\u001b[0m \n",
      "\u001b[36m(RayTrainWorker pid=54566)\u001b[0m \n"
     ]
    },
    {
     "name": "stderr",
     "output_type": "stream",
     "text": [
      " 92%|█████████▏| 9.14M/9.91M [00:01<00:00, 9.38MB/s]\n",
      "100%|██████████| 9.91M/9.91M [00:01<00:00, 6.95MB/s]\n"
     ]
    },
    {
     "name": "stdout",
     "output_type": "stream",
     "text": [
      "\u001b[36m(RayTrainWorker pid=54571)\u001b[0m \n"
     ]
    },
    {
     "name": "stderr",
     "output_type": "stream",
     "text": [
      "\u001b[36m(RayTrainWorker pid=54161)\u001b[0m Checkpoint successfully created at: Checkpoint(filesystem=local, path=/Users/sidharrthnagappan/ray_results/TorchTrainer_2024-12-24_17-34-19/TorchTrainer_4f4b8_00018_18_batch_size=128,dropout=0.1643,layer_1_size=32,layer_2_size=64,layer_3_size=256,learning_rate=0.0030_2024-12-24_17-34-21/checkpoint_000000)\n",
      "100%|██████████| 28.9k/28.9k [00:00<00:00, 345kB/s]\n"
     ]
    },
    {
     "name": "stdout",
     "output_type": "stream",
     "text": [
      "\u001b[36m(RayTrainWorker pid=54566)\u001b[0m \n",
      "\u001b[36m(RayTrainWorker pid=54571)\u001b[0m \n"
     ]
    },
    {
     "name": "stderr",
     "output_type": "stream",
     "text": [
      "\u001b[36m(RayTrainWorker pid=53988)\u001b[0m /Users/sidharrthnagappan/.pyenv/versions/3.11.0/lib/python3.11/multiprocessing/resource_tracker.py:224: UserWarning: resource_tracker: There appear to be 55 leaked semaphore objects to clean up at shutdown\n",
      "\u001b[36m(RayTrainWorker pid=53988)\u001b[0m   warnings.warn('resource_tracker: There appear to be %d '\n"
     ]
    },
    {
     "name": "stdout",
     "output_type": "stream",
     "text": [
      "\u001b[36m(RayTrainWorker pid=54566)\u001b[0m \n",
      "\u001b[36m(RayTrainWorker pid=54617)\u001b[0m \n",
      "\u001b[36m(RayTrainWorker pid=54571)\u001b[0m \n"
     ]
    },
    {
     "name": "stderr",
     "output_type": "stream",
     "text": [
      "\u001b[36m(TorchTrainer pid=54525)\u001b[0m Started distributed worker processes: \u001b[32m [repeated 2x across cluster]\u001b[0m\n",
      "\u001b[36m(TorchTrainer pid=54525)\u001b[0m - (node_id=7cc2334a334327f410131b140fb9ad2ae54820f537299598f92261b4, ip=127.0.0.1, pid=54617) world_rank=0, local_rank=0, node_rank=0\u001b[32m [repeated 2x across cluster]\u001b[0m\n",
      "\u001b[36m(RayTrainWorker pid=54617)\u001b[0m Setting up process group for: env:// [rank=0, world_size=1]\u001b[32m [repeated 2x across cluster]\u001b[0m\n",
      "100%|██████████| 28.9k/28.9k [00:00<00:00, 338kB/s]\n"
     ]
    },
    {
     "name": "stdout",
     "output_type": "stream",
     "text": [
      "\u001b[36m(RayTrainWorker pid=54617)\u001b[0m \n",
      "\u001b[36m(RayTrainWorker pid=54571)\u001b[0m \n",
      "\u001b[36m(RayTrainWorker pid=54617)\u001b[0m printing config {'layer_1_size': 32, 'layer_2_size': 64, 'layer_3_size': 256, 'dropout': 0.20123555802351, 'batch_size': 32, 'learning_rate': 0.00037028326952746643}\u001b[32m [repeated 2x across cluster]\u001b[0m\n",
      "\u001b[36m(RayTrainWorker pid=54571)\u001b[0m Downloading https://ossci-datasets.s3.amazonaws.com/mnist/t10k-images-idx3-ubyte.gz\u001b[32m [repeated 15x across cluster]\u001b[0m\n",
      "\u001b[36m(RayTrainWorker pid=54566)\u001b[0m \n"
     ]
    },
    {
     "name": "stderr",
     "output_type": "stream",
     "text": [
      "\u001b[36m(RayTrainWorker pid=54617)\u001b[0m GPU available: True (mps), used: False\u001b[32m [repeated 2x across cluster]\u001b[0m\n",
      "\u001b[36m(RayTrainWorker pid=54617)\u001b[0m TPU available: False, using: 0 TPU cores\u001b[32m [repeated 2x across cluster]\u001b[0m\n",
      "\u001b[36m(RayTrainWorker pid=54617)\u001b[0m HPU available: False, using: 0 HPUs\u001b[32m [repeated 2x across cluster]\u001b[0m\n",
      "\u001b[36m(RayTrainWorker pid=54617)\u001b[0m /Users/sidharrthnagappan/.virtualenvs/lsdp_miniproject/lib/python3.11/site-packages/pytorch_lightning/trainer/setup.py:177: GPU available but not used. You can set it by doing `Trainer(accelerator='gpu')`.\u001b[32m [repeated 2x across cluster]\u001b[0m\n",
      "\u001b[36m(RayTrainWorker pid=54617)\u001b[0m /Users/sidharrthnagappan/.virtualenvs/lsdp_miniproject/lib/python3.11/site-packages/pytorch_lightning/loops/utilities.py:73: `max_epochs` was not set. Setting it to 1000 epochs. To train without an epoch limit, set `max_epochs=-1`.\u001b[32m [repeated 2x across cluster]\u001b[0m\n",
      "100%|██████████| 28.9k/28.9k [00:00<00:00, 343kB/s]\n"
     ]
    },
    {
     "name": "stdout",
     "output_type": "stream",
     "text": [
      "\u001b[36m(RayTrainWorker pid=54617)\u001b[0m \n",
      "\u001b[36m(RayTrainWorker pid=54566)\u001b[0m \n",
      "\u001b[36m(RayTrainWorker pid=54566)\u001b[0m Failed to download (trying next):\u001b[32m [repeated 8x across cluster]\u001b[0m\n",
      "\u001b[36m(RayTrainWorker pid=54566)\u001b[0m HTTP Error 403: Forbidden\u001b[32m [repeated 8x across cluster]\u001b[0m\n",
      "\u001b[36m(RayTrainWorker pid=54571)\u001b[0m \n",
      "\u001b[36m(RayTrainWorker pid=54617)\u001b[0m \n",
      "\u001b[36m(RayTrainWorker pid=54566)\u001b[0m Downloading https://ossci-datasets.s3.amazonaws.com/mnist/t10k-labels-idx1-ubyte.gz to /var/folders/mf/cfzv46p15017stkscsq9jw9h0000gn/T/tmpf8716_rj/MNIST/raw/t10k-labels-idx1-ubyte.gz\u001b[32m [repeated 8x across cluster]\u001b[0m\n",
      "\u001b[36m(RayTrainWorker pid=54566)\u001b[0m \n",
      "\u001b[36m(RayTrainWorker pid=54571)\u001b[0m \n"
     ]
    },
    {
     "name": "stderr",
     "output_type": "stream",
     "text": [
      "\u001b[36m(RayTrainWorker pid=54566)\u001b[0m \n",
      "\u001b[36m(RayTrainWorker pid=54566)\u001b[0m   | Name     | Type               | Params | Mode \n",
      "\u001b[36m(RayTrainWorker pid=54566)\u001b[0m --------------------------------------------------------\n",
      "\u001b[36m(RayTrainWorker pid=54566)\u001b[0m 0 | accuracy | MulticlassAccuracy | 0      | train\n",
      "\u001b[36m(RayTrainWorker pid=54566)\u001b[0m 1 | layer1   | Linear             | 25.1 K | train\n",
      "\u001b[36m(RayTrainWorker pid=54566)\u001b[0m 2 | layer2   | Linear             | 8.4 K  | train\n",
      "\u001b[36m(RayTrainWorker pid=54566)\u001b[0m 3 | layer3   | Linear             | 65.8 K | train\n",
      "\u001b[36m(RayTrainWorker pid=54566)\u001b[0m 4 | layer4   | Linear             | 2.6 K  | train\n",
      "\u001b[36m(RayTrainWorker pid=54566)\u001b[0m 5 | dropout  | Dropout            | 0      | train\n",
      "\u001b[36m(RayTrainWorker pid=54566)\u001b[0m --------------------------------------------------------\n",
      "\u001b[36m(RayTrainWorker pid=54566)\u001b[0m 101 K     Trainable params\n",
      "\u001b[36m(RayTrainWorker pid=54566)\u001b[0m 0         Non-trainable params\n",
      "\u001b[36m(RayTrainWorker pid=54566)\u001b[0m 101 K     Total params\n",
      "\u001b[36m(RayTrainWorker pid=54566)\u001b[0m 0.408     Total estimated model params size (MB)\n",
      "\u001b[36m(RayTrainWorker pid=54566)\u001b[0m 6         Modules in train mode\n",
      "\u001b[36m(RayTrainWorker pid=54566)\u001b[0m 0         Modules in eval mode\n",
      "\u001b[36m(RayTrainWorker pid=54566)\u001b[0m /Users/sidharrthnagappan/.virtualenvs/lsdp_miniproject/lib/python3.11/site-packages/pytorch_lightning/trainer/connectors/data_connector.py:420: Consider setting `persistent_workers=True` in 'val_dataloader' to speed up the dataloader worker initialization.\n",
      "100%|██████████| 4.54k/4.54k [00:00<00:00, 3.22MB/s]\u001b[32m [repeated 8x across cluster]\u001b[0m\n",
      "\u001b[36m(RayTrainWorker pid=54161)\u001b[0m Checkpoint successfully created at: Checkpoint(filesystem=local, path=/Users/sidharrthnagappan/ray_results/TorchTrainer_2024-12-24_17-34-19/TorchTrainer_4f4b8_00018_18_batch_size=128,dropout=0.1643,layer_1_size=32,layer_2_size=64,layer_3_size=256,learning_rate=0.0030_2024-12-24_17-34-21/checkpoint_000001)\n",
      "100%|██████████| 1.65M/1.65M [00:00<00:00, 3.38MB/s]\u001b[32m [repeated 24x across cluster]\u001b[0m\n"
     ]
    },
    {
     "name": "stdout",
     "output_type": "stream",
     "text": [
      "\u001b[36m(RayTrainWorker pid=54711)\u001b[0m \n"
     ]
    },
    {
     "name": "stderr",
     "output_type": "stream",
     "text": [
      "\u001b[36m(RayTrainWorker pid=54161)\u001b[0m Traceback (most recent call last):\n",
      "\u001b[36m(RayTrainWorker pid=54161)\u001b[0m   File \"<string>\", line 1, in <module>\n",
      "\u001b[36m(RayTrainWorker pid=54161)\u001b[0m   File \"/Users/sidharrthnagappan/.pyenv/versions/3.11.0/lib/python3.11/multiprocessing/spawn.py\", line 120, in spawn_main\n",
      "\u001b[36m(RayTrainWorker pid=54161)\u001b[0m     exitcode = _main(fd, parent_sentinel)\n",
      "\u001b[36m(RayTrainWorker pid=54161)\u001b[0m                ^^^^^^^^^^^^^^^^^^^^^^^^^^\n",
      "\u001b[36m(RayTrainWorker pid=54161)\u001b[0m   File \"/Users/sidharrthnagappan/.pyenv/versions/3.11.0/lib/python3.11/multiprocessing/spawn.py\", line 130, in _main\n",
      "\u001b[36m(RayTrainWorker pid=54161)\u001b[0m     self = reduction.pickle.load(from_parent)\n",
      "\u001b[36m(RayTrainWorker pid=54161)\u001b[0m            ^^^^^^^^^^^^^^^^^^^^^^^^^^^^^^^^^^\n",
      "\u001b[36m(RayTrainWorker pid=54161)\u001b[0m _pickle.UnpicklingError: pickle data was truncated\n",
      "100%|██████████| 1.65M/1.65M [00:00<00:00, 3.76MB/s]\n"
     ]
    },
    {
     "name": "stdout",
     "output_type": "stream",
     "text": [
      "\u001b[36m(RayTrainWorker pid=54571)\u001b[0m \n",
      "\u001b[36m(RayTrainWorker pid=54617)\u001b[0m \n"
     ]
    },
    {
     "name": "stderr",
     "output_type": "stream",
     "text": [
      "\u001b[36m(RayTrainWorker pid=54571)\u001b[0m \n"
     ]
    },
    {
     "name": "stdout",
     "output_type": "stream",
     "text": [
      "\u001b[36m(RayTrainWorker pid=54617)\u001b[0m \n",
      "\u001b[36m(RayTrainWorker pid=54617)\u001b[0m Extracting /var/folders/mf/cfzv46p15017stkscsq9jw9h0000gn/T/tmpe8qn2ir6/MNIST/raw/t10k-images-idx3-ubyte.gz to /var/folders/mf/cfzv46p15017stkscsq9jw9h0000gn/T/tmpe8qn2ir6/MNIST/raw\u001b[32m [repeated 10x across cluster]\u001b[0m\n"
     ]
    },
    {
     "name": "stderr",
     "output_type": "stream",
     "text": [
      " 14%|█▍        | 1.41M/9.91M [00:00<00:02, 4.18MB/s]\n",
      "\u001b[36m(RayTrainWorker pid=54617)\u001b[0m \n"
     ]
    },
    {
     "name": "stdout",
     "output_type": "stream",
     "text": [
      "\u001b[36m(RayTrainWorker pid=54617)\u001b[0m \n"
     ]
    },
    {
     "name": "stderr",
     "output_type": "stream",
     "text": [
      "100%|██████████| 9.91M/9.91M [00:01<00:00, 9.31MB/s]\n",
      "\u001b[36m(RayTrainWorker pid=54566)\u001b[0m /Users/sidharrthnagappan/.virtualenvs/lsdp_miniproject/lib/python3.11/site-packages/pytorch_lightning/trainer/connectors/data_connector.py:420: Consider setting `persistent_workers=True` in 'train_dataloader' to speed up the dataloader worker initialization.\n"
     ]
    },
    {
     "name": "stdout",
     "output_type": "stream",
     "text": [
      "\u001b[36m(RayTrainWorker pid=54711)\u001b[0m \n",
      "\u001b[36m(RayTrainWorker pid=54711)\u001b[0m \n"
     ]
    },
    {
     "name": "stderr",
     "output_type": "stream",
     "text": [
      "\u001b[36m(TorchTrainer pid=54647)\u001b[0m Started distributed worker processes: \n",
      "\u001b[36m(TorchTrainer pid=54647)\u001b[0m - (node_id=7cc2334a334327f410131b140fb9ad2ae54820f537299598f92261b4, ip=127.0.0.1, pid=54711) world_rank=0, local_rank=0, node_rank=0\n",
      "\u001b[36m(RayTrainWorker pid=54711)\u001b[0m Setting up process group for: env:// [rank=0, world_size=1]\n",
      "100%|██████████| 28.9k/28.9k [00:00<00:00, 298kB/s]\n"
     ]
    },
    {
     "name": "stdout",
     "output_type": "stream",
     "text": [
      "\u001b[36m(RayTrainWorker pid=54711)\u001b[0m \n",
      "\u001b[36m(RayTrainWorker pid=54711)\u001b[0m \n",
      "\u001b[36m(RayTrainWorker pid=54711)\u001b[0m printing config {'layer_1_size': 32, 'layer_2_size': 64, 'layer_3_size': 256, 'dropout': 0.10494902861257592, 'batch_size': 32, 'learning_rate': 0.017061156114948565}\n",
      "\u001b[36m(RayTrainWorker pid=54711)\u001b[0m Downloading https://ossci-datasets.s3.amazonaws.com/mnist/t10k-images-idx3-ubyte.gz\u001b[32m [repeated 14x across cluster]\u001b[0m\n"
     ]
    },
    {
     "name": "stderr",
     "output_type": "stream",
     "text": [
      "\u001b[36m(RayTrainWorker pid=54711)\u001b[0m GPU available: True (mps), used: False\n",
      "\u001b[36m(RayTrainWorker pid=54711)\u001b[0m TPU available: False, using: 0 TPU cores\n",
      "\u001b[36m(RayTrainWorker pid=54711)\u001b[0m HPU available: False, using: 0 HPUs\n",
      "\u001b[36m(RayTrainWorker pid=54711)\u001b[0m /Users/sidharrthnagappan/.virtualenvs/lsdp_miniproject/lib/python3.11/site-packages/pytorch_lightning/trainer/setup.py:177: GPU available but not used. You can set it by doing `Trainer(accelerator='gpu')`.\n",
      "\u001b[36m(RayTrainWorker pid=54711)\u001b[0m /Users/sidharrthnagappan/.virtualenvs/lsdp_miniproject/lib/python3.11/site-packages/pytorch_lightning/loops/utilities.py:73: `max_epochs` was not set. Setting it to 1000 epochs. To train without an epoch limit, set `max_epochs=-1`.\n"
     ]
    },
    {
     "name": "stdout",
     "output_type": "stream",
     "text": [
      "\u001b[36m(RayTrainWorker pid=54711)\u001b[0m \n",
      "\u001b[36m(RayTrainWorker pid=54711)\u001b[0m Failed to download (trying next):\u001b[32m [repeated 6x across cluster]\u001b[0m\n",
      "\u001b[36m(RayTrainWorker pid=54711)\u001b[0m HTTP Error 403: Forbidden\u001b[32m [repeated 6x across cluster]\u001b[0m\n",
      "\u001b[36m(RayTrainWorker pid=54711)\u001b[0m Downloading https://ossci-datasets.s3.amazonaws.com/mnist/t10k-images-idx3-ubyte.gz to /var/folders/mf/cfzv46p15017stkscsq9jw9h0000gn/T/tmpahmuu0ch/MNIST/raw/t10k-images-idx3-ubyte.gz\u001b[32m [repeated 6x across cluster]\u001b[0m\n"
     ]
    },
    {
     "name": "stderr",
     "output_type": "stream",
     "text": [
      "100%|██████████| 1.65M/1.65M [00:00<00:00, 3.77MB/s]\n"
     ]
    },
    {
     "name": "stdout",
     "output_type": "stream",
     "text": [
      "\u001b[36m(RayTrainWorker pid=54711)\u001b[0m \n"
     ]
    },
    {
     "name": "stderr",
     "output_type": "stream",
     "text": [
      "\u001b[36m(RayTrainWorker pid=54161)\u001b[0m /Users/sidharrthnagappan/.pyenv/versions/3.11.0/lib/python3.11/multiprocessing/resource_tracker.py:224: UserWarning: resource_tracker: There appear to be 55 leaked semaphore objects to clean up at shutdown\n",
      "\u001b[36m(RayTrainWorker pid=54161)\u001b[0m   warnings.warn('resource_tracker: There appear to be %d '\n",
      "\u001b[36m(RayTrainWorker pid=54617)\u001b[0m   | Name     | Type               | Params | Mode \u001b[32m [repeated 2x across cluster]\u001b[0m\n",
      "\u001b[36m(RayTrainWorker pid=54617)\u001b[0m --------------------------------------------------------\u001b[32m [repeated 4x across cluster]\u001b[0m\n",
      "\u001b[36m(RayTrainWorker pid=54617)\u001b[0m 0 | accuracy | MulticlassAccuracy | 0      | train\u001b[32m [repeated 2x across cluster]\u001b[0m\n",
      "\u001b[36m(RayTrainWorker pid=54617)\u001b[0m 4 | layer4   | Linear             | 2.6 K  | train\u001b[32m [repeated 8x across cluster]\u001b[0m\n",
      "\u001b[36m(RayTrainWorker pid=54617)\u001b[0m 5 | dropout  | Dropout            | 0      | train\u001b[32m [repeated 2x across cluster]\u001b[0m\n",
      "\u001b[36m(RayTrainWorker pid=54617)\u001b[0m 46.4 K    Trainable params\u001b[32m [repeated 2x across cluster]\u001b[0m\n",
      "\u001b[36m(RayTrainWorker pid=54617)\u001b[0m 0         Non-trainable params\u001b[32m [repeated 2x across cluster]\u001b[0m\n",
      "\u001b[36m(RayTrainWorker pid=54617)\u001b[0m 46.4 K    Total params\u001b[32m [repeated 2x across cluster]\u001b[0m\n",
      "\u001b[36m(RayTrainWorker pid=54617)\u001b[0m 0.186     Total estimated model params size (MB)\u001b[32m [repeated 2x across cluster]\u001b[0m\n",
      "\u001b[36m(RayTrainWorker pid=54617)\u001b[0m 6         Modules in train mode\u001b[32m [repeated 2x across cluster]\u001b[0m\n",
      "\u001b[36m(RayTrainWorker pid=54617)\u001b[0m 0         Modules in eval mode\u001b[32m [repeated 2x across cluster]\u001b[0m\n",
      "\u001b[36m(RayTrainWorker pid=54617)\u001b[0m /Users/sidharrthnagappan/.virtualenvs/lsdp_miniproject/lib/python3.11/site-packages/pytorch_lightning/trainer/connectors/data_connector.py:420: Consider setting `persistent_workers=True` in 'val_dataloader' to speed up the dataloader worker initialization.\u001b[32m [repeated 2x across cluster]\u001b[0m\n",
      "  0%|          | 0.00/1.65M [00:00<?, ?B/s]\u001b[32m [repeated 6x across cluster]\u001b[0m\n",
      " 26%|██▌       | 426k/1.65M [00:00<00:00, 1.39MB/s]\u001b[32m [repeated 9x across cluster]\u001b[0m\n",
      "100%|██████████| 4.54k/4.54k [00:00<00:00, 1.74MB/s]\n"
     ]
    },
    {
     "name": "stdout",
     "output_type": "stream",
     "text": [
      "\u001b[36m(RayTrainWorker pid=54711)\u001b[0m \n"
     ]
    },
    {
     "name": "stderr",
     "output_type": "stream",
     "text": [
      "\u001b[36m(RayTrainWorker pid=54711)\u001b[0m \n",
      "\u001b[36m(RayTrainWorker pid=54711)\u001b[0m /Users/sidharrthnagappan/.virtualenvs/lsdp_miniproject/lib/python3.11/site-packages/pytorch_lightning/trainer/connectors/data_connector.py:420: Consider setting `persistent_workers=True` in 'train_dataloader' to speed up the dataloader worker initialization.\u001b[32m [repeated 3x across cluster]\u001b[0m\n",
      "\u001b[36m(TorchTrainer pid=54781)\u001b[0m Started distributed worker processes: \n",
      "\u001b[36m(TorchTrainer pid=54781)\u001b[0m - (node_id=7cc2334a334327f410131b140fb9ad2ae54820f537299598f92261b4, ip=127.0.0.1, pid=54864) world_rank=0, local_rank=0, node_rank=0\n",
      "\u001b[36m(RayTrainWorker pid=54864)\u001b[0m Setting up process group for: env:// [rank=0, world_size=1]\n"
     ]
    },
    {
     "name": "stdout",
     "output_type": "stream",
     "text": [
      "\u001b[36m(RayTrainWorker pid=54864)\u001b[0m printing config {'layer_1_size': 32, 'layer_2_size': 128, 'layer_3_size': 512, 'dropout': 0.23261068720157155, 'batch_size': 128, 'learning_rate': 0.01129419972728505}\n",
      "\u001b[36m(RayTrainWorker pid=54711)\u001b[0m Extracting /var/folders/mf/cfzv46p15017stkscsq9jw9h0000gn/T/tmpahmuu0ch/MNIST/raw/t10k-labels-idx1-ubyte.gz to /var/folders/mf/cfzv46p15017stkscsq9jw9h0000gn/T/tmpahmuu0ch/MNIST/raw\u001b[32m [repeated 5x across cluster]\u001b[0m\n",
      "\u001b[36m(RayTrainWorker pid=54864)\u001b[0m Downloading http://yann.lecun.com/exdb/mnist/train-images-idx3-ubyte.gz\u001b[32m [repeated 3x across cluster]\u001b[0m\n",
      "\u001b[36m(RayTrainWorker pid=54711)\u001b[0m Failed to download (trying next):\n",
      "\u001b[36m(RayTrainWorker pid=54711)\u001b[0m HTTP Error 403: Forbidden\n",
      "\u001b[36m(RayTrainWorker pid=54711)\u001b[0m Downloading https://ossci-datasets.s3.amazonaws.com/mnist/t10k-labels-idx1-ubyte.gz to /var/folders/mf/cfzv46p15017stkscsq9jw9h0000gn/T/tmpahmuu0ch/MNIST/raw/t10k-labels-idx1-ubyte.gz\n"
     ]
    },
    {
     "name": "stderr",
     "output_type": "stream",
     "text": [
      "\u001b[36m(RayTrainWorker pid=54864)\u001b[0m GPU available: True (mps), used: False\n",
      "\u001b[36m(RayTrainWorker pid=54864)\u001b[0m TPU available: False, using: 0 TPU cores\n",
      "\u001b[36m(RayTrainWorker pid=54864)\u001b[0m HPU available: False, using: 0 HPUs\n",
      "\u001b[36m(RayTrainWorker pid=54864)\u001b[0m /Users/sidharrthnagappan/.virtualenvs/lsdp_miniproject/lib/python3.11/site-packages/pytorch_lightning/trainer/setup.py:177: GPU available but not used. You can set it by doing `Trainer(accelerator='gpu')`.\n",
      "\u001b[36m(RayTrainWorker pid=54864)\u001b[0m /Users/sidharrthnagappan/.virtualenvs/lsdp_miniproject/lib/python3.11/site-packages/pytorch_lightning/loops/utilities.py:73: `max_epochs` was not set. Setting it to 1000 epochs. To train without an epoch limit, set `max_epochs=-1`.\n"
     ]
    },
    {
     "name": "stdout",
     "output_type": "stream",
     "text": [
      "\u001b[36m(RayTrainWorker pid=54864)\u001b[0m Failed to download (trying next):\n",
      "\u001b[36m(RayTrainWorker pid=54864)\u001b[0m HTTP Error 403: Forbidden\n",
      "\u001b[36m(RayTrainWorker pid=54864)\u001b[0m \n",
      "\u001b[36m(RayTrainWorker pid=54864)\u001b[0m Downloading https://ossci-datasets.s3.amazonaws.com/mnist/train-images-idx3-ubyte.gz to /var/folders/mf/cfzv46p15017stkscsq9jw9h0000gn/T/tmpj31g1h3j/MNIST/raw/train-images-idx3-ubyte.gz\n"
     ]
    },
    {
     "name": "stderr",
     "output_type": "stream",
     "text": [
      "\u001b[36m(RayTrainWorker pid=54711)\u001b[0m   | Name     | Type               | Params | Mode \n",
      "\u001b[36m(RayTrainWorker pid=54711)\u001b[0m --------------------------------------------------------\u001b[32m [repeated 2x across cluster]\u001b[0m\n",
      "\u001b[36m(RayTrainWorker pid=54711)\u001b[0m 0 | accuracy | MulticlassAccuracy | 0      | train\n",
      "\u001b[36m(RayTrainWorker pid=54711)\u001b[0m 4 | layer4   | Linear             | 2.6 K  | train\u001b[32m [repeated 4x across cluster]\u001b[0m\n",
      "\u001b[36m(RayTrainWorker pid=54711)\u001b[0m 5 | dropout  | Dropout            | 0      | train\n",
      "\u001b[36m(RayTrainWorker pid=54711)\u001b[0m 46.4 K    Trainable params\n",
      "\u001b[36m(RayTrainWorker pid=54711)\u001b[0m 0         Non-trainable params\n",
      "\u001b[36m(RayTrainWorker pid=54711)\u001b[0m 46.4 K    Total params\n",
      "\u001b[36m(RayTrainWorker pid=54711)\u001b[0m 0.186     Total estimated model params size (MB)\n",
      "\u001b[36m(RayTrainWorker pid=54711)\u001b[0m 6         Modules in train mode\n",
      "\u001b[36m(RayTrainWorker pid=54711)\u001b[0m 0         Modules in eval mode\n",
      "\u001b[36m(RayTrainWorker pid=54711)\u001b[0m /Users/sidharrthnagappan/.virtualenvs/lsdp_miniproject/lib/python3.11/site-packages/pytorch_lightning/trainer/connectors/data_connector.py:420: Consider setting `persistent_workers=True` in 'val_dataloader' to speed up the dataloader worker initialization.\n",
      "  0%|          | 0.00/9.91M [00:00<?, ?B/s]\u001b[32m [repeated 2x across cluster]\u001b[0m\n",
      "  1%|          | 98.3k/9.91M [00:00<00:17, 576kB/s]\n",
      "  4%|▍         | 393k/9.91M [00:00<00:07, 1.25MB/s]\n",
      " 13%|█▎        | 1.31M/9.91M [00:00<00:02, 3.85MB/s]\n",
      " 29%|██▉       | 2.92M/9.91M [00:00<00:01, 5.83MB/s]\n",
      " 69%|██████▉   | 6.88M/9.91M [00:00<00:00, 12.2MB/s]\n",
      " 82%|████████▏ | 8.09M/9.91M [00:00<00:00, 11.8MB/s]\n",
      "100%|██████████| 9.91M/9.91M [00:01<00:00, 9.81MB/s]\n"
     ]
    },
    {
     "name": "stdout",
     "output_type": "stream",
     "text": [
      "\u001b[36m(RayTrainWorker pid=54864)\u001b[0m \n",
      "\u001b[36m(RayTrainWorker pid=54864)\u001b[0m Failed to download (trying next):\n",
      "\u001b[36m(RayTrainWorker pid=54864)\u001b[0m HTTP Error 403: Forbidden\n",
      "\u001b[36m(RayTrainWorker pid=54864)\u001b[0m \n",
      "\u001b[36m(RayTrainWorker pid=54864)\u001b[0m Downloading https://ossci-datasets.s3.amazonaws.com/mnist/train-labels-idx1-ubyte.gz to /var/folders/mf/cfzv46p15017stkscsq9jw9h0000gn/T/tmpj31g1h3j/MNIST/raw/train-labels-idx1-ubyte.gz\n",
      "\u001b[36m(RayTrainWorker pid=54864)\u001b[0m \n"
     ]
    },
    {
     "name": "stderr",
     "output_type": "stream",
     "text": [
      "100%|██████████| 28.9k/28.9k [00:00<00:00, 349kB/s]\n",
      "\u001b[36m(RayTrainWorker pid=54571)\u001b[0m Checkpoint successfully created at: Checkpoint(filesystem=local, path=/Users/sidharrthnagappan/ray_results/TorchTrainer_2024-12-24_17-34-19/TorchTrainer_4f4b8_00020_20_batch_size=64,dropout=0.1971,layer_1_size=128,layer_2_size=64,layer_3_size=512,learning_rate=0.0003_2024-12-24_17-34-21/checkpoint_000000)\n"
     ]
    },
    {
     "name": "stdout",
     "output_type": "stream",
     "text": [
      "\u001b[36m(RayTrainWorker pid=54864)\u001b[0m Failed to download (trying next):\n",
      "\u001b[36m(RayTrainWorker pid=54864)\u001b[0m HTTP Error 403: Forbidden\n",
      "\u001b[36m(RayTrainWorker pid=54864)\u001b[0m \n",
      "\u001b[36m(RayTrainWorker pid=54864)\u001b[0m Downloading https://ossci-datasets.s3.amazonaws.com/mnist/t10k-images-idx3-ubyte.gz to /var/folders/mf/cfzv46p15017stkscsq9jw9h0000gn/T/tmpj31g1h3j/MNIST/raw/t10k-images-idx3-ubyte.gz\n"
     ]
    },
    {
     "name": "stderr",
     "output_type": "stream",
     "text": [
      "  6%|▌         | 98.3k/1.65M [00:00<00:02, 580kB/s]\n",
      " 26%|██▌       | 426k/1.65M [00:00<00:00, 1.37MB/s]\n",
      " 91%|█████████▏| 1.51M/1.65M [00:00<00:00, 4.50MB/s]\n",
      "100%|██████████| 1.65M/1.65M [00:00<00:00, 3.21MB/s]\n"
     ]
    },
    {
     "name": "stdout",
     "output_type": "stream",
     "text": [
      "\u001b[36m(RayTrainWorker pid=54864)\u001b[0m Extracting /var/folders/mf/cfzv46p15017stkscsq9jw9h0000gn/T/tmpj31g1h3j/MNIST/raw/t10k-images-idx3-ubyte.gz to /var/folders/mf/cfzv46p15017stkscsq9jw9h0000gn/T/tmpj31g1h3j/MNIST/raw\u001b[32m [repeated 3x across cluster]\u001b[0m\n",
      "\u001b[36m(RayTrainWorker pid=54864)\u001b[0m Downloading https://ossci-datasets.s3.amazonaws.com/mnist/t10k-images-idx3-ubyte.gz\u001b[32m [repeated 5x across cluster]\u001b[0m\n",
      "\u001b[36m(RayTrainWorker pid=54864)\u001b[0m \n",
      "\u001b[36m(RayTrainWorker pid=54864)\u001b[0m Failed to download (trying next):\n",
      "\u001b[36m(RayTrainWorker pid=54864)\u001b[0m HTTP Error 403: Forbidden\n",
      "\u001b[36m(RayTrainWorker pid=54864)\u001b[0m \n",
      "\u001b[36m(RayTrainWorker pid=54864)\u001b[0m Downloading https://ossci-datasets.s3.amazonaws.com/mnist/t10k-labels-idx1-ubyte.gz to /var/folders/mf/cfzv46p15017stkscsq9jw9h0000gn/T/tmpj31g1h3j/MNIST/raw/t10k-labels-idx1-ubyte.gz\n",
      "\u001b[36m(RayTrainWorker pid=54864)\u001b[0m \n"
     ]
    },
    {
     "name": "stderr",
     "output_type": "stream",
     "text": [
      "\u001b[36m(RayTrainWorker pid=54864)\u001b[0m \n",
      "\u001b[36m(RayTrainWorker pid=54864)\u001b[0m   | Name     | Type               | Params | Mode \n",
      "\u001b[36m(RayTrainWorker pid=54864)\u001b[0m 0 | accuracy | MulticlassAccuracy | 0      | train\n",
      "\u001b[36m(RayTrainWorker pid=54864)\u001b[0m 5 | dropout  | Dropout            | 0      | train\n",
      "\u001b[36m(RayTrainWorker pid=54864)\u001b[0m 100 K     Trainable params\n",
      "\u001b[36m(RayTrainWorker pid=54864)\u001b[0m 0         Non-trainable params\n",
      "\u001b[36m(RayTrainWorker pid=54864)\u001b[0m 100 K     Total params\n",
      "\u001b[36m(RayTrainWorker pid=54864)\u001b[0m 0.402     Total estimated model params size (MB)\n",
      "\u001b[36m(RayTrainWorker pid=54864)\u001b[0m 6         Modules in train mode\n",
      "\u001b[36m(RayTrainWorker pid=54864)\u001b[0m 0         Modules in eval mode\n",
      "\u001b[36m(RayTrainWorker pid=54864)\u001b[0m /Users/sidharrthnagappan/.virtualenvs/lsdp_miniproject/lib/python3.11/site-packages/pytorch_lightning/trainer/connectors/data_connector.py:420: Consider setting `persistent_workers=True` in 'val_dataloader' to speed up the dataloader worker initialization.\n",
      "\u001b[36m(RayTrainWorker pid=54864)\u001b[0m --------------------------------------------------------\u001b[32m [repeated 2x across cluster]\u001b[0m\n",
      "\u001b[36m(RayTrainWorker pid=54864)\u001b[0m 4 | layer4   | Linear             | 5.1 K  | train\u001b[32m [repeated 4x across cluster]\u001b[0m\n",
      "100%|██████████| 4.54k/4.54k [00:00<00:00, 2.29MB/s]\u001b[32m [repeated 3x across cluster]\u001b[0m\n",
      "\u001b[36m(RayTrainWorker pid=54566)\u001b[0m Checkpoint successfully created at: Checkpoint(filesystem=local, path=/Users/sidharrthnagappan/ray_results/TorchTrainer_2024-12-24_17-34-19/TorchTrainer_4f4b8_00019_19_batch_size=32,dropout=0.1424,layer_1_size=32,layer_2_size=256,layer_3_size=256,learning_rate=0.0566_2024-12-24_17-34-21/checkpoint_000000)\n",
      "\u001b[36m(RayTrainWorker pid=54566)\u001b[0m Traceback (most recent call last):\n",
      "\u001b[36m(RayTrainWorker pid=54566)\u001b[0m   File \"<string>\", line 1, in <module>\n",
      "\u001b[36m(RayTrainWorker pid=54566)\u001b[0m   File \"/Users/sidharrthnagappan/.pyenv/versions/3.11.0/lib/python3.11/multiprocessing/spawn.py\", line 120, in spawn_main\n",
      "\u001b[36m(RayTrainWorker pid=54566)\u001b[0m     exitcode = _main(fd, parent_sentinel)\n",
      "\u001b[36m(RayTrainWorker pid=54566)\u001b[0m                ^^^^^^^^^^^^^^^^^^^^^^^^^^\n",
      "\u001b[36m(RayTrainWorker pid=54566)\u001b[0m   File \"/Users/sidharrthnagappan/.pyenv/versions/3.11.0/lib/python3.11/multiprocessing/spawn.py\", line 130, in _main\n",
      "\u001b[36m(RayTrainWorker pid=54566)\u001b[0m     self = reduction.pickle.load(from_parent)\n",
      "\u001b[36m(RayTrainWorker pid=54566)\u001b[0m            ^^^^^^^^^^^^^^^^^^^^^^^^^^^^^^^^^^\n",
      "\u001b[36m(RayTrainWorker pid=54566)\u001b[0m _pickle.UnpicklingError: pickle data was truncated\n",
      "\u001b[36m(RayTrainWorker pid=54864)\u001b[0m /Users/sidharrthnagappan/.virtualenvs/lsdp_miniproject/lib/python3.11/site-packages/pytorch_lightning/trainer/connectors/data_connector.py:420: Consider setting `persistent_workers=True` in 'train_dataloader' to speed up the dataloader worker initialization.\n",
      "\u001b[36m(RayTrainWorker pid=54617)\u001b[0m Checkpoint successfully created at: Checkpoint(filesystem=local, path=/Users/sidharrthnagappan/ray_results/TorchTrainer_2024-12-24_17-34-19/TorchTrainer_4f4b8_00021_21_batch_size=32,dropout=0.2012,layer_1_size=32,layer_2_size=64,layer_3_size=256,learning_rate=0.0004_2024-12-24_17-34-21/checkpoint_000000)\n",
      "\u001b[36m(RayTrainWorker pid=54617)\u001b[0m Traceback (most recent call last):\n",
      "\u001b[36m(RayTrainWorker pid=54617)\u001b[0m   File \"<string>\", line 1, in <module>\n",
      "\u001b[36m(RayTrainWorker pid=54617)\u001b[0m   File \"/Users/sidharrthnagappan/.pyenv/versions/3.11.0/lib/python3.11/multiprocessing/spawn.py\", line 120, in spawn_main\n",
      "\u001b[36m(RayTrainWorker pid=54617)\u001b[0m     exitcode = _main(fd, parent_sentinel)\n",
      "\u001b[36m(RayTrainWorker pid=54617)\u001b[0m                ^^^^^^^^^^^^^^^^^^^^^^^^^^\n",
      "\u001b[36m(RayTrainWorker pid=54617)\u001b[0m   File \"/Users/sidharrthnagappan/.pyenv/versions/3.11.0/lib/python3.11/multiprocessing/spawn.py\", line 130, in _main\n",
      "\u001b[36m(RayTrainWorker pid=54617)\u001b[0m     self = reduction.pickle.load(from_parent)\n",
      "\u001b[36m(RayTrainWorker pid=54617)\u001b[0m            ^^^^^^^^^^^^^^^^^^^^^^^^^^^^^^^^^^\n",
      "\u001b[36m(RayTrainWorker pid=54617)\u001b[0m _pickle.UnpicklingError: pickle data was truncated\n",
      "\u001b[36m(RayTrainWorker pid=54711)\u001b[0m Traceback (most recent call last):\n",
      "\u001b[36m(RayTrainWorker pid=54711)\u001b[0m   File \"<string>\", line 1, in <module>\n",
      "\u001b[36m(RayTrainWorker pid=54711)\u001b[0m   File \"/Users/sidharrthnagappan/.pyenv/versions/3.11.0/lib/python3.11/multiprocessing/spawn.py\", line 120, in spawn_main\n",
      "\u001b[36m(RayTrainWorker pid=54711)\u001b[0m     exitcode = _main(fd, parent_sentinel)\n",
      "\u001b[36m(RayTrainWorker pid=54711)\u001b[0m                ^^^^^^^^^^^^^^^^^^^^^^^^^^\n",
      "\u001b[36m(RayTrainWorker pid=54711)\u001b[0m   File \"/Users/sidharrthnagappan/.pyenv/versions/3.11.0/lib/python3.11/multiprocessing/spawn.py\", line 130, in _main\n",
      "\u001b[36m(RayTrainWorker pid=54711)\u001b[0m     self = reduction.pickle.load(from_parent)\n",
      "\u001b[36m(RayTrainWorker pid=54711)\u001b[0m            ^^^^^^^^^^^^^^^^^^^^^^^^^^^^^^^^^^\n",
      "\u001b[36m(RayTrainWorker pid=54711)\u001b[0m _pickle.UnpicklingError: pickle data was truncated\n",
      "\u001b[36m(RayTrainWorker pid=54566)\u001b[0m /Users/sidharrthnagappan/.pyenv/versions/3.11.0/lib/python3.11/multiprocessing/resource_tracker.py:224: UserWarning: resource_tracker: There appear to be 55 leaked semaphore objects to clean up at shutdown\n",
      "\u001b[36m(RayTrainWorker pid=54566)\u001b[0m   warnings.warn('resource_tracker: There appear to be %d '\n",
      "\u001b[36m(RayTrainWorker pid=54711)\u001b[0m Checkpoint successfully created at: Checkpoint(filesystem=local, path=/Users/sidharrthnagappan/ray_results/TorchTrainer_2024-12-24_17-34-19/TorchTrainer_4f4b8_00022_22_batch_size=32,dropout=0.1049,layer_1_size=32,layer_2_size=64,layer_3_size=256,learning_rate=0.0171_2024-12-24_17-34-21/checkpoint_000000)\n",
      "\u001b[36m(RayTrainWorker pid=54571)\u001b[0m Checkpoint successfully created at: Checkpoint(filesystem=local, path=/Users/sidharrthnagappan/ray_results/TorchTrainer_2024-12-24_17-34-19/TorchTrainer_4f4b8_00020_20_batch_size=64,dropout=0.1971,layer_1_size=128,layer_2_size=64,layer_3_size=512,learning_rate=0.0003_2024-12-24_17-34-21/checkpoint_000001)\n",
      "\u001b[36m(TorchTrainer pid=55095)\u001b[0m Started distributed worker processes: \n",
      "\u001b[36m(TorchTrainer pid=55095)\u001b[0m - (node_id=7cc2334a334327f410131b140fb9ad2ae54820f537299598f92261b4, ip=127.0.0.1, pid=55197) world_rank=0, local_rank=0, node_rank=0\n",
      "\u001b[36m(RayTrainWorker pid=55197)\u001b[0m Setting up process group for: env:// [rank=0, world_size=1]\n",
      "\u001b[36m(RayTrainWorker pid=54711)\u001b[0m /Users/sidharrthnagappan/.pyenv/versions/3.11.0/lib/python3.11/multiprocessing/resource_tracker.py:224: UserWarning: resource_tracker: There appear to be 55 leaked semaphore objects to clean up at shutdown\u001b[32m [repeated 2x across cluster]\u001b[0m\n",
      "\u001b[36m(RayTrainWorker pid=54711)\u001b[0m   warnings.warn('resource_tracker: There appear to be %d '\u001b[32m [repeated 2x across cluster]\u001b[0m\n"
     ]
    },
    {
     "name": "stdout",
     "output_type": "stream",
     "text": [
      "\u001b[36m(RayTrainWorker pid=55197)\u001b[0m printing config {'layer_1_size': 128, 'layer_2_size': 256, 'layer_3_size': 512, 'dropout': 0.17949978964635208, 'batch_size': 64, 'learning_rate': 0.03878742860492825}\n",
      "\u001b[36m(RayTrainWorker pid=54864)\u001b[0m Extracting /var/folders/mf/cfzv46p15017stkscsq9jw9h0000gn/T/tmpj31g1h3j/MNIST/raw/t10k-labels-idx1-ubyte.gz to /var/folders/mf/cfzv46p15017stkscsq9jw9h0000gn/T/tmpj31g1h3j/MNIST/raw\n",
      "\u001b[36m(RayTrainWorker pid=54864)\u001b[0m Downloading https://ossci-datasets.s3.amazonaws.com/mnist/t10k-labels-idx1-ubyte.gz\u001b[32m [repeated 2x across cluster]\u001b[0m\n"
     ]
    },
    {
     "name": "stderr",
     "output_type": "stream",
     "text": [
      "\u001b[36m(RayTrainWorker pid=55197)\u001b[0m GPU available: True (mps), used: False\n",
      "\u001b[36m(RayTrainWorker pid=55197)\u001b[0m TPU available: False, using: 0 TPU cores\n",
      "\u001b[36m(RayTrainWorker pid=55197)\u001b[0m HPU available: False, using: 0 HPUs\n",
      "\u001b[36m(RayTrainWorker pid=55197)\u001b[0m /Users/sidharrthnagappan/.virtualenvs/lsdp_miniproject/lib/python3.11/site-packages/pytorch_lightning/trainer/setup.py:177: GPU available but not used. You can set it by doing `Trainer(accelerator='gpu')`.\n",
      "\u001b[36m(RayTrainWorker pid=55197)\u001b[0m /Users/sidharrthnagappan/.virtualenvs/lsdp_miniproject/lib/python3.11/site-packages/pytorch_lightning/loops/utilities.py:73: `max_epochs` was not set. Setting it to 1000 epochs. To train without an epoch limit, set `max_epochs=-1`.\n",
      "\u001b[36m(RayTrainWorker pid=54864)\u001b[0m Traceback (most recent call last):\n",
      "\u001b[36m(RayTrainWorker pid=54864)\u001b[0m   File \"<string>\", line 1, in <module>\n",
      "\u001b[36m(RayTrainWorker pid=54864)\u001b[0m   File \"/Users/sidharrthnagappan/.pyenv/versions/3.11.0/lib/python3.11/multiprocessing/spawn.py\", line 120, in spawn_main\n",
      "\u001b[36m(RayTrainWorker pid=54864)\u001b[0m     exitcode = _main(fd, parent_sentinel)\n",
      "\u001b[36m(RayTrainWorker pid=54864)\u001b[0m                ^^^^^^^^^^^^^^^^^^^^^^^^^^\n",
      "\u001b[36m(RayTrainWorker pid=54864)\u001b[0m   File \"/Users/sidharrthnagappan/.pyenv/versions/3.11.0/lib/python3.11/multiprocessing/spawn.py\", line 130, in _main\n",
      "\u001b[36m(RayTrainWorker pid=54864)\u001b[0m     self = reduction.pickle.load(from_parent)\n",
      "\u001b[36m(RayTrainWorker pid=54864)\u001b[0m            ^^^^^^^^^^^^^^^^^^^^^^^^^^^^^^^^^^\n",
      "\u001b[36m(RayTrainWorker pid=54864)\u001b[0m _pickle.UnpicklingError: pickle data was truncated\n"
     ]
    },
    {
     "name": "stdout",
     "output_type": "stream",
     "text": [
      "\u001b[36m(RayTrainWorker pid=55197)\u001b[0m Failed to download (trying next):\n",
      "\u001b[36m(RayTrainWorker pid=55197)\u001b[0m HTTP Error 403: Forbidden\n",
      "\u001b[36m(RayTrainWorker pid=55197)\u001b[0m \n",
      "\u001b[36m(RayTrainWorker pid=55197)\u001b[0m Downloading https://ossci-datasets.s3.amazonaws.com/mnist/train-images-idx3-ubyte.gz to /var/folders/mf/cfzv46p15017stkscsq9jw9h0000gn/T/tmpsrgbtdsm/MNIST/raw/train-images-idx3-ubyte.gz\n"
     ]
    },
    {
     "name": "stderr",
     "output_type": "stream",
     "text": [
      "  0%|          | 0.00/9.91M [00:00<?, ?B/s]\n",
      "  1%|          | 65.5k/9.91M [00:00<00:24, 395kB/s]\n",
      "  4%|▎         | 360k/9.91M [00:00<00:07, 1.20MB/s]\n",
      " 14%|█▎        | 1.34M/9.91M [00:00<00:02, 4.09MB/s]\n"
     ]
    },
    {
     "name": "stdout",
     "output_type": "stream",
     "text": [
      "\u001b[36m(RayTrainWorker pid=55226)\u001b[0m \n"
     ]
    },
    {
     "name": "stderr",
     "output_type": "stream",
     "text": [
      " 30%|███       | 2.98M/9.91M [00:00<00:00, 8.04MB/s]\n",
      " 40%|███▉      | 3.93M/9.91M [00:00<00:00, 7.21MB/s]\n",
      "100%|██████████| 9.91M/9.91M [00:00<00:00, 11.3MB/s]\n"
     ]
    },
    {
     "name": "stdout",
     "output_type": "stream",
     "text": [
      "\u001b[36m(RayTrainWorker pid=55197)\u001b[0m Extracting /var/folders/mf/cfzv46p15017stkscsq9jw9h0000gn/T/tmpsrgbtdsm/MNIST/raw/train-images-idx3-ubyte.gz to /var/folders/mf/cfzv46p15017stkscsq9jw9h0000gn/T/tmpsrgbtdsm/MNIST/raw\n",
      "\u001b[36m(RayTrainWorker pid=55197)\u001b[0m \n"
     ]
    },
    {
     "name": "stderr",
     "output_type": "stream",
     "text": [
      "\u001b[36m(RayTrainWorker pid=54864)\u001b[0m Checkpoint successfully created at: Checkpoint(filesystem=local, path=/Users/sidharrthnagappan/ray_results/TorchTrainer_2024-12-24_17-34-19/TorchTrainer_4f4b8_00023_23_batch_size=128,dropout=0.2326,layer_1_size=32,layer_2_size=128,layer_3_size=512,learning_rate=0.0113_2024-12-24_17-34-21/checkpoint_000000)\n"
     ]
    },
    {
     "name": "stdout",
     "output_type": "stream",
     "text": [
      "\u001b[36m(RayTrainWorker pid=55197)\u001b[0m \n"
     ]
    },
    {
     "name": "stderr",
     "output_type": "stream",
     "text": [
      "100%|██████████| 9.91M/9.91M [00:00<00:00, 10.8MB/s]\n",
      "\u001b[36m(TorchTrainer pid=55205)\u001b[0m Started distributed worker processes: \u001b[32m [repeated 2x across cluster]\u001b[0m\n",
      "\u001b[36m(TorchTrainer pid=55205)\u001b[0m - (node_id=7cc2334a334327f410131b140fb9ad2ae54820f537299598f92261b4, ip=127.0.0.1, pid=55302) world_rank=0, local_rank=0, node_rank=0\u001b[32m [repeated 2x across cluster]\u001b[0m\n",
      "\u001b[36m(RayTrainWorker pid=55302)\u001b[0m Setting up process group for: env:// [rank=0, world_size=1]\u001b[32m [repeated 2x across cluster]\u001b[0m\n"
     ]
    },
    {
     "name": "stdout",
     "output_type": "stream",
     "text": [
      "\u001b[36m(RayTrainWorker pid=55302)\u001b[0m printing config \n",
      "\u001b[36m(RayTrainWorker pid=55226)\u001b[0m \n",
      "\u001b[36m(RayTrainWorker pid=55302)\u001b[0m {'layer_1_size': 128, 'layer_2_size': 128, 'layer_3_size': 128, 'dropout': 0.25725225591832507, 'batch_size': 32, 'learning_rate': 0.0009903775404096573}\n"
     ]
    },
    {
     "name": "stderr",
     "output_type": "stream",
     "text": [
      "100%|██████████| 28.9k/28.9k [00:00<00:00, 349kB/s]\n"
     ]
    },
    {
     "name": "stdout",
     "output_type": "stream",
     "text": [
      "\u001b[36m(RayTrainWorker pid=55197)\u001b[0m \n",
      "\u001b[36m(RayTrainWorker pid=55226)\u001b[0m \n",
      "\u001b[36m(RayTrainWorker pid=55302)\u001b[0m \n",
      "\u001b[36m(RayTrainWorker pid=55197)\u001b[0m \n",
      "\u001b[36m(RayTrainWorker pid=55226)\u001b[0m \n"
     ]
    },
    {
     "name": "stderr",
     "output_type": "stream",
     "text": [
      "100%|██████████| 28.9k/28.9k [00:00<00:00, 343kB/s]\n",
      " 91%|█████████▏| 1.51M/1.65M [00:00<00:00, 4.03MB/s]\n",
      "100%|██████████| 1.65M/1.65M [00:00<00:00, 3.21MB/s]\n",
      "\u001b[36m(RayTrainWorker pid=55302)\u001b[0m GPU available: True (mps), used: False\u001b[32m [repeated 2x across cluster]\u001b[0m\n",
      "\u001b[36m(RayTrainWorker pid=55302)\u001b[0m TPU available: False, using: 0 TPU cores\u001b[32m [repeated 2x across cluster]\u001b[0m\n",
      "\u001b[36m(RayTrainWorker pid=55302)\u001b[0m HPU available: False, using: 0 HPUs\u001b[32m [repeated 2x across cluster]\u001b[0m\n",
      "\u001b[36m(RayTrainWorker pid=55302)\u001b[0m /Users/sidharrthnagappan/.virtualenvs/lsdp_miniproject/lib/python3.11/site-packages/pytorch_lightning/trainer/setup.py:177: GPU available but not used. You can set it by doing `Trainer(accelerator='gpu')`.\u001b[32m [repeated 2x across cluster]\u001b[0m\n",
      "\u001b[36m(RayTrainWorker pid=55302)\u001b[0m /Users/sidharrthnagappan/.virtualenvs/lsdp_miniproject/lib/python3.11/site-packages/pytorch_lightning/loops/utilities.py:73: `max_epochs` was not set. Setting it to 1000 epochs. To train without an epoch limit, set `max_epochs=-1`.\u001b[32m [repeated 2x across cluster]\u001b[0m\n"
     ]
    },
    {
     "name": "stdout",
     "output_type": "stream",
     "text": [
      "\u001b[36m(RayTrainWorker pid=55226)\u001b[0m \n",
      "\u001b[36m(RayTrainWorker pid=55226)\u001b[0m printing config {'layer_1_size': 32, 'layer_2_size': 128, 'layer_3_size': 128, 'dropout': 0.14285853280267355, 'batch_size': 128, 'learning_rate': 0.015160436906754329}\n",
      "\u001b[36m(RayTrainWorker pid=55226)\u001b[0m Downloading https://ossci-datasets.s3.amazonaws.com/mnist/t10k-images-idx3-ubyte.gz\u001b[32m [repeated 14x across cluster]\u001b[0m\n",
      "\u001b[36m(RayTrainWorker pid=55197)\u001b[0m \n"
     ]
    },
    {
     "name": "stderr",
     "output_type": "stream",
     "text": [
      " 82%|████████▏ | 8.13M/9.91M [00:00<00:00, 13.1MB/s]\n",
      "100%|██████████| 9.91M/9.91M [00:00<00:00, 10.4MB/s]\n"
     ]
    },
    {
     "name": "stdout",
     "output_type": "stream",
     "text": [
      "\u001b[36m(RayTrainWorker pid=55302)\u001b[0m \n"
     ]
    },
    {
     "name": "stderr",
     "output_type": "stream",
     "text": [
      "\u001b[36m(RayTrainWorker pid=54571)\u001b[0m Checkpoint successfully created at: Checkpoint(filesystem=local, path=/Users/sidharrthnagappan/ray_results/TorchTrainer_2024-12-24_17-34-19/TorchTrainer_4f4b8_00020_20_batch_size=64,dropout=0.1971,layer_1_size=128,layer_2_size=64,layer_3_size=512,learning_rate=0.0003_2024-12-24_17-34-21/checkpoint_000002)\n",
      "\u001b[36m(RayTrainWorker pid=54864)\u001b[0m /Users/sidharrthnagappan/.pyenv/versions/3.11.0/lib/python3.11/multiprocessing/resource_tracker.py:224: UserWarning: resource_tracker: There appear to be 55 leaked semaphore objects to clean up at shutdown\n",
      "\u001b[36m(RayTrainWorker pid=54864)\u001b[0m   warnings.warn('resource_tracker: There appear to be %d '\n"
     ]
    },
    {
     "name": "stdout",
     "output_type": "stream",
     "text": [
      "\u001b[36m(RayTrainWorker pid=55197)\u001b[0m \n",
      "\u001b[36m(RayTrainWorker pid=55197)\u001b[0m Failed to download (trying next):\u001b[32m [repeated 7x across cluster]\u001b[0m\n",
      "\u001b[36m(RayTrainWorker pid=55197)\u001b[0m HTTP Error 403: Forbidden\u001b[32m [repeated 7x across cluster]\u001b[0m\n",
      "\u001b[36m(RayTrainWorker pid=55226)\u001b[0m \n",
      "\u001b[36m(RayTrainWorker pid=55197)\u001b[0m Downloading https://ossci-datasets.s3.amazonaws.com/mnist/t10k-labels-idx1-ubyte.gz to /var/folders/mf/cfzv46p15017stkscsq9jw9h0000gn/T/tmpsrgbtdsm/MNIST/raw/t10k-labels-idx1-ubyte.gz\u001b[32m [repeated 7x across cluster]\u001b[0m\n",
      "\u001b[36m(RayTrainWorker pid=55302)\u001b[0m \n"
     ]
    },
    {
     "name": "stderr",
     "output_type": "stream",
     "text": [
      "\u001b[36m(RayTrainWorker pid=55197)\u001b[0m \n",
      "\u001b[36m(RayTrainWorker pid=55197)\u001b[0m   | Name     | Type               | Params | Mode \n",
      "\u001b[36m(RayTrainWorker pid=55197)\u001b[0m --------------------------------------------------------\n",
      "\u001b[36m(RayTrainWorker pid=55197)\u001b[0m 0 | accuracy | MulticlassAccuracy | 0      | train\n",
      "\u001b[36m(RayTrainWorker pid=55197)\u001b[0m 1 | layer1   | Linear             | 100 K  | train\n",
      "\u001b[36m(RayTrainWorker pid=55197)\u001b[0m 2 | layer2   | Linear             | 33.0 K | train\n",
      "\u001b[36m(RayTrainWorker pid=55197)\u001b[0m 3 | layer3   | Linear             | 131 K  | train\n",
      "\u001b[36m(RayTrainWorker pid=55197)\u001b[0m 4 | layer4   | Linear             | 5.1 K  | train\n",
      "\u001b[36m(RayTrainWorker pid=55197)\u001b[0m 5 | dropout  | Dropout            | 0      | train\n",
      "\u001b[36m(RayTrainWorker pid=55197)\u001b[0m --------------------------------------------------------\n",
      "\u001b[36m(RayTrainWorker pid=55197)\u001b[0m 270 K     Trainable params\n",
      "\u001b[36m(RayTrainWorker pid=55197)\u001b[0m 0         Non-trainable params\n",
      "\u001b[36m(RayTrainWorker pid=55197)\u001b[0m 270 K     Total params\n",
      "\u001b[36m(RayTrainWorker pid=55197)\u001b[0m 1.081     Total estimated model params size (MB)\n",
      "\u001b[36m(RayTrainWorker pid=55197)\u001b[0m 6         Modules in train mode\n",
      "\u001b[36m(RayTrainWorker pid=55197)\u001b[0m 0         Modules in eval mode\n",
      "\u001b[36m(RayTrainWorker pid=55197)\u001b[0m /Users/sidharrthnagappan/.virtualenvs/lsdp_miniproject/lib/python3.11/site-packages/pytorch_lightning/trainer/connectors/data_connector.py:420: Consider setting `persistent_workers=True` in 'val_dataloader' to speed up the dataloader worker initialization.\n"
     ]
    },
    {
     "name": "stdout",
     "output_type": "stream",
     "text": [
      "\u001b[36m(RayTrainWorker pid=55197)\u001b[0m \n",
      "\u001b[36m(RayTrainWorker pid=55226)\u001b[0m \n",
      "\u001b[36m(RayTrainWorker pid=55302)\u001b[0m \n"
     ]
    },
    {
     "name": "stderr",
     "output_type": "stream",
     "text": [
      "100%|██████████| 28.9k/28.9k [00:00<00:00, 349kB/s]\u001b[32m [repeated 8x across cluster]\u001b[0m\n",
      "100%|██████████| 1.65M/1.65M [00:00<00:00, 3.67MB/s]\u001b[32m [repeated 16x across cluster]\u001b[0m\n"
     ]
    },
    {
     "name": "stdout",
     "output_type": "stream",
     "text": [
      "\u001b[36m(RayTrainWorker pid=55226)\u001b[0m \n",
      "\u001b[36m(RayTrainWorker pid=55226)\u001b[0m Extracting /var/folders/mf/cfzv46p15017stkscsq9jw9h0000gn/T/tmpuoy2tt6h/MNIST/raw/t10k-labels-idx1-ubyte.gz to /var/folders/mf/cfzv46p15017stkscsq9jw9h0000gn/T/tmpuoy2tt6h/MNIST/raw\u001b[32m [repeated 9x across cluster]\u001b[0m\n",
      "\u001b[36m(RayTrainWorker pid=55302)\u001b[0m \n"
     ]
    },
    {
     "name": "stderr",
     "output_type": "stream",
     "text": [
      "\u001b[36m(RayTrainWorker pid=55226)\u001b[0m \n",
      "\u001b[36m(TorchTrainer pid=55341)\u001b[0m Started distributed worker processes: \n",
      "\u001b[36m(TorchTrainer pid=55341)\u001b[0m - (node_id=7cc2334a334327f410131b140fb9ad2ae54820f537299598f92261b4, ip=127.0.0.1, pid=55402) world_rank=0, local_rank=0, node_rank=0\n",
      "\u001b[36m(RayTrainWorker pid=55402)\u001b[0m Setting up process group for: env:// [rank=0, world_size=1]\n"
     ]
    },
    {
     "name": "stdout",
     "output_type": "stream",
     "text": [
      "\u001b[36m(RayTrainWorker pid=55402)\u001b[0m printing config {'layer_1_size': 32, 'layer_2_size': 64, 'layer_3_size': 512, 'dropout': 0.28714111837162914, 'batch_size': 32, 'learning_rate': 0.03835455856042801}\n"
     ]
    },
    {
     "name": "stderr",
     "output_type": "stream",
     "text": [
      "\u001b[36m(RayTrainWorker pid=55197)\u001b[0m /Users/sidharrthnagappan/.virtualenvs/lsdp_miniproject/lib/python3.11/site-packages/pytorch_lightning/trainer/connectors/data_connector.py:420: Consider setting `persistent_workers=True` in 'train_dataloader' to speed up the dataloader worker initialization.\n"
     ]
    },
    {
     "name": "stdout",
     "output_type": "stream",
     "text": [
      "\u001b[36m(RayTrainWorker pid=55402)\u001b[0m \n"
     ]
    },
    {
     "name": "stderr",
     "output_type": "stream",
     "text": [
      "\u001b[36m(RayTrainWorker pid=55402)\u001b[0m GPU available: True (mps), used: False\n",
      "\u001b[36m(RayTrainWorker pid=55402)\u001b[0m TPU available: False, using: 0 TPU cores\n",
      "\u001b[36m(RayTrainWorker pid=55402)\u001b[0m HPU available: False, using: 0 HPUs\n",
      "\u001b[36m(RayTrainWorker pid=55402)\u001b[0m /Users/sidharrthnagappan/.virtualenvs/lsdp_miniproject/lib/python3.11/site-packages/pytorch_lightning/trainer/setup.py:177: GPU available but not used. You can set it by doing `Trainer(accelerator='gpu')`.\n",
      "\u001b[36m(RayTrainWorker pid=55402)\u001b[0m /Users/sidharrthnagappan/.virtualenvs/lsdp_miniproject/lib/python3.11/site-packages/pytorch_lightning/loops/utilities.py:73: `max_epochs` was not set. Setting it to 1000 epochs. To train without an epoch limit, set `max_epochs=-1`.\n"
     ]
    },
    {
     "name": "stdout",
     "output_type": "stream",
     "text": [
      "\u001b[36m(RayTrainWorker pid=55402)\u001b[0m Downloading https://ossci-datasets.s3.amazonaws.com/mnist/train-images-idx3-ubyte.gz\u001b[32m [repeated 10x across cluster]\u001b[0m\n",
      "\u001b[36m(RayTrainWorker pid=55402)\u001b[0m Failed to download (trying next):\u001b[32m [repeated 4x across cluster]\u001b[0m\n",
      "\u001b[36m(RayTrainWorker pid=55402)\u001b[0m HTTP Error 403: Forbidden\u001b[32m [repeated 4x across cluster]\u001b[0m\n",
      "\u001b[36m(RayTrainWorker pid=55402)\u001b[0m \n",
      "\u001b[36m(RayTrainWorker pid=55402)\u001b[0m Downloading https://ossci-datasets.s3.amazonaws.com/mnist/train-images-idx3-ubyte.gz to /var/folders/mf/cfzv46p15017stkscsq9jw9h0000gn/T/tmppf8qrx2a/MNIST/raw/train-images-idx3-ubyte.gz\u001b[32m [repeated 4x across cluster]\u001b[0m\n"
     ]
    },
    {
     "name": "stderr",
     "output_type": "stream",
     "text": [
      "100%|██████████| 9.91M/9.91M [00:00<00:00, 10.6MB/s]\n",
      "\u001b[36m(RayTrainWorker pid=55226)\u001b[0m   | Name     | Type               | Params | Mode \n",
      "\u001b[36m(RayTrainWorker pid=55226)\u001b[0m --------------------------------------------------------\u001b[32m [repeated 2x across cluster]\u001b[0m\n",
      "\u001b[36m(RayTrainWorker pid=55226)\u001b[0m 0 | accuracy | MulticlassAccuracy | 0      | train\n",
      "\u001b[36m(RayTrainWorker pid=55226)\u001b[0m 4 | layer4   | Linear             | 1.3 K  | train\u001b[32m [repeated 4x across cluster]\u001b[0m\n",
      "\u001b[36m(RayTrainWorker pid=55226)\u001b[0m 5 | dropout  | Dropout            | 0      | train\n",
      "\u001b[36m(RayTrainWorker pid=55226)\u001b[0m 47.1 K    Trainable params\n",
      "\u001b[36m(RayTrainWorker pid=55226)\u001b[0m 0         Non-trainable params\n",
      "\u001b[36m(RayTrainWorker pid=55226)\u001b[0m 47.1 K    Total params\n",
      "\u001b[36m(RayTrainWorker pid=55226)\u001b[0m 0.189     Total estimated model params size (MB)\n",
      "\u001b[36m(RayTrainWorker pid=55226)\u001b[0m 6         Modules in train mode\n",
      "\u001b[36m(RayTrainWorker pid=55226)\u001b[0m 0         Modules in eval mode\n",
      "\u001b[36m(RayTrainWorker pid=55226)\u001b[0m /Users/sidharrthnagappan/.virtualenvs/lsdp_miniproject/lib/python3.11/site-packages/pytorch_lightning/trainer/connectors/data_connector.py:420: Consider setting `persistent_workers=True` in 'val_dataloader' to speed up the dataloader worker initialization.\n",
      "  0%|          | 0.00/9.91M [00:00<?, ?B/s]\u001b[32m [repeated 3x across cluster]\u001b[0m\n",
      " 62%|██████▏   | 1.02M/1.65M [00:03<00:01, 385kB/s]\u001b[32m [repeated 29x across cluster]\u001b[0m\n"
     ]
    },
    {
     "name": "stdout",
     "output_type": "stream",
     "text": [
      "\u001b[36m(RayTrainWorker pid=55402)\u001b[0m \n",
      "\u001b[36m(RayTrainWorker pid=55402)\u001b[0m \n",
      "\u001b[36m(RayTrainWorker pid=55402)\u001b[0m Extracting /var/folders/mf/cfzv46p15017stkscsq9jw9h0000gn/T/tmppf8qrx2a/MNIST/raw/train-labels-idx1-ubyte.gz to /var/folders/mf/cfzv46p15017stkscsq9jw9h0000gn/T/tmppf8qrx2a/MNIST/raw\u001b[32m [repeated 2x across cluster]\u001b[0m\n"
     ]
    },
    {
     "name": "stderr",
     "output_type": "stream",
     "text": [
      "100%|██████████| 28.9k/28.9k [00:00<00:00, 347kB/s]\n",
      " 91%|█████████▏| 1.51M/1.65M [00:04<00:00, 474kB/s]\n"
     ]
    },
    {
     "name": "stdout",
     "output_type": "stream",
     "text": [
      "\u001b[36m(RayTrainWorker pid=55302)\u001b[0m \n",
      "\u001b[36m(RayTrainWorker pid=55402)\u001b[0m \n"
     ]
    },
    {
     "name": "stderr",
     "output_type": "stream",
     "text": [
      "100%|██████████| 1.65M/1.65M [00:04<00:00, 330kB/s]\n"
     ]
    },
    {
     "name": "stdout",
     "output_type": "stream",
     "text": [
      "\u001b[36m(RayTrainWorker pid=55302)\u001b[0m \n",
      "\u001b[36m(RayTrainWorker pid=55402)\u001b[0m \n",
      "\u001b[36m(RayTrainWorker pid=55302)\u001b[0m \n"
     ]
    },
    {
     "name": "stderr",
     "output_type": "stream",
     "text": [
      "100%|██████████| 1.65M/1.65M [00:00<00:00, 3.22MB/s]\n",
      "\u001b[36m(RayTrainWorker pid=55302)\u001b[0m \n",
      "\u001b[36m(RayTrainWorker pid=55302)\u001b[0m   | Name     | Type               | Params | Mode \n",
      "\u001b[36m(RayTrainWorker pid=55302)\u001b[0m 0 | accuracy | MulticlassAccuracy | 0      | train\n",
      "\u001b[36m(RayTrainWorker pid=55302)\u001b[0m 5 | dropout  | Dropout            | 0      | train\n",
      "\u001b[36m(RayTrainWorker pid=55302)\u001b[0m 134 K     Trainable params\n",
      "\u001b[36m(RayTrainWorker pid=55302)\u001b[0m 0         Non-trainable params\n",
      "\u001b[36m(RayTrainWorker pid=55302)\u001b[0m 134 K     Total params\n",
      "\u001b[36m(RayTrainWorker pid=55302)\u001b[0m 0.539     Total estimated model params size (MB)\n",
      "\u001b[36m(RayTrainWorker pid=55302)\u001b[0m 6         Modules in train mode\n",
      "\u001b[36m(RayTrainWorker pid=55302)\u001b[0m 0         Modules in eval mode\n",
      "\u001b[36m(RayTrainWorker pid=55302)\u001b[0m /Users/sidharrthnagappan/.virtualenvs/lsdp_miniproject/lib/python3.11/site-packages/pytorch_lightning/trainer/connectors/data_connector.py:420: Consider setting `persistent_workers=True` in 'val_dataloader' to speed up the dataloader worker initialization.\n"
     ]
    },
    {
     "name": "stdout",
     "output_type": "stream",
     "text": [
      "\u001b[36m(RayTrainWorker pid=55402)\u001b[0m \n",
      "\u001b[36m(RayTrainWorker pid=55402)\u001b[0m \n"
     ]
    },
    {
     "name": "stderr",
     "output_type": "stream",
     "text": [
      "\u001b[36m(RayTrainWorker pid=55226)\u001b[0m /Users/sidharrthnagappan/.virtualenvs/lsdp_miniproject/lib/python3.11/site-packages/pytorch_lightning/trainer/connectors/data_connector.py:420: Consider setting `persistent_workers=True` in 'train_dataloader' to speed up the dataloader worker initialization.\n",
      "\u001b[36m(RayTrainWorker pid=55402)\u001b[0m \n",
      "\u001b[36m(RayTrainWorker pid=54571)\u001b[0m Checkpoint successfully created at: Checkpoint(filesystem=local, path=/Users/sidharrthnagappan/ray_results/TorchTrainer_2024-12-24_17-34-19/TorchTrainer_4f4b8_00020_20_batch_size=64,dropout=0.1971,layer_1_size=128,layer_2_size=64,layer_3_size=512,learning_rate=0.0003_2024-12-24_17-34-21/checkpoint_000003)\n",
      "\u001b[36m(RayTrainWorker pid=54571)\u001b[0m Traceback (most recent call last):\n",
      "\u001b[36m(RayTrainWorker pid=54571)\u001b[0m   File \"<string>\", line 1, in <module>\n",
      "\u001b[36m(RayTrainWorker pid=54571)\u001b[0m   File \"/Users/sidharrthnagappan/.pyenv/versions/3.11.0/lib/python3.11/multiprocessing/spawn.py\", line 120, in spawn_main\n",
      "\u001b[36m(RayTrainWorker pid=54571)\u001b[0m     exitcode = _main(fd, parent_sentinel)\n",
      "\u001b[36m(RayTrainWorker pid=54571)\u001b[0m                ^^^^^^^^^^^^^^^^^^^^^^^^^^\n",
      "\u001b[36m(RayTrainWorker pid=54571)\u001b[0m   File \"/Users/sidharrthnagappan/.pyenv/versions/3.11.0/lib/python3.11/multiprocessing/spawn.py\", line 130, in _main\n",
      "\u001b[36m(RayTrainWorker pid=54571)\u001b[0m     self = reduction.pickle.load(from_parent)\n",
      "\u001b[36m(RayTrainWorker pid=54571)\u001b[0m            ^^^^^^^^^^^^^^^^^^^^^^^^^^^^^^^^^^\n",
      "\u001b[36m(RayTrainWorker pid=54571)\u001b[0m _pickle.UnpicklingError: pickle data was truncated\n",
      "\u001b[36m(RayTrainWorker pid=55402)\u001b[0m --------------------------------------------------------\u001b[32m [repeated 4x across cluster]\u001b[0m\n",
      "\u001b[36m(RayTrainWorker pid=55402)\u001b[0m 4 | layer4   | Linear             | 5.1 K  | train\u001b[32m [repeated 8x across cluster]\u001b[0m\n",
      "100%|██████████| 4.54k/4.54k [00:00<00:00, 3.83MB/s]\u001b[32m [repeated 4x across cluster]\u001b[0m\n",
      " 22%|██▏       | 360k/1.65M [00:00<00:01, 1.19MB/s]\u001b[32m [repeated 7x across cluster]\u001b[0m\n",
      "\u001b[36m(RayTrainWorker pid=55302)\u001b[0m /Users/sidharrthnagappan/.virtualenvs/lsdp_miniproject/lib/python3.11/site-packages/pytorch_lightning/trainer/connectors/data_connector.py:420: Consider setting `persistent_workers=True` in 'train_dataloader' to speed up the dataloader worker initialization.\n",
      "\u001b[36m(RayTrainWorker pid=54571)\u001b[0m /Users/sidharrthnagappan/.pyenv/versions/3.11.0/lib/python3.11/multiprocessing/resource_tracker.py:224: UserWarning: resource_tracker: There appear to be 55 leaked semaphore objects to clean up at shutdown\n",
      "\u001b[36m(RayTrainWorker pid=54571)\u001b[0m   warnings.warn('resource_tracker: There appear to be %d '\n",
      "\u001b[36m(RayTrainWorker pid=55402)\u001b[0m   | Name     | Type               | Params | Mode \n",
      "\u001b[36m(RayTrainWorker pid=55402)\u001b[0m 0 | accuracy | MulticlassAccuracy | 0      | train\n",
      "\u001b[36m(RayTrainWorker pid=55402)\u001b[0m 5 | dropout  | Dropout            | 0      | train\n",
      "\u001b[36m(RayTrainWorker pid=55402)\u001b[0m 65.6 K    Trainable params\n",
      "\u001b[36m(RayTrainWorker pid=55402)\u001b[0m 0         Non-trainable params\n",
      "\u001b[36m(RayTrainWorker pid=55402)\u001b[0m 65.6 K    Total params\n",
      "\u001b[36m(RayTrainWorker pid=55402)\u001b[0m 0.263     Total estimated model params size (MB)\n",
      "\u001b[36m(RayTrainWorker pid=55402)\u001b[0m 6         Modules in train mode\n",
      "\u001b[36m(RayTrainWorker pid=55402)\u001b[0m 0         Modules in eval mode\n",
      "\u001b[36m(RayTrainWorker pid=55402)\u001b[0m /Users/sidharrthnagappan/.virtualenvs/lsdp_miniproject/lib/python3.11/site-packages/pytorch_lightning/trainer/connectors/data_connector.py:420: Consider setting `persistent_workers=True` in 'val_dataloader' to speed up the dataloader worker initialization.\n",
      "\u001b[36m(RayTrainWorker pid=55226)\u001b[0m Checkpoint successfully created at: Checkpoint(filesystem=local, path=/Users/sidharrthnagappan/ray_results/TorchTrainer_2024-12-24_17-34-19/TorchTrainer_4f4b8_00025_25_batch_size=128,dropout=0.1429,layer_1_size=32,layer_2_size=128,layer_3_size=128,learning_rate=0.0152_2024-12-24_17-34-21/checkpoint_000000)\n",
      "\u001b[36m(RayTrainWorker pid=55226)\u001b[0m Traceback (most recent call last):\n",
      "\u001b[36m(RayTrainWorker pid=55226)\u001b[0m   File \"<string>\", line 1, in <module>\n",
      "\u001b[36m(RayTrainWorker pid=55226)\u001b[0m   File \"/Users/sidharrthnagappan/.pyenv/versions/3.11.0/lib/python3.11/multiprocessing/spawn.py\", line 120, in spawn_main\n",
      "\u001b[36m(RayTrainWorker pid=55226)\u001b[0m     exitcode = _main(fd, parent_sentinel)\n",
      "\u001b[36m(RayTrainWorker pid=55226)\u001b[0m                ^^^^^^^^^^^^^^^^^^^^^^^^^^\n",
      "\u001b[36m(RayTrainWorker pid=55226)\u001b[0m   File \"/Users/sidharrthnagappan/.pyenv/versions/3.11.0/lib/python3.11/multiprocessing/spawn.py\", line 130, in _main\n",
      "\u001b[36m(RayTrainWorker pid=55226)\u001b[0m     self = reduction.pickle.load(from_parent)\n",
      "\u001b[36m(RayTrainWorker pid=55226)\u001b[0m            ^^^^^^^^^^^^^^^^^^^^^^^^^^^^^^^^^^\n",
      "\u001b[36m(RayTrainWorker pid=55226)\u001b[0m _pickle.UnpicklingError: pickle data was truncated\n",
      "\u001b[36m(RayTrainWorker pid=55197)\u001b[0m Checkpoint successfully created at: Checkpoint(filesystem=local, path=/Users/sidharrthnagappan/ray_results/TorchTrainer_2024-12-24_17-34-19/TorchTrainer_4f4b8_00024_24_batch_size=64,dropout=0.1795,layer_1_size=128,layer_2_size=256,layer_3_size=512,learning_rate=0.0388_2024-12-24_17-34-21/checkpoint_000000)\n",
      "\u001b[36m(RayTrainWorker pid=55197)\u001b[0m Traceback (most recent call last):\n",
      "\u001b[36m(RayTrainWorker pid=55197)\u001b[0m   File \"<string>\", line 1, in <module>\n",
      "\u001b[36m(RayTrainWorker pid=55197)\u001b[0m   File \"/Users/sidharrthnagappan/.pyenv/versions/3.11.0/lib/python3.11/multiprocessing/spawn.py\", line 120, in spawn_main\n",
      "\u001b[36m(RayTrainWorker pid=55197)\u001b[0m     exitcode = _main(fd, parent_sentinel)\n",
      "\u001b[36m(RayTrainWorker pid=55197)\u001b[0m                ^^^^^^^^^^^^^^^^^^^^^^^^^^\n",
      "\u001b[36m(RayTrainWorker pid=55197)\u001b[0m   File \"/Users/sidharrthnagappan/.pyenv/versions/3.11.0/lib/python3.11/multiprocessing/spawn.py\", line 130, in _main\n",
      "\u001b[36m(RayTrainWorker pid=55197)\u001b[0m     self = reduction.pickle.load(from_parent)\n",
      "\u001b[36m(RayTrainWorker pid=55197)\u001b[0m            ^^^^^^^^^^^^^^^^^^^^^^^^^^^^^^^^^^\n",
      "\u001b[36m(RayTrainWorker pid=55197)\u001b[0m _pickle.UnpicklingError: pickle data was truncated\n",
      "\u001b[36m(RayTrainWorker pid=55402)\u001b[0m /Users/sidharrthnagappan/.virtualenvs/lsdp_miniproject/lib/python3.11/site-packages/pytorch_lightning/trainer/connectors/data_connector.py:420: Consider setting `persistent_workers=True` in 'train_dataloader' to speed up the dataloader worker initialization.\n",
      "\u001b[36m(TorchTrainer pid=55634)\u001b[0m Started distributed worker processes: \n",
      "\u001b[36m(TorchTrainer pid=55634)\u001b[0m - (node_id=7cc2334a334327f410131b140fb9ad2ae54820f537299598f92261b4, ip=127.0.0.1, pid=55748) world_rank=0, local_rank=0, node_rank=0\n",
      "\u001b[36m(RayTrainWorker pid=55748)\u001b[0m Setting up process group for: env:// [rank=0, world_size=1]\n",
      "\u001b[36m(RayTrainWorker pid=55748)\u001b[0m GPU available: True (mps), used: False\n",
      "\u001b[36m(RayTrainWorker pid=55748)\u001b[0m TPU available: False, using: 0 TPU cores\n",
      "\u001b[36m(RayTrainWorker pid=55748)\u001b[0m HPU available: False, using: 0 HPUs\n",
      "\u001b[36m(RayTrainWorker pid=55748)\u001b[0m /Users/sidharrthnagappan/.virtualenvs/lsdp_miniproject/lib/python3.11/site-packages/pytorch_lightning/trainer/setup.py:177: GPU available but not used. You can set it by doing `Trainer(accelerator='gpu')`.\n",
      "\u001b[36m(RayTrainWorker pid=55748)\u001b[0m /Users/sidharrthnagappan/.virtualenvs/lsdp_miniproject/lib/python3.11/site-packages/pytorch_lightning/loops/utilities.py:73: `max_epochs` was not set. Setting it to 1000 epochs. To train without an epoch limit, set `max_epochs=-1`.\n"
     ]
    },
    {
     "name": "stdout",
     "output_type": "stream",
     "text": [
      "\u001b[36m(RayTrainWorker pid=55748)\u001b[0m printing config {'layer_1_size': 64, 'layer_2_size': 256, 'layer_3_size': 512, 'dropout': 0.11186246065003927, 'batch_size': 32, 'learning_rate': 0.013959371950979267}\n",
      "\u001b[36m(RayTrainWorker pid=55748)\u001b[0m Downloading http://yann.lecun.com/exdb/mnist/train-images-idx3-ubyte.gz\u001b[32m [repeated 9x across cluster]\u001b[0m\n",
      "\u001b[36m(RayTrainWorker pid=55402)\u001b[0m Failed to download (trying next):\u001b[32m [repeated 4x across cluster]\u001b[0m\n",
      "\u001b[36m(RayTrainWorker pid=55402)\u001b[0m HTTP Error 403: Forbidden\u001b[32m [repeated 4x across cluster]\u001b[0m\n",
      "\u001b[36m(RayTrainWorker pid=55402)\u001b[0m Downloading https://ossci-datasets.s3.amazonaws.com/mnist/t10k-labels-idx1-ubyte.gz to /var/folders/mf/cfzv46p15017stkscsq9jw9h0000gn/T/tmppf8qrx2a/MNIST/raw/t10k-labels-idx1-ubyte.gz\u001b[32m [repeated 4x across cluster]\u001b[0m\n",
      "\u001b[36m(RayTrainWorker pid=55402)\u001b[0m Extracting /var/folders/mf/cfzv46p15017stkscsq9jw9h0000gn/T/tmppf8qrx2a/MNIST/raw/t10k-labels-idx1-ubyte.gz to /var/folders/mf/cfzv46p15017stkscsq9jw9h0000gn/T/tmppf8qrx2a/MNIST/raw\u001b[32m [repeated 4x across cluster]\u001b[0m\n"
     ]
    },
    {
     "name": "stderr",
     "output_type": "stream",
     "text": [
      "\u001b[36m(RayTrainWorker pid=55226)\u001b[0m /Users/sidharrthnagappan/.pyenv/versions/3.11.0/lib/python3.11/multiprocessing/resource_tracker.py:224: UserWarning: resource_tracker: There appear to be 55 leaked semaphore objects to clean up at shutdown\n",
      "\u001b[36m(RayTrainWorker pid=55226)\u001b[0m   warnings.warn('resource_tracker: There appear to be %d '\n"
     ]
    },
    {
     "name": "stdout",
     "output_type": "stream",
     "text": [
      "\u001b[36m(RayTrainWorker pid=55748)\u001b[0m \n",
      "\u001b[36m(RayTrainWorker pid=55749)\u001b[0m \n"
     ]
    },
    {
     "name": "stderr",
     "output_type": "stream",
     "text": [
      "\u001b[36m(RayTrainWorker pid=55197)\u001b[0m /Users/sidharrthnagappan/.pyenv/versions/3.11.0/lib/python3.11/multiprocessing/resource_tracker.py:224: UserWarning: resource_tracker: There appear to be 55 leaked semaphore objects to clean up at shutdown\n",
      "\u001b[36m(RayTrainWorker pid=55197)\u001b[0m   warnings.warn('resource_tracker: There appear to be %d '\n",
      "  0%|          | 0.00/9.91M [00:00<?, ?B/s]\n",
      "  1%|          | 98.3k/9.91M [00:00<00:16, 590kB/s]\n",
      "  4%|▍         | 393k/9.91M [00:00<00:08, 1.15MB/s]\n",
      " 14%|█▍        | 1.38M/9.91M [00:00<00:02, 3.83MB/s]\n",
      " 21%|██        | 2.10M/9.91M [00:00<00:01, 4.87MB/s]\n",
      " 96%|█████████▌| 9.54M/9.91M [00:01<00:00, 7.69MB/s]\n",
      "100%|██████████| 9.91M/9.91M [00:01<00:00, 6.59MB/s]\n"
     ]
    },
    {
     "name": "stdout",
     "output_type": "stream",
     "text": [
      "\u001b[36m(RayTrainWorker pid=55748)\u001b[0m \n"
     ]
    },
    {
     "name": "stderr",
     "output_type": "stream",
     "text": [
      "100%|██████████| 9.91M/9.91M [00:01<00:00, 8.05MB/s]\n"
     ]
    },
    {
     "name": "stdout",
     "output_type": "stream",
     "text": [
      "\u001b[36m(RayTrainWorker pid=55749)\u001b[0m \n",
      "\u001b[36m(RayTrainWorker pid=55748)\u001b[0m \n"
     ]
    },
    {
     "name": "stderr",
     "output_type": "stream",
     "text": [
      "\u001b[36m(RayTrainWorker pid=55302)\u001b[0m Checkpoint successfully created at: Checkpoint(filesystem=local, path=/Users/sidharrthnagappan/ray_results/TorchTrainer_2024-12-24_17-34-19/TorchTrainer_4f4b8_00026_26_batch_size=32,dropout=0.2573,layer_1_size=128,layer_2_size=128,layer_3_size=128,learning_rate=0.0010_2024-12-24_17-34-21/checkpoint_000000)\n"
     ]
    },
    {
     "name": "stdout",
     "output_type": "stream",
     "text": [
      "\u001b[36m(RayTrainWorker pid=55749)\u001b[0m \n"
     ]
    },
    {
     "name": "stderr",
     "output_type": "stream",
     "text": [
      "100%|██████████| 28.9k/28.9k [00:00<00:00, 348kB/s]\n",
      "\u001b[36m(RayTrainWorker pid=55402)\u001b[0m Traceback (most recent call last):\n",
      "\u001b[36m(RayTrainWorker pid=55402)\u001b[0m   File \"<string>\", line 1, in <module>\n",
      "\u001b[36m(RayTrainWorker pid=55402)\u001b[0m   File \"/Users/sidharrthnagappan/.pyenv/versions/3.11.0/lib/python3.11/multiprocessing/spawn.py\", line 120, in spawn_main\n",
      "\u001b[36m(RayTrainWorker pid=55402)\u001b[0m     exitcode = _main(fd, parent_sentinel)\n",
      "\u001b[36m(RayTrainWorker pid=55402)\u001b[0m                ^^^^^^^^^^^^^^^^^^^^^^^^^^\n",
      "\u001b[36m(RayTrainWorker pid=55402)\u001b[0m   File \"/Users/sidharrthnagappan/.pyenv/versions/3.11.0/lib/python3.11/multiprocessing/spawn.py\", line 130, in _main\n",
      "\u001b[36m(RayTrainWorker pid=55402)\u001b[0m     self = reduction.pickle.load(from_parent)\n",
      "\u001b[36m(RayTrainWorker pid=55402)\u001b[0m            ^^^^^^^^^^^^^^^^^^^^^^^^^^^^^^^^^^\n",
      "\u001b[36m(RayTrainWorker pid=55402)\u001b[0m _pickle.UnpicklingError: pickle data was truncated\n"
     ]
    },
    {
     "name": "stdout",
     "output_type": "stream",
     "text": [
      "\u001b[36m(RayTrainWorker pid=55748)\u001b[0m \n",
      "\u001b[36m(RayTrainWorker pid=55774)\u001b[0m \n"
     ]
    },
    {
     "name": "stderr",
     "output_type": "stream",
     "text": [
      "100%|██████████| 28.9k/28.9k [00:00<00:00, 345kB/s]\n"
     ]
    },
    {
     "name": "stdout",
     "output_type": "stream",
     "text": [
      "\u001b[36m(RayTrainWorker pid=55749)\u001b[0m \n",
      "\u001b[36m(RayTrainWorker pid=55748)\u001b[0m \n",
      "\u001b[36m(RayTrainWorker pid=55749)\u001b[0m \n"
     ]
    },
    {
     "name": "stderr",
     "output_type": "stream",
     "text": [
      "\u001b[36m(TorchTrainer pid=55740)\u001b[0m Started distributed worker processes: \u001b[32m [repeated 2x across cluster]\u001b[0m\n",
      "\u001b[36m(TorchTrainer pid=55740)\u001b[0m - (node_id=7cc2334a334327f410131b140fb9ad2ae54820f537299598f92261b4, ip=127.0.0.1, pid=55774) world_rank=0, local_rank=0, node_rank=0\u001b[32m [repeated 2x across cluster]\u001b[0m\n",
      "\u001b[36m(RayTrainWorker pid=55774)\u001b[0m Setting up process group for: env:// [rank=0, world_size=1]\u001b[32m [repeated 2x across cluster]\u001b[0m\n"
     ]
    },
    {
     "name": "stdout",
     "output_type": "stream",
     "text": [
      "\u001b[36m(RayTrainWorker pid=55774)\u001b[0m printing config {'layer_1_size': 64, 'layer_2_size': 256, 'layer_3_size': 128, 'dropout': 0.12668409320735985, 'batch_size': 128, 'learning_rate': 0.007232709332948}\u001b[32m [repeated 2x across cluster]\u001b[0m\n",
      "\u001b[36m(RayTrainWorker pid=55749)\u001b[0m Downloading https://ossci-datasets.s3.amazonaws.com/mnist/t10k-images-idx3-ubyte.gz\u001b[32m [repeated 13x across cluster]\u001b[0m\n",
      "\u001b[36m(RayTrainWorker pid=55749)\u001b[0m Failed to download (trying next):\u001b[32m [repeated 7x across cluster]\u001b[0m\n",
      "\u001b[36m(RayTrainWorker pid=55749)\u001b[0m HTTP Error 403: Forbidden\u001b[32m [repeated 7x across cluster]\u001b[0m\n",
      "\u001b[36m(RayTrainWorker pid=55749)\u001b[0m Downloading https://ossci-datasets.s3.amazonaws.com/mnist/t10k-images-idx3-ubyte.gz to /var/folders/mf/cfzv46p15017stkscsq9jw9h0000gn/T/tmphkymwgko/MNIST/raw/t10k-images-idx3-ubyte.gz\u001b[32m [repeated 7x across cluster]\u001b[0m\n",
      "\u001b[36m(RayTrainWorker pid=55749)\u001b[0m Extracting /var/folders/mf/cfzv46p15017stkscsq9jw9h0000gn/T/tmphkymwgko/MNIST/raw/train-labels-idx1-ubyte.gz to /var/folders/mf/cfzv46p15017stkscsq9jw9h0000gn/T/tmphkymwgko/MNIST/raw\u001b[32m [repeated 4x across cluster]\u001b[0m\n"
     ]
    },
    {
     "name": "stderr",
     "output_type": "stream",
     "text": [
      "\u001b[36m(RayTrainWorker pid=55774)\u001b[0m GPU available: True (mps), used: False\u001b[32m [repeated 2x across cluster]\u001b[0m\n",
      "\u001b[36m(RayTrainWorker pid=55774)\u001b[0m TPU available: False, using: 0 TPU cores\u001b[32m [repeated 2x across cluster]\u001b[0m\n",
      "\u001b[36m(RayTrainWorker pid=55774)\u001b[0m HPU available: False, using: 0 HPUs\u001b[32m [repeated 2x across cluster]\u001b[0m\n",
      "\u001b[36m(RayTrainWorker pid=55774)\u001b[0m /Users/sidharrthnagappan/.virtualenvs/lsdp_miniproject/lib/python3.11/site-packages/pytorch_lightning/trainer/setup.py:177: GPU available but not used. You can set it by doing `Trainer(accelerator='gpu')`.\u001b[32m [repeated 2x across cluster]\u001b[0m\n",
      "\u001b[36m(RayTrainWorker pid=55774)\u001b[0m /Users/sidharrthnagappan/.virtualenvs/lsdp_miniproject/lib/python3.11/site-packages/pytorch_lightning/loops/utilities.py:73: `max_epochs` was not set. Setting it to 1000 epochs. To train without an epoch limit, set `max_epochs=-1`.\u001b[32m [repeated 2x across cluster]\u001b[0m\n",
      " 50%|████▉     | 819k/1.65M [00:00<00:00, 2.22MB/s]\n",
      "100%|██████████| 1.65M/1.65M [00:00<00:00, 3.09MB/s]\n"
     ]
    },
    {
     "name": "stdout",
     "output_type": "stream",
     "text": [
      "\u001b[36m(RayTrainWorker pid=55748)\u001b[0m \n",
      "\u001b[36m(RayTrainWorker pid=55774)\u001b[0m \n",
      "\u001b[36m(RayTrainWorker pid=55748)\u001b[0m \n",
      "\u001b[36m(RayTrainWorker pid=55774)\u001b[0m \n"
     ]
    },
    {
     "name": "stderr",
     "output_type": "stream",
     "text": [
      "  0%|          | 0.00/1.65M [00:00<?, ?B/s]\u001b[32m [repeated 6x across cluster]\u001b[0m\n",
      " 72%|███████▏  | 1.18M/1.65M [00:01<00:00, 1.14MB/s]\u001b[32m [repeated 28x across cluster]\u001b[0m\n",
      "\u001b[36m(RayTrainWorker pid=55748)\u001b[0m \n",
      "\u001b[36m(RayTrainWorker pid=55748)\u001b[0m   | Name     | Type               | Params | Mode \n",
      "\u001b[36m(RayTrainWorker pid=55748)\u001b[0m --------------------------------------------------------\n",
      "\u001b[36m(RayTrainWorker pid=55748)\u001b[0m 0 | accuracy | MulticlassAccuracy | 0      | train\n",
      "\u001b[36m(RayTrainWorker pid=55748)\u001b[0m 1 | layer1   | Linear             | 50.2 K | train\n",
      "\u001b[36m(RayTrainWorker pid=55748)\u001b[0m 2 | layer2   | Linear             | 16.6 K | train\n",
      "\u001b[36m(RayTrainWorker pid=55748)\u001b[0m 3 | layer3   | Linear             | 131 K  | train\n",
      "\u001b[36m(RayTrainWorker pid=55748)\u001b[0m 4 | layer4   | Linear             | 5.1 K  | train\n",
      "\u001b[36m(RayTrainWorker pid=55748)\u001b[0m 5 | dropout  | Dropout            | 0      | train\n",
      "\u001b[36m(RayTrainWorker pid=55748)\u001b[0m --------------------------------------------------------\n",
      "\u001b[36m(RayTrainWorker pid=55748)\u001b[0m 203 K     Trainable params\n",
      "\u001b[36m(RayTrainWorker pid=55748)\u001b[0m 0         Non-trainable params\n",
      "\u001b[36m(RayTrainWorker pid=55748)\u001b[0m 203 K     Total params\n",
      "\u001b[36m(RayTrainWorker pid=55748)\u001b[0m 0.814     Total estimated model params size (MB)\n",
      "\u001b[36m(RayTrainWorker pid=55748)\u001b[0m 6         Modules in train mode\n",
      "\u001b[36m(RayTrainWorker pid=55748)\u001b[0m 0         Modules in eval mode\n",
      "\u001b[36m(RayTrainWorker pid=55748)\u001b[0m /Users/sidharrthnagappan/.virtualenvs/lsdp_miniproject/lib/python3.11/site-packages/pytorch_lightning/trainer/connectors/data_connector.py:420: Consider setting `persistent_workers=True` in 'val_dataloader' to speed up the dataloader worker initialization.\n",
      "100%|██████████| 1.65M/1.65M [00:01<00:00, 1.14MB/s]\n"
     ]
    },
    {
     "name": "stdout",
     "output_type": "stream",
     "text": [
      "\u001b[36m(RayTrainWorker pid=55748)\u001b[0m \n",
      "\u001b[36m(RayTrainWorker pid=55749)\u001b[0m \n"
     ]
    },
    {
     "name": "stderr",
     "output_type": "stream",
     "text": [
      "100%|██████████| 28.9k/28.9k [00:00<00:00, 335kB/s]\n"
     ]
    },
    {
     "name": "stdout",
     "output_type": "stream",
     "text": [
      "\u001b[36m(RayTrainWorker pid=55774)\u001b[0m \n",
      "\u001b[36m(RayTrainWorker pid=55749)\u001b[0m \n",
      "\u001b[36m(RayTrainWorker pid=55774)\u001b[0m \n"
     ]
    },
    {
     "name": "stderr",
     "output_type": "stream",
     "text": [
      "\u001b[36m(RayTrainWorker pid=55749)\u001b[0m \n"
     ]
    },
    {
     "name": "stdout",
     "output_type": "stream",
     "text": [
      "\u001b[36m(RayTrainWorker pid=55749)\u001b[0m \n",
      "\u001b[36m(RayTrainWorker pid=55774)\u001b[0m \n",
      "\u001b[36m(RayTrainWorker pid=55774)\u001b[0m \n"
     ]
    },
    {
     "name": "stderr",
     "output_type": "stream",
     "text": [
      "\u001b[36m(RayTrainWorker pid=55748)\u001b[0m /Users/sidharrthnagappan/.virtualenvs/lsdp_miniproject/lib/python3.11/site-packages/pytorch_lightning/trainer/connectors/data_connector.py:420: Consider setting `persistent_workers=True` in 'train_dataloader' to speed up the dataloader worker initialization.\n",
      "\u001b[36m(RayTrainWorker pid=55402)\u001b[0m Checkpoint successfully created at: Checkpoint(filesystem=local, path=/Users/sidharrthnagappan/ray_results/TorchTrainer_2024-12-24_17-34-19/TorchTrainer_4f4b8_00027_27_batch_size=32,dropout=0.2871,layer_1_size=32,layer_2_size=64,layer_3_size=512,learning_rate=0.0384_2024-12-24_17-34-21/checkpoint_000000)\n"
     ]
    },
    {
     "name": "stdout",
     "output_type": "stream",
     "text": [
      "\u001b[36m(RayTrainWorker pid=55774)\u001b[0m \n"
     ]
    },
    {
     "name": "stderr",
     "output_type": "stream",
     "text": [
      "\u001b[36m(RayTrainWorker pid=55402)\u001b[0m /Users/sidharrthnagappan/.pyenv/versions/3.11.0/lib/python3.11/multiprocessing/resource_tracker.py:224: UserWarning: resource_tracker: There appear to be 55 leaked semaphore objects to clean up at shutdown\n",
      "\u001b[36m(RayTrainWorker pid=55402)\u001b[0m   warnings.warn('resource_tracker: There appear to be %d '\n",
      "\u001b[36m(RayTrainWorker pid=55774)\u001b[0m \n",
      "\u001b[36m(TorchTrainer pid=55850)\u001b[0m Started distributed worker processes: \n",
      "\u001b[36m(TorchTrainer pid=55850)\u001b[0m - (node_id=7cc2334a334327f410131b140fb9ad2ae54820f537299598f92261b4, ip=127.0.0.1, pid=55909) world_rank=0, local_rank=0, node_rank=0\n",
      "100%|██████████| 4.54k/4.54k [00:00<00:00, 1.88MB/s]\u001b[32m [repeated 5x across cluster]\u001b[0m\n",
      "100%|██████████| 1.65M/1.65M [00:00<00:00, 3.67MB/s]\u001b[32m [repeated 4x across cluster]\u001b[0m\n",
      "\u001b[36m(RayTrainWorker pid=55774)\u001b[0m   | Name     | Type               | Params | Mode \u001b[32m [repeated 2x across cluster]\u001b[0m\n",
      "\u001b[36m(RayTrainWorker pid=55774)\u001b[0m --------------------------------------------------------\u001b[32m [repeated 4x across cluster]\u001b[0m\n",
      "\u001b[36m(RayTrainWorker pid=55774)\u001b[0m 0 | accuracy | MulticlassAccuracy | 0      | train\u001b[32m [repeated 2x across cluster]\u001b[0m\n",
      "\u001b[36m(RayTrainWorker pid=55774)\u001b[0m 4 | layer4   | Linear             | 1.3 K  | train\u001b[32m [repeated 8x across cluster]\u001b[0m\n",
      "\u001b[36m(RayTrainWorker pid=55774)\u001b[0m 5 | dropout  | Dropout            | 0      | train\u001b[32m [repeated 2x across cluster]\u001b[0m\n",
      "\u001b[36m(RayTrainWorker pid=55774)\u001b[0m 101 K     Trainable params\u001b[32m [repeated 2x across cluster]\u001b[0m\n",
      "\u001b[36m(RayTrainWorker pid=55774)\u001b[0m 0         Non-trainable params\u001b[32m [repeated 2x across cluster]\u001b[0m\n",
      "\u001b[36m(RayTrainWorker pid=55774)\u001b[0m 101 K     Total params\u001b[32m [repeated 2x across cluster]\u001b[0m\n",
      "\u001b[36m(RayTrainWorker pid=55774)\u001b[0m 0.404     Total estimated model params size (MB)\u001b[32m [repeated 2x across cluster]\u001b[0m\n",
      "\u001b[36m(RayTrainWorker pid=55774)\u001b[0m 6         Modules in train mode\u001b[32m [repeated 2x across cluster]\u001b[0m\n",
      "\u001b[36m(RayTrainWorker pid=55774)\u001b[0m 0         Modules in eval mode\u001b[32m [repeated 2x across cluster]\u001b[0m\n",
      "\u001b[36m(RayTrainWorker pid=55774)\u001b[0m /Users/sidharrthnagappan/.virtualenvs/lsdp_miniproject/lib/python3.11/site-packages/pytorch_lightning/trainer/connectors/data_connector.py:420: Consider setting `persistent_workers=True` in 'val_dataloader' to speed up the dataloader worker initialization.\u001b[32m [repeated 2x across cluster]\u001b[0m\n",
      "\u001b[36m(RayTrainWorker pid=55909)\u001b[0m Setting up process group for: env:// [rank=0, world_size=1]\n"
     ]
    },
    {
     "name": "stdout",
     "output_type": "stream",
     "text": [
      "\u001b[36m(RayTrainWorker pid=55909)\u001b[0m printing config {'layer_1_size': 32, 'layer_2_size': 256, 'layer_3_size': 512, 'dropout': 0.11993337335730632, 'batch_size': 64, 'learning_rate': 0.042333702941545745}\n",
      "\u001b[36m(RayTrainWorker pid=55774)\u001b[0m Downloading https://ossci-datasets.s3.amazonaws.com/mnist/t10k-labels-idx1-ubyte.gz\u001b[32m [repeated 10x across cluster]\u001b[0m\n",
      "\u001b[36m(RayTrainWorker pid=55774)\u001b[0m Failed to download (trying next):\u001b[32m [repeated 5x across cluster]\u001b[0m\n",
      "\u001b[36m(RayTrainWorker pid=55774)\u001b[0m HTTP Error 403: Forbidden\u001b[32m [repeated 5x across cluster]\u001b[0m\n",
      "\u001b[36m(RayTrainWorker pid=55774)\u001b[0m Downloading https://ossci-datasets.s3.amazonaws.com/mnist/t10k-labels-idx1-ubyte.gz to /var/folders/mf/cfzv46p15017stkscsq9jw9h0000gn/T/tmp3op2msxx/MNIST/raw/t10k-labels-idx1-ubyte.gz\u001b[32m [repeated 5x across cluster]\u001b[0m\n",
      "\u001b[36m(RayTrainWorker pid=55774)\u001b[0m Extracting /var/folders/mf/cfzv46p15017stkscsq9jw9h0000gn/T/tmp3op2msxx/MNIST/raw/t10k-labels-idx1-ubyte.gz to /var/folders/mf/cfzv46p15017stkscsq9jw9h0000gn/T/tmp3op2msxx/MNIST/raw\u001b[32m [repeated 8x across cluster]\u001b[0m\n"
     ]
    },
    {
     "name": "stderr",
     "output_type": "stream",
     "text": [
      "\u001b[36m(RayTrainWorker pid=55909)\u001b[0m GPU available: True (mps), used: False\n",
      "\u001b[36m(RayTrainWorker pid=55909)\u001b[0m TPU available: False, using: 0 TPU cores\n",
      "\u001b[36m(RayTrainWorker pid=55909)\u001b[0m HPU available: False, using: 0 HPUs\n",
      "\u001b[36m(RayTrainWorker pid=55909)\u001b[0m /Users/sidharrthnagappan/.virtualenvs/lsdp_miniproject/lib/python3.11/site-packages/pytorch_lightning/trainer/setup.py:177: GPU available but not used. You can set it by doing `Trainer(accelerator='gpu')`.\n",
      "\u001b[36m(RayTrainWorker pid=55909)\u001b[0m /Users/sidharrthnagappan/.virtualenvs/lsdp_miniproject/lib/python3.11/site-packages/pytorch_lightning/loops/utilities.py:73: `max_epochs` was not set. Setting it to 1000 epochs. To train without an epoch limit, set `max_epochs=-1`.\n"
     ]
    },
    {
     "name": "stdout",
     "output_type": "stream",
     "text": [
      "\u001b[36m(RayTrainWorker pid=55909)\u001b[0m \n"
     ]
    },
    {
     "name": "stderr",
     "output_type": "stream",
     "text": [
      "\u001b[36m(RayTrainWorker pid=55774)\u001b[0m /Users/sidharrthnagappan/.virtualenvs/lsdp_miniproject/lib/python3.11/site-packages/pytorch_lightning/trainer/connectors/data_connector.py:420: Consider setting `persistent_workers=True` in 'train_dataloader' to speed up the dataloader worker initialization.\u001b[32m [repeated 2x across cluster]\u001b[0m\n"
     ]
    },
    {
     "name": "stdout",
     "output_type": "stream",
     "text": [
      "\u001b[36m(RayTrainWorker pid=55909)\u001b[0m \n",
      "\u001b[36m(RayTrainWorker pid=55909)\u001b[0m \n",
      "\u001b[36m(RayTrainWorker pid=55909)\u001b[0m \n"
     ]
    },
    {
     "name": "stderr",
     "output_type": "stream",
     "text": [
      "100%|██████████| 28.9k/28.9k [00:00<00:00, 334kB/s]\u001b[32m [repeated 2x across cluster]\u001b[0m\n",
      "100%|██████████| 9.91M/9.91M [00:00<00:00, 10.7MB/s]\u001b[32m [repeated 7x across cluster]\u001b[0m\n"
     ]
    },
    {
     "name": "stdout",
     "output_type": "stream",
     "text": [
      "\u001b[36m(RayTrainWorker pid=55909)\u001b[0m \n"
     ]
    },
    {
     "name": "stderr",
     "output_type": "stream",
     "text": [
      "\u001b[36m(RayTrainWorker pid=55302)\u001b[0m Checkpoint successfully created at: Checkpoint(filesystem=local, path=/Users/sidharrthnagappan/ray_results/TorchTrainer_2024-12-24_17-34-19/TorchTrainer_4f4b8_00026_26_batch_size=32,dropout=0.2573,layer_1_size=128,layer_2_size=128,layer_3_size=128,learning_rate=0.0010_2024-12-24_17-34-21/checkpoint_000001)\n"
     ]
    },
    {
     "name": "stdout",
     "output_type": "stream",
     "text": [
      "\u001b[36m(RayTrainWorker pid=55909)\u001b[0m \n",
      "\u001b[36m(RayTrainWorker pid=55909)\u001b[0m Downloading http://yann.lecun.com/exdb/mnist/t10k-labels-idx1-ubyte.gz\u001b[32m [repeated 7x across cluster]\u001b[0m\n",
      "\u001b[36m(RayTrainWorker pid=55909)\u001b[0m Failed to download (trying next):\u001b[32m [repeated 3x across cluster]\u001b[0m\n",
      "\u001b[36m(RayTrainWorker pid=55909)\u001b[0m HTTP Error 403: Forbidden\u001b[32m [repeated 3x across cluster]\u001b[0m\n",
      "\u001b[36m(RayTrainWorker pid=55909)\u001b[0m Downloading https://ossci-datasets.s3.amazonaws.com/mnist/t10k-images-idx3-ubyte.gz to /var/folders/mf/cfzv46p15017stkscsq9jw9h0000gn/T/tmp0xrl8j88/MNIST/raw/t10k-images-idx3-ubyte.gz\u001b[32m [repeated 3x across cluster]\u001b[0m\n",
      "\u001b[36m(RayTrainWorker pid=55909)\u001b[0m Extracting /var/folders/mf/cfzv46p15017stkscsq9jw9h0000gn/T/tmp0xrl8j88/MNIST/raw/t10k-images-idx3-ubyte.gz to /var/folders/mf/cfzv46p15017stkscsq9jw9h0000gn/T/tmp0xrl8j88/MNIST/raw\u001b[32m [repeated 3x across cluster]\u001b[0m\n"
     ]
    },
    {
     "name": "stderr",
     "output_type": "stream",
     "text": [
      "100%|██████████| 1.65M/1.65M [00:00<00:00, 3.60MB/s]\n"
     ]
    },
    {
     "name": "stdout",
     "output_type": "stream",
     "text": [
      "\u001b[36m(RayTrainWorker pid=55909)\u001b[0m \n",
      "\u001b[36m(RayTrainWorker pid=55909)\u001b[0m \n"
     ]
    },
    {
     "name": "stderr",
     "output_type": "stream",
     "text": [
      "\u001b[36m(RayTrainWorker pid=55909)\u001b[0m \n",
      "\u001b[36m(RayTrainWorker pid=55909)\u001b[0m   | Name     | Type               | Params | Mode \n",
      "\u001b[36m(RayTrainWorker pid=55909)\u001b[0m --------------------------------------------------------\n",
      "\u001b[36m(RayTrainWorker pid=55909)\u001b[0m 0 | accuracy | MulticlassAccuracy | 0      | train\n",
      "\u001b[36m(RayTrainWorker pid=55909)\u001b[0m 1 | layer1   | Linear             | 25.1 K | train\n",
      "\u001b[36m(RayTrainWorker pid=55909)\u001b[0m 2 | layer2   | Linear             | 8.4 K  | train\n",
      "\u001b[36m(RayTrainWorker pid=55909)\u001b[0m 3 | layer3   | Linear             | 131 K  | train\n",
      "\u001b[36m(RayTrainWorker pid=55909)\u001b[0m 4 | layer4   | Linear             | 5.1 K  | train\n",
      "\u001b[36m(RayTrainWorker pid=55909)\u001b[0m 5 | dropout  | Dropout            | 0      | train\n",
      "\u001b[36m(RayTrainWorker pid=55909)\u001b[0m --------------------------------------------------------\n",
      "\u001b[36m(RayTrainWorker pid=55909)\u001b[0m 170 K     Trainable params\n",
      "\u001b[36m(RayTrainWorker pid=55909)\u001b[0m 0         Non-trainable params\n",
      "\u001b[36m(RayTrainWorker pid=55909)\u001b[0m 170 K     Total params\n",
      "\u001b[36m(RayTrainWorker pid=55909)\u001b[0m 0.681     Total estimated model params size (MB)\n",
      "\u001b[36m(RayTrainWorker pid=55909)\u001b[0m 6         Modules in train mode\n",
      "\u001b[36m(RayTrainWorker pid=55909)\u001b[0m 0         Modules in eval mode\n",
      "\u001b[36m(RayTrainWorker pid=55909)\u001b[0m /Users/sidharrthnagappan/.virtualenvs/lsdp_miniproject/lib/python3.11/site-packages/pytorch_lightning/trainer/connectors/data_connector.py:420: Consider setting `persistent_workers=True` in 'val_dataloader' to speed up the dataloader worker initialization.\n",
      "100%|██████████| 4.54k/4.54k [00:00<00:00, 541kB/s]\u001b[32m [repeated 2x across cluster]\u001b[0m\n",
      " 48%|████▊     | 786k/1.65M [00:00<00:00, 2.71MB/s]\u001b[32m [repeated 3x across cluster]\u001b[0m\n",
      "\u001b[36m(RayTrainWorker pid=55909)\u001b[0m /Users/sidharrthnagappan/.virtualenvs/lsdp_miniproject/lib/python3.11/site-packages/pytorch_lightning/trainer/connectors/data_connector.py:420: Consider setting `persistent_workers=True` in 'train_dataloader' to speed up the dataloader worker initialization.\n",
      "\u001b[36m(RayTrainWorker pid=55749)\u001b[0m Checkpoint successfully created at: Checkpoint(filesystem=local, path=/Users/sidharrthnagappan/ray_results/TorchTrainer_2024-12-24_17-34-19/TorchTrainer_4f4b8_00029_29_batch_size=32,dropout=0.2170,layer_1_size=64,layer_2_size=64,layer_3_size=256,learning_rate=0.0003_2024-12-24_17-34-21/checkpoint_000000)\u001b[32m [repeated 2x across cluster]\u001b[0m\n",
      "\u001b[36m(RayTrainWorker pid=55748)\u001b[0m Traceback (most recent call last):\n",
      "\u001b[36m(RayTrainWorker pid=55748)\u001b[0m   File \"<string>\", line 1, in <module>\n",
      "\u001b[36m(RayTrainWorker pid=55748)\u001b[0m   File \"/Users/sidharrthnagappan/.pyenv/versions/3.11.0/lib/python3.11/multiprocessing/spawn.py\", line 120, in spawn_main\n",
      "\u001b[36m(RayTrainWorker pid=55748)\u001b[0m     exitcode = _main(fd, parent_sentinel)\n",
      "\u001b[36m(RayTrainWorker pid=55748)\u001b[0m                ^^^^^^^^^^^^^^^^^^^^^^^^^^\n",
      "\u001b[36m(RayTrainWorker pid=55748)\u001b[0m   File \"/Users/sidharrthnagappan/.pyenv/versions/3.11.0/lib/python3.11/multiprocessing/spawn.py\", line 130, in _main\n",
      "\u001b[36m(RayTrainWorker pid=55748)\u001b[0m     self = reduction.pickle.load(from_parent)\n",
      "\u001b[36m(RayTrainWorker pid=55748)\u001b[0m            ^^^^^^^^^^^^^^^^^^^^^^^^^^^^^^^^^^\n",
      "\u001b[36m(RayTrainWorker pid=55748)\u001b[0m _pickle.UnpicklingError: pickle data was truncated\n",
      "\u001b[36m(RayTrainWorker pid=55774)\u001b[0m Checkpoint successfully created at: Checkpoint(filesystem=local, path=/Users/sidharrthnagappan/ray_results/TorchTrainer_2024-12-24_17-34-19/TorchTrainer_4f4b8_00030_30_batch_size=128,dropout=0.1267,layer_1_size=64,layer_2_size=256,layer_3_size=128,learning_rate=0.0072_2024-12-24_17-34-21/checkpoint_000001)\u001b[32m [repeated 2x across cluster]\u001b[0m\n",
      "\u001b[36m(RayTrainWorker pid=55748)\u001b[0m /Users/sidharrthnagappan/.pyenv/versions/3.11.0/lib/python3.11/multiprocessing/resource_tracker.py:224: UserWarning: resource_tracker: There appear to be 55 leaked semaphore objects to clean up at shutdown\n",
      "\u001b[36m(RayTrainWorker pid=55748)\u001b[0m   warnings.warn('resource_tracker: There appear to be %d '\n",
      "\u001b[36m(RayTrainWorker pid=55774)\u001b[0m Traceback (most recent call last):\n",
      "\u001b[36m(RayTrainWorker pid=55774)\u001b[0m   File \"<string>\", line 1, in <module>\n",
      "\u001b[36m(RayTrainWorker pid=55774)\u001b[0m   File \"/Users/sidharrthnagappan/.pyenv/versions/3.11.0/lib/python3.11/multiprocessing/spawn.py\", line 120, in spawn_main\n",
      "\u001b[36m(RayTrainWorker pid=55774)\u001b[0m     exitcode = _main(fd, parent_sentinel)\n",
      "\u001b[36m(RayTrainWorker pid=55774)\u001b[0m                ^^^^^^^^^^^^^^^^^^^^^^^^^^\n",
      "\u001b[36m(RayTrainWorker pid=55774)\u001b[0m   File \"/Users/sidharrthnagappan/.pyenv/versions/3.11.0/lib/python3.11/multiprocessing/spawn.py\", line 130, in _main\n",
      "\u001b[36m(RayTrainWorker pid=55774)\u001b[0m     self = reduction.pickle.load(from_parent)\n",
      "\u001b[36m(RayTrainWorker pid=55774)\u001b[0m            ^^^^^^^^^^^^^^^^^^^^^^^^^^^^^^^^^^\n",
      "\u001b[36m(RayTrainWorker pid=55774)\u001b[0m _pickle.UnpicklingError: pickle data was truncated\n",
      "\u001b[36m(RayTrainWorker pid=55909)\u001b[0m Checkpoint successfully created at: Checkpoint(filesystem=local, path=/Users/sidharrthnagappan/ray_results/TorchTrainer_2024-12-24_17-34-19/TorchTrainer_4f4b8_00031_31_batch_size=64,dropout=0.1199,layer_1_size=32,layer_2_size=256,layer_3_size=512,learning_rate=0.0423_2024-12-24_17-34-21/checkpoint_000000)\n",
      "\u001b[36m(RayTrainWorker pid=55909)\u001b[0m Traceback (most recent call last):\n",
      "\u001b[36m(RayTrainWorker pid=55909)\u001b[0m   File \"<string>\", line 1, in <module>\n",
      "\u001b[36m(RayTrainWorker pid=55909)\u001b[0m   File \"/Users/sidharrthnagappan/.pyenv/versions/3.11.0/lib/python3.11/multiprocessing/spawn.py\", line 120, in spawn_main\n",
      "\u001b[36m(RayTrainWorker pid=55909)\u001b[0m     exitcode = _main(fd, parent_sentinel)\n",
      "\u001b[36m(RayTrainWorker pid=55909)\u001b[0m                ^^^^^^^^^^^^^^^^^^^^^^^^^^\n",
      "\u001b[36m(RayTrainWorker pid=55909)\u001b[0m   File \"/Users/sidharrthnagappan/.pyenv/versions/3.11.0/lib/python3.11/multiprocessing/spawn.py\", line 130, in _main\n",
      "\u001b[36m(RayTrainWorker pid=55909)\u001b[0m     self = reduction.pickle.load(from_parent)\n",
      "\u001b[36m(RayTrainWorker pid=55909)\u001b[0m            ^^^^^^^^^^^^^^^^^^^^^^^^^^^^^^^^^^\n",
      "\u001b[36m(RayTrainWorker pid=55909)\u001b[0m _pickle.UnpicklingError: pickle data was truncated\n",
      "\u001b[36m(RayTrainWorker pid=55302)\u001b[0m Checkpoint successfully created at: Checkpoint(filesystem=local, path=/Users/sidharrthnagappan/ray_results/TorchTrainer_2024-12-24_17-34-19/TorchTrainer_4f4b8_00026_26_batch_size=32,dropout=0.2573,layer_1_size=128,layer_2_size=128,layer_3_size=128,learning_rate=0.0010_2024-12-24_17-34-21/checkpoint_000002)\n",
      "\u001b[36m(TorchTrainer pid=56302)\u001b[0m Started distributed worker processes: \n",
      "\u001b[36m(TorchTrainer pid=56302)\u001b[0m - (node_id=7cc2334a334327f410131b140fb9ad2ae54820f537299598f92261b4, ip=127.0.0.1, pid=56410) world_rank=0, local_rank=0, node_rank=0\n",
      "\u001b[36m(RayTrainWorker pid=55774)\u001b[0m /Users/sidharrthnagappan/.pyenv/versions/3.11.0/lib/python3.11/multiprocessing/resource_tracker.py:224: UserWarning: resource_tracker: There appear to be 55 leaked semaphore objects to clean up at shutdown\n",
      "\u001b[36m(RayTrainWorker pid=55774)\u001b[0m   warnings.warn('resource_tracker: There appear to be %d '\n",
      "\u001b[36m(RayTrainWorker pid=56410)\u001b[0m Setting up process group for: env:// [rank=0, world_size=1]\n"
     ]
    },
    {
     "name": "stdout",
     "output_type": "stream",
     "text": [
      "\u001b[36m(RayTrainWorker pid=56410)\u001b[0m printing config {'layer_1_size': 128, 'layer_2_size': 64, 'layer_3_size': 512, 'dropout': 0.11368157681297185, 'batch_size': 64, 'learning_rate': 0.029065376897065908}\n",
      "\u001b[36m(RayTrainWorker pid=55909)\u001b[0m Downloading https://ossci-datasets.s3.amazonaws.com/mnist/t10k-labels-idx1-ubyte.gz\n",
      "\u001b[36m(RayTrainWorker pid=55909)\u001b[0m Failed to download (trying next):\n",
      "\u001b[36m(RayTrainWorker pid=55909)\u001b[0m HTTP Error 403: Forbidden\n",
      "\u001b[36m(RayTrainWorker pid=55909)\u001b[0m Downloading https://ossci-datasets.s3.amazonaws.com/mnist/t10k-labels-idx1-ubyte.gz to /var/folders/mf/cfzv46p15017stkscsq9jw9h0000gn/T/tmp0xrl8j88/MNIST/raw/t10k-labels-idx1-ubyte.gz\n",
      "\u001b[36m(RayTrainWorker pid=55909)\u001b[0m Extracting /var/folders/mf/cfzv46p15017stkscsq9jw9h0000gn/T/tmp0xrl8j88/MNIST/raw/t10k-labels-idx1-ubyte.gz to /var/folders/mf/cfzv46p15017stkscsq9jw9h0000gn/T/tmp0xrl8j88/MNIST/raw\n",
      "\u001b[36m(RayTrainWorker pid=56410)\u001b[0m Downloading http://yann.lecun.com/exdb/mnist/train-images-idx3-ubyte.gz\n"
     ]
    },
    {
     "name": "stderr",
     "output_type": "stream",
     "text": [
      "\u001b[36m(RayTrainWorker pid=56410)\u001b[0m GPU available: True (mps), used: False\n",
      "\u001b[36m(RayTrainWorker pid=56410)\u001b[0m TPU available: False, using: 0 TPU cores\n",
      "\u001b[36m(RayTrainWorker pid=56410)\u001b[0m HPU available: False, using: 0 HPUs\n",
      "\u001b[36m(RayTrainWorker pid=56410)\u001b[0m /Users/sidharrthnagappan/.virtualenvs/lsdp_miniproject/lib/python3.11/site-packages/pytorch_lightning/trainer/setup.py:177: GPU available but not used. You can set it by doing `Trainer(accelerator='gpu')`.\n",
      "\u001b[36m(RayTrainWorker pid=56410)\u001b[0m /Users/sidharrthnagappan/.virtualenvs/lsdp_miniproject/lib/python3.11/site-packages/pytorch_lightning/loops/utilities.py:73: `max_epochs` was not set. Setting it to 1000 epochs. To train without an epoch limit, set `max_epochs=-1`.\n"
     ]
    },
    {
     "name": "stdout",
     "output_type": "stream",
     "text": [
      "\u001b[36m(RayTrainWorker pid=56410)\u001b[0m Failed to download (trying next):\n",
      "\u001b[36m(RayTrainWorker pid=56410)\u001b[0m HTTP Error 403: Forbidden\n",
      "\u001b[36m(RayTrainWorker pid=56410)\u001b[0m \n",
      "\u001b[36m(RayTrainWorker pid=56410)\u001b[0m Downloading https://ossci-datasets.s3.amazonaws.com/mnist/train-images-idx3-ubyte.gz\n",
      "\u001b[36m(RayTrainWorker pid=56410)\u001b[0m Downloading https://ossci-datasets.s3.amazonaws.com/mnist/train-images-idx3-ubyte.gz to /var/folders/mf/cfzv46p15017stkscsq9jw9h0000gn/T/tmpurwzkfl9/MNIST/raw/train-images-idx3-ubyte.gz\n"
     ]
    },
    {
     "name": "stderr",
     "output_type": "stream",
     "text": [
      "  0%|          | 0.00/9.91M [00:00<?, ?B/s]\n",
      "  1%|          | 65.5k/9.91M [00:00<00:24, 395kB/s]\n",
      "  3%|▎         | 262k/9.91M [00:00<00:11, 853kB/s] \n",
      " 11%|█         | 1.05M/9.91M [00:00<00:03, 2.58MB/s]\n",
      " 15%|█▍        | 1.44M/9.91M [00:00<00:02, 2.93MB/s]\n",
      " 42%|████▏     | 4.13M/9.91M [00:00<00:00, 8.30MB/s]\n",
      " 54%|█████▍    | 5.34M/9.91M [00:00<00:00, 9.28MB/s]\n",
      " 70%|██████▉   | 6.91M/9.91M [00:00<00:00, 11.0MB/s]\n",
      " 84%|████████▎ | 8.29M/9.91M [00:01<00:00, 10.6MB/s]\n",
      " 96%|█████████▌| 9.50M/9.91M [00:01<00:00, 10.9MB/s]\n",
      "100%|██████████| 9.91M/9.91M [00:01<00:00, 8.05MB/s]\n"
     ]
    },
    {
     "name": "stdout",
     "output_type": "stream",
     "text": [
      "\u001b[36m(RayTrainWorker pid=56410)\u001b[0m Extracting /var/folders/mf/cfzv46p15017stkscsq9jw9h0000gn/T/tmpurwzkfl9/MNIST/raw/train-images-idx3-ubyte.gz to /var/folders/mf/cfzv46p15017stkscsq9jw9h0000gn/T/tmpurwzkfl9/MNIST/raw\n",
      "\u001b[36m(RayTrainWorker pid=56410)\u001b[0m \n",
      "\u001b[36m(RayTrainWorker pid=56410)\u001b[0m Downloading http://yann.lecun.com/exdb/mnist/train-labels-idx1-ubyte.gz\n",
      "\u001b[36m(RayTrainWorker pid=56410)\u001b[0m Failed to download (trying next):\n",
      "\u001b[36m(RayTrainWorker pid=56410)\u001b[0m HTTP Error 403: Forbidden\n",
      "\u001b[36m(RayTrainWorker pid=56410)\u001b[0m \n",
      "\u001b[36m(RayTrainWorker pid=56410)\u001b[0m Downloading https://ossci-datasets.s3.amazonaws.com/mnist/train-labels-idx1-ubyte.gz to /var/folders/mf/cfzv46p15017stkscsq9jw9h0000gn/T/tmpurwzkfl9/MNIST/raw/train-labels-idx1-ubyte.gz\n",
      "\u001b[36m(RayTrainWorker pid=56481)\u001b[0m \n"
     ]
    },
    {
     "name": "stderr",
     "output_type": "stream",
     "text": [
      "\u001b[36m(RayTrainWorker pid=55909)\u001b[0m /Users/sidharrthnagappan/.pyenv/versions/3.11.0/lib/python3.11/multiprocessing/resource_tracker.py:224: UserWarning: resource_tracker: There appear to be 55 leaked semaphore objects to clean up at shutdown\n",
      "\u001b[36m(RayTrainWorker pid=55909)\u001b[0m   warnings.warn('resource_tracker: There appear to be %d '\n",
      "  0%|          | 0.00/28.9k [00:00<?, ?B/s]\n",
      "100%|██████████| 28.9k/28.9k [00:00<00:00, 341kB/s]\n"
     ]
    },
    {
     "name": "stdout",
     "output_type": "stream",
     "text": [
      "\u001b[36m(RayTrainWorker pid=56410)\u001b[0m Extracting /var/folders/mf/cfzv46p15017stkscsq9jw9h0000gn/T/tmpurwzkfl9/MNIST/raw/train-labels-idx1-ubyte.gz to /var/folders/mf/cfzv46p15017stkscsq9jw9h0000gn/T/tmpurwzkfl9/MNIST/raw\n",
      "\u001b[36m(RayTrainWorker pid=56410)\u001b[0m \n"
     ]
    },
    {
     "name": "stderr",
     "output_type": "stream",
     "text": [
      "\u001b[36m(TorchTrainer pid=56369)\u001b[0m Started distributed worker processes: \n",
      "\u001b[36m(TorchTrainer pid=56369)\u001b[0m - (node_id=7cc2334a334327f410131b140fb9ad2ae54820f537299598f92261b4, ip=127.0.0.1, pid=56481) world_rank=0, local_rank=0, node_rank=0\n",
      "\u001b[36m(RayTrainWorker pid=56481)\u001b[0m Setting up process group for: env:// [rank=0, world_size=1]\n"
     ]
    },
    {
     "name": "stdout",
     "output_type": "stream",
     "text": [
      "\u001b[36m(RayTrainWorker pid=56410)\u001b[0m \n"
     ]
    },
    {
     "name": "stderr",
     "output_type": "stream",
     "text": [
      "\u001b[36m(RayTrainWorker pid=55749)\u001b[0m Checkpoint successfully created at: Checkpoint(filesystem=local, path=/Users/sidharrthnagappan/ray_results/TorchTrainer_2024-12-24_17-34-19/TorchTrainer_4f4b8_00029_29_batch_size=32,dropout=0.2170,layer_1_size=64,layer_2_size=64,layer_3_size=256,learning_rate=0.0003_2024-12-24_17-34-21/checkpoint_000001)\n",
      "\u001b[36m(RayTrainWorker pid=55749)\u001b[0m Traceback (most recent call last):\n",
      "\u001b[36m(RayTrainWorker pid=55749)\u001b[0m   File \"<string>\", line 1, in <module>\n",
      "\u001b[36m(RayTrainWorker pid=55749)\u001b[0m   File \"/Users/sidharrthnagappan/.pyenv/versions/3.11.0/lib/python3.11/multiprocessing/spawn.py\", line 120, in spawn_main\n",
      "\u001b[36m(RayTrainWorker pid=55749)\u001b[0m     exitcode = _main(fd, parent_sentinel)\n",
      "\u001b[36m(RayTrainWorker pid=55749)\u001b[0m                ^^^^^^^^^^^^^^^^^^^^^^^^^^\n",
      "\u001b[36m(RayTrainWorker pid=55749)\u001b[0m   File \"/Users/sidharrthnagappan/.pyenv/versions/3.11.0/lib/python3.11/multiprocessing/spawn.py\", line 130, in _main\n",
      "\u001b[36m(RayTrainWorker pid=55749)\u001b[0m     self = reduction.pickle.load(from_parent)\n",
      "\u001b[36m(RayTrainWorker pid=55749)\u001b[0m            ^^^^^^^^^^^^^^^^^^^^^^^^^^^^^^^^^^\n",
      "\u001b[36m(RayTrainWorker pid=55749)\u001b[0m _pickle.UnpicklingError: pickle data was truncated\n",
      "\u001b[36m(RayTrainWorker pid=56481)\u001b[0m GPU available: True (mps), used: False\n",
      "\u001b[36m(RayTrainWorker pid=56481)\u001b[0m TPU available: False, using: 0 TPU cores\n",
      "\u001b[36m(RayTrainWorker pid=56481)\u001b[0m HPU available: False, using: 0 HPUs\n",
      "\u001b[36m(RayTrainWorker pid=56481)\u001b[0m /Users/sidharrthnagappan/.virtualenvs/lsdp_miniproject/lib/python3.11/site-packages/pytorch_lightning/trainer/setup.py:177: GPU available but not used. You can set it by doing `Trainer(accelerator='gpu')`.\n",
      "\u001b[36m(RayTrainWorker pid=56481)\u001b[0m /Users/sidharrthnagappan/.virtualenvs/lsdp_miniproject/lib/python3.11/site-packages/pytorch_lightning/loops/utilities.py:73: `max_epochs` was not set. Setting it to 1000 epochs. To train without an epoch limit, set `max_epochs=-1`.\n"
     ]
    },
    {
     "name": "stdout",
     "output_type": "stream",
     "text": [
      "\u001b[36m(RayTrainWorker pid=56481)\u001b[0m \n",
      "\u001b[36m(RayTrainWorker pid=56410)\u001b[0m \n",
      "\u001b[36m(RayTrainWorker pid=56481)\u001b[0m printing config {'layer_1_size': 32, 'layer_2_size': 64, 'layer_3_size': 512, 'dropout': 0.21635566512546026, 'batch_size': 128, 'learning_rate': 0.0009346762863871827}\n",
      "\u001b[36m(RayTrainWorker pid=56410)\u001b[0m Downloading http://yann.lecun.com/exdb/mnist/t10k-labels-idx1-ubyte.gz\u001b[32m [repeated 7x across cluster]\u001b[0m\n",
      "\u001b[36m(RayTrainWorker pid=56481)\u001b[0m \n"
     ]
    },
    {
     "name": "stderr",
     "output_type": "stream",
     "text": [
      "100%|██████████| 1.65M/1.65M [00:00<00:00, 3.23MB/s]\n",
      "\u001b[36m(TorchTrainer pid=56482)\u001b[0m Started distributed worker processes: \n",
      "\u001b[36m(TorchTrainer pid=56482)\u001b[0m - (node_id=7cc2334a334327f410131b140fb9ad2ae54820f537299598f92261b4, ip=127.0.0.1, pid=56542) world_rank=0, local_rank=0, node_rank=0\n",
      "\u001b[36m(RayTrainWorker pid=56542)\u001b[0m Setting up process group for: env:// [rank=0, world_size=1]\n"
     ]
    },
    {
     "name": "stdout",
     "output_type": "stream",
     "text": [
      "\u001b[36m(RayTrainWorker pid=56481)\u001b[0m Failed to download (trying next):\u001b[32m [repeated 3x across cluster]\u001b[0m\n",
      "\u001b[36m(RayTrainWorker pid=56481)\u001b[0m HTTP Error 403: Forbidden\u001b[32m [repeated 3x across cluster]\u001b[0m\n",
      "\u001b[36m(RayTrainWorker pid=56410)\u001b[0m \n",
      "\u001b[36m(RayTrainWorker pid=56481)\u001b[0m Downloading https://ossci-datasets.s3.amazonaws.com/mnist/train-labels-idx1-ubyte.gz to /var/folders/mf/cfzv46p15017stkscsq9jw9h0000gn/T/tmp6xuf7bsb/MNIST/raw/train-labels-idx1-ubyte.gz\u001b[32m [repeated 3x across cluster]\u001b[0m\n"
     ]
    },
    {
     "name": "stderr",
     "output_type": "stream",
     "text": [
      "100%|██████████| 28.9k/28.9k [00:00<00:00, 332kB/s]\n"
     ]
    },
    {
     "name": "stdout",
     "output_type": "stream",
     "text": [
      "\u001b[36m(RayTrainWorker pid=56481)\u001b[0m \n"
     ]
    },
    {
     "name": "stderr",
     "output_type": "stream",
     "text": [
      "\u001b[36m(RayTrainWorker pid=56542)\u001b[0m GPU available: True (mps), used: False\n",
      "\u001b[36m(RayTrainWorker pid=56542)\u001b[0m TPU available: False, using: 0 TPU cores\n",
      "\u001b[36m(RayTrainWorker pid=56542)\u001b[0m HPU available: False, using: 0 HPUs\n",
      "\u001b[36m(RayTrainWorker pid=56542)\u001b[0m /Users/sidharrthnagappan/.virtualenvs/lsdp_miniproject/lib/python3.11/site-packages/pytorch_lightning/trainer/setup.py:177: GPU available but not used. You can set it by doing `Trainer(accelerator='gpu')`.\n",
      "\u001b[36m(RayTrainWorker pid=56542)\u001b[0m /Users/sidharrthnagappan/.virtualenvs/lsdp_miniproject/lib/python3.11/site-packages/pytorch_lightning/loops/utilities.py:73: `max_epochs` was not set. Setting it to 1000 epochs. To train without an epoch limit, set `max_epochs=-1`.\n",
      "  0%|          | 0.00/28.9k [00:00<?, ?B/s]\u001b[32m [repeated 3x across cluster]\u001b[0m\n",
      " 22%|██▏       | 360k/1.65M [00:00<00:01, 1.19MB/s]\u001b[32m [repeated 9x across cluster]\u001b[0m\n",
      "\u001b[36m(RayTrainWorker pid=56410)\u001b[0m \n",
      "\u001b[36m(RayTrainWorker pid=56410)\u001b[0m   | Name     | Type               | Params | Mode \n",
      "\u001b[36m(RayTrainWorker pid=56410)\u001b[0m --------------------------------------------------------\n",
      "\u001b[36m(RayTrainWorker pid=56410)\u001b[0m 0 | accuracy | MulticlassAccuracy | 0      | train\n",
      "\u001b[36m(RayTrainWorker pid=56410)\u001b[0m 1 | layer1   | Linear             | 100 K  | train\n",
      "\u001b[36m(RayTrainWorker pid=56410)\u001b[0m 2 | layer2   | Linear             | 8.3 K  | train\n",
      "\u001b[36m(RayTrainWorker pid=56410)\u001b[0m 3 | layer3   | Linear             | 33.3 K | train\n",
      "\u001b[36m(RayTrainWorker pid=56410)\u001b[0m 4 | layer4   | Linear             | 5.1 K  | train\n",
      "\u001b[36m(RayTrainWorker pid=56410)\u001b[0m 5 | dropout  | Dropout            | 0      | train\n",
      "\u001b[36m(RayTrainWorker pid=56410)\u001b[0m --------------------------------------------------------\n",
      "\u001b[36m(RayTrainWorker pid=56410)\u001b[0m 147 K     Trainable params\n",
      "\u001b[36m(RayTrainWorker pid=56410)\u001b[0m 0         Non-trainable params\n",
      "\u001b[36m(RayTrainWorker pid=56410)\u001b[0m 147 K     Total params\n",
      "\u001b[36m(RayTrainWorker pid=56410)\u001b[0m 0.589     Total estimated model params size (MB)\n",
      "\u001b[36m(RayTrainWorker pid=56410)\u001b[0m 6         Modules in train mode\n",
      "\u001b[36m(RayTrainWorker pid=56410)\u001b[0m 0         Modules in eval mode\n",
      "\u001b[36m(RayTrainWorker pid=56410)\u001b[0m /Users/sidharrthnagappan/.virtualenvs/lsdp_miniproject/lib/python3.11/site-packages/pytorch_lightning/trainer/connectors/data_connector.py:420: Consider setting `persistent_workers=True` in 'val_dataloader' to speed up the dataloader worker initialization.\n"
     ]
    },
    {
     "name": "stdout",
     "output_type": "stream",
     "text": [
      "\u001b[36m(RayTrainWorker pid=56542)\u001b[0m printing config {'layer_1_size': 128, 'layer_2_size': 64, 'layer_3_size': 128, 'dropout': 0.2389097471313951, 'batch_size': 128, 'learning_rate': 0.00245666823916289}\n",
      "\u001b[36m(RayTrainWorker pid=56410)\u001b[0m \n",
      "\u001b[36m(RayTrainWorker pid=56481)\u001b[0m \n",
      "\u001b[36m(RayTrainWorker pid=56542)\u001b[0m \n"
     ]
    },
    {
     "name": "stderr",
     "output_type": "stream",
     "text": [
      "100%|██████████| 1.65M/1.65M [00:00<00:00, 3.18MB/s]\n"
     ]
    },
    {
     "name": "stdout",
     "output_type": "stream",
     "text": [
      "\u001b[36m(RayTrainWorker pid=56481)\u001b[0m \n",
      "\u001b[36m(RayTrainWorker pid=56481)\u001b[0m Extracting /var/folders/mf/cfzv46p15017stkscsq9jw9h0000gn/T/tmp6xuf7bsb/MNIST/raw/t10k-images-idx3-ubyte.gz to /var/folders/mf/cfzv46p15017stkscsq9jw9h0000gn/T/tmp6xuf7bsb/MNIST/raw\u001b[32m [repeated 5x across cluster]\u001b[0m\n",
      "\u001b[36m(RayTrainWorker pid=56481)\u001b[0m \n"
     ]
    },
    {
     "name": "stderr",
     "output_type": "stream",
     "text": [
      "100%|██████████| 9.91M/9.91M [00:01<00:00, 8.53MB/s]\n"
     ]
    },
    {
     "name": "stdout",
     "output_type": "stream",
     "text": [
      "\u001b[36m(RayTrainWorker pid=56542)\u001b[0m \n",
      "\u001b[36m(RayTrainWorker pid=56481)\u001b[0m \n"
     ]
    },
    {
     "name": "stderr",
     "output_type": "stream",
     "text": [
      "\u001b[36m(RayTrainWorker pid=56481)\u001b[0m \n"
     ]
    },
    {
     "name": "stdout",
     "output_type": "stream",
     "text": [
      "\u001b[36m(RayTrainWorker pid=56542)\u001b[0m \n"
     ]
    },
    {
     "name": "stderr",
     "output_type": "stream",
     "text": [
      "\u001b[36m(RayTrainWorker pid=56410)\u001b[0m /Users/sidharrthnagappan/.virtualenvs/lsdp_miniproject/lib/python3.11/site-packages/pytorch_lightning/trainer/connectors/data_connector.py:420: Consider setting `persistent_workers=True` in 'train_dataloader' to speed up the dataloader worker initialization.\n"
     ]
    },
    {
     "name": "stdout",
     "output_type": "stream",
     "text": [
      "\u001b[36m(RayTrainWorker pid=56542)\u001b[0m \n",
      "\u001b[36m(RayTrainWorker pid=56542)\u001b[0m \n",
      "\u001b[36m(RayTrainWorker pid=56542)\u001b[0m Downloading https://ossci-datasets.s3.amazonaws.com/mnist/t10k-images-idx3-ubyte.gz\u001b[32m [repeated 12x across cluster]\u001b[0m\n"
     ]
    },
    {
     "name": "stderr",
     "output_type": "stream",
     "text": [
      "\u001b[36m(RayTrainWorker pid=55749)\u001b[0m /Users/sidharrthnagappan/.pyenv/versions/3.11.0/lib/python3.11/multiprocessing/resource_tracker.py:224: UserWarning: resource_tracker: There appear to be 55 leaked semaphore objects to clean up at shutdown\n",
      "\u001b[36m(RayTrainWorker pid=55749)\u001b[0m   warnings.warn('resource_tracker: There appear to be %d '\n"
     ]
    },
    {
     "name": "stdout",
     "output_type": "stream",
     "text": [
      "\u001b[36m(RayTrainWorker pid=56542)\u001b[0m Failed to download (trying next):\u001b[32m [repeated 6x across cluster]\u001b[0m\n",
      "\u001b[36m(RayTrainWorker pid=56542)\u001b[0m HTTP Error 403: Forbidden\u001b[32m [repeated 6x across cluster]\u001b[0m\n"
     ]
    },
    {
     "name": "stderr",
     "output_type": "stream",
     "text": [
      "\u001b[36m(RayTrainWorker pid=55302)\u001b[0m Checkpoint successfully created at: Checkpoint(filesystem=local, path=/Users/sidharrthnagappan/ray_results/TorchTrainer_2024-12-24_17-34-19/TorchTrainer_4f4b8_00026_26_batch_size=32,dropout=0.2573,layer_1_size=128,layer_2_size=128,layer_3_size=128,learning_rate=0.0010_2024-12-24_17-34-21/checkpoint_000003)\n",
      "  0%|          | 0.00/1.65M [00:00<?, ?B/s]\u001b[32m [repeated 6x across cluster]\u001b[0m\n",
      " 46%|████▌     | 754k/1.65M [00:00<00:00, 2.23MB/s]\u001b[32m [repeated 13x across cluster]\u001b[0m\n",
      "\u001b[36m(RayTrainWorker pid=55302)\u001b[0m Traceback (most recent call last):\n",
      "\u001b[36m(RayTrainWorker pid=55302)\u001b[0m   File \"<string>\", line 1, in <module>\n",
      "\u001b[36m(RayTrainWorker pid=55302)\u001b[0m   File \"/Users/sidharrthnagappan/.pyenv/versions/3.11.0/lib/python3.11/multiprocessing/spawn.py\", line 120, in spawn_main\n",
      "\u001b[36m(RayTrainWorker pid=55302)\u001b[0m     exitcode = _main(fd, parent_sentinel)\n",
      "\u001b[36m(RayTrainWorker pid=55302)\u001b[0m                ^^^^^^^^^^^^^^^^^^^^^^^^^^\n",
      "\u001b[36m(RayTrainWorker pid=55302)\u001b[0m   File \"/Users/sidharrthnagappan/.pyenv/versions/3.11.0/lib/python3.11/multiprocessing/spawn.py\", line 130, in _main\n",
      "\u001b[36m(RayTrainWorker pid=55302)\u001b[0m     self = reduction.pickle.load(from_parent)\n",
      "\u001b[36m(RayTrainWorker pid=55302)\u001b[0m            ^^^^^^^^^^^^^^^^^^^^^^^^^^^^^^^^^^\n",
      "\u001b[36m(RayTrainWorker pid=55302)\u001b[0m _pickle.UnpicklingError: pickle data was truncated\n",
      "\u001b[36m(RayTrainWorker pid=56481)\u001b[0m   | Name     | Type               | Params | Mode \n",
      "\u001b[36m(RayTrainWorker pid=56481)\u001b[0m --------------------------------------------------------\u001b[32m [repeated 2x across cluster]\u001b[0m\n",
      "\u001b[36m(RayTrainWorker pid=56481)\u001b[0m 0 | accuracy | MulticlassAccuracy | 0      | train\n",
      "\u001b[36m(RayTrainWorker pid=56481)\u001b[0m 4 | layer4   | Linear             | 5.1 K  | train\u001b[32m [repeated 4x across cluster]\u001b[0m\n",
      "\u001b[36m(RayTrainWorker pid=56481)\u001b[0m 5 | dropout  | Dropout            | 0      | train\n",
      "\u001b[36m(RayTrainWorker pid=56481)\u001b[0m 65.6 K    Trainable params\n",
      "\u001b[36m(RayTrainWorker pid=56481)\u001b[0m 0         Non-trainable params\n",
      "\u001b[36m(RayTrainWorker pid=56481)\u001b[0m 65.6 K    Total params\n",
      "\u001b[36m(RayTrainWorker pid=56481)\u001b[0m 0.263     Total estimated model params size (MB)\n",
      "\u001b[36m(RayTrainWorker pid=56481)\u001b[0m 6         Modules in train mode\n",
      "\u001b[36m(RayTrainWorker pid=56481)\u001b[0m 0         Modules in eval mode\n",
      "\u001b[36m(RayTrainWorker pid=56481)\u001b[0m /Users/sidharrthnagappan/.virtualenvs/lsdp_miniproject/lib/python3.11/site-packages/pytorch_lightning/trainer/connectors/data_connector.py:420: Consider setting `persistent_workers=True` in 'val_dataloader' to speed up the dataloader worker initialization.\n",
      "100%|██████████| 1.65M/1.65M [00:00<00:00, 3.27MB/s]\n"
     ]
    },
    {
     "name": "stdout",
     "output_type": "stream",
     "text": [
      "\u001b[36m(RayTrainWorker pid=56542)\u001b[0m \n",
      "\u001b[36m(RayTrainWorker pid=56542)\u001b[0m Downloading https://ossci-datasets.s3.amazonaws.com/mnist/t10k-images-idx3-ubyte.gz to /var/folders/mf/cfzv46p15017stkscsq9jw9h0000gn/T/tmpr16z8p18/MNIST/raw/t10k-images-idx3-ubyte.gz\u001b[32m [repeated 6x across cluster]\u001b[0m\n",
      "\u001b[36m(RayTrainWorker pid=56542)\u001b[0m \n"
     ]
    },
    {
     "name": "stderr",
     "output_type": "stream",
     "text": [
      "\u001b[36m(RayTrainWorker pid=56542)\u001b[0m \n",
      "\u001b[36m(RayTrainWorker pid=56542)\u001b[0m   | Name     | Type               | Params | Mode \n",
      "\u001b[36m(RayTrainWorker pid=56542)\u001b[0m 0 | accuracy | MulticlassAccuracy | 0      | train\n",
      "\u001b[36m(RayTrainWorker pid=56542)\u001b[0m 5 | dropout  | Dropout            | 0      | train\n",
      "\u001b[36m(RayTrainWorker pid=56542)\u001b[0m 118 K     Trainable params\n",
      "\u001b[36m(RayTrainWorker pid=56542)\u001b[0m 0         Non-trainable params\n",
      "\u001b[36m(RayTrainWorker pid=56542)\u001b[0m 118 K     Total params\n",
      "\u001b[36m(RayTrainWorker pid=56542)\u001b[0m 0.473     Total estimated model params size (MB)\n",
      "\u001b[36m(RayTrainWorker pid=56542)\u001b[0m 6         Modules in train mode\n",
      "\u001b[36m(RayTrainWorker pid=56542)\u001b[0m 0         Modules in eval mode\n",
      "\u001b[36m(RayTrainWorker pid=56542)\u001b[0m /Users/sidharrthnagappan/.virtualenvs/lsdp_miniproject/lib/python3.11/site-packages/pytorch_lightning/trainer/connectors/data_connector.py:420: Consider setting `persistent_workers=True` in 'val_dataloader' to speed up the dataloader worker initialization.\n"
     ]
    },
    {
     "name": "stdout",
     "output_type": "stream",
     "text": [
      "\u001b[36m(RayTrainWorker pid=56542)\u001b[0m \n",
      "\u001b[36m(RayTrainWorker pid=56542)\u001b[0m Extracting /var/folders/mf/cfzv46p15017stkscsq9jw9h0000gn/T/tmpr16z8p18/MNIST/raw/t10k-labels-idx1-ubyte.gz to /var/folders/mf/cfzv46p15017stkscsq9jw9h0000gn/T/tmpr16z8p18/MNIST/raw\u001b[32m [repeated 5x across cluster]\u001b[0m\n"
     ]
    },
    {
     "name": "stderr",
     "output_type": "stream",
     "text": [
      "\u001b[36m(RayTrainWorker pid=56664)\u001b[0m Setting up process group for: env:// [rank=0, world_size=1]\n",
      "\u001b[36m(RayTrainWorker pid=56481)\u001b[0m /Users/sidharrthnagappan/.virtualenvs/lsdp_miniproject/lib/python3.11/site-packages/pytorch_lightning/trainer/connectors/data_connector.py:420: Consider setting `persistent_workers=True` in 'train_dataloader' to speed up the dataloader worker initialization.\n",
      "\u001b[36m(TorchTrainer pid=56577)\u001b[0m Started distributed worker processes: \n",
      "\u001b[36m(TorchTrainer pid=56577)\u001b[0m - (node_id=7cc2334a334327f410131b140fb9ad2ae54820f537299598f92261b4, ip=127.0.0.1, pid=56664) world_rank=0, local_rank=0, node_rank=0\n",
      "\u001b[36m(RayTrainWorker pid=56542)\u001b[0m /Users/sidharrthnagappan/.virtualenvs/lsdp_miniproject/lib/python3.11/site-packages/pytorch_lightning/trainer/connectors/data_connector.py:420: Consider setting `persistent_workers=True` in 'train_dataloader' to speed up the dataloader worker initialization.\n",
      "100%|██████████| 4.54k/4.54k [00:00<00:00, 4.18MB/s]\n",
      "\u001b[36m(RayTrainWorker pid=56542)\u001b[0m --------------------------------------------------------\u001b[32m [repeated 2x across cluster]\u001b[0m\n",
      "\u001b[36m(RayTrainWorker pid=56542)\u001b[0m 4 | layer4   | Linear             | 1.3 K  | train\u001b[32m [repeated 4x across cluster]\u001b[0m\n"
     ]
    },
    {
     "name": "stdout",
     "output_type": "stream",
     "text": [
      "\u001b[36m(RayTrainWorker pid=56664)\u001b[0m printing config {'layer_1_size': 64, 'layer_2_size': 64, 'layer_3_size': 256, 'dropout': 0.15144247022590526, 'batch_size': 64, 'learning_rate': 0.002973866475711854}\n",
      "\u001b[36m(RayTrainWorker pid=56664)\u001b[0m Downloading http://yann.lecun.com/exdb/mnist/train-images-idx3-ubyte.gz\u001b[32m [repeated 3x across cluster]\u001b[0m\n",
      "\u001b[36m(RayTrainWorker pid=56542)\u001b[0m Failed to download (trying next):\n",
      "\u001b[36m(RayTrainWorker pid=56542)\u001b[0m HTTP Error 403: Forbidden\n",
      "\u001b[36m(RayTrainWorker pid=56542)\u001b[0m Downloading https://ossci-datasets.s3.amazonaws.com/mnist/t10k-labels-idx1-ubyte.gz to /var/folders/mf/cfzv46p15017stkscsq9jw9h0000gn/T/tmpr16z8p18/MNIST/raw/t10k-labels-idx1-ubyte.gz\n"
     ]
    },
    {
     "name": "stderr",
     "output_type": "stream",
     "text": [
      "\u001b[36m(RayTrainWorker pid=56664)\u001b[0m GPU available: True (mps), used: False\n",
      "\u001b[36m(RayTrainWorker pid=56664)\u001b[0m TPU available: False, using: 0 TPU cores\n",
      "\u001b[36m(RayTrainWorker pid=56664)\u001b[0m HPU available: False, using: 0 HPUs\n",
      "\u001b[36m(RayTrainWorker pid=56664)\u001b[0m /Users/sidharrthnagappan/.virtualenvs/lsdp_miniproject/lib/python3.11/site-packages/pytorch_lightning/trainer/setup.py:177: GPU available but not used. You can set it by doing `Trainer(accelerator='gpu')`.\n",
      "\u001b[36m(RayTrainWorker pid=56664)\u001b[0m /Users/sidharrthnagappan/.virtualenvs/lsdp_miniproject/lib/python3.11/site-packages/pytorch_lightning/loops/utilities.py:73: `max_epochs` was not set. Setting it to 1000 epochs. To train without an epoch limit, set `max_epochs=-1`.\n"
     ]
    },
    {
     "name": "stdout",
     "output_type": "stream",
     "text": [
      "\u001b[36m(RayTrainWorker pid=56664)\u001b[0m Failed to download (trying next):\n",
      "\u001b[36m(RayTrainWorker pid=56664)\u001b[0m HTTP Error 403: Forbidden\n",
      "\u001b[36m(RayTrainWorker pid=56664)\u001b[0m \n",
      "\u001b[36m(RayTrainWorker pid=56664)\u001b[0m Downloading https://ossci-datasets.s3.amazonaws.com/mnist/train-images-idx3-ubyte.gz to /var/folders/mf/cfzv46p15017stkscsq9jw9h0000gn/T/tmph5dp9y5w/MNIST/raw/train-images-idx3-ubyte.gz\n"
     ]
    },
    {
     "name": "stderr",
     "output_type": "stream",
     "text": [
      "  0%|          | 0.00/9.91M [00:00<?, ?B/s]\n",
      "  1%|          | 65.5k/9.91M [00:00<00:16, 592kB/s]\n",
      "  2%|▏         | 197k/9.91M [00:00<00:11, 831kB/s] \n",
      "  8%|▊         | 819k/9.91M [00:00<00:03, 2.84MB/s]\n",
      " 17%|█▋        | 1.70M/9.91M [00:00<00:01, 4.31MB/s]\n",
      " 23%|██▎       | 2.33M/9.91M [00:00<00:01, 4.78MB/s]\n",
      " 60%|██████    | 6.00M/9.91M [00:00<00:00, 11.5MB/s]\n",
      " 71%|███████   | 7.01M/9.91M [00:00<00:00, 11.0MB/s]\n",
      " 90%|█████████ | 8.95M/9.91M [00:01<00:00, 11.7MB/s]\n",
      "100%|██████████| 9.91M/9.91M [00:01<00:00, 8.73MB/s]\n"
     ]
    },
    {
     "name": "stdout",
     "output_type": "stream",
     "text": [
      "\u001b[36m(RayTrainWorker pid=56664)\u001b[0m Extracting /var/folders/mf/cfzv46p15017stkscsq9jw9h0000gn/T/tmph5dp9y5w/MNIST/raw/train-images-idx3-ubyte.gz to /var/folders/mf/cfzv46p15017stkscsq9jw9h0000gn/T/tmph5dp9y5w/MNIST/raw\n",
      "\u001b[36m(RayTrainWorker pid=56664)\u001b[0m \n",
      "\u001b[36m(RayTrainWorker pid=56664)\u001b[0m Failed to download (trying next):\n",
      "\u001b[36m(RayTrainWorker pid=56664)\u001b[0m HTTP Error 403: Forbidden\n",
      "\u001b[36m(RayTrainWorker pid=56664)\u001b[0m \n",
      "\u001b[36m(RayTrainWorker pid=56664)\u001b[0m Downloading https://ossci-datasets.s3.amazonaws.com/mnist/train-labels-idx1-ubyte.gz to /var/folders/mf/cfzv46p15017stkscsq9jw9h0000gn/T/tmph5dp9y5w/MNIST/raw/train-labels-idx1-ubyte.gz\n"
     ]
    },
    {
     "name": "stderr",
     "output_type": "stream",
     "text": [
      "  0%|          | 0.00/28.9k [00:00<?, ?B/s]\n",
      "100%|██████████| 28.9k/28.9k [00:00<00:00, 340kB/s]\n"
     ]
    },
    {
     "name": "stdout",
     "output_type": "stream",
     "text": [
      "\u001b[36m(RayTrainWorker pid=56664)\u001b[0m Extracting /var/folders/mf/cfzv46p15017stkscsq9jw9h0000gn/T/tmph5dp9y5w/MNIST/raw/train-labels-idx1-ubyte.gz to /var/folders/mf/cfzv46p15017stkscsq9jw9h0000gn/T/tmph5dp9y5w/MNIST/raw\n",
      "\u001b[36m(RayTrainWorker pid=56664)\u001b[0m \n",
      "\u001b[36m(RayTrainWorker pid=56664)\u001b[0m Failed to download (trying next):\n",
      "\u001b[36m(RayTrainWorker pid=56664)\u001b[0m HTTP Error 403: Forbidden\n",
      "\u001b[36m(RayTrainWorker pid=56664)\u001b[0m \n",
      "\u001b[36m(RayTrainWorker pid=56664)\u001b[0m Downloading https://ossci-datasets.s3.amazonaws.com/mnist/t10k-images-idx3-ubyte.gz to /var/folders/mf/cfzv46p15017stkscsq9jw9h0000gn/T/tmph5dp9y5w/MNIST/raw/t10k-images-idx3-ubyte.gz\n"
     ]
    },
    {
     "name": "stderr",
     "output_type": "stream",
     "text": [
      "  0%|          | 0.00/1.65M [00:00<?, ?B/s]\n",
      "  6%|▌         | 98.3k/1.65M [00:00<00:02, 588kB/s]\n",
      " 26%|██▌       | 426k/1.65M [00:00<00:00, 1.40MB/s]\n"
     ]
    },
    {
     "name": "stdout",
     "output_type": "stream",
     "text": [
      "\u001b[36m(RayTrainWorker pid=56664)\u001b[0m Extracting /var/folders/mf/cfzv46p15017stkscsq9jw9h0000gn/T/tmph5dp9y5w/MNIST/raw/t10k-images-idx3-ubyte.gz to /var/folders/mf/cfzv46p15017stkscsq9jw9h0000gn/T/tmph5dp9y5w/MNIST/raw\n",
      "\u001b[36m(RayTrainWorker pid=56664)\u001b[0m \n",
      "\u001b[36m(RayTrainWorker pid=56664)\u001b[0m Downloading http://yann.lecun.com/exdb/mnist/t10k-labels-idx1-ubyte.gz\u001b[32m [repeated 6x across cluster]\u001b[0m\n"
     ]
    },
    {
     "name": "stderr",
     "output_type": "stream",
     "text": [
      "100%|██████████| 1.65M/1.65M [00:00<00:00, 3.74MB/s]\n",
      "\u001b[36m(TorchTrainer pid=56678)\u001b[0m Started distributed worker processes: \n",
      "\u001b[36m(TorchTrainer pid=56678)\u001b[0m - (node_id=7cc2334a334327f410131b140fb9ad2ae54820f537299598f92261b4, ip=127.0.0.1, pid=56794) world_rank=0, local_rank=0, node_rank=0\n",
      "\u001b[36m(RayTrainWorker pid=56794)\u001b[0m Setting up process group for: env:// [rank=0, world_size=1]\n"
     ]
    },
    {
     "name": "stdout",
     "output_type": "stream",
     "text": [
      "\u001b[36m(RayTrainWorker pid=56664)\u001b[0m Failed to download (trying next):\n",
      "\u001b[36m(RayTrainWorker pid=56664)\u001b[0m HTTP Error 403: Forbidden\n",
      "\u001b[36m(RayTrainWorker pid=56664)\u001b[0m \n",
      "\u001b[36m(RayTrainWorker pid=56664)\u001b[0m Downloading https://ossci-datasets.s3.amazonaws.com/mnist/t10k-labels-idx1-ubyte.gz to /var/folders/mf/cfzv46p15017stkscsq9jw9h0000gn/T/tmph5dp9y5w/MNIST/raw/t10k-labels-idx1-ubyte.gz\n"
     ]
    },
    {
     "name": "stderr",
     "output_type": "stream",
     "text": [
      "\u001b[36m(RayTrainWorker pid=56481)\u001b[0m Checkpoint successfully created at: Checkpoint(filesystem=local, path=/Users/sidharrthnagappan/ray_results/TorchTrainer_2024-12-24_17-34-19/TorchTrainer_4f4b8_00033_33_batch_size=128,dropout=0.2164,layer_1_size=32,layer_2_size=64,layer_3_size=512,learning_rate=0.0009_2024-12-24_17-34-21/checkpoint_000000)\n",
      "\u001b[36m(RayTrainWorker pid=56794)\u001b[0m GPU available: True (mps), used: False\n",
      "\u001b[36m(RayTrainWorker pid=56794)\u001b[0m TPU available: False, using: 0 TPU cores\n",
      "\u001b[36m(RayTrainWorker pid=56794)\u001b[0m HPU available: False, using: 0 HPUs\n",
      "\u001b[36m(RayTrainWorker pid=56794)\u001b[0m /Users/sidharrthnagappan/.virtualenvs/lsdp_miniproject/lib/python3.11/site-packages/pytorch_lightning/trainer/setup.py:177: GPU available but not used. You can set it by doing `Trainer(accelerator='gpu')`.\n",
      "\u001b[36m(RayTrainWorker pid=56794)\u001b[0m /Users/sidharrthnagappan/.virtualenvs/lsdp_miniproject/lib/python3.11/site-packages/pytorch_lightning/loops/utilities.py:73: `max_epochs` was not set. Setting it to 1000 epochs. To train without an epoch limit, set `max_epochs=-1`.\n",
      "100%|██████████| 4.54k/4.54k [00:00<00:00, 4.17MB/s]\n",
      "\u001b[36m(RayTrainWorker pid=56664)\u001b[0m \n",
      "\u001b[36m(RayTrainWorker pid=56664)\u001b[0m   | Name     | Type               | Params | Mode \n",
      "\u001b[36m(RayTrainWorker pid=56664)\u001b[0m --------------------------------------------------------\n",
      "\u001b[36m(RayTrainWorker pid=56664)\u001b[0m 0 | accuracy | MulticlassAccuracy | 0      | train\n",
      "\u001b[36m(RayTrainWorker pid=56664)\u001b[0m 1 | layer1   | Linear             | 50.2 K | train\n",
      "\u001b[36m(RayTrainWorker pid=56664)\u001b[0m 2 | layer2   | Linear             | 4.2 K  | train\n",
      "\u001b[36m(RayTrainWorker pid=56664)\u001b[0m 3 | layer3   | Linear             | 16.6 K | train\n",
      "\u001b[36m(RayTrainWorker pid=56664)\u001b[0m 4 | layer4   | Linear             | 2.6 K  | train\n",
      "\u001b[36m(RayTrainWorker pid=56664)\u001b[0m 5 | dropout  | Dropout            | 0      | train\n",
      "\u001b[36m(RayTrainWorker pid=56664)\u001b[0m --------------------------------------------------------\n",
      "\u001b[36m(RayTrainWorker pid=56664)\u001b[0m 73.6 K    Trainable params\n",
      "\u001b[36m(RayTrainWorker pid=56664)\u001b[0m 0         Non-trainable params\n",
      "\u001b[36m(RayTrainWorker pid=56664)\u001b[0m 73.6 K    Total params\n",
      "\u001b[36m(RayTrainWorker pid=56664)\u001b[0m 0.294     Total estimated model params size (MB)\n",
      "\u001b[36m(RayTrainWorker pid=56664)\u001b[0m 6         Modules in train mode\n",
      "\u001b[36m(RayTrainWorker pid=56664)\u001b[0m 0         Modules in eval mode\n",
      "\u001b[36m(RayTrainWorker pid=56664)\u001b[0m /Users/sidharrthnagappan/.virtualenvs/lsdp_miniproject/lib/python3.11/site-packages/pytorch_lightning/trainer/connectors/data_connector.py:420: Consider setting `persistent_workers=True` in 'val_dataloader' to speed up the dataloader worker initialization.\n"
     ]
    },
    {
     "name": "stdout",
     "output_type": "stream",
     "text": [
      "\u001b[36m(RayTrainWorker pid=56794)\u001b[0m printing config {'layer_1_size': 32, 'layer_2_size': 128, 'layer_3_size': 512, 'dropout': 0.14029510397823686, 'batch_size': 64, 'learning_rate': 0.039443335175837424}\n",
      "\u001b[36m(RayTrainWorker pid=56664)\u001b[0m Extracting /var/folders/mf/cfzv46p15017stkscsq9jw9h0000gn/T/tmph5dp9y5w/MNIST/raw/t10k-labels-idx1-ubyte.gz to /var/folders/mf/cfzv46p15017stkscsq9jw9h0000gn/T/tmph5dp9y5w/MNIST/raw\n",
      "\u001b[36m(RayTrainWorker pid=56664)\u001b[0m \n",
      "\u001b[36m(RayTrainWorker pid=56794)\u001b[0m Failed to download (trying next):\n",
      "\u001b[36m(RayTrainWorker pid=56794)\u001b[0m HTTP Error 403: Forbidden\n",
      "\u001b[36m(RayTrainWorker pid=56794)\u001b[0m \n",
      "\u001b[36m(RayTrainWorker pid=56794)\u001b[0m Downloading https://ossci-datasets.s3.amazonaws.com/mnist/train-images-idx3-ubyte.gz to /var/folders/mf/cfzv46p15017stkscsq9jw9h0000gn/T/tmpzyr0ze4a/MNIST/raw/train-images-idx3-ubyte.gz\n"
     ]
    },
    {
     "name": "stderr",
     "output_type": "stream",
     "text": [
      "  1%|          | 65.5k/9.91M [00:00<00:24, 399kB/s]\n",
      "  4%|▎         | 360k/9.91M [00:00<00:07, 1.20MB/s]\n",
      "\u001b[36m(RayTrainWorker pid=56410)\u001b[0m Traceback (most recent call last):\n",
      "\u001b[36m(RayTrainWorker pid=56410)\u001b[0m   File \"<string>\", line 1, in <module>\n",
      "\u001b[36m(RayTrainWorker pid=56410)\u001b[0m   File \"/Users/sidharrthnagappan/.pyenv/versions/3.11.0/lib/python3.11/multiprocessing/spawn.py\", line 120, in spawn_main\n",
      "\u001b[36m(RayTrainWorker pid=56410)\u001b[0m     exitcode = _main(fd, parent_sentinel)\n",
      "\u001b[36m(RayTrainWorker pid=56410)\u001b[0m                ^^^^^^^^^^^^^^^^^^^^^^^^^^\n",
      "\u001b[36m(RayTrainWorker pid=56410)\u001b[0m   File \"/Users/sidharrthnagappan/.pyenv/versions/3.11.0/lib/python3.11/multiprocessing/spawn.py\", line 130, in _main\n",
      "\u001b[36m(RayTrainWorker pid=56410)\u001b[0m     self = reduction.pickle.load(from_parent)\n",
      "\u001b[36m(RayTrainWorker pid=56410)\u001b[0m            ^^^^^^^^^^^^^^^^^^^^^^^^^^^^^^^^^^\n",
      "\u001b[36m(RayTrainWorker pid=56410)\u001b[0m _pickle.UnpicklingError: pickle data was truncated\n",
      " 15%|█▍        | 1.44M/9.91M [00:00<00:01, 4.42MB/s]\n",
      " 30%|███       | 2.98M/9.91M [00:00<00:01, 5.92MB/s]\n",
      " 66%|██████▋   | 6.59M/9.91M [00:00<00:00, 13.2MB/s]\n",
      "100%|██████████| 9.91M/9.91M [00:00<00:00, 11.3MB/s]\n"
     ]
    },
    {
     "name": "stdout",
     "output_type": "stream",
     "text": [
      "\u001b[36m(RayTrainWorker pid=56794)\u001b[0m Extracting /var/folders/mf/cfzv46p15017stkscsq9jw9h0000gn/T/tmpzyr0ze4a/MNIST/raw/train-images-idx3-ubyte.gz to /var/folders/mf/cfzv46p15017stkscsq9jw9h0000gn/T/tmpzyr0ze4a/MNIST/raw\n",
      "\u001b[36m(RayTrainWorker pid=56794)\u001b[0m \n",
      "\u001b[36m(RayTrainWorker pid=56794)\u001b[0m Failed to download (trying next):\n",
      "\u001b[36m(RayTrainWorker pid=56794)\u001b[0m HTTP Error 403: Forbidden\n",
      "\u001b[36m(RayTrainWorker pid=56794)\u001b[0m \n",
      "\u001b[36m(RayTrainWorker pid=56794)\u001b[0m Downloading https://ossci-datasets.s3.amazonaws.com/mnist/train-labels-idx1-ubyte.gz to /var/folders/mf/cfzv46p15017stkscsq9jw9h0000gn/T/tmpzyr0ze4a/MNIST/raw/train-labels-idx1-ubyte.gz\n"
     ]
    },
    {
     "name": "stderr",
     "output_type": "stream",
     "text": [
      "100%|██████████| 28.9k/28.9k [00:00<00:00, 339kB/s]\n"
     ]
    },
    {
     "name": "stdout",
     "output_type": "stream",
     "text": [
      "\u001b[36m(RayTrainWorker pid=56794)\u001b[0m Extracting /var/folders/mf/cfzv46p15017stkscsq9jw9h0000gn/T/tmpzyr0ze4a/MNIST/raw/train-labels-idx1-ubyte.gz to /var/folders/mf/cfzv46p15017stkscsq9jw9h0000gn/T/tmpzyr0ze4a/MNIST/raw\n",
      "\u001b[36m(RayTrainWorker pid=56794)\u001b[0m \n"
     ]
    },
    {
     "name": "stderr",
     "output_type": "stream",
     "text": [
      "\u001b[36m(RayTrainWorker pid=56664)\u001b[0m /Users/sidharrthnagappan/.virtualenvs/lsdp_miniproject/lib/python3.11/site-packages/pytorch_lightning/trainer/connectors/data_connector.py:420: Consider setting `persistent_workers=True` in 'train_dataloader' to speed up the dataloader worker initialization.\n"
     ]
    },
    {
     "name": "stdout",
     "output_type": "stream",
     "text": [
      "\u001b[36m(RayTrainWorker pid=56794)\u001b[0m Failed to download (trying next):\n",
      "\u001b[36m(RayTrainWorker pid=56794)\u001b[0m HTTP Error 403: Forbidden\n",
      "\u001b[36m(RayTrainWorker pid=56794)\u001b[0m \n",
      "\u001b[36m(RayTrainWorker pid=56794)\u001b[0m Downloading https://ossci-datasets.s3.amazonaws.com/mnist/t10k-images-idx3-ubyte.gz\u001b[32m [repeated 7x across cluster]\u001b[0m\n",
      "\u001b[36m(RayTrainWorker pid=56794)\u001b[0m Downloading https://ossci-datasets.s3.amazonaws.com/mnist/t10k-images-idx3-ubyte.gz to /var/folders/mf/cfzv46p15017stkscsq9jw9h0000gn/T/tmpzyr0ze4a/MNIST/raw/t10k-images-idx3-ubyte.gz\n"
     ]
    },
    {
     "name": "stderr",
     "output_type": "stream",
     "text": [
      "  4%|▍         | 65.5k/1.65M [00:00<00:04, 394kB/s]\n",
      " 22%|██▏       | 360k/1.65M [00:00<00:01, 1.28MB/s]\n",
      "\u001b[36m(RayTrainWorker pid=56542)\u001b[0m Checkpoint successfully created at: Checkpoint(filesystem=local, path=/Users/sidharrthnagappan/ray_results/TorchTrainer_2024-12-24_17-34-19/TorchTrainer_4f4b8_00034_34_batch_size=128,dropout=0.2389,layer_1_size=128,layer_2_size=64,layer_3_size=128,learning_rate=0.0025_2024-12-24_17-34-21/checkpoint_000000)\u001b[32m [repeated 2x across cluster]\u001b[0m\n",
      " 32%|███▏      | 524k/1.65M [00:00<00:00, 1.38MB/s]\n",
      " 79%|███████▉  | 1.31M/1.65M [00:00<00:00, 3.04MB/s]\n",
      "100%|██████████| 1.65M/1.65M [00:00<00:00, 2.44MB/s]\n",
      "  0%|          | 0.00/1.65M [00:00<?, ?B/s]\u001b[32m [repeated 3x across cluster]\u001b[0m\n"
     ]
    },
    {
     "name": "stdout",
     "output_type": "stream",
     "text": [
      "\u001b[36m(RayTrainWorker pid=56794)\u001b[0m Extracting /var/folders/mf/cfzv46p15017stkscsq9jw9h0000gn/T/tmpzyr0ze4a/MNIST/raw/t10k-images-idx3-ubyte.gz to /var/folders/mf/cfzv46p15017stkscsq9jw9h0000gn/T/tmpzyr0ze4a/MNIST/raw\n",
      "\u001b[36m(RayTrainWorker pid=56794)\u001b[0m \n",
      "\u001b[36m(RayTrainWorker pid=56794)\u001b[0m Failed to download (trying next):\n",
      "\u001b[36m(RayTrainWorker pid=56794)\u001b[0m HTTP Error 403: Forbidden\n",
      "\u001b[36m(RayTrainWorker pid=56794)\u001b[0m \n",
      "\u001b[36m(RayTrainWorker pid=56794)\u001b[0m Downloading https://ossci-datasets.s3.amazonaws.com/mnist/t10k-labels-idx1-ubyte.gz to /var/folders/mf/cfzv46p15017stkscsq9jw9h0000gn/T/tmpzyr0ze4a/MNIST/raw/t10k-labels-idx1-ubyte.gz\n",
      "\u001b[36m(RayTrainWorker pid=56794)\u001b[0m Extracting /var/folders/mf/cfzv46p15017stkscsq9jw9h0000gn/T/tmpzyr0ze4a/MNIST/raw/t10k-labels-idx1-ubyte.gz to /var/folders/mf/cfzv46p15017stkscsq9jw9h0000gn/T/tmpzyr0ze4a/MNIST/raw\n",
      "\u001b[36m(RayTrainWorker pid=56794)\u001b[0m \n"
     ]
    },
    {
     "name": "stderr",
     "output_type": "stream",
     "text": [
      "\u001b[36m(RayTrainWorker pid=56794)\u001b[0m \n",
      "\u001b[36m(RayTrainWorker pid=56794)\u001b[0m   | Name     | Type               | Params | Mode \n",
      "\u001b[36m(RayTrainWorker pid=56794)\u001b[0m --------------------------------------------------------\n",
      "\u001b[36m(RayTrainWorker pid=56794)\u001b[0m 0 | accuracy | MulticlassAccuracy | 0      | train\n",
      "\u001b[36m(RayTrainWorker pid=56794)\u001b[0m 1 | layer1   | Linear             | 25.1 K | train\n",
      "\u001b[36m(RayTrainWorker pid=56794)\u001b[0m 2 | layer2   | Linear             | 4.2 K  | train\n",
      "\u001b[36m(RayTrainWorker pid=56794)\u001b[0m 3 | layer3   | Linear             | 66.0 K | train\n",
      "\u001b[36m(RayTrainWorker pid=56794)\u001b[0m 4 | layer4   | Linear             | 5.1 K  | train\n",
      "\u001b[36m(RayTrainWorker pid=56794)\u001b[0m 5 | dropout  | Dropout            | 0      | train\n",
      "\u001b[36m(RayTrainWorker pid=56794)\u001b[0m --------------------------------------------------------\n",
      "\u001b[36m(RayTrainWorker pid=56794)\u001b[0m 100 K     Trainable params\n",
      "\u001b[36m(RayTrainWorker pid=56794)\u001b[0m 0         Non-trainable params\n",
      "\u001b[36m(RayTrainWorker pid=56794)\u001b[0m 100 K     Total params\n",
      "\u001b[36m(RayTrainWorker pid=56794)\u001b[0m 0.402     Total estimated model params size (MB)\n",
      "\u001b[36m(RayTrainWorker pid=56794)\u001b[0m 6         Modules in train mode\n",
      "\u001b[36m(RayTrainWorker pid=56794)\u001b[0m 0         Modules in eval mode\n",
      "\u001b[36m(RayTrainWorker pid=56794)\u001b[0m /Users/sidharrthnagappan/.virtualenvs/lsdp_miniproject/lib/python3.11/site-packages/pytorch_lightning/trainer/connectors/data_connector.py:420: Consider setting `persistent_workers=True` in 'val_dataloader' to speed up the dataloader worker initialization.\n",
      "\u001b[36m(RayTrainWorker pid=56410)\u001b[0m /Users/sidharrthnagappan/.pyenv/versions/3.11.0/lib/python3.11/multiprocessing/resource_tracker.py:224: UserWarning: resource_tracker: There appear to be 55 leaked semaphore objects to clean up at shutdown\n",
      "\u001b[36m(RayTrainWorker pid=56410)\u001b[0m   warnings.warn('resource_tracker: There appear to be %d '\n",
      "\u001b[36m(RayTrainWorker pid=56794)\u001b[0m /Users/sidharrthnagappan/.virtualenvs/lsdp_miniproject/lib/python3.11/site-packages/pytorch_lightning/trainer/connectors/data_connector.py:420: Consider setting `persistent_workers=True` in 'train_dataloader' to speed up the dataloader worker initialization.\n",
      "\u001b[36m(RayTrainWorker pid=56481)\u001b[0m Checkpoint successfully created at: Checkpoint(filesystem=local, path=/Users/sidharrthnagappan/ray_results/TorchTrainer_2024-12-24_17-34-19/TorchTrainer_4f4b8_00033_33_batch_size=128,dropout=0.2164,layer_1_size=32,layer_2_size=64,layer_3_size=512,learning_rate=0.0009_2024-12-24_17-34-21/checkpoint_000001)\n",
      "100%|██████████| 4.54k/4.54k [00:00<00:00, 2.09MB/s]\n",
      "\u001b[36m(RayTrainWorker pid=56481)\u001b[0m Traceback (most recent call last):\n",
      "\u001b[36m(RayTrainWorker pid=56481)\u001b[0m   File \"<string>\", line 1, in <module>\n",
      "\u001b[36m(RayTrainWorker pid=56481)\u001b[0m   File \"/Users/sidharrthnagappan/.pyenv/versions/3.11.0/lib/python3.11/multiprocessing/spawn.py\", line 120, in spawn_main\n",
      "\u001b[36m(RayTrainWorker pid=56481)\u001b[0m     exitcode = _main(fd, parent_sentinel)\n",
      "\u001b[36m(RayTrainWorker pid=56481)\u001b[0m                ^^^^^^^^^^^^^^^^^^^^^^^^^^\n",
      "\u001b[36m(RayTrainWorker pid=56481)\u001b[0m   File \"/Users/sidharrthnagappan/.pyenv/versions/3.11.0/lib/python3.11/multiprocessing/spawn.py\", line 130, in _main\n",
      "\u001b[36m(RayTrainWorker pid=56481)\u001b[0m     self = reduction.pickle.load(from_parent)\n",
      "\u001b[36m(RayTrainWorker pid=56481)\u001b[0m            ^^^^^^^^^^^^^^^^^^^^^^^^^^^^^^^^^^\n",
      "\u001b[36m(RayTrainWorker pid=56481)\u001b[0m _pickle.UnpicklingError: pickle data was truncated\n",
      "\u001b[36m(TorchTrainer pid=56933)\u001b[0m Started distributed worker processes: \n",
      "\u001b[36m(TorchTrainer pid=56933)\u001b[0m - (node_id=7cc2334a334327f410131b140fb9ad2ae54820f537299598f92261b4, ip=127.0.0.1, pid=57010) world_rank=0, local_rank=0, node_rank=0\n",
      "\u001b[36m(RayTrainWorker pid=57010)\u001b[0m Setting up process group for: env:// [rank=0, world_size=1]\n"
     ]
    },
    {
     "name": "stdout",
     "output_type": "stream",
     "text": [
      "\u001b[36m(RayTrainWorker pid=57010)\u001b[0m printing config {'layer_1_size': 128, 'layer_2_size': 256, 'layer_3_size': 256, 'dropout': 0.23871449076395343, 'batch_size': 64, 'learning_rate': 0.00025259435896183397}\n",
      "\u001b[36m(RayTrainWorker pid=57010)\u001b[0m Downloading http://yann.lecun.com/exdb/mnist/train-images-idx3-ubyte.gz\u001b[32m [repeated 3x across cluster]\u001b[0m\n"
     ]
    },
    {
     "name": "stderr",
     "output_type": "stream",
     "text": [
      "\u001b[36m(RayTrainWorker pid=57010)\u001b[0m GPU available: True (mps), used: False\n",
      "\u001b[36m(RayTrainWorker pid=57010)\u001b[0m TPU available: False, using: 0 TPU cores\n",
      "\u001b[36m(RayTrainWorker pid=57010)\u001b[0m HPU available: False, using: 0 HPUs\n",
      "\u001b[36m(RayTrainWorker pid=57010)\u001b[0m /Users/sidharrthnagappan/.virtualenvs/lsdp_miniproject/lib/python3.11/site-packages/pytorch_lightning/trainer/setup.py:177: GPU available but not used. You can set it by doing `Trainer(accelerator='gpu')`.\n",
      "\u001b[36m(RayTrainWorker pid=57010)\u001b[0m /Users/sidharrthnagappan/.virtualenvs/lsdp_miniproject/lib/python3.11/site-packages/pytorch_lightning/loops/utilities.py:73: `max_epochs` was not set. Setting it to 1000 epochs. To train without an epoch limit, set `max_epochs=-1`.\n"
     ]
    },
    {
     "name": "stdout",
     "output_type": "stream",
     "text": [
      "\u001b[36m(RayTrainWorker pid=57010)\u001b[0m Failed to download (trying next):\n",
      "\u001b[36m(RayTrainWorker pid=57010)\u001b[0m HTTP Error 403: Forbidden\n",
      "\u001b[36m(RayTrainWorker pid=57010)\u001b[0m \n",
      "\u001b[36m(RayTrainWorker pid=57010)\u001b[0m Downloading https://ossci-datasets.s3.amazonaws.com/mnist/train-images-idx3-ubyte.gz to /var/folders/mf/cfzv46p15017stkscsq9jw9h0000gn/T/tmpl9d_ugit/MNIST/raw/train-images-idx3-ubyte.gz\n"
     ]
    },
    {
     "name": "stderr",
     "output_type": "stream",
     "text": [
      "  0%|          | 0.00/9.91M [00:00<?, ?B/s]\n",
      "\u001b[36m(RayTrainWorker pid=56542)\u001b[0m Checkpoint successfully created at: Checkpoint(filesystem=local, path=/Users/sidharrthnagappan/ray_results/TorchTrainer_2024-12-24_17-34-19/TorchTrainer_4f4b8_00034_34_batch_size=128,dropout=0.2389,layer_1_size=128,layer_2_size=64,layer_3_size=128,learning_rate=0.0025_2024-12-24_17-34-21/checkpoint_000001)\n",
      "  1%|          | 65.5k/9.91M [00:00<00:19, 506kB/s]\n",
      "  2%|▏         | 197k/9.91M [00:00<00:11, 837kB/s] \n",
      "  8%|▊         | 754k/9.91M [00:00<00:04, 2.15MB/s]\n",
      " 22%|██▏       | 2.16M/9.91M [00:00<00:01, 5.84MB/s]\n",
      " 29%|██▉       | 2.85M/9.91M [00:00<00:01, 5.83MB/s]\n",
      " 69%|██████▉   | 6.88M/9.91M [00:00<00:00, 15.0MB/s]\n",
      " 86%|████████▌ | 8.49M/9.91M [00:00<00:00, 15.2MB/s]\n",
      "100%|██████████| 9.91M/9.91M [00:00<00:00, 10.2MB/s]\n"
     ]
    },
    {
     "name": "stdout",
     "output_type": "stream",
     "text": [
      "\u001b[36m(RayTrainWorker pid=57010)\u001b[0m Extracting /var/folders/mf/cfzv46p15017stkscsq9jw9h0000gn/T/tmpl9d_ugit/MNIST/raw/train-images-idx3-ubyte.gz to /var/folders/mf/cfzv46p15017stkscsq9jw9h0000gn/T/tmpl9d_ugit/MNIST/raw\n",
      "\u001b[36m(RayTrainWorker pid=57010)\u001b[0m \n",
      "\u001b[36m(RayTrainWorker pid=57010)\u001b[0m Failed to download (trying next):\n",
      "\u001b[36m(RayTrainWorker pid=57010)\u001b[0m HTTP Error 403: Forbidden\n",
      "\u001b[36m(RayTrainWorker pid=57010)\u001b[0m \n"
     ]
    },
    {
     "name": "stderr",
     "output_type": "stream",
     "text": [
      "\u001b[36m(RayTrainWorker pid=56481)\u001b[0m /Users/sidharrthnagappan/.pyenv/versions/3.11.0/lib/python3.11/multiprocessing/resource_tracker.py:224: UserWarning: resource_tracker: There appear to be 55 leaked semaphore objects to clean up at shutdown\n",
      "\u001b[36m(RayTrainWorker pid=56481)\u001b[0m   warnings.warn('resource_tracker: There appear to be %d '\n"
     ]
    },
    {
     "name": "stdout",
     "output_type": "stream",
     "text": [
      "\u001b[36m(RayTrainWorker pid=57010)\u001b[0m Downloading https://ossci-datasets.s3.amazonaws.com/mnist/train-labels-idx1-ubyte.gz to /var/folders/mf/cfzv46p15017stkscsq9jw9h0000gn/T/tmpl9d_ugit/MNIST/raw/train-labels-idx1-ubyte.gz\n"
     ]
    },
    {
     "name": "stderr",
     "output_type": "stream",
     "text": [
      "  0%|          | 0.00/28.9k [00:00<?, ?B/s]\n",
      "100%|██████████| 28.9k/28.9k [00:00<00:00, 339kB/s]\n"
     ]
    },
    {
     "name": "stdout",
     "output_type": "stream",
     "text": [
      "\u001b[36m(RayTrainWorker pid=57010)\u001b[0m Extracting /var/folders/mf/cfzv46p15017stkscsq9jw9h0000gn/T/tmpl9d_ugit/MNIST/raw/train-labels-idx1-ubyte.gz to /var/folders/mf/cfzv46p15017stkscsq9jw9h0000gn/T/tmpl9d_ugit/MNIST/raw\n",
      "\u001b[36m(RayTrainWorker pid=57010)\u001b[0m \n",
      "\u001b[36m(RayTrainWorker pid=57010)\u001b[0m Failed to download (trying next):\n",
      "\u001b[36m(RayTrainWorker pid=57010)\u001b[0m HTTP Error 403: Forbidden\n",
      "\u001b[36m(RayTrainWorker pid=57010)\u001b[0m \n",
      "\u001b[36m(RayTrainWorker pid=57010)\u001b[0m Downloading https://ossci-datasets.s3.amazonaws.com/mnist/t10k-images-idx3-ubyte.gz to /var/folders/mf/cfzv46p15017stkscsq9jw9h0000gn/T/tmpl9d_ugit/MNIST/raw/t10k-images-idx3-ubyte.gz\n"
     ]
    },
    {
     "name": "stderr",
     "output_type": "stream",
     "text": [
      "  0%|          | 0.00/1.65M [00:00<?, ?B/s]\n",
      "  6%|▌         | 98.3k/1.65M [00:00<00:02, 581kB/s]\n",
      " 26%|██▌       | 426k/1.65M [00:00<00:00, 1.39MB/s]\n",
      "100%|██████████| 1.65M/1.65M [00:00<00:00, 3.26MB/s]\n"
     ]
    },
    {
     "name": "stdout",
     "output_type": "stream",
     "text": [
      "\u001b[36m(RayTrainWorker pid=57010)\u001b[0m Extracting /var/folders/mf/cfzv46p15017stkscsq9jw9h0000gn/T/tmpl9d_ugit/MNIST/raw/t10k-images-idx3-ubyte.gz to /var/folders/mf/cfzv46p15017stkscsq9jw9h0000gn/T/tmpl9d_ugit/MNIST/raw\n",
      "\u001b[36m(RayTrainWorker pid=57010)\u001b[0m Downloading https://ossci-datasets.s3.amazonaws.com/mnist/t10k-images-idx3-ubyte.gz\u001b[32m [repeated 5x across cluster]\u001b[0m\n",
      "\u001b[36m(RayTrainWorker pid=57010)\u001b[0m \n",
      "\u001b[36m(RayTrainWorker pid=57010)\u001b[0m Failed to download (trying next):\n",
      "\u001b[36m(RayTrainWorker pid=57010)\u001b[0m HTTP Error 403: Forbidden\n",
      "\u001b[36m(RayTrainWorker pid=57010)\u001b[0m \n",
      "\u001b[36m(RayTrainWorker pid=57010)\u001b[0m Downloading https://ossci-datasets.s3.amazonaws.com/mnist/t10k-labels-idx1-ubyte.gz to /var/folders/mf/cfzv46p15017stkscsq9jw9h0000gn/T/tmpl9d_ugit/MNIST/raw/t10k-labels-idx1-ubyte.gz\n",
      "\u001b[36m(RayTrainWorker pid=57010)\u001b[0m Extracting /var/folders/mf/cfzv46p15017stkscsq9jw9h0000gn/T/tmpl9d_ugit/MNIST/raw/t10k-labels-idx1-ubyte.gz to /var/folders/mf/cfzv46p15017stkscsq9jw9h0000gn/T/tmpl9d_ugit/MNIST/raw\n",
      "\u001b[36m(RayTrainWorker pid=57010)\u001b[0m \n"
     ]
    },
    {
     "name": "stderr",
     "output_type": "stream",
     "text": [
      "100%|██████████| 4.54k/4.54k [00:00<00:00, 2.15MB/s]\n",
      "\u001b[36m(RayTrainWorker pid=57010)\u001b[0m \n",
      "\u001b[36m(RayTrainWorker pid=57010)\u001b[0m   | Name     | Type               | Params | Mode \n",
      "\u001b[36m(RayTrainWorker pid=57010)\u001b[0m --------------------------------------------------------\n",
      "\u001b[36m(RayTrainWorker pid=57010)\u001b[0m 0 | accuracy | MulticlassAccuracy | 0      | train\n",
      "\u001b[36m(RayTrainWorker pid=57010)\u001b[0m 1 | layer1   | Linear             | 100 K  | train\n",
      "\u001b[36m(RayTrainWorker pid=57010)\u001b[0m 2 | layer2   | Linear             | 33.0 K | train\n",
      "\u001b[36m(RayTrainWorker pid=57010)\u001b[0m 3 | layer3   | Linear             | 65.8 K | train\n",
      "\u001b[36m(RayTrainWorker pid=57010)\u001b[0m 4 | layer4   | Linear             | 2.6 K  | train\n",
      "\u001b[36m(RayTrainWorker pid=57010)\u001b[0m 5 | dropout  | Dropout            | 0      | train\n",
      "\u001b[36m(RayTrainWorker pid=57010)\u001b[0m --------------------------------------------------------\n",
      "\u001b[36m(RayTrainWorker pid=57010)\u001b[0m 201 K     Trainable params\n",
      "\u001b[36m(RayTrainWorker pid=57010)\u001b[0m 0         Non-trainable params\n",
      "\u001b[36m(RayTrainWorker pid=57010)\u001b[0m 201 K     Total params\n",
      "\u001b[36m(RayTrainWorker pid=57010)\u001b[0m 0.807     Total estimated model params size (MB)\n",
      "\u001b[36m(RayTrainWorker pid=57010)\u001b[0m 6         Modules in train mode\n",
      "\u001b[36m(RayTrainWorker pid=57010)\u001b[0m 0         Modules in eval mode\n",
      "\u001b[36m(RayTrainWorker pid=57010)\u001b[0m /Users/sidharrthnagappan/.virtualenvs/lsdp_miniproject/lib/python3.11/site-packages/pytorch_lightning/trainer/connectors/data_connector.py:420: Consider setting `persistent_workers=True` in 'val_dataloader' to speed up the dataloader worker initialization.\n",
      "\u001b[36m(RayTrainWorker pid=56664)\u001b[0m Checkpoint successfully created at: Checkpoint(filesystem=local, path=/Users/sidharrthnagappan/ray_results/TorchTrainer_2024-12-24_17-34-19/TorchTrainer_4f4b8_00035_35_batch_size=64,dropout=0.1514,layer_1_size=64,layer_2_size=64,layer_3_size=256,learning_rate=0.0030_2024-12-24_17-34-21/checkpoint_000000)\n",
      "\u001b[36m(TorchTrainer pid=57080)\u001b[0m Started distributed worker processes: \n",
      "\u001b[36m(TorchTrainer pid=57080)\u001b[0m - (node_id=7cc2334a334327f410131b140fb9ad2ae54820f537299598f92261b4, ip=127.0.0.1, pid=57177) world_rank=0, local_rank=0, node_rank=0\n",
      "\u001b[36m(RayTrainWorker pid=57177)\u001b[0m Setting up process group for: env:// [rank=0, world_size=1]\n"
     ]
    },
    {
     "name": "stdout",
     "output_type": "stream",
     "text": [
      "\u001b[36m(RayTrainWorker pid=57177)\u001b[0m printing config {'layer_1_size': 64, 'layer_2_size': 128, 'layer_3_size': 512, 'dropout': 0.21327135716305037, 'batch_size': 64, 'learning_rate': 0.00654805944708387}\n",
      "\u001b[36m(RayTrainWorker pid=57177)\u001b[0m Downloading http://yann.lecun.com/exdb/mnist/train-images-idx3-ubyte.gz\u001b[32m [repeated 3x across cluster]\u001b[0m\n"
     ]
    },
    {
     "name": "stderr",
     "output_type": "stream",
     "text": [
      "\u001b[36m(RayTrainWorker pid=57177)\u001b[0m GPU available: True (mps), used: False\n",
      "\u001b[36m(RayTrainWorker pid=57177)\u001b[0m TPU available: False, using: 0 TPU cores\n",
      "\u001b[36m(RayTrainWorker pid=57177)\u001b[0m HPU available: False, using: 0 HPUs\n",
      "\u001b[36m(RayTrainWorker pid=57177)\u001b[0m /Users/sidharrthnagappan/.virtualenvs/lsdp_miniproject/lib/python3.11/site-packages/pytorch_lightning/trainer/setup.py:177: GPU available but not used. You can set it by doing `Trainer(accelerator='gpu')`.\n",
      "\u001b[36m(RayTrainWorker pid=57177)\u001b[0m /Users/sidharrthnagappan/.virtualenvs/lsdp_miniproject/lib/python3.11/site-packages/pytorch_lightning/loops/utilities.py:73: `max_epochs` was not set. Setting it to 1000 epochs. To train without an epoch limit, set `max_epochs=-1`.\n"
     ]
    },
    {
     "name": "stdout",
     "output_type": "stream",
     "text": [
      "\u001b[36m(RayTrainWorker pid=57177)\u001b[0m Failed to download (trying next):\n",
      "\u001b[36m(RayTrainWorker pid=57177)\u001b[0m HTTP Error 403: Forbidden\n",
      "\u001b[36m(RayTrainWorker pid=57177)\u001b[0m \n"
     ]
    },
    {
     "name": "stderr",
     "output_type": "stream",
     "text": [
      "\u001b[36m(RayTrainWorker pid=57010)\u001b[0m /Users/sidharrthnagappan/.virtualenvs/lsdp_miniproject/lib/python3.11/site-packages/pytorch_lightning/trainer/connectors/data_connector.py:420: Consider setting `persistent_workers=True` in 'train_dataloader' to speed up the dataloader worker initialization.\n",
      "\u001b[36m(RayTrainWorker pid=56794)\u001b[0m Checkpoint successfully created at: Checkpoint(filesystem=local, path=/Users/sidharrthnagappan/ray_results/TorchTrainer_2024-12-24_17-34-19/TorchTrainer_4f4b8_00036_36_batch_size=64,dropout=0.1403,layer_1_size=32,layer_2_size=128,layer_3_size=512,learning_rate=0.0394_2024-12-24_17-34-21/checkpoint_000000)\n"
     ]
    },
    {
     "name": "stdout",
     "output_type": "stream",
     "text": [
      "\u001b[36m(RayTrainWorker pid=57177)\u001b[0m Downloading https://ossci-datasets.s3.amazonaws.com/mnist/train-images-idx3-ubyte.gz to /var/folders/mf/cfzv46p15017stkscsq9jw9h0000gn/T/tmpynugre8n/MNIST/raw/train-images-idx3-ubyte.gz\n"
     ]
    },
    {
     "name": "stderr",
     "output_type": "stream",
     "text": [
      "\u001b[36m(RayTrainWorker pid=56794)\u001b[0m Traceback (most recent call last):\n",
      "\u001b[36m(RayTrainWorker pid=56794)\u001b[0m   File \"<string>\", line 1, in <module>\n",
      "\u001b[36m(RayTrainWorker pid=56794)\u001b[0m   File \"/Users/sidharrthnagappan/.pyenv/versions/3.11.0/lib/python3.11/multiprocessing/spawn.py\", line 120, in spawn_main\n",
      "\u001b[36m(RayTrainWorker pid=56794)\u001b[0m     exitcode = _main(fd, parent_sentinel)\n",
      "\u001b[36m(RayTrainWorker pid=56794)\u001b[0m                ^^^^^^^^^^^^^^^^^^^^^^^^^^\n",
      "\u001b[36m(RayTrainWorker pid=56794)\u001b[0m   File \"/Users/sidharrthnagappan/.pyenv/versions/3.11.0/lib/python3.11/multiprocessing/spawn.py\", line 130, in _main\n",
      "\u001b[36m(RayTrainWorker pid=56794)\u001b[0m     self = reduction.pickle.load(from_parent)\n",
      "\u001b[36m(RayTrainWorker pid=56794)\u001b[0m            ^^^^^^^^^^^^^^^^^^^^^^^^^^^^^^^^^^\n",
      "\u001b[36m(RayTrainWorker pid=56794)\u001b[0m _pickle.UnpicklingError: pickle data was truncated\n",
      "  0%|          | 0.00/9.91M [00:00<?, ?B/s]\n",
      "  1%|          | 98.3k/9.91M [00:00<00:16, 601kB/s]\n",
      "  4%|▍         | 393k/9.91M [00:00<00:05, 1.59MB/s]\n",
      "  8%|▊         | 819k/9.91M [00:00<00:03, 2.28MB/s]\n",
      " 24%|██▍       | 2.36M/9.91M [00:00<00:01, 4.95MB/s]\n",
      " 60%|██████    | 5.96M/9.91M [00:00<00:00, 10.8MB/s]\n",
      "100%|██████████| 9.91M/9.91M [00:00<00:00, 10.2MB/s]\n"
     ]
    },
    {
     "name": "stdout",
     "output_type": "stream",
     "text": [
      "\u001b[36m(RayTrainWorker pid=57177)\u001b[0m Extracting /var/folders/mf/cfzv46p15017stkscsq9jw9h0000gn/T/tmpynugre8n/MNIST/raw/train-images-idx3-ubyte.gz to /var/folders/mf/cfzv46p15017stkscsq9jw9h0000gn/T/tmpynugre8n/MNIST/raw\n",
      "\u001b[36m(RayTrainWorker pid=57177)\u001b[0m \n"
     ]
    },
    {
     "name": "stderr",
     "output_type": "stream",
     "text": [
      "2024-12-24 17:40:21,804\tWARNING tune.py:219 -- Stop signal received (e.g. via SIGINT/Ctrl+C), ending Ray Tune run. This will try to checkpoint the experiment state one last time. Press CTRL+C (or send SIGINT/SIGKILL/SIGTERM) to skip. \n",
      "2024-12-24 17:40:21,832\tINFO tune.py:1009 -- Wrote the latest version of all result files and experiment state to '/Users/sidharrthnagappan/ray_results/TorchTrainer_2024-12-24_17-34-19' in 0.0255s.\n"
     ]
    },
    {
     "name": "stdout",
     "output_type": "stream",
     "text": [
      "\u001b[36m(RayTrainWorker pid=57177)\u001b[0m Failed to download (trying next):\n",
      "\u001b[36m(RayTrainWorker pid=57177)\u001b[0m HTTP Error 403: Forbidden\n",
      "\u001b[36m(RayTrainWorker pid=57177)\u001b[0m \n",
      "\u001b[36m(RayTrainWorker pid=57177)\u001b[0m Downloading https://ossci-datasets.s3.amazonaws.com/mnist/train-labels-idx1-ubyte.gz to /var/folders/mf/cfzv46p15017stkscsq9jw9h0000gn/T/tmpynugre8n/MNIST/raw/train-labels-idx1-ubyte.gz\n"
     ]
    },
    {
     "name": "stderr",
     "output_type": "stream",
     "text": [
      "  0%|          | 0.00/28.9k [00:00<?, ?B/s]\n",
      "100%|██████████| 28.9k/28.9k [00:00<00:00, 349kB/s]\n"
     ]
    },
    {
     "name": "stdout",
     "output_type": "stream",
     "text": [
      "\u001b[36m(RayTrainWorker pid=57177)\u001b[0m Extracting /var/folders/mf/cfzv46p15017stkscsq9jw9h0000gn/T/tmpynugre8n/MNIST/raw/train-labels-idx1-ubyte.gz to /var/folders/mf/cfzv46p15017stkscsq9jw9h0000gn/T/tmpynugre8n/MNIST/raw\n",
      "\u001b[36m(RayTrainWorker pid=57177)\u001b[0m \n",
      "\u001b[36m(RayTrainWorker pid=57177)\u001b[0m Failed to download (trying next):\n",
      "\u001b[36m(RayTrainWorker pid=57177)\u001b[0m HTTP Error 403: Forbidden\n",
      "\u001b[36m(RayTrainWorker pid=57177)\u001b[0m \n",
      "\u001b[36m(RayTrainWorker pid=57177)\u001b[0m Downloading https://ossci-datasets.s3.amazonaws.com/mnist/t10k-images-idx3-ubyte.gz to /var/folders/mf/cfzv46p15017stkscsq9jw9h0000gn/T/tmpynugre8n/MNIST/raw/t10k-images-idx3-ubyte.gz\n"
     ]
    },
    {
     "name": "stderr",
     "output_type": "stream",
     "text": [
      "  0%|          | 0.00/1.65M [00:00<?, ?B/s]\n",
      "  6%|▌         | 98.3k/1.65M [00:00<00:02, 580kB/s]\n",
      " 26%|██▌       | 426k/1.65M [00:00<00:00, 1.37MB/s]\n"
     ]
    },
    {
     "name": "stdout",
     "output_type": "stream",
     "text": [
      "\u001b[36m(RayTrainWorker pid=57177)\u001b[0m Extracting /var/folders/mf/cfzv46p15017stkscsq9jw9h0000gn/T/tmpynugre8n/MNIST/raw/t10k-images-idx3-ubyte.gz to /var/folders/mf/cfzv46p15017stkscsq9jw9h0000gn/T/tmpynugre8n/MNIST/raw\n",
      "\u001b[36m(RayTrainWorker pid=57177)\u001b[0m \n",
      "\u001b[36m(RayTrainWorker pid=57177)\u001b[0m Downloading http://yann.lecun.com/exdb/mnist/t10k-labels-idx1-ubyte.gz\u001b[32m [repeated 6x across cluster]\u001b[0m\n"
     ]
    },
    {
     "name": "stderr",
     "output_type": "stream",
     "text": [
      "100%|██████████| 1.65M/1.65M [00:00<00:00, 3.35MB/s]\n"
     ]
    },
    {
     "name": "stdout",
     "output_type": "stream",
     "text": [
      "\u001b[36m(RayTrainWorker pid=57177)\u001b[0m Failed to download (trying next):\n",
      "\u001b[36m(RayTrainWorker pid=57177)\u001b[0m HTTP Error 403: Forbidden\n",
      "\u001b[36m(RayTrainWorker pid=57177)\u001b[0m \n",
      "\u001b[36m(RayTrainWorker pid=57177)\u001b[0m Downloading https://ossci-datasets.s3.amazonaws.com/mnist/t10k-labels-idx1-ubyte.gz to /var/folders/mf/cfzv46p15017stkscsq9jw9h0000gn/T/tmpynugre8n/MNIST/raw/t10k-labels-idx1-ubyte.gz\n",
      "\u001b[36m(RayTrainWorker pid=57177)\u001b[0m Extracting /var/folders/mf/cfzv46p15017stkscsq9jw9h0000gn/T/tmpynugre8n/MNIST/raw/t10k-labels-idx1-ubyte.gz to /var/folders/mf/cfzv46p15017stkscsq9jw9h0000gn/T/tmpynugre8n/MNIST/raw\n",
      "\u001b[36m(RayTrainWorker pid=57177)\u001b[0m \n"
     ]
    },
    {
     "name": "stderr",
     "output_type": "stream",
     "text": [
      "100%|██████████| 4.54k/4.54k [00:00<00:00, 1.45MB/s]\n",
      "\u001b[36m(RayTrainWorker pid=56542)\u001b[0m Checkpoint successfully created at: Checkpoint(filesystem=local, path=/Users/sidharrthnagappan/ray_results/TorchTrainer_2024-12-24_17-34-19/TorchTrainer_4f4b8_00034_34_batch_size=128,dropout=0.2389,layer_1_size=128,layer_2_size=64,layer_3_size=128,learning_rate=0.0025_2024-12-24_17-34-21/checkpoint_000002)\n",
      "\u001b[36m(RayTrainWorker pid=57177)\u001b[0m \n",
      "\u001b[36m(RayTrainWorker pid=57177)\u001b[0m   | Name     | Type               | Params | Mode \n",
      "\u001b[36m(RayTrainWorker pid=57177)\u001b[0m --------------------------------------------------------\n",
      "\u001b[36m(RayTrainWorker pid=57177)\u001b[0m 0 | accuracy | MulticlassAccuracy | 0      | train\n",
      "\u001b[36m(RayTrainWorker pid=57177)\u001b[0m 1 | layer1   | Linear             | 50.2 K | train\n",
      "\u001b[36m(RayTrainWorker pid=57177)\u001b[0m 2 | layer2   | Linear             | 8.3 K  | train\n",
      "\u001b[36m(RayTrainWorker pid=57177)\u001b[0m 3 | layer3   | Linear             | 66.0 K | train\n",
      "\u001b[36m(RayTrainWorker pid=57177)\u001b[0m 4 | layer4   | Linear             | 5.1 K  | train\n",
      "\u001b[36m(RayTrainWorker pid=57177)\u001b[0m 5 | dropout  | Dropout            | 0      | train\n",
      "\u001b[36m(RayTrainWorker pid=57177)\u001b[0m --------------------------------------------------------\n",
      "\u001b[36m(RayTrainWorker pid=57177)\u001b[0m 129 K     Trainable params\n",
      "\u001b[36m(RayTrainWorker pid=57177)\u001b[0m 0         Non-trainable params\n",
      "\u001b[36m(RayTrainWorker pid=57177)\u001b[0m 129 K     Total params\n",
      "\u001b[36m(RayTrainWorker pid=57177)\u001b[0m 0.519     Total estimated model params size (MB)\n",
      "\u001b[36m(RayTrainWorker pid=57177)\u001b[0m 6         Modules in train mode\n",
      "\u001b[36m(RayTrainWorker pid=57177)\u001b[0m 0         Modules in eval mode\n",
      "\u001b[36m(RayTrainWorker pid=57177)\u001b[0m /Users/sidharrthnagappan/.virtualenvs/lsdp_miniproject/lib/python3.11/site-packages/pytorch_lightning/trainer/connectors/data_connector.py:420: Consider setting `persistent_workers=True` in 'val_dataloader' to speed up the dataloader worker initialization.\n",
      "\u001b[36m(RayTrainWorker pid=56794)\u001b[0m /Users/sidharrthnagappan/.pyenv/versions/3.11.0/lib/python3.11/multiprocessing/resource_tracker.py:224: UserWarning: resource_tracker: There appear to be 55 leaked semaphore objects to clean up at shutdown\n",
      "\u001b[36m(RayTrainWorker pid=56794)\u001b[0m   warnings.warn('resource_tracker: There appear to be %d '\n",
      "\u001b[36m(RayTrainWorker pid=56664)\u001b[0m Checkpoint successfully created at: Checkpoint(filesystem=local, path=/Users/sidharrthnagappan/ray_results/TorchTrainer_2024-12-24_17-34-19/TorchTrainer_4f4b8_00035_35_batch_size=64,dropout=0.1514,layer_1_size=64,layer_2_size=64,layer_3_size=256,learning_rate=0.0030_2024-12-24_17-34-21/checkpoint_000001)\n",
      "\u001b[36m(RayTrainWorker pid=57177)\u001b[0m /Users/sidharrthnagappan/.virtualenvs/lsdp_miniproject/lib/python3.11/site-packages/pytorch_lightning/trainer/connectors/data_connector.py:420: Consider setting `persistent_workers=True` in 'train_dataloader' to speed up the dataloader worker initialization.\n",
      "2024-12-24 17:40:32,624\tINFO tune.py:1041 -- Total run time: 371.43 seconds (360.60 seconds for the tuning loop).\n",
      "2024-12-24 17:40:32,630\tWARNING tune.py:1056 -- Experiment has been interrupted, but the most recent state was saved.\n",
      "Resume experiment with: Tuner.restore(path=\"/Users/sidharrthnagappan/ray_results/TorchTrainer_2024-12-24_17-34-19\", trainable=...)\n",
      "2024-12-24 17:40:32,748\tWARNING experiment_analysis.py:180 -- Failed to fetch metrics for 61 trial(s):\n",
      "- TorchTrainer_4f4b8_00039: FileNotFoundError('Could not fetch metrics for TorchTrainer_4f4b8_00039: both result.json and progress.csv were not found at /Users/sidharrthnagappan/ray_results/TorchTrainer_2024-12-24_17-34-19/TorchTrainer_4f4b8_00039_39_batch_size=32,dropout=0.1003,layer_1_size=64,layer_2_size=128,layer_3_size=128,learning_rate=0.0006_2024-12-24_17-34-21')\n",
      "- TorchTrainer_4f4b8_00040: FileNotFoundError('Could not fetch metrics for TorchTrainer_4f4b8_00040: both result.json and progress.csv were not found at /Users/sidharrthnagappan/ray_results/TorchTrainer_2024-12-24_17-34-19/TorchTrainer_4f4b8_00040_40_batch_size=128,dropout=0.2081,layer_1_size=32,layer_2_size=64,layer_3_size=128,learning_rate=0.0018_2024-12-24_17-34-21')\n",
      "- TorchTrainer_4f4b8_00041: FileNotFoundError('Could not fetch metrics for TorchTrainer_4f4b8_00041: both result.json and progress.csv were not found at /Users/sidharrthnagappan/ray_results/TorchTrainer_2024-12-24_17-34-19/TorchTrainer_4f4b8_00041_41_batch_size=32,dropout=0.1742,layer_1_size=32,layer_2_size=128,layer_3_size=128,learning_rate=0.0001_2024-12-24_17-34-21')\n",
      "- TorchTrainer_4f4b8_00042: FileNotFoundError('Could not fetch metrics for TorchTrainer_4f4b8_00042: both result.json and progress.csv were not found at /Users/sidharrthnagappan/ray_results/TorchTrainer_2024-12-24_17-34-19/TorchTrainer_4f4b8_00042_42_batch_size=32,dropout=0.2102,layer_1_size=128,layer_2_size=128,layer_3_size=512,learning_rate=0.0046_2024-12-24_17-34-21')\n",
      "- TorchTrainer_4f4b8_00043: FileNotFoundError('Could not fetch metrics for TorchTrainer_4f4b8_00043: both result.json and progress.csv were not found at /Users/sidharrthnagappan/ray_results/TorchTrainer_2024-12-24_17-34-19/TorchTrainer_4f4b8_00043_43_batch_size=128,dropout=0.1771,layer_1_size=32,layer_2_size=256,layer_3_size=512,learning_rate=0.0001_2024-12-24_17-34-21')\n",
      "- TorchTrainer_4f4b8_00044: FileNotFoundError('Could not fetch metrics for TorchTrainer_4f4b8_00044: both result.json and progress.csv were not found at /Users/sidharrthnagappan/ray_results/TorchTrainer_2024-12-24_17-34-19/TorchTrainer_4f4b8_00044_44_batch_size=128,dropout=0.1525,layer_1_size=64,layer_2_size=64,layer_3_size=512,learning_rate=0.0823_2024-12-24_17-34-21')\n",
      "- TorchTrainer_4f4b8_00045: FileNotFoundError('Could not fetch metrics for TorchTrainer_4f4b8_00045: both result.json and progress.csv were not found at /Users/sidharrthnagappan/ray_results/TorchTrainer_2024-12-24_17-34-19/TorchTrainer_4f4b8_00045_45_batch_size=32,dropout=0.2588,layer_1_size=128,layer_2_size=128,layer_3_size=512,learning_rate=0.0032_2024-12-24_17-34-21')\n",
      "- TorchTrainer_4f4b8_00046: FileNotFoundError('Could not fetch metrics for TorchTrainer_4f4b8_00046: both result.json and progress.csv were not found at /Users/sidharrthnagappan/ray_results/TorchTrainer_2024-12-24_17-34-19/TorchTrainer_4f4b8_00046_46_batch_size=64,dropout=0.1737,layer_1_size=128,layer_2_size=64,layer_3_size=256,learning_rate=0.0312_2024-12-24_17-34-21')\n",
      "- TorchTrainer_4f4b8_00047: FileNotFoundError('Could not fetch metrics for TorchTrainer_4f4b8_00047: both result.json and progress.csv were not found at /Users/sidharrthnagappan/ray_results/TorchTrainer_2024-12-24_17-34-19/TorchTrainer_4f4b8_00047_47_batch_size=128,dropout=0.2935,layer_1_size=32,layer_2_size=64,layer_3_size=512,learning_rate=0.0002_2024-12-24_17-34-21')\n",
      "- TorchTrainer_4f4b8_00048: FileNotFoundError('Could not fetch metrics for TorchTrainer_4f4b8_00048: both result.json and progress.csv were not found at /Users/sidharrthnagappan/ray_results/TorchTrainer_2024-12-24_17-34-19/TorchTrainer_4f4b8_00048_48_batch_size=128,dropout=0.2756,layer_1_size=64,layer_2_size=256,layer_3_size=256,learning_rate=0.0039_2024-12-24_17-34-21')\n",
      "- TorchTrainer_4f4b8_00049: FileNotFoundError('Could not fetch metrics for TorchTrainer_4f4b8_00049: both result.json and progress.csv were not found at /Users/sidharrthnagappan/ray_results/TorchTrainer_2024-12-24_17-34-19/TorchTrainer_4f4b8_00049_49_batch_size=64,dropout=0.1020,layer_1_size=128,layer_2_size=128,layer_3_size=128,learning_rate=0.0122_2024-12-24_17-34-21')\n",
      "- TorchTrainer_4f4b8_00050: FileNotFoundError('Could not fetch metrics for TorchTrainer_4f4b8_00050: both result.json and progress.csv were not found at /Users/sidharrthnagappan/ray_results/TorchTrainer_2024-12-24_17-34-19/TorchTrainer_4f4b8_00050_50_batch_size=32,dropout=0.2974,layer_1_size=64,layer_2_size=256,layer_3_size=256,learning_rate=0.0008_2024-12-24_17-34-21')\n",
      "- TorchTrainer_4f4b8_00051: FileNotFoundError('Could not fetch metrics for TorchTrainer_4f4b8_00051: both result.json and progress.csv were not found at /Users/sidharrthnagappan/ray_results/TorchTrainer_2024-12-24_17-34-19/TorchTrainer_4f4b8_00051_51_batch_size=128,dropout=0.2252,layer_1_size=128,layer_2_size=128,layer_3_size=128,learning_rate=0.0009_2024-12-24_17-34-21')\n",
      "- TorchTrainer_4f4b8_00052: FileNotFoundError('Could not fetch metrics for TorchTrainer_4f4b8_00052: both result.json and progress.csv were not found at /Users/sidharrthnagappan/ray_results/TorchTrainer_2024-12-24_17-34-19/TorchTrainer_4f4b8_00052_52_batch_size=32,dropout=0.2453,layer_1_size=32,layer_2_size=256,layer_3_size=256,learning_rate=0.0048_2024-12-24_17-34-21')\n",
      "- TorchTrainer_4f4b8_00053: FileNotFoundError('Could not fetch metrics for TorchTrainer_4f4b8_00053: both result.json and progress.csv were not found at /Users/sidharrthnagappan/ray_results/TorchTrainer_2024-12-24_17-34-19/TorchTrainer_4f4b8_00053_53_batch_size=128,dropout=0.1072,layer_1_size=128,layer_2_size=256,layer_3_size=512,learning_rate=0.0060_2024-12-24_17-34-21')\n",
      "- TorchTrainer_4f4b8_00054: FileNotFoundError('Could not fetch metrics for TorchTrainer_4f4b8_00054: both result.json and progress.csv were not found at /Users/sidharrthnagappan/ray_results/TorchTrainer_2024-12-24_17-34-19/TorchTrainer_4f4b8_00054_54_batch_size=32,dropout=0.1553,layer_1_size=64,layer_2_size=128,layer_3_size=256,learning_rate=0.0003_2024-12-24_17-34-21')\n",
      "- TorchTrainer_4f4b8_00055: FileNotFoundError('Could not fetch metrics for TorchTrainer_4f4b8_00055: both result.json and progress.csv were not found at /Users/sidharrthnagappan/ray_results/TorchTrainer_2024-12-24_17-34-19/TorchTrainer_4f4b8_00055_55_batch_size=128,dropout=0.2046,layer_1_size=128,layer_2_size=128,layer_3_size=512,learning_rate=0.0676_2024-12-24_17-34-21')\n",
      "- TorchTrainer_4f4b8_00056: FileNotFoundError('Could not fetch metrics for TorchTrainer_4f4b8_00056: both result.json and progress.csv were not found at /Users/sidharrthnagappan/ray_results/TorchTrainer_2024-12-24_17-34-19/TorchTrainer_4f4b8_00056_56_batch_size=64,dropout=0.1312,layer_1_size=128,layer_2_size=256,layer_3_size=128,learning_rate=0.0005_2024-12-24_17-34-21')\n",
      "- TorchTrainer_4f4b8_00057: FileNotFoundError('Could not fetch metrics for TorchTrainer_4f4b8_00057: both result.json and progress.csv were not found at /Users/sidharrthnagappan/ray_results/TorchTrainer_2024-12-24_17-34-19/TorchTrainer_4f4b8_00057_57_batch_size=128,dropout=0.1647,layer_1_size=32,layer_2_size=64,layer_3_size=128,learning_rate=0.0001_2024-12-24_17-34-21')\n",
      "- TorchTrainer_4f4b8_00058: FileNotFoundError('Could not fetch metrics for TorchTrainer_4f4b8_00058: both result.json and progress.csv were not found at /Users/sidharrthnagappan/ray_results/TorchTrainer_2024-12-24_17-34-19/TorchTrainer_4f4b8_00058_58_batch_size=64,dropout=0.2690,layer_1_size=128,layer_2_size=128,layer_3_size=512,learning_rate=0.0020_2024-12-24_17-34-21')\n",
      "- TorchTrainer_4f4b8_00059: FileNotFoundError('Could not fetch metrics for TorchTrainer_4f4b8_00059: both result.json and progress.csv were not found at /Users/sidharrthnagappan/ray_results/TorchTrainer_2024-12-24_17-34-19/TorchTrainer_4f4b8_00059_59_batch_size=64,dropout=0.2058,layer_1_size=128,layer_2_size=64,layer_3_size=256,learning_rate=0.0002_2024-12-24_17-34-21')\n",
      "- TorchTrainer_4f4b8_00060: FileNotFoundError('Could not fetch metrics for TorchTrainer_4f4b8_00060: both result.json and progress.csv were not found at /Users/sidharrthnagappan/ray_results/TorchTrainer_2024-12-24_17-34-19/TorchTrainer_4f4b8_00060_60_batch_size=32,dropout=0.1057,layer_1_size=32,layer_2_size=256,layer_3_size=128,learning_rate=0.0183_2024-12-24_17-34-21')\n",
      "- TorchTrainer_4f4b8_00061: FileNotFoundError('Could not fetch metrics for TorchTrainer_4f4b8_00061: both result.json and progress.csv were not found at /Users/sidharrthnagappan/ray_results/TorchTrainer_2024-12-24_17-34-19/TorchTrainer_4f4b8_00061_61_batch_size=64,dropout=0.1178,layer_1_size=64,layer_2_size=256,layer_3_size=256,learning_rate=0.0552_2024-12-24_17-34-21')\n",
      "- TorchTrainer_4f4b8_00062: FileNotFoundError('Could not fetch metrics for TorchTrainer_4f4b8_00062: both result.json and progress.csv were not found at /Users/sidharrthnagappan/ray_results/TorchTrainer_2024-12-24_17-34-19/TorchTrainer_4f4b8_00062_62_batch_size=64,dropout=0.1352,layer_1_size=32,layer_2_size=128,layer_3_size=128,learning_rate=0.0002_2024-12-24_17-34-21')\n",
      "- TorchTrainer_4f4b8_00063: FileNotFoundError('Could not fetch metrics for TorchTrainer_4f4b8_00063: both result.json and progress.csv were not found at /Users/sidharrthnagappan/ray_results/TorchTrainer_2024-12-24_17-34-19/TorchTrainer_4f4b8_00063_63_batch_size=32,dropout=0.1096,layer_1_size=32,layer_2_size=256,layer_3_size=128,learning_rate=0.0007_2024-12-24_17-34-21')\n",
      "- TorchTrainer_4f4b8_00064: FileNotFoundError('Could not fetch metrics for TorchTrainer_4f4b8_00064: both result.json and progress.csv were not found at /Users/sidharrthnagappan/ray_results/TorchTrainer_2024-12-24_17-34-19/TorchTrainer_4f4b8_00064_64_batch_size=64,dropout=0.2475,layer_1_size=32,layer_2_size=64,layer_3_size=128,learning_rate=0.0013_2024-12-24_17-34-21')\n",
      "- TorchTrainer_4f4b8_00065: FileNotFoundError('Could not fetch metrics for TorchTrainer_4f4b8_00065: both result.json and progress.csv were not found at /Users/sidharrthnagappan/ray_results/TorchTrainer_2024-12-24_17-34-19/TorchTrainer_4f4b8_00065_65_batch_size=128,dropout=0.1560,layer_1_size=128,layer_2_size=256,layer_3_size=512,learning_rate=0.0018_2024-12-24_17-34-21')\n",
      "- TorchTrainer_4f4b8_00066: FileNotFoundError('Could not fetch metrics for TorchTrainer_4f4b8_00066: both result.json and progress.csv were not found at /Users/sidharrthnagappan/ray_results/TorchTrainer_2024-12-24_17-34-19/TorchTrainer_4f4b8_00066_66_batch_size=64,dropout=0.1595,layer_1_size=64,layer_2_size=256,layer_3_size=256,learning_rate=0.0307_2024-12-24_17-34-21')\n",
      "- TorchTrainer_4f4b8_00067: FileNotFoundError('Could not fetch metrics for TorchTrainer_4f4b8_00067: both result.json and progress.csv were not found at /Users/sidharrthnagappan/ray_results/TorchTrainer_2024-12-24_17-34-19/TorchTrainer_4f4b8_00067_67_batch_size=32,dropout=0.1406,layer_1_size=128,layer_2_size=256,layer_3_size=256,learning_rate=0.0002_2024-12-24_17-34-21')\n",
      "- TorchTrainer_4f4b8_00068: FileNotFoundError('Could not fetch metrics for TorchTrainer_4f4b8_00068: both result.json and progress.csv were not found at /Users/sidharrthnagappan/ray_results/TorchTrainer_2024-12-24_17-34-19/TorchTrainer_4f4b8_00068_68_batch_size=32,dropout=0.2457,layer_1_size=128,layer_2_size=64,layer_3_size=512,learning_rate=0.0078_2024-12-24_17-34-21')\n",
      "- TorchTrainer_4f4b8_00069: FileNotFoundError('Could not fetch metrics for TorchTrainer_4f4b8_00069: both result.json and progress.csv were not found at /Users/sidharrthnagappan/ray_results/TorchTrainer_2024-12-24_17-34-19/TorchTrainer_4f4b8_00069_69_batch_size=128,dropout=0.2382,layer_1_size=64,layer_2_size=128,layer_3_size=128,learning_rate=0.0040_2024-12-24_17-34-21')\n",
      "- TorchTrainer_4f4b8_00070: FileNotFoundError('Could not fetch metrics for TorchTrainer_4f4b8_00070: both result.json and progress.csv were not found at /Users/sidharrthnagappan/ray_results/TorchTrainer_2024-12-24_17-34-19/TorchTrainer_4f4b8_00070_70_batch_size=128,dropout=0.2199,layer_1_size=32,layer_2_size=256,layer_3_size=512,learning_rate=0.0577_2024-12-24_17-34-21')\n",
      "- TorchTrainer_4f4b8_00071: FileNotFoundError('Could not fetch metrics for TorchTrainer_4f4b8_00071: both result.json and progress.csv were not found at /Users/sidharrthnagappan/ray_results/TorchTrainer_2024-12-24_17-34-19/TorchTrainer_4f4b8_00071_71_batch_size=128,dropout=0.1871,layer_1_size=64,layer_2_size=256,layer_3_size=128,learning_rate=0.0011_2024-12-24_17-34-21')\n",
      "- TorchTrainer_4f4b8_00072: FileNotFoundError('Could not fetch metrics for TorchTrainer_4f4b8_00072: both result.json and progress.csv were not found at /Users/sidharrthnagappan/ray_results/TorchTrainer_2024-12-24_17-34-19/TorchTrainer_4f4b8_00072_72_batch_size=64,dropout=0.1672,layer_1_size=32,layer_2_size=256,layer_3_size=128,learning_rate=0.0041_2024-12-24_17-34-21')\n",
      "- TorchTrainer_4f4b8_00073: FileNotFoundError('Could not fetch metrics for TorchTrainer_4f4b8_00073: both result.json and progress.csv were not found at /Users/sidharrthnagappan/ray_results/TorchTrainer_2024-12-24_17-34-19/TorchTrainer_4f4b8_00073_73_batch_size=64,dropout=0.2519,layer_1_size=64,layer_2_size=128,layer_3_size=128,learning_rate=0.0003_2024-12-24_17-34-21')\n",
      "- TorchTrainer_4f4b8_00074: FileNotFoundError('Could not fetch metrics for TorchTrainer_4f4b8_00074: both result.json and progress.csv were not found at /Users/sidharrthnagappan/ray_results/TorchTrainer_2024-12-24_17-34-19/TorchTrainer_4f4b8_00074_74_batch_size=64,dropout=0.1458,layer_1_size=64,layer_2_size=256,layer_3_size=512,learning_rate=0.0002_2024-12-24_17-34-21')\n",
      "- TorchTrainer_4f4b8_00075: FileNotFoundError('Could not fetch metrics for TorchTrainer_4f4b8_00075: both result.json and progress.csv were not found at /Users/sidharrthnagappan/ray_results/TorchTrainer_2024-12-24_17-34-19/TorchTrainer_4f4b8_00075_75_batch_size=64,dropout=0.1198,layer_1_size=32,layer_2_size=64,layer_3_size=256,learning_rate=0.0069_2024-12-24_17-34-21')\n",
      "- TorchTrainer_4f4b8_00076: FileNotFoundError('Could not fetch metrics for TorchTrainer_4f4b8_00076: both result.json and progress.csv were not found at /Users/sidharrthnagappan/ray_results/TorchTrainer_2024-12-24_17-34-19/TorchTrainer_4f4b8_00076_76_batch_size=32,dropout=0.1427,layer_1_size=64,layer_2_size=256,layer_3_size=128,learning_rate=0.0011_2024-12-24_17-34-21')\n",
      "- TorchTrainer_4f4b8_00077: FileNotFoundError('Could not fetch metrics for TorchTrainer_4f4b8_00077: both result.json and progress.csv were not found at /Users/sidharrthnagappan/ray_results/TorchTrainer_2024-12-24_17-34-19/TorchTrainer_4f4b8_00077_77_batch_size=64,dropout=0.1682,layer_1_size=128,layer_2_size=256,layer_3_size=512,learning_rate=0.0656_2024-12-24_17-34-21')\n",
      "- TorchTrainer_4f4b8_00078: FileNotFoundError('Could not fetch metrics for TorchTrainer_4f4b8_00078: both result.json and progress.csv were not found at /Users/sidharrthnagappan/ray_results/TorchTrainer_2024-12-24_17-34-19/TorchTrainer_4f4b8_00078_78_batch_size=128,dropout=0.1029,layer_1_size=128,layer_2_size=256,layer_3_size=128,learning_rate=0.0033_2024-12-24_17-34-21')\n",
      "- TorchTrainer_4f4b8_00079: FileNotFoundError('Could not fetch metrics for TorchTrainer_4f4b8_00079: both result.json and progress.csv were not found at /Users/sidharrthnagappan/ray_results/TorchTrainer_2024-12-24_17-34-19/TorchTrainer_4f4b8_00079_79_batch_size=128,dropout=0.2592,layer_1_size=32,layer_2_size=64,layer_3_size=512,learning_rate=0.0386_2024-12-24_17-34-21')\n",
      "- TorchTrainer_4f4b8_00080: FileNotFoundError('Could not fetch metrics for TorchTrainer_4f4b8_00080: both result.json and progress.csv were not found at /Users/sidharrthnagappan/ray_results/TorchTrainer_2024-12-24_17-34-19/TorchTrainer_4f4b8_00080_80_batch_size=64,dropout=0.2276,layer_1_size=64,layer_2_size=256,layer_3_size=256,learning_rate=0.0002_2024-12-24_17-34-21')\n",
      "- TorchTrainer_4f4b8_00081: FileNotFoundError('Could not fetch metrics for TorchTrainer_4f4b8_00081: both result.json and progress.csv were not found at /Users/sidharrthnagappan/ray_results/TorchTrainer_2024-12-24_17-34-19/TorchTrainer_4f4b8_00081_81_batch_size=32,dropout=0.2828,layer_1_size=32,layer_2_size=64,layer_3_size=256,learning_rate=0.0158_2024-12-24_17-34-21')\n",
      "- TorchTrainer_4f4b8_00082: FileNotFoundError('Could not fetch metrics for TorchTrainer_4f4b8_00082: both result.json and progress.csv were not found at /Users/sidharrthnagappan/ray_results/TorchTrainer_2024-12-24_17-34-19/TorchTrainer_4f4b8_00082_82_batch_size=64,dropout=0.2020,layer_1_size=64,layer_2_size=256,layer_3_size=128,learning_rate=0.0002_2024-12-24_17-34-21')\n",
      "- TorchTrainer_4f4b8_00083: FileNotFoundError('Could not fetch metrics for TorchTrainer_4f4b8_00083: both result.json and progress.csv were not found at /Users/sidharrthnagappan/ray_results/TorchTrainer_2024-12-24_17-34-19/TorchTrainer_4f4b8_00083_83_batch_size=32,dropout=0.2198,layer_1_size=32,layer_2_size=128,layer_3_size=512,learning_rate=0.0012_2024-12-24_17-34-21')\n",
      "- TorchTrainer_4f4b8_00084: FileNotFoundError('Could not fetch metrics for TorchTrainer_4f4b8_00084: both result.json and progress.csv were not found at /Users/sidharrthnagappan/ray_results/TorchTrainer_2024-12-24_17-34-19/TorchTrainer_4f4b8_00084_84_batch_size=64,dropout=0.1650,layer_1_size=128,layer_2_size=256,layer_3_size=512,learning_rate=0.0468_2024-12-24_17-34-21')\n",
      "- TorchTrainer_4f4b8_00085: FileNotFoundError('Could not fetch metrics for TorchTrainer_4f4b8_00085: both result.json and progress.csv were not found at /Users/sidharrthnagappan/ray_results/TorchTrainer_2024-12-24_17-34-19/TorchTrainer_4f4b8_00085_85_batch_size=64,dropout=0.1455,layer_1_size=128,layer_2_size=256,layer_3_size=512,learning_rate=0.0604_2024-12-24_17-34-21')\n",
      "- TorchTrainer_4f4b8_00086: FileNotFoundError('Could not fetch metrics for TorchTrainer_4f4b8_00086: both result.json and progress.csv were not found at /Users/sidharrthnagappan/ray_results/TorchTrainer_2024-12-24_17-34-19/TorchTrainer_4f4b8_00086_86_batch_size=32,dropout=0.1647,layer_1_size=32,layer_2_size=64,layer_3_size=256,learning_rate=0.0202_2024-12-24_17-34-21')\n",
      "- TorchTrainer_4f4b8_00087: FileNotFoundError('Could not fetch metrics for TorchTrainer_4f4b8_00087: both result.json and progress.csv were not found at /Users/sidharrthnagappan/ray_results/TorchTrainer_2024-12-24_17-34-19/TorchTrainer_4f4b8_00087_87_batch_size=128,dropout=0.2150,layer_1_size=32,layer_2_size=128,layer_3_size=512,learning_rate=0.0013_2024-12-24_17-34-21')\n",
      "- TorchTrainer_4f4b8_00088: FileNotFoundError('Could not fetch metrics for TorchTrainer_4f4b8_00088: both result.json and progress.csv were not found at /Users/sidharrthnagappan/ray_results/TorchTrainer_2024-12-24_17-34-19/TorchTrainer_4f4b8_00088_88_batch_size=64,dropout=0.1053,layer_1_size=32,layer_2_size=256,layer_3_size=256,learning_rate=0.0136_2024-12-24_17-34-21')\n",
      "- TorchTrainer_4f4b8_00089: FileNotFoundError('Could not fetch metrics for TorchTrainer_4f4b8_00089: both result.json and progress.csv were not found at /Users/sidharrthnagappan/ray_results/TorchTrainer_2024-12-24_17-34-19/TorchTrainer_4f4b8_00089_89_batch_size=32,dropout=0.2471,layer_1_size=128,layer_2_size=256,layer_3_size=256,learning_rate=0.0004_2024-12-24_17-34-21')\n",
      "- TorchTrainer_4f4b8_00090: FileNotFoundError('Could not fetch metrics for TorchTrainer_4f4b8_00090: both result.json and progress.csv were not found at /Users/sidharrthnagappan/ray_results/TorchTrainer_2024-12-24_17-34-19/TorchTrainer_4f4b8_00090_90_batch_size=128,dropout=0.1816,layer_1_size=128,layer_2_size=256,layer_3_size=128,learning_rate=0.0031_2024-12-24_17-34-21')\n",
      "- TorchTrainer_4f4b8_00091: FileNotFoundError('Could not fetch metrics for TorchTrainer_4f4b8_00091: both result.json and progress.csv were not found at /Users/sidharrthnagappan/ray_results/TorchTrainer_2024-12-24_17-34-19/TorchTrainer_4f4b8_00091_91_batch_size=32,dropout=0.1205,layer_1_size=32,layer_2_size=64,layer_3_size=512,learning_rate=0.0011_2024-12-24_17-34-21')\n",
      "- TorchTrainer_4f4b8_00092: FileNotFoundError('Could not fetch metrics for TorchTrainer_4f4b8_00092: both result.json and progress.csv were not found at /Users/sidharrthnagappan/ray_results/TorchTrainer_2024-12-24_17-34-19/TorchTrainer_4f4b8_00092_92_batch_size=64,dropout=0.1630,layer_1_size=128,layer_2_size=64,layer_3_size=128,learning_rate=0.0876_2024-12-24_17-34-21')\n",
      "- TorchTrainer_4f4b8_00093: FileNotFoundError('Could not fetch metrics for TorchTrainer_4f4b8_00093: both result.json and progress.csv were not found at /Users/sidharrthnagappan/ray_results/TorchTrainer_2024-12-24_17-34-19/TorchTrainer_4f4b8_00093_93_batch_size=64,dropout=0.1335,layer_1_size=64,layer_2_size=64,layer_3_size=512,learning_rate=0.0022_2024-12-24_17-34-21')\n",
      "- TorchTrainer_4f4b8_00094: FileNotFoundError('Could not fetch metrics for TorchTrainer_4f4b8_00094: both result.json and progress.csv were not found at /Users/sidharrthnagappan/ray_results/TorchTrainer_2024-12-24_17-34-19/TorchTrainer_4f4b8_00094_94_batch_size=128,dropout=0.1068,layer_1_size=128,layer_2_size=256,layer_3_size=256,learning_rate=0.0240_2024-12-24_17-34-21')\n",
      "- TorchTrainer_4f4b8_00095: FileNotFoundError('Could not fetch metrics for TorchTrainer_4f4b8_00095: both result.json and progress.csv were not found at /Users/sidharrthnagappan/ray_results/TorchTrainer_2024-12-24_17-34-19/TorchTrainer_4f4b8_00095_95_batch_size=128,dropout=0.2614,layer_1_size=32,layer_2_size=256,layer_3_size=128,learning_rate=0.0056_2024-12-24_17-34-21')\n",
      "- TorchTrainer_4f4b8_00096: FileNotFoundError('Could not fetch metrics for TorchTrainer_4f4b8_00096: both result.json and progress.csv were not found at /Users/sidharrthnagappan/ray_results/TorchTrainer_2024-12-24_17-34-19/TorchTrainer_4f4b8_00096_96_batch_size=32,dropout=0.2662,layer_1_size=128,layer_2_size=128,layer_3_size=512,learning_rate=0.0062_2024-12-24_17-34-21')\n",
      "- TorchTrainer_4f4b8_00097: FileNotFoundError('Could not fetch metrics for TorchTrainer_4f4b8_00097: both result.json and progress.csv were not found at /Users/sidharrthnagappan/ray_results/TorchTrainer_2024-12-24_17-34-19/TorchTrainer_4f4b8_00097_97_batch_size=32,dropout=0.1770,layer_1_size=32,layer_2_size=256,layer_3_size=512,learning_rate=0.0002_2024-12-24_17-34-21')\n",
      "- TorchTrainer_4f4b8_00098: FileNotFoundError('Could not fetch metrics for TorchTrainer_4f4b8_00098: both result.json and progress.csv were not found at /Users/sidharrthnagappan/ray_results/TorchTrainer_2024-12-24_17-34-19/TorchTrainer_4f4b8_00098_98_batch_size=32,dropout=0.1392,layer_1_size=128,layer_2_size=256,layer_3_size=512,learning_rate=0.0025_2024-12-24_17-34-21')\n",
      "- TorchTrainer_4f4b8_00099: FileNotFoundError('Could not fetch metrics for TorchTrainer_4f4b8_00099: both result.json and progress.csv were not found at /Users/sidharrthnagappan/ray_results/TorchTrainer_2024-12-24_17-34-19/TorchTrainer_4f4b8_00099_99_batch_size=128,dropout=0.2809,layer_1_size=64,layer_2_size=128,layer_3_size=128,learning_rate=0.0113_2024-12-24_17-34-21')\n"
     ]
    },
    {
     "data": {
      "text/plain": [
       "ResultGrid<[\n",
       "  Result(\n",
       "    metrics={'ptl/train_loss': 0.14144454896450043, 'ptl/train_accuracy': 0.9659090638160706, 'ptl/val_loss': 0.09280373156070709, 'ptl/val_accuracy': 0.970507800579071, 'epoch': 4, 'step': 2150},\n",
       "    path='/Users/sidharrthnagappan/ray_results/TorchTrainer_2024-12-24_17-34-19/TorchTrainer_4f4b8_00000_0_batch_size=128,dropout=0.1647,layer_1_size=64,layer_2_size=256,layer_3_size=256,learning_rate=0.0013_2024-12-24_17-34-21',\n",
       "    filesystem='local',\n",
       "    checkpoint=Checkpoint(filesystem=local, path=/Users/sidharrthnagappan/ray_results/TorchTrainer_2024-12-24_17-34-19/TorchTrainer_4f4b8_00000_0_batch_size=128,dropout=0.1647,layer_1_size=64,layer_2_size=256,layer_3_size=256,learning_rate=0.0013_2024-12-24_17-34-21/checkpoint_000004)\n",
       "  ),\n",
       "  Result(\n",
       "    metrics={'ptl/train_loss': 0.24482308328151703, 'ptl/train_accuracy': 0.9583333134651184, 'ptl/val_loss': 0.1930762678384781, 'ptl/val_accuracy': 0.9432357549667358, 'epoch': 0, 'step': 860},\n",
       "    path='/Users/sidharrthnagappan/ray_results/TorchTrainer_2024-12-24_17-34-19/TorchTrainer_4f4b8_00001_1_batch_size=64,dropout=0.1630,layer_1_size=128,layer_2_size=256,layer_3_size=128,learning_rate=0.0033_2024-12-24_17-34-21',\n",
       "    filesystem='local',\n",
       "    checkpoint=Checkpoint(filesystem=local, path=/Users/sidharrthnagappan/ray_results/TorchTrainer_2024-12-24_17-34-19/TorchTrainer_4f4b8_00001_1_batch_size=64,dropout=0.1630,layer_1_size=128,layer_2_size=256,layer_3_size=128,learning_rate=0.0033_2024-12-24_17-34-21/checkpoint_000000)\n",
       "  ),\n",
       "  Result(\n",
       "    metrics={'ptl/train_loss': 0.006889925803989172, 'ptl/train_accuracy': 1.0, 'ptl/val_loss': 0.11587541550397873, 'ptl/val_accuracy': 0.9661787748336792, 'epoch': 4, 'step': 4300},\n",
       "    path='/Users/sidharrthnagappan/ray_results/TorchTrainer_2024-12-24_17-34-19/TorchTrainer_4f4b8_00002_2_batch_size=64,dropout=0.1395,layer_1_size=64,layer_2_size=64,layer_3_size=256,learning_rate=0.0017_2024-12-24_17-34-21',\n",
       "    filesystem='local',\n",
       "    checkpoint=Checkpoint(filesystem=local, path=/Users/sidharrthnagappan/ray_results/TorchTrainer_2024-12-24_17-34-19/TorchTrainer_4f4b8_00002_2_batch_size=64,dropout=0.1395,layer_1_size=64,layer_2_size=64,layer_3_size=256,learning_rate=0.0017_2024-12-24_17-34-21/checkpoint_000004)\n",
       "  ),\n",
       "  Result(\n",
       "    metrics={'ptl/train_loss': 0.619470477104187, 'ptl/train_accuracy': 0.8181818127632141, 'ptl/val_loss': 0.48911532759666443, 'ptl/val_accuracy': 0.885546863079071, 'epoch': 4, 'step': 2150},\n",
       "    path='/Users/sidharrthnagappan/ray_results/TorchTrainer_2024-12-24_17-34-19/TorchTrainer_4f4b8_00003_3_batch_size=128,dropout=0.2106,layer_1_size=128,layer_2_size=64,layer_3_size=128,learning_rate=0.0230_2024-12-24_17-34-21',\n",
       "    filesystem='local',\n",
       "    checkpoint=Checkpoint(filesystem=local, path=/Users/sidharrthnagappan/ray_results/TorchTrainer_2024-12-24_17-34-19/TorchTrainer_4f4b8_00003_3_batch_size=128,dropout=0.2106,layer_1_size=128,layer_2_size=64,layer_3_size=128,learning_rate=0.0230_2024-12-24_17-34-21/checkpoint_000004)\n",
       "  ),\n",
       "  Result(\n",
       "    metrics={'ptl/train_loss': 0.18450260162353516, 'ptl/train_accuracy': 0.9583333134651184, 'ptl/val_loss': 0.21915975213050842, 'ptl/val_accuracy': 0.9327229261398315, 'epoch': 0, 'step': 1719},\n",
       "    path='/Users/sidharrthnagappan/ray_results/TorchTrainer_2024-12-24_17-34-19/TorchTrainer_4f4b8_00004_4_batch_size=32,dropout=0.2442,layer_1_size=64,layer_2_size=64,layer_3_size=512,learning_rate=0.0013_2024-12-24_17-34-21',\n",
       "    filesystem='local',\n",
       "    checkpoint=Checkpoint(filesystem=local, path=/Users/sidharrthnagappan/ray_results/TorchTrainer_2024-12-24_17-34-19/TorchTrainer_4f4b8_00004_4_batch_size=32,dropout=0.2442,layer_1_size=64,layer_2_size=64,layer_3_size=512,learning_rate=0.0013_2024-12-24_17-34-21/checkpoint_000000)\n",
       "  ),\n",
       "  Result(\n",
       "    metrics={'ptl/train_loss': 0.10655687004327774, 'ptl/train_accuracy': 1.0, 'ptl/val_loss': 0.21590210497379303, 'ptl/val_accuracy': 0.9355221390724182, 'epoch': 0, 'step': 860},\n",
       "    path='/Users/sidharrthnagappan/ray_results/TorchTrainer_2024-12-24_17-34-19/TorchTrainer_4f4b8_00005_5_batch_size=64,dropout=0.2187,layer_1_size=32,layer_2_size=128,layer_3_size=256,learning_rate=0.0018_2024-12-24_17-34-21',\n",
       "    filesystem='local',\n",
       "    checkpoint=Checkpoint(filesystem=local, path=/Users/sidharrthnagappan/ray_results/TorchTrainer_2024-12-24_17-34-19/TorchTrainer_4f4b8_00005_5_batch_size=64,dropout=0.2187,layer_1_size=32,layer_2_size=128,layer_3_size=256,learning_rate=0.0018_2024-12-24_17-34-21/checkpoint_000000)\n",
       "  ),\n",
       "  Result(\n",
       "    metrics={'ptl/train_loss': 0.48807045817375183, 'ptl/train_accuracy': 0.875, 'ptl/val_loss': 0.36634716391563416, 'ptl/val_accuracy': 0.904469907283783, 'epoch': 0, 'step': 860},\n",
       "    path='/Users/sidharrthnagappan/ray_results/TorchTrainer_2024-12-24_17-34-19/TorchTrainer_4f4b8_00006_6_batch_size=64,dropout=0.2174,layer_1_size=64,layer_2_size=256,layer_3_size=128,learning_rate=0.0088_2024-12-24_17-34-21',\n",
       "    filesystem='local',\n",
       "    checkpoint=Checkpoint(filesystem=local, path=/Users/sidharrthnagappan/ray_results/TorchTrainer_2024-12-24_17-34-19/TorchTrainer_4f4b8_00006_6_batch_size=64,dropout=0.2174,layer_1_size=64,layer_2_size=256,layer_3_size=128,learning_rate=0.0088_2024-12-24_17-34-21/checkpoint_000000)\n",
       "  ),\n",
       "  Result(\n",
       "    metrics={'ptl/train_loss': 0.4480839669704437, 'ptl/train_accuracy': 0.9166666865348816, 'ptl/val_loss': 0.50906902551651, 'ptl/val_accuracy': 0.8617483973503113, 'epoch': 0, 'step': 860},\n",
       "    path='/Users/sidharrthnagappan/ray_results/TorchTrainer_2024-12-24_17-34-19/TorchTrainer_4f4b8_00007_7_batch_size=64,dropout=0.1907,layer_1_size=128,layer_2_size=256,layer_3_size=512,learning_rate=0.0119_2024-12-24_17-34-21',\n",
       "    filesystem='local',\n",
       "    checkpoint=Checkpoint(filesystem=local, path=/Users/sidharrthnagappan/ray_results/TorchTrainer_2024-12-24_17-34-19/TorchTrainer_4f4b8_00007_7_batch_size=64,dropout=0.1907,layer_1_size=128,layer_2_size=256,layer_3_size=512,learning_rate=0.0119_2024-12-24_17-34-21/checkpoint_000000)\n",
       "  ),\n",
       "  Result(\n",
       "    metrics={'ptl/train_loss': 0.5519037842750549, 'ptl/train_accuracy': 0.8409090638160706, 'ptl/val_loss': 0.42836737632751465, 'ptl/val_accuracy': 0.875781238079071, 'epoch': 0, 'step': 430},\n",
       "    path='/Users/sidharrthnagappan/ray_results/TorchTrainer_2024-12-24_17-34-19/TorchTrainer_4f4b8_00008_8_batch_size=128,dropout=0.1465,layer_1_size=32,layer_2_size=128,layer_3_size=256,learning_rate=0.0001_2024-12-24_17-34-21',\n",
       "    filesystem='local',\n",
       "    checkpoint=Checkpoint(filesystem=local, path=/Users/sidharrthnagappan/ray_results/TorchTrainer_2024-12-24_17-34-19/TorchTrainer_4f4b8_00008_8_batch_size=128,dropout=0.1465,layer_1_size=32,layer_2_size=128,layer_3_size=256,learning_rate=0.0001_2024-12-24_17-34-21/checkpoint_000000)\n",
       "  ),\n",
       "  Result(\n",
       "    metrics={'ptl/train_loss': 0.22767268121242523, 'ptl/train_accuracy': 0.9431818127632141, 'ptl/val_loss': 0.08666232228279114, 'ptl/val_accuracy': 0.9730468988418579, 'epoch': 4, 'step': 2150},\n",
       "    path='/Users/sidharrthnagappan/ray_results/TorchTrainer_2024-12-24_17-34-19/TorchTrainer_4f4b8_00009_9_batch_size=128,dropout=0.2985,layer_1_size=128,layer_2_size=128,layer_3_size=256,learning_rate=0.0009_2024-12-24_17-34-21',\n",
       "    filesystem='local',\n",
       "    checkpoint=Checkpoint(filesystem=local, path=/Users/sidharrthnagappan/ray_results/TorchTrainer_2024-12-24_17-34-19/TorchTrainer_4f4b8_00009_9_batch_size=128,dropout=0.2985,layer_1_size=128,layer_2_size=128,layer_3_size=256,learning_rate=0.0009_2024-12-24_17-34-21/checkpoint_000004)\n",
       "  ),\n",
       "  Result(\n",
       "    metrics={'ptl/train_loss': 0.008121379651129246, 'ptl/train_accuracy': 1.0, 'ptl/val_loss': 0.09279411286115646, 'ptl/val_accuracy': 0.9721123576164246, 'epoch': 4, 'step': 4300},\n",
       "    path='/Users/sidharrthnagappan/ray_results/TorchTrainer_2024-12-24_17-34-19/TorchTrainer_4f4b8_00010_10_batch_size=64,dropout=0.2489,layer_1_size=128,layer_2_size=128,layer_3_size=256,learning_rate=0.0008_2024-12-24_17-34-21',\n",
       "    filesystem='local',\n",
       "    checkpoint=Checkpoint(filesystem=local, path=/Users/sidharrthnagappan/ray_results/TorchTrainer_2024-12-24_17-34-19/TorchTrainer_4f4b8_00010_10_batch_size=64,dropout=0.2489,layer_1_size=128,layer_2_size=128,layer_3_size=256,learning_rate=0.0008_2024-12-24_17-34-21/checkpoint_000004)\n",
       "  ),\n",
       "  Result(\n",
       "    metrics={'ptl/train_loss': 0.8838803172111511, 'ptl/train_accuracy': 0.8333333134651184, 'ptl/val_loss': 0.196405291557312, 'ptl/val_accuracy': 0.9506369233131409, 'epoch': 1, 'step': 3438},\n",
       "    path='/Users/sidharrthnagappan/ray_results/TorchTrainer_2024-12-24_17-34-19/TorchTrainer_4f4b8_00011_11_batch_size=32,dropout=0.1836,layer_1_size=128,layer_2_size=64,layer_3_size=128,learning_rate=0.0046_2024-12-24_17-34-21',\n",
       "    filesystem='local',\n",
       "    checkpoint=Checkpoint(filesystem=local, path=/Users/sidharrthnagappan/ray_results/TorchTrainer_2024-12-24_17-34-19/TorchTrainer_4f4b8_00011_11_batch_size=32,dropout=0.1836,layer_1_size=128,layer_2_size=64,layer_3_size=128,learning_rate=0.0046_2024-12-24_17-34-21/checkpoint_000001)\n",
       "  ),\n",
       "  Result(\n",
       "    metrics={'ptl/train_loss': 2.2639825344085693, 'ptl/train_accuracy': 0.125, 'ptl/val_loss': 2.301172971725464, 'ptl/val_accuracy': 0.11451740562915802, 'epoch': 0, 'step': 860},\n",
       "    path='/Users/sidharrthnagappan/ray_results/TorchTrainer_2024-12-24_17-34-19/TorchTrainer_4f4b8_00012_12_batch_size=64,dropout=0.1451,layer_1_size=128,layer_2_size=128,layer_3_size=512,learning_rate=0.0838_2024-12-24_17-34-21',\n",
       "    filesystem='local',\n",
       "    checkpoint=Checkpoint(filesystem=local, path=/Users/sidharrthnagappan/ray_results/TorchTrainer_2024-12-24_17-34-19/TorchTrainer_4f4b8_00012_12_batch_size=64,dropout=0.1451,layer_1_size=128,layer_2_size=128,layer_3_size=512,learning_rate=0.0838_2024-12-24_17-34-21/checkpoint_000000)\n",
       "  ),\n",
       "  Result(\n",
       "    metrics={'ptl/train_loss': 1.9301387071609497, 'ptl/train_accuracy': 0.2083333283662796, 'ptl/val_loss': 1.8986320495605469, 'ptl/val_accuracy': 0.2778876721858978, 'epoch': 0, 'step': 860},\n",
       "    path='/Users/sidharrthnagappan/ray_results/TorchTrainer_2024-12-24_17-34-19/TorchTrainer_4f4b8_00013_13_batch_size=64,dropout=0.1977,layer_1_size=128,layer_2_size=128,layer_3_size=256,learning_rate=0.0280_2024-12-24_17-34-21',\n",
       "    filesystem='local',\n",
       "    checkpoint=Checkpoint(filesystem=local, path=/Users/sidharrthnagappan/ray_results/TorchTrainer_2024-12-24_17-34-19/TorchTrainer_4f4b8_00013_13_batch_size=64,dropout=0.1977,layer_1_size=128,layer_2_size=128,layer_3_size=256,learning_rate=0.0280_2024-12-24_17-34-21/checkpoint_000000)\n",
       "  ),\n",
       "  Result(\n",
       "    metrics={'ptl/train_loss': 1.982221245765686, 'ptl/train_accuracy': 0.2083333283662796, 'ptl/val_loss': 2.0594098567962646, 'ptl/val_accuracy': 0.21835443377494812, 'epoch': 0, 'step': 860},\n",
       "    path='/Users/sidharrthnagappan/ray_results/TorchTrainer_2024-12-24_17-34-19/TorchTrainer_4f4b8_00014_14_batch_size=64,dropout=0.1595,layer_1_size=128,layer_2_size=128,layer_3_size=256,learning_rate=0.0691_2024-12-24_17-34-21',\n",
       "    filesystem='local',\n",
       "    checkpoint=Checkpoint(filesystem=local, path=/Users/sidharrthnagappan/ray_results/TorchTrainer_2024-12-24_17-34-19/TorchTrainer_4f4b8_00014_14_batch_size=64,dropout=0.1595,layer_1_size=128,layer_2_size=128,layer_3_size=256,learning_rate=0.0691_2024-12-24_17-34-21/checkpoint_000000)\n",
       "  ),\n",
       "  Result(\n",
       "    metrics={'ptl/train_loss': 0.1543571799993515, 'ptl/train_accuracy': 0.9545454382896423, 'ptl/val_loss': 0.13757792115211487, 'ptl/val_accuracy': 0.9574218988418579, 'epoch': 1, 'step': 860},\n",
       "    path='/Users/sidharrthnagappan/ray_results/TorchTrainer_2024-12-24_17-34-19/TorchTrainer_4f4b8_00015_15_batch_size=128,dropout=0.1031,layer_1_size=64,layer_2_size=128,layer_3_size=128,learning_rate=0.0036_2024-12-24_17-34-21',\n",
       "    filesystem='local',\n",
       "    checkpoint=Checkpoint(filesystem=local, path=/Users/sidharrthnagappan/ray_results/TorchTrainer_2024-12-24_17-34-19/TorchTrainer_4f4b8_00015_15_batch_size=128,dropout=0.1031,layer_1_size=64,layer_2_size=128,layer_3_size=128,learning_rate=0.0036_2024-12-24_17-34-21/checkpoint_000001)\n",
       "  ),\n",
       "  Result(\n",
       "    metrics={'ptl/train_loss': 0.32694828510284424, 'ptl/train_accuracy': 0.875, 'ptl/val_loss': 0.2604335844516754, 'ptl/val_accuracy': 0.9311708807945251, 'epoch': 0, 'step': 860},\n",
       "    path='/Users/sidharrthnagappan/ray_results/TorchTrainer_2024-12-24_17-34-19/TorchTrainer_4f4b8_00016_16_batch_size=64,dropout=0.1852,layer_1_size=32,layer_2_size=64,layer_3_size=256,learning_rate=0.0005_2024-12-24_17-34-21',\n",
       "    filesystem='local',\n",
       "    checkpoint=Checkpoint(filesystem=local, path=/Users/sidharrthnagappan/ray_results/TorchTrainer_2024-12-24_17-34-19/TorchTrainer_4f4b8_00016_16_batch_size=64,dropout=0.1852,layer_1_size=32,layer_2_size=64,layer_3_size=256,learning_rate=0.0005_2024-12-24_17-34-21/checkpoint_000000)\n",
       "  ),\n",
       "  Result(\n",
       "    metrics={'ptl/train_loss': 0.2836747467517853, 'ptl/train_accuracy': 0.8977272510528564, 'ptl/val_loss': 0.2979525923728943, 'ptl/val_accuracy': 0.908203125, 'epoch': 0, 'step': 430},\n",
       "    path='/Users/sidharrthnagappan/ray_results/TorchTrainer_2024-12-24_17-34-19/TorchTrainer_4f4b8_00017_17_batch_size=128,dropout=0.2008,layer_1_size=128,layer_2_size=128,layer_3_size=128,learning_rate=0.0002_2024-12-24_17-34-21',\n",
       "    filesystem='local',\n",
       "    checkpoint=Checkpoint(filesystem=local, path=/Users/sidharrthnagappan/ray_results/TorchTrainer_2024-12-24_17-34-19/TorchTrainer_4f4b8_00017_17_batch_size=128,dropout=0.2008,layer_1_size=128,layer_2_size=128,layer_3_size=128,learning_rate=0.0002_2024-12-24_17-34-21/checkpoint_000000)\n",
       "  ),\n",
       "  Result(\n",
       "    metrics={'ptl/train_loss': 0.26153942942619324, 'ptl/train_accuracy': 0.9204545617103577, 'ptl/val_loss': 0.1739259660243988, 'ptl/val_accuracy': 0.948046863079071, 'epoch': 1, 'step': 860},\n",
       "    path='/Users/sidharrthnagappan/ray_results/TorchTrainer_2024-12-24_17-34-19/TorchTrainer_4f4b8_00018_18_batch_size=128,dropout=0.1643,layer_1_size=32,layer_2_size=64,layer_3_size=256,learning_rate=0.0030_2024-12-24_17-34-21',\n",
       "    filesystem='local',\n",
       "    checkpoint=Checkpoint(filesystem=local, path=/Users/sidharrthnagappan/ray_results/TorchTrainer_2024-12-24_17-34-19/TorchTrainer_4f4b8_00018_18_batch_size=128,dropout=0.1643,layer_1_size=32,layer_2_size=64,layer_3_size=256,learning_rate=0.0030_2024-12-24_17-34-21/checkpoint_000001)\n",
       "  ),\n",
       "  Result(\n",
       "    metrics={'ptl/train_loss': 2.321289300918579, 'ptl/train_accuracy': 0.0416666679084301, 'ptl/val_loss': 2.3077335357666016, 'ptl/val_accuracy': 0.09633757919073105, 'epoch': 0, 'step': 1719},\n",
       "    path='/Users/sidharrthnagappan/ray_results/TorchTrainer_2024-12-24_17-34-19/TorchTrainer_4f4b8_00019_19_batch_size=32,dropout=0.1424,layer_1_size=32,layer_2_size=256,layer_3_size=256,learning_rate=0.0566_2024-12-24_17-34-21',\n",
       "    filesystem='local',\n",
       "    checkpoint=Checkpoint(filesystem=local, path=/Users/sidharrthnagappan/ray_results/TorchTrainer_2024-12-24_17-34-19/TorchTrainer_4f4b8_00019_19_batch_size=32,dropout=0.1424,layer_1_size=32,layer_2_size=256,layer_3_size=256,learning_rate=0.0566_2024-12-24_17-34-21/checkpoint_000000)\n",
       "  ),\n",
       "  Result(\n",
       "    metrics={'ptl/train_loss': 0.023229077458381653, 'ptl/train_accuracy': 1.0, 'ptl/val_loss': 0.08920037001371384, 'ptl/val_accuracy': 0.9695411324501038, 'epoch': 3, 'step': 3440},\n",
       "    path='/Users/sidharrthnagappan/ray_results/TorchTrainer_2024-12-24_17-34-19/TorchTrainer_4f4b8_00020_20_batch_size=64,dropout=0.1971,layer_1_size=128,layer_2_size=64,layer_3_size=512,learning_rate=0.0003_2024-12-24_17-34-21',\n",
       "    filesystem='local',\n",
       "    checkpoint=Checkpoint(filesystem=local, path=/Users/sidharrthnagappan/ray_results/TorchTrainer_2024-12-24_17-34-19/TorchTrainer_4f4b8_00020_20_batch_size=64,dropout=0.1971,layer_1_size=128,layer_2_size=64,layer_3_size=512,learning_rate=0.0003_2024-12-24_17-34-21/checkpoint_000003)\n",
       "  ),\n",
       "  Result(\n",
       "    metrics={'ptl/train_loss': 0.3733110725879669, 'ptl/train_accuracy': 0.9166666865348816, 'ptl/val_loss': 0.24819017946720123, 'ptl/val_accuracy': 0.9241639971733093, 'epoch': 0, 'step': 1719},\n",
       "    path='/Users/sidharrthnagappan/ray_results/TorchTrainer_2024-12-24_17-34-19/TorchTrainer_4f4b8_00021_21_batch_size=32,dropout=0.2012,layer_1_size=32,layer_2_size=64,layer_3_size=256,learning_rate=0.0004_2024-12-24_17-34-21',\n",
       "    filesystem='local',\n",
       "    checkpoint=Checkpoint(filesystem=local, path=/Users/sidharrthnagappan/ray_results/TorchTrainer_2024-12-24_17-34-19/TorchTrainer_4f4b8_00021_21_batch_size=32,dropout=0.2012,layer_1_size=32,layer_2_size=64,layer_3_size=256,learning_rate=0.0004_2024-12-24_17-34-21/checkpoint_000000)\n",
       "  ),\n",
       "  Result(\n",
       "    metrics={'ptl/train_loss': 1.4506865739822388, 'ptl/train_accuracy': 0.5, 'ptl/val_loss': 0.9586746096611023, 'ptl/val_accuracy': 0.643909215927124, 'epoch': 0, 'step': 1719},\n",
       "    path='/Users/sidharrthnagappan/ray_results/TorchTrainer_2024-12-24_17-34-19/TorchTrainer_4f4b8_00022_22_batch_size=32,dropout=0.1049,layer_1_size=32,layer_2_size=64,layer_3_size=256,learning_rate=0.0171_2024-12-24_17-34-21',\n",
       "    filesystem='local',\n",
       "    checkpoint=Checkpoint(filesystem=local, path=/Users/sidharrthnagappan/ray_results/TorchTrainer_2024-12-24_17-34-19/TorchTrainer_4f4b8_00022_22_batch_size=32,dropout=0.1049,layer_1_size=32,layer_2_size=64,layer_3_size=256,learning_rate=0.0171_2024-12-24_17-34-21/checkpoint_000000)\n",
       "  ),\n",
       "  Result(\n",
       "    metrics={'ptl/train_loss': 0.5907965302467346, 'ptl/train_accuracy': 0.8295454382896423, 'ptl/val_loss': 0.45584607124328613, 'ptl/val_accuracy': 0.875781238079071, 'epoch': 0, 'step': 430},\n",
       "    path='/Users/sidharrthnagappan/ray_results/TorchTrainer_2024-12-24_17-34-19/TorchTrainer_4f4b8_00023_23_batch_size=128,dropout=0.2326,layer_1_size=32,layer_2_size=128,layer_3_size=512,learning_rate=0.0113_2024-12-24_17-34-21',\n",
       "    filesystem='local',\n",
       "    checkpoint=Checkpoint(filesystem=local, path=/Users/sidharrthnagappan/ray_results/TorchTrainer_2024-12-24_17-34-19/TorchTrainer_4f4b8_00023_23_batch_size=128,dropout=0.2326,layer_1_size=32,layer_2_size=128,layer_3_size=512,learning_rate=0.0113_2024-12-24_17-34-21/checkpoint_000000)\n",
       "  ),\n",
       "  Result(\n",
       "    metrics={'ptl/train_loss': 2.302436590194702, 'ptl/train_accuracy': 0.2083333283662796, 'ptl/val_loss': 2.3074324131011963, 'ptl/val_accuracy': 0.1038370281457901, 'epoch': 0, 'step': 860},\n",
       "    path='/Users/sidharrthnagappan/ray_results/TorchTrainer_2024-12-24_17-34-19/TorchTrainer_4f4b8_00024_24_batch_size=64,dropout=0.1795,layer_1_size=128,layer_2_size=256,layer_3_size=512,learning_rate=0.0388_2024-12-24_17-34-21',\n",
       "    filesystem='local',\n",
       "    checkpoint=Checkpoint(filesystem=local, path=/Users/sidharrthnagappan/ray_results/TorchTrainer_2024-12-24_17-34-19/TorchTrainer_4f4b8_00024_24_batch_size=64,dropout=0.1795,layer_1_size=128,layer_2_size=256,layer_3_size=512,learning_rate=0.0388_2024-12-24_17-34-21/checkpoint_000000)\n",
       "  ),\n",
       "  Result(\n",
       "    metrics={'ptl/train_loss': 0.6047818064689636, 'ptl/train_accuracy': 0.8522727489471436, 'ptl/val_loss': 0.3925381302833557, 'ptl/val_accuracy': 0.9007812738418579, 'epoch': 0, 'step': 430},\n",
       "    path='/Users/sidharrthnagappan/ray_results/TorchTrainer_2024-12-24_17-34-19/TorchTrainer_4f4b8_00025_25_batch_size=128,dropout=0.1429,layer_1_size=32,layer_2_size=128,layer_3_size=128,learning_rate=0.0152_2024-12-24_17-34-21',\n",
       "    filesystem='local',\n",
       "    checkpoint=Checkpoint(filesystem=local, path=/Users/sidharrthnagappan/ray_results/TorchTrainer_2024-12-24_17-34-19/TorchTrainer_4f4b8_00025_25_batch_size=128,dropout=0.1429,layer_1_size=32,layer_2_size=128,layer_3_size=128,learning_rate=0.0152_2024-12-24_17-34-21/checkpoint_000000)\n",
       "  ),\n",
       "  Result(\n",
       "    metrics={'ptl/train_loss': 0.24150025844573975, 'ptl/train_accuracy': 0.9583333134651184, 'ptl/val_loss': 0.10081841796636581, 'ptl/val_accuracy': 0.9683519005775452, 'epoch': 3, 'step': 6876},\n",
       "    path='/Users/sidharrthnagappan/ray_results/TorchTrainer_2024-12-24_17-34-19/TorchTrainer_4f4b8_00026_26_batch_size=32,dropout=0.2573,layer_1_size=128,layer_2_size=128,layer_3_size=128,learning_rate=0.0010_2024-12-24_17-34-21',\n",
       "    filesystem='local',\n",
       "    checkpoint=Checkpoint(filesystem=local, path=/Users/sidharrthnagappan/ray_results/TorchTrainer_2024-12-24_17-34-19/TorchTrainer_4f4b8_00026_26_batch_size=32,dropout=0.2573,layer_1_size=128,layer_2_size=128,layer_3_size=128,learning_rate=0.0010_2024-12-24_17-34-21/checkpoint_000003)\n",
       "  ),\n",
       "  Result(\n",
       "    metrics={'ptl/train_loss': 2.3254129886627197, 'ptl/train_accuracy': 0.0833333358168602, 'ptl/val_loss': 2.3057241439819336, 'ptl/val_accuracy': 0.10509554296731949, 'epoch': 0, 'step': 1719},\n",
       "    path='/Users/sidharrthnagappan/ray_results/TorchTrainer_2024-12-24_17-34-19/TorchTrainer_4f4b8_00027_27_batch_size=32,dropout=0.2871,layer_1_size=32,layer_2_size=64,layer_3_size=512,learning_rate=0.0384_2024-12-24_17-34-21',\n",
       "    filesystem='local',\n",
       "    checkpoint=Checkpoint(filesystem=local, path=/Users/sidharrthnagappan/ray_results/TorchTrainer_2024-12-24_17-34-19/TorchTrainer_4f4b8_00027_27_batch_size=32,dropout=0.2871,layer_1_size=32,layer_2_size=64,layer_3_size=512,learning_rate=0.0384_2024-12-24_17-34-21/checkpoint_000000)\n",
       "  ),\n",
       "  Result(\n",
       "    metrics={'ptl/train_loss': 0.9131417870521545, 'ptl/train_accuracy': 0.7916666865348816, 'ptl/val_loss': 0.9895771741867065, 'ptl/val_accuracy': 0.6206210255622864, 'epoch': 0, 'step': 1719},\n",
       "    path='/Users/sidharrthnagappan/ray_results/TorchTrainer_2024-12-24_17-34-19/TorchTrainer_4f4b8_00028_28_batch_size=32,dropout=0.1119,layer_1_size=64,layer_2_size=256,layer_3_size=512,learning_rate=0.0140_2024-12-24_17-34-21',\n",
       "    filesystem='local',\n",
       "    checkpoint=Checkpoint(filesystem=local, path=/Users/sidharrthnagappan/ray_results/TorchTrainer_2024-12-24_17-34-19/TorchTrainer_4f4b8_00028_28_batch_size=32,dropout=0.1119,layer_1_size=64,layer_2_size=256,layer_3_size=512,learning_rate=0.0140_2024-12-24_17-34-21/checkpoint_000000)\n",
       "  ),\n",
       "  Result(\n",
       "    metrics={'ptl/train_loss': 0.08783934265375137, 'ptl/train_accuracy': 1.0, 'ptl/val_loss': 0.16221174597740173, 'ptl/val_accuracy': 0.9494426846504211, 'epoch': 1, 'step': 3438},\n",
       "    path='/Users/sidharrthnagappan/ray_results/TorchTrainer_2024-12-24_17-34-19/TorchTrainer_4f4b8_00029_29_batch_size=32,dropout=0.2170,layer_1_size=64,layer_2_size=64,layer_3_size=256,learning_rate=0.0003_2024-12-24_17-34-21',\n",
       "    filesystem='local',\n",
       "    checkpoint=Checkpoint(filesystem=local, path=/Users/sidharrthnagappan/ray_results/TorchTrainer_2024-12-24_17-34-19/TorchTrainer_4f4b8_00029_29_batch_size=32,dropout=0.2170,layer_1_size=64,layer_2_size=64,layer_3_size=256,learning_rate=0.0003_2024-12-24_17-34-21/checkpoint_000001)\n",
       "  ),\n",
       "  Result(\n",
       "    metrics={'ptl/train_loss': 0.1880382001399994, 'ptl/train_accuracy': 0.9545454382896423, 'ptl/val_loss': 0.22278094291687012, 'ptl/val_accuracy': 0.9400390386581421, 'epoch': 1, 'step': 860},\n",
       "    path='/Users/sidharrthnagappan/ray_results/TorchTrainer_2024-12-24_17-34-19/TorchTrainer_4f4b8_00030_30_batch_size=128,dropout=0.1267,layer_1_size=64,layer_2_size=256,layer_3_size=128,learning_rate=0.0072_2024-12-24_17-34-21',\n",
       "    filesystem='local',\n",
       "    checkpoint=Checkpoint(filesystem=local, path=/Users/sidharrthnagappan/ray_results/TorchTrainer_2024-12-24_17-34-19/TorchTrainer_4f4b8_00030_30_batch_size=128,dropout=0.1267,layer_1_size=64,layer_2_size=256,layer_3_size=128,learning_rate=0.0072_2024-12-24_17-34-21/checkpoint_000001)\n",
       "  ),\n",
       "  Result(\n",
       "    metrics={'ptl/train_loss': 2.2962772846221924, 'ptl/train_accuracy': 0.125, 'ptl/val_loss': 2.305422782897949, 'ptl/val_accuracy': 0.09849683195352554, 'epoch': 0, 'step': 860},\n",
       "    path='/Users/sidharrthnagappan/ray_results/TorchTrainer_2024-12-24_17-34-19/TorchTrainer_4f4b8_00031_31_batch_size=64,dropout=0.1199,layer_1_size=32,layer_2_size=256,layer_3_size=512,learning_rate=0.0423_2024-12-24_17-34-21',\n",
       "    filesystem='local',\n",
       "    checkpoint=Checkpoint(filesystem=local, path=/Users/sidharrthnagappan/ray_results/TorchTrainer_2024-12-24_17-34-19/TorchTrainer_4f4b8_00031_31_batch_size=64,dropout=0.1199,layer_1_size=32,layer_2_size=256,layer_3_size=512,learning_rate=0.0423_2024-12-24_17-34-21/checkpoint_000000)\n",
       "  ),\n",
       "  Result(\n",
       "    metrics={'ptl/train_loss': 2.301602840423584, 'ptl/train_accuracy': 0.1666666716337204, 'ptl/val_loss': 2.303846836090088, 'ptl/val_accuracy': 0.1103639230132103, 'epoch': 0, 'step': 860},\n",
       "    path='/Users/sidharrthnagappan/ray_results/TorchTrainer_2024-12-24_17-34-19/TorchTrainer_4f4b8_00032_32_batch_size=64,dropout=0.1137,layer_1_size=128,layer_2_size=64,layer_3_size=512,learning_rate=0.0291_2024-12-24_17-34-21',\n",
       "    filesystem='local',\n",
       "    checkpoint=Checkpoint(filesystem=local, path=/Users/sidharrthnagappan/ray_results/TorchTrainer_2024-12-24_17-34-19/TorchTrainer_4f4b8_00032_32_batch_size=64,dropout=0.1137,layer_1_size=128,layer_2_size=64,layer_3_size=512,learning_rate=0.0291_2024-12-24_17-34-21/checkpoint_000000)\n",
       "  ),\n",
       "  Result(\n",
       "    metrics={'ptl/train_loss': 0.38858139514923096, 'ptl/train_accuracy': 0.9204545617103577, 'ptl/val_loss': 0.17792648077011108, 'ptl/val_accuracy': 0.9453125, 'epoch': 1, 'step': 860},\n",
       "    path='/Users/sidharrthnagappan/ray_results/TorchTrainer_2024-12-24_17-34-19/TorchTrainer_4f4b8_00033_33_batch_size=128,dropout=0.2164,layer_1_size=32,layer_2_size=64,layer_3_size=512,learning_rate=0.0009_2024-12-24_17-34-21',\n",
       "    filesystem='local',\n",
       "    checkpoint=Checkpoint(filesystem=local, path=/Users/sidharrthnagappan/ray_results/TorchTrainer_2024-12-24_17-34-19/TorchTrainer_4f4b8_00033_33_batch_size=128,dropout=0.2164,layer_1_size=32,layer_2_size=64,layer_3_size=512,learning_rate=0.0009_2024-12-24_17-34-21/checkpoint_000001)\n",
       "  ),\n",
       "  Result(\n",
       "    metrics={'ptl/train_loss': 0.1547677367925644, 'ptl/train_accuracy': 0.9659090638160706, 'ptl/val_loss': 0.10312775522470474, 'ptl/val_accuracy': 0.9673827886581421, 'epoch': 2, 'step': 1290},\n",
       "    path='/Users/sidharrthnagappan/ray_results/TorchTrainer_2024-12-24_17-34-19/TorchTrainer_4f4b8_00034_34_batch_size=128,dropout=0.2389,layer_1_size=128,layer_2_size=64,layer_3_size=128,learning_rate=0.0025_2024-12-24_17-34-21',\n",
       "    filesystem='local',\n",
       "    checkpoint=Checkpoint(filesystem=local, path=/Users/sidharrthnagappan/ray_results/TorchTrainer_2024-12-24_17-34-19/TorchTrainer_4f4b8_00034_34_batch_size=128,dropout=0.2389,layer_1_size=128,layer_2_size=64,layer_3_size=128,learning_rate=0.0025_2024-12-24_17-34-21/checkpoint_000002)\n",
       "  ),\n",
       "  Result(\n",
       "    metrics={'ptl/train_loss': 0.30055779218673706, 'ptl/train_accuracy': 0.875, 'ptl/val_loss': 0.2130819708108902, 'ptl/val_accuracy': 0.9416534900665283, 'epoch': 0, 'step': 860},\n",
       "    path='/Users/sidharrthnagappan/ray_results/TorchTrainer_2024-12-24_17-34-19/TorchTrainer_4f4b8_00035_35_batch_size=64,dropout=0.1514,layer_1_size=64,layer_2_size=64,layer_3_size=256,learning_rate=0.0030_2024-12-24_17-34-21',\n",
       "    filesystem='local',\n",
       "    checkpoint=Checkpoint(filesystem=local, path=/Users/sidharrthnagappan/ray_results/TorchTrainer_2024-12-24_17-34-19/TorchTrainer_4f4b8_00035_35_batch_size=64,dropout=0.1514,layer_1_size=64,layer_2_size=64,layer_3_size=256,learning_rate=0.0030_2024-12-24_17-34-21/checkpoint_000000)\n",
       "  ),\n",
       "  Result(\n",
       "    metrics={'ptl/train_loss': 2.312307357788086, 'ptl/train_accuracy': 0.0416666679084301, 'ptl/val_loss': 2.3081552982330322, 'ptl/val_accuracy': 0.11095727980136871, 'epoch': 0, 'step': 860},\n",
       "    path='/Users/sidharrthnagappan/ray_results/TorchTrainer_2024-12-24_17-34-19/TorchTrainer_4f4b8_00036_36_batch_size=64,dropout=0.1403,layer_1_size=32,layer_2_size=128,layer_3_size=512,learning_rate=0.0394_2024-12-24_17-34-21',\n",
       "    filesystem='local',\n",
       "    checkpoint=Checkpoint(filesystem=local, path=/Users/sidharrthnagappan/ray_results/TorchTrainer_2024-12-24_17-34-19/TorchTrainer_4f4b8_00036_36_batch_size=64,dropout=0.1403,layer_1_size=32,layer_2_size=128,layer_3_size=512,learning_rate=0.0394_2024-12-24_17-34-21/checkpoint_000000)\n",
       "  ),\n",
       "  Result(\n",
       "    metrics={},\n",
       "    path='/Users/sidharrthnagappan/ray_results/TorchTrainer_2024-12-24_17-34-19/TorchTrainer_4f4b8_00037_37_batch_size=64,dropout=0.2387,layer_1_size=128,layer_2_size=256,layer_3_size=256,learning_rate=0.0003_2024-12-24_17-34-21',\n",
       "    filesystem='local',\n",
       "    checkpoint=None\n",
       "  ),\n",
       "  Result(\n",
       "    metrics={},\n",
       "    path='/Users/sidharrthnagappan/ray_results/TorchTrainer_2024-12-24_17-34-19/TorchTrainer_4f4b8_00038_38_batch_size=64,dropout=0.2133,layer_1_size=64,layer_2_size=128,layer_3_size=512,learning_rate=0.0065_2024-12-24_17-34-21',\n",
       "    filesystem='local',\n",
       "    checkpoint=None\n",
       "  ),\n",
       "  Result(\n",
       "    metrics={},\n",
       "    path='/Users/sidharrthnagappan/ray_results/TorchTrainer_2024-12-24_17-34-19/TorchTrainer_4f4b8_00039_39_batch_size=32,dropout=0.1003,layer_1_size=64,layer_2_size=128,layer_3_size=128,learning_rate=0.0006_2024-12-24_17-34-21',\n",
       "    filesystem='local',\n",
       "    checkpoint=None\n",
       "  ),\n",
       "  Result(\n",
       "    metrics={},\n",
       "    path='/Users/sidharrthnagappan/ray_results/TorchTrainer_2024-12-24_17-34-19/TorchTrainer_4f4b8_00040_40_batch_size=128,dropout=0.2081,layer_1_size=32,layer_2_size=64,layer_3_size=128,learning_rate=0.0018_2024-12-24_17-34-21',\n",
       "    filesystem='local',\n",
       "    checkpoint=None\n",
       "  ),\n",
       "  Result(\n",
       "    metrics={},\n",
       "    path='/Users/sidharrthnagappan/ray_results/TorchTrainer_2024-12-24_17-34-19/TorchTrainer_4f4b8_00041_41_batch_size=32,dropout=0.1742,layer_1_size=32,layer_2_size=128,layer_3_size=128,learning_rate=0.0001_2024-12-24_17-34-21',\n",
       "    filesystem='local',\n",
       "    checkpoint=None\n",
       "  ),\n",
       "  Result(\n",
       "    metrics={},\n",
       "    path='/Users/sidharrthnagappan/ray_results/TorchTrainer_2024-12-24_17-34-19/TorchTrainer_4f4b8_00042_42_batch_size=32,dropout=0.2102,layer_1_size=128,layer_2_size=128,layer_3_size=512,learning_rate=0.0046_2024-12-24_17-34-21',\n",
       "    filesystem='local',\n",
       "    checkpoint=None\n",
       "  ),\n",
       "  Result(\n",
       "    metrics={},\n",
       "    path='/Users/sidharrthnagappan/ray_results/TorchTrainer_2024-12-24_17-34-19/TorchTrainer_4f4b8_00043_43_batch_size=128,dropout=0.1771,layer_1_size=32,layer_2_size=256,layer_3_size=512,learning_rate=0.0001_2024-12-24_17-34-21',\n",
       "    filesystem='local',\n",
       "    checkpoint=None\n",
       "  ),\n",
       "  Result(\n",
       "    metrics={},\n",
       "    path='/Users/sidharrthnagappan/ray_results/TorchTrainer_2024-12-24_17-34-19/TorchTrainer_4f4b8_00044_44_batch_size=128,dropout=0.1525,layer_1_size=64,layer_2_size=64,layer_3_size=512,learning_rate=0.0823_2024-12-24_17-34-21',\n",
       "    filesystem='local',\n",
       "    checkpoint=None\n",
       "  ),\n",
       "  Result(\n",
       "    metrics={},\n",
       "    path='/Users/sidharrthnagappan/ray_results/TorchTrainer_2024-12-24_17-34-19/TorchTrainer_4f4b8_00045_45_batch_size=32,dropout=0.2588,layer_1_size=128,layer_2_size=128,layer_3_size=512,learning_rate=0.0032_2024-12-24_17-34-21',\n",
       "    filesystem='local',\n",
       "    checkpoint=None\n",
       "  ),\n",
       "  Result(\n",
       "    metrics={},\n",
       "    path='/Users/sidharrthnagappan/ray_results/TorchTrainer_2024-12-24_17-34-19/TorchTrainer_4f4b8_00046_46_batch_size=64,dropout=0.1737,layer_1_size=128,layer_2_size=64,layer_3_size=256,learning_rate=0.0312_2024-12-24_17-34-21',\n",
       "    filesystem='local',\n",
       "    checkpoint=None\n",
       "  ),\n",
       "  Result(\n",
       "    metrics={},\n",
       "    path='/Users/sidharrthnagappan/ray_results/TorchTrainer_2024-12-24_17-34-19/TorchTrainer_4f4b8_00047_47_batch_size=128,dropout=0.2935,layer_1_size=32,layer_2_size=64,layer_3_size=512,learning_rate=0.0002_2024-12-24_17-34-21',\n",
       "    filesystem='local',\n",
       "    checkpoint=None\n",
       "  ),\n",
       "  Result(\n",
       "    metrics={},\n",
       "    path='/Users/sidharrthnagappan/ray_results/TorchTrainer_2024-12-24_17-34-19/TorchTrainer_4f4b8_00048_48_batch_size=128,dropout=0.2756,layer_1_size=64,layer_2_size=256,layer_3_size=256,learning_rate=0.0039_2024-12-24_17-34-21',\n",
       "    filesystem='local',\n",
       "    checkpoint=None\n",
       "  ),\n",
       "  Result(\n",
       "    metrics={},\n",
       "    path='/Users/sidharrthnagappan/ray_results/TorchTrainer_2024-12-24_17-34-19/TorchTrainer_4f4b8_00049_49_batch_size=64,dropout=0.1020,layer_1_size=128,layer_2_size=128,layer_3_size=128,learning_rate=0.0122_2024-12-24_17-34-21',\n",
       "    filesystem='local',\n",
       "    checkpoint=None\n",
       "  ),\n",
       "  Result(\n",
       "    metrics={},\n",
       "    path='/Users/sidharrthnagappan/ray_results/TorchTrainer_2024-12-24_17-34-19/TorchTrainer_4f4b8_00050_50_batch_size=32,dropout=0.2974,layer_1_size=64,layer_2_size=256,layer_3_size=256,learning_rate=0.0008_2024-12-24_17-34-21',\n",
       "    filesystem='local',\n",
       "    checkpoint=None\n",
       "  ),\n",
       "  Result(\n",
       "    metrics={},\n",
       "    path='/Users/sidharrthnagappan/ray_results/TorchTrainer_2024-12-24_17-34-19/TorchTrainer_4f4b8_00051_51_batch_size=128,dropout=0.2252,layer_1_size=128,layer_2_size=128,layer_3_size=128,learning_rate=0.0009_2024-12-24_17-34-21',\n",
       "    filesystem='local',\n",
       "    checkpoint=None\n",
       "  ),\n",
       "  Result(\n",
       "    metrics={},\n",
       "    path='/Users/sidharrthnagappan/ray_results/TorchTrainer_2024-12-24_17-34-19/TorchTrainer_4f4b8_00052_52_batch_size=32,dropout=0.2453,layer_1_size=32,layer_2_size=256,layer_3_size=256,learning_rate=0.0048_2024-12-24_17-34-21',\n",
       "    filesystem='local',\n",
       "    checkpoint=None\n",
       "  ),\n",
       "  Result(\n",
       "    metrics={},\n",
       "    path='/Users/sidharrthnagappan/ray_results/TorchTrainer_2024-12-24_17-34-19/TorchTrainer_4f4b8_00053_53_batch_size=128,dropout=0.1072,layer_1_size=128,layer_2_size=256,layer_3_size=512,learning_rate=0.0060_2024-12-24_17-34-21',\n",
       "    filesystem='local',\n",
       "    checkpoint=None\n",
       "  ),\n",
       "  Result(\n",
       "    metrics={},\n",
       "    path='/Users/sidharrthnagappan/ray_results/TorchTrainer_2024-12-24_17-34-19/TorchTrainer_4f4b8_00054_54_batch_size=32,dropout=0.1553,layer_1_size=64,layer_2_size=128,layer_3_size=256,learning_rate=0.0003_2024-12-24_17-34-21',\n",
       "    filesystem='local',\n",
       "    checkpoint=None\n",
       "  ),\n",
       "  Result(\n",
       "    metrics={},\n",
       "    path='/Users/sidharrthnagappan/ray_results/TorchTrainer_2024-12-24_17-34-19/TorchTrainer_4f4b8_00055_55_batch_size=128,dropout=0.2046,layer_1_size=128,layer_2_size=128,layer_3_size=512,learning_rate=0.0676_2024-12-24_17-34-21',\n",
       "    filesystem='local',\n",
       "    checkpoint=None\n",
       "  ),\n",
       "  Result(\n",
       "    metrics={},\n",
       "    path='/Users/sidharrthnagappan/ray_results/TorchTrainer_2024-12-24_17-34-19/TorchTrainer_4f4b8_00056_56_batch_size=64,dropout=0.1312,layer_1_size=128,layer_2_size=256,layer_3_size=128,learning_rate=0.0005_2024-12-24_17-34-21',\n",
       "    filesystem='local',\n",
       "    checkpoint=None\n",
       "  ),\n",
       "  Result(\n",
       "    metrics={},\n",
       "    path='/Users/sidharrthnagappan/ray_results/TorchTrainer_2024-12-24_17-34-19/TorchTrainer_4f4b8_00057_57_batch_size=128,dropout=0.1647,layer_1_size=32,layer_2_size=64,layer_3_size=128,learning_rate=0.0001_2024-12-24_17-34-21',\n",
       "    filesystem='local',\n",
       "    checkpoint=None\n",
       "  ),\n",
       "  Result(\n",
       "    metrics={},\n",
       "    path='/Users/sidharrthnagappan/ray_results/TorchTrainer_2024-12-24_17-34-19/TorchTrainer_4f4b8_00058_58_batch_size=64,dropout=0.2690,layer_1_size=128,layer_2_size=128,layer_3_size=512,learning_rate=0.0020_2024-12-24_17-34-21',\n",
       "    filesystem='local',\n",
       "    checkpoint=None\n",
       "  ),\n",
       "  Result(\n",
       "    metrics={},\n",
       "    path='/Users/sidharrthnagappan/ray_results/TorchTrainer_2024-12-24_17-34-19/TorchTrainer_4f4b8_00059_59_batch_size=64,dropout=0.2058,layer_1_size=128,layer_2_size=64,layer_3_size=256,learning_rate=0.0002_2024-12-24_17-34-21',\n",
       "    filesystem='local',\n",
       "    checkpoint=None\n",
       "  ),\n",
       "  Result(\n",
       "    metrics={},\n",
       "    path='/Users/sidharrthnagappan/ray_results/TorchTrainer_2024-12-24_17-34-19/TorchTrainer_4f4b8_00060_60_batch_size=32,dropout=0.1057,layer_1_size=32,layer_2_size=256,layer_3_size=128,learning_rate=0.0183_2024-12-24_17-34-21',\n",
       "    filesystem='local',\n",
       "    checkpoint=None\n",
       "  ),\n",
       "  Result(\n",
       "    metrics={},\n",
       "    path='/Users/sidharrthnagappan/ray_results/TorchTrainer_2024-12-24_17-34-19/TorchTrainer_4f4b8_00061_61_batch_size=64,dropout=0.1178,layer_1_size=64,layer_2_size=256,layer_3_size=256,learning_rate=0.0552_2024-12-24_17-34-21',\n",
       "    filesystem='local',\n",
       "    checkpoint=None\n",
       "  ),\n",
       "  Result(\n",
       "    metrics={},\n",
       "    path='/Users/sidharrthnagappan/ray_results/TorchTrainer_2024-12-24_17-34-19/TorchTrainer_4f4b8_00062_62_batch_size=64,dropout=0.1352,layer_1_size=32,layer_2_size=128,layer_3_size=128,learning_rate=0.0002_2024-12-24_17-34-21',\n",
       "    filesystem='local',\n",
       "    checkpoint=None\n",
       "  ),\n",
       "  Result(\n",
       "    metrics={},\n",
       "    path='/Users/sidharrthnagappan/ray_results/TorchTrainer_2024-12-24_17-34-19/TorchTrainer_4f4b8_00063_63_batch_size=32,dropout=0.1096,layer_1_size=32,layer_2_size=256,layer_3_size=128,learning_rate=0.0007_2024-12-24_17-34-21',\n",
       "    filesystem='local',\n",
       "    checkpoint=None\n",
       "  ),\n",
       "  Result(\n",
       "    metrics={},\n",
       "    path='/Users/sidharrthnagappan/ray_results/TorchTrainer_2024-12-24_17-34-19/TorchTrainer_4f4b8_00064_64_batch_size=64,dropout=0.2475,layer_1_size=32,layer_2_size=64,layer_3_size=128,learning_rate=0.0013_2024-12-24_17-34-21',\n",
       "    filesystem='local',\n",
       "    checkpoint=None\n",
       "  ),\n",
       "  Result(\n",
       "    metrics={},\n",
       "    path='/Users/sidharrthnagappan/ray_results/TorchTrainer_2024-12-24_17-34-19/TorchTrainer_4f4b8_00065_65_batch_size=128,dropout=0.1560,layer_1_size=128,layer_2_size=256,layer_3_size=512,learning_rate=0.0018_2024-12-24_17-34-21',\n",
       "    filesystem='local',\n",
       "    checkpoint=None\n",
       "  ),\n",
       "  Result(\n",
       "    metrics={},\n",
       "    path='/Users/sidharrthnagappan/ray_results/TorchTrainer_2024-12-24_17-34-19/TorchTrainer_4f4b8_00066_66_batch_size=64,dropout=0.1595,layer_1_size=64,layer_2_size=256,layer_3_size=256,learning_rate=0.0307_2024-12-24_17-34-21',\n",
       "    filesystem='local',\n",
       "    checkpoint=None\n",
       "  ),\n",
       "  Result(\n",
       "    metrics={},\n",
       "    path='/Users/sidharrthnagappan/ray_results/TorchTrainer_2024-12-24_17-34-19/TorchTrainer_4f4b8_00067_67_batch_size=32,dropout=0.1406,layer_1_size=128,layer_2_size=256,layer_3_size=256,learning_rate=0.0002_2024-12-24_17-34-21',\n",
       "    filesystem='local',\n",
       "    checkpoint=None\n",
       "  ),\n",
       "  Result(\n",
       "    metrics={},\n",
       "    path='/Users/sidharrthnagappan/ray_results/TorchTrainer_2024-12-24_17-34-19/TorchTrainer_4f4b8_00068_68_batch_size=32,dropout=0.2457,layer_1_size=128,layer_2_size=64,layer_3_size=512,learning_rate=0.0078_2024-12-24_17-34-21',\n",
       "    filesystem='local',\n",
       "    checkpoint=None\n",
       "  ),\n",
       "  Result(\n",
       "    metrics={},\n",
       "    path='/Users/sidharrthnagappan/ray_results/TorchTrainer_2024-12-24_17-34-19/TorchTrainer_4f4b8_00069_69_batch_size=128,dropout=0.2382,layer_1_size=64,layer_2_size=128,layer_3_size=128,learning_rate=0.0040_2024-12-24_17-34-21',\n",
       "    filesystem='local',\n",
       "    checkpoint=None\n",
       "  ),\n",
       "  Result(\n",
       "    metrics={},\n",
       "    path='/Users/sidharrthnagappan/ray_results/TorchTrainer_2024-12-24_17-34-19/TorchTrainer_4f4b8_00070_70_batch_size=128,dropout=0.2199,layer_1_size=32,layer_2_size=256,layer_3_size=512,learning_rate=0.0577_2024-12-24_17-34-21',\n",
       "    filesystem='local',\n",
       "    checkpoint=None\n",
       "  ),\n",
       "  Result(\n",
       "    metrics={},\n",
       "    path='/Users/sidharrthnagappan/ray_results/TorchTrainer_2024-12-24_17-34-19/TorchTrainer_4f4b8_00071_71_batch_size=128,dropout=0.1871,layer_1_size=64,layer_2_size=256,layer_3_size=128,learning_rate=0.0011_2024-12-24_17-34-21',\n",
       "    filesystem='local',\n",
       "    checkpoint=None\n",
       "  ),\n",
       "  Result(\n",
       "    metrics={},\n",
       "    path='/Users/sidharrthnagappan/ray_results/TorchTrainer_2024-12-24_17-34-19/TorchTrainer_4f4b8_00072_72_batch_size=64,dropout=0.1672,layer_1_size=32,layer_2_size=256,layer_3_size=128,learning_rate=0.0041_2024-12-24_17-34-21',\n",
       "    filesystem='local',\n",
       "    checkpoint=None\n",
       "  ),\n",
       "  Result(\n",
       "    metrics={},\n",
       "    path='/Users/sidharrthnagappan/ray_results/TorchTrainer_2024-12-24_17-34-19/TorchTrainer_4f4b8_00073_73_batch_size=64,dropout=0.2519,layer_1_size=64,layer_2_size=128,layer_3_size=128,learning_rate=0.0003_2024-12-24_17-34-21',\n",
       "    filesystem='local',\n",
       "    checkpoint=None\n",
       "  ),\n",
       "  Result(\n",
       "    metrics={},\n",
       "    path='/Users/sidharrthnagappan/ray_results/TorchTrainer_2024-12-24_17-34-19/TorchTrainer_4f4b8_00074_74_batch_size=64,dropout=0.1458,layer_1_size=64,layer_2_size=256,layer_3_size=512,learning_rate=0.0002_2024-12-24_17-34-21',\n",
       "    filesystem='local',\n",
       "    checkpoint=None\n",
       "  ),\n",
       "  Result(\n",
       "    metrics={},\n",
       "    path='/Users/sidharrthnagappan/ray_results/TorchTrainer_2024-12-24_17-34-19/TorchTrainer_4f4b8_00075_75_batch_size=64,dropout=0.1198,layer_1_size=32,layer_2_size=64,layer_3_size=256,learning_rate=0.0069_2024-12-24_17-34-21',\n",
       "    filesystem='local',\n",
       "    checkpoint=None\n",
       "  ),\n",
       "  Result(\n",
       "    metrics={},\n",
       "    path='/Users/sidharrthnagappan/ray_results/TorchTrainer_2024-12-24_17-34-19/TorchTrainer_4f4b8_00076_76_batch_size=32,dropout=0.1427,layer_1_size=64,layer_2_size=256,layer_3_size=128,learning_rate=0.0011_2024-12-24_17-34-21',\n",
       "    filesystem='local',\n",
       "    checkpoint=None\n",
       "  ),\n",
       "  Result(\n",
       "    metrics={},\n",
       "    path='/Users/sidharrthnagappan/ray_results/TorchTrainer_2024-12-24_17-34-19/TorchTrainer_4f4b8_00077_77_batch_size=64,dropout=0.1682,layer_1_size=128,layer_2_size=256,layer_3_size=512,learning_rate=0.0656_2024-12-24_17-34-21',\n",
       "    filesystem='local',\n",
       "    checkpoint=None\n",
       "  ),\n",
       "  Result(\n",
       "    metrics={},\n",
       "    path='/Users/sidharrthnagappan/ray_results/TorchTrainer_2024-12-24_17-34-19/TorchTrainer_4f4b8_00078_78_batch_size=128,dropout=0.1029,layer_1_size=128,layer_2_size=256,layer_3_size=128,learning_rate=0.0033_2024-12-24_17-34-21',\n",
       "    filesystem='local',\n",
       "    checkpoint=None\n",
       "  ),\n",
       "  Result(\n",
       "    metrics={},\n",
       "    path='/Users/sidharrthnagappan/ray_results/TorchTrainer_2024-12-24_17-34-19/TorchTrainer_4f4b8_00079_79_batch_size=128,dropout=0.2592,layer_1_size=32,layer_2_size=64,layer_3_size=512,learning_rate=0.0386_2024-12-24_17-34-21',\n",
       "    filesystem='local',\n",
       "    checkpoint=None\n",
       "  ),\n",
       "  Result(\n",
       "    metrics={},\n",
       "    path='/Users/sidharrthnagappan/ray_results/TorchTrainer_2024-12-24_17-34-19/TorchTrainer_4f4b8_00080_80_batch_size=64,dropout=0.2276,layer_1_size=64,layer_2_size=256,layer_3_size=256,learning_rate=0.0002_2024-12-24_17-34-21',\n",
       "    filesystem='local',\n",
       "    checkpoint=None\n",
       "  ),\n",
       "  Result(\n",
       "    metrics={},\n",
       "    path='/Users/sidharrthnagappan/ray_results/TorchTrainer_2024-12-24_17-34-19/TorchTrainer_4f4b8_00081_81_batch_size=32,dropout=0.2828,layer_1_size=32,layer_2_size=64,layer_3_size=256,learning_rate=0.0158_2024-12-24_17-34-21',\n",
       "    filesystem='local',\n",
       "    checkpoint=None\n",
       "  ),\n",
       "  Result(\n",
       "    metrics={},\n",
       "    path='/Users/sidharrthnagappan/ray_results/TorchTrainer_2024-12-24_17-34-19/TorchTrainer_4f4b8_00082_82_batch_size=64,dropout=0.2020,layer_1_size=64,layer_2_size=256,layer_3_size=128,learning_rate=0.0002_2024-12-24_17-34-21',\n",
       "    filesystem='local',\n",
       "    checkpoint=None\n",
       "  ),\n",
       "  Result(\n",
       "    metrics={},\n",
       "    path='/Users/sidharrthnagappan/ray_results/TorchTrainer_2024-12-24_17-34-19/TorchTrainer_4f4b8_00083_83_batch_size=32,dropout=0.2198,layer_1_size=32,layer_2_size=128,layer_3_size=512,learning_rate=0.0012_2024-12-24_17-34-21',\n",
       "    filesystem='local',\n",
       "    checkpoint=None\n",
       "  ),\n",
       "  Result(\n",
       "    metrics={},\n",
       "    path='/Users/sidharrthnagappan/ray_results/TorchTrainer_2024-12-24_17-34-19/TorchTrainer_4f4b8_00084_84_batch_size=64,dropout=0.1650,layer_1_size=128,layer_2_size=256,layer_3_size=512,learning_rate=0.0468_2024-12-24_17-34-21',\n",
       "    filesystem='local',\n",
       "    checkpoint=None\n",
       "  ),\n",
       "  Result(\n",
       "    metrics={},\n",
       "    path='/Users/sidharrthnagappan/ray_results/TorchTrainer_2024-12-24_17-34-19/TorchTrainer_4f4b8_00085_85_batch_size=64,dropout=0.1455,layer_1_size=128,layer_2_size=256,layer_3_size=512,learning_rate=0.0604_2024-12-24_17-34-21',\n",
       "    filesystem='local',\n",
       "    checkpoint=None\n",
       "  ),\n",
       "  Result(\n",
       "    metrics={},\n",
       "    path='/Users/sidharrthnagappan/ray_results/TorchTrainer_2024-12-24_17-34-19/TorchTrainer_4f4b8_00086_86_batch_size=32,dropout=0.1647,layer_1_size=32,layer_2_size=64,layer_3_size=256,learning_rate=0.0202_2024-12-24_17-34-21',\n",
       "    filesystem='local',\n",
       "    checkpoint=None\n",
       "  ),\n",
       "  Result(\n",
       "    metrics={},\n",
       "    path='/Users/sidharrthnagappan/ray_results/TorchTrainer_2024-12-24_17-34-19/TorchTrainer_4f4b8_00087_87_batch_size=128,dropout=0.2150,layer_1_size=32,layer_2_size=128,layer_3_size=512,learning_rate=0.0013_2024-12-24_17-34-21',\n",
       "    filesystem='local',\n",
       "    checkpoint=None\n",
       "  ),\n",
       "  Result(\n",
       "    metrics={},\n",
       "    path='/Users/sidharrthnagappan/ray_results/TorchTrainer_2024-12-24_17-34-19/TorchTrainer_4f4b8_00088_88_batch_size=64,dropout=0.1053,layer_1_size=32,layer_2_size=256,layer_3_size=256,learning_rate=0.0136_2024-12-24_17-34-21',\n",
       "    filesystem='local',\n",
       "    checkpoint=None\n",
       "  ),\n",
       "  Result(\n",
       "    metrics={},\n",
       "    path='/Users/sidharrthnagappan/ray_results/TorchTrainer_2024-12-24_17-34-19/TorchTrainer_4f4b8_00089_89_batch_size=32,dropout=0.2471,layer_1_size=128,layer_2_size=256,layer_3_size=256,learning_rate=0.0004_2024-12-24_17-34-21',\n",
       "    filesystem='local',\n",
       "    checkpoint=None\n",
       "  ),\n",
       "  Result(\n",
       "    metrics={},\n",
       "    path='/Users/sidharrthnagappan/ray_results/TorchTrainer_2024-12-24_17-34-19/TorchTrainer_4f4b8_00090_90_batch_size=128,dropout=0.1816,layer_1_size=128,layer_2_size=256,layer_3_size=128,learning_rate=0.0031_2024-12-24_17-34-21',\n",
       "    filesystem='local',\n",
       "    checkpoint=None\n",
       "  ),\n",
       "  Result(\n",
       "    metrics={},\n",
       "    path='/Users/sidharrthnagappan/ray_results/TorchTrainer_2024-12-24_17-34-19/TorchTrainer_4f4b8_00091_91_batch_size=32,dropout=0.1205,layer_1_size=32,layer_2_size=64,layer_3_size=512,learning_rate=0.0011_2024-12-24_17-34-21',\n",
       "    filesystem='local',\n",
       "    checkpoint=None\n",
       "  ),\n",
       "  Result(\n",
       "    metrics={},\n",
       "    path='/Users/sidharrthnagappan/ray_results/TorchTrainer_2024-12-24_17-34-19/TorchTrainer_4f4b8_00092_92_batch_size=64,dropout=0.1630,layer_1_size=128,layer_2_size=64,layer_3_size=128,learning_rate=0.0876_2024-12-24_17-34-21',\n",
       "    filesystem='local',\n",
       "    checkpoint=None\n",
       "  ),\n",
       "  Result(\n",
       "    metrics={},\n",
       "    path='/Users/sidharrthnagappan/ray_results/TorchTrainer_2024-12-24_17-34-19/TorchTrainer_4f4b8_00093_93_batch_size=64,dropout=0.1335,layer_1_size=64,layer_2_size=64,layer_3_size=512,learning_rate=0.0022_2024-12-24_17-34-21',\n",
       "    filesystem='local',\n",
       "    checkpoint=None\n",
       "  ),\n",
       "  Result(\n",
       "    metrics={},\n",
       "    path='/Users/sidharrthnagappan/ray_results/TorchTrainer_2024-12-24_17-34-19/TorchTrainer_4f4b8_00094_94_batch_size=128,dropout=0.1068,layer_1_size=128,layer_2_size=256,layer_3_size=256,learning_rate=0.0240_2024-12-24_17-34-21',\n",
       "    filesystem='local',\n",
       "    checkpoint=None\n",
       "  ),\n",
       "  Result(\n",
       "    metrics={},\n",
       "    path='/Users/sidharrthnagappan/ray_results/TorchTrainer_2024-12-24_17-34-19/TorchTrainer_4f4b8_00095_95_batch_size=128,dropout=0.2614,layer_1_size=32,layer_2_size=256,layer_3_size=128,learning_rate=0.0056_2024-12-24_17-34-21',\n",
       "    filesystem='local',\n",
       "    checkpoint=None\n",
       "  ),\n",
       "  Result(\n",
       "    metrics={},\n",
       "    path='/Users/sidharrthnagappan/ray_results/TorchTrainer_2024-12-24_17-34-19/TorchTrainer_4f4b8_00096_96_batch_size=32,dropout=0.2662,layer_1_size=128,layer_2_size=128,layer_3_size=512,learning_rate=0.0062_2024-12-24_17-34-21',\n",
       "    filesystem='local',\n",
       "    checkpoint=None\n",
       "  ),\n",
       "  Result(\n",
       "    metrics={},\n",
       "    path='/Users/sidharrthnagappan/ray_results/TorchTrainer_2024-12-24_17-34-19/TorchTrainer_4f4b8_00097_97_batch_size=32,dropout=0.1770,layer_1_size=32,layer_2_size=256,layer_3_size=512,learning_rate=0.0002_2024-12-24_17-34-21',\n",
       "    filesystem='local',\n",
       "    checkpoint=None\n",
       "  ),\n",
       "  Result(\n",
       "    metrics={},\n",
       "    path='/Users/sidharrthnagappan/ray_results/TorchTrainer_2024-12-24_17-34-19/TorchTrainer_4f4b8_00098_98_batch_size=32,dropout=0.1392,layer_1_size=128,layer_2_size=256,layer_3_size=512,learning_rate=0.0025_2024-12-24_17-34-21',\n",
       "    filesystem='local',\n",
       "    checkpoint=None\n",
       "  ),\n",
       "  Result(\n",
       "    metrics={},\n",
       "    path='/Users/sidharrthnagappan/ray_results/TorchTrainer_2024-12-24_17-34-19/TorchTrainer_4f4b8_00099_99_batch_size=128,dropout=0.2809,layer_1_size=64,layer_2_size=128,layer_3_size=128,learning_rate=0.0113_2024-12-24_17-34-21',\n",
       "    filesystem='local',\n",
       "    checkpoint=None\n",
       "  )\n",
       "]>"
      ]
     },
     "execution_count": 8,
     "metadata": {},
     "output_type": "execute_result"
    },
    {
     "name": "stderr",
     "output_type": "stream",
     "text": [
      "\u001b[36m(RayTrainWorker pid=56664)\u001b[0m /Users/sidharrthnagappan/.pyenv/versions/3.11.0/lib/python3.11/multiprocessing/resource_tracker.py:224: UserWarning: resource_tracker: There appear to be 55 leaked semaphore objects to clean up at shutdown\n",
      "\u001b[36m(RayTrainWorker pid=56664)\u001b[0m   warnings.warn('resource_tracker: There appear to be %d '\n"
     ]
    }
   ],
   "source": [
    "tuner = tune.Tuner(\n",
    "    ray_trainer,\n",
    "    param_space={\"train_loop_config\": search_space},\n",
    "    tune_config=tune.TuneConfig(\n",
    "        metric=\"ptl/val_accuracy\",\n",
    "        mode=\"max\",\n",
    "        num_samples=num_samples,\n",
    "        scheduler=scheduler,\n",
    "    ),\n",
    ")\n",
    "\n",
    "tuner.fit()"
   ]
  },
  {
   "cell_type": "code",
   "execution_count": null,
   "metadata": {},
   "outputs": [],
   "source": [
    "tuner.results_df"
   ]
  },
  {
   "cell_type": "code",
   "execution_count": 9,
   "metadata": {},
   "outputs": [],
   "source": [
    "from axsearch_multiobjective import AxSearchMultiObjective"
   ]
  },
  {
   "cell_type": "code",
   "execution_count": 1,
   "metadata": {},
   "outputs": [
    {
     "data": {
      "text/html": [
       "<div class=\"tuneStatus\">\n",
       "  <div style=\"display: flex;flex-direction: row\">\n",
       "    <div style=\"display: flex;flex-direction: column;\">\n",
       "      <h3>Tune Status</h3>\n",
       "      <table>\n",
       "<tbody>\n",
       "<tr><td>Current time:</td><td>2024-12-24 18:37:49</td></tr>\n",
       "<tr><td>Running for: </td><td>00:00:22.72        </td></tr>\n",
       "<tr><td>Memory:      </td><td>18.4/32.0 GiB      </td></tr>\n",
       "</tbody>\n",
       "</table>\n",
       "    </div>\n",
       "    <div class=\"vDivider\"></div>\n",
       "    <div class=\"systemInfo\">\n",
       "      <h3>System Info</h3>\n",
       "      Using FIFO scheduling algorithm.<br>Logical resource usage: 1.0/10 CPUs, 0/0 GPUs\n",
       "    </div>\n",
       "    \n",
       "  </div>\n",
       "  <div class=\"hDivider\"></div>\n",
       "  <div class=\"trialStatus\">\n",
       "    <h3>Trial Status</h3>\n",
       "    <table>\n",
       "<thead>\n",
       "<tr><th>Trial name       </th><th>status    </th><th>loc            </th><th style=\"text-align: right;\">        a</th><th style=\"text-align: right;\">       b</th><th style=\"text-align: right;\">  iter</th><th style=\"text-align: right;\">  total time (s)</th><th style=\"text-align: right;\">        a</th><th style=\"text-align: right;\">       b</th></tr>\n",
       "</thead>\n",
       "<tbody>\n",
       "<tr><td>evaluate_3410d4bd</td><td>RUNNING   </td><td>127.0.0.1:96919</td><td style=\"text-align: right;\">0.0617101</td><td style=\"text-align: right;\">0       </td><td style=\"text-align: right;\">     1</td><td style=\"text-align: right;\">     0.00011301 </td><td style=\"text-align: right;\">0.0617101</td><td style=\"text-align: right;\">0       </td></tr>\n",
       "<tr><td>evaluate_d33e9b82</td><td>PENDING   </td><td>               </td><td style=\"text-align: right;\">0        </td><td style=\"text-align: right;\">0       </td><td style=\"text-align: right;\">      </td><td style=\"text-align: right;\">                </td><td style=\"text-align: right;\">         </td><td style=\"text-align: right;\">        </td></tr>\n",
       "<tr><td>evaluate_02729e0e</td><td>TERMINATED</td><td>127.0.0.1:96633</td><td style=\"text-align: right;\">0.820969 </td><td style=\"text-align: right;\">0.906443</td><td style=\"text-align: right;\">     1</td><td style=\"text-align: right;\">     0.000178099</td><td style=\"text-align: right;\">0.820969 </td><td style=\"text-align: right;\">0.906443</td></tr>\n",
       "<tr><td>evaluate_e3896cec</td><td>TERMINATED</td><td>127.0.0.1:96657</td><td style=\"text-align: right;\">0.455959 </td><td style=\"text-align: right;\">0.36842 </td><td style=\"text-align: right;\">     1</td><td style=\"text-align: right;\">     0.000120878</td><td style=\"text-align: right;\">0.455959 </td><td style=\"text-align: right;\">0.36842 </td></tr>\n",
       "<tr><td>evaluate_fb03ec36</td><td>TERMINATED</td><td>127.0.0.1:96658</td><td style=\"text-align: right;\">0.155818 </td><td style=\"text-align: right;\">0.54806 </td><td style=\"text-align: right;\">     1</td><td style=\"text-align: right;\">     0.000102997</td><td style=\"text-align: right;\">0.155818 </td><td style=\"text-align: right;\">0.54806 </td></tr>\n",
       "<tr><td>evaluate_c3510f0d</td><td>TERMINATED</td><td>127.0.0.1:96659</td><td style=\"text-align: right;\">0.505637 </td><td style=\"text-align: right;\">0.226834</td><td style=\"text-align: right;\">     1</td><td style=\"text-align: right;\">     9.799e-05  </td><td style=\"text-align: right;\">0.505637 </td><td style=\"text-align: right;\">0.226834</td></tr>\n",
       "<tr><td>evaluate_6ea9b0cb</td><td>TERMINATED</td><td>127.0.0.1:96681</td><td style=\"text-align: right;\">0.678237 </td><td style=\"text-align: right;\">0.626771</td><td style=\"text-align: right;\">     1</td><td style=\"text-align: right;\">     0.000137091</td><td style=\"text-align: right;\">0.678237 </td><td style=\"text-align: right;\">0.626771</td></tr>\n",
       "<tr><td>evaluate_a22af8ef</td><td>TERMINATED</td><td>127.0.0.1:96700</td><td style=\"text-align: right;\">0.0459458</td><td style=\"text-align: right;\">0.029688</td><td style=\"text-align: right;\">     1</td><td style=\"text-align: right;\">     0.000109196</td><td style=\"text-align: right;\">0.0459458</td><td style=\"text-align: right;\">0.029688</td></tr>\n",
       "<tr><td>evaluate_77f4f7ec</td><td>TERMINATED</td><td>127.0.0.1:96711</td><td style=\"text-align: right;\">0        </td><td style=\"text-align: right;\">0.206163</td><td style=\"text-align: right;\">     1</td><td style=\"text-align: right;\">     0.000154018</td><td style=\"text-align: right;\">0        </td><td style=\"text-align: right;\">0.206163</td></tr>\n",
       "<tr><td>evaluate_43220a4e</td><td>TERMINATED</td><td>127.0.0.1:96733</td><td style=\"text-align: right;\">0        </td><td style=\"text-align: right;\">0       </td><td style=\"text-align: right;\">     1</td><td style=\"text-align: right;\">     0.000109911</td><td style=\"text-align: right;\">0        </td><td style=\"text-align: right;\">0       </td></tr>\n",
       "<tr><td>evaluate_e46d300c</td><td>TERMINATED</td><td>127.0.0.1:96734</td><td style=\"text-align: right;\">0.246713 </td><td style=\"text-align: right;\">0       </td><td style=\"text-align: right;\">     1</td><td style=\"text-align: right;\">     0.000125885</td><td style=\"text-align: right;\">0.246713 </td><td style=\"text-align: right;\">0       </td></tr>\n",
       "<tr><td>evaluate_6b26c697</td><td>TERMINATED</td><td>127.0.0.1:96756</td><td style=\"text-align: right;\">0.123905 </td><td style=\"text-align: right;\">0       </td><td style=\"text-align: right;\">     1</td><td style=\"text-align: right;\">     0.000113964</td><td style=\"text-align: right;\">0.123905 </td><td style=\"text-align: right;\">0       </td></tr>\n",
       "<tr><td>evaluate_acd4c04e</td><td>TERMINATED</td><td>127.0.0.1:96795</td><td style=\"text-align: right;\">0        </td><td style=\"text-align: right;\">0       </td><td style=\"text-align: right;\">     1</td><td style=\"text-align: right;\">     0.000123739</td><td style=\"text-align: right;\">0        </td><td style=\"text-align: right;\">0       </td></tr>\n",
       "<tr><td>evaluate_4934125f</td><td>TERMINATED</td><td>127.0.0.1:96796</td><td style=\"text-align: right;\">0        </td><td style=\"text-align: right;\">0       </td><td style=\"text-align: right;\">     1</td><td style=\"text-align: right;\">     0.000120163</td><td style=\"text-align: right;\">0        </td><td style=\"text-align: right;\">0       </td></tr>\n",
       "<tr><td>evaluate_be14780d</td><td>TERMINATED</td><td>127.0.0.1:96818</td><td style=\"text-align: right;\">0        </td><td style=\"text-align: right;\">0       </td><td style=\"text-align: right;\">     1</td><td style=\"text-align: right;\">     0.000128031</td><td style=\"text-align: right;\">0        </td><td style=\"text-align: right;\">0       </td></tr>\n",
       "<tr><td>evaluate_38ae86e2</td><td>TERMINATED</td><td>127.0.0.1:96819</td><td style=\"text-align: right;\">0        </td><td style=\"text-align: right;\">0       </td><td style=\"text-align: right;\">     1</td><td style=\"text-align: right;\">     0.000121117</td><td style=\"text-align: right;\">0        </td><td style=\"text-align: right;\">0       </td></tr>\n",
       "<tr><td>evaluate_9ac9bca7</td><td>TERMINATED</td><td>127.0.0.1:96848</td><td style=\"text-align: right;\">0        </td><td style=\"text-align: right;\">0       </td><td style=\"text-align: right;\">     1</td><td style=\"text-align: right;\">     0.000128031</td><td style=\"text-align: right;\">0        </td><td style=\"text-align: right;\">0       </td></tr>\n",
       "<tr><td>evaluate_7ea537f7</td><td>TERMINATED</td><td>127.0.0.1:96871</td><td style=\"text-align: right;\">0        </td><td style=\"text-align: right;\">0       </td><td style=\"text-align: right;\">     1</td><td style=\"text-align: right;\">     0.000106812</td><td style=\"text-align: right;\">0        </td><td style=\"text-align: right;\">0       </td></tr>\n",
       "<tr><td>evaluate_87585daf</td><td>TERMINATED</td><td>127.0.0.1:96873</td><td style=\"text-align: right;\">0        </td><td style=\"text-align: right;\">0       </td><td style=\"text-align: right;\">     1</td><td style=\"text-align: right;\">     0.00010705 </td><td style=\"text-align: right;\">0        </td><td style=\"text-align: right;\">0       </td></tr>\n",
       "<tr><td>evaluate_73a1bb0b</td><td>TERMINATED</td><td>127.0.0.1:96895</td><td style=\"text-align: right;\">0        </td><td style=\"text-align: right;\">0       </td><td style=\"text-align: right;\">     1</td><td style=\"text-align: right;\">     0.000120163</td><td style=\"text-align: right;\">0        </td><td style=\"text-align: right;\">0       </td></tr>\n",
       "</tbody>\n",
       "</table>\n",
       "  </div>\n",
       "</div>\n",
       "<style>\n",
       ".tuneStatus {\n",
       "  color: var(--jp-ui-font-color1);\n",
       "}\n",
       ".tuneStatus .systemInfo {\n",
       "  display: flex;\n",
       "  flex-direction: column;\n",
       "}\n",
       ".tuneStatus td {\n",
       "  white-space: nowrap;\n",
       "}\n",
       ".tuneStatus .trialStatus {\n",
       "  display: flex;\n",
       "  flex-direction: column;\n",
       "}\n",
       ".tuneStatus h3 {\n",
       "  font-weight: bold;\n",
       "}\n",
       ".tuneStatus .hDivider {\n",
       "  border-bottom-width: var(--jp-border-width);\n",
       "  border-bottom-color: var(--jp-border-color0);\n",
       "  border-bottom-style: solid;\n",
       "}\n",
       ".tuneStatus .vDivider {\n",
       "  border-left-width: var(--jp-border-width);\n",
       "  border-left-color: var(--jp-border-color0);\n",
       "  border-left-style: solid;\n",
       "  margin: 0.5em 1em 0.5em 1em;\n",
       "}\n",
       "</style>\n"
      ],
      "text/plain": [
       "<IPython.core.display.HTML object>"
      ]
     },
     "metadata": {},
     "output_type": "display_data"
    },
    {
     "name": "stderr",
     "output_type": "stream",
     "text": [
      "/Users/sidharrthnagappan/.virtualenvs/lsdp_miniproject/lib/python3.11/site-packages/ax/modelbridge/cross_validation.py:463: UserWarning: Encountered exception in computing model fit quality: RandomModelBridge does not support prediction.\n",
      "  warn(\"Encountered exception in computing model fit quality: \" + str(e))\n",
      "/Users/sidharrthnagappan/.virtualenvs/lsdp_miniproject/lib/python3.11/site-packages/ax/modelbridge/cross_validation.py:463: UserWarning: Encountered exception in computing model fit quality: RandomModelBridge does not support prediction.\n",
      "  warn(\"Encountered exception in computing model fit quality: \" + str(e))\n",
      "/Users/sidharrthnagappan/.virtualenvs/lsdp_miniproject/lib/python3.11/site-packages/ax/core/data.py:288: FutureWarning: The behavior of DataFrame concatenation with empty or all-NA entries is deprecated. In a future version, this will no longer exclude empty or all-NA columns when determining the result dtypes. To retain the old behavior, exclude the relevant entries before the concat operation.\n",
      "  return cls(df=pd.concat(dfs, axis=0, sort=True))\n",
      "/Users/sidharrthnagappan/.virtualenvs/lsdp_miniproject/lib/python3.11/site-packages/ax/modelbridge/cross_validation.py:463: UserWarning: Encountered exception in computing model fit quality: RandomModelBridge does not support prediction.\n",
      "  warn(\"Encountered exception in computing model fit quality: \" + str(e))\n",
      "/Users/sidharrthnagappan/.virtualenvs/lsdp_miniproject/lib/python3.11/site-packages/ax/core/data.py:288: FutureWarning: The behavior of DataFrame concatenation with empty or all-NA entries is deprecated. In a future version, this will no longer exclude empty or all-NA columns when determining the result dtypes. To retain the old behavior, exclude the relevant entries before the concat operation.\n",
      "  return cls(df=pd.concat(dfs, axis=0, sort=True))\n",
      "/Users/sidharrthnagappan/.virtualenvs/lsdp_miniproject/lib/python3.11/site-packages/ax/modelbridge/cross_validation.py:463: UserWarning: Encountered exception in computing model fit quality: RandomModelBridge does not support prediction.\n",
      "  warn(\"Encountered exception in computing model fit quality: \" + str(e))\n",
      "/Users/sidharrthnagappan/.virtualenvs/lsdp_miniproject/lib/python3.11/site-packages/ax/core/data.py:288: FutureWarning: The behavior of DataFrame concatenation with empty or all-NA entries is deprecated. In a future version, this will no longer exclude empty or all-NA columns when determining the result dtypes. To retain the old behavior, exclude the relevant entries before the concat operation.\n",
      "  return cls(df=pd.concat(dfs, axis=0, sort=True))\n",
      "/Users/sidharrthnagappan/.virtualenvs/lsdp_miniproject/lib/python3.11/site-packages/ax/modelbridge/cross_validation.py:463: UserWarning: Encountered exception in computing model fit quality: RandomModelBridge does not support prediction.\n",
      "  warn(\"Encountered exception in computing model fit quality: \" + str(e))\n",
      "/Users/sidharrthnagappan/.virtualenvs/lsdp_miniproject/lib/python3.11/site-packages/ax/core/data.py:288: FutureWarning: The behavior of DataFrame concatenation with empty or all-NA entries is deprecated. In a future version, this will no longer exclude empty or all-NA columns when determining the result dtypes. To retain the old behavior, exclude the relevant entries before the concat operation.\n",
      "  return cls(df=pd.concat(dfs, axis=0, sort=True))\n",
      "/Users/sidharrthnagappan/.virtualenvs/lsdp_miniproject/lib/python3.11/site-packages/ax/core/data.py:288: FutureWarning: The behavior of DataFrame concatenation with empty or all-NA entries is deprecated. In a future version, this will no longer exclude empty or all-NA columns when determining the result dtypes. To retain the old behavior, exclude the relevant entries before the concat operation.\n",
      "  return cls(df=pd.concat(dfs, axis=0, sort=True))\n",
      "/Users/sidharrthnagappan/.virtualenvs/lsdp_miniproject/lib/python3.11/site-packages/ax/core/data.py:288: FutureWarning: The behavior of DataFrame concatenation with empty or all-NA entries is deprecated. In a future version, this will no longer exclude empty or all-NA columns when determining the result dtypes. To retain the old behavior, exclude the relevant entries before the concat operation.\n",
      "  return cls(df=pd.concat(dfs, axis=0, sort=True))\n",
      "/Users/sidharrthnagappan/.virtualenvs/lsdp_miniproject/lib/python3.11/site-packages/ax/core/data.py:288: FutureWarning: The behavior of DataFrame concatenation with empty or all-NA entries is deprecated. In a future version, this will no longer exclude empty or all-NA columns when determining the result dtypes. To retain the old behavior, exclude the relevant entries before the concat operation.\n",
      "  return cls(df=pd.concat(dfs, axis=0, sort=True))\n",
      "/Users/sidharrthnagappan/.virtualenvs/lsdp_miniproject/lib/python3.11/site-packages/linear_operator/utils/cholesky.py:40: NumericalWarning: A not p.d., added jitter of 1.0e-08 to the diagonal\n",
      "  warnings.warn(\n",
      "/Users/sidharrthnagappan/.virtualenvs/lsdp_miniproject/lib/python3.11/site-packages/ax/core/data.py:288: FutureWarning: The behavior of DataFrame concatenation with empty or all-NA entries is deprecated. In a future version, this will no longer exclude empty or all-NA columns when determining the result dtypes. To retain the old behavior, exclude the relevant entries before the concat operation.\n",
      "  return cls(df=pd.concat(dfs, axis=0, sort=True))\n",
      "/Users/sidharrthnagappan/.virtualenvs/lsdp_miniproject/lib/python3.11/site-packages/linear_operator/utils/cholesky.py:40: NumericalWarning: A not p.d., added jitter of 1.0e-08 to the diagonal\n",
      "  warnings.warn(\n",
      "/Users/sidharrthnagappan/.virtualenvs/lsdp_miniproject/lib/python3.11/site-packages/ax/core/data.py:288: FutureWarning: The behavior of DataFrame concatenation with empty or all-NA entries is deprecated. In a future version, this will no longer exclude empty or all-NA columns when determining the result dtypes. To retain the old behavior, exclude the relevant entries before the concat operation.\n",
      "  return cls(df=pd.concat(dfs, axis=0, sort=True))\n",
      "/Users/sidharrthnagappan/.virtualenvs/lsdp_miniproject/lib/python3.11/site-packages/linear_operator/utils/cholesky.py:40: NumericalWarning: A not p.d., added jitter of 1.0e-08 to the diagonal\n",
      "  warnings.warn(\n",
      "/Users/sidharrthnagappan/.virtualenvs/lsdp_miniproject/lib/python3.11/site-packages/ax/core/data.py:288: FutureWarning: The behavior of DataFrame concatenation with empty or all-NA entries is deprecated. In a future version, this will no longer exclude empty or all-NA columns when determining the result dtypes. To retain the old behavior, exclude the relevant entries before the concat operation.\n",
      "  return cls(df=pd.concat(dfs, axis=0, sort=True))\n",
      "[WARNING 12-24 18:37:38] ax.models.torch.botorch_modular.acquisition: Encountered Xs pending for some Surrogates but observed for others. Considering these points to be pending.\n",
      "/Users/sidharrthnagappan/.virtualenvs/lsdp_miniproject/lib/python3.11/site-packages/ax/core/data.py:288: FutureWarning: The behavior of DataFrame concatenation with empty or all-NA entries is deprecated. In a future version, this will no longer exclude empty or all-NA columns when determining the result dtypes. To retain the old behavior, exclude the relevant entries before the concat operation.\n",
      "  return cls(df=pd.concat(dfs, axis=0, sort=True))\n",
      "[WARNING 12-24 18:37:39] ax.models.torch.botorch_modular.acquisition: Encountered Xs pending for some Surrogates but observed for others. Considering these points to be pending.\n",
      "/Users/sidharrthnagappan/.virtualenvs/lsdp_miniproject/lib/python3.11/site-packages/linear_operator/utils/cholesky.py:40: NumericalWarning: A not p.d., added jitter of 1.0e-08 to the diagonal\n",
      "  warnings.warn(\n",
      "/Users/sidharrthnagappan/.virtualenvs/lsdp_miniproject/lib/python3.11/site-packages/ax/core/data.py:288: FutureWarning: The behavior of DataFrame concatenation with empty or all-NA entries is deprecated. In a future version, this will no longer exclude empty or all-NA columns when determining the result dtypes. To retain the old behavior, exclude the relevant entries before the concat operation.\n",
      "  return cls(df=pd.concat(dfs, axis=0, sort=True))\n",
      "[WARNING 12-24 18:37:40] ax.models.torch.botorch_modular.acquisition: Encountered Xs pending for some Surrogates but observed for others. Considering these points to be pending.\n",
      "/Users/sidharrthnagappan/.virtualenvs/lsdp_miniproject/lib/python3.11/site-packages/linear_operator/utils/cholesky.py:40: NumericalWarning: A not p.d., added jitter of 1.0e-08 to the diagonal\n",
      "  warnings.warn(\n",
      "/Users/sidharrthnagappan/.virtualenvs/lsdp_miniproject/lib/python3.11/site-packages/ax/core/data.py:288: FutureWarning: The behavior of DataFrame concatenation with empty or all-NA entries is deprecated. In a future version, this will no longer exclude empty or all-NA columns when determining the result dtypes. To retain the old behavior, exclude the relevant entries before the concat operation.\n",
      "  return cls(df=pd.concat(dfs, axis=0, sort=True))\n",
      "[WARNING 12-24 18:37:42] ax.models.torch.botorch_modular.acquisition: Encountered Xs pending for some Surrogates but observed for others. Considering these points to be pending.\n",
      "/Users/sidharrthnagappan/.virtualenvs/lsdp_miniproject/lib/python3.11/site-packages/linear_operator/utils/cholesky.py:40: NumericalWarning: A not p.d., added jitter of 1.0e-08 to the diagonal\n",
      "  warnings.warn(\n",
      "/Users/sidharrthnagappan/.virtualenvs/lsdp_miniproject/lib/python3.11/site-packages/ax/core/data.py:288: FutureWarning: The behavior of DataFrame concatenation with empty or all-NA entries is deprecated. In a future version, this will no longer exclude empty or all-NA columns when determining the result dtypes. To retain the old behavior, exclude the relevant entries before the concat operation.\n",
      "  return cls(df=pd.concat(dfs, axis=0, sort=True))\n",
      "[WARNING 12-24 18:37:43] ax.models.torch.botorch_modular.acquisition: Encountered Xs pending for some Surrogates but observed for others. Considering these points to be pending.\n",
      "/Users/sidharrthnagappan/.virtualenvs/lsdp_miniproject/lib/python3.11/site-packages/linear_operator/utils/cholesky.py:40: NumericalWarning: A not p.d., added jitter of 1.0e-08 to the diagonal\n",
      "  warnings.warn(\n",
      "/Users/sidharrthnagappan/.virtualenvs/lsdp_miniproject/lib/python3.11/site-packages/ax/core/data.py:288: FutureWarning: The behavior of DataFrame concatenation with empty or all-NA entries is deprecated. In a future version, this will no longer exclude empty or all-NA columns when determining the result dtypes. To retain the old behavior, exclude the relevant entries before the concat operation.\n",
      "  return cls(df=pd.concat(dfs, axis=0, sort=True))\n",
      "[WARNING 12-24 18:37:44] ax.models.torch.botorch_modular.acquisition: Encountered Xs pending for some Surrogates but observed for others. Considering these points to be pending.\n",
      "/Users/sidharrthnagappan/.virtualenvs/lsdp_miniproject/lib/python3.11/site-packages/linear_operator/utils/cholesky.py:40: NumericalWarning: A not p.d., added jitter of 1.0e-08 to the diagonal\n",
      "  warnings.warn(\n",
      "/Users/sidharrthnagappan/.virtualenvs/lsdp_miniproject/lib/python3.11/site-packages/ax/core/data.py:288: FutureWarning: The behavior of DataFrame concatenation with empty or all-NA entries is deprecated. In a future version, this will no longer exclude empty or all-NA columns when determining the result dtypes. To retain the old behavior, exclude the relevant entries before the concat operation.\n",
      "  return cls(df=pd.concat(dfs, axis=0, sort=True))\n",
      "[WARNING 12-24 18:37:45] ax.models.torch.botorch_modular.acquisition: Encountered Xs pending for some Surrogates but observed for others. Considering these points to be pending.\n",
      "/Users/sidharrthnagappan/.virtualenvs/lsdp_miniproject/lib/python3.11/site-packages/linear_operator/utils/cholesky.py:40: NumericalWarning: A not p.d., added jitter of 1.0e-08 to the diagonal\n",
      "  warnings.warn(\n",
      "/Users/sidharrthnagappan/.virtualenvs/lsdp_miniproject/lib/python3.11/site-packages/ax/core/data.py:288: FutureWarning: The behavior of DataFrame concatenation with empty or all-NA entries is deprecated. In a future version, this will no longer exclude empty or all-NA columns when determining the result dtypes. To retain the old behavior, exclude the relevant entries before the concat operation.\n",
      "  return cls(df=pd.concat(dfs, axis=0, sort=True))\n",
      "[WARNING 12-24 18:37:47] ax.models.torch.botorch_modular.acquisition: Encountered Xs pending for some Surrogates but observed for others. Considering these points to be pending.\n",
      "/Users/sidharrthnagappan/.virtualenvs/lsdp_miniproject/lib/python3.11/site-packages/linear_operator/utils/cholesky.py:40: NumericalWarning: A not p.d., added jitter of 1.0e-08 to the diagonal\n",
      "  warnings.warn(\n",
      "/Users/sidharrthnagappan/.virtualenvs/lsdp_miniproject/lib/python3.11/site-packages/ax/core/data.py:288: FutureWarning: The behavior of DataFrame concatenation with empty or all-NA entries is deprecated. In a future version, this will no longer exclude empty or all-NA columns when determining the result dtypes. To retain the old behavior, exclude the relevant entries before the concat operation.\n",
      "  return cls(df=pd.concat(dfs, axis=0, sort=True))\n",
      "2024-12-24 18:37:48,958\tWARNING tune.py:219 -- Stop signal received (e.g. via SIGINT/Ctrl+C), ending Ray Tune run. This will try to checkpoint the experiment state one last time. Press CTRL+C (or send SIGINT/SIGKILL/SIGTERM) to skip. \n",
      "/Users/sidharrthnagappan/.virtualenvs/lsdp_miniproject/lib/python3.11/site-packages/linear_operator/utils/cholesky.py:40: NumericalWarning: A not p.d., added jitter of 1.0e-08 to the diagonal\n",
      "  warnings.warn(\n",
      "2024-12-24 18:37:49,064\tINFO tune.py:1009 -- Wrote the latest version of all result files and experiment state to '/Users/sidharrthnagappan/ray_results/evaluate_2024-12-24_18-37-24' in 0.0124s.\n",
      "2024-12-24 18:37:49,069\tINFO tune.py:1041 -- Total run time: 22.74 seconds (22.71 seconds for the tuning loop).\n",
      "2024-12-24 18:37:49,069\tWARNING tune.py:1056 -- Experiment has been interrupted, but the most recent state was saved.\n",
      "Resume experiment with: Tuner.restore(path=\"/Users/sidharrthnagappan/ray_results/evaluate_2024-12-24_18-37-24\", trainable=...)\n",
      "2024-12-24 18:37:49,078\tWARNING experiment_analysis.py:180 -- Failed to fetch metrics for 1 trial(s):\n",
      "- evaluate_d33e9b82: FileNotFoundError('Could not fetch metrics for evaluate_d33e9b82: both result.json and progress.csv were not found at /Users/sidharrthnagappan/ray_results/evaluate_2024-12-24_18-37-24/evaluate_d33e9b82_20_a=0.0000,b=0.0000_2024-12-24_18-37-49')\n"
     ]
    },
    {
     "data": {
      "text/plain": [
       "ResultGrid<[\n",
       "  Result(\n",
       "    metrics={'a': 0.8209691047668457, 'b': 0.9064434170722961},\n",
       "    path='/Users/sidharrthnagappan/ray_results/evaluate_2024-12-24_18-37-24/evaluate_02729e0e_1_a=0.8210,b=0.9064_2024-12-24_18-37-26',\n",
       "    filesystem='local',\n",
       "    checkpoint=None\n",
       "  ),\n",
       "  Result(\n",
       "    metrics={'a': 0.455959377810359, 'b': 0.36842001881450415},\n",
       "    path='/Users/sidharrthnagappan/ray_results/evaluate_2024-12-24_18-37-24/evaluate_e3896cec_2_a=0.4560,b=0.3684_2024-12-24_18-37-27',\n",
       "    filesystem='local',\n",
       "    checkpoint=None\n",
       "  ),\n",
       "  Result(\n",
       "    metrics={'a': 0.15581835061311722, 'b': 0.54806022439152},\n",
       "    path='/Users/sidharrthnagappan/ray_results/evaluate_2024-12-24_18-37-24/evaluate_fb03ec36_3_a=0.1558,b=0.5481_2024-12-24_18-37-28',\n",
       "    filesystem='local',\n",
       "    checkpoint=None\n",
       "  ),\n",
       "  Result(\n",
       "    metrics={'a': 0.5056372489780188, 'b': 0.2268337970599532},\n",
       "    path='/Users/sidharrthnagappan/ray_results/evaluate_2024-12-24_18-37-24/evaluate_c3510f0d_4_a=0.5056,b=0.2268_2024-12-24_18-37-28',\n",
       "    filesystem='local',\n",
       "    checkpoint=None\n",
       "  ),\n",
       "  Result(\n",
       "    metrics={'a': 0.6782368943095207, 'b': 0.6267708316445351},\n",
       "    path='/Users/sidharrthnagappan/ray_results/evaluate_2024-12-24_18-37-24/evaluate_6ea9b0cb_5_a=0.6782,b=0.6268_2024-12-24_18-37-29',\n",
       "    filesystem='local',\n",
       "    checkpoint=None\n",
       "  ),\n",
       "  Result(\n",
       "    metrics={'a': 0.045945821092970934, 'b': 0.02968799090601478},\n",
       "    path='/Users/sidharrthnagappan/ray_results/evaluate_2024-12-24_18-37-24/evaluate_a22af8ef_6_a=0.0459,b=0.0297_2024-12-24_18-37-31',\n",
       "    filesystem='local',\n",
       "    checkpoint=None\n",
       "  ),\n",
       "  Result(\n",
       "    metrics={'a': 0.0, 'b': 0.20616272235051245},\n",
       "    path='/Users/sidharrthnagappan/ray_results/evaluate_2024-12-24_18-37-24/evaluate_77f4f7ec_7_a=0.0000,b=0.2062_2024-12-24_18-37-32',\n",
       "    filesystem='local',\n",
       "    checkpoint=None\n",
       "  ),\n",
       "  Result(\n",
       "    metrics={'a': 0.0, 'b': 0.0},\n",
       "    path='/Users/sidharrthnagappan/ray_results/evaluate_2024-12-24_18-37-24/evaluate_43220a4e_8_a=0.0000,b=0.0000_2024-12-24_18-37-33',\n",
       "    filesystem='local',\n",
       "    checkpoint=None\n",
       "  ),\n",
       "  Result(\n",
       "    metrics={'a': 0.2467127308475358, 'b': 0.0},\n",
       "    path='/Users/sidharrthnagappan/ray_results/evaluate_2024-12-24_18-37-24/evaluate_e46d300c_9_a=0.2467,b=0.0000_2024-12-24_18-37-34',\n",
       "    filesystem='local',\n",
       "    checkpoint=None\n",
       "  ),\n",
       "  Result(\n",
       "    metrics={'a': 0.12390530132912912, 'b': 0.0},\n",
       "    path='/Users/sidharrthnagappan/ray_results/evaluate_2024-12-24_18-37-24/evaluate_6b26c697_10_a=0.1239,b=0.0000_2024-12-24_18-37-36',\n",
       "    filesystem='local',\n",
       "    checkpoint=None\n",
       "  ),\n",
       "  Result(\n",
       "    metrics={'a': 0.0, 'b': 0.0},\n",
       "    path='/Users/sidharrthnagappan/ray_results/evaluate_2024-12-24_18-37-24/evaluate_acd4c04e_11_a=0.0000,b=0.0000_2024-12-24_18-37-37',\n",
       "    filesystem='local',\n",
       "    checkpoint=None\n",
       "  ),\n",
       "  Result(\n",
       "    metrics={'a': 0.0, 'b': 0.0},\n",
       "    path='/Users/sidharrthnagappan/ray_results/evaluate_2024-12-24_18-37-24/evaluate_4934125f_12_a=0.0000,b=0.0000_2024-12-24_18-37-38',\n",
       "    filesystem='local',\n",
       "    checkpoint=None\n",
       "  ),\n",
       "  Result(\n",
       "    metrics={'a': 0.0, 'b': 0.0},\n",
       "    path='/Users/sidharrthnagappan/ray_results/evaluate_2024-12-24_18-37-24/evaluate_be14780d_13_a=0.0000,b=0.0000_2024-12-24_18-37-39',\n",
       "    filesystem='local',\n",
       "    checkpoint=None\n",
       "  ),\n",
       "  Result(\n",
       "    metrics={'a': 0.0, 'b': 0.0},\n",
       "    path='/Users/sidharrthnagappan/ray_results/evaluate_2024-12-24_18-37-24/evaluate_38ae86e2_14_a=0.0000,b=0.0000_2024-12-24_18-37-41',\n",
       "    filesystem='local',\n",
       "    checkpoint=None\n",
       "  ),\n",
       "  Result(\n",
       "    metrics={'a': 0.0, 'b': 0.0},\n",
       "    path='/Users/sidharrthnagappan/ray_results/evaluate_2024-12-24_18-37-24/evaluate_9ac9bca7_15_a=0.0000,b=0.0000_2024-12-24_18-37-42',\n",
       "    filesystem='local',\n",
       "    checkpoint=None\n",
       "  ),\n",
       "  Result(\n",
       "    metrics={'a': 0.0, 'b': 0.0},\n",
       "    path='/Users/sidharrthnagappan/ray_results/evaluate_2024-12-24_18-37-24/evaluate_7ea537f7_16_a=0.0000,b=0.0000_2024-12-24_18-37-43',\n",
       "    filesystem='local',\n",
       "    checkpoint=None\n",
       "  ),\n",
       "  Result(\n",
       "    metrics={'a': 0.0, 'b': 0.0},\n",
       "    path='/Users/sidharrthnagappan/ray_results/evaluate_2024-12-24_18-37-24/evaluate_87585daf_17_a=0.0000,b=0.0000_2024-12-24_18-37-44',\n",
       "    filesystem='local',\n",
       "    checkpoint=None\n",
       "  ),\n",
       "  Result(\n",
       "    metrics={'a': 0.0, 'b': 0.0},\n",
       "    path='/Users/sidharrthnagappan/ray_results/evaluate_2024-12-24_18-37-24/evaluate_73a1bb0b_18_a=0.0000,b=0.0000_2024-12-24_18-37-46',\n",
       "    filesystem='local',\n",
       "    checkpoint=None\n",
       "  ),\n",
       "  Result(\n",
       "    metrics={'a': 0.061710109829652256, 'b': 0.0},\n",
       "    path='/Users/sidharrthnagappan/ray_results/evaluate_2024-12-24_18-37-24/evaluate_3410d4bd_19_a=0.0617,b=0.0000_2024-12-24_18-37-47',\n",
       "    filesystem='local',\n",
       "    checkpoint=None\n",
       "  ),\n",
       "  Result(\n",
       "    metrics={},\n",
       "    path='/Users/sidharrthnagappan/ray_results/evaluate_2024-12-24_18-37-24/evaluate_d33e9b82_20_a=0.0000,b=0.0000_2024-12-24_18-37-49',\n",
       "    filesystem='local',\n",
       "    checkpoint=None\n",
       "  )\n",
       "]>"
      ]
     },
     "execution_count": 1,
     "metadata": {},
     "output_type": "execute_result"
    }
   ],
   "source": [
    "from ax.service.ax_client import AxClient\n",
    "from ax.service.utils.instantiation import ObjectiveProperties\n",
    "from ray import tune, air\n",
    "from ray.air import session\n",
    "from ray.tune.search import ConcurrencyLimiter\n",
    "from ray.train import RunConfig, ScalingConfig, CheckpointConfig\n",
    "\n",
    "# from ray.tune.search.ax import AxSearch\n",
    "from axsearch_multiobjective import AxSearchMultiObjective\n",
    "\n",
    "\n",
    "def evaluate(parameter: dict, checkpoint_dir=None):\n",
    "    session.report(\n",
    "        {\n",
    "            \"a\": parameter[\"a\"],\n",
    "            \"b\": parameter[\"b\"],\n",
    "        }\n",
    "    )\n",
    "\n",
    "\n",
    "ax_client = AxClient(\n",
    "    verbose_logging=False,\n",
    "    enforce_sequential_optimization=False,\n",
    ")\n",
    "ax_client.create_experiment(\n",
    "    name=\"test\",\n",
    "    parameters=[\n",
    "        {\n",
    "            \"name\": \"a\",\n",
    "            \"type\": \"range\",\n",
    "            \"value_type\": \"float\",\n",
    "            \"bounds\": [0, 1.0],\n",
    "        },\n",
    "        {\n",
    "            \"name\": \"b\",\n",
    "            \"type\": \"range\",\n",
    "            \"value_type\": \"float\",\n",
    "            \"bounds\": [0, 1.0],\n",
    "        },\n",
    "    ],\n",
    "    objectives={\n",
    "        \"a\": ObjectiveProperties(minimize=True, threshold=0.5),\n",
    "        \"b\": ObjectiveProperties(minimize=True, threshold=0.5),\n",
    "    },\n",
    "    overwrite_existing_experiment=True,\n",
    "    is_test=False,\n",
    ")\n",
    "\n",
    "algo = AxSearchMultiObjective(ax_client=ax_client)\n",
    "algo = ConcurrencyLimiter(algo, max_concurrent=4)\n",
    "tuner = tune.Tuner(\n",
    "    tune.with_resources(evaluate, resources={\"cpu\": 1}),\n",
    "    tune_config=tune.TuneConfig(search_alg=algo, num_samples=60),\n",
    "    run_config=RunConfig(\n",
    "        checkpoint_config=CheckpointConfig(\n",
    "            num_to_keep=2,\n",
    "            checkpoint_score_attribute=\"ptl/val_accuracy\",\n",
    "            checkpoint_score_order=\"max\",\n",
    "        )\n",
    "    ),\n",
    ")\n",
    "tuner.fit()"
   ]
  },
  {
   "cell_type": "code",
   "execution_count": null,
   "metadata": {},
   "outputs": [],
   "source": []
  }
 ],
 "metadata": {
  "kernelspec": {
   "display_name": "lsdp_miniproject",
   "language": "python",
   "name": "python3"
  },
  "language_info": {
   "codemirror_mode": {
    "name": "ipython",
    "version": 3
   },
   "file_extension": ".py",
   "mimetype": "text/x-python",
   "name": "python",
   "nbconvert_exporter": "python",
   "pygments_lexer": "ipython3",
   "version": "3.11.0"
  }
 },
 "nbformat": 4,
 "nbformat_minor": 2
}
