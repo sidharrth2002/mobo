{
 "cells": [
  {
   "cell_type": "markdown",
   "metadata": {},
   "source": [
    "# Optuna in RayTune\n",
    "\n",
    "This notebook first explores Optuna's integration into RayTune,\n",
    "following the tutorial here:\n",
    "\n",
    "https://docs.ray.io/en/latest/tune/examples/optuna_example.html"
   ]
  },
  {
   "cell_type": "code",
   "execution_count": 1,
   "metadata": {},
   "outputs": [],
   "source": [
    "import time\n",
    "from typing import Dict, Optional, Any\n",
    "\n",
    "import ray\n",
    "from ray import train, tune\n",
    "from ray.tune.search import ConcurrencyLimiter\n",
    "from ray.tune.search.optuna import OptunaSearch"
   ]
  },
  {
   "cell_type": "code",
   "execution_count": 2,
   "metadata": {},
   "outputs": [],
   "source": [
    "def evaluate(step, width, height, activation):\n",
    "    time.sleep(0.1)\n",
    "    activation_boost = 10 if activation == \"relu\" else 0\n",
    "    return (0.1 + width * step / 100) ** (-1) + height * 0.1 + activation_boost"
   ]
  },
  {
   "cell_type": "code",
   "execution_count": 3,
   "metadata": {},
   "outputs": [],
   "source": [
    "def objective(config):\n",
    "    \"\"\"\n",
    "    Evaluates score of experiment in training loop\n",
    "    Uses train.report to report score back to Tune\n",
    "    \"\"\"\n",
    "    for step in range(config[\"steps\"]):\n",
    "        score = evaluate(step, config[\"width\"], config[\"height\"], config[\"activation\"])\n",
    "        train.report({\n",
    "            \"iterations\": step,\n",
    "            \"mean_loss\": score\n",
    "        })"
   ]
  },
  {
   "cell_type": "markdown",
   "metadata": {},
   "source": [
    "## Define the Search Space"
   ]
  },
  {
   "cell_type": "code",
   "execution_count": 12,
   "metadata": {},
   "outputs": [],
   "source": [
    "search_space = {\n",
    "    \"steps\": 100,\n",
    "    \"width\": tune.uniform(0, 20),\n",
    "    \"height\": tune.uniform(-100, 100),\n",
    "    \"activation\": tune.choice([\"relu\", \"tanh\"])\n",
    "}"
   ]
  },
  {
   "cell_type": "code",
   "execution_count": 13,
   "metadata": {},
   "outputs": [],
   "source": [
    "algo = OptunaSearch()"
   ]
  },
  {
   "cell_type": "code",
   "execution_count": 14,
   "metadata": {},
   "outputs": [],
   "source": [
    "# constrain number of concurrent trials to 4\n",
    "algo = ConcurrencyLimiter(algo, max_concurrent=4)"
   ]
  },
  {
   "cell_type": "code",
   "execution_count": 15,
   "metadata": {},
   "outputs": [],
   "source": [
    "num_samples = 5"
   ]
  },
  {
   "cell_type": "markdown",
   "metadata": {},
   "source": [
    "### Optimisation\n",
    "\n",
    "Run experiment to minimize mean loss of objective by searching search space via `algo`, `num_samples` times."
   ]
  },
  {
   "cell_type": "code",
   "execution_count": 16,
   "metadata": {},
   "outputs": [
    {
     "data": {
      "text/html": [
       "<div class=\"tuneStatus\">\n",
       "  <div style=\"display: flex;flex-direction: row\">\n",
       "    <div style=\"display: flex;flex-direction: column;\">\n",
       "      <h3>Tune Status</h3>\n",
       "      <table>\n",
       "<tbody>\n",
       "<tr><td>Current time:</td><td>2024-12-03 17:56:44</td></tr>\n",
       "<tr><td>Running for: </td><td>00:00:23.17        </td></tr>\n",
       "<tr><td>Memory:      </td><td>21.8/32.0 GiB      </td></tr>\n",
       "</tbody>\n",
       "</table>\n",
       "    </div>\n",
       "    <div class=\"vDivider\"></div>\n",
       "    <div class=\"systemInfo\">\n",
       "      <h3>System Info</h3>\n",
       "      Using FIFO scheduling algorithm.<br>Logical resource usage: 1.0/10 CPUs, 0/0 GPUs\n",
       "    </div>\n",
       "    \n",
       "  </div>\n",
       "  <div class=\"hDivider\"></div>\n",
       "  <div class=\"trialStatus\">\n",
       "    <h3>Trial Status</h3>\n",
       "    <table>\n",
       "<thead>\n",
       "<tr><th>Trial name        </th><th>status    </th><th>loc            </th><th>activation  </th><th style=\"text-align: right;\">  height</th><th style=\"text-align: right;\">    width</th><th style=\"text-align: right;\">    loss</th><th style=\"text-align: right;\">  iter</th><th style=\"text-align: right;\">  total time (s)</th><th style=\"text-align: right;\">  iterations</th></tr>\n",
       "</thead>\n",
       "<tbody>\n",
       "<tr><td>objective_1fc95eaa</td><td>TERMINATED</td><td>127.0.0.1:21245</td><td>relu        </td><td style=\"text-align: right;\">64.3021 </td><td style=\"text-align: right;\"> 9.12474 </td><td style=\"text-align: right;\">16.5397 </td><td style=\"text-align: right;\">   100</td><td style=\"text-align: right;\">         10.3679</td><td style=\"text-align: right;\">          99</td></tr>\n",
       "<tr><td>objective_2847d803</td><td>TERMINATED</td><td>127.0.0.1:21246</td><td>relu        </td><td style=\"text-align: right;\"> 4.55237</td><td style=\"text-align: right;\">19.0991  </td><td style=\"text-align: right;\">10.5078 </td><td style=\"text-align: right;\">   100</td><td style=\"text-align: right;\">         10.3816</td><td style=\"text-align: right;\">          99</td></tr>\n",
       "<tr><td>objective_19b2e2e3</td><td>TERMINATED</td><td>127.0.0.1:21296</td><td>relu        </td><td style=\"text-align: right;\">54.6269 </td><td style=\"text-align: right;\"> 0.292997</td><td style=\"text-align: right;\">18.0263 </td><td style=\"text-align: right;\">   100</td><td style=\"text-align: right;\">         10.3578</td><td style=\"text-align: right;\">          99</td></tr>\n",
       "<tr><td>objective_b7f7f151</td><td>TERMINATED</td><td>127.0.0.1:21298</td><td>relu        </td><td style=\"text-align: right;\">16.3093 </td><td style=\"text-align: right;\">19.7903  </td><td style=\"text-align: right;\">11.6817 </td><td style=\"text-align: right;\">   100</td><td style=\"text-align: right;\">         10.3399</td><td style=\"text-align: right;\">          99</td></tr>\n",
       "<tr><td>objective_06e3400c</td><td>TERMINATED</td><td>127.0.0.1:21569</td><td>tanh        </td><td style=\"text-align: right;\">39.1494 </td><td style=\"text-align: right;\"> 6.34656 </td><td style=\"text-align: right;\"> 4.07161</td><td style=\"text-align: right;\">   100</td><td style=\"text-align: right;\">         10.3709</td><td style=\"text-align: right;\">          99</td></tr>\n",
       "</tbody>\n",
       "</table>\n",
       "  </div>\n",
       "</div>\n",
       "<style>\n",
       ".tuneStatus {\n",
       "  color: var(--jp-ui-font-color1);\n",
       "}\n",
       ".tuneStatus .systemInfo {\n",
       "  display: flex;\n",
       "  flex-direction: column;\n",
       "}\n",
       ".tuneStatus td {\n",
       "  white-space: nowrap;\n",
       "}\n",
       ".tuneStatus .trialStatus {\n",
       "  display: flex;\n",
       "  flex-direction: column;\n",
       "}\n",
       ".tuneStatus h3 {\n",
       "  font-weight: bold;\n",
       "}\n",
       ".tuneStatus .hDivider {\n",
       "  border-bottom-width: var(--jp-border-width);\n",
       "  border-bottom-color: var(--jp-border-color0);\n",
       "  border-bottom-style: solid;\n",
       "}\n",
       ".tuneStatus .vDivider {\n",
       "  border-left-width: var(--jp-border-width);\n",
       "  border-left-color: var(--jp-border-color0);\n",
       "  border-left-style: solid;\n",
       "  margin: 0.5em 1em 0.5em 1em;\n",
       "}\n",
       "</style>\n"
      ],
      "text/plain": [
       "<IPython.core.display.HTML object>"
      ]
     },
     "metadata": {},
     "output_type": "display_data"
    },
    {
     "name": "stderr",
     "output_type": "stream",
     "text": [
      "2024-12-03 17:56:44,166\tINFO tune.py:1009 -- Wrote the latest version of all result files and experiment state to '/Users/sidharrthnagappan/ray_results/objective_2024-12-03_17-56-20' in 0.0100s.\n",
      "2024-12-03 17:56:44,172\tINFO tune.py:1041 -- Total run time: 23.18 seconds (23.15 seconds for the tuning loop).\n"
     ]
    }
   ],
   "source": [
    "tuner = tune.Tuner(\n",
    "    objective,\n",
    "    tune_config=tune.TuneConfig(\n",
    "        metric=\"mean_loss\",\n",
    "        mode=\"min\",\n",
    "        search_alg=algo,\n",
    "        num_samples=num_samples,\n",
    "    ),\n",
    "    param_space=search_space,\n",
    ")\n",
    "\n",
    "results = tuner.fit()"
   ]
  },
  {
   "cell_type": "code",
   "execution_count": 20,
   "metadata": {},
   "outputs": [
    {
     "name": "stdout",
     "output_type": "stream",
     "text": [
      "Best hyperparameters found were:  {'steps': 100, 'width': 6.346555967276859, 'height': 39.14944808941103, 'activation': 'tanh'}\n"
     ]
    }
   ],
   "source": [
    "print(\"Best hyperparameters found were: \", results.get_best_result().config)"
   ]
  },
  {
   "cell_type": "markdown",
   "metadata": {},
   "source": [
    "### Initial Hyperparameters\n",
    "\n",
    "You can also provide an initial set of hyperparameters that are promising. \n",
    "\n",
    "```python\n",
    "initial_params = [\n",
    "    {\"width\": 1, \"height\": 2, \"activation\": \"relu\"},\n",
    "    {\"width\": 4, \"height\": 2, \"activation\": \"relu\"},\n",
    "]\n",
    "\n",
    "searcher = OptunaSearch(points_to_evaluate=initial_params)\n",
    "```\n",
    "\n"
   ]
  },
  {
   "cell_type": "markdown",
   "metadata": {},
   "source": [
    "### Multi-Objective Optimisation"
   ]
  },
  {
   "cell_type": "code",
   "execution_count": null,
   "metadata": {},
   "outputs": [],
   "source": [
    "def multi_objective(config):\n",
    "    width, height = config[\"width\"], config[\"height\"]\n",
    "    \n",
    "    for step in range(config[\"steps\"]):\n",
    "        intermediate_score = evaluate(step, config[\"width\"], config[\"height\"], config[\"activation\"])\n",
    "        \n",
    "        train.report({\n",
    "            \"iterations\": step,\n",
    "            \"loss\": intermediate_score,\n",
    "            \"gain\": intermediate_score * xwidth\n",
    "        })"
   ]
  },
  {
   "cell_type": "code",
   "execution_count": 24,
   "metadata": {},
   "outputs": [
    {
     "data": {
      "text/html": [
       "<div class=\"tuneStatus\">\n",
       "  <div style=\"display: flex;flex-direction: row\">\n",
       "    <div style=\"display: flex;flex-direction: column;\">\n",
       "      <h3>Tune Status</h3>\n",
       "      <table>\n",
       "<tbody>\n",
       "<tr><td>Current time:</td><td>2024-12-03 18:01:23</td></tr>\n",
       "<tr><td>Running for: </td><td>00:00:23.48        </td></tr>\n",
       "<tr><td>Memory:      </td><td>21.9/32.0 GiB      </td></tr>\n",
       "</tbody>\n",
       "</table>\n",
       "    </div>\n",
       "    <div class=\"vDivider\"></div>\n",
       "    <div class=\"systemInfo\">\n",
       "      <h3>System Info</h3>\n",
       "      Using FIFO scheduling algorithm.<br>Logical resource usage: 1.0/10 CPUs, 0/0 GPUs\n",
       "    </div>\n",
       "    \n",
       "  </div>\n",
       "  <div class=\"hDivider\"></div>\n",
       "  <div class=\"trialStatus\">\n",
       "    <h3>Trial Status</h3>\n",
       "    <table>\n",
       "<thead>\n",
       "<tr><th>Trial name              </th><th>status    </th><th>loc            </th><th>activation  </th><th style=\"text-align: right;\">  height</th><th style=\"text-align: right;\">   width</th><th style=\"text-align: right;\">  iter</th><th style=\"text-align: right;\">  total time (s)</th><th style=\"text-align: right;\">  iterations</th><th style=\"text-align: right;\">    loss</th><th style=\"text-align: right;\">      gain</th></tr>\n",
       "</thead>\n",
       "<tbody>\n",
       "<tr><td>multi_objective_551c7b53</td><td>TERMINATED</td><td>127.0.0.1:28365</td><td>tanh        </td><td style=\"text-align: right;\">-33.7575</td><td style=\"text-align: right;\">11.0245 </td><td style=\"text-align: right;\">   100</td><td style=\"text-align: right;\">         10.3762</td><td style=\"text-align: right;\">          99</td><td style=\"text-align: right;\">-3.28496</td><td style=\"text-align: right;\"> -36.2149 </td></tr>\n",
       "<tr><td>multi_objective_ae345c96</td><td>TERMINATED</td><td>127.0.0.1:28413</td><td>tanh        </td><td style=\"text-align: right;\">-73.1213</td><td style=\"text-align: right;\">19.1473 </td><td style=\"text-align: right;\">   100</td><td style=\"text-align: right;\">         10.3819</td><td style=\"text-align: right;\">          99</td><td style=\"text-align: right;\">-7.25965</td><td style=\"text-align: right;\">-139.003  </td></tr>\n",
       "<tr><td>multi_objective_910193e7</td><td>TERMINATED</td><td>127.0.0.1:28424</td><td>relu        </td><td style=\"text-align: right;\"> 61.664 </td><td style=\"text-align: right;\"> 2.57558</td><td style=\"text-align: right;\">   100</td><td style=\"text-align: right;\">         10.3723</td><td style=\"text-align: right;\">          99</td><td style=\"text-align: right;\">16.5438 </td><td style=\"text-align: right;\">  42.6098 </td></tr>\n",
       "<tr><td>multi_objective_70927db8</td><td>TERMINATED</td><td>127.0.0.1:28426</td><td>relu        </td><td style=\"text-align: right;\">-26.5989</td><td style=\"text-align: right;\"> 0.58164</td><td style=\"text-align: right;\">   100</td><td style=\"text-align: right;\">         10.3679</td><td style=\"text-align: right;\">          99</td><td style=\"text-align: right;\"> 8.81979</td><td style=\"text-align: right;\">   5.12994</td></tr>\n",
       "<tr><td>multi_objective_428ed5e0</td><td>TERMINATED</td><td>127.0.0.1:28689</td><td>tanh        </td><td style=\"text-align: right;\"> 56.2225</td><td style=\"text-align: right;\"> 3.15984</td><td style=\"text-align: right;\">   100</td><td style=\"text-align: right;\">         10.3503</td><td style=\"text-align: right;\">          99</td><td style=\"text-align: right;\"> 5.93202</td><td style=\"text-align: right;\">  18.7442 </td></tr>\n",
       "</tbody>\n",
       "</table>\n",
       "  </div>\n",
       "</div>\n",
       "<style>\n",
       ".tuneStatus {\n",
       "  color: var(--jp-ui-font-color1);\n",
       "}\n",
       ".tuneStatus .systemInfo {\n",
       "  display: flex;\n",
       "  flex-direction: column;\n",
       "}\n",
       ".tuneStatus td {\n",
       "  white-space: nowrap;\n",
       "}\n",
       ".tuneStatus .trialStatus {\n",
       "  display: flex;\n",
       "  flex-direction: column;\n",
       "}\n",
       ".tuneStatus h3 {\n",
       "  font-weight: bold;\n",
       "}\n",
       ".tuneStatus .hDivider {\n",
       "  border-bottom-width: var(--jp-border-width);\n",
       "  border-bottom-color: var(--jp-border-color0);\n",
       "  border-bottom-style: solid;\n",
       "}\n",
       ".tuneStatus .vDivider {\n",
       "  border-left-width: var(--jp-border-width);\n",
       "  border-left-color: var(--jp-border-color0);\n",
       "  border-left-style: solid;\n",
       "  margin: 0.5em 1em 0.5em 1em;\n",
       "}\n",
       "</style>\n"
      ],
      "text/plain": [
       "<IPython.core.display.HTML object>"
      ]
     },
     "metadata": {},
     "output_type": "display_data"
    },
    {
     "name": "stderr",
     "output_type": "stream",
     "text": [
      "2024-12-03 18:01:23,791\tINFO tune.py:1009 -- Wrote the latest version of all result files and experiment state to '/Users/sidharrthnagappan/ray_results/multi_objective_2024-12-03_18-01-00' in 0.0104s.\n",
      "2024-12-03 18:01:23,798\tINFO tune.py:1041 -- Total run time: 23.50 seconds (23.47 seconds for the tuning loop).\n"
     ]
    }
   ],
   "source": [
    "searcher = OptunaSearch(metric=[\"loss\", \"gain\"], mode=[\"min\", \"max\"])\n",
    "algo = ConcurrencyLimiter(searcher, max_concurrent=4)\n",
    "\n",
    "tuner = tune.Tuner(\n",
    "    multi_objective,\n",
    "    tune_config=tune.TuneConfig(\n",
    "        search_alg=algo,\n",
    "        num_samples=num_samples,\n",
    "    ),\n",
    "    param_space=search_space,\n",
    ")\n",
    "\n",
    "results = tuner.fit()"
   ]
  },
  {
   "cell_type": "code",
   "execution_count": 25,
   "metadata": {},
   "outputs": [
    {
     "name": "stdout",
     "output_type": "stream",
     "text": [
      "Best hyperparameters for loss found were:  {'steps': 100, 'width': 19.14733956576996, 'height': -73.12127441630184, 'activation': 'tanh'}\n",
      "Best hyperparameters for gain found were:  {'steps': 100, 'width': 2.575578383941741, 'height': 61.66395148812127, 'activation': 'relu'}\n"
     ]
    }
   ],
   "source": [
    "print(\"Best hyperparameters for loss found were: \", results.get_best_result(\"loss\", \"min\").config)\n",
    "print(\"Best hyperparameters for gain found were: \", results.get_best_result(\"gain\", \"max\").config)"
   ]
  }
 ],
 "metadata": {
  "kernelspec": {
   "display_name": "lsdp_miniproject",
   "language": "python",
   "name": "python3"
  },
  "language_info": {
   "codemirror_mode": {
    "name": "ipython",
    "version": 3
   },
   "file_extension": ".py",
   "mimetype": "text/x-python",
   "name": "python",
   "nbconvert_exporter": "python",
   "pygments_lexer": "ipython3",
   "version": "3.11.0"
  }
 },
 "nbformat": 4,
 "nbformat_minor": 2
}
