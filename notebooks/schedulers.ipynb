{
 "cells": [
  {
   "cell_type": "markdown",
   "metadata": {},
   "source": [
    "# Schedulers\n",
    "\n",
    "Some hyperparameter optimisation algorithms are written as scheduling algorithms.\n",
    "\n",
    "They terminate, pause, clone and alter hyperparameters of running trial."
   ]
  },
  {
   "cell_type": "code",
   "execution_count": null,
   "metadata": {},
   "outputs": [],
   "source": [
    "import time\n",
    "from ray import train, tune\n",
    "from ray.tune.schedulers import ASHAScheduler\n",
    "\n",
    "def evaluate(step, width, height, activation):\n",
    "    time.sleep(0.1)\n",
    "    activation_boost = 10 if activation == \"relu\" else 0\n",
    "    return (0.1 + width * step / 100) ** (-1) + height * 0.1 + activation_boost\n",
    "\n",
    "def objective(config):\n",
    "    \"\"\"\n",
    "    Evaluates score of experiment in training loop\n",
    "    Uses train.report to report score back to Tune\n",
    "    \"\"\"\n",
    "    for step in range(config[\"steps\"]):\n",
    "        score = evaluate(step, config[\"width\"], config[\"height\"], config[\"activation\"])\n",
    "        train.report({\n",
    "            \"iterations\": step,\n",
    "            \"mean_loss\": score\n",
    "        })"
   ]
  },
  {
   "cell_type": "markdown",
   "metadata": {},
   "source": [
    "### ASHA Scheduler\n",
    "\n",
    "Parallel hyperparameter tuning, exploit parallelism and aggressive early-stopping.  "
   ]
  },
  {
   "cell_type": "code",
   "execution_count": 13,
   "metadata": {},
   "outputs": [],
   "source": [
    "from ray.tune.schedulers import ASHAScheduler\n",
    "\n",
    "asha_scheduler = ASHAScheduler(\n",
    "    time_attr=\"training_iteration\",\n",
    "    metric=\"mean_loss\",\n",
    "    mode=\"min\",\n",
    "    max_t=100,\n",
    "    grace_period=10,\n",
    "    reduction_factor=3,\n",
    "    brackets=1,\n",
    ")\n",
    "\n",
    "tuner = tune.Tuner(\n",
    "    objective,\n",
    "    tune_config=tune.TuneConfig(scheduler=asha_scheduler, num_samples=10),\n",
    "    param_space={\n",
    "        \"steps\": 100,\n",
    "        \"width\": tune.uniform(0, 20),\n",
    "        \"height\": tune.uniform(-100, 100),\n",
    "        \"activation\": tune.choice([\"relu\", \"tanh\"]),\n",
    "    },\n",
    ")"
   ]
  },
  {
   "cell_type": "code",
   "execution_count": 14,
   "metadata": {},
   "outputs": [
    {
     "data": {
      "text/html": [
       "<div class=\"tuneStatus\">\n",
       "  <div style=\"display: flex;flex-direction: row\">\n",
       "    <div style=\"display: flex;flex-direction: column;\">\n",
       "      <h3>Tune Status</h3>\n",
       "      <table>\n",
       "<tbody>\n",
       "<tr><td>Current time:</td><td>2024-12-03 18:16:32</td></tr>\n",
       "<tr><td>Running for: </td><td>00:00:13.15        </td></tr>\n",
       "<tr><td>Memory:      </td><td>21.9/32.0 GiB      </td></tr>\n",
       "</tbody>\n",
       "</table>\n",
       "    </div>\n",
       "    <div class=\"vDivider\"></div>\n",
       "    <div class=\"systemInfo\">\n",
       "      <h3>System Info</h3>\n",
       "      Using AsyncHyperBand: num_stopped=10<br>Bracket: Iter 90.000: 5.472144804581702 | Iter 30.000: 4.786838839140559 | Iter 10.000: -0.11555080886461053<br>Logical resource usage: 1.0/10 CPUs, 0/0 GPUs\n",
       "    </div>\n",
       "    \n",
       "  </div>\n",
       "  <div class=\"hDivider\"></div>\n",
       "  <div class=\"trialStatus\">\n",
       "    <h3>Trial Status</h3>\n",
       "    <table>\n",
       "<thead>\n",
       "<tr><th>Trial name           </th><th>status    </th><th>loc            </th><th>activation  </th><th style=\"text-align: right;\">   height</th><th style=\"text-align: right;\">   width</th><th style=\"text-align: right;\">     loss</th><th style=\"text-align: right;\">  iter</th><th style=\"text-align: right;\">  total time (s)</th><th style=\"text-align: right;\">  iterations</th></tr>\n",
       "</thead>\n",
       "<tbody>\n",
       "<tr><td>objective_b1866_00000</td><td>TERMINATED</td><td>127.0.0.1:52320</td><td>tanh        </td><td style=\"text-align: right;\">-42.9982 </td><td style=\"text-align: right;\"> 8.76867</td><td style=\"text-align: right;\">-3.92145 </td><td style=\"text-align: right;\">    30</td><td style=\"text-align: right;\">         3.09974</td><td style=\"text-align: right;\">          29</td></tr>\n",
       "<tr><td>objective_b1866_00001</td><td>TERMINATED</td><td>127.0.0.1:52315</td><td>tanh        </td><td style=\"text-align: right;\"> 92.5827 </td><td style=\"text-align: right;\"> 8.10531</td><td style=\"text-align: right;\">10.4638  </td><td style=\"text-align: right;\">    10</td><td style=\"text-align: right;\">         1.03959</td><td style=\"text-align: right;\">           9</td></tr>\n",
       "<tr><td>objective_b1866_00002</td><td>TERMINATED</td><td>127.0.0.1:52318</td><td>tanh        </td><td style=\"text-align: right;\"> -4.76124</td><td style=\"text-align: right;\">17.668  </td><td style=\"text-align: right;\"> 0.115551</td><td style=\"text-align: right;\">    10</td><td style=\"text-align: right;\">         1.03326</td><td style=\"text-align: right;\">           9</td></tr>\n",
       "<tr><td>objective_b1866_00003</td><td>TERMINATED</td><td>127.0.0.1:52321</td><td>relu        </td><td style=\"text-align: right;\"> 29.5986 </td><td style=\"text-align: right;\">18.6846 </td><td style=\"text-align: right;\">13.5211  </td><td style=\"text-align: right;\">    10</td><td style=\"text-align: right;\">         1.03009</td><td style=\"text-align: right;\">           9</td></tr>\n",
       "<tr><td>objective_b1866_00004</td><td>TERMINATED</td><td>127.0.0.1:52316</td><td>tanh        </td><td style=\"text-align: right;\"> 15.7918 </td><td style=\"text-align: right;\">12.7471 </td><td style=\"text-align: right;\"> 2.38095 </td><td style=\"text-align: right;\">    10</td><td style=\"text-align: right;\">         1.04119</td><td style=\"text-align: right;\">           9</td></tr>\n",
       "<tr><td>objective_b1866_00005</td><td>TERMINATED</td><td>127.0.0.1:52322</td><td>tanh        </td><td style=\"text-align: right;\">-55.9906 </td><td style=\"text-align: right;\"> 8.7409 </td><td style=\"text-align: right;\">-5.48482 </td><td style=\"text-align: right;\">   100</td><td style=\"text-align: right;\">        10.3599 </td><td style=\"text-align: right;\">          99</td></tr>\n",
       "<tr><td>objective_b1866_00006</td><td>TERMINATED</td><td>127.0.0.1:52319</td><td>relu        </td><td style=\"text-align: right;\">-35.6672 </td><td style=\"text-align: right;\">10.388  </td><td style=\"text-align: right;\"> 7.39954 </td><td style=\"text-align: right;\">    10</td><td style=\"text-align: right;\">         1.03698</td><td style=\"text-align: right;\">           9</td></tr>\n",
       "<tr><td>objective_b1866_00007</td><td>TERMINATED</td><td>127.0.0.1:52317</td><td>tanh        </td><td style=\"text-align: right;\"> -4.0522 </td><td style=\"text-align: right;\"> 5.99672</td><td style=\"text-align: right;\"> 1.158   </td><td style=\"text-align: right;\">    10</td><td style=\"text-align: right;\">         1.02897</td><td style=\"text-align: right;\">           9</td></tr>\n",
       "<tr><td>objective_b1866_00008</td><td>TERMINATED</td><td>127.0.0.1:52323</td><td>tanh        </td><td style=\"text-align: right;\">-38.9648 </td><td style=\"text-align: right;\"> 2.33379</td><td style=\"text-align: right;\">-0.671101</td><td style=\"text-align: right;\">    10</td><td style=\"text-align: right;\">         1.03697</td><td style=\"text-align: right;\">           9</td></tr>\n",
       "<tr><td>objective_b1866_00009</td><td>TERMINATED</td><td>127.0.0.1:52373</td><td>relu        </td><td style=\"text-align: right;\"> -7.35949</td><td style=\"text-align: right;\">16.0635 </td><td style=\"text-align: right;\"> 9.911   </td><td style=\"text-align: right;\">    10</td><td style=\"text-align: right;\">         1.03362</td><td style=\"text-align: right;\">           9</td></tr>\n",
       "</tbody>\n",
       "</table>\n",
       "  </div>\n",
       "</div>\n",
       "<style>\n",
       ".tuneStatus {\n",
       "  color: var(--jp-ui-font-color1);\n",
       "}\n",
       ".tuneStatus .systemInfo {\n",
       "  display: flex;\n",
       "  flex-direction: column;\n",
       "}\n",
       ".tuneStatus td {\n",
       "  white-space: nowrap;\n",
       "}\n",
       ".tuneStatus .trialStatus {\n",
       "  display: flex;\n",
       "  flex-direction: column;\n",
       "}\n",
       ".tuneStatus h3 {\n",
       "  font-weight: bold;\n",
       "}\n",
       ".tuneStatus .hDivider {\n",
       "  border-bottom-width: var(--jp-border-width);\n",
       "  border-bottom-color: var(--jp-border-color0);\n",
       "  border-bottom-style: solid;\n",
       "}\n",
       ".tuneStatus .vDivider {\n",
       "  border-left-width: var(--jp-border-width);\n",
       "  border-left-color: var(--jp-border-color0);\n",
       "  border-left-style: solid;\n",
       "  margin: 0.5em 1em 0.5em 1em;\n",
       "}\n",
       "</style>\n"
      ],
      "text/plain": [
       "<IPython.core.display.HTML object>"
      ]
     },
     "metadata": {},
     "output_type": "display_data"
    },
    {
     "name": "stderr",
     "output_type": "stream",
     "text": [
      "2024-12-03 18:16:32,449\tINFO tune.py:1009 -- Wrote the latest version of all result files and experiment state to '/Users/sidharrthnagappan/ray_results/objective_2024-12-03_18-16-18' in 0.0100s.\n",
      "2024-12-03 18:16:32,455\tINFO tune.py:1041 -- Total run time: 13.16 seconds (13.14 seconds for the tuning loop).\n"
     ]
    }
   ],
   "source": [
    "results = tuner.fit()"
   ]
  },
  {
   "cell_type": "code",
   "execution_count": 18,
   "metadata": {},
   "outputs": [
    {
     "data": {
      "text/plain": [
       "Result(\n",
       "  metrics={'iterations': 9, 'mean_loss': 13.521147076761155},\n",
       "  path='/Users/sidharrthnagappan/ray_results/objective_2024-12-03_18-16-18/objective_b1866_00003_3_activation=relu,height=29.5986,width=18.6846_2024-12-03_18-16-19',\n",
       "  filesystem='local',\n",
       "  checkpoint=None\n",
       ")"
      ]
     },
     "execution_count": 18,
     "metadata": {},
     "output_type": "execute_result"
    }
   ],
   "source": [
    "results.get_best_result(metric=\"mean_loss\", mode=\"max\")"
   ]
  }
 ],
 "metadata": {
  "kernelspec": {
   "display_name": "lsdp_miniproject",
   "language": "python",
   "name": "python3"
  },
  "language_info": {
   "codemirror_mode": {
    "name": "ipython",
    "version": 3
   },
   "file_extension": ".py",
   "mimetype": "text/x-python",
   "name": "python",
   "nbconvert_exporter": "python",
   "pygments_lexer": "ipython3",
   "version": "3.11.0"
  }
 },
 "nbformat": 4,
 "nbformat_minor": 2
}
