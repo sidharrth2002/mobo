{
 "cells": [
  {
   "cell_type": "code",
   "execution_count": 2,
   "metadata": {},
   "outputs": [],
   "source": [
    "import pandas as pd\n",
    "import os\n",
    "import json"
   ]
  },
  {
   "cell_type": "code",
   "execution_count": 6,
   "metadata": {},
   "outputs": [
    {
     "name": "stderr",
     "output_type": "stream",
     "text": [
      "/home/sn666/.conda/envs/lsdp/lib/python3.11/site-packages/ax/storage/json_store/decoder.py:303: AxParameterWarning: `sort_values` is not specified for `ChoiceParameter` \"layer_1_size\". Defaulting to `True` for parameters of `ParameterType` INT. To override this behavior (or avoid this warning), specify `sort_values` during `ChoiceParameter` construction.\n",
      "  return _class(\n",
      "/home/sn666/.conda/envs/lsdp/lib/python3.11/site-packages/ax/storage/json_store/decoder.py:303: AxParameterWarning: `sort_values` is not specified for `ChoiceParameter` \"layer_2_size\". Defaulting to `True` for parameters of `ParameterType` INT. To override this behavior (or avoid this warning), specify `sort_values` during `ChoiceParameter` construction.\n",
      "  return _class(\n",
      "/home/sn666/.conda/envs/lsdp/lib/python3.11/site-packages/ax/storage/json_store/decoder.py:303: AxParameterWarning: `sort_values` is not specified for `ChoiceParameter` \"layer_3_size\". Defaulting to `True` for parameters of `ParameterType` INT. To override this behavior (or avoid this warning), specify `sort_values` during `ChoiceParameter` construction.\n",
      "  return _class(\n",
      "/home/sn666/.conda/envs/lsdp/lib/python3.11/site-packages/ax/storage/json_store/decoder.py:303: AxParameterWarning: `sort_values` is not specified for `ChoiceParameter` \"batch_size\". Defaulting to `True` for parameters of `ParameterType` INT. To override this behavior (or avoid this warning), specify `sort_values` during `ChoiceParameter` construction.\n",
      "  return _class(\n",
      "[INFO 01-07 08:59:04] ax.service.ax_client: Starting optimization with verbose logging. To disable logging, set the `verbose_logging` argument to `False`. Note that float values in the logs are rounded to 6 decimal points.\n"
     ]
    },
    {
     "name": "stdout",
     "output_type": "stream",
     "text": [
      "3\n",
      "4972.79605827308\n"
     ]
    }
   ],
   "source": [
    "from ax.service.ax_client import AxClient\n",
    "\n",
    "folder = \"/home/sn666/large-scale-data-processing/miniproject/final_results_7jan/530df59e66514d88aa1cc5e6c32fe2bc\"\n",
    "\n",
    "# get the ax_client.json file\n",
    "ax_client = os.path.join(folder, \"ax_client.json\")\n",
    "\n",
    "# read the json file\n",
    "ax_client = AxClient.load_from_json_file(ax_client)\n",
    "\n",
    "# print number of pareto-optimal points\n",
    "print(len(ax_client.get_pareto_optimal_parameters()))\n",
    "\n",
    "# print hypervolume\n",
    "print(ax_client.get_hypervolume())"
   ]
  },
  {
   "cell_type": "code",
   "execution_count": 12,
   "metadata": {},
   "outputs": [],
   "source": [
    "results_path = \"/home/sn666/large-scale-data-processing/miniproject/final_results\"\n",
    "\n",
    "# remarks_i_want = [\"maxaccminparam\", \"micaccminloss\", \"minlossminparam\", \"maxaccminlossminparam\"]\n",
    "relevant_experiments = {}\n",
    "\n",
    "for result in os.listdir(results_path):\n",
    "    if os.path.isdir(os.path.join(results_path, result)) == False:\n",
    "        continue\n",
    "    # open the args.json file\n",
    "    with open(os.path.join(results_path, result, \"args.json\"), \"r\") as f:\n",
    "        args = json.load(f)\n",
    "    \n",
    "    relevant_experiments[args[\"remark\"]] = result"
   ]
  },
  {
   "cell_type": "code",
   "execution_count": 13,
   "metadata": {},
   "outputs": [
    {
     "name": "stdout",
     "output_type": "stream",
     "text": [
      "{'8e/moasha-nsga/maxt8gr3red4/maxaccminparam': '823b60cabeaa435aa43676cc44e90b48', '8e/moasha-nsga/maxt8gr3red4/maxaccminloss': '5da00b000e7249a7a316e66b4aa99da4', '8e/moasha-nsga/maxt8gr3red4/minlossminparam': 'c7d86a17515f47ccbf2798a73db27304', '8e/moasha-nsga/maxt8gr3red4/maxaccminlossminparam': 'd9ececa78f114668a617218525e3da25', '8e/fifo/maxaccminparam': '54fe6b2e30c74ca1be8d22332b064803', '8e/fifo/maxaccminloss': '3b3e32426e834c59811009492bd08a2c', '8e/fifo/minlossminparam': '273eece2f4454df488c10494ff06f6c9', '8e/fifo/maxaccminlossminparam': '438d2883810c44948c74bdfdbd6bc9ec', '8e/moasha-nsga/maxt8gr2red6/maxaccminparam': 'fa2efbf633934ad8bff65b917900287e', '8e/moasha-nsga/maxt8gr2red6/maxaccminloss': '19b27df2c7b44dea870d95c9515f1844', '8e/moasha-nsga/maxt8gr2red6/minlossminparam': '430aa53872914dc1a676170748539e11', '8e/moasha-nsga/maxt8gr2red6/maxaccminlossminparam': 'f21b077779414a9baa99c026fb40c576', '8e/moasha-epsnet/maxt8gr1red6/maxaccminparam': '3c1ca484ea324101b3c9724111798792', '8e/moasha-epsnet/maxt8gr1red6/maxaccminloss': '8bb1884531224b348ac1ec48d9d584cd', '8e/moasha-epsnet/maxt8gr1red6/minlossminparam': 'd19eca9193494078a02beafa10e877e2', '8e/moasha-epsnet/maxt8gr1red6/maxaccminlossminparam': 'ded7c677007a4250ac84fbf96d57f856', '8e/moasha-epsnet/maxt8gr2red6/maxaccminparam': '0494846591ed4f0ba02c1115aeba0746', '8e/moasha-epsnet/maxt8gr2red6/maxaccminloss': '1dec9f6b115f408f8538c45981971da0'}\n"
     ]
    }
   ],
   "source": [
    "# sort based on when the experiment was run (when folder was created)\n",
    "sorted_relevant_experiments = dict(sorted(relevant_experiments.items(), key=lambda item: os.path.getmtime(os.path.join(results_path, item[1]))))\n",
    "\n",
    "print(sorted_relevant_experiments)"
   ]
  },
  {
   "cell_type": "code",
   "execution_count": 14,
   "metadata": {},
   "outputs": [
    {
     "name": "stdout",
     "output_type": "stream",
     "text": [
      "['0494846591ed4f0ba02c1115aeba0746', '1dec9f6b115f408f8538c45981971da0']\n"
     ]
    }
   ],
   "source": [
    "# What I want to analyse?\n",
    "# 5th, 6th, 7th, 8th\n",
    "# 9th, 10th, 11th, 12th\n",
    "\n",
    "# ========\n",
    "# useless run\n",
    "# 0 1 2 3\n",
    "# ========\n",
    "\n",
    "# ========\n",
    "# FIFO run\n",
    "# 4 5 6 7\n",
    "# ========\n",
    "\n",
    "# ========\n",
    "# MO-ASHA run (grace period = 1)\n",
    "# 8 9 10 11\n",
    "# ========\n",
    "\n",
    "# ========\n",
    "# MO-ASHA EpsNet run\n",
    "# 12 13 14 15\n",
    "# ========\n",
    "\n",
    "# ========\n",
    "# MO-ASHA run (grace period = 2)\n",
    "# 16 17 18 19\n",
    "# ========\n",
    "\n",
    "sorted_relevant_experiments = list(sorted_relevant_experiments.values())\n",
    "sorted_relevant_experiments = sorted_relevant_experiments[16:20]\n",
    "\n",
    "print(sorted_relevant_experiments)"
   ]
  },
  {
   "cell_type": "code",
   "execution_count": 15,
   "metadata": {},
   "outputs": [
    {
     "name": "stdout",
     "output_type": "stream",
     "text": [
      "/home/sn666/large-scale-data-processing/miniproject/final_results/54fe6b2e30c74ca1be8d22332b064803/tuning_results_df.csv\n",
      "Args for experiment: {'num_samples': 25, 'max_num_epochs': 8, 'num_gpus': None, 'objective_1': 'ptl/val_accuracy', 'objective_1_type': 'max', 'objective_1_threshold': 0.9, 'objective_2': 'ptl/model_params', 'objective_2_type': 'min', 'objective_2_threshold': 100000.0, 'objective_3': None, 'objective_3_type': None, 'objective_3_threshold': None, 'max_concurrent': 10, 'use_scheduler': True, 'scheduler_strategy': 'eps_net', 'scheduler_max_t': 8, 'scheduler_grace_period': 2, 'scheduler_reduction_factor': 6, 'accelerator': 'gpu', 'use_scaling_config': True, 'data_path': '/home/sn666/large-scale-data-processing/miniproject/data', 'remark': '8e/moasha-epsnet/maxt8gr2red6/maxaccminparam', 'results_folder': 'final_results'}\n",
      "Experiment: 0494846591ed4f0ba02c1115aeba0746, Total time: 11.000833404064178\n",
      "Experiment: 0494846591ed4f0ba02c1115aeba0746, Best accuracy: 0.9648438096046448\n",
      "Experiment: 0494846591ed4f0ba02c1115aeba0746, Best loss: 0.1171559318900108\n"
     ]
    },
    {
     "name": "stderr",
     "output_type": "stream",
     "text": [
      "/home/sn666/.conda/envs/lsdp/lib/python3.11/site-packages/ax/storage/json_store/decoder.py:303: AxParameterWarning: `sort_values` is not specified for `ChoiceParameter` \"layer_1_size\". Defaulting to `True` for parameters of `ParameterType` INT. To override this behavior (or avoid this warning), specify `sort_values` during `ChoiceParameter` construction.\n",
      "  return _class(\n",
      "/home/sn666/.conda/envs/lsdp/lib/python3.11/site-packages/ax/storage/json_store/decoder.py:303: AxParameterWarning: `sort_values` is not specified for `ChoiceParameter` \"layer_2_size\". Defaulting to `True` for parameters of `ParameterType` INT. To override this behavior (or avoid this warning), specify `sort_values` during `ChoiceParameter` construction.\n",
      "  return _class(\n",
      "/home/sn666/.conda/envs/lsdp/lib/python3.11/site-packages/ax/storage/json_store/decoder.py:303: AxParameterWarning: `sort_values` is not specified for `ChoiceParameter` \"layer_3_size\". Defaulting to `True` for parameters of `ParameterType` INT. To override this behavior (or avoid this warning), specify `sort_values` during `ChoiceParameter` construction.\n",
      "  return _class(\n",
      "/home/sn666/.conda/envs/lsdp/lib/python3.11/site-packages/ax/storage/json_store/decoder.py:303: AxParameterWarning: `sort_values` is not specified for `ChoiceParameter` \"batch_size\". Defaulting to `True` for parameters of `ParameterType` INT. To override this behavior (or avoid this warning), specify `sort_values` during `ChoiceParameter` construction.\n",
      "  return _class(\n"
     ]
    },
    {
     "name": "stdout",
     "output_type": "stream",
     "text": [
      "4 points: OrderedDict([(1, ({'layer_1_size': 32, 'layer_2_size': 32, 'layer_3_size': 128, 'dropout': 0.13657920844852925, 'batch_size': 128, 'learning_rate': 0.005010103814397345}, ({'ptl/model_params': np.float64(31690.27574056268), 'ptl/val_accuracy': np.float64(0.9536733467608635)}, {'ptl/model_params': {'ptl/model_params': 1274.6268473757307, 'ptl/val_accuracy': 0.0}, 'ptl/val_accuracy': {'ptl/model_params': 0.0, 'ptl/val_accuracy': 6.789935281211314e-05}}))), (24, ({'layer_1_size': 32, 'layer_2_size': 32, 'layer_3_size': 64, 'dropout': 0.14507696150884894, 'batch_size': 128, 'learning_rate': 0.003847365757619393}, ({'ptl/model_params': np.float64(28937.02663647696), 'ptl/val_accuracy': np.float64(0.9498620696508727)}, {'ptl/model_params': {'ptl/model_params': 1981.7756666757844, 'ptl/val_accuracy': 0.0}, 'ptl/val_accuracy': {'ptl/model_params': 0.0, 'ptl/val_accuracy': 4.3573459001461335e-05}}))), (3, ({'layer_1_size': 16, 'layer_2_size': 32, 'layer_3_size': 128, 'dropout': 0.17320798765867948, 'batch_size': 64, 'learning_rate': 0.0012733588683366472}, ({'ptl/model_params': np.float64(18619.418137444023), 'ptl/val_accuracy': np.float64(0.9413591806255616)}, {'ptl/model_params': {'ptl/model_params': 2894.0890952106056, 'ptl/val_accuracy': 0.0}, 'ptl/val_accuracy': {'ptl/model_params': 0.0, 'ptl/val_accuracy': 0.00010694849884622353}}))), (20, ({'layer_1_size': 16, 'layer_2_size': 32, 'layer_3_size': 64, 'dropout': 0.19701619076099552, 'batch_size': 64, 'learning_rate': 0.0018515355396704614}, ({'ptl/model_params': np.float64(15864.058394635145), 'ptl/val_accuracy': np.float64(0.9273326505915799)}, {'ptl/model_params': {'ptl/model_params': 2245.8124106419277, 'ptl/val_accuracy': 0.0}, 'ptl/val_accuracy': {'ptl/model_params': 0.0, 'ptl/val_accuracy': 5.648532410373203e-05}})))])\n",
      "Hypervolume: 5057.251956786476\n",
      "Experiment: 0494846591ed4f0ba02c1115aeba0746, Best accuracy trial config: {'config/layer_1_size': 32, 'config/layer_2_size': 32, 'config/layer_3_size': 128, 'config/dropout': 0.1365792084485292, 'config/batch_size': 128, 'config/learning_rate': 0.0050101038143973}\n",
      "/home/sn666/large-scale-data-processing/miniproject/final_results/54fe6b2e30c74ca1be8d22332b064803/tuning_results_df.csv\n",
      "Args for experiment: {'num_samples': 25, 'max_num_epochs': 8, 'num_gpus': None, 'objective_1': 'ptl/val_accuracy', 'objective_1_type': 'max', 'objective_1_threshold': 0.9, 'objective_2': 'ptl/val_loss', 'objective_2_type': 'min', 'objective_2_threshold': 0.5, 'objective_3': None, 'objective_3_type': None, 'objective_3_threshold': None, 'max_concurrent': 10, 'use_scheduler': True, 'scheduler_strategy': 'eps_net', 'scheduler_max_t': 8, 'scheduler_grace_period': 2, 'scheduler_reduction_factor': 6, 'accelerator': 'gpu', 'use_scaling_config': True, 'data_path': '/home/sn666/large-scale-data-processing/miniproject/data', 'remark': '8e/moasha-epsnet/maxt8gr2red6/maxaccminloss', 'results_folder': 'final_results'}\n",
      "Experiment: 1dec9f6b115f408f8538c45981971da0, Total time: 8.92611137231191\n",
      "Experiment: 1dec9f6b115f408f8538c45981971da0, Best accuracy: 0.9576903581619264\n",
      "Experiment: 1dec9f6b115f408f8538c45981971da0, Best loss: 0.1402512192726135\n"
     ]
    },
    {
     "name": "stderr",
     "output_type": "stream",
     "text": [
      "/home/sn666/.conda/envs/lsdp/lib/python3.11/site-packages/ax/storage/json_store/decoder.py:303: AxParameterWarning: `sort_values` is not specified for `ChoiceParameter` \"layer_1_size\". Defaulting to `True` for parameters of `ParameterType` INT. To override this behavior (or avoid this warning), specify `sort_values` during `ChoiceParameter` construction.\n",
      "  return _class(\n",
      "/home/sn666/.conda/envs/lsdp/lib/python3.11/site-packages/ax/storage/json_store/decoder.py:303: AxParameterWarning: `sort_values` is not specified for `ChoiceParameter` \"layer_2_size\". Defaulting to `True` for parameters of `ParameterType` INT. To override this behavior (or avoid this warning), specify `sort_values` during `ChoiceParameter` construction.\n",
      "  return _class(\n",
      "/home/sn666/.conda/envs/lsdp/lib/python3.11/site-packages/ax/storage/json_store/decoder.py:303: AxParameterWarning: `sort_values` is not specified for `ChoiceParameter` \"layer_3_size\". Defaulting to `True` for parameters of `ParameterType` INT. To override this behavior (or avoid this warning), specify `sort_values` during `ChoiceParameter` construction.\n",
      "  return _class(\n",
      "/home/sn666/.conda/envs/lsdp/lib/python3.11/site-packages/ax/storage/json_store/decoder.py:303: AxParameterWarning: `sort_values` is not specified for `ChoiceParameter` \"batch_size\". Defaulting to `True` for parameters of `ParameterType` INT. To override this behavior (or avoid this warning), specify `sort_values` during `ChoiceParameter` construction.\n",
      "  return _class(\n"
     ]
    },
    {
     "name": "stdout",
     "output_type": "stream",
     "text": [
      "1 points: OrderedDict([(14, ({'layer_1_size': 32, 'layer_2_size': 64, 'layer_3_size': 128, 'dropout': 0.12276644388045341, 'batch_size': 64, 'learning_rate': 0.0020811463202035597}, ({'ptl/val_accuracy': np.float64(0.9526570827754232), 'ptl/val_loss': np.float64(0.1488865134450113)}, {'ptl/val_accuracy': {'ptl/val_accuracy': 2.1641183986332495e-05, 'ptl/val_loss': 0.0}, 'ptl/val_loss': {'ptl/val_accuracy': 0.0, 'ptl/val_loss': 0.0002505443700168333}})))])\n",
      "Hypervolume: 0.018068896702381647\n",
      "Experiment: 1dec9f6b115f408f8538c45981971da0, Best accuracy trial config: {'config/layer_1_size': 32, 'config/layer_2_size': 32, 'config/layer_3_size': 128, 'config/dropout': 0.1832830986008048, 'config/batch_size': 64, 'config/learning_rate': 0.0017525716958184}\n"
     ]
    }
   ],
   "source": [
    "from ax.service.ax_client import AxClient\n",
    "\n",
    "for experiment in sorted_relevant_experiments:\n",
    "    print(os.path.join(results_path, \"54fe6b2e30c74ca1be8d22332b064803\", \"tuning_results_df.csv\"))\n",
    "    results_df = pd.read_csv(os.path.join(results_path, experiment, \"tuning_results_df.csv\"))\n",
    "    total_time = results_df['time_total_s'].sum()\n",
    "    # read the args.json file\n",
    "    with open(os.path.join(results_path, experiment, \"args.json\"), \"r\") as f:\n",
    "        args = json.load(f)\n",
    "    print(f\"Args for experiment: {args}\")\n",
    "    print(f\"Experiment: {experiment}, Total time: {total_time / 60}\")\n",
    "    print(f\"Experiment: {experiment}, Best accuracy: {results_df['ptl/val_accuracy'].max()}\")\n",
    "    print(f\"Experiment: {experiment}, Best loss: {results_df['ptl/val_loss'].min()}\")\n",
    "    \n",
    "    # load the ax_client\n",
    "    ax_client = AxClient.load_from_json_file(os.path.join(results_path, experiment, \"ax_client.json\"), verbose_logging=False)\n",
    "    print(f\"{len(ax_client.get_pareto_optimal_parameters())} points: {ax_client.get_pareto_optimal_parameters()}\")\n",
    "    print(f\"Hypervolume: {ax_client.get_hypervolume()}\")\n",
    "    \n",
    "    # print config of trial with best accuracy, print only keys that start with config/\n",
    "    best_acc_trial = results_df.loc[results_df['ptl/val_accuracy'].idxmax()]\n",
    "    config = best_acc_trial.filter(like='config/', axis=0)\n",
    "    print(f\"Experiment: {experiment}, Best accuracy trial config: {config.to_dict()}\")"
   ]
  },
  {
   "cell_type": "code",
   "execution_count": 6,
   "metadata": {},
   "outputs": [
    {
     "data": {
      "text/plain": [
       "{'maxaccminlossminparam': '7e8b8fd6db924b6d96d2dbd49ac66243',\n",
       " 'maxaccminparam': '948b5cdabbef4306b36134190bb536e2',\n",
       " 'micaccminloss': '7d7908df79254cbc8f2f2d857e48e102',\n",
       " 'minlossminparam': 'bc6ae72975ca43fab99bf51223d47746'}"
      ]
     },
     "execution_count": 6,
     "metadata": {},
     "output_type": "execute_result"
    }
   ],
   "source": [
    "relevant_experiments"
   ]
  },
  {
   "cell_type": "code",
   "execution_count": 12,
   "metadata": {},
   "outputs": [],
   "source": [
    "exp_path = \"/home/sn666/large-scale-data-processing/miniproject/results/fa0fc67004954505a672abce243651f5/tuning_results_df.csv\"\n",
    "\n",
    "df = pd.read_csv(exp_path)"
   ]
  },
  {
   "cell_type": "code",
   "execution_count": 13,
   "metadata": {},
   "outputs": [
    {
     "data": {
      "text/plain": [
       "Index(['Unnamed: 0', 'ptl/train_loss', 'ptl/train_accuracy', 'ptl/val_loss',\n",
       "       'ptl/val_accuracy', 'ptl/model_params', 'epoch', 'step', 'timestamp',\n",
       "       'checkpoint_dir_name', 'should_checkpoint', 'done',\n",
       "       'training_iteration', 'trial_id', 'date', 'time_this_iter_s',\n",
       "       'time_total_s', 'pid', 'hostname', 'node_ip', 'time_since_restore',\n",
       "       'iterations_since_restore', 'config/layer_1_size',\n",
       "       'config/layer_2_size', 'config/layer_3_size', 'config/dropout',\n",
       "       'config/batch_size', 'config/learning_rate', 'logdir'],\n",
       "      dtype='object')"
      ]
     },
     "execution_count": 13,
     "metadata": {},
     "output_type": "execute_result"
    }
   ],
   "source": [
    "df.columns"
   ]
  },
  {
   "cell_type": "code",
   "execution_count": 14,
   "metadata": {},
   "outputs": [
    {
     "data": {
      "text/plain": [
       "0       1.612234\n",
       "1       2.416968\n",
       "2       2.567759\n",
       "3       1.692087\n",
       "4       2.044811\n",
       "5      12.477144\n",
       "6       2.981579\n",
       "7      12.379710\n",
       "8      13.863917\n",
       "9      12.286338\n",
       "10     12.264361\n",
       "11    108.054820\n",
       "12      1.463883\n",
       "13      1.454283\n",
       "14     76.343006\n",
       "15     81.416552\n",
       "16    103.267424\n",
       "17     95.734978\n",
       "18    108.520681\n",
       "19      2.095678\n",
       "20    112.857211\n",
       "21      1.496494\n",
       "22     98.935167\n",
       "23     80.788909\n",
       "24      2.159046\n",
       "Name: time_this_iter_s, dtype: float64"
      ]
     },
     "execution_count": 14,
     "metadata": {},
     "output_type": "execute_result"
    }
   ],
   "source": [
    "df['time_this_iter_s']"
   ]
  },
  {
   "cell_type": "code",
   "execution_count": 15,
   "metadata": {},
   "outputs": [
    {
     "data": {
      "text/plain": [
       "np.float64(24.657567210992177)"
      ]
     },
     "execution_count": 15,
     "metadata": {},
     "output_type": "execute_result"
    }
   ],
   "source": [
    "df['time_total_s'].sum() / 60"
   ]
  },
  {
   "cell_type": "code",
   "execution_count": 9,
   "metadata": {},
   "outputs": [
    {
     "data": {
      "text/plain": [
       "np.float64(948.2891850471497)"
      ]
     },
     "execution_count": 9,
     "metadata": {},
     "output_type": "execute_result"
    }
   ],
   "source": [
    "df = pd.read_csv(\"/home/sn666/large-scale-data-processing/miniproject/results/fc3d8e4087824bcf971373218e293bed/tuning_results_df.csv\")\n",
    "df[\"time_this_iter_s\"].sum()"
   ]
  },
  {
   "cell_type": "code",
   "execution_count": 10,
   "metadata": {},
   "outputs": [
    {
     "data": {
      "text/plain": [
       "np.float64(1371.190170764923)"
      ]
     },
     "execution_count": 10,
     "metadata": {},
     "output_type": "execute_result"
    }
   ],
   "source": [
    "df[\"time_total_s\"].sum()"
   ]
  },
  {
   "cell_type": "code",
   "execution_count": 17,
   "metadata": {},
   "outputs": [
    {
     "data": {
      "text/plain": [
       "np.float64(30.636387499173484)"
      ]
     },
     "execution_count": 17,
     "metadata": {},
     "output_type": "execute_result"
    }
   ],
   "source": [
    "df2 = pd.read_csv(\"/home/sn666/large-scale-data-processing/miniproject/results/bc6ae72975ca43fab99bf51223d47746/tuning_results_df.csv\")\n",
    "\n",
    "df2[\"time_total_s\"].sum() / 60"
   ]
  },
  {
   "cell_type": "code",
   "execution_count": null,
   "metadata": {},
   "outputs": [],
   "source": []
  }
 ],
 "metadata": {
  "kernelspec": {
   "display_name": "lsdp",
   "language": "python",
   "name": "python3"
  },
  "language_info": {
   "codemirror_mode": {
    "name": "ipython",
    "version": 3
   },
   "file_extension": ".py",
   "mimetype": "text/x-python",
   "name": "python",
   "nbconvert_exporter": "python",
   "pygments_lexer": "ipython3",
   "version": "3.11.11"
  }
 },
 "nbformat": 4,
 "nbformat_minor": 2
}
